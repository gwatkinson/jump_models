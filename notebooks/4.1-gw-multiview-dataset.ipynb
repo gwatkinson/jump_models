{
 "cells": [
  {
   "cell_type": "markdown",
   "metadata": {},
   "source": [
    "# Developping the multiview dataset, datamodule, model and loss"
   ]
  },
  {
   "cell_type": "code",
   "execution_count": 1,
   "metadata": {},
   "outputs": [],
   "source": [
    "%load_ext autoreload\n",
    "%autoreload 2"
   ]
  },
  {
   "cell_type": "code",
   "execution_count": 2,
   "metadata": {},
   "outputs": [],
   "source": [
    "import json\n",
    "import os\n",
    "from pathlib import Path\n",
    "from typing import Any, Union\n",
    "\n",
    "import matplotlib.pyplot as plt\n",
    "import pandas as pd\n",
    "import seaborn as sns\n",
    "import torch\n",
    "import torch.nn.functional as F\n",
    "import torch_geometric.utils as pyg_utils\n",
    "from dgl import DropNode, FeatMask, LaplacianPE, SIGNDiffusion\n",
    "from hydra import compose, initialize\n",
    "from hydra.core.global_hydra import GlobalHydra\n",
    "from hydra.utils import instantiate\n",
    "from omegaconf import DictConfig, OmegaConf, open_dict\n",
    "from torch import nn\n",
    "from torch.distributions import MultivariateNormal\n",
    "from torch.utils.data import DataLoader, Dataset\n",
    "from torch_geometric.data import Data\n",
    "\n",
    "from src.models.multiview_cl.datamodule import MultiviewDataModule\n",
    "from src.models.multiview_cl.dataset import MultiviewDataset\n",
    "from src.models.multiview_cl.module import MultiviewModule\n",
    "from src.modules.losses.multiview_losses import KLDivergenceMultiplePositives, NTXentMultiplePositives"
   ]
  },
  {
   "cell_type": "code",
   "execution_count": 3,
   "metadata": {},
   "outputs": [
    {
     "name": "stdout",
     "output_type": "stream",
     "text": [
      "cpjump1 already mounted.\n",
      "cpjump2 already mounted.\n",
      "cpjump3 already mounted.\n"
     ]
    }
   ],
   "source": [
    "for i in range(1, 4):\n",
    "    if not Path(f\"../cpjump{i}/jump/\").exists():\n",
    "        print(f\"Mounting cpjump{i}...\")\n",
    "        os.system(f\"sshfs bioclust:/projects/cpjump{i}/ ../cpjump{i}\")\n",
    "    else:\n",
    "        print(f\"cpjump{i} already mounted.\")"
   ]
  },
  {
   "cell_type": "markdown",
   "metadata": {},
   "source": [
    "## Check configs"
   ]
  },
  {
   "cell_type": "code",
   "execution_count": 4,
   "metadata": {},
   "outputs": [],
   "source": [
    "# GlobalHydra.instance().clear()"
   ]
  },
  {
   "cell_type": "code",
   "execution_count": 4,
   "metadata": {},
   "outputs": [
    {
     "data": {
      "text/plain": [
       "hydra.initialize()"
      ]
     },
     "execution_count": 4,
     "metadata": {},
     "output_type": "execute_result"
    }
   ],
   "source": [
    "initialize(version_base=None, config_path=\"../configs\")"
   ]
  },
  {
   "cell_type": "code",
   "execution_count": 5,
   "metadata": {},
   "outputs": [
    {
     "name": "stdout",
     "output_type": "stream",
     "text": [
      "task_name: train\n",
      "tags:\n",
      "- final_experiments\n",
      "- pretrained\n",
      "- loss_experiments\n",
      "- multiple_view\n",
      "- med_data\n",
      "- resnet34\n",
      "- pna\n",
      "- multiview_ntxent\n",
      "train: true\n",
      "load_first_bacth: true\n",
      "test: true\n",
      "evaluate: false\n",
      "compile: false\n",
      "ckpt_path: null\n",
      "seed: 12345\n",
      "data:\n",
      "  compound_transform:\n",
      "    _target_: src.modules.compound_transforms.pna.PNATransform\n",
      "    compound_str_type: inchi\n",
      "  transform:\n",
      "    _target_: src.modules.transforms.ComplexTransform\n",
      "    _convert_: object\n",
      "    size: 512\n",
      "    flip_p: 0.3\n",
      "    drop_p: 0.15\n",
      "    gaussian_p: 0.8\n",
      "    color_p: 0.8\n",
      "    kernel_size: 23\n",
      "    sigma:\n",
      "    - 1\n",
      "    - 3\n",
      "    intensity: 0.3\n",
      "    brightness: 0.2\n",
      "    use_flip: true\n",
      "    use_blur: false\n",
      "    use_color_jitter: true\n",
      "    use_drop: true\n",
      "    use_resized_crop: true\n",
      "  _target_: src.models.multiview_cl.datamodule.MultiviewDataModule\n",
      "  split_path: ${paths.split_path}/scaffold_split/\n",
      "  train_ids_name: train_med\n",
      "  n_views: 3\n",
      "  batch_size: 4\n",
      "  num_workers: 16\n",
      "  pin_memory: null\n",
      "  prefetch_factor: 2\n",
      "  drop_last: true\n",
      "  collate_fn: null\n",
      "  dataloader_config:\n",
      "    train:\n",
      "      batch_size: ${data.batch_size}\n",
      "      num_workers: ${data.num_workers}\n",
      "      pin_memory: ${data.pin_memory}\n",
      "      prefetch_factor: ${data.prefetch_factor}\n",
      "      drop_last: ${data.drop_last}\n",
      "      shuffle: true\n",
      "    val:\n",
      "      batch_size: ${data.batch_size}\n",
      "      num_workers: ${data.num_workers}\n",
      "      pin_memory: ${data.pin_memory}\n",
      "      prefetch_factor: ${data.prefetch_factor}\n",
      "      drop_last: false\n",
      "      shuffle: false\n",
      "    test:\n",
      "      batch_size: 100\n",
      "      num_workers: ${data.num_workers}\n",
      "      pin_memory: ${data.pin_memory}\n",
      "      prefetch_factor: ${data.prefetch_factor}\n",
      "      drop_last: false\n",
      "      shuffle: false\n",
      "  data_root_dir: ${paths.projects_dir}/\n",
      "  channels:\n",
      "  - DNA\n",
      "  - AGP\n",
      "  - ER\n",
      "  - Mito\n",
      "  - RNA\n",
      "  col_fstring: FileName_Orig{channel}\n",
      "  splitter:\n",
      "    train: 32768\n",
      "    test: 8192\n",
      "    val: 4096\n",
      "    retrieval: 4096\n",
      "model:\n",
      "  image_encoder:\n",
      "    _target_: src.modules.images.timm_pretrained.CNNEncoder\n",
      "    instance_model_name: resnet34\n",
      "    n_channels: 5\n",
      "    pretrained: true\n",
      "    dropout: 0.2\n",
      "  molecule_encoder:\n",
      "    _target_: src.modules.molecules.pna.PNA\n",
      "    ckpt_path: ${paths.projects_dir}/cpjump1/jump/s3_cache/best_checkpoint_35epochs.pt\n",
      "    target_dim: 256\n",
      "    hidden_dim: 200\n",
      "    mid_batch_norm: true\n",
      "    last_batch_norm: true\n",
      "    readout_batchnorm: true\n",
      "    batch_norm_momentum: 0.93\n",
      "    readout_hidden_dim: 200\n",
      "    readout_layers: 2\n",
      "    dropout: 0.2\n",
      "    propagation_depth: 7\n",
      "    aggregators:\n",
      "    - mean\n",
      "    - max\n",
      "    - min\n",
      "    - std\n",
      "    scalers:\n",
      "    - identity\n",
      "    - amplification\n",
      "    - attenuation\n",
      "    readout_aggregators:\n",
      "    - min\n",
      "    - max\n",
      "    - mean\n",
      "    pretrans_layers: 2\n",
      "    posttrans_layers: 1\n",
      "    residual: true\n",
      "  criterion:\n",
      "    _target_: src.modules.losses.multiview_losses.NTXentMultiplePositives\n",
      "    norm: true\n",
      "    temperature: 0.1\n",
      "    return_rank: true\n",
      "    temperature_requires_grad: false\n",
      "    temperature_min: 0\n",
      "    temperature_max: 100\n",
      "  optimizer:\n",
      "    _target_: torch.optim.AdamW\n",
      "    _partial_: true\n",
      "    betas:\n",
      "    - 0.9\n",
      "    - 0.999\n",
      "    eps: 1.0e-08\n",
      "    weight_decay: 0.01\n",
      "    amsgrad: false\n",
      "    lr: ${model.lr}\n",
      "  scheduler:\n",
      "    _target_: src.modules.lr_schedulers.cosine_lr.LinearWarmupCosineAnnealingLR\n",
      "    _partial_: true\n",
      "    warmup_epochs: 10\n",
      "    max_epochs: ${trainer.max_epochs}\n",
      "    warmup_start_lr: 1.0e-06\n",
      "    eta_min: 0.0\n",
      "    last_epoch: -1\n",
      "  _target_: src.models.multiview_cl.module.MultiviewModule\n",
      "  embedding_dim: 1024\n",
      "  lr: 0.0003\n",
      "  batch_size: ${data.batch_size}\n",
      "  dropout: 0.1\n",
      "  example_input_path: null\n",
      "  monitor: val/loss\n",
      "  interval: epoch\n",
      "  frequency: 1\n",
      "callbacks:\n",
      "  rich_progress_bar:\n",
      "    _target_: lightning.pytorch.callbacks.RichProgressBar\n",
      "  model_summary:\n",
      "    _target_: lightning.pytorch.callbacks.RichModelSummary\n",
      "    max_depth: 2\n",
      "  model_checkpoint:\n",
      "    _target_: lightning.pytorch.callbacks.ModelCheckpoint\n",
      "    dirpath: ${paths.output_dir}/checkpoints\n",
      "    filename: epoch_{epoch:03d}\n",
      "    monitor: val/loss\n",
      "    verbose: false\n",
      "    save_last: true\n",
      "    save_top_k: 1\n",
      "    mode: min\n",
      "    auto_insert_metric_name: false\n",
      "    save_weights_only: false\n",
      "    every_n_train_steps: null\n",
      "    train_time_interval: null\n",
      "    every_n_epochs: null\n",
      "    save_on_train_epoch_end: null\n",
      "  early_stopping:\n",
      "    _target_: lightning.pytorch.callbacks.EarlyStopping\n",
      "    monitor: val/loss\n",
      "    min_delta: 0\n",
      "    patience: 10\n",
      "    verbose: false\n",
      "    mode: min\n",
      "    strict: true\n",
      "    check_finite: true\n",
      "    stopping_threshold: null\n",
      "    divergence_threshold: null\n",
      "    check_on_train_epoch_end: null\n",
      "  timer:\n",
      "    _target_: lightning.pytorch.callbacks.Timer\n",
      "    duration: 02:00:00:00\n",
      "    interval: epoch\n",
      "    verbose: true\n",
      "  nan_loss:\n",
      "    _target_: src.callbacks.nan_loss.NaNLossCallback\n",
      "  wandb_watcher:\n",
      "    _target_: src.callbacks.wandb.WandbTrainingCallback\n",
      "    watch: true\n",
      "    watch_log: all\n",
      "    log_freq: 100\n",
      "    log_graph: false\n",
      "  temperature_logger:\n",
      "    _target_: src.callbacks.temperature_log.TemperatureLoggingCallback\n",
      "    attribute_name:\n",
      "    - criterion\n",
      "    - temperature\n",
      "    key: model/temperature\n",
      "    interval: step\n",
      "    frequency: 1\n",
      "  lr_monitor:\n",
      "    _target_: lightning.pytorch.callbacks.LearningRateMonitor\n",
      "    logging_interval: null\n",
      "    log_momentum: false\n",
      "logger:\n",
      "  wandb:\n",
      "    _target_: lightning.pytorch.loggers.wandb.WandbLogger\n",
      "    save_dir: ${paths.output_dir}\n",
      "    offline: false\n",
      "    id: null\n",
      "    anonymous: null\n",
      "    project: final_experiments\n",
      "    log_model: true\n",
      "    prefix: ''\n",
      "    group: loss_experiment\n",
      "    tags: ${tags}\n",
      "    job_type: pretrain\n",
      "    name: med_multiview_transform_dropout\n",
      "trainer:\n",
      "  _target_: lightning.pytorch.trainer.Trainer\n",
      "  default_root_dir: ${paths.output_dir}\n",
      "  min_epochs: 0\n",
      "  max_epochs: 100\n",
      "  accelerator: gpu\n",
      "  detect_anomaly: true\n",
      "  devices: 1\n",
      "  check_val_every_n_epoch: 1\n",
      "  deterministic: false\n",
      "  log_every_n_steps: 1\n",
      "  num_sanity_val_steps: 1\n",
      "paths:\n",
      "  root_dir: ${oc.env:PROJECT_ROOT}\n",
      "  projects_dir: ..\n",
      "  data_root_dir: ${paths.projects_dir}/cpjump1\n",
      "  metadata_path: ${paths.data_root_dir}/jump/models/metadata\n",
      "  raw_metadata_path: ${paths.data_root_dir}/jump/metadata\n",
      "  load_data_path: ${paths.data_root_dir}/jump/load_data\n",
      "  model_dir: ${paths.data_root_dir}/jump/s3_cache\n",
      "  split_path: ${paths.data_root_dir}/jump/models/splits\n",
      "  log_dir: ${paths.data_root_dir}/jump/logs\n",
      "  output_dir: ./tmp/21312FS12A\n",
      "  work_dir: ${hydra:runtime.cwd}\n",
      "extras:\n",
      "  ignore_warnings: true\n",
      "  style: dim\n",
      "  enforce_tags: true\n",
      "  print_config: true\n",
      "eval: {}\n",
      "\n"
     ]
    }
   ],
   "source": [
    "cfg = compose(\n",
    "    config_name=\"train.yaml\",\n",
    "    overrides=[\n",
    "        \"evaluate=false\",\n",
    "        \"eval=none\",\n",
    "        \"paths.projects_dir=..\",\n",
    "        \"paths.output_dir=./tmp/21312FS12A\",\n",
    "        \"experiment=final/loss_experiments/multiview_transform_dropout\",\n",
    "        \"data.batch_size=4\",\n",
    "        \"trainer.devices=1\",\n",
    "    ],\n",
    ")\n",
    "print(OmegaConf.to_yaml(cfg))"
   ]
  },
  {
   "cell_type": "code",
   "execution_count": 6,
   "metadata": {},
   "outputs": [
    {
     "name": "stderr",
     "output_type": "stream",
     "text": [
      "/home/gwatk/miniconda3/envs/jump_models/lib/python3.10/site-packages/torchvision/datapoints/__init__.py:12: UserWarning: The torchvision.datapoints and torchvision.transforms.v2 namespaces are still Beta. While we do not expect major breaking changes, some APIs may still change according to user feedback. Please submit any feedback you may have in this issue: https://github.com/pytorch/vision/issues/6753, and you can also check out https://github.com/pytorch/vision/issues/7319 to learn more about the APIs that we suspect might involve future changes. You can silence this warning by calling torchvision.disable_beta_transforms_warning().\n",
      "  warnings.warn(_BETA_TRANSFORMS_WARNING)\n",
      "/home/gwatk/miniconda3/envs/jump_models/lib/python3.10/site-packages/torchvision/transforms/v2/__init__.py:54: UserWarning: The torchvision.datapoints and torchvision.transforms.v2 namespaces are still Beta. While we do not expect major breaking changes, some APIs may still change according to user feedback. Please submit any feedback you may have in this issue: https://github.com/pytorch/vision/issues/6753, and you can also check out https://github.com/pytorch/vision/issues/7319 to learn more about the APIs that we suspect might involve future changes. You can silence this warning by calling torchvision.disable_beta_transforms_warning().\n",
      "  warnings.warn(_BETA_TRANSFORMS_WARNING)\n"
     ]
    }
   ],
   "source": [
    "dm = instantiate(cfg.data)"
   ]
  },
  {
   "cell_type": "code",
   "execution_count": 7,
   "metadata": {},
   "outputs": [],
   "source": [
    "dm.setup(\"fit\")"
   ]
  },
  {
   "cell_type": "code",
   "execution_count": 8,
   "metadata": {},
   "outputs": [],
   "source": [
    "dl = dm.train_dataloader()\n",
    "b = next(iter(dl))"
   ]
  },
  {
   "cell_type": "code",
   "execution_count": 30,
   "metadata": {},
   "outputs": [
    {
     "data": {
      "text/plain": [
       "torch.Size([12, 3, 5, 512, 512])"
      ]
     },
     "execution_count": 30,
     "metadata": {},
     "output_type": "execute_result"
    }
   ],
   "source": [
    "b[\"image\"].shape"
   ]
  },
  {
   "cell_type": "code",
   "execution_count": 36,
   "metadata": {},
   "outputs": [
    {
     "data": {
      "text/plain": [
       "Graph(num_nodes=252, num_edges=532,\n",
       "      ndata_schemes={'feat': Scheme(shape=(9,), dtype=torch.int64)}\n",
       "      edata_schemes={'feat': Scheme(shape=(3,), dtype=torch.int64)})"
      ]
     },
     "execution_count": 36,
     "metadata": {},
     "output_type": "execute_result"
    }
   ],
   "source": [
    "b[\"compound\"]"
   ]
  },
  {
   "cell_type": "code",
   "execution_count": 32,
   "metadata": {},
   "outputs": [],
   "source": [
    "cp_tr = instantiate(cfg.data.compound_transform)"
   ]
  },
  {
   "cell_type": "code",
   "execution_count": 33,
   "metadata": {},
   "outputs": [],
   "source": [
    "i_tr = instantiate(cfg.data.transform)"
   ]
  },
  {
   "cell_type": "code",
   "execution_count": 11,
   "metadata": {},
   "outputs": [],
   "source": [
    "model = instantiate(cfg.model)"
   ]
  },
  {
   "cell_type": "markdown",
   "metadata": {},
   "source": [
    "## Dataset"
   ]
  },
  {
   "cell_type": "code",
   "execution_count": 15,
   "metadata": {},
   "outputs": [],
   "source": [
    "metadata_dir = \"../cpjump1/jump/metadata\"\n",
    "load_data_dir = \"../cpjump1/jump/load_data\"\n",
    "split_dir = \"../cpjump1/jump/models/splits/scaffold_split\""
   ]
  },
  {
   "cell_type": "code",
   "execution_count": 16,
   "metadata": {},
   "outputs": [
    {
     "data": {
      "text/plain": [
       "['total_train.csv',\n",
       " 'test.csv',\n",
       " 'val.csv',\n",
       " 'retrieval.csv',\n",
       " 'train_med.csv',\n",
       " 'train_med_compound_dict.json',\n",
       " 'train_med_load_df.parquet',\n",
       " 'val_compound_dict.json',\n",
       " 'val_load_df.parquet',\n",
       " 'test_compound_dict.json',\n",
       " 'test_load_df.parquet',\n",
       " 'train_big.csv',\n",
       " 'train_big_compound_dict.json',\n",
       " 'train_big_load_df.parquet',\n",
       " 'retrieval_compound_dict.json',\n",
       " 'retrieval_load_df.parquet',\n",
       " 'train_small.csv',\n",
       " 'train_small_compound_dict.json',\n",
       " 'train_small_load_df.parquet']"
      ]
     },
     "execution_count": 16,
     "metadata": {},
     "output_type": "execute_result"
    }
   ],
   "source": [
    "os.listdir(split_dir)"
   ]
  },
  {
   "cell_type": "code",
   "execution_count": 17,
   "metadata": {},
   "outputs": [],
   "source": [
    "with open(f\"{split_dir}/train_small_compound_dict.json\") as f:\n",
    "    comp = json.load(f)"
   ]
  },
  {
   "cell_type": "code",
   "execution_count": 18,
   "metadata": {},
   "outputs": [],
   "source": [
    "load_df = pd.read_parquet(f\"{split_dir}/train_small_load_df.parquet\")"
   ]
  },
  {
   "cell_type": "code",
   "execution_count": 19,
   "metadata": {},
   "outputs": [
    {
     "data": {
      "text/html": [
       "<div>\n",
       "<style scoped>\n",
       "    .dataframe tbody tr th:only-of-type {\n",
       "        vertical-align: middle;\n",
       "    }\n",
       "\n",
       "    .dataframe tbody tr th {\n",
       "        vertical-align: top;\n",
       "    }\n",
       "\n",
       "    .dataframe thead th {\n",
       "        text-align: right;\n",
       "    }\n",
       "</style>\n",
       "<table border=\"1\" class=\"dataframe\">\n",
       "  <thead>\n",
       "    <tr style=\"text-align: right;\">\n",
       "      <th></th>\n",
       "      <th>Metadata_Source</th>\n",
       "      <th>Metadata_Batch</th>\n",
       "      <th>Metadata_Plate</th>\n",
       "      <th>Metadata_Well</th>\n",
       "      <th>FileName_OrigDNA</th>\n",
       "      <th>FileName_OrigAGP</th>\n",
       "      <th>FileName_OrigER</th>\n",
       "      <th>FileName_OrigMito</th>\n",
       "      <th>FileName_OrigRNA</th>\n",
       "      <th>Metadata_InChI</th>\n",
       "      <th>Metadata_PlateType</th>\n",
       "      <th>Metadata_Site</th>\n",
       "    </tr>\n",
       "    <tr>\n",
       "      <th>index</th>\n",
       "      <th></th>\n",
       "      <th></th>\n",
       "      <th></th>\n",
       "      <th></th>\n",
       "      <th></th>\n",
       "      <th></th>\n",
       "      <th></th>\n",
       "      <th></th>\n",
       "      <th></th>\n",
       "      <th></th>\n",
       "      <th></th>\n",
       "      <th></th>\n",
       "    </tr>\n",
       "  </thead>\n",
       "  <tbody>\n",
       "    <tr>\n",
       "      <th>source_2__20210823_Batch_10__1086292068__L18__1</th>\n",
       "      <td>source_2</td>\n",
       "      <td>20210823_Batch_10</td>\n",
       "      <td>1086292068</td>\n",
       "      <td>L18</td>\n",
       "      <td>/projects/cpjump3/jump/images/source_2/2021082...</td>\n",
       "      <td>/projects/cpjump3/jump/images/source_2/2021082...</td>\n",
       "      <td>/projects/cpjump3/jump/images/source_2/2021082...</td>\n",
       "      <td>/projects/cpjump3/jump/images/source_2/2021082...</td>\n",
       "      <td>/projects/cpjump3/jump/images/source_2/2021082...</td>\n",
       "      <td>InChI=1S/3Na.V/q;;;+8</td>\n",
       "      <td>COMPOUND</td>\n",
       "      <td>1</td>\n",
       "    </tr>\n",
       "    <tr>\n",
       "      <th>source_2__20210823_Batch_10__1086292068__L18__2</th>\n",
       "      <td>source_2</td>\n",
       "      <td>20210823_Batch_10</td>\n",
       "      <td>1086292068</td>\n",
       "      <td>L18</td>\n",
       "      <td>/projects/cpjump3/jump/images/source_2/2021082...</td>\n",
       "      <td>/projects/cpjump3/jump/images/source_2/2021082...</td>\n",
       "      <td>/projects/cpjump3/jump/images/source_2/2021082...</td>\n",
       "      <td>/projects/cpjump3/jump/images/source_2/2021082...</td>\n",
       "      <td>/projects/cpjump3/jump/images/source_2/2021082...</td>\n",
       "      <td>InChI=1S/3Na.V/q;;;+8</td>\n",
       "      <td>COMPOUND</td>\n",
       "      <td>2</td>\n",
       "    </tr>\n",
       "    <tr>\n",
       "      <th>source_2__20210823_Batch_10__1086292068__L18__3</th>\n",
       "      <td>source_2</td>\n",
       "      <td>20210823_Batch_10</td>\n",
       "      <td>1086292068</td>\n",
       "      <td>L18</td>\n",
       "      <td>/projects/cpjump3/jump/images/source_2/2021082...</td>\n",
       "      <td>/projects/cpjump3/jump/images/source_2/2021082...</td>\n",
       "      <td>/projects/cpjump3/jump/images/source_2/2021082...</td>\n",
       "      <td>/projects/cpjump3/jump/images/source_2/2021082...</td>\n",
       "      <td>/projects/cpjump3/jump/images/source_2/2021082...</td>\n",
       "      <td>InChI=1S/3Na.V/q;;;+8</td>\n",
       "      <td>COMPOUND</td>\n",
       "      <td>3</td>\n",
       "    </tr>\n",
       "    <tr>\n",
       "      <th>source_2__20210823_Batch_10__1086292068__L18__4</th>\n",
       "      <td>source_2</td>\n",
       "      <td>20210823_Batch_10</td>\n",
       "      <td>1086292068</td>\n",
       "      <td>L18</td>\n",
       "      <td>/projects/cpjump3/jump/images/source_2/2021082...</td>\n",
       "      <td>/projects/cpjump3/jump/images/source_2/2021082...</td>\n",
       "      <td>/projects/cpjump3/jump/images/source_2/2021082...</td>\n",
       "      <td>/projects/cpjump3/jump/images/source_2/2021082...</td>\n",
       "      <td>/projects/cpjump3/jump/images/source_2/2021082...</td>\n",
       "      <td>InChI=1S/3Na.V/q;;;+8</td>\n",
       "      <td>COMPOUND</td>\n",
       "      <td>4</td>\n",
       "    </tr>\n",
       "    <tr>\n",
       "      <th>source_2__20210823_Batch_10__1086292068__L18__5</th>\n",
       "      <td>source_2</td>\n",
       "      <td>20210823_Batch_10</td>\n",
       "      <td>1086292068</td>\n",
       "      <td>L18</td>\n",
       "      <td>/projects/cpjump3/jump/images/source_2/2021082...</td>\n",
       "      <td>/projects/cpjump3/jump/images/source_2/2021082...</td>\n",
       "      <td>/projects/cpjump3/jump/images/source_2/2021082...</td>\n",
       "      <td>/projects/cpjump3/jump/images/source_2/2021082...</td>\n",
       "      <td>/projects/cpjump3/jump/images/source_2/2021082...</td>\n",
       "      <td>InChI=1S/3Na.V/q;;;+8</td>\n",
       "      <td>COMPOUND</td>\n",
       "      <td>5</td>\n",
       "    </tr>\n",
       "    <tr>\n",
       "      <th>...</th>\n",
       "      <td>...</td>\n",
       "      <td>...</td>\n",
       "      <td>...</td>\n",
       "      <td>...</td>\n",
       "      <td>...</td>\n",
       "      <td>...</td>\n",
       "      <td>...</td>\n",
       "      <td>...</td>\n",
       "      <td>...</td>\n",
       "      <td>...</td>\n",
       "      <td>...</td>\n",
       "      <td>...</td>\n",
       "    </tr>\n",
       "    <tr>\n",
       "      <th>source_8__J3__A1170535__C07__3</th>\n",
       "      <td>source_8</td>\n",
       "      <td>J3</td>\n",
       "      <td>A1170535</td>\n",
       "      <td>C07</td>\n",
       "      <td>/projects/cpjump2/jump/images/source_8/J3/A117...</td>\n",
       "      <td>/projects/cpjump2/jump/images/source_8/J3/A117...</td>\n",
       "      <td>/projects/cpjump2/jump/images/source_8/J3/A117...</td>\n",
       "      <td>/projects/cpjump2/jump/images/source_8/J3/A117...</td>\n",
       "      <td>/projects/cpjump2/jump/images/source_8/J3/A117...</td>\n",
       "      <td>InChI=1S/Mo/q+6</td>\n",
       "      <td>COMPOUND</td>\n",
       "      <td>3</td>\n",
       "    </tr>\n",
       "    <tr>\n",
       "      <th>source_8__J3__A1170535__C07__4</th>\n",
       "      <td>source_8</td>\n",
       "      <td>J3</td>\n",
       "      <td>A1170535</td>\n",
       "      <td>C07</td>\n",
       "      <td>/projects/cpjump2/jump/images/source_8/J3/A117...</td>\n",
       "      <td>/projects/cpjump2/jump/images/source_8/J3/A117...</td>\n",
       "      <td>/projects/cpjump2/jump/images/source_8/J3/A117...</td>\n",
       "      <td>/projects/cpjump2/jump/images/source_8/J3/A117...</td>\n",
       "      <td>/projects/cpjump2/jump/images/source_8/J3/A117...</td>\n",
       "      <td>InChI=1S/Mo/q+6</td>\n",
       "      <td>COMPOUND</td>\n",
       "      <td>4</td>\n",
       "    </tr>\n",
       "    <tr>\n",
       "      <th>source_8__J3__A1170535__C07__5</th>\n",
       "      <td>source_8</td>\n",
       "      <td>J3</td>\n",
       "      <td>A1170535</td>\n",
       "      <td>C07</td>\n",
       "      <td>/projects/cpjump2/jump/images/source_8/J3/A117...</td>\n",
       "      <td>/projects/cpjump2/jump/images/source_8/J3/A117...</td>\n",
       "      <td>/projects/cpjump2/jump/images/source_8/J3/A117...</td>\n",
       "      <td>/projects/cpjump2/jump/images/source_8/J3/A117...</td>\n",
       "      <td>/projects/cpjump2/jump/images/source_8/J3/A117...</td>\n",
       "      <td>InChI=1S/Mo/q+6</td>\n",
       "      <td>COMPOUND</td>\n",
       "      <td>5</td>\n",
       "    </tr>\n",
       "    <tr>\n",
       "      <th>source_8__J3__A1170535__C07__6</th>\n",
       "      <td>source_8</td>\n",
       "      <td>J3</td>\n",
       "      <td>A1170535</td>\n",
       "      <td>C07</td>\n",
       "      <td>/projects/cpjump2/jump/images/source_8/J3/A117...</td>\n",
       "      <td>/projects/cpjump2/jump/images/source_8/J3/A117...</td>\n",
       "      <td>/projects/cpjump2/jump/images/source_8/J3/A117...</td>\n",
       "      <td>/projects/cpjump2/jump/images/source_8/J3/A117...</td>\n",
       "      <td>/projects/cpjump2/jump/images/source_8/J3/A117...</td>\n",
       "      <td>InChI=1S/Mo/q+6</td>\n",
       "      <td>COMPOUND</td>\n",
       "      <td>6</td>\n",
       "    </tr>\n",
       "    <tr>\n",
       "      <th>source_8__J3__A1170535__C07__9</th>\n",
       "      <td>source_8</td>\n",
       "      <td>J3</td>\n",
       "      <td>A1170535</td>\n",
       "      <td>C07</td>\n",
       "      <td>/projects/cpjump2/jump/images/source_8/J3/A117...</td>\n",
       "      <td>/projects/cpjump2/jump/images/source_8/J3/A117...</td>\n",
       "      <td>/projects/cpjump2/jump/images/source_8/J3/A117...</td>\n",
       "      <td>/projects/cpjump2/jump/images/source_8/J3/A117...</td>\n",
       "      <td>/projects/cpjump2/jump/images/source_8/J3/A117...</td>\n",
       "      <td>InChI=1S/Mo/q+6</td>\n",
       "      <td>COMPOUND</td>\n",
       "      <td>9</td>\n",
       "    </tr>\n",
       "  </tbody>\n",
       "</table>\n",
       "<p>516711 rows × 12 columns</p>\n",
       "</div>"
      ],
      "text/plain": [
       "                                                Metadata_Source  \\\n",
       "index                                                             \n",
       "source_2__20210823_Batch_10__1086292068__L18__1        source_2   \n",
       "source_2__20210823_Batch_10__1086292068__L18__2        source_2   \n",
       "source_2__20210823_Batch_10__1086292068__L18__3        source_2   \n",
       "source_2__20210823_Batch_10__1086292068__L18__4        source_2   \n",
       "source_2__20210823_Batch_10__1086292068__L18__5        source_2   \n",
       "...                                                         ...   \n",
       "source_8__J3__A1170535__C07__3                         source_8   \n",
       "source_8__J3__A1170535__C07__4                         source_8   \n",
       "source_8__J3__A1170535__C07__5                         source_8   \n",
       "source_8__J3__A1170535__C07__6                         source_8   \n",
       "source_8__J3__A1170535__C07__9                         source_8   \n",
       "\n",
       "                                                    Metadata_Batch  \\\n",
       "index                                                                \n",
       "source_2__20210823_Batch_10__1086292068__L18__1  20210823_Batch_10   \n",
       "source_2__20210823_Batch_10__1086292068__L18__2  20210823_Batch_10   \n",
       "source_2__20210823_Batch_10__1086292068__L18__3  20210823_Batch_10   \n",
       "source_2__20210823_Batch_10__1086292068__L18__4  20210823_Batch_10   \n",
       "source_2__20210823_Batch_10__1086292068__L18__5  20210823_Batch_10   \n",
       "...                                                            ...   \n",
       "source_8__J3__A1170535__C07__3                                  J3   \n",
       "source_8__J3__A1170535__C07__4                                  J3   \n",
       "source_8__J3__A1170535__C07__5                                  J3   \n",
       "source_8__J3__A1170535__C07__6                                  J3   \n",
       "source_8__J3__A1170535__C07__9                                  J3   \n",
       "\n",
       "                                                Metadata_Plate Metadata_Well  \\\n",
       "index                                                                          \n",
       "source_2__20210823_Batch_10__1086292068__L18__1     1086292068           L18   \n",
       "source_2__20210823_Batch_10__1086292068__L18__2     1086292068           L18   \n",
       "source_2__20210823_Batch_10__1086292068__L18__3     1086292068           L18   \n",
       "source_2__20210823_Batch_10__1086292068__L18__4     1086292068           L18   \n",
       "source_2__20210823_Batch_10__1086292068__L18__5     1086292068           L18   \n",
       "...                                                        ...           ...   \n",
       "source_8__J3__A1170535__C07__3                        A1170535           C07   \n",
       "source_8__J3__A1170535__C07__4                        A1170535           C07   \n",
       "source_8__J3__A1170535__C07__5                        A1170535           C07   \n",
       "source_8__J3__A1170535__C07__6                        A1170535           C07   \n",
       "source_8__J3__A1170535__C07__9                        A1170535           C07   \n",
       "\n",
       "                                                                                  FileName_OrigDNA  \\\n",
       "index                                                                                                \n",
       "source_2__20210823_Batch_10__1086292068__L18__1  /projects/cpjump3/jump/images/source_2/2021082...   \n",
       "source_2__20210823_Batch_10__1086292068__L18__2  /projects/cpjump3/jump/images/source_2/2021082...   \n",
       "source_2__20210823_Batch_10__1086292068__L18__3  /projects/cpjump3/jump/images/source_2/2021082...   \n",
       "source_2__20210823_Batch_10__1086292068__L18__4  /projects/cpjump3/jump/images/source_2/2021082...   \n",
       "source_2__20210823_Batch_10__1086292068__L18__5  /projects/cpjump3/jump/images/source_2/2021082...   \n",
       "...                                                                                            ...   \n",
       "source_8__J3__A1170535__C07__3                   /projects/cpjump2/jump/images/source_8/J3/A117...   \n",
       "source_8__J3__A1170535__C07__4                   /projects/cpjump2/jump/images/source_8/J3/A117...   \n",
       "source_8__J3__A1170535__C07__5                   /projects/cpjump2/jump/images/source_8/J3/A117...   \n",
       "source_8__J3__A1170535__C07__6                   /projects/cpjump2/jump/images/source_8/J3/A117...   \n",
       "source_8__J3__A1170535__C07__9                   /projects/cpjump2/jump/images/source_8/J3/A117...   \n",
       "\n",
       "                                                                                  FileName_OrigAGP  \\\n",
       "index                                                                                                \n",
       "source_2__20210823_Batch_10__1086292068__L18__1  /projects/cpjump3/jump/images/source_2/2021082...   \n",
       "source_2__20210823_Batch_10__1086292068__L18__2  /projects/cpjump3/jump/images/source_2/2021082...   \n",
       "source_2__20210823_Batch_10__1086292068__L18__3  /projects/cpjump3/jump/images/source_2/2021082...   \n",
       "source_2__20210823_Batch_10__1086292068__L18__4  /projects/cpjump3/jump/images/source_2/2021082...   \n",
       "source_2__20210823_Batch_10__1086292068__L18__5  /projects/cpjump3/jump/images/source_2/2021082...   \n",
       "...                                                                                            ...   \n",
       "source_8__J3__A1170535__C07__3                   /projects/cpjump2/jump/images/source_8/J3/A117...   \n",
       "source_8__J3__A1170535__C07__4                   /projects/cpjump2/jump/images/source_8/J3/A117...   \n",
       "source_8__J3__A1170535__C07__5                   /projects/cpjump2/jump/images/source_8/J3/A117...   \n",
       "source_8__J3__A1170535__C07__6                   /projects/cpjump2/jump/images/source_8/J3/A117...   \n",
       "source_8__J3__A1170535__C07__9                   /projects/cpjump2/jump/images/source_8/J3/A117...   \n",
       "\n",
       "                                                                                   FileName_OrigER  \\\n",
       "index                                                                                                \n",
       "source_2__20210823_Batch_10__1086292068__L18__1  /projects/cpjump3/jump/images/source_2/2021082...   \n",
       "source_2__20210823_Batch_10__1086292068__L18__2  /projects/cpjump3/jump/images/source_2/2021082...   \n",
       "source_2__20210823_Batch_10__1086292068__L18__3  /projects/cpjump3/jump/images/source_2/2021082...   \n",
       "source_2__20210823_Batch_10__1086292068__L18__4  /projects/cpjump3/jump/images/source_2/2021082...   \n",
       "source_2__20210823_Batch_10__1086292068__L18__5  /projects/cpjump3/jump/images/source_2/2021082...   \n",
       "...                                                                                            ...   \n",
       "source_8__J3__A1170535__C07__3                   /projects/cpjump2/jump/images/source_8/J3/A117...   \n",
       "source_8__J3__A1170535__C07__4                   /projects/cpjump2/jump/images/source_8/J3/A117...   \n",
       "source_8__J3__A1170535__C07__5                   /projects/cpjump2/jump/images/source_8/J3/A117...   \n",
       "source_8__J3__A1170535__C07__6                   /projects/cpjump2/jump/images/source_8/J3/A117...   \n",
       "source_8__J3__A1170535__C07__9                   /projects/cpjump2/jump/images/source_8/J3/A117...   \n",
       "\n",
       "                                                                                 FileName_OrigMito  \\\n",
       "index                                                                                                \n",
       "source_2__20210823_Batch_10__1086292068__L18__1  /projects/cpjump3/jump/images/source_2/2021082...   \n",
       "source_2__20210823_Batch_10__1086292068__L18__2  /projects/cpjump3/jump/images/source_2/2021082...   \n",
       "source_2__20210823_Batch_10__1086292068__L18__3  /projects/cpjump3/jump/images/source_2/2021082...   \n",
       "source_2__20210823_Batch_10__1086292068__L18__4  /projects/cpjump3/jump/images/source_2/2021082...   \n",
       "source_2__20210823_Batch_10__1086292068__L18__5  /projects/cpjump3/jump/images/source_2/2021082...   \n",
       "...                                                                                            ...   \n",
       "source_8__J3__A1170535__C07__3                   /projects/cpjump2/jump/images/source_8/J3/A117...   \n",
       "source_8__J3__A1170535__C07__4                   /projects/cpjump2/jump/images/source_8/J3/A117...   \n",
       "source_8__J3__A1170535__C07__5                   /projects/cpjump2/jump/images/source_8/J3/A117...   \n",
       "source_8__J3__A1170535__C07__6                   /projects/cpjump2/jump/images/source_8/J3/A117...   \n",
       "source_8__J3__A1170535__C07__9                   /projects/cpjump2/jump/images/source_8/J3/A117...   \n",
       "\n",
       "                                                                                  FileName_OrigRNA  \\\n",
       "index                                                                                                \n",
       "source_2__20210823_Batch_10__1086292068__L18__1  /projects/cpjump3/jump/images/source_2/2021082...   \n",
       "source_2__20210823_Batch_10__1086292068__L18__2  /projects/cpjump3/jump/images/source_2/2021082...   \n",
       "source_2__20210823_Batch_10__1086292068__L18__3  /projects/cpjump3/jump/images/source_2/2021082...   \n",
       "source_2__20210823_Batch_10__1086292068__L18__4  /projects/cpjump3/jump/images/source_2/2021082...   \n",
       "source_2__20210823_Batch_10__1086292068__L18__5  /projects/cpjump3/jump/images/source_2/2021082...   \n",
       "...                                                                                            ...   \n",
       "source_8__J3__A1170535__C07__3                   /projects/cpjump2/jump/images/source_8/J3/A117...   \n",
       "source_8__J3__A1170535__C07__4                   /projects/cpjump2/jump/images/source_8/J3/A117...   \n",
       "source_8__J3__A1170535__C07__5                   /projects/cpjump2/jump/images/source_8/J3/A117...   \n",
       "source_8__J3__A1170535__C07__6                   /projects/cpjump2/jump/images/source_8/J3/A117...   \n",
       "source_8__J3__A1170535__C07__9                   /projects/cpjump2/jump/images/source_8/J3/A117...   \n",
       "\n",
       "                                                        Metadata_InChI  \\\n",
       "index                                                                    \n",
       "source_2__20210823_Batch_10__1086292068__L18__1  InChI=1S/3Na.V/q;;;+8   \n",
       "source_2__20210823_Batch_10__1086292068__L18__2  InChI=1S/3Na.V/q;;;+8   \n",
       "source_2__20210823_Batch_10__1086292068__L18__3  InChI=1S/3Na.V/q;;;+8   \n",
       "source_2__20210823_Batch_10__1086292068__L18__4  InChI=1S/3Na.V/q;;;+8   \n",
       "source_2__20210823_Batch_10__1086292068__L18__5  InChI=1S/3Na.V/q;;;+8   \n",
       "...                                                                ...   \n",
       "source_8__J3__A1170535__C07__3                         InChI=1S/Mo/q+6   \n",
       "source_8__J3__A1170535__C07__4                         InChI=1S/Mo/q+6   \n",
       "source_8__J3__A1170535__C07__5                         InChI=1S/Mo/q+6   \n",
       "source_8__J3__A1170535__C07__6                         InChI=1S/Mo/q+6   \n",
       "source_8__J3__A1170535__C07__9                         InChI=1S/Mo/q+6   \n",
       "\n",
       "                                                Metadata_PlateType  \\\n",
       "index                                                                \n",
       "source_2__20210823_Batch_10__1086292068__L18__1           COMPOUND   \n",
       "source_2__20210823_Batch_10__1086292068__L18__2           COMPOUND   \n",
       "source_2__20210823_Batch_10__1086292068__L18__3           COMPOUND   \n",
       "source_2__20210823_Batch_10__1086292068__L18__4           COMPOUND   \n",
       "source_2__20210823_Batch_10__1086292068__L18__5           COMPOUND   \n",
       "...                                                            ...   \n",
       "source_8__J3__A1170535__C07__3                            COMPOUND   \n",
       "source_8__J3__A1170535__C07__4                            COMPOUND   \n",
       "source_8__J3__A1170535__C07__5                            COMPOUND   \n",
       "source_8__J3__A1170535__C07__6                            COMPOUND   \n",
       "source_8__J3__A1170535__C07__9                            COMPOUND   \n",
       "\n",
       "                                                 Metadata_Site  \n",
       "index                                                           \n",
       "source_2__20210823_Batch_10__1086292068__L18__1              1  \n",
       "source_2__20210823_Batch_10__1086292068__L18__2              2  \n",
       "source_2__20210823_Batch_10__1086292068__L18__3              3  \n",
       "source_2__20210823_Batch_10__1086292068__L18__4              4  \n",
       "source_2__20210823_Batch_10__1086292068__L18__5              5  \n",
       "...                                                        ...  \n",
       "source_8__J3__A1170535__C07__3                               3  \n",
       "source_8__J3__A1170535__C07__4                               4  \n",
       "source_8__J3__A1170535__C07__5                               5  \n",
       "source_8__J3__A1170535__C07__6                               6  \n",
       "source_8__J3__A1170535__C07__9                               9  \n",
       "\n",
       "[516711 rows x 12 columns]"
      ]
     },
     "execution_count": 19,
     "metadata": {},
     "output_type": "execute_result"
    }
   ],
   "source": [
    "load_df"
   ]
  },
  {
   "cell_type": "code",
   "execution_count": 20,
   "metadata": {},
   "outputs": [],
   "source": [
    "dataset = MultiviewDataset(\n",
    "    load_df=load_df,\n",
    "    compound_dict=comp,\n",
    "    transform=i_tr,\n",
    "    compound_transform=cp_tr,\n",
    ")"
   ]
  },
  {
   "cell_type": "code",
   "execution_count": 21,
   "metadata": {},
   "outputs": [],
   "source": [
    "dataset.replace_root_dir(\"../\")"
   ]
  },
  {
   "cell_type": "code",
   "execution_count": 22,
   "metadata": {},
   "outputs": [],
   "source": [
    "ex = dataset[3]"
   ]
  },
  {
   "cell_type": "code",
   "execution_count": 23,
   "metadata": {},
   "outputs": [
    {
     "data": {
      "text/plain": [
       "torch.Size([3, 5, 512, 512])"
      ]
     },
     "execution_count": 23,
     "metadata": {},
     "output_type": "execute_result"
    }
   ],
   "source": [
    "ex[\"image\"].shape"
   ]
  },
  {
   "cell_type": "code",
   "execution_count": 14,
   "metadata": {},
   "outputs": [
    {
     "data": {
      "image/png": "[encoded data removed]",
      "text/plain": [
       "<Figure size 1000x500 with 15 Axes>"
      ]
     },
     "metadata": {},
     "output_type": "display_data"
    }
   ],
   "source": [
    "fig, axs = plt.subplots(3, 5, figsize=(10, 5))\n",
    "\n",
    "for i in range(3):\n",
    "    for j in range(5):\n",
    "        axs[i, j].imshow(b[\"image\"][2][i][j])\n",
    "        axs[i, j].axis(\"off\")"
   ]
  },
  {
   "cell_type": "code",
   "execution_count": 21,
   "metadata": {},
   "outputs": [
    {
     "data": {
      "text/plain": [
       "Graph(num_nodes=13, num_edges=26,\n",
       "      ndata_schemes={'feat': Scheme(shape=(9,), dtype=torch.int64)}\n",
       "      edata_schemes={'feat': Scheme(shape=(3,), dtype=torch.int64)})"
      ]
     },
     "execution_count": 21,
     "metadata": {},
     "output_type": "execute_result"
    }
   ],
   "source": [
    "ex[\"compound\"]"
   ]
  },
  {
   "cell_type": "code",
   "execution_count": 22,
   "metadata": {},
   "outputs": [],
   "source": [
    "dl = DataLoader(dataset, batch_size=4, shuffle=True)"
   ]
  },
  {
   "cell_type": "code",
   "execution_count": 23,
   "metadata": {},
   "outputs": [],
   "source": [
    "b = next(iter(dl))"
   ]
  },
  {
   "cell_type": "code",
   "execution_count": 9,
   "metadata": {},
   "outputs": [
    {
     "data": {
      "text/plain": [
       "torch.Size([4, 3, 5, 512, 512])"
      ]
     },
     "execution_count": 9,
     "metadata": {},
     "output_type": "execute_result"
    }
   ],
   "source": [
    "b[\"image\"].shape"
   ]
  },
  {
   "cell_type": "code",
   "execution_count": 25,
   "metadata": {},
   "outputs": [
    {
     "data": {
      "text/plain": [
       "Graph(num_nodes=56, num_edges=110,\n",
       "      ndata_schemes={'feat': Scheme(shape=(9,), dtype=torch.int64)}\n",
       "      edata_schemes={'feat': Scheme(shape=(3,), dtype=torch.int64)})"
      ]
     },
     "execution_count": 25,
     "metadata": {},
     "output_type": "execute_result"
    }
   ],
   "source": [
    "b[\"compound\"]"
   ]
  },
  {
   "cell_type": "code",
   "execution_count": 15,
   "metadata": {},
   "outputs": [],
   "source": [
    "image = b[\"image\"]\n",
    "\n",
    "batch_size, n_views, *image_shape = image.shape\n",
    "image = image.view(-1, *image_shape)\n",
    "image_emb = model.image_encoder(image)  # (BatchSize * Views) x ImagesDim\n",
    "\n",
    "image_emb = model.image_projection_head(image_emb)  # (B * V) x EmbeddingDim\n",
    "image_emb = F.normalize(image_emb, dim=-1)\n",
    "image_emb = image_emb.view(batch_size, n_views, -1)  # B x V x EmbeddingDim"
   ]
  },
  {
   "cell_type": "code",
   "execution_count": 19,
   "metadata": {},
   "outputs": [
    {
     "data": {
      "text/plain": [
       "torch.Size([4, 3, 1024])"
      ]
     },
     "execution_count": 19,
     "metadata": {},
     "output_type": "execute_result"
    }
   ],
   "source": [
    "image_emb.shape"
   ]
  },
  {
   "cell_type": "code",
   "execution_count": 16,
   "metadata": {},
   "outputs": [],
   "source": [
    "compound = b[\"compound\"]"
   ]
  },
  {
   "cell_type": "code",
   "execution_count": 17,
   "metadata": {},
   "outputs": [],
   "source": [
    "compound_emb = model.molecule_encoder(compound)  # B x CompoundDim\n",
    "compound_emb = model.molecule_projection_head(compound_emb)  # B x E\n",
    "compound_emb = F.normalize(compound_emb, dim=-1)"
   ]
  },
  {
   "cell_type": "code",
   "execution_count": 18,
   "metadata": {},
   "outputs": [
    {
     "data": {
      "text/plain": [
       "torch.Size([4, 1024])"
      ]
     },
     "execution_count": 18,
     "metadata": {},
     "output_type": "execute_result"
    }
   ],
   "source": [
    "compound_emb.shape"
   ]
  },
  {
   "cell_type": "code",
   "execution_count": 49,
   "metadata": {},
   "outputs": [],
   "source": [
    "loss = NTXentMultiplePositives(\n",
    "    norm=False,\n",
    "    temperature=0.1,\n",
    "    return_rank=True,\n",
    "    eps=1e-6,\n",
    ")"
   ]
  },
  {
   "cell_type": "code",
   "execution_count": 51,
   "metadata": {},
   "outputs": [
    {
     "data": {
      "text/plain": [
       "tensor(2.4273, grad_fn=<NegBackward0>)"
      ]
     },
     "execution_count": 51,
     "metadata": {},
     "output_type": "execute_result"
    }
   ],
   "source": [
    "loss(image_emb, compound_emb)"
   ]
  },
  {
   "cell_type": "code",
   "execution_count": 39,
   "metadata": {},
   "outputs": [],
   "source": [
    "kl_loss = KLDivergenceMultiplePositives(\n",
    "    norm=False,\n",
    "    temperature=0.1,\n",
    "    return_rank=True,\n",
    ")"
   ]
  },
  {
   "cell_type": "code",
   "execution_count": 41,
   "metadata": {},
   "outputs": [
    {
     "data": {
      "text/plain": [
       "tensor(nan, grad_fn=<NegBackward0>)"
      ]
     },
     "execution_count": 41,
     "metadata": {},
     "output_type": "execute_result"
    }
   ],
   "source": [
    "kl_loss(image_emb, kl_comp)"
   ]
  },
  {
   "cell_type": "code",
   "execution_count": 21,
   "metadata": {},
   "outputs": [],
   "source": [
    "mu_fc = nn.Linear(out_dim := compound_emb.shape[-1], out_dim)\n",
    "sigma_fc = nn.Linear(out_dim, out_dim)"
   ]
  },
  {
   "cell_type": "code",
   "execution_count": 22,
   "metadata": {},
   "outputs": [],
   "source": [
    "kl_comp = torch.stack([mu_fc(compound_emb), sigma_fc(compound_emb)], dim=1)"
   ]
  },
  {
   "cell_type": "code",
   "execution_count": null,
   "metadata": {},
   "outputs": [
    {
     "data": {
      "text/plain": [
       "torch.Size([12, 2, 1024])"
      ]
     },
     "execution_count": 64,
     "metadata": {},
     "output_type": "execute_result"
    }
   ],
   "source": [
    "kl_comp.shape"
   ]
  },
  {
   "cell_type": "code",
   "execution_count": null,
   "metadata": {},
   "outputs": [
    {
     "data": {
      "text/plain": [
       "torch.Size([1024])"
      ]
     },
     "execution_count": 67,
     "metadata": {},
     "output_type": "execute_result"
    }
   ],
   "source": [
    "image_emb.shape"
   ]
  },
  {
   "cell_type": "code",
   "execution_count": 51,
   "metadata": {},
   "outputs": [],
   "source": [
    "z1, z2 = kl_comp, image_emb\n",
    "\n",
    "z1_means = z1[:, 0, :]  # [batch_size, metric_dim]\n",
    "z1_stds = torch.exp(z1[:, 1, :])  # [batch_size, metric_dim]\n",
    "\n",
    "z2_means = z2.mean(1)  # [batch_size, metric_dim]\n",
    "z2_stds = z2.std(1)  # [batch_size, metric_dim]\n",
    "\n",
    "kl_div_kernel = []\n",
    "for i, z1_mean in enumerate(z1_means):  # batch_size\n",
    "    for j, z2_mean in enumerate(z2_means):  # batch_size\n",
    "        z1_std = z1_stds[i]  # [metric_dim]\n",
    "        z2_std = z2_stds[j] + 1e-5  # [metric_dim]\n",
    "        p = torch.distributions.MultivariateNormal(z1_mean, torch.diag_embed(z1_std))\n",
    "        q = torch.distributions.MultivariateNormal(z2_mean, torch.diag_embed(z2_std))\n",
    "        kl_divergence = torch.distributions.kl_divergence(p, q)\n",
    "        kl_div_kernel.append(kl_divergence)\n",
    "\n",
    "\n",
    "kl_div_kernel = torch.stack(kl_div_kernel)\n",
    "kl_div_kernel = kl_div_kernel.view(batch_size, batch_size)\n",
    "sim_matrix = torch.nan_to_num(torch.exp(kl_div_kernel / 0.1))  # [batch_size, batch_size]\n",
    "pos_sim = torch.diagonal(sim_matrix)\n",
    "loss = pos_sim / (sim_matrix.sum(dim=1) - pos_sim)\n",
    "loss = -torch.log(loss).mean()"
   ]
  },
  {
   "cell_type": "code",
   "execution_count": 54,
   "metadata": {},
   "outputs": [],
   "source": [
    "likelihood_kernel = []\n",
    "for i, z1_mean in enumerate(z1_means):\n",
    "    z1_std = z1_stds[i]  # [metric_dim]\n",
    "    p = torch.distributions.Normal(z1_mean, z1_std)\n",
    "    for j, z2_elem in enumerate(z2):\n",
    "        z2_elem = z2_elem  # [num_conformers, metric_dim]\n",
    "        prob = torch.exp(p.log_prob(z2_elem))\n",
    "        likelihood_kernel.append(prob.mean())\n",
    "likelihood_kernel = torch.stack(likelihood_kernel)\n",
    "likelihood_kernel = likelihood_kernel.view(batch_size, batch_size)\n",
    "\n",
    "sim_matrix = torch.exp(likelihood_kernel / 0.1)  # [batch_size, batch_size]\n",
    "pos_sim = torch.diagonal(sim_matrix)\n",
    "loss = pos_sim / (sim_matrix.sum(dim=1) - pos_sim)\n",
    "loss = -torch.log(loss).mean()"
   ]
  },
  {
   "cell_type": "code",
   "execution_count": 59,
   "metadata": {},
   "outputs": [
    {
     "data": {
      "text/plain": [
       "torch.Size([3, 1024])"
      ]
     },
     "execution_count": 59,
     "metadata": {},
     "output_type": "execute_result"
    }
   ],
   "source": [
    "z2_elem.shape"
   ]
  },
  {
   "cell_type": "code",
   "execution_count": 55,
   "metadata": {},
   "outputs": [
    {
     "data": {
      "text/plain": [
       "tensor(1.0986, grad_fn=<NegBackward0>)"
      ]
     },
     "execution_count": 55,
     "metadata": {},
     "output_type": "execute_result"
    }
   ],
   "source": [
    "loss"
   ]
  },
  {
   "cell_type": "code",
   "execution_count": 52,
   "metadata": {},
   "outputs": [
    {
     "data": {
      "text/plain": [
       "tensor(inf, grad_fn=<NegBackward0>)"
      ]
     },
     "execution_count": 52,
     "metadata": {},
     "output_type": "execute_result"
    }
   ],
   "source": [
    "loss"
   ]
  },
  {
   "cell_type": "code",
   "execution_count": 34,
   "metadata": {},
   "outputs": [],
   "source": [
    "z1, z2 = kl_comp, image_emb\n",
    "\n",
    "z1_means = z1[:, 0, :]  # [batch_size, metric_dim]\n",
    "z1_stds = torch.exp(z1[:, 1, :])  # [batch_size, metric_dim]\n",
    "\n",
    "z2_means = z2.mean(1)  # [batch_size, metric_dim]\n",
    "z2_stds = z2.std(1)  # [batch_size, metric_dim]\n",
    "\n",
    "kl_div_kernel1 = []\n",
    "for i, z1_mean in enumerate(z1_means):  # batch_size\n",
    "    for j, z2_mean in enumerate(z2_means):  # batch_size\n",
    "        z1_std = z1_stds[i]  # [metric_dim]\n",
    "        z2_std = z2_stds[j] + 1e-5  # [metric_dim]\n",
    "        p = torch.distributions.Normal(z1_mean, z1_std)\n",
    "        q = torch.distributions.Normal(z2_mean, z2_std)\n",
    "        kl_divergence = torch.distributions.kl_divergence(p, q)\n",
    "        kl_div_kernel1.append(kl_divergence)\n",
    "\n",
    "\n",
    "kl_div_kernel1 = torch.stack(kl_div_kernel1)"
   ]
  },
  {
   "cell_type": "code",
   "execution_count": 38,
   "metadata": {},
   "outputs": [
    {
     "data": {
      "text/plain": [
       "tensor([11282.6152, 25536.2773, 13061.1279, 11551.3105, 11181.4385, 25413.1406,\n",
       "        13027.8828, 11633.3809, 11174.6953, 25636.6309, 12958.8291, 11757.7422,\n",
       "        11286.6016, 25666.5137, 12989.0234, 11652.1758],\n",
       "       grad_fn=<MeanBackward1>)"
      ]
     },
     "execution_count": 38,
     "metadata": {},
     "output_type": "execute_result"
    }
   ],
   "source": [
    "kl_div_kernel1.mean(1)"
   ]
  },
  {
   "cell_type": "code",
   "execution_count": 70,
   "metadata": {},
   "outputs": [
    {
     "data": {
      "text/plain": [
       "tensor([ 1119.1931,   862.0065, 69943.8750,  ..., 81272.8750,  1454.3613,\n",
       "         4240.2441], grad_fn=<MulBackward0>)"
      ]
     },
     "execution_count": 70,
     "metadata": {},
     "output_type": "execute_result"
    }
   ],
   "source": [
    "torch.distributions.kl_divergence(p, q)"
   ]
  },
  {
   "cell_type": "code",
   "execution_count": 79,
   "metadata": {},
   "outputs": [
    {
     "data": {
      "text/plain": [
       "(torch.Size([12, 1024]),\n",
       " torch.Size([12, 1024]),\n",
       " torch.Size([12, 1024]),\n",
       " torch.Size([12, 1024]),\n",
       " torch.Size([12, 1024, 1024]))"
      ]
     },
     "execution_count": 79,
     "metadata": {},
     "output_type": "execute_result"
    }
   ],
   "source": [
    "z2_means.shape, z2_vars.shape, z1_means.shape, z1_vars.shape, torch.diag_embed(z1_vars).shape"
   ]
  },
  {
   "cell_type": "code",
   "execution_count": 81,
   "metadata": {},
   "outputs": [
    {
     "data": {
      "text/plain": [
       "MultivariateNormal(loc: torch.Size([12, 1024]), covariance_matrix: torch.Size([12, 1024, 1024]))"
      ]
     },
     "execution_count": 81,
     "metadata": {},
     "output_type": "execute_result"
    }
   ],
   "source": [
    "MultivariateNormal(z2_means, torch.diag_embed(z2_vars))"
   ]
  },
  {
   "cell_type": "code",
   "execution_count": 92,
   "metadata": {},
   "outputs": [
    {
     "data": {
      "text/plain": [
       "tensor([3787.5596, 3836.3875, 3840.8262, 4002.9888, 3790.0076, 3899.9482,\n",
       "        3956.2556, 3898.6064, 3945.4016, 4095.2241, 3900.9529, 3743.7869],\n",
       "       grad_fn=<AddBackward0>)"
      ]
     },
     "execution_count": 92,
     "metadata": {},
     "output_type": "execute_result"
    }
   ],
   "source": [
    "kl_div"
   ]
  },
  {
   "cell_type": "code",
   "execution_count": null,
   "metadata": {},
   "outputs": [],
   "source": []
  },
  {
   "cell_type": "code",
   "execution_count": 82,
   "metadata": {},
   "outputs": [],
   "source": [
    "z1_means = z1[:, 0, :]  # [batch_size, metric_dim]\n",
    "z1_vars = torch.exp(z1[:, 1, :])  # [batch_size, metric_dim]\n",
    "z2_means = z2.mean(1)  # [batch_size, metric_dim]\n",
    "z2_vars = z2.var(1) + 1e-6  # [batch_size, metric_dim]\n",
    "try:\n",
    "    normal1 = MultivariateNormal(z1_means, torch.diag_embed(z1_vars))\n",
    "except:\n",
    "    print(z1_vars)\n",
    "try:\n",
    "    normal2 = MultivariateNormal(z2_means, torch.diag_embed(z2_vars))\n",
    "except:\n",
    "    print(z2_vars)\n",
    "# kl_div = torch.distributions.kl_divergence(normal1, normal2)\n",
    "kl_div = torch.distributions.kl_divergence(normal2, normal1)\n",
    "loss = kl_div.mean()"
   ]
  },
  {
   "cell_type": "code",
   "execution_count": 84,
   "metadata": {},
   "outputs": [
    {
     "data": {
      "text/plain": [
       "(MultivariateNormal(loc: torch.Size([12, 1024]), covariance_matrix: torch.Size([12, 1024, 1024])),\n",
       " MultivariateNormal(loc: torch.Size([12, 1024]), covariance_matrix: torch.Size([12, 1024, 1024])))"
      ]
     },
     "execution_count": 84,
     "metadata": {},
     "output_type": "execute_result"
    }
   ],
   "source": [
    "normal2, normal1"
   ]
  },
  {
   "cell_type": "code",
   "execution_count": 61,
   "metadata": {},
   "outputs": [
    {
     "data": {
      "text/plain": [
       "(torch.Size([1024]),\n",
       " torch.Size([1024]),\n",
       " torch.Size([1024]),\n",
       " torch.Size([1024]),\n",
       " torch.Size([144, 1024]))"
      ]
     },
     "execution_count": 61,
     "metadata": {},
     "output_type": "execute_result"
    }
   ],
   "source": [
    "z1_mean.shape, z1_std.shape, z2_mean.shape, z2_std.shape, kl_div_kernel.shape"
   ]
  },
  {
   "cell_type": "code",
   "execution_count": 63,
   "metadata": {},
   "outputs": [
    {
     "name": "stdout",
     "output_type": "stream",
     "text": [
      "\u001b[0;31mSignature:\u001b[0m\n",
      "\u001b[0mtorch\u001b[0m\u001b[0;34m.\u001b[0m\u001b[0mdistributions\u001b[0m\u001b[0;34m.\u001b[0m\u001b[0mkl\u001b[0m\u001b[0;34m.\u001b[0m\u001b[0mkl_divergence\u001b[0m\u001b[0;34m(\u001b[0m\u001b[0;34m\u001b[0m\n",
      "\u001b[0;34m\u001b[0m    \u001b[0mp\u001b[0m\u001b[0;34m:\u001b[0m \u001b[0mtorch\u001b[0m\u001b[0;34m.\u001b[0m\u001b[0mdistributions\u001b[0m\u001b[0;34m.\u001b[0m\u001b[0mdistribution\u001b[0m\u001b[0;34m.\u001b[0m\u001b[0mDistribution\u001b[0m\u001b[0;34m,\u001b[0m\u001b[0;34m\u001b[0m\n",
      "\u001b[0;34m\u001b[0m    \u001b[0mq\u001b[0m\u001b[0;34m:\u001b[0m \u001b[0mtorch\u001b[0m\u001b[0;34m.\u001b[0m\u001b[0mdistributions\u001b[0m\u001b[0;34m.\u001b[0m\u001b[0mdistribution\u001b[0m\u001b[0;34m.\u001b[0m\u001b[0mDistribution\u001b[0m\u001b[0;34m,\u001b[0m\u001b[0;34m\u001b[0m\n",
      "\u001b[0;34m\u001b[0m\u001b[0;34m)\u001b[0m \u001b[0;34m->\u001b[0m \u001b[0mtorch\u001b[0m\u001b[0;34m.\u001b[0m\u001b[0mTensor\u001b[0m\u001b[0;34m\u001b[0m\u001b[0;34m\u001b[0m\u001b[0m\n",
      "\u001b[0;31mDocstring:\u001b[0m\n",
      "Compute Kullback-Leibler divergence :math:`KL(p \\| q)` between two distributions.\n",
      "\n",
      ".. math::\n",
      "\n",
      "    KL(p \\| q) = \\int p(x) \\log\\frac {p(x)} {q(x)} \\,dx\n",
      "\n",
      "Args:\n",
      "    p (Distribution): A :class:`~torch.distributions.Distribution` object.\n",
      "    q (Distribution): A :class:`~torch.distributions.Distribution` object.\n",
      "\n",
      "Returns:\n",
      "    Tensor: A batch of KL divergences of shape `batch_shape`.\n",
      "\n",
      "Raises:\n",
      "    NotImplementedError: If the distribution types have not been registered via\n",
      "        :meth:`register_kl`.\n",
      "KL divergence is currently implemented for the following distribution pairs:\n",
      "    * :class:`~torch.distributions.Bernoulli` and :class:`~torch.distributions.Bernoulli`\n",
      "    * :class:`~torch.distributions.Bernoulli` and :class:`~torch.distributions.Poisson`\n",
      "    * :class:`~torch.distributions.Beta` and :class:`~torch.distributions.Beta`\n",
      "    * :class:`~torch.distributions.Beta` and :class:`~torch.distributions.ContinuousBernoulli`\n",
      "    * :class:`~torch.distributions.Beta` and :class:`~torch.distributions.Exponential`\n",
      "    * :class:`~torch.distributions.Beta` and :class:`~torch.distributions.Gamma`\n",
      "    * :class:`~torch.distributions.Beta` and :class:`~torch.distributions.Normal`\n",
      "    * :class:`~torch.distributions.Beta` and :class:`~torch.distributions.Pareto`\n",
      "    * :class:`~torch.distributions.Beta` and :class:`~torch.distributions.Uniform`\n",
      "    * :class:`~torch.distributions.Binomial` and :class:`~torch.distributions.Binomial`\n",
      "    * :class:`~torch.distributions.Categorical` and :class:`~torch.distributions.Categorical`\n",
      "    * :class:`~torch.distributions.Cauchy` and :class:`~torch.distributions.Cauchy`\n",
      "    * :class:`~torch.distributions.ContinuousBernoulli` and :class:`~torch.distributions.ContinuousBernoulli`\n",
      "    * :class:`~torch.distributions.ContinuousBernoulli` and :class:`~torch.distributions.Exponential`\n",
      "    * :class:`~torch.distributions.ContinuousBernoulli` and :class:`~torch.distributions.Normal`\n",
      "    * :class:`~torch.distributions.ContinuousBernoulli` and :class:`~torch.distributions.Pareto`\n",
      "    * :class:`~torch.distributions.ContinuousBernoulli` and :class:`~torch.distributions.Uniform`\n",
      "    * :class:`~torch.distributions.Dirichlet` and :class:`~torch.distributions.Dirichlet`\n",
      "    * :class:`~torch.distributions.Exponential` and :class:`~torch.distributions.Beta`\n",
      "    * :class:`~torch.distributions.Exponential` and :class:`~torch.distributions.ContinuousBernoulli`\n",
      "    * :class:`~torch.distributions.Exponential` and :class:`~torch.distributions.Exponential`\n",
      "    * :class:`~torch.distributions.Exponential` and :class:`~torch.distributions.Gamma`\n",
      "    * :class:`~torch.distributions.Exponential` and :class:`~torch.distributions.Gumbel`\n",
      "    * :class:`~torch.distributions.Exponential` and :class:`~torch.distributions.Normal`\n",
      "    * :class:`~torch.distributions.Exponential` and :class:`~torch.distributions.Pareto`\n",
      "    * :class:`~torch.distributions.Exponential` and :class:`~torch.distributions.Uniform`\n",
      "    * :class:`~torch.distributions.ExponentialFamily` and :class:`~torch.distributions.ExponentialFamily`\n",
      "    * :class:`~torch.distributions.Gamma` and :class:`~torch.distributions.Beta`\n",
      "    * :class:`~torch.distributions.Gamma` and :class:`~torch.distributions.ContinuousBernoulli`\n",
      "    * :class:`~torch.distributions.Gamma` and :class:`~torch.distributions.Exponential`\n",
      "    * :class:`~torch.distributions.Gamma` and :class:`~torch.distributions.Gamma`\n",
      "    * :class:`~torch.distributions.Gamma` and :class:`~torch.distributions.Gumbel`\n",
      "    * :class:`~torch.distributions.Gamma` and :class:`~torch.distributions.Normal`\n",
      "    * :class:`~torch.distributions.Gamma` and :class:`~torch.distributions.Pareto`\n",
      "    * :class:`~torch.distributions.Gamma` and :class:`~torch.distributions.Uniform`\n",
      "    * :class:`~torch.distributions.Geometric` and :class:`~torch.distributions.Geometric`\n",
      "    * :class:`~torch.distributions.Gumbel` and :class:`~torch.distributions.Beta`\n",
      "    * :class:`~torch.distributions.Gumbel` and :class:`~torch.distributions.ContinuousBernoulli`\n",
      "    * :class:`~torch.distributions.Gumbel` and :class:`~torch.distributions.Exponential`\n",
      "    * :class:`~torch.distributions.Gumbel` and :class:`~torch.distributions.Gamma`\n",
      "    * :class:`~torch.distributions.Gumbel` and :class:`~torch.distributions.Gumbel`\n",
      "    * :class:`~torch.distributions.Gumbel` and :class:`~torch.distributions.Normal`\n",
      "    * :class:`~torch.distributions.Gumbel` and :class:`~torch.distributions.Pareto`\n",
      "    * :class:`~torch.distributions.Gumbel` and :class:`~torch.distributions.Uniform`\n",
      "    * :class:`~torch.distributions.HalfNormal` and :class:`~torch.distributions.HalfNormal`\n",
      "    * :class:`~torch.distributions.Independent` and :class:`~torch.distributions.Independent`\n",
      "    * :class:`~torch.distributions.Laplace` and :class:`~torch.distributions.Beta`\n",
      "    * :class:`~torch.distributions.Laplace` and :class:`~torch.distributions.ContinuousBernoulli`\n",
      "    * :class:`~torch.distributions.Laplace` and :class:`~torch.distributions.Exponential`\n",
      "    * :class:`~torch.distributions.Laplace` and :class:`~torch.distributions.Gamma`\n",
      "    * :class:`~torch.distributions.Laplace` and :class:`~torch.distributions.Laplace`\n",
      "    * :class:`~torch.distributions.Laplace` and :class:`~torch.distributions.Normal`\n",
      "    * :class:`~torch.distributions.Laplace` and :class:`~torch.distributions.Pareto`\n",
      "    * :class:`~torch.distributions.Laplace` and :class:`~torch.distributions.Uniform`\n",
      "    * :class:`~torch.distributions.LowRankMultivariateNormal` and :class:`~torch.distributions.LowRankMultivariateNormal`\n",
      "    * :class:`~torch.distributions.LowRankMultivariateNormal` and :class:`~torch.distributions.MultivariateNormal`\n",
      "    * :class:`~torch.distributions.MultivariateNormal` and :class:`~torch.distributions.LowRankMultivariateNormal`\n",
      "    * :class:`~torch.distributions.MultivariateNormal` and :class:`~torch.distributions.MultivariateNormal`\n",
      "    * :class:`~torch.distributions.Normal` and :class:`~torch.distributions.Beta`\n",
      "    * :class:`~torch.distributions.Normal` and :class:`~torch.distributions.ContinuousBernoulli`\n",
      "    * :class:`~torch.distributions.Normal` and :class:`~torch.distributions.Exponential`\n",
      "    * :class:`~torch.distributions.Normal` and :class:`~torch.distributions.Gamma`\n",
      "    * :class:`~torch.distributions.Normal` and :class:`~torch.distributions.Gumbel`\n",
      "    * :class:`~torch.distributions.Normal` and :class:`~torch.distributions.Laplace`\n",
      "    * :class:`~torch.distributions.Normal` and :class:`~torch.distributions.Normal`\n",
      "    * :class:`~torch.distributions.Normal` and :class:`~torch.distributions.Pareto`\n",
      "    * :class:`~torch.distributions.Normal` and :class:`~torch.distributions.Uniform`\n",
      "    * :class:`~torch.distributions.OneHotCategorical` and :class:`~torch.distributions.OneHotCategorical`\n",
      "    * :class:`~torch.distributions.Pareto` and :class:`~torch.distributions.Beta`\n",
      "    * :class:`~torch.distributions.Pareto` and :class:`~torch.distributions.ContinuousBernoulli`\n",
      "    * :class:`~torch.distributions.Pareto` and :class:`~torch.distributions.Exponential`\n",
      "    * :class:`~torch.distributions.Pareto` and :class:`~torch.distributions.Gamma`\n",
      "    * :class:`~torch.distributions.Pareto` and :class:`~torch.distributions.Normal`\n",
      "    * :class:`~torch.distributions.Pareto` and :class:`~torch.distributions.Pareto`\n",
      "    * :class:`~torch.distributions.Pareto` and :class:`~torch.distributions.Uniform`\n",
      "    * :class:`~torch.distributions.Poisson` and :class:`~torch.distributions.Bernoulli`\n",
      "    * :class:`~torch.distributions.Poisson` and :class:`~torch.distributions.Binomial`\n",
      "    * :class:`~torch.distributions.Poisson` and :class:`~torch.distributions.Poisson`\n",
      "    * :class:`~torch.distributions.TransformedDistribution` and :class:`~torch.distributions.TransformedDistribution`\n",
      "    * :class:`~torch.distributions.Uniform` and :class:`~torch.distributions.Beta`\n",
      "    * :class:`~torch.distributions.Uniform` and :class:`~torch.distributions.ContinuousBernoulli`\n",
      "    * :class:`~torch.distributions.Uniform` and :class:`~torch.distributions.Exponential`\n",
      "    * :class:`~torch.distributions.Uniform` and :class:`~torch.distributions.Gamma`\n",
      "    * :class:`~torch.distributions.Uniform` and :class:`~torch.distributions.Gumbel`\n",
      "    * :class:`~torch.distributions.Uniform` and :class:`~torch.distributions.Normal`\n",
      "    * :class:`~torch.distributions.Uniform` and :class:`~torch.distributions.Pareto`\n",
      "    * :class:`~torch.distributions.Uniform` and :class:`~torch.distributions.Uniform`\n",
      "\u001b[0;31mFile:\u001b[0m      ~/miniconda3/envs/jump_models/lib/python3.10/site-packages/torch/distributions/kl.py\n",
      "\u001b[0;31mType:\u001b[0m      function"
     ]
    }
   ],
   "source": [
    "torch.distributions.kl.kl_divergence?"
   ]
  },
  {
   "cell_type": "code",
   "execution_count": 116,
   "metadata": {},
   "outputs": [
    {
     "data": {
      "text/plain": [
       "torch.Size([4, 512])"
      ]
     },
     "execution_count": 116,
     "metadata": {},
     "output_type": "execute_result"
    }
   ],
   "source": [
    "z2_means.shape"
   ]
  },
  {
   "cell_type": "code",
   "execution_count": 114,
   "metadata": {},
   "outputs": [
    {
     "data": {
      "text/plain": [
       "torch.Size([16, 512])"
      ]
     },
     "execution_count": 114,
     "metadata": {},
     "output_type": "execute_result"
    }
   ],
   "source": [
    "kl_div_kernel.shape"
   ]
  },
  {
   "cell_type": "code",
   "execution_count": 39,
   "metadata": {},
   "outputs": [],
   "source": [
    "cc = dataset[21][\"compound\"]"
   ]
  },
  {
   "cell_type": "code",
   "execution_count": 142,
   "metadata": {},
   "outputs": [
    {
     "name": "stderr",
     "output_type": "stream",
     "text": [
      "/home/gwatk/miniconda3/envs/jump_models/lib/python3.10/site-packages/dgl/transforms/module.py:507: DGLWarning: LaplacianPE will be deprecated. Use LapPE please.\n",
      "  dgl_warning(\"LaplacianPE will be deprecated. Use LapPE please.\")\n"
     ]
    }
   ],
   "source": [
    "transform = LaplacianPE(k=3)"
   ]
  },
  {
   "cell_type": "code",
   "execution_count": 143,
   "metadata": {},
   "outputs": [],
   "source": [
    "ccc = transform(cc)"
   ]
  },
  {
   "cell_type": "code",
   "execution_count": 146,
   "metadata": {},
   "outputs": [],
   "source": [
    "transform2 = SIGNDiffusion(k=3, eweight_name=\"gcn\", in_feat_name=\"PE\")"
   ]
  },
  {
   "cell_type": "code",
   "execution_count": 147,
   "metadata": {},
   "outputs": [],
   "source": [
    "cccc = transform2(ccc)"
   ]
  },
  {
   "cell_type": "code",
   "execution_count": 137,
   "metadata": {},
   "outputs": [
    {
     "data": {
      "text/plain": [
       "torch.Size([18, 3])"
      ]
     },
     "execution_count": 137,
     "metadata": {},
     "output_type": "execute_result"
    }
   ],
   "source": [
    "ccc.ndata[\"PE\"].shape"
   ]
  },
  {
   "cell_type": "code",
   "execution_count": 166,
   "metadata": {},
   "outputs": [
    {
     "data": {
      "text/plain": [
       "{'feat': tensor([[7, 0, 1, 5, 0, 0, 1, 0, 0],\n",
       "        [5, 0, 3, 5, 0, 0, 1, 0, 0],\n",
       "        [7, 0, 2, 5, 1, 0, 1, 0, 0],\n",
       "        [5, 0, 4, 5, 2, 0, 2, 0, 0],\n",
       "        [5, 0, 4, 5, 2, 0, 2, 0, 0],\n",
       "        [5, 0, 3, 5, 0, 0, 1, 0, 0],\n",
       "        [7, 0, 2, 5, 1, 0, 1, 0, 0],\n",
       "        [6, 0, 2, 5, 0, 0, 1, 0, 0],\n",
       "        [5, 0, 3, 5, 0, 0, 1, 1, 1],\n",
       "        [5, 0, 3, 5, 1, 0, 1, 1, 1],\n",
       "        [5, 0, 3, 5, 1, 0, 1, 1, 1],\n",
       "        [5, 0, 3, 5, 0, 0, 1, 1, 1],\n",
       "        [6, 0, 3, 6, 0, 0, 1, 0, 0],\n",
       "        [7, 0, 1, 5, 0, 0, 1, 0, 0],\n",
       "        [7, 0, 1, 4, 0, 0, 1, 0, 0],\n",
       "        [5, 0, 3, 5, 1, 0, 1, 1, 1],\n",
       "        [5, 0, 3, 5, 0, 0, 1, 1, 1],\n",
       "        [7, 0, 2, 5, 1, 0, 1, 0, 0]])}"
      ]
     },
     "execution_count": 166,
     "metadata": {},
     "output_type": "execute_result"
    }
   ],
   "source": [
    "cc.ndata"
   ]
  },
  {
   "cell_type": "code",
   "execution_count": 167,
   "metadata": {},
   "outputs": [],
   "source": [
    "transform3 = FeatMask(p=0.1, node_feat_names=[\"feat\"], edge_feat_names=None)"
   ]
  },
  {
   "cell_type": "code",
   "execution_count": 168,
   "metadata": {},
   "outputs": [],
   "source": [
    "c = transform3(cc)"
   ]
  },
  {
   "cell_type": "code",
   "execution_count": 172,
   "metadata": {},
   "outputs": [],
   "source": [
    "transform4 = DropNode(p=0.1)"
   ]
  },
  {
   "cell_type": "code",
   "execution_count": 173,
   "metadata": {},
   "outputs": [],
   "source": [
    "new_c = transform4(cc)"
   ]
  },
  {
   "cell_type": "code",
   "execution_count": 175,
   "metadata": {},
   "outputs": [
    {
     "data": {
      "text/plain": [
       "Graph(num_nodes=18, num_edges=36,\n",
       "      ndata_schemes={'feat': Scheme(shape=(9,), dtype=torch.int64)}\n",
       "      edata_schemes={'feat': Scheme(shape=(3,), dtype=torch.int64)})"
      ]
     },
     "execution_count": 175,
     "metadata": {},
     "output_type": "execute_result"
    }
   ],
   "source": [
    "cc"
   ]
  },
  {
   "cell_type": "code",
   "execution_count": 174,
   "metadata": {},
   "outputs": [
    {
     "data": {
      "text/plain": [
       "Graph(num_nodes=16, num_edges=28,\n",
       "      ndata_schemes={'feat': Scheme(shape=(9,), dtype=torch.int64)}\n",
       "      edata_schemes={'feat': Scheme(shape=(3,), dtype=torch.int64)})"
      ]
     },
     "execution_count": 174,
     "metadata": {},
     "output_type": "execute_result"
    }
   ],
   "source": [
    "new_c"
   ]
  },
  {
   "cell_type": "code",
   "execution_count": 63,
   "metadata": {},
   "outputs": [],
   "source": [
    "def from_dgl(\n",
    "    g: Any,\n",
    ") -> Union[\"torch_geometric.data.Data\", \"torch_geometric.data.HeteroData\"]:\n",
    "    r\"\"\"Converts a :obj:`dgl` graph object to a\n",
    "    :class:`torch_geometric.data.Data` or\n",
    "    :class:`torch_geometric.data.HeteroData` instance.\n",
    "\n",
    "    Args:\n",
    "        g (dgl.DGLGraph): The :obj:`dgl` graph object.\n",
    "\n",
    "    Example:\n",
    "\n",
    "        >>> g = dgl.graph(([0, 0, 1, 5], [1, 2, 2, 0]))\n",
    "        >>> g.ndata['x'] = torch.randn(g.num_nodes(), 3)\n",
    "        >>> g.edata['edge_attr'] = torch.randn(g.num_edges(), 2)\n",
    "        >>> data = from_dgl(g)\n",
    "        >>> data\n",
    "        Data(x=[6, 3], edge_attr=[4, 2], edge_index=[2, 4])\n",
    "\n",
    "        >>> g = dgl.heterograph({\n",
    "        >>> g = dgl.heterograph({\n",
    "        ...     ('author', 'writes', 'paper'): ([0, 1, 1, 2, 3, 3, 4],\n",
    "        ...                                     [0, 0, 1, 1, 1, 2, 2])})\n",
    "        >>> g.nodes['author'].data['x'] = torch.randn(5, 3)\n",
    "        >>> g.nodes['paper'].data['x'] = torch.randn(5, 3)\n",
    "        >>> data = from_dgl(g)\n",
    "        >>> data\n",
    "        HeteroData(\n",
    "        author={ x=[5, 3] },\n",
    "        paper={ x=[3, 3] },\n",
    "        (author, writes, paper)={ edge_index=[2, 7] }\n",
    "        )\n",
    "    \"\"\"\n",
    "    import dgl\n",
    "    from torch_geometric.data import Data, HeteroData\n",
    "\n",
    "    if not isinstance(g, dgl.DGLGraph):\n",
    "        raise ValueError(f\"Invalid data type (got '{type(g)}')\")\n",
    "\n",
    "    if g.is_homogeneous:\n",
    "        data = Data()\n",
    "        data.edge_index = torch.stack(g.edges(), dim=0)\n",
    "\n",
    "        for attr, value in g.ndata.items():\n",
    "            data[f\"n_{attr}\"] = value\n",
    "        for attr, value in g.edata.items():\n",
    "            data[f\"e_{attr}\"] = value\n",
    "\n",
    "        return data\n",
    "\n",
    "    data = HeteroData()\n",
    "\n",
    "    for node_type in g.ntypes:\n",
    "        for attr, value in g.nodes[node_type].data.items():\n",
    "            data[node_type][attr] = value\n",
    "\n",
    "    for edge_type in g.canonical_etypes:\n",
    "        row, col = g.edges(form=\"uv\", etype=edge_type)\n",
    "        data[edge_type].edge_index = torch.stack([row, col], dim=0)\n",
    "        for attr, value in g.edge_attr_schemes(edge_type).items():\n",
    "            data[edge_type][attr] = value\n",
    "\n",
    "    return data"
   ]
  },
  {
   "cell_type": "code",
   "execution_count": 64,
   "metadata": {},
   "outputs": [],
   "source": [
    "pyg = from_dgl(cc)"
   ]
  },
  {
   "cell_type": "code",
   "execution_count": 55,
   "metadata": {},
   "outputs": [],
   "source": [
    "data = Data()\n",
    "data.edge_index = torch.stack(cc.edges(), dim=0)\n",
    "\n",
    "for attr, value in cc.ndata.items():\n",
    "    data[attr] = value"
   ]
  },
  {
   "cell_type": "code",
   "execution_count": 62,
   "metadata": {},
   "outputs": [
    {
     "data": {
      "text/plain": [
       "Graph(num_nodes=18, num_edges=36,\n",
       "      ndata_schemes={'feat': Scheme(shape=(9,), dtype=torch.int64)}\n",
       "      edata_schemes={'feat': Scheme(shape=(3,), dtype=torch.int64)})"
      ]
     },
     "execution_count": 62,
     "metadata": {},
     "output_type": "execute_result"
    }
   ],
   "source": [
    "cc"
   ]
  },
  {
   "cell_type": "code",
   "execution_count": 68,
   "metadata": {},
   "outputs": [
    {
     "data": {
      "text/plain": [
       "['n_feat', 'e_feat', 'edge_index']"
      ]
     },
     "execution_count": 68,
     "metadata": {},
     "output_type": "execute_result"
    }
   ],
   "source": [
    "pyg.keys"
   ]
  },
  {
   "cell_type": "code",
   "execution_count": null,
   "metadata": {},
   "outputs": [],
   "source": []
  },
  {
   "cell_type": "code",
   "execution_count": 57,
   "metadata": {},
   "outputs": [
    {
     "data": {
      "text/plain": [
       "ItemsView({'feat': tensor([[7, 0, 1, 5, 0, 0, 1, 0, 0],\n",
       "        [5, 0, 3, 5, 0, 0, 1, 0, 0],\n",
       "        [7, 0, 2, 5, 1, 0, 1, 0, 0],\n",
       "        [5, 0, 4, 5, 2, 0, 2, 0, 0],\n",
       "        [5, 0, 4, 5, 2, 0, 2, 0, 0],\n",
       "        [5, 0, 3, 5, 0, 0, 1, 0, 0],\n",
       "        [7, 0, 2, 5, 1, 0, 1, 0, 0],\n",
       "        [6, 0, 2, 5, 0, 0, 1, 0, 0],\n",
       "        [5, 0, 3, 5, 0, 0, 1, 1, 1],\n",
       "        [5, 0, 3, 5, 1, 0, 1, 1, 1],\n",
       "        [5, 0, 3, 5, 1, 0, 1, 1, 1],\n",
       "        [5, 0, 3, 5, 0, 0, 1, 1, 1],\n",
       "        [6, 0, 3, 6, 0, 0, 1, 0, 0],\n",
       "        [7, 0, 1, 5, 0, 0, 1, 0, 0],\n",
       "        [7, 0, 1, 4, 0, 0, 1, 0, 0],\n",
       "        [5, 0, 3, 5, 1, 0, 1, 1, 1],\n",
       "        [5, 0, 3, 5, 0, 0, 1, 1, 1],\n",
       "        [7, 0, 2, 5, 1, 0, 1, 0, 0]])})"
      ]
     },
     "execution_count": 57,
     "metadata": {},
     "output_type": "execute_result"
    }
   ],
   "source": [
    "cc.ndata.items()"
   ]
  },
  {
   "cell_type": "code",
   "execution_count": 48,
   "metadata": {},
   "outputs": [
    {
     "data": {
      "text/plain": [
       "Data(edge_index=[2, 36], feat=[36, 3])"
      ]
     },
     "execution_count": 48,
     "metadata": {},
     "output_type": "execute_result"
    }
   ],
   "source": [
    "pyg"
   ]
  },
  {
   "cell_type": "code",
   "execution_count": null,
   "metadata": {},
   "outputs": [],
   "source": []
  },
  {
   "cell_type": "code",
   "execution_count": 102,
   "metadata": {},
   "outputs": [
    {
     "ename": "RuntimeError",
     "evalue": "shape '[4, 4]' is invalid for input of size 8192",
     "output_type": "error",
     "traceback": [
      "\u001b[0;31m---------------------------------------------------------------------------\u001b[0m",
      "\u001b[0;31mRuntimeError\u001b[0m                              Traceback (most recent call last)",
      "\u001b[1;32m/mnt/2547d4d7-6732-4154-b0e1-17b0c1e0c565/Document-2/Projet2/Stage/workspace/jump_models/notebooks/4.1-gw-multiview-dataset.ipynb Cell 42\u001b[0m line \u001b[0;36m1\n\u001b[0;32m----> <a href='vscode-notebook-cell:/mnt/2547d4d7-6732-4154-b0e1-17b0c1e0c565/Document-2/Projet2/Stage/workspace/jump_models/notebooks/4.1-gw-multiview-dataset.ipynb#Y104sZmlsZQ%3D%3D?line=0'>1</a>\u001b[0m kl_loss(kl_comp, image_emb)\n",
      "File \u001b[0;32m~/miniconda3/envs/jump_models/lib/python3.10/site-packages/torch/nn/modules/module.py:1501\u001b[0m, in \u001b[0;36mModule._call_impl\u001b[0;34m(self, *args, **kwargs)\u001b[0m\n\u001b[1;32m   1496\u001b[0m \u001b[39m# If we don't have any hooks, we want to skip the rest of the logic in\u001b[39;00m\n\u001b[1;32m   1497\u001b[0m \u001b[39m# this function, and just call forward.\u001b[39;00m\n\u001b[1;32m   1498\u001b[0m \u001b[39mif\u001b[39;00m \u001b[39mnot\u001b[39;00m (\u001b[39mself\u001b[39m\u001b[39m.\u001b[39m_backward_hooks \u001b[39mor\u001b[39;00m \u001b[39mself\u001b[39m\u001b[39m.\u001b[39m_backward_pre_hooks \u001b[39mor\u001b[39;00m \u001b[39mself\u001b[39m\u001b[39m.\u001b[39m_forward_hooks \u001b[39mor\u001b[39;00m \u001b[39mself\u001b[39m\u001b[39m.\u001b[39m_forward_pre_hooks\n\u001b[1;32m   1499\u001b[0m         \u001b[39mor\u001b[39;00m _global_backward_pre_hooks \u001b[39mor\u001b[39;00m _global_backward_hooks\n\u001b[1;32m   1500\u001b[0m         \u001b[39mor\u001b[39;00m _global_forward_hooks \u001b[39mor\u001b[39;00m _global_forward_pre_hooks):\n\u001b[0;32m-> 1501\u001b[0m     \u001b[39mreturn\u001b[39;00m forward_call(\u001b[39m*\u001b[39;49margs, \u001b[39m*\u001b[39;49m\u001b[39m*\u001b[39;49mkwargs)\n\u001b[1;32m   1502\u001b[0m \u001b[39m# Do not call functions when jit is used\u001b[39;00m\n\u001b[1;32m   1503\u001b[0m full_backward_hooks, non_full_backward_hooks \u001b[39m=\u001b[39m [], []\n",
      "File \u001b[0;32m/mnt/2547d4d7-6732-4154-b0e1-17b0c1e0c565/Document-2/Projet2/Stage/workspace/jump_models/src/modules/losses/multiview_losses.py:158\u001b[0m, in \u001b[0;36mKLDivergenceMultiplePositives.forward\u001b[0;34m(self, z1, z2, **kwargs)\u001b[0m\n\u001b[1;32m    156\u001b[0m         kl_div_kernel\u001b[39m.\u001b[39mappend(kl_divergence)\n\u001b[1;32m    157\u001b[0m kl_div_kernel \u001b[39m=\u001b[39m torch\u001b[39m.\u001b[39mstack(kl_div_kernel)\n\u001b[0;32m--> 158\u001b[0m kl_div_kernel \u001b[39m=\u001b[39m kl_div_kernel\u001b[39m.\u001b[39;49mview(batch_size, batch_size)\n\u001b[1;32m    160\u001b[0m sim_matrix \u001b[39m=\u001b[39m torch\u001b[39m.\u001b[39mexp(kl_div_kernel \u001b[39m/\u001b[39m \u001b[39mself\u001b[39m\u001b[39m.\u001b[39mtemperature)  \u001b[39m# [batch_size, batch_size]\u001b[39;00m\n\u001b[1;32m    161\u001b[0m pos_sim \u001b[39m=\u001b[39m torch\u001b[39m.\u001b[39mdiagonal(sim_matrix)\n",
      "\u001b[0;31mRuntimeError\u001b[0m: shape '[4, 4]' is invalid for input of size 8192"
     ]
    }
   ],
   "source": [
    "kl_loss(kl_comp, image_emb)"
   ]
  },
  {
   "cell_type": "code",
   "execution_count": null,
   "metadata": {},
   "outputs": [],
   "source": []
  },
  {
   "cell_type": "markdown",
   "metadata": {},
   "source": [
    "## Datamodule"
   ]
  },
  {
   "cell_type": "code",
   "execution_count": 70,
   "metadata": {},
   "outputs": [
    {
     "name": "stdout",
     "output_type": "stream",
     "text": [
      "\u001b[0;31mInit signature:\u001b[0m\n",
      "\u001b[0mMultiviewDataModule\u001b[0m\u001b[0;34m(\u001b[0m\u001b[0;34m\u001b[0m\n",
      "\u001b[0;34m\u001b[0m    \u001b[0mimage_metadata_path\u001b[0m\u001b[0;34m:\u001b[0m \u001b[0mstr\u001b[0m\u001b[0;34m,\u001b[0m\u001b[0;34m\u001b[0m\n",
      "\u001b[0;34m\u001b[0m    \u001b[0mcompound_metadata_path\u001b[0m\u001b[0;34m:\u001b[0m \u001b[0mstr\u001b[0m\u001b[0;34m,\u001b[0m\u001b[0;34m\u001b[0m\n",
      "\u001b[0;34m\u001b[0m    \u001b[0msplit_path\u001b[0m\u001b[0;34m:\u001b[0m \u001b[0mstr\u001b[0m\u001b[0;34m,\u001b[0m\u001b[0;34m\u001b[0m\n",
      "\u001b[0;34m\u001b[0m    \u001b[0mdataloader_config\u001b[0m\u001b[0;34m:\u001b[0m \u001b[0momegaconf\u001b[0m\u001b[0;34m.\u001b[0m\u001b[0mdictconfig\u001b[0m\u001b[0;34m.\u001b[0m\u001b[0mDictConfig\u001b[0m\u001b[0;34m,\u001b[0m\u001b[0;34m\u001b[0m\n",
      "\u001b[0;34m\u001b[0m    \u001b[0mtrain_ids_name\u001b[0m\u001b[0;34m:\u001b[0m \u001b[0mstr\u001b[0m \u001b[0;34m=\u001b[0m \u001b[0;34m'train'\u001b[0m\u001b[0;34m,\u001b[0m\u001b[0;34m\u001b[0m\n",
      "\u001b[0;34m\u001b[0m    \u001b[0mforce_split\u001b[0m\u001b[0;34m:\u001b[0m \u001b[0mbool\u001b[0m \u001b[0;34m=\u001b[0m \u001b[0;32mFalse\u001b[0m\u001b[0;34m,\u001b[0m\u001b[0;34m\u001b[0m\n",
      "\u001b[0;34m\u001b[0m    \u001b[0mcompound_col\u001b[0m\u001b[0;34m:\u001b[0m \u001b[0mstr\u001b[0m \u001b[0;34m=\u001b[0m \u001b[0;34m'Metadata_InChI'\u001b[0m\u001b[0;34m,\u001b[0m\u001b[0;34m\u001b[0m\n",
      "\u001b[0;34m\u001b[0m    \u001b[0mtransform\u001b[0m\u001b[0;34m:\u001b[0m \u001b[0mOptional\u001b[0m\u001b[0;34m[\u001b[0m\u001b[0mCallable\u001b[0m\u001b[0;34m]\u001b[0m \u001b[0;34m=\u001b[0m \u001b[0;32mNone\u001b[0m\u001b[0;34m,\u001b[0m\u001b[0;34m\u001b[0m\n",
      "\u001b[0;34m\u001b[0m    \u001b[0mcompound_transform\u001b[0m\u001b[0;34m:\u001b[0m \u001b[0mOptional\u001b[0m\u001b[0;34m[\u001b[0m\u001b[0mCallable\u001b[0m\u001b[0;34m]\u001b[0m \u001b[0;34m=\u001b[0m \u001b[0;32mNone\u001b[0m\u001b[0;34m,\u001b[0m\u001b[0;34m\u001b[0m\n",
      "\u001b[0;34m\u001b[0m    \u001b[0mcollate_fn\u001b[0m\u001b[0;34m:\u001b[0m \u001b[0mOptional\u001b[0m\u001b[0;34m[\u001b[0m\u001b[0mCallable\u001b[0m\u001b[0;34m]\u001b[0m \u001b[0;34m=\u001b[0m \u001b[0;34m<\u001b[0m\u001b[0mfunction\u001b[0m \u001b[0mdefault_collate\u001b[0m \u001b[0mat\u001b[0m \u001b[0;36m0x7f50a9cabd00\u001b[0m\u001b[0;34m>\u001b[0m\u001b[0;34m,\u001b[0m\u001b[0;34m\u001b[0m\n",
      "\u001b[0;34m\u001b[0m    \u001b[0mdata_root_dir\u001b[0m\u001b[0;34m:\u001b[0m \u001b[0mOptional\u001b[0m\u001b[0;34m[\u001b[0m\u001b[0mstr\u001b[0m\u001b[0;34m]\u001b[0m \u001b[0;34m=\u001b[0m \u001b[0;32mNone\u001b[0m\u001b[0;34m,\u001b[0m\u001b[0;34m\u001b[0m\n",
      "\u001b[0;34m\u001b[0m    \u001b[0;34m**\u001b[0m\u001b[0mkwargs\u001b[0m\u001b[0;34m,\u001b[0m\u001b[0;34m\u001b[0m\n",
      "\u001b[0;34m\u001b[0m\u001b[0;34m)\u001b[0m\u001b[0;34m\u001b[0m\u001b[0;34m\u001b[0m\u001b[0m\n",
      "\u001b[0;31mDocstring:\u001b[0m     \n",
      "A DataModule standardizes the training, val, test splits, data preparation and transforms. The main advantage is\n",
      "consistent data splits, data preparation and transforms across models.\n",
      "\n",
      "Example::\n",
      "\n",
      "    class MyDataModule(LightningDataModule):\n",
      "        def __init__(self):\n",
      "            super().__init__()\n",
      "        def prepare_data(self):\n",
      "            # download, split, etc...\n",
      "            # only called on 1 GPU/TPU in distributed\n",
      "        def setup(self, stage):\n",
      "            # make assignments here (val/train/test split)\n",
      "            # called on every process in DDP\n",
      "        def train_dataloader(self):\n",
      "            train_split = Dataset(...)\n",
      "            return DataLoader(train_split)\n",
      "        def val_dataloader(self):\n",
      "            val_split = Dataset(...)\n",
      "            return DataLoader(val_split)\n",
      "        def test_dataloader(self):\n",
      "            test_split = Dataset(...)\n",
      "            return DataLoader(test_split)\n",
      "        def teardown(self):\n",
      "            # clean up after fit or test\n",
      "            # called on every process in DDP\n",
      "\u001b[0;31mInit docstring:\u001b[0m\n",
      "Attributes:\n",
      "    prepare_data_per_node:\n",
      "        If True, each LOCAL_RANK=0 will call prepare data.\n",
      "        Otherwise only NODE_RANK=0, LOCAL_RANK=0 will prepare data.\n",
      "    allow_zero_length_dataloader_with_multiple_devices:\n",
      "        If True, dataloader with zero length within local rank is allowed.\n",
      "        Default value is False.\n",
      "\u001b[0;31mFile:\u001b[0m           /mnt/2547d4d7-6732-4154-b0e1-17b0c1e0c565/Document-2/Projet2/Stage/workspace/jump_models/src/models/multiview_cl/datamodule.py\n",
      "\u001b[0;31mType:\u001b[0m           type\n",
      "\u001b[0;31mSubclasses:\u001b[0m     "
     ]
    }
   ],
   "source": [
    "MultiviewDataModule()"
   ]
  },
  {
   "cell_type": "markdown",
   "metadata": {},
   "source": [
    "## Module"
   ]
  },
  {
   "cell_type": "code",
   "execution_count": 74,
   "metadata": {},
   "outputs": [
    {
     "name": "stdout",
     "output_type": "stream",
     "text": [
      "\u001b[0;31mInit signature:\u001b[0m\n",
      "\u001b[0mMutliviewModule\u001b[0m\u001b[0;34m(\u001b[0m\u001b[0;34m\u001b[0m\n",
      "\u001b[0;34m\u001b[0m    \u001b[0mimage_encoder\u001b[0m\u001b[0;34m:\u001b[0m \u001b[0mtorch\u001b[0m\u001b[0;34m.\u001b[0m\u001b[0mnn\u001b[0m\u001b[0;34m.\u001b[0m\u001b[0mmodules\u001b[0m\u001b[0;34m.\u001b[0m\u001b[0mmodule\u001b[0m\u001b[0;34m.\u001b[0m\u001b[0mModule\u001b[0m\u001b[0;34m,\u001b[0m\u001b[0;34m\u001b[0m\n",
      "\u001b[0;34m\u001b[0m    \u001b[0mmolecule_encoder\u001b[0m\u001b[0;34m:\u001b[0m \u001b[0mtorch\u001b[0m\u001b[0;34m.\u001b[0m\u001b[0mnn\u001b[0m\u001b[0;34m.\u001b[0m\u001b[0mmodules\u001b[0m\u001b[0;34m.\u001b[0m\u001b[0mmodule\u001b[0m\u001b[0;34m.\u001b[0m\u001b[0mModule\u001b[0m\u001b[0;34m,\u001b[0m\u001b[0;34m\u001b[0m\n",
      "\u001b[0;34m\u001b[0m    \u001b[0mcriterion\u001b[0m\u001b[0;34m:\u001b[0m \u001b[0mtorch\u001b[0m\u001b[0;34m.\u001b[0m\u001b[0mnn\u001b[0m\u001b[0;34m.\u001b[0m\u001b[0mmodules\u001b[0m\u001b[0;34m.\u001b[0m\u001b[0mmodule\u001b[0m\u001b[0;34m.\u001b[0m\u001b[0mModule\u001b[0m\u001b[0;34m,\u001b[0m\u001b[0;34m\u001b[0m\n",
      "\u001b[0;34m\u001b[0m    \u001b[0moptimizer\u001b[0m\u001b[0;34m:\u001b[0m \u001b[0mtorch\u001b[0m\u001b[0;34m.\u001b[0m\u001b[0moptim\u001b[0m\u001b[0;34m.\u001b[0m\u001b[0moptimizer\u001b[0m\u001b[0;34m.\u001b[0m\u001b[0mOptimizer\u001b[0m\u001b[0;34m,\u001b[0m\u001b[0;34m\u001b[0m\n",
      "\u001b[0;34m\u001b[0m    \u001b[0mscheduler\u001b[0m\u001b[0;34m:\u001b[0m \u001b[0;34m<\u001b[0m\u001b[0mmodule\u001b[0m \u001b[0;34m'torch.optim.lr_scheduler'\u001b[0m \u001b[0;32mfrom\u001b[0m \u001b[0;34m'/home/gwatk/miniconda3/envs/jump_models/lib/python3.10/site-packages/torch/optim/lr_scheduler.py'\u001b[0m\u001b[0;34m>\u001b[0m\u001b[0;34m,\u001b[0m\u001b[0;34m\u001b[0m\n",
      "\u001b[0;34m\u001b[0m    \u001b[0membedding_dim\u001b[0m\u001b[0;34m:\u001b[0m \u001b[0mint\u001b[0m\u001b[0;34m,\u001b[0m\u001b[0;34m\u001b[0m\n",
      "\u001b[0;34m\u001b[0m    \u001b[0mexample_input\u001b[0m\u001b[0;34m:\u001b[0m \u001b[0mOptional\u001b[0m\u001b[0;34m[\u001b[0m\u001b[0mtorch\u001b[0m\u001b[0;34m.\u001b[0m\u001b[0mTensor\u001b[0m\u001b[0;34m]\u001b[0m \u001b[0;34m=\u001b[0m \u001b[0;32mNone\u001b[0m\u001b[0;34m,\u001b[0m\u001b[0;34m\u001b[0m\n",
      "\u001b[0;34m\u001b[0m    \u001b[0mexample_input_path\u001b[0m\u001b[0;34m:\u001b[0m \u001b[0mOptional\u001b[0m\u001b[0;34m[\u001b[0m\u001b[0mstr\u001b[0m\u001b[0;34m]\u001b[0m \u001b[0;34m=\u001b[0m \u001b[0;32mNone\u001b[0m\u001b[0;34m,\u001b[0m\u001b[0;34m\u001b[0m\n",
      "\u001b[0;34m\u001b[0m    \u001b[0mmonitor\u001b[0m\u001b[0;34m:\u001b[0m \u001b[0mstr\u001b[0m \u001b[0;34m=\u001b[0m \u001b[0;34m'val/loss'\u001b[0m\u001b[0;34m,\u001b[0m\u001b[0;34m\u001b[0m\n",
      "\u001b[0;34m\u001b[0m    \u001b[0minterval\u001b[0m\u001b[0;34m:\u001b[0m \u001b[0mstr\u001b[0m \u001b[0;34m=\u001b[0m \u001b[0;34m'epoch'\u001b[0m\u001b[0;34m,\u001b[0m\u001b[0;34m\u001b[0m\n",
      "\u001b[0;34m\u001b[0m    \u001b[0mfrequency\u001b[0m\u001b[0;34m:\u001b[0m \u001b[0mint\u001b[0m \u001b[0;34m=\u001b[0m \u001b[0;36m1\u001b[0m\u001b[0;34m,\u001b[0m\u001b[0;34m\u001b[0m\n",
      "\u001b[0;34m\u001b[0m    \u001b[0mlr\u001b[0m\u001b[0;34m:\u001b[0m \u001b[0mOptional\u001b[0m\u001b[0;34m[\u001b[0m\u001b[0mfloat\u001b[0m\u001b[0;34m]\u001b[0m \u001b[0;34m=\u001b[0m \u001b[0;32mNone\u001b[0m\u001b[0;34m,\u001b[0m\u001b[0;34m\u001b[0m\n",
      "\u001b[0;34m\u001b[0m    \u001b[0mbatch_size\u001b[0m\u001b[0;34m:\u001b[0m \u001b[0mOptional\u001b[0m\u001b[0;34m[\u001b[0m\u001b[0mint\u001b[0m\u001b[0;34m]\u001b[0m \u001b[0;34m=\u001b[0m \u001b[0;32mNone\u001b[0m\u001b[0;34m,\u001b[0m\u001b[0;34m\u001b[0m\n",
      "\u001b[0;34m\u001b[0m    \u001b[0;34m**\u001b[0m\u001b[0mkwargs\u001b[0m\u001b[0;34m,\u001b[0m\u001b[0;34m\u001b[0m\n",
      "\u001b[0;34m\u001b[0m\u001b[0;34m)\u001b[0m\u001b[0;34m\u001b[0m\u001b[0;34m\u001b[0m\u001b[0m\n",
      "\u001b[0;31mDocstring:\u001b[0m      Hooks to be used in LightningModule.\n",
      "\u001b[0;31mFile:\u001b[0m           /mnt/2547d4d7-6732-4154-b0e1-17b0c1e0c565/Document-2/Projet2/Stage/workspace/jump_models/src/models/multiview_cl/module.py\n",
      "\u001b[0;31mType:\u001b[0m           type\n",
      "\u001b[0;31mSubclasses:\u001b[0m     "
     ]
    }
   ],
   "source": [
    "MutliviewModule?"
   ]
  },
  {
   "cell_type": "markdown",
   "metadata": {},
   "source": [
    "## Loss"
   ]
  },
  {
   "cell_type": "code",
   "execution_count": null,
   "metadata": {},
   "outputs": [],
   "source": []
  }
 ],
 "metadata": {
  "kernelspec": {
   "display_name": "jump_models",
   "language": "python",
   "name": "python3"
  },
  "language_info": {
   "codemirror_mode": {
    "name": "ipython",
    "version": 3
   },
   "file_extension": ".py",
   "mimetype": "text/x-python",
   "name": "python",
   "nbconvert_exporter": "python",
   "pygments_lexer": "ipython3",
   "version": "3.10.10"
  },
  "orig_nbformat": 4
 },
 "nbformat": 4,
 "nbformat_minor": 2
}
