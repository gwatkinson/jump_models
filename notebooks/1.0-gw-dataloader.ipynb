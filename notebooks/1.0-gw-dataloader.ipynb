{
 "cells": [
  {
   "cell_type": "code",
   "execution_count": 5,
   "metadata": {},
   "outputs": [],
   "source": [
    "%load_ext autoreload\n",
    "%autoreload 2"
   ]
  },
  {
   "cell_type": "code",
   "execution_count": 1,
   "metadata": {},
   "outputs": [],
   "source": [
    "import logging\n",
    "\n",
    "from omegaconf import DictConfig\n",
    "\n",
    "from src.data.jump_datamodule import BasicJUMPDataModule\n",
    "from src.data.splits import ScaffoldSplitter\n",
    "from src.utils.mol_utils import inchi_to_smiles"
   ]
  },
  {
   "cell_type": "code",
   "execution_count": 2,
   "metadata": {},
   "outputs": [
    {
     "name": "stderr",
     "output_type": "stream",
     "text": [
      "DEBUG:root:test\n"
     ]
    }
   ],
   "source": [
    "logger = logging.getLogger()\n",
    "logger.setLevel(logging.DEBUG)\n",
    "logging.debug(\"test\")"
   ]
  },
  {
   "cell_type": "code",
   "execution_count": 3,
   "metadata": {},
   "outputs": [],
   "source": [
    "dm = BasicJUMPDataModule(\n",
    "    image_metadata_path=\"./data/jump/models/metadata/images_metadata.parquet\",\n",
    "    compound_metadata_path=\"./data/jump/models/metadata/compound_dict.json\",\n",
    "    compound_col=\"Metadata_InChI\",\n",
    "    split_path=\"./data/jump/models/splits/small_test/\",\n",
    "    dataloader_config=DictConfig(\n",
    "        {\n",
    "            \"train\": DictConfig(\n",
    "                {\n",
    "                    \"batch_size\": 32,\n",
    "                    \"num_workers\": 0,\n",
    "                    \"pin_memory\": False,\n",
    "                    \"shuffle\": True,\n",
    "                }\n",
    "            ),\n",
    "            \"val\": DictConfig(\n",
    "                {\n",
    "                    \"batch_size\": 32,\n",
    "                    \"num_workers\": 0,\n",
    "                    \"pin_memory\": False,\n",
    "                    \"shuffle\": False,\n",
    "                }\n",
    "            ),\n",
    "            \"test\": DictConfig(\n",
    "                {\n",
    "                    \"batch_size\": 32,\n",
    "                    \"num_workers\": 0,\n",
    "                    \"pin_memory\": False,\n",
    "                    \"shuffle\": False,\n",
    "                }\n",
    "            ),\n",
    "        }\n",
    "    ),\n",
    "    transform=None,\n",
    "    compound_transform=inchi_to_smiles,\n",
    "    image_sampler=None,\n",
    "    metadata_dir=\"../cpjump1/jump/metadata/complete_metadata.csv\",\n",
    "    local_load_data_dir=\"../cpjump1/jump/load_data/final/\",\n",
    "    splitter=ScaffoldSplitter(\n",
    "        train=800,\n",
    "        test=200,\n",
    "        val=100,\n",
    "    ),\n",
    "    index_str=\"{Metadata_Source}__{Metadata_Batch}__{Metadata_Plate}__{Metadata_Well}__{Metadata_Site}\",\n",
    "    channels=[\"DNA\", \"AGP\", \"ER\", \"Mito\", \"RNA\"],\n",
    "    col_fstring=\"FileName_Orig{channel}\",\n",
    "    id_cols=[\"Metadata_Source\", \"Metadata_Batch\", \"Metadata_Plate\", \"Metadata_Well\"],\n",
    "    extra_cols=[\"Metadata_PlateType\", \"Metadata_Site\"],\n",
    ")"
   ]
  },
  {
   "cell_type": "code",
   "execution_count": 4,
   "metadata": {},
   "outputs": [
    {
     "name": "stderr",
     "output_type": "stream",
     "text": [
      "INFO:src.data.jump_datamodule:=== Preparing image metadata ===\n",
      "INFO:src.data.jump_datamodule:data/jump/models/metadata/images_metadata.parquet does not exist.\n",
      "DEBUG:src.data.jump_datamodule:Loading load data df from ../cpjump1/jump/load_data/final ...\n"
     ]
    }
   ],
   "source": [
    "dm.prepare_data()"
   ]
  },
  {
   "cell_type": "code",
   "execution_count": null,
   "metadata": {},
   "outputs": [],
   "source": [
    "dm.setup(stage=\"fit\")"
   ]
  }
 ],
 "metadata": {
  "kernelspec": {
   "display_name": "jump_models",
   "language": "python",
   "name": "python3"
  },
  "language_info": {
   "codemirror_mode": {
    "name": "ipython",
    "version": 3
   },
   "file_extension": ".py",
   "mimetype": "text/x-python",
   "name": "python",
   "nbconvert_exporter": "python",
   "pygments_lexer": "ipython3",
   "version": "3.10.10"
  },
  "orig_nbformat": 4
 },
 "nbformat": 4,
 "nbformat_minor": 2
}
