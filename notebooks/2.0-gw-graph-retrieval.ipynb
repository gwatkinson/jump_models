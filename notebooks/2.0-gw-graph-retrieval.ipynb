{
 "cells": [
  {
   "cell_type": "code",
   "execution_count": 1,
   "metadata": {},
   "outputs": [],
   "source": [
    "import polars as pl"
   ]
  },
  {
   "cell_type": "code",
   "execution_count": 19,
   "metadata": {},
   "outputs": [],
   "source": [
    "df = (\n",
    "    pl.scan_csv(\"/home/gwatk/Downloads/pubchem.chembl.dataset4publication_inchi_smiles.tsv\", separator=\"\\t\")\n",
    "    .select([\"DB\", \"Original_Assay_ID\", \"Gene_Symbol\", \"InChI\", \"SMILES\"])\n",
    "    .filter(pl.col(\"Gene_Symbol\").is_in([\"BRCA1\", \"HIF1A\", \"JUN\", \"STAT3\", \"TP53\", \"HSPA5\"]))\n",
    "    .collect()\n",
    ")"
   ]
  },
  {
   "cell_type": "code",
   "execution_count": 20,
   "metadata": {},
   "outputs": [
    {
     "data": {
      "text/html": [
       "<div><style>\n",
       ".dataframe > thead > tr > th,\n",
       ".dataframe > tbody > tr > td {\n",
       "  text-align: right;\n",
       "}\n",
       "</style>\n",
       "<small>shape: (987_660, 5)</small><table border=\"1\" class=\"dataframe\"><thead><tr><th>DB</th><th>Original_Assay_ID</th><th>Gene_Symbol</th><th>InChI</th><th>SMILES</th></tr><tr><td>str</td><td>i64</td><td>str</td><td>str</td><td>str</td></tr></thead><tbody><tr><td>&quot;chembl20&quot;</td><td>845196</td><td>&quot;BRCA1&quot;</td><td>&quot;InChI=1/C18H14…</td><td>&quot;O=C(NC=1C=C2N=…</td></tr><tr><td>&quot;chembl20&quot;</td><td>737623</td><td>&quot;TP53&quot;</td><td>&quot;InChI=1/C18H14…</td><td>&quot;O=C(NC=1C=C2N=…</td></tr><tr><td>&quot;pubchem&quot;</td><td>624202</td><td>&quot;BRCA1&quot;</td><td>&quot;InChI=1/C18H14…</td><td>&quot;O=C(NC1=CC=2NC…</td></tr><tr><td>&quot;pubchem_screen…</td><td>871</td><td>&quot;STAT3&quot;</td><td>&quot;InChI=1/C18H14…</td><td>&quot;O=C(NC1=CC=2NC…</td></tr><tr><td>&quot;pubchem&quot;</td><td>624202</td><td>&quot;BRCA1&quot;</td><td>&quot;InChI=1/C21H21…</td><td>&quot;S(C=1N(C(=NN1)…</td></tr><tr><td>&quot;pubchem_screen…</td><td>871</td><td>&quot;STAT3&quot;</td><td>&quot;InChI=1/C21H21…</td><td>&quot;S(C=1N(C(=NN1)…</td></tr><tr><td>&quot;pubchem&quot;</td><td>504706</td><td>&quot;TP53&quot;</td><td>&quot;InChI=1/C21H21…</td><td>&quot;S(C=1N(C(=NN1)…</td></tr><tr><td>&quot;pubchem&quot;</td><td>624202</td><td>&quot;BRCA1&quot;</td><td>&quot;InChI=1/C20H16…</td><td>&quot;S(CC1=CC=C(F)C…</td></tr><tr><td>&quot;pubchem&quot;</td><td>504706</td><td>&quot;TP53&quot;</td><td>&quot;InChI=1/C20H16…</td><td>&quot;S(CC1=CC=C(F)C…</td></tr><tr><td>&quot;pubchem&quot;</td><td>624202</td><td>&quot;BRCA1&quot;</td><td>&quot;InChI=1/C12H19…</td><td>&quot;BrC=1SC(S(=O)(…</td></tr><tr><td>&quot;pubchem&quot;</td><td>504706</td><td>&quot;TP53&quot;</td><td>&quot;InChI=1/C12H19…</td><td>&quot;BrC=1SC(S(=O)(…</td></tr><tr><td>&quot;pubchem&quot;</td><td>624202</td><td>&quot;BRCA1&quot;</td><td>&quot;InChI=1/C20H16…</td><td>&quot;ClC1=CC=C(C=2C…</td></tr><tr><td>&hellip;</td><td>&hellip;</td><td>&hellip;</td><td>&hellip;</td><td>&hellip;</td></tr><tr><td>&quot;pubchem_screen…</td><td>871</td><td>&quot;STAT3&quot;</td><td>&quot;InChI=1/C20H26…</td><td>&quot;N(CCCN=C(C1=C(…</td></tr><tr><td>&quot;pubchem&quot;</td><td>504706</td><td>&quot;TP53&quot;</td><td>&quot;InChI=1/C20H26…</td><td>&quot;N(CCCN=C(C1=C(…</td></tr><tr><td>&quot;pubchem&quot;</td><td>624202</td><td>&quot;BRCA1&quot;</td><td>&quot;InChI=1/C20H26…</td><td>&quot;[SH]1(O)(=O)=C…</td></tr><tr><td>&quot;pubchem&quot;</td><td>504706</td><td>&quot;TP53&quot;</td><td>&quot;InChI=1/C20H26…</td><td>&quot;[SH]1(O)(=O)=C…</td></tr><tr><td>&quot;pubchem&quot;</td><td>624202</td><td>&quot;BRCA1&quot;</td><td>&quot;InChI=1/C20H22…</td><td>&quot;S(C=1N=C(N=C2C…</td></tr><tr><td>&quot;pubchem_screen…</td><td>871</td><td>&quot;STAT3&quot;</td><td>&quot;InChI=1/C20H22…</td><td>&quot;S(C=1N=C(N=C2C…</td></tr><tr><td>&quot;pubchem&quot;</td><td>924</td><td>&quot;TP53&quot;</td><td>&quot;InChI=1/C20H22…</td><td>&quot;S(C=1N=C(N=C2C…</td></tr><tr><td>&quot;pubchem&quot;</td><td>924</td><td>&quot;TP53&quot;</td><td>&quot;InChI=1/C25H26…</td><td>&quot;O=C(N1CCN(CC1)…</td></tr><tr><td>&quot;pubchem&quot;</td><td>624202</td><td>&quot;BRCA1&quot;</td><td>&quot;InChI=1/C16H12…</td><td>&quot;O=C1C=CC(=CNNC…</td></tr><tr><td>&quot;pubchem&quot;</td><td>504706</td><td>&quot;TP53&quot;</td><td>&quot;InChI=1/C16H12…</td><td>&quot;O=C1C=CC(=CNNC…</td></tr><tr><td>&quot;pubchem&quot;</td><td>624202</td><td>&quot;BRCA1&quot;</td><td>&quot;InChI=1/C20H24…</td><td>&quot;S(=O)(=O)(N1CC…</td></tr><tr><td>&quot;pubchem&quot;</td><td>504706</td><td>&quot;TP53&quot;</td><td>&quot;InChI=1/C20H24…</td><td>&quot;S(=O)(=O)(N1CC…</td></tr></tbody></table></div>"
      ],
      "text/plain": [
       "shape: (987_660, 5)\n",
       "┌───────────────────┬───────────────────┬─────────────┬──────────────────────┬─────────────────────┐\n",
       "│ DB                ┆ Original_Assay_ID ┆ Gene_Symbol ┆ InChI                ┆ SMILES              │\n",
       "│ ---               ┆ ---               ┆ ---         ┆ ---                  ┆ ---                 │\n",
       "│ str               ┆ i64               ┆ str         ┆ str                  ┆ str                 │\n",
       "╞═══════════════════╪═══════════════════╪═════════════╪══════════════════════╪═════════════════════╡\n",
       "│ chembl20          ┆ 845196            ┆ BRCA1       ┆ InChI=1/C18H14N6O3/c ┆ O=C(NC=1C=C2N=C(NC2 │\n",
       "│                   ┆                   ┆             ┆ 1-23-10-15(2…        ┆ =CC1)C=3C=CC=…      │\n",
       "│ chembl20          ┆ 737623            ┆ TP53        ┆ InChI=1/C18H14N6O3/c ┆ O=C(NC=1C=C2N=C(NC2 │\n",
       "│                   ┆                   ┆             ┆ 1-23-10-15(2…        ┆ =CC1)C=3C=CC=…      │\n",
       "│ pubchem           ┆ 624202            ┆ BRCA1       ┆ InChI=1/C18H14N6O3/c ┆ O=C(NC1=CC=2NC(=NC2 │\n",
       "│                   ┆                   ┆             ┆ 1-23-10-15(2…        ┆ C=C1)C=3C=CC=…      │\n",
       "│ pubchem_screening ┆ 871               ┆ STAT3       ┆ InChI=1/C18H14N6O3/c ┆ O=C(NC1=CC=2NC(=NC2 │\n",
       "│                   ┆                   ┆             ┆ 1-23-10-15(2…        ┆ C=C1)C=3C=CC=…      │\n",
       "│ …                 ┆ …                 ┆ …           ┆ …                    ┆ …                   │\n",
       "│ pubchem           ┆ 624202            ┆ BRCA1       ┆ InChI=1/C16H12N6O/c2 ┆ O=C1C=CC(=CNNC2=NN3 │\n",
       "│                   ┆                   ┆             ┆ 3-12-7-5-11(…        ┆ C(=NN=C3)C=4C…      │\n",
       "│ pubchem           ┆ 504706            ┆ TP53        ┆ InChI=1/C16H12N6O/c2 ┆ O=C1C=CC(=CNNC2=NN3 │\n",
       "│                   ┆                   ┆             ┆ 3-12-7-5-11(…        ┆ C(=NN=C3)C=4C…      │\n",
       "│ pubchem           ┆ 624202            ┆ BRCA1       ┆ InChI=1/C20H24N2O3S/ ┆ S(=O)(=O)(N1CCCCC1) │\n",
       "│                   ┆                   ┆             ┆ c23-20(21-13…        ┆ C=2C=C(C=CC2)…      │\n",
       "│ pubchem           ┆ 504706            ┆ TP53        ┆ InChI=1/C20H24N2O3S/ ┆ S(=O)(=O)(N1CCCCC1) │\n",
       "│                   ┆                   ┆             ┆ c23-20(21-13…        ┆ C=2C=C(C=CC2)…      │\n",
       "└───────────────────┴───────────────────┴─────────────┴──────────────────────┴─────────────────────┘"
      ]
     },
     "execution_count": 20,
     "metadata": {},
     "output_type": "execute_result"
    }
   ],
   "source": [
    "df"
   ]
  },
  {
   "cell_type": "code",
   "execution_count": 28,
   "metadata": {},
   "outputs": [],
   "source": [
    "q = (\n",
    "    df.lazy()\n",
    "    .groupby(\"Gene_Symbol\")\n",
    "    .agg(\n",
    "        pl.count(),\n",
    "        pl.col(\"Original_Assay_ID\").n_unique().alias(\"n_assays\"),\n",
    "        pl.col(\"InChI\").n_unique().alias(\"n_inchi\"),\n",
    "        pl.col(\"DB\").n_unique().alias(\"n_db\"),\n",
    "    )\n",
    ")"
   ]
  },
  {
   "cell_type": "code",
   "execution_count": 29,
   "metadata": {},
   "outputs": [
    {
     "data": {
      "text/html": [
       "<div><style>\n",
       ".dataframe > thead > tr > th,\n",
       ".dataframe > tbody > tr > td {\n",
       "  text-align: right;\n",
       "}\n",
       "</style>\n",
       "<small>shape: (6, 5)</small><table border=\"1\" class=\"dataframe\"><thead><tr><th>Gene_Symbol</th><th>count</th><th>n_assays</th><th>n_inchi</th><th>n_db</th></tr><tr><td>str</td><td>u32</td><td>u32</td><td>u32</td><td>u32</td></tr></thead><tbody><tr><td>&quot;JUN&quot;</td><td>3387</td><td>18</td><td>3387</td><td>2</td></tr><tr><td>&quot;STAT3&quot;</td><td>209395</td><td>90</td><td>209378</td><td>3</td></tr><tr><td>&quot;HSPA5&quot;</td><td>3154</td><td>4</td><td>3154</td><td>1</td></tr><tr><td>&quot;TP53&quot;</td><td>388890</td><td>25</td><td>388867</td><td>3</td></tr><tr><td>&quot;HIF1A&quot;</td><td>10303</td><td>37</td><td>10300</td><td>3</td></tr><tr><td>&quot;BRCA1&quot;</td><td>372531</td><td>8</td><td>372525</td><td>2</td></tr></tbody></table></div>"
      ],
      "text/plain": [
       "shape: (6, 5)\n",
       "┌─────────────┬────────┬──────────┬─────────┬──────┐\n",
       "│ Gene_Symbol ┆ count  ┆ n_assays ┆ n_inchi ┆ n_db │\n",
       "│ ---         ┆ ---    ┆ ---      ┆ ---     ┆ ---  │\n",
       "│ str         ┆ u32    ┆ u32      ┆ u32     ┆ u32  │\n",
       "╞═════════════╪════════╪══════════╪═════════╪══════╡\n",
       "│ JUN         ┆ 3387   ┆ 18       ┆ 3387    ┆ 2    │\n",
       "│ STAT3       ┆ 209395 ┆ 90       ┆ 209378  ┆ 3    │\n",
       "│ HSPA5       ┆ 3154   ┆ 4        ┆ 3154    ┆ 1    │\n",
       "│ TP53        ┆ 388890 ┆ 25       ┆ 388867  ┆ 3    │\n",
       "│ HIF1A       ┆ 10303  ┆ 37       ┆ 10300   ┆ 3    │\n",
       "│ BRCA1       ┆ 372531 ┆ 8        ┆ 372525  ┆ 2    │\n",
       "└─────────────┴────────┴──────────┴─────────┴──────┘"
      ]
     },
     "execution_count": 29,
     "metadata": {},
     "output_type": "execute_result"
    }
   ],
   "source": [
    "q.collect()"
   ]
  },
  {
   "cell_type": "code",
   "execution_count": 6,
   "metadata": {},
   "outputs": [],
   "source": [
    "qq = (\n",
    "    pl.scan_csv(\"/home/gwatk/Downloads/pubchem.chembl.dataset4publication_inchi_smiles.tsv\", separator=\"\\t\")\n",
    "    .select([\"DB\", \"Original_Assay_ID\", \"Gene_Symbol\", \"InChI\", \"SMILES\"])\n",
    "    .groupby(\"Gene_Symbol\")\n",
    "    .agg(\n",
    "        pl.count(),\n",
    "        pl.col(\"Original_Assay_ID\").n_unique().alias(\"n_assays\"),\n",
    "        pl.col(\"InChI\").n_unique().alias(\"n_inchi\"),\n",
    "        pl.col(\"DB\").n_unique().alias(\"n_db\"),\n",
    "    )\n",
    "    .take_every(20)\n",
    "    .fetch(50000)\n",
    ")"
   ]
  },
  {
   "cell_type": "code",
   "execution_count": 10,
   "metadata": {},
   "outputs": [
    {
     "data": {
      "text/html": [
       "<div><style>\n",
       ".dataframe > thead > tr > th,\n",
       ".dataframe > tbody > tr > td {\n",
       "  text-align: right;\n",
       "}\n",
       "</style>\n",
       "<small>shape: (25, 5)</small><table border=\"1\" class=\"dataframe\"><thead><tr><th>Gene_Symbol</th><th>count</th><th>n_assays</th><th>n_inchi</th><th>n_db</th></tr><tr><td>str</td><td>u32</td><td>u32</td><td>u32</td><td>u32</td></tr></thead><tbody><tr><td>&quot;PTPN7&quot;</td><td>84</td><td>1</td><td>84</td><td>1</td></tr><tr><td>&quot;CA13&quot;</td><td>2</td><td>1</td><td>2</td><td>1</td></tr><tr><td>&quot;LOC400927-CSNK…</td><td>1</td><td>1</td><td>1</td><td>1</td></tr><tr><td>&quot;GALK1&quot;</td><td>185</td><td>2</td><td>185</td><td>1</td></tr><tr><td>&quot;GRIK1&quot;</td><td>1</td><td>1</td><td>1</td><td>1</td></tr><tr><td>&quot;RAC1&quot;</td><td>137</td><td>2</td><td>137</td><td>2</td></tr><tr><td>&quot;CCKBR&quot;</td><td>2</td><td>2</td><td>2</td><td>2</td></tr><tr><td>&quot;KDM4C&quot;</td><td>67</td><td>1</td><td>67</td><td>1</td></tr><tr><td>&quot;CASP2&quot;</td><td>1</td><td>1</td><td>1</td><td>1</td></tr><tr><td>&quot;PMP22&quot;</td><td>3</td><td>2</td><td>3</td><td>2</td></tr><tr><td>&quot;BRCA1&quot;</td><td>257</td><td>3</td><td>257</td><td>2</td></tr><tr><td>&quot;MCOLN3&quot;</td><td>157</td><td>1</td><td>157</td><td>1</td></tr><tr><td>&quot;GALR2&quot;</td><td>105</td><td>3</td><td>105</td><td>1</td></tr><tr><td>&quot;FLT3&quot;</td><td>1</td><td>1</td><td>1</td><td>1</td></tr><tr><td>&quot;MMP8&quot;</td><td>1</td><td>1</td><td>1</td><td>1</td></tr><tr><td>&quot;WEE1&quot;</td><td>157</td><td>2</td><td>157</td><td>1</td></tr><tr><td>&quot;ADRA1B&quot;</td><td>2</td><td>2</td><td>2</td><td>1</td></tr><tr><td>&quot;CFTR&quot;</td><td>313</td><td>3</td><td>313</td><td>2</td></tr><tr><td>&quot;CBX1&quot;</td><td>274</td><td>3</td><td>274</td><td>2</td></tr><tr><td>&quot;MMP14&quot;</td><td>249</td><td>3</td><td>249</td><td>3</td></tr><tr><td>&quot;RARA&quot;</td><td>6</td><td>2</td><td>6</td><td>1</td></tr><tr><td>&quot;FGFR2&quot;</td><td>1</td><td>1</td><td>1</td><td>1</td></tr><tr><td>&quot;PRKCG&quot;</td><td>1</td><td>1</td><td>1</td><td>1</td></tr><tr><td>&quot;S100A4&quot;</td><td>239</td><td>1</td><td>239</td><td>1</td></tr><tr><td>&quot;GNRHR&quot;</td><td>1</td><td>1</td><td>1</td><td>1</td></tr></tbody></table></div>"
      ],
      "text/plain": [
       "shape: (25, 5)\n",
       "┌──────────────────┬───────┬──────────┬─────────┬──────┐\n",
       "│ Gene_Symbol      ┆ count ┆ n_assays ┆ n_inchi ┆ n_db │\n",
       "│ ---              ┆ ---   ┆ ---      ┆ ---     ┆ ---  │\n",
       "│ str              ┆ u32   ┆ u32      ┆ u32     ┆ u32  │\n",
       "╞══════════════════╪═══════╪══════════╪═════════╪══════╡\n",
       "│ PTPN7            ┆ 84    ┆ 1        ┆ 84      ┆ 1    │\n",
       "│ CA13             ┆ 2     ┆ 1        ┆ 2       ┆ 1    │\n",
       "│ LOC400927-CSNK1E ┆ 1     ┆ 1        ┆ 1       ┆ 1    │\n",
       "│ GALK1            ┆ 185   ┆ 2        ┆ 185     ┆ 1    │\n",
       "│ …                ┆ …     ┆ …        ┆ …       ┆ …    │\n",
       "│ FGFR2            ┆ 1     ┆ 1        ┆ 1       ┆ 1    │\n",
       "│ PRKCG            ┆ 1     ┆ 1        ┆ 1       ┆ 1    │\n",
       "│ S100A4           ┆ 239   ┆ 1        ┆ 239     ┆ 1    │\n",
       "│ GNRHR            ┆ 1     ┆ 1        ┆ 1       ┆ 1    │\n",
       "└──────────────────┴───────┴──────────┴─────────┴──────┘"
      ]
     },
     "execution_count": 10,
     "metadata": {},
     "output_type": "execute_result"
    }
   ],
   "source": [
    "qq.head(25)"
   ]
  }
 ],
 "metadata": {
  "kernelspec": {
   "display_name": "jump_models",
   "language": "python",
   "name": "python3"
  },
  "language_info": {
   "codemirror_mode": {
    "name": "ipython",
    "version": 3
   },
   "file_extension": ".py",
   "mimetype": "text/x-python",
   "name": "python",
   "nbconvert_exporter": "python",
   "pygments_lexer": "ipython3",
   "version": "3.10.10"
  },
  "orig_nbformat": 4
 },
 "nbformat": 4,
 "nbformat_minor": 2
}
