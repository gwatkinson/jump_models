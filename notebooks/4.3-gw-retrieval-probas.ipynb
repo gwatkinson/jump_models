{
 "cells": [
  {
   "cell_type": "code",
   "execution_count": 27,
   "metadata": {},
   "outputs": [],
   "source": [
    "from collections import defaultdict\n",
    "\n",
    "import matplotlib.pyplot as plt\n",
    "import numpy as np\n",
    "from numpy import random as rd"
   ]
  },
  {
   "cell_type": "code",
   "execution_count": 43,
   "metadata": {},
   "outputs": [],
   "source": [
    "num_neg = 100\n",
    "num_pos = 20\n",
    "num_samples = num_neg + num_pos\n",
    "num_tries = 1000000\n",
    "idx = np.arange(0, num_samples)"
   ]
  },
  {
   "cell_type": "code",
   "execution_count": 45,
   "metadata": {},
   "outputs": [
    {
     "data": {
      "text/plain": [
       "array([  0,   1,   2,   3,   4,   5,   6,   7,   8,   9,  10,  11,  12,\n",
       "        13,  14,  15,  16,  17,  18,  19,  20,  21,  22,  23,  24,  25,\n",
       "        26,  27,  28,  29,  30,  31,  32,  33,  34,  35,  36,  37,  38,\n",
       "        39,  40,  41,  42,  43,  44,  45,  46,  47,  48,  49,  50,  51,\n",
       "        52,  53,  54,  55,  56,  57,  58,  59,  60,  61,  62,  63,  64,\n",
       "        65,  66,  67,  68,  69,  70,  71,  72,  73,  74,  75,  76,  77,\n",
       "        78,  79,  80,  81,  82,  83,  84,  85,  86,  87,  88,  89,  90,\n",
       "        91,  92,  93,  94,  95,  96,  97,  98,  99, 100, 101, 102, 103,\n",
       "       104, 105, 106, 107, 108, 109, 110, 111, 112, 113, 114, 115, 116,\n",
       "       117, 118, 119])"
      ]
     },
     "execution_count": 45,
     "metadata": {},
     "output_type": "execute_result"
    }
   ],
   "source": [
    "idx = np.arange(0, num_samples)\n",
    "idx"
   ]
  },
  {
   "cell_type": "code",
   "execution_count": 46,
   "metadata": {},
   "outputs": [],
   "source": [
    "pos_idx = rd.choice(idx, num_pos, replace=False)"
   ]
  },
  {
   "cell_type": "code",
   "execution_count": 47,
   "metadata": {},
   "outputs": [
    {
     "data": {
      "text/plain": [
       "array([ 33,   0, 115,  26,  68, 100,  29,  43, 111,  76,  87,  79,  91,\n",
       "        47,  16, 106,  35, 112,  96,  41])"
      ]
     },
     "execution_count": 47,
     "metadata": {},
     "output_type": "execute_result"
    }
   ],
   "source": [
    "pos_idx"
   ]
  },
  {
   "cell_type": "code",
   "execution_count": 53,
   "metadata": {},
   "outputs": [],
   "source": [
    "results = defaultdict(list)\n",
    "\n",
    "for _ in range(num_tries):\n",
    "    pos_idx = rd.choice(idx, num_pos, replace=False)\n",
    "\n",
    "    results[\"any_top1\"].append(np.any(pos_idx == 0).astype(int))\n",
    "    results[\"any_top3\"].append(np.any(pos_idx < 3).astype(int))\n",
    "    results[\"any_top5\"].append(np.any(pos_idx < 5).astype(int))\n",
    "    results[\"any_top10\"].append(np.any(pos_idx < 10).astype(int))\n",
    "\n",
    "    results[\"num_top3\"].append(np.sum(pos_idx < 3))\n",
    "    results[\"num_top5\"].append(np.sum(pos_idx < 5))\n",
    "    results[\"num_top10\"].append(np.sum(pos_idx < 10))\n",
    "    results[\"num_top30\"].append(np.sum(pos_idx < 30))\n",
    "\n",
    "for k, v in results.items():\n",
    "    results[k] = np.array(v)"
   ]
  },
  {
   "cell_type": "code",
   "execution_count": 54,
   "metadata": {},
   "outputs": [
    {
     "name": "stdout",
     "output_type": "stream",
     "text": [
      "any_top1 (0.166682, 0.3726917102324654)\n",
      "any_top3 (0.424021, 0.4941934758361345)\n",
      "any_top5 (0.604888, 0.4888747359559503)\n",
      "any_top10 (0.850725, 0.35635933322280194)\n",
      "num_top3 (0.499462, 0.6395355428402709)\n",
      "num_top5 (0.83288, 0.8186433323493207)\n",
      "num_top10 (1.666616, 1.1326946228105788)\n",
      "num_top30 (5.000765, 1.7765692822896044)\n"
     ]
    }
   ],
   "source": [
    "for k, v in results.items():\n",
    "    print(k, (np.mean(v), np.std(v)))\n",
    "    # plt.hist(v, bins=20)"
   ]
  }
 ],
 "metadata": {
  "kernelspec": {
   "display_name": "jump_models",
   "language": "python",
   "name": "python3"
  },
  "language_info": {
   "codemirror_mode": {
    "name": "ipython",
    "version": 3
   },
   "file_extension": ".py",
   "mimetype": "text/x-python",
   "name": "python",
   "nbconvert_exporter": "python",
   "pygments_lexer": "ipython3",
   "version": "3.10.10"
  },
  "orig_nbformat": 4
 },
 "nbformat": 4,
 "nbformat_minor": 2
}
