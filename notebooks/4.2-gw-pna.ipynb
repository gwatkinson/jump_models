{
 "cells": [
  {
   "cell_type": "markdown",
   "metadata": {},
   "source": [
    "# Develop the PNA graph model"
   ]
  },
  {
   "cell_type": "code",
   "execution_count": 1,
   "metadata": {},
   "outputs": [],
   "source": [
    "%load_ext autoreload\n",
    "%autoreload 2"
   ]
  },
  {
   "cell_type": "code",
   "execution_count": 2,
   "metadata": {},
   "outputs": [],
   "source": [
    "import os\n",
    "\n",
    "import datamol as dm\n",
    "import dgl\n",
    "import torch\n",
    "from ogb.utils.features import (\n",
    "    atom_to_feature_vector,\n",
    "    bond_to_feature_vector,\n",
    "    get_atom_feature_dims,\n",
    "    get_bond_feature_dims,\n",
    ")\n",
    "from rdkit import Chem\n",
    "from rdkit.Chem.rdmolops import GetAdjacencyMatrix\n",
    "\n",
    "from src.modules.molecules.pna import PNA"
   ]
  },
  {
   "cell_type": "code",
   "execution_count": 3,
   "metadata": {},
   "outputs": [],
   "source": [
    "def get_graph_from_mol(smiles):\n",
    "    mol = dm.to_mol(smiles)\n",
    "    n_atoms = len(mol.GetAtoms())\n",
    "\n",
    "    atom_features_list = []\n",
    "    for atom in mol.GetAtoms():\n",
    "        atom_features_list.append(atom_to_feature_vector(atom))\n",
    "\n",
    "    atom_features = torch.tensor(atom_features_list, dtype=torch.long)\n",
    "\n",
    "    edges_list = []\n",
    "    edge_features_list = []\n",
    "    for bond in mol.GetBonds():\n",
    "        i = bond.GetBeginAtomIdx()\n",
    "        j = bond.GetEndAtomIdx()\n",
    "        edge_feature = bond_to_feature_vector(bond)\n",
    "\n",
    "        # add edges in both directions\n",
    "        edges_list.append((i, j))\n",
    "        edge_features_list.append(edge_feature)\n",
    "        edges_list.append((j, i))\n",
    "        edge_features_list.append(edge_feature)\n",
    "\n",
    "    # Graph connectivity in COO format with shape [2, num_edges]\n",
    "    edge_index = torch.tensor(edges_list, dtype=torch.long).T\n",
    "    edge_features = torch.tensor(edge_features_list, dtype=torch.long)\n",
    "\n",
    "    graph = dgl.graph(\n",
    "        data=(edge_index[0], edge_index[1]),\n",
    "        num_nodes=n_atoms,\n",
    "    )\n",
    "\n",
    "    graph.ndata[\"feat\"] = atom_features\n",
    "    graph.edata[\"feat\"] = edge_features\n",
    "\n",
    "    return graph"
   ]
  },
  {
   "cell_type": "code",
   "execution_count": 6,
   "metadata": {},
   "outputs": [],
   "source": [
    "smiles = [\n",
    "    \"CCO\",\n",
    "    \"CCCC\",\n",
    "    \"CC(=O)O\",\n",
    "    \"CC(=O)OC\",\n",
    "]"
   ]
  },
  {
   "cell_type": "code",
   "execution_count": 88,
   "metadata": {},
   "outputs": [],
   "source": [
    "batch = dgl.batch([get_graph_from_mol(s) for s in smiles])"
   ]
  },
  {
   "cell_type": "code",
   "execution_count": 24,
   "metadata": {},
   "outputs": [
    {
     "data": {
      "text/plain": [
       "Graph(num_nodes=16, num_edges=24,\n",
       "      ndata_schemes={'feat': Scheme(shape=(9,), dtype=torch.int64)}\n",
       "      edata_schemes={'feat': Scheme(shape=(3,), dtype=torch.int64)})"
      ]
     },
     "execution_count": 24,
     "metadata": {},
     "output_type": "execute_result"
    }
   ],
   "source": [
    "batch"
   ]
  },
  {
   "cell_type": "code",
   "execution_count": 45,
   "metadata": {},
   "outputs": [
    {
     "data": {
      "text/plain": [
       "[119, 5, 12, 12, 10, 6, 6, 2, 2]"
      ]
     },
     "execution_count": 45,
     "metadata": {},
     "output_type": "execute_result"
    }
   ],
   "source": [
    "get_atom_feature_dims()"
   ]
  },
  {
   "cell_type": "code",
   "execution_count": 9,
   "metadata": {},
   "outputs": [],
   "source": [
    "pna = PNA(\n",
    "    hidden_dim=200,\n",
    "    target_dim=256,\n",
    "    ckpt_path=\"models/best_checkpoint_35epochs.pt\",\n",
    "    aggregators=[\"mean\", \"max\", \"min\", \"std\"],\n",
    "    scalers=[\"identity\", \"amplification\", \"attenuation\"],\n",
    "    readout_aggregators=[\"min\", \"max\", \"mean\"],\n",
    "    readout_batchnorm=True,\n",
    "    readout_hidden_dim=200,\n",
    "    readout_layers=2,\n",
    "    residual=True,\n",
    "    pairwise_distances=False,\n",
    "    activation=\"relu\",\n",
    "    last_activation=\"none\",\n",
    "    mid_batch_norm=True,\n",
    "    last_batch_norm=True,\n",
    "    propagation_depth=7,\n",
    "    dropout=0.0,\n",
    "    posttrans_layers=1,\n",
    "    pretrans_layers=2,\n",
    "    batch_norm_momentum=0.93,\n",
    ")"
   ]
  }
 ],
 "metadata": {
  "kernelspec": {
   "display_name": "jump_models",
   "language": "python",
   "name": "python3"
  },
  "language_info": {
   "codemirror_mode": {
    "name": "ipython",
    "version": 3
   },
   "file_extension": ".py",
   "mimetype": "text/x-python",
   "name": "python",
   "nbconvert_exporter": "python",
   "pygments_lexer": "ipython3",
   "version": "3.10.10"
  },
  "orig_nbformat": 4
 },
 "nbformat": 4,
 "nbformat_minor": 2
}
