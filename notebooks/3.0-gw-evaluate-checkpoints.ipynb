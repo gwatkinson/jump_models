{
 "cells": [
  {
   "cell_type": "markdown",
   "metadata": {},
   "source": [
    "# Load models from checkpoints and evaluate them on the evaluation tasks"
   ]
  },
  {
   "cell_type": "code",
   "execution_count": 1,
   "metadata": {},
   "outputs": [],
   "source": [
    "%load_ext autoreload\n",
    "%autoreload 2"
   ]
  },
  {
   "cell_type": "code",
   "execution_count": 119,
   "metadata": {},
   "outputs": [],
   "source": [
    "import os\n",
    "from copy import deepcopy\n",
    "from pathlib import Path\n",
    "\n",
    "import molfeat\n",
    "import pandas as pd\n",
    "import torch\n",
    "import torch.nn as nn\n",
    "from hydra import compose, initialize\n",
    "from hydra.core.global_hydra import GlobalHydra\n",
    "from hydra.utils import instantiate\n",
    "from lightning.pytorch.loggers import WandbLogger\n",
    "from omegaconf import DictConfig, OmegaConf, open_dict\n",
    "\n",
    "from src import utils\n",
    "from src.models.jump_cl import BasicJUMPModule\n",
    "from src.modules.losses.contrastive_loss_with_temperature import ContrastiveLossWithTemperature\n",
    "from src.modules.losses.multiview_losses import NTXent\n",
    "from src.modules.losses.nt_xent import NtXentLoss\n",
    "from src.utils import instantiate_evaluator_list"
   ]
  },
  {
   "cell_type": "code",
   "execution_count": 3,
   "metadata": {},
   "outputs": [
    {
     "name": "stdout",
     "output_type": "stream",
     "text": [
      "Mounting cpjump1...\n",
      "Mounting cpjump2...\n",
      "Mounting cpjump3...\n"
     ]
    }
   ],
   "source": [
    "for i in range(1, 4):\n",
    "    if not Path(f\"../cpjump{i}/jump/\").exists():\n",
    "        print(f\"Mounting cpjump{i}...\")\n",
    "        os.system(f\"sshfs bioclust:/projects/cpjump{i}/ ../cpjump{i}\")\n",
    "    else:\n",
    "        print(f\"cpjump{i} already mounted.\")"
   ]
  },
  {
   "cell_type": "markdown",
   "metadata": {},
   "source": [
    "## Load config"
   ]
  },
  {
   "cell_type": "code",
   "execution_count": 6,
   "metadata": {},
   "outputs": [],
   "source": [
    "ckpt_str = \"../cpjump1/jump/logs/train/multiruns/{run}/checkpoints/epoch_{epoch:0>3}.ckpt\"\n",
    "single_run_ckpt_str = \"../cpjump1/jump/logs/train/runs/{run}/checkpoints/epoch_{epoch:0>3}.ckpt\"\n",
    "\n",
    "run_dict = {\n",
    "    \"small1\": (run := \"2023-08-16_11-59-26/0\", \"small_jump_cl\", epoch := 43, ckpt_str.format(run=run, epoch=epoch)),\n",
    "    \"small\": (run := \"2023-08-17_13-32-50/0\", \"small_jump_cl\", epoch := 41, ckpt_str.format(run=run, epoch=epoch)),\n",
    "    \"med\": (run := \"2023-08-07_11-55-54\", \"med_jump_cl\", epoch := 5, ckpt_str.format(run=run, epoch=epoch)),\n",
    "    \"big\": (run := \"2023-08-01_11-37-40\", \"big_jump_cl\", epoch := 1, ckpt_str.format(run=run, epoch=epoch)),\n",
    "    \"new_small\": (\n",
    "        run := \"2023-08-22_17-15-50\",\n",
    "        \"fp_small\",\n",
    "        epoch := 43,\n",
    "        single_run_ckpt_str.format(run=run, epoch=epoch),\n",
    "    ),\n",
    "}"
   ]
  },
  {
   "cell_type": "code",
   "execution_count": 7,
   "metadata": {},
   "outputs": [],
   "source": [
    "run, experiment, epoch, ckpt = run_dict[\"new_small\"]"
   ]
  },
  {
   "cell_type": "code",
   "execution_count": 8,
   "metadata": {},
   "outputs": [
    {
     "name": "stdout",
     "output_type": "stream",
     "text": [
      "- experiment=fp_small\n",
      "- trainer=gpu\n",
      "- trainer.devices=[1]\n",
      "- data.num_workers=16\n",
      "- callbacks=default\n"
     ]
    }
   ],
   "source": [
    "os.system(f\"cat ../cpjump1/jump/logs/train/runs/{run}/.hydra/overrides.yaml\");"
   ]
  },
  {
   "cell_type": "code",
   "execution_count": 9,
   "metadata": {},
   "outputs": [
    {
     "data": {
      "text/plain": [
       "['last.ckpt', 'epoch_043.ckpt']"
      ]
     },
     "execution_count": 9,
     "metadata": {},
     "output_type": "execute_result"
    }
   ],
   "source": [
    "os.listdir(f\"../cpjump1/jump/logs/train/runs/{run}/checkpoints\")"
   ]
  },
  {
   "cell_type": "markdown",
   "metadata": {},
   "source": [
    "## Load the config and instantiate the model, loggers and evaluators"
   ]
  },
  {
   "cell_type": "code",
   "execution_count": 10,
   "metadata": {},
   "outputs": [
    {
     "data": {
      "text/plain": [
       "hydra.initialize()"
      ]
     },
     "execution_count": 10,
     "metadata": {},
     "output_type": "execute_result"
    }
   ],
   "source": [
    "initialize(version_base=None, config_path=\"../configs/\")"
   ]
  },
  {
   "cell_type": "code",
   "execution_count": 11,
   "metadata": {},
   "outputs": [
    {
     "name": "stdout",
     "output_type": "stream",
     "text": [
      "task_name: train\n",
      "tags:\n",
      "- small_jump_cl\n",
      "- fingerprints\n",
      "- clip_like\n",
      "- ${model.image_encoder.instance_model_name}\n",
      "train: true\n",
      "test: true\n",
      "evaluate: true\n",
      "compile: false\n",
      "ckpt_path: null\n",
      "seed: 12345\n",
      "data:\n",
      "  compound_transform:\n",
      "    _target_: src.modules.compound_transforms.fp_transform.FPTransform\n",
      "    fps:\n",
      "    - maccs\n",
      "    - ecfp\n",
      "    compound_str_type: inchi\n",
      "    params:\n",
      "      ecfp:\n",
      "        radius: 2\n",
      "  _target_: src.models.jump_cl.datamodule.BasicJUMPDataModule\n",
      "  batch_size: 4\n",
      "  num_workers: 24\n",
      "  pin_memory: null\n",
      "  prefetch_factor: 3\n",
      "  drop_last: true\n",
      "  transform:\n",
      "    _target_: src.modules.transforms.DefaultJUMPTransform\n",
      "    _convert_: object\n",
      "    size: 128\n",
      "    dim:\n",
      "    - -2\n",
      "    - -1\n",
      "  force_split: false\n",
      "  splitter:\n",
      "    _target_: src.splitters.ScaffoldSplitter\n",
      "    train: 1024\n",
      "    test: 256\n",
      "    val: 128\n",
      "    retrieval: 0\n",
      "  use_compond_cache: false\n",
      "  data_root_dir: ${paths.projects_dir}/\n",
      "  split_path: ${paths.split_path}/fp_small3/\n",
      "  dataloader_config:\n",
      "    train:\n",
      "      batch_size: ${data.batch_size}\n",
      "      num_workers: ${data.num_workers}\n",
      "      pin_memory: ${data.pin_memory}\n",
      "      prefetch_factor: ${data.prefetch_factor}\n",
      "      drop_last: ${data.drop_last}\n",
      "      shuffle: true\n",
      "    val:\n",
      "      batch_size: ${data.batch_size}\n",
      "      num_workers: ${data.num_workers}\n",
      "      pin_memory: ${data.pin_memory}\n",
      "      prefetch_factor: ${data.prefetch_factor}\n",
      "      drop_last: ${data.drop_last}\n",
      "      shuffle: false\n",
      "    test:\n",
      "      batch_size: ${data.batch_size}\n",
      "      num_workers: ${data.num_workers}\n",
      "      pin_memory: ${data.pin_memory}\n",
      "      prefetch_factor: ${data.prefetch_factor}\n",
      "      drop_last: ${data.drop_last}\n",
      "      shuffle: false\n",
      "  image_metadata_path: ${paths.metadata_path}/images_metadata.parquet\n",
      "  compound_metadata_path: ${paths.metadata_path}/compound_dict.json\n",
      "  compound_col: Metadata_InChI\n",
      "  image_sampler: null\n",
      "  metadata_dir: ${paths.raw_metadata_path}/complete_metadata.csv\n",
      "  local_load_data_dir: ${paths.load_data_path}/final/\n",
      "  index_str: '{Metadata_Source}__{Metadata_Batch}__{Metadata_Plate}__{Metadata_Well}__{Metadata_Site}'\n",
      "  channels:\n",
      "  - DNA\n",
      "  - AGP\n",
      "  - ER\n",
      "  - Mito\n",
      "  - RNA\n",
      "  col_fstring: FileName_Orig{channel}\n",
      "  id_cols:\n",
      "  - Metadata_Source\n",
      "  - Metadata_Batch\n",
      "  - Metadata_Plate\n",
      "  - Metadata_Well\n",
      "  extra_cols:\n",
      "  - Metadata_PlateType\n",
      "  - Metadata_Site\n",
      "model:\n",
      "  image_encoder:\n",
      "    _target_: src.modules.images.timm_pretrained.CNNEncoder\n",
      "    instance_model_name: resnet18\n",
      "    target_num: ${model.embedding_dim}\n",
      "    n_channels: 5\n",
      "    pretrained: true\n",
      "  molecule_encoder:\n",
      "    _target_: src.modules.molecules.fp_mlp.FingerprintsWithMLP\n",
      "    input_dim: 2167\n",
      "    out_dim: ${model.embedding_dim}\n",
      "    embedding_dim:\n",
      "    - 1024\n",
      "    - 768\n",
      "    - 512\n",
      "    - 512\n",
      "    activation_layer:\n",
      "      _target_: torch.nn.ReLU\n",
      "      _partial_: true\n",
      "    norm_layer:\n",
      "      _target_: torch.nn.BatchNorm1d\n",
      "      _partial_: true\n",
      "    dropout: 0.2\n",
      "  criterion:\n",
      "    _target_: src.modules.losses.contrastive_loss_with_temperature.ContrastiveLossWithTemperature\n",
      "    logit_scale: 2.3\n",
      "    logit_scale_min: 0\n",
      "    logit_scale_max: 4.605170185988092\n",
      "    requires_grad: true\n",
      "  optimizer:\n",
      "    _target_: torch.optim.Adam\n",
      "    _partial_: true\n",
      "    betas:\n",
      "    - 0.9\n",
      "    - 0.999\n",
      "    eps: 1.0e-08\n",
      "    weight_decay: 0.001\n",
      "    amsgrad: false\n",
      "    lr: ${model.lr}\n",
      "  scheduler:\n",
      "    _target_: torch.optim.lr_scheduler.CosineAnnealingWarmRestarts\n",
      "    _partial_: true\n",
      "    T_0: 15\n",
      "    T_mult: 2\n",
      "    eta_min: 0\n",
      "    last_epoch: -1\n",
      "  _target_: src.models.jump_cl.module.BasicJUMPModule\n",
      "  embedding_dim: 256\n",
      "  lr: 0.01\n",
      "  batch_size: ${data.batch_size}\n",
      "  example_input_path: null\n",
      "  monitor: val/loss\n",
      "  interval: epoch\n",
      "  frequency: 1\n",
      "  image_backbone: backbone\n",
      "  image_head: projection_head\n",
      "  molecule_backbone: null\n",
      "  molecule_head: null\n",
      "callbacks:\n",
      "  rich_progress_bar:\n",
      "    _target_: lightning.pytorch.callbacks.RichProgressBar\n",
      "  model_summary:\n",
      "    _target_: lightning.pytorch.callbacks.RichModelSummary\n",
      "    max_depth: 2\n",
      "  model_checkpoint:\n",
      "    _target_: lightning.pytorch.callbacks.ModelCheckpoint\n",
      "    dirpath: ${paths.output_dir}/checkpoints\n",
      "    filename: epoch_{epoch:03d}\n",
      "    monitor: val/loss\n",
      "    verbose: false\n",
      "    save_last: true\n",
      "    save_top_k: 1\n",
      "    mode: min\n",
      "    auto_insert_metric_name: false\n",
      "    save_weights_only: false\n",
      "    every_n_train_steps: null\n",
      "    train_time_interval: null\n",
      "    every_n_epochs: null\n",
      "    save_on_train_epoch_end: null\n",
      "  early_stopping:\n",
      "    _target_: lightning.pytorch.callbacks.EarlyStopping\n",
      "    monitor: val/loss\n",
      "    min_delta: 0\n",
      "    patience: 10\n",
      "    verbose: false\n",
      "    mode: min\n",
      "    strict: true\n",
      "    check_finite: true\n",
      "    stopping_threshold: null\n",
      "    divergence_threshold: null\n",
      "    check_on_train_epoch_end: null\n",
      "  timer:\n",
      "    _target_: lightning.pytorch.callbacks.Timer\n",
      "    duration: 00:06:00:00\n",
      "    interval: epoch\n",
      "    verbose: true\n",
      "  nan_loss:\n",
      "    _target_: src.callbacks.nan_loss.NaNLossCallback\n",
      "  wandb_watcher:\n",
      "    _target_: src.callbacks.wandb.WandbTrainingCallback\n",
      "    watch: true\n",
      "    watch_log: all\n",
      "    log_freq: 100\n",
      "    log_graph: false\n",
      "  lr_monitor:\n",
      "    _target_: lightning.pytorch.callbacks.LearningRateMonitor\n",
      "    logging_interval: null\n",
      "    log_momentum: false\n",
      "logger:\n",
      "  csv:\n",
      "    _target_: lightning.pytorch.loggers.csv_logs.CSVLogger\n",
      "    save_dir: ${paths.output_dir}\n",
      "    name: csv/\n",
      "    prefix: ''\n",
      "  tensorboard:\n",
      "    _target_: lightning.pytorch.loggers.tensorboard.TensorBoardLogger\n",
      "    save_dir: ${paths.output_dir}/tensorboard/\n",
      "    name: null\n",
      "    log_graph: false\n",
      "    default_hp_metric: true\n",
      "    prefix: ''\n",
      "  wandb:\n",
      "    _target_: lightning.pytorch.loggers.wandb.WandbLogger\n",
      "    save_dir: ${paths.output_dir}\n",
      "    offline: false\n",
      "    id: null\n",
      "    anonymous: null\n",
      "    project: fp_small\n",
      "    log_model: true\n",
      "    prefix: ''\n",
      "    group: null\n",
      "    tags: ${tags}\n",
      "    job_type: ''\n",
      "trainer:\n",
      "  _target_: lightning.pytorch.trainer.Trainer\n",
      "  default_root_dir: ${paths.output_dir}\n",
      "  min_epochs: 0\n",
      "  max_epochs: 50\n",
      "  accelerator: gpu\n",
      "  devices: 1\n",
      "  check_val_every_n_epoch: 2\n",
      "  deterministic: false\n",
      "  log_every_n_steps: 1\n",
      "  num_sanity_val_steps: 2\n",
      "paths:\n",
      "  root_dir: ${oc.env:PROJECT_ROOT}\n",
      "  projects_dir: ..\n",
      "  data_root_dir: ${paths.projects_dir}/cpjump1\n",
      "  metadata_path: ${paths.data_root_dir}/jump/models/metadata\n",
      "  raw_metadata_path: ${paths.data_root_dir}/jump/metadata\n",
      "  load_data_path: ${paths.data_root_dir}/jump/load_data\n",
      "  split_path: ${paths.data_root_dir}/jump/models/splits\n",
      "  log_dir: ${paths.data_root_dir}/jump/logs\n",
      "  output_dir: ../cpjump1/jump/logs/train/multiruns/2023-08-22_17-15-50\n",
      "  work_dir: ${hydra:runtime.cwd}\n",
      "extras:\n",
      "  ignore_warnings: false\n",
      "  style: dim\n",
      "  enforce_tags: true\n",
      "  print_config: true\n",
      "eval:\n",
      "  idr_graph_retrieval:\n",
      "    trainer:\n",
      "      _target_: lightning.pytorch.trainer.Trainer\n",
      "      default_root_dir: ${paths.output_dir}/eval/retrieval/idr/\n",
      "      min_epochs: 5\n",
      "      max_epochs: 20\n",
      "      accelerator: gpu\n",
      "      devices: ${trainer.devices}\n",
      "      check_val_every_n_epoch: 2\n",
      "      deterministic: false\n",
      "    evaluator:\n",
      "      _target_: src.eval.retrieval.evaluator.IDRRetrievalEvaluator\n",
      "      name: IDRRetrieval\n",
      "      visualize_kwargs: null\n",
      "    callbacks: null\n",
      "    model:\n",
      "      _target_: src.eval.retrieval.module.IDRRetrievalModule\n",
      "      example_input_path: ${paths.data_root_dir}/jump/models/eval/test/example.pt\n",
      "    datamodule:\n",
      "      _target_: src.eval.retrieval.datamodule.IDRRetrievalDataModule\n",
      "      selected_compounds_path: ${paths.data_root_dir}/excape-db/selected_compounds.csv\n",
      "      image_metadata_path: ${paths.data_root_dir}/idr0033-rohban-pathways/processed_metadata.csv\n",
      "      data_root_dir: ${paths.data_root_dir}/screen_1751\n",
      "      image_batch_size: 256\n",
      "      compound_batch_size: 16\n",
      "      num_workers: 16\n",
      "      pin_memory: false\n",
      "      prefetch_factor: 3\n",
      "      compound_transform: ${data.compound_transform}\n",
      "      transform: ${data.transform}\n",
      "      compound_gene_col: Gene_Symbol\n",
      "      image_gene_col: Gene Symbol\n",
      "      col_fstring: FileName_{channel}\n",
      "      channels: null\n",
      "      target_col: Activity_Flag\n",
      "      smiles_col: SMILES\n",
      "      use_cache: false\n",
      "\n"
     ]
    }
   ],
   "source": [
    "cfg = compose(\n",
    "    config_name=\"train.yaml\",\n",
    "    overrides=[\n",
    "        \"evaluate=true\",\n",
    "        \"eval=retrieval\",\n",
    "        \"paths.projects_dir=..\",\n",
    "        f\"paths.output_dir=../cpjump1/jump/logs/train/multiruns/{run}\",\n",
    "        \"experiment=fp_small\",\n",
    "        \"data.batch_size=4\",\n",
    "        # \"model/molecule_encoder=gin_masking.yaml\",\n",
    "        \"trainer.devices=1\",\n",
    "        # \"eval.moa_image_task.datamodule.data_root_dir=../\",\n",
    "    ],\n",
    ")\n",
    "print(OmegaConf.to_yaml(cfg))"
   ]
  },
  {
   "cell_type": "markdown",
   "metadata": {},
   "source": [
    "## Instantiate datamodule"
   ]
  },
  {
   "cell_type": "code",
   "execution_count": 12,
   "metadata": {},
   "outputs": [
    {
     "name": "stderr",
     "output_type": "stream",
     "text": [
      "/home/gwatk/miniconda3/envs/jump_models/lib/python3.10/site-packages/torchvision/datapoints/__init__.py:12: UserWarning: The torchvision.datapoints and torchvision.transforms.v2 namespaces are still Beta. While we do not expect major breaking changes, some APIs may still change according to user feedback. Please submit any feedback you may have in this issue: https://github.com/pytorch/vision/issues/6753, and you can also check out https://github.com/pytorch/vision/issues/7319 to learn more about the APIs that we suspect might involve future changes. You can silence this warning by calling torchvision.disable_beta_transforms_warning().\n",
      "  warnings.warn(_BETA_TRANSFORMS_WARNING)\n",
      "/home/gwatk/miniconda3/envs/jump_models/lib/python3.10/site-packages/torchvision/transforms/v2/__init__.py:54: UserWarning: The torchvision.datapoints and torchvision.transforms.v2 namespaces are still Beta. While we do not expect major breaking changes, some APIs may still change according to user feedback. Please submit any feedback you may have in this issue: https://github.com/pytorch/vision/issues/6753, and you can also check out https://github.com/pytorch/vision/issues/7319 to learn more about the APIs that we suspect might involve future changes. You can silence this warning by calling torchvision.disable_beta_transforms_warning().\n",
      "  warnings.warn(_BETA_TRANSFORMS_WARNING)\n"
     ]
    }
   ],
   "source": [
    "dm = instantiate(cfg.data)"
   ]
  },
  {
   "cell_type": "code",
   "execution_count": 13,
   "metadata": {},
   "outputs": [],
   "source": [
    "dm.prepare_data()"
   ]
  },
  {
   "cell_type": "code",
   "execution_count": 14,
   "metadata": {},
   "outputs": [],
   "source": [
    "dm.setup(\"train\")"
   ]
  },
  {
   "cell_type": "code",
   "execution_count": 15,
   "metadata": {},
   "outputs": [
    {
     "name": "stderr",
     "output_type": "stream",
     "text": [
      "/home/gwatk/miniconda3/envs/jump_models/lib/python3.10/site-packages/torch/utils/data/dataloader.py:561: UserWarning: This DataLoader will create 24 worker processes in total. Our suggested max number of worker in current system is 16, which is smaller than what this DataLoader is going to create. Please be aware that excessive worker creation might get DataLoader running slow or even freeze, lower the worker number to avoid potential slowness/freeze if necessary.\n",
      "  warnings.warn(_create_warning_msg(\n"
     ]
    }
   ],
   "source": [
    "dl = dm.train_dataloader()"
   ]
  },
  {
   "cell_type": "code",
   "execution_count": 18,
   "metadata": {},
   "outputs": [],
   "source": [
    "df = dm.train_dataset.load_df\n",
    "\n",
    "for col in df.columns:\n",
    "    if col.startswith(\"FileName\"):\n",
    "        df[col] = df[col].str.replace(\"/projects/\", \"../\")"
   ]
  },
  {
   "cell_type": "code",
   "execution_count": 20,
   "metadata": {},
   "outputs": [
    {
     "data": {
      "text/html": [
       "<div>\n",
       "<style scoped>\n",
       "    .dataframe tbody tr th:only-of-type {\n",
       "        vertical-align: middle;\n",
       "    }\n",
       "\n",
       "    .dataframe tbody tr th {\n",
       "        vertical-align: top;\n",
       "    }\n",
       "\n",
       "    .dataframe thead th {\n",
       "        text-align: right;\n",
       "    }\n",
       "</style>\n",
       "<table border=\"1\" class=\"dataframe\">\n",
       "  <thead>\n",
       "    <tr style=\"text-align: right;\">\n",
       "      <th></th>\n",
       "      <th>Metadata_Source</th>\n",
       "      <th>Metadata_Batch</th>\n",
       "      <th>Metadata_Plate</th>\n",
       "      <th>Metadata_Well</th>\n",
       "      <th>FileName_OrigDNA</th>\n",
       "      <th>FileName_OrigAGP</th>\n",
       "      <th>FileName_OrigER</th>\n",
       "      <th>FileName_OrigMito</th>\n",
       "      <th>FileName_OrigRNA</th>\n",
       "      <th>Metadata_InChI</th>\n",
       "      <th>Metadata_PlateType</th>\n",
       "      <th>Metadata_Site</th>\n",
       "    </tr>\n",
       "    <tr>\n",
       "      <th>index</th>\n",
       "      <th></th>\n",
       "      <th></th>\n",
       "      <th></th>\n",
       "      <th></th>\n",
       "      <th></th>\n",
       "      <th></th>\n",
       "      <th></th>\n",
       "      <th></th>\n",
       "      <th></th>\n",
       "      <th></th>\n",
       "      <th></th>\n",
       "      <th></th>\n",
       "    </tr>\n",
       "  </thead>\n",
       "  <tbody>\n",
       "    <tr>\n",
       "      <th>source_11__Batch2__EC000047__E18__1</th>\n",
       "      <td>source_11</td>\n",
       "      <td>Batch2</td>\n",
       "      <td>EC000047</td>\n",
       "      <td>E18</td>\n",
       "      <td>../cpjump2/jump/images/source_11/Batch2/EC0000...</td>\n",
       "      <td>../cpjump2/jump/images/source_11/Batch2/EC0000...</td>\n",
       "      <td>../cpjump2/jump/images/source_11/Batch2/EC0000...</td>\n",
       "      <td>../cpjump2/jump/images/source_11/Batch2/EC0000...</td>\n",
       "      <td>../cpjump2/jump/images/source_11/Batch2/EC0000...</td>\n",
       "      <td>InChI=1S/C10H10ClN3OS/c11-7-3-1-2-4-8(7)15-6-5...</td>\n",
       "      <td>COMPOUND</td>\n",
       "      <td>1</td>\n",
       "    </tr>\n",
       "    <tr>\n",
       "      <th>source_11__Batch2__EC000047__E18__4</th>\n",
       "      <td>source_11</td>\n",
       "      <td>Batch2</td>\n",
       "      <td>EC000047</td>\n",
       "      <td>E18</td>\n",
       "      <td>../cpjump2/jump/images/source_11/Batch2/EC0000...</td>\n",
       "      <td>../cpjump2/jump/images/source_11/Batch2/EC0000...</td>\n",
       "      <td>../cpjump2/jump/images/source_11/Batch2/EC0000...</td>\n",
       "      <td>../cpjump2/jump/images/source_11/Batch2/EC0000...</td>\n",
       "      <td>../cpjump2/jump/images/source_11/Batch2/EC0000...</td>\n",
       "      <td>InChI=1S/C10H10ClN3OS/c11-7-3-1-2-4-8(7)15-6-5...</td>\n",
       "      <td>COMPOUND</td>\n",
       "      <td>4</td>\n",
       "    </tr>\n",
       "    <tr>\n",
       "      <th>source_11__Batch2__EC000047__E18__5</th>\n",
       "      <td>source_11</td>\n",
       "      <td>Batch2</td>\n",
       "      <td>EC000047</td>\n",
       "      <td>E18</td>\n",
       "      <td>../cpjump2/jump/images/source_11/Batch2/EC0000...</td>\n",
       "      <td>../cpjump2/jump/images/source_11/Batch2/EC0000...</td>\n",
       "      <td>../cpjump2/jump/images/source_11/Batch2/EC0000...</td>\n",
       "      <td>../cpjump2/jump/images/source_11/Batch2/EC0000...</td>\n",
       "      <td>../cpjump2/jump/images/source_11/Batch2/EC0000...</td>\n",
       "      <td>InChI=1S/C10H10ClN3OS/c11-7-3-1-2-4-8(7)15-6-5...</td>\n",
       "      <td>COMPOUND</td>\n",
       "      <td>5</td>\n",
       "    </tr>\n",
       "    <tr>\n",
       "      <th>source_11__Batch2__EC000047__E18__7</th>\n",
       "      <td>source_11</td>\n",
       "      <td>Batch2</td>\n",
       "      <td>EC000047</td>\n",
       "      <td>E18</td>\n",
       "      <td>../cpjump2/jump/images/source_11/Batch2/EC0000...</td>\n",
       "      <td>../cpjump2/jump/images/source_11/Batch2/EC0000...</td>\n",
       "      <td>../cpjump2/jump/images/source_11/Batch2/EC0000...</td>\n",
       "      <td>../cpjump2/jump/images/source_11/Batch2/EC0000...</td>\n",
       "      <td>../cpjump2/jump/images/source_11/Batch2/EC0000...</td>\n",
       "      <td>InChI=1S/C10H10ClN3OS/c11-7-3-1-2-4-8(7)15-6-5...</td>\n",
       "      <td>COMPOUND</td>\n",
       "      <td>7</td>\n",
       "    </tr>\n",
       "    <tr>\n",
       "      <th>source_11__Batch2__EC000047__E18__8</th>\n",
       "      <td>source_11</td>\n",
       "      <td>Batch2</td>\n",
       "      <td>EC000047</td>\n",
       "      <td>E18</td>\n",
       "      <td>../cpjump2/jump/images/source_11/Batch2/EC0000...</td>\n",
       "      <td>../cpjump2/jump/images/source_11/Batch2/EC0000...</td>\n",
       "      <td>../cpjump2/jump/images/source_11/Batch2/EC0000...</td>\n",
       "      <td>../cpjump2/jump/images/source_11/Batch2/EC0000...</td>\n",
       "      <td>../cpjump2/jump/images/source_11/Batch2/EC0000...</td>\n",
       "      <td>InChI=1S/C10H10ClN3OS/c11-7-3-1-2-4-8(7)15-6-5...</td>\n",
       "      <td>COMPOUND</td>\n",
       "      <td>8</td>\n",
       "    </tr>\n",
       "    <tr>\n",
       "      <th>...</th>\n",
       "      <td>...</td>\n",
       "      <td>...</td>\n",
       "      <td>...</td>\n",
       "      <td>...</td>\n",
       "      <td>...</td>\n",
       "      <td>...</td>\n",
       "      <td>...</td>\n",
       "      <td>...</td>\n",
       "      <td>...</td>\n",
       "      <td>...</td>\n",
       "      <td>...</td>\n",
       "      <td>...</td>\n",
       "    </tr>\n",
       "    <tr>\n",
       "      <th>source_8__J3__A1170506__L06__3</th>\n",
       "      <td>source_8</td>\n",
       "      <td>J3</td>\n",
       "      <td>A1170506</td>\n",
       "      <td>L06</td>\n",
       "      <td>../cpjump2/jump/images/source_8/J3/A1170506/so...</td>\n",
       "      <td>../cpjump2/jump/images/source_8/J3/A1170506/so...</td>\n",
       "      <td>../cpjump2/jump/images/source_8/J3/A1170506/so...</td>\n",
       "      <td>../cpjump2/jump/images/source_8/J3/A1170506/so...</td>\n",
       "      <td>../cpjump2/jump/images/source_8/J3/A1170506/so...</td>\n",
       "      <td>InChI=1S/C9H8N2O2S/c10-14(12,13)8-3-4-9-7(6-8)...</td>\n",
       "      <td>COMPOUND</td>\n",
       "      <td>3</td>\n",
       "    </tr>\n",
       "    <tr>\n",
       "      <th>source_8__J3__A1170506__L06__5</th>\n",
       "      <td>source_8</td>\n",
       "      <td>J3</td>\n",
       "      <td>A1170506</td>\n",
       "      <td>L06</td>\n",
       "      <td>../cpjump2/jump/images/source_8/J3/A1170506/so...</td>\n",
       "      <td>../cpjump2/jump/images/source_8/J3/A1170506/so...</td>\n",
       "      <td>../cpjump2/jump/images/source_8/J3/A1170506/so...</td>\n",
       "      <td>../cpjump2/jump/images/source_8/J3/A1170506/so...</td>\n",
       "      <td>../cpjump2/jump/images/source_8/J3/A1170506/so...</td>\n",
       "      <td>InChI=1S/C9H8N2O2S/c10-14(12,13)8-3-4-9-7(6-8)...</td>\n",
       "      <td>COMPOUND</td>\n",
       "      <td>5</td>\n",
       "    </tr>\n",
       "    <tr>\n",
       "      <th>source_8__J3__A1170506__L06__6</th>\n",
       "      <td>source_8</td>\n",
       "      <td>J3</td>\n",
       "      <td>A1170506</td>\n",
       "      <td>L06</td>\n",
       "      <td>../cpjump2/jump/images/source_8/J3/A1170506/so...</td>\n",
       "      <td>../cpjump2/jump/images/source_8/J3/A1170506/so...</td>\n",
       "      <td>../cpjump2/jump/images/source_8/J3/A1170506/so...</td>\n",
       "      <td>../cpjump2/jump/images/source_8/J3/A1170506/so...</td>\n",
       "      <td>../cpjump2/jump/images/source_8/J3/A1170506/so...</td>\n",
       "      <td>InChI=1S/C9H8N2O2S/c10-14(12,13)8-3-4-9-7(6-8)...</td>\n",
       "      <td>COMPOUND</td>\n",
       "      <td>6</td>\n",
       "    </tr>\n",
       "    <tr>\n",
       "      <th>source_8__J3__A1170506__L06__7</th>\n",
       "      <td>source_8</td>\n",
       "      <td>J3</td>\n",
       "      <td>A1170506</td>\n",
       "      <td>L06</td>\n",
       "      <td>../cpjump2/jump/images/source_8/J3/A1170506/so...</td>\n",
       "      <td>../cpjump2/jump/images/source_8/J3/A1170506/so...</td>\n",
       "      <td>../cpjump2/jump/images/source_8/J3/A1170506/so...</td>\n",
       "      <td>../cpjump2/jump/images/source_8/J3/A1170506/so...</td>\n",
       "      <td>../cpjump2/jump/images/source_8/J3/A1170506/so...</td>\n",
       "      <td>InChI=1S/C9H8N2O2S/c10-14(12,13)8-3-4-9-7(6-8)...</td>\n",
       "      <td>COMPOUND</td>\n",
       "      <td>7</td>\n",
       "    </tr>\n",
       "    <tr>\n",
       "      <th>source_8__J3__A1170506__L06__8</th>\n",
       "      <td>source_8</td>\n",
       "      <td>J3</td>\n",
       "      <td>A1170506</td>\n",
       "      <td>L06</td>\n",
       "      <td>../cpjump2/jump/images/source_8/J3/A1170506/so...</td>\n",
       "      <td>../cpjump2/jump/images/source_8/J3/A1170506/so...</td>\n",
       "      <td>../cpjump2/jump/images/source_8/J3/A1170506/so...</td>\n",
       "      <td>../cpjump2/jump/images/source_8/J3/A1170506/so...</td>\n",
       "      <td>../cpjump2/jump/images/source_8/J3/A1170506/so...</td>\n",
       "      <td>InChI=1S/C9H8N2O2S/c10-14(12,13)8-3-4-9-7(6-8)...</td>\n",
       "      <td>COMPOUND</td>\n",
       "      <td>8</td>\n",
       "    </tr>\n",
       "  </tbody>\n",
       "</table>\n",
       "<p>32353 rows × 12 columns</p>\n",
       "</div>"
      ],
      "text/plain": [
       "                                    Metadata_Source Metadata_Batch  \\\n",
       "index                                                                \n",
       "source_11__Batch2__EC000047__E18__1       source_11         Batch2   \n",
       "source_11__Batch2__EC000047__E18__4       source_11         Batch2   \n",
       "source_11__Batch2__EC000047__E18__5       source_11         Batch2   \n",
       "source_11__Batch2__EC000047__E18__7       source_11         Batch2   \n",
       "source_11__Batch2__EC000047__E18__8       source_11         Batch2   \n",
       "...                                             ...            ...   \n",
       "source_8__J3__A1170506__L06__3             source_8             J3   \n",
       "source_8__J3__A1170506__L06__5             source_8             J3   \n",
       "source_8__J3__A1170506__L06__6             source_8             J3   \n",
       "source_8__J3__A1170506__L06__7             source_8             J3   \n",
       "source_8__J3__A1170506__L06__8             source_8             J3   \n",
       "\n",
       "                                    Metadata_Plate Metadata_Well  \\\n",
       "index                                                              \n",
       "source_11__Batch2__EC000047__E18__1       EC000047           E18   \n",
       "source_11__Batch2__EC000047__E18__4       EC000047           E18   \n",
       "source_11__Batch2__EC000047__E18__5       EC000047           E18   \n",
       "source_11__Batch2__EC000047__E18__7       EC000047           E18   \n",
       "source_11__Batch2__EC000047__E18__8       EC000047           E18   \n",
       "...                                            ...           ...   \n",
       "source_8__J3__A1170506__L06__3            A1170506           L06   \n",
       "source_8__J3__A1170506__L06__5            A1170506           L06   \n",
       "source_8__J3__A1170506__L06__6            A1170506           L06   \n",
       "source_8__J3__A1170506__L06__7            A1170506           L06   \n",
       "source_8__J3__A1170506__L06__8            A1170506           L06   \n",
       "\n",
       "                                                                      FileName_OrigDNA  \\\n",
       "index                                                                                    \n",
       "source_11__Batch2__EC000047__E18__1  ../cpjump2/jump/images/source_11/Batch2/EC0000...   \n",
       "source_11__Batch2__EC000047__E18__4  ../cpjump2/jump/images/source_11/Batch2/EC0000...   \n",
       "source_11__Batch2__EC000047__E18__5  ../cpjump2/jump/images/source_11/Batch2/EC0000...   \n",
       "source_11__Batch2__EC000047__E18__7  ../cpjump2/jump/images/source_11/Batch2/EC0000...   \n",
       "source_11__Batch2__EC000047__E18__8  ../cpjump2/jump/images/source_11/Batch2/EC0000...   \n",
       "...                                                                                ...   \n",
       "source_8__J3__A1170506__L06__3       ../cpjump2/jump/images/source_8/J3/A1170506/so...   \n",
       "source_8__J3__A1170506__L06__5       ../cpjump2/jump/images/source_8/J3/A1170506/so...   \n",
       "source_8__J3__A1170506__L06__6       ../cpjump2/jump/images/source_8/J3/A1170506/so...   \n",
       "source_8__J3__A1170506__L06__7       ../cpjump2/jump/images/source_8/J3/A1170506/so...   \n",
       "source_8__J3__A1170506__L06__8       ../cpjump2/jump/images/source_8/J3/A1170506/so...   \n",
       "\n",
       "                                                                      FileName_OrigAGP  \\\n",
       "index                                                                                    \n",
       "source_11__Batch2__EC000047__E18__1  ../cpjump2/jump/images/source_11/Batch2/EC0000...   \n",
       "source_11__Batch2__EC000047__E18__4  ../cpjump2/jump/images/source_11/Batch2/EC0000...   \n",
       "source_11__Batch2__EC000047__E18__5  ../cpjump2/jump/images/source_11/Batch2/EC0000...   \n",
       "source_11__Batch2__EC000047__E18__7  ../cpjump2/jump/images/source_11/Batch2/EC0000...   \n",
       "source_11__Batch2__EC000047__E18__8  ../cpjump2/jump/images/source_11/Batch2/EC0000...   \n",
       "...                                                                                ...   \n",
       "source_8__J3__A1170506__L06__3       ../cpjump2/jump/images/source_8/J3/A1170506/so...   \n",
       "source_8__J3__A1170506__L06__5       ../cpjump2/jump/images/source_8/J3/A1170506/so...   \n",
       "source_8__J3__A1170506__L06__6       ../cpjump2/jump/images/source_8/J3/A1170506/so...   \n",
       "source_8__J3__A1170506__L06__7       ../cpjump2/jump/images/source_8/J3/A1170506/so...   \n",
       "source_8__J3__A1170506__L06__8       ../cpjump2/jump/images/source_8/J3/A1170506/so...   \n",
       "\n",
       "                                                                       FileName_OrigER  \\\n",
       "index                                                                                    \n",
       "source_11__Batch2__EC000047__E18__1  ../cpjump2/jump/images/source_11/Batch2/EC0000...   \n",
       "source_11__Batch2__EC000047__E18__4  ../cpjump2/jump/images/source_11/Batch2/EC0000...   \n",
       "source_11__Batch2__EC000047__E18__5  ../cpjump2/jump/images/source_11/Batch2/EC0000...   \n",
       "source_11__Batch2__EC000047__E18__7  ../cpjump2/jump/images/source_11/Batch2/EC0000...   \n",
       "source_11__Batch2__EC000047__E18__8  ../cpjump2/jump/images/source_11/Batch2/EC0000...   \n",
       "...                                                                                ...   \n",
       "source_8__J3__A1170506__L06__3       ../cpjump2/jump/images/source_8/J3/A1170506/so...   \n",
       "source_8__J3__A1170506__L06__5       ../cpjump2/jump/images/source_8/J3/A1170506/so...   \n",
       "source_8__J3__A1170506__L06__6       ../cpjump2/jump/images/source_8/J3/A1170506/so...   \n",
       "source_8__J3__A1170506__L06__7       ../cpjump2/jump/images/source_8/J3/A1170506/so...   \n",
       "source_8__J3__A1170506__L06__8       ../cpjump2/jump/images/source_8/J3/A1170506/so...   \n",
       "\n",
       "                                                                     FileName_OrigMito  \\\n",
       "index                                                                                    \n",
       "source_11__Batch2__EC000047__E18__1  ../cpjump2/jump/images/source_11/Batch2/EC0000...   \n",
       "source_11__Batch2__EC000047__E18__4  ../cpjump2/jump/images/source_11/Batch2/EC0000...   \n",
       "source_11__Batch2__EC000047__E18__5  ../cpjump2/jump/images/source_11/Batch2/EC0000...   \n",
       "source_11__Batch2__EC000047__E18__7  ../cpjump2/jump/images/source_11/Batch2/EC0000...   \n",
       "source_11__Batch2__EC000047__E18__8  ../cpjump2/jump/images/source_11/Batch2/EC0000...   \n",
       "...                                                                                ...   \n",
       "source_8__J3__A1170506__L06__3       ../cpjump2/jump/images/source_8/J3/A1170506/so...   \n",
       "source_8__J3__A1170506__L06__5       ../cpjump2/jump/images/source_8/J3/A1170506/so...   \n",
       "source_8__J3__A1170506__L06__6       ../cpjump2/jump/images/source_8/J3/A1170506/so...   \n",
       "source_8__J3__A1170506__L06__7       ../cpjump2/jump/images/source_8/J3/A1170506/so...   \n",
       "source_8__J3__A1170506__L06__8       ../cpjump2/jump/images/source_8/J3/A1170506/so...   \n",
       "\n",
       "                                                                      FileName_OrigRNA  \\\n",
       "index                                                                                    \n",
       "source_11__Batch2__EC000047__E18__1  ../cpjump2/jump/images/source_11/Batch2/EC0000...   \n",
       "source_11__Batch2__EC000047__E18__4  ../cpjump2/jump/images/source_11/Batch2/EC0000...   \n",
       "source_11__Batch2__EC000047__E18__5  ../cpjump2/jump/images/source_11/Batch2/EC0000...   \n",
       "source_11__Batch2__EC000047__E18__7  ../cpjump2/jump/images/source_11/Batch2/EC0000...   \n",
       "source_11__Batch2__EC000047__E18__8  ../cpjump2/jump/images/source_11/Batch2/EC0000...   \n",
       "...                                                                                ...   \n",
       "source_8__J3__A1170506__L06__3       ../cpjump2/jump/images/source_8/J3/A1170506/so...   \n",
       "source_8__J3__A1170506__L06__5       ../cpjump2/jump/images/source_8/J3/A1170506/so...   \n",
       "source_8__J3__A1170506__L06__6       ../cpjump2/jump/images/source_8/J3/A1170506/so...   \n",
       "source_8__J3__A1170506__L06__7       ../cpjump2/jump/images/source_8/J3/A1170506/so...   \n",
       "source_8__J3__A1170506__L06__8       ../cpjump2/jump/images/source_8/J3/A1170506/so...   \n",
       "\n",
       "                                                                        Metadata_InChI  \\\n",
       "index                                                                                    \n",
       "source_11__Batch2__EC000047__E18__1  InChI=1S/C10H10ClN3OS/c11-7-3-1-2-4-8(7)15-6-5...   \n",
       "source_11__Batch2__EC000047__E18__4  InChI=1S/C10H10ClN3OS/c11-7-3-1-2-4-8(7)15-6-5...   \n",
       "source_11__Batch2__EC000047__E18__5  InChI=1S/C10H10ClN3OS/c11-7-3-1-2-4-8(7)15-6-5...   \n",
       "source_11__Batch2__EC000047__E18__7  InChI=1S/C10H10ClN3OS/c11-7-3-1-2-4-8(7)15-6-5...   \n",
       "source_11__Batch2__EC000047__E18__8  InChI=1S/C10H10ClN3OS/c11-7-3-1-2-4-8(7)15-6-5...   \n",
       "...                                                                                ...   \n",
       "source_8__J3__A1170506__L06__3       InChI=1S/C9H8N2O2S/c10-14(12,13)8-3-4-9-7(6-8)...   \n",
       "source_8__J3__A1170506__L06__5       InChI=1S/C9H8N2O2S/c10-14(12,13)8-3-4-9-7(6-8)...   \n",
       "source_8__J3__A1170506__L06__6       InChI=1S/C9H8N2O2S/c10-14(12,13)8-3-4-9-7(6-8)...   \n",
       "source_8__J3__A1170506__L06__7       InChI=1S/C9H8N2O2S/c10-14(12,13)8-3-4-9-7(6-8)...   \n",
       "source_8__J3__A1170506__L06__8       InChI=1S/C9H8N2O2S/c10-14(12,13)8-3-4-9-7(6-8)...   \n",
       "\n",
       "                                    Metadata_PlateType  Metadata_Site  \n",
       "index                                                                  \n",
       "source_11__Batch2__EC000047__E18__1           COMPOUND              1  \n",
       "source_11__Batch2__EC000047__E18__4           COMPOUND              4  \n",
       "source_11__Batch2__EC000047__E18__5           COMPOUND              5  \n",
       "source_11__Batch2__EC000047__E18__7           COMPOUND              7  \n",
       "source_11__Batch2__EC000047__E18__8           COMPOUND              8  \n",
       "...                                                ...            ...  \n",
       "source_8__J3__A1170506__L06__3                COMPOUND              3  \n",
       "source_8__J3__A1170506__L06__5                COMPOUND              5  \n",
       "source_8__J3__A1170506__L06__6                COMPOUND              6  \n",
       "source_8__J3__A1170506__L06__7                COMPOUND              7  \n",
       "source_8__J3__A1170506__L06__8                COMPOUND              8  \n",
       "\n",
       "[32353 rows x 12 columns]"
      ]
     },
     "execution_count": 20,
     "metadata": {},
     "output_type": "execute_result"
    }
   ],
   "source": [
    "dm.train_dataset.load_df"
   ]
  },
  {
   "cell_type": "code",
   "execution_count": 21,
   "metadata": {},
   "outputs": [
    {
     "name": "stderr",
     "output_type": "stream",
     "text": [
      "/home/gwatk/miniconda3/envs/jump_models/lib/python3.10/site-packages/torch/utils/data/dataloader.py:561: UserWarning: This DataLoader will create 24 worker processes in total. Our suggested max number of worker in current system is 16, which is smaller than what this DataLoader is going to create. Please be aware that excessive worker creation might get DataLoader running slow or even freeze, lower the worker number to avoid potential slowness/freeze if necessary.\n",
      "  warnings.warn(_create_warning_msg(\n"
     ]
    }
   ],
   "source": [
    "b = next(iter(dl))"
   ]
  },
  {
   "cell_type": "code",
   "execution_count": 23,
   "metadata": {},
   "outputs": [
    {
     "name": "stderr",
     "output_type": "stream",
     "text": [
      "/home/gwatk/miniconda3/envs/jump_models/lib/python3.10/site-packages/torch/utils/data/dataloader.py:561: UserWarning: This DataLoader will create 24 worker processes in total. Our suggested max number of worker in current system is 16, which is smaller than what this DataLoader is going to create. Please be aware that excessive worker creation might get DataLoader running slow or even freeze, lower the worker number to avoid potential slowness/freeze if necessary.\n",
      "  warnings.warn(_create_warning_msg(\n"
     ]
    }
   ],
   "source": [
    "batches = []\n",
    "for i, batch in enumerate(dl):\n",
    "    batches.append(batch)\n",
    "    if i == 2:\n",
    "        break"
   ]
  },
  {
   "cell_type": "code",
   "execution_count": 26,
   "metadata": {},
   "outputs": [
    {
     "data": {
      "text/plain": [
       "{'image': tensor([[[[-1.2334e-01, -1.9673e-01, -1.2334e-01,  ...,  1.5068e+01,\n",
       "             1.8517e+01,  1.8517e+01],\n",
       "           [-1.9673e-01, -1.2334e-01, -1.9673e-01,  ...,  1.4114e+01,\n",
       "             1.8224e+01,  1.8517e+01],\n",
       "           [-1.9673e-01, -1.9673e-01, -4.9953e-02,  ...,  1.3160e+01,\n",
       "             1.6976e+01,  1.7710e+01],\n",
       "           ...,\n",
       "           [-1.2334e-01, -1.9673e-01, -1.2334e-01,  ..., -4.9953e-02,\n",
       "            -1.2334e-01, -1.2334e-01],\n",
       "           [-1.9673e-01, -1.9673e-01, -1.2334e-01,  ..., -4.9953e-02,\n",
       "            -1.2334e-01, -4.9953e-02],\n",
       "           [-1.2334e-01, -4.9953e-02, -1.2334e-01,  ..., -1.2334e-01,\n",
       "            -1.2334e-01, -1.2334e-01]],\n",
       " \n",
       "          [[-4.5383e-01, -3.8236e-01, -3.4662e-01,  ...,  5.7998e+00,\n",
       "             7.0505e+00,  7.8367e+00],\n",
       "           [-4.1809e-01, -5.2530e-01, -4.1809e-01,  ...,  5.6569e+00,\n",
       "             7.3722e+00,  7.3007e+00],\n",
       "           [-4.5383e-01, -4.1809e-01, -4.1809e-01,  ...,  5.9070e+00,\n",
       "             7.0505e+00,  7.4079e+00],\n",
       "           ...,\n",
       "           [-4.5383e-01, -4.1809e-01, -4.1809e-01,  ..., -4.8956e-01,\n",
       "            -5.2530e-01, -5.6103e-01],\n",
       "           [-4.1809e-01, -4.1809e-01, -4.1809e-01,  ..., -3.4662e-01,\n",
       "            -4.5383e-01, -3.8236e-01],\n",
       "           [-3.4662e-01, -5.2530e-01, -4.5383e-01,  ..., -4.8956e-01,\n",
       "            -4.8956e-01, -5.6103e-01]],\n",
       " \n",
       "          [[-4.3917e-01, -6.1781e-01, -2.6053e-01,  ...,  6.7064e+00,\n",
       "             8.3588e+00,  9.6093e+00],\n",
       "           [-3.9451e-01, -4.3917e-01, -3.4985e-01,  ...,  6.9297e+00,\n",
       "             8.5375e+00,  9.2967e+00],\n",
       "           [-4.3917e-01, -4.3917e-01, -4.8383e-01,  ...,  7.2870e+00,\n",
       "             8.1355e+00,  8.5821e+00],\n",
       "           ...,\n",
       "           [-4.8383e-01, -4.8383e-01, -3.9451e-01,  ..., -4.8383e-01,\n",
       "            -4.8383e-01, -4.8383e-01],\n",
       "           [-3.9451e-01, -3.4985e-01, -5.2849e-01,  ..., -4.8383e-01,\n",
       "            -5.2849e-01, -4.8383e-01],\n",
       "           [-4.8383e-01, -3.4985e-01, -3.4985e-01,  ..., -5.2849e-01,\n",
       "            -6.1781e-01, -4.8383e-01]],\n",
       " \n",
       "          [[-4.3476e-01, -3.5402e-01, -3.5402e-01,  ...,  3.8173e+00,\n",
       "             3.9788e+00,  3.9788e+00],\n",
       "           [-3.5402e-01, -4.0784e-01, -4.3476e-01,  ...,  4.0057e+00,\n",
       "             3.8711e+00,  4.0864e+00],\n",
       "           [-3.8093e-01, -4.3476e-01, -4.0784e-01,  ...,  3.8980e+00,\n",
       "             3.9788e+00,  3.9519e+00],\n",
       "           ...,\n",
       "           [-3.2711e-01, -3.5402e-01, -3.8093e-01,  ..., -4.3476e-01,\n",
       "            -4.3476e-01, -4.3476e-01],\n",
       "           [-3.8093e-01, -4.0784e-01, -3.8093e-01,  ..., -3.8093e-01,\n",
       "            -4.0784e-01, -3.5402e-01],\n",
       "           [-3.8093e-01, -3.2711e-01, -4.0784e-01,  ..., -4.0784e-01,\n",
       "            -3.5402e-01, -4.0784e-01]],\n",
       " \n",
       "          [[-4.7602e-01, -4.7602e-01, -3.8941e-01,  ...,  7.9681e+00,\n",
       "             9.7869e+00,  1.0523e+01],\n",
       "           [-4.3272e-01, -4.7602e-01, -4.7602e-01,  ...,  7.6650e+00,\n",
       "             9.6136e+00,  1.0393e+01],\n",
       "           [-4.7602e-01, -4.7602e-01, -4.3272e-01,  ...,  7.4485e+00,\n",
       "             9.7869e+00,  1.0436e+01],\n",
       "           ...,\n",
       "           [-4.3272e-01, -4.3272e-01, -4.7602e-01,  ..., -3.8941e-01,\n",
       "            -3.8941e-01, -4.7602e-01],\n",
       "           [-3.4611e-01, -4.3272e-01, -4.3272e-01,  ..., -4.7602e-01,\n",
       "            -4.3272e-01, -3.8941e-01],\n",
       "           [-3.8941e-01, -3.4611e-01, -3.8941e-01,  ..., -4.3272e-01,\n",
       "            -4.3272e-01, -4.7602e-01]]],\n",
       " \n",
       " \n",
       "         [[[-4.7816e-01, -4.6223e-01, -4.6223e-01,  ..., -4.7816e-01,\n",
       "            -4.6223e-01, -4.6223e-01],\n",
       "           [-4.9408e-01, -4.6223e-01, -4.7816e-01,  ..., -4.9408e-01,\n",
       "            -4.7816e-01, -4.7816e-01],\n",
       "           [-4.6223e-01, -4.7816e-01, -4.7816e-01,  ..., -3.9853e-01,\n",
       "            -4.9408e-01, -4.7816e-01],\n",
       "           ...,\n",
       "           [-4.4631e-01, -4.7816e-01, -4.9408e-01,  ..., -1.5965e-01,\n",
       "            -3.3483e-01, -3.9853e-01],\n",
       "           [-4.6223e-01, -4.9408e-01, -4.6223e-01,  ...,  3.8180e-01,\n",
       "            -1.5965e-01, -3.5076e-01],\n",
       "           [-4.7816e-01, -4.6223e-01, -4.9408e-01,  ...,  1.1144e+00,\n",
       "             4.2957e-01, -1.4373e-01]],\n",
       " \n",
       "          [[ 9.2776e-01,  7.2226e-01,  1.7427e-01,  ...,  2.6560e-01,\n",
       "             3.1127e-01, -3.2805e-01],\n",
       "           [ 5.6243e-01,  3.7977e-01,  8.2942e-02,  ..., -1.4539e-01,\n",
       "             6.0109e-02,  1.9711e-01],\n",
       "           [ 6.9943e-01,  5.1677e-01,  1.5144e-01,  ..., -3.2805e-01,\n",
       "             2.1994e-01,  3.7977e-01],\n",
       "           ...,\n",
       "           [-1.0359e+00, -8.0754e-01, -6.9338e-01,  ...,  3.7276e-02,\n",
       "             3.7276e-02,  7.9076e-01],\n",
       "           [-1.4925e+00, -1.5154e+00, -1.3784e+00,  ...,  3.7276e-02,\n",
       "             3.7276e-02, -3.1223e-02],\n",
       "           [-1.6067e+00, -1.6524e+00, -1.5839e+00,  ...,  4.2543e-01,\n",
       "             2.4277e-01,  8.2942e-02]],\n",
       " \n",
       "          [[-2.1947e-01, -4.7965e-01, -4.2390e-01,  ..., -6.0974e-01,\n",
       "            -7.7700e-01, -4.7965e-01],\n",
       "           [-2.1947e-01, -5.1682e-01, -5.3540e-01,  ..., -7.3983e-01,\n",
       "            -7.9559e-01, -7.3983e-01],\n",
       "           [ 2.2134e-02, -4.2390e-01, -5.1682e-01,  ..., -7.5842e-01,\n",
       "            -6.8408e-01, -6.6549e-01],\n",
       "           ...,\n",
       "           [-8.5134e-01, -8.1417e-01, -7.0266e-01,  ...,  1.7133e+00,\n",
       "             2.2895e+00,  2.8098e+00],\n",
       "           [-9.6285e-01, -9.2568e-01, -9.2568e-01,  ...,  1.8248e+00,\n",
       "             2.6054e+00,  2.7355e+00],\n",
       "           [-9.4426e-01, -9.8143e-01, -9.8143e-01,  ...,  1.4346e+00,\n",
       "             2.2895e+00,  2.4010e+00]],\n",
       " \n",
       "          [[-1.8403e-01, -5.0096e-01, -4.7658e-01,  ..., -6.7161e-01,\n",
       "            -6.9599e-01, -6.2285e-01],\n",
       "           [-1.5965e-01, -4.5220e-01, -4.5220e-01,  ..., -7.6913e-01,\n",
       "            -7.6913e-01, -6.2285e-01],\n",
       "           [-3.7749e-02, -5.7409e-01, -6.2285e-01,  ..., -6.2285e-01,\n",
       "            -6.4723e-01, -6.2285e-01],\n",
       "           ...,\n",
       "           [-5.9847e-01, -4.5220e-01, -4.2782e-01,  ...,  4.6918e+00,\n",
       "             4.7650e+00,  4.7650e+00],\n",
       "           [-6.4723e-01, -8.1789e-01, -5.7409e-01,  ...,  2.9122e+00,\n",
       "             4.7650e+00,  4.7650e+00],\n",
       "           [-6.7161e-01, -6.7161e-01, -7.2037e-01,  ...,  8.6429e-01,\n",
       "             3.6923e+00,  4.7650e+00]],\n",
       " \n",
       "          [[ 1.7214e-01, -5.9786e-02, -1.4412e-01,  ..., -5.6580e-01,\n",
       "            -5.6580e-01, -5.2363e-01],\n",
       "           [ 3.4654e-03, -1.7618e-02, -1.0195e-01,  ..., -6.0796e-01,\n",
       "            -6.7121e-01, -6.9230e-01],\n",
       "           [ 1.7214e-01, -5.9786e-02, -2.0737e-01,  ..., -5.4471e-01,\n",
       "            -5.8688e-01, -5.6580e-01],\n",
       "           ...,\n",
       "           [-5.4471e-01, -5.0254e-01, -4.3929e-01,  ...,  1.5004e+00,\n",
       "             1.6269e+00,  1.6480e+00],\n",
       "           [-8.3988e-01, -8.1880e-01, -8.3988e-01,  ...,  1.6691e+00,\n",
       "             1.7745e+00,  1.4793e+00],\n",
       "           [-8.6097e-01, -9.2422e-01, -8.3988e-01,  ...,  1.3950e+00,\n",
       "             1.7323e+00,  1.8799e+00]]],\n",
       " \n",
       " \n",
       "         [[[-5.5442e-01, -1.5060e+00,  3.9715e-01,  ..., -1.5060e+00,\n",
       "            -5.5442e-01,  8.7293e-01],\n",
       "           [ 3.9715e-01, -5.5442e-01,  8.7293e-01,  ..., -5.5442e-01,\n",
       "             3.9715e-01, -1.5060e+00],\n",
       "           [ 8.7293e-01, -7.8639e-02, -7.8639e-02,  ..., -5.5442e-01,\n",
       "            -5.5442e-01,  2.3003e+00],\n",
       "           ...,\n",
       "           [ 8.7293e-01,  8.7293e-01, -7.8639e-02,  ...,  8.7293e-01,\n",
       "            -5.5442e-01, -7.8639e-02],\n",
       "           [ 3.9715e-01, -1.0302e+00, -1.0302e+00,  ..., -7.8639e-02,\n",
       "            -5.5442e-01, -1.0302e+00],\n",
       "           [-7.8639e-02,  8.7293e-01, -1.5060e+00,  ...,  3.9715e-01,\n",
       "            -5.5442e-01,  3.9715e-01]],\n",
       " \n",
       "          [[-2.5674e-01, -4.2008e-01, -3.3841e-01,  ..., -3.3841e-01,\n",
       "            -3.7924e-01, -4.2008e-01],\n",
       "           [-2.5674e-01, -4.2008e-01, -1.7507e-01,  ..., -3.3841e-01,\n",
       "            -2.9757e-01, -3.7924e-01],\n",
       "           [-2.9757e-01, -2.5674e-01, -2.9757e-01,  ..., -1.7507e-01,\n",
       "            -2.9757e-01, -2.5674e-01],\n",
       "           ...,\n",
       "           [-3.7924e-01, -1.3423e-01, -2.9757e-01,  ..., -1.7507e-01,\n",
       "            -2.5674e-01, -1.3423e-01],\n",
       "           [-2.1590e-01, -3.7924e-01, -3.7924e-01,  ..., -4.2008e-01,\n",
       "            -9.3397e-02, -2.9757e-01],\n",
       "           [-2.9757e-01, -4.2008e-01, -2.1590e-01,  ..., -3.7924e-01,\n",
       "            -2.5674e-01, -3.7924e-01]],\n",
       " \n",
       "          [[-1.3200e-01, -2.0262e-01, -2.0262e-01,  ..., -2.0262e-01,\n",
       "            -2.7323e-01, -2.0262e-01],\n",
       "           [-2.0262e-01, -2.0262e-01, -2.0262e-01,  ..., -2.0262e-01,\n",
       "            -2.0262e-01, -2.7323e-01],\n",
       "           [-2.0262e-01, -2.0262e-01, -2.0262e-01,  ..., -2.0262e-01,\n",
       "            -2.7323e-01, -2.7323e-01],\n",
       "           ...,\n",
       "           [-2.7323e-01, -2.0262e-01, -1.3200e-01,  ..., -2.0262e-01,\n",
       "            -2.7323e-01, -2.7323e-01],\n",
       "           [-2.7323e-01, -2.0262e-01, -2.0262e-01,  ..., -1.3200e-01,\n",
       "            -2.7323e-01, -2.0262e-01],\n",
       "           [-2.0262e-01, -2.7323e-01, -2.0262e-01,  ..., -2.0262e-01,\n",
       "            -2.0262e-01, -1.3200e-01]],\n",
       " \n",
       "          [[-1.3369e-01, -4.2065e-01, -3.8031e-02,  ..., -3.2499e-01,\n",
       "            -4.2065e-01, -4.2065e-01],\n",
       "           [-3.8031e-02,  3.4459e-01,  5.7624e-02,  ..., -5.1630e-01,\n",
       "            -3.2499e-01, -3.2499e-01],\n",
       "           [-4.2065e-01, -3.8031e-02, -5.1630e-01,  ..., -4.2065e-01,\n",
       "            -6.1196e-01, -4.2065e-01],\n",
       "           ...,\n",
       "           [-3.8031e-02,  5.7624e-02,  1.5328e-01,  ...,  5.7624e-02,\n",
       "             1.5328e-01,  2.4893e-01],\n",
       "           [ 5.7624e-02,  5.7624e-02,  1.5328e-01,  ...,  5.7624e-02,\n",
       "             5.7624e-02, -1.3369e-01],\n",
       "           [-1.3369e-01, -3.8031e-02, -6.1196e-01,  ..., -3.2499e-01,\n",
       "            -5.1630e-01, -1.3369e-01]],\n",
       " \n",
       "          [[-2.2762e-01, -2.2762e-01, -7.7182e-02,  ..., -2.2762e-01,\n",
       "            -2.2762e-01, -2.2762e-01],\n",
       "           [-3.0284e-01, -2.2762e-01,  2.2369e-01,  ..., -2.2762e-01,\n",
       "            -7.7182e-02, -1.5240e-01],\n",
       "           [-2.2762e-01, -2.2762e-01, -2.2762e-01,  ..., -2.2762e-01,\n",
       "            -7.7182e-02, -7.7182e-02],\n",
       "           ...,\n",
       "           [-3.7805e-01, -7.7182e-02, -2.2762e-01,  ..., -2.2762e-01,\n",
       "            -2.2762e-01, -3.0284e-01],\n",
       "           [-2.2762e-01, -3.0284e-01, -3.0284e-01,  ..., -1.5240e-01,\n",
       "            -3.0284e-01, -3.0284e-01],\n",
       "           [-1.5240e-01, -3.0284e-01, -2.2762e-01,  ..., -3.7805e-01,\n",
       "            -7.7182e-02, -1.5240e-01]]],\n",
       " \n",
       " \n",
       "         [[[ 2.7704e+00,  2.9860e+00,  2.9860e+00,  ..., -6.2118e-01,\n",
       "            -6.3555e-01, -6.0681e-01],\n",
       "           [ 2.7704e+00,  2.9860e+00,  2.9860e+00,  ..., -6.2118e-01,\n",
       "            -6.2118e-01, -6.0681e-01],\n",
       "           [ 2.5979e+00,  2.9141e+00,  2.9860e+00,  ..., -5.9244e-01,\n",
       "            -5.9244e-01, -5.9244e-01],\n",
       "           ...,\n",
       "           [-6.2118e-01, -6.2118e-01, -6.3555e-01,  ..., -6.3555e-01,\n",
       "            -6.3555e-01, -6.4992e-01],\n",
       "           [-6.0681e-01, -6.2118e-01, -6.3555e-01,  ..., -6.4992e-01,\n",
       "            -6.3555e-01, -6.3555e-01],\n",
       "           [-5.9244e-01, -5.9244e-01, -6.2118e-01,  ..., -6.4992e-01,\n",
       "            -6.4992e-01, -6.3555e-01]],\n",
       " \n",
       "          [[ 2.6818e+00,  2.2643e+00,  1.5274e+00,  ...,  8.8885e-01,\n",
       "             1.0608e+00,  1.4538e+00],\n",
       "           [ 2.6818e+00,  2.6818e+00,  2.1906e+00,  ...,  8.8885e-01,\n",
       "             1.0362e+00,  1.3309e+00],\n",
       "           [ 2.6818e+00,  2.6818e+00,  2.6818e+00,  ...,  8.6429e-01,\n",
       "             1.0608e+00,  1.2818e+00],\n",
       "           ...,\n",
       "           [ 7.4149e-01,  5.9412e-01,  5.9412e-01,  ..., -5.1112e-01,\n",
       "            -6.5848e-01, -7.3217e-01],\n",
       "           [ 6.1868e-01,  5.2044e-01,  5.9412e-01,  ..., -5.1112e-01,\n",
       "            -7.3217e-01, -8.3041e-01],\n",
       "           [ 4.2220e-01,  3.2395e-01,  4.9588e-01,  ..., -4.6200e-01,\n",
       "            -6.5848e-01, -8.5497e-01]],\n",
       " \n",
       "          [[ 2.7294e+00,  2.7294e+00,  2.7294e+00,  ..., -8.6414e-02,\n",
       "             5.9232e-02,  3.0198e-01],\n",
       "           [ 2.7294e+00,  2.7294e+00,  2.7294e+00,  ..., -1.3591e-02,\n",
       "             1.5633e-01,  4.2335e-01],\n",
       "           [ 2.7294e+00,  2.7294e+00,  2.7294e+00,  ..., -8.6414e-02,\n",
       "             1.5633e-01,  4.4762e-01],\n",
       "           ...,\n",
       "           [-4.7480e-01, -5.2335e-01, -5.7190e-01,  ..., -1.4458e+00,\n",
       "            -1.5429e+00, -1.7128e+00],\n",
       "           [-4.7480e-01, -5.4763e-01, -4.9908e-01,  ..., -1.5186e+00,\n",
       "            -1.6885e+00, -1.8827e+00],\n",
       "           [-4.7480e-01, -5.4763e-01, -4.5053e-01,  ..., -1.5671e+00,\n",
       "            -1.7613e+00, -1.9313e+00]],\n",
       " \n",
       "          [[ 2.3662e+00,  2.3662e+00,  2.3662e+00,  ..., -7.4884e-01,\n",
       "            -6.5501e-01, -5.6119e-01],\n",
       "           [ 2.3662e+00,  2.3662e+00,  2.3662e+00,  ..., -6.1748e-01,\n",
       "            -5.7995e-01, -5.2366e-01],\n",
       "           [ 2.3662e+00,  2.3662e+00,  2.3662e+00,  ..., -5.6119e-01,\n",
       "            -5.2366e-01, -4.4860e-01],\n",
       "           ...,\n",
       "           [-4.2983e-01, -4.6736e-01, -4.6736e-01,  ..., -1.5745e+00,\n",
       "            -1.5745e+00, -1.6120e+00],\n",
       "           [-4.2983e-01, -4.6736e-01, -4.4860e-01,  ..., -1.5745e+00,\n",
       "            -1.5933e+00, -1.6683e+00],\n",
       "           [-4.6736e-01, -4.6736e-01, -4.1107e-01,  ..., -1.5745e+00,\n",
       "            -1.6308e+00, -1.6871e+00]],\n",
       " \n",
       "          [[ 2.5603e+00,  2.5603e+00,  2.5603e+00,  ..., -6.7245e-01,\n",
       "            -5.7942e-01, -4.8639e-01],\n",
       "           [ 2.5603e+00,  2.5603e+00,  2.5603e+00,  ..., -6.7245e-01,\n",
       "            -5.3291e-01, -3.9336e-01],\n",
       "           [ 2.5603e+00,  2.5603e+00,  2.5603e+00,  ..., -6.7245e-01,\n",
       "            -5.5616e-01, -3.7011e-01],\n",
       "           ...,\n",
       "           [-2.1249e-02, -9.1020e-02, -2.5382e-01,  ..., -1.6492e+00,\n",
       "            -1.6260e+00, -1.7888e+00],\n",
       "           [-1.1428e-01, -1.6079e-01, -2.3056e-01,  ..., -1.6260e+00,\n",
       "            -1.7190e+00, -1.9516e+00],\n",
       "           [-1.8405e-01, -1.8405e-01, -1.3753e-01,  ..., -1.6492e+00,\n",
       "            -1.7655e+00, -2.0214e+00]]]]),\n",
       " 'compound': tensor([[0., 0., 0.,  ..., 0., 0., 0.],\n",
       "         [0., 0., 0.,  ..., 0., 0., 0.],\n",
       "         [0., 0., 0.,  ..., 0., 0., 0.],\n",
       "         [0., 0., 0.,  ..., 0., 0., 0.]])}"
      ]
     },
     "execution_count": 26,
     "metadata": {},
     "output_type": "execute_result"
    }
   ],
   "source": [
    "batches[1]"
   ]
  },
  {
   "cell_type": "code",
   "execution_count": 25,
   "metadata": {},
   "outputs": [
    {
     "data": {
      "text/plain": [
       "torch.Size([4, 2167])"
      ]
     },
     "execution_count": 25,
     "metadata": {},
     "output_type": "execute_result"
    }
   ],
   "source": [
    "batches[0][\"compound\"].shape"
   ]
  },
  {
   "cell_type": "code",
   "execution_count": 27,
   "metadata": {},
   "outputs": [
    {
     "data": {
      "text/plain": [
       "torch.Size([4, 5, 128, 128])"
      ]
     },
     "execution_count": 27,
     "metadata": {},
     "output_type": "execute_result"
    }
   ],
   "source": [
    "batches[2][\"image\"].shape"
   ]
  },
  {
   "cell_type": "markdown",
   "metadata": {},
   "source": [
    "## Instantiate model"
   ]
  },
  {
   "cell_type": "code",
   "execution_count": 31,
   "metadata": {},
   "outputs": [],
   "source": [
    "device = torch.device(\"cuda:0\")"
   ]
  },
  {
   "cell_type": "code",
   "execution_count": 28,
   "metadata": {},
   "outputs": [],
   "source": [
    "cfg.model[\"_target_\"] += \".load_from_checkpoint\"\n",
    "with open_dict(cfg.model):\n",
    "    cfg.model[\"checkpoint_path\"] = ckpt"
   ]
  },
  {
   "cell_type": "code",
   "execution_count": 29,
   "metadata": {},
   "outputs": [],
   "source": [
    "model = instantiate(cfg.model, map_location=\"cuda:0\")"
   ]
  },
  {
   "cell_type": "code",
   "execution_count": 32,
   "metadata": {},
   "outputs": [],
   "source": [
    "model.to(device);"
   ]
  },
  {
   "cell_type": "code",
   "execution_count": 36,
   "metadata": {},
   "outputs": [],
   "source": [
    "embs = []\n",
    "for i in range(len(batches)):\n",
    "    batches[i] = {k: v.to(device) for k, v in batches[i].items()}\n",
    "    embs.append(model(**batches[i]))"
   ]
  },
  {
   "cell_type": "code",
   "execution_count": 43,
   "metadata": {},
   "outputs": [
    {
     "data": {
      "text/plain": [
       "tensor([[ 0.0000,  1.1347, -1.5460,  ...,  2.8691,  2.5293, -3.3855],\n",
       "        [-0.8441,  0.5627, -0.0000,  ...,  0.0000,  2.7277, -1.9750],\n",
       "        [ 0.0000, -0.4231, -1.9781,  ...,  0.0000,  0.0000,  0.0000],\n",
       "        [-0.0000, -0.4080, -0.9231,  ...,  0.8095,  1.1871, -0.1908]],\n",
       "       device='cuda:0', grad_fn=<NativeDropoutBackward0>)"
      ]
     },
     "execution_count": 43,
     "metadata": {},
     "output_type": "execute_result"
    }
   ],
   "source": [
    "embs[0][\"compound_emb\"]"
   ]
  },
  {
   "cell_type": "markdown",
   "metadata": {},
   "source": [
    "## Test losses"
   ]
  },
  {
   "cell_type": "code",
   "execution_count": 91,
   "metadata": {},
   "outputs": [],
   "source": [
    "ntxent = NtXentLoss(temperature=1)"
   ]
  },
  {
   "cell_type": "code",
   "execution_count": 132,
   "metadata": {},
   "outputs": [],
   "source": [
    "ntxent2 = NTXent(norm=True, tau=1, uniformity_reg=0, variance_reg=0, covariance_reg=0)"
   ]
  },
  {
   "cell_type": "code",
   "execution_count": 93,
   "metadata": {},
   "outputs": [],
   "source": [
    "cl = ContrastiveLossWithTemperature(logit_scale=0)"
   ]
  },
  {
   "cell_type": "code",
   "execution_count": null,
   "metadata": {},
   "outputs": [],
   "source": []
  },
  {
   "cell_type": "code",
   "execution_count": 133,
   "metadata": {},
   "outputs": [],
   "source": [
    "l11 = ntxent2(\n",
    "    embs[0][\"image_emb\"],\n",
    "    embs[0][\"compound_emb\"],\n",
    ")\n",
    "\n",
    "l12 = ntxent2(\n",
    "    embs[1][\"image_emb\"],\n",
    "    embs[1][\"compound_emb\"],\n",
    ")\n",
    "\n",
    "l13 = ntxent2(\n",
    "    embs[2][\"image_emb\"],\n",
    "    embs[2][\"compound_emb\"],\n",
    ")"
   ]
  },
  {
   "cell_type": "code",
   "execution_count": 135,
   "metadata": {},
   "outputs": [],
   "source": [
    "l21 = cl(\n",
    "    embs[0][\"image_emb\"],\n",
    "    embs[0][\"compound_emb\"],\n",
    ")\n",
    "\n",
    "l22 = cl(\n",
    "    embs[1][\"image_emb\"],\n",
    "    embs[1][\"compound_emb\"],\n",
    ")\n",
    "\n",
    "l23 = cl(\n",
    "    embs[2][\"image_emb\"],\n",
    "    embs[2][\"compound_emb\"],\n",
    ")"
   ]
  },
  {
   "cell_type": "code",
   "execution_count": 136,
   "metadata": {},
   "outputs": [
    {
     "data": {
      "text/plain": [
       "(tensor(1.1239, device='cuda:0', grad_fn=<NegBackward0>),\n",
       " tensor(1.0914, device='cuda:0', grad_fn=<NegBackward0>),\n",
       " tensor(1.0687, device='cuda:0', grad_fn=<NegBackward0>),\n",
       " tensor(6.6137, device='cuda:0', grad_fn=<DivBackward0>),\n",
       " tensor(37.2393, device='cuda:0', grad_fn=<DivBackward0>),\n",
       " tensor(11.4284, device='cuda:0', grad_fn=<DivBackward0>))"
      ]
     },
     "execution_count": 136,
     "metadata": {},
     "output_type": "execute_result"
    }
   ],
   "source": [
    "l11, l12, l13, l21, l22, l23"
   ]
  },
  {
   "cell_type": "code",
   "execution_count": 115,
   "metadata": {},
   "outputs": [
    {
     "data": {
      "text/plain": [
       "(tensor(1.0572, device='cuda:0', grad_fn=<DivBackward0>),\n",
       " tensor(0.1776, device='cuda:0', grad_fn=<DivBackward0>))"
      ]
     },
     "execution_count": 115,
     "metadata": {},
     "output_type": "execute_result"
    }
   ],
   "source": [
    "l11 / l12, l21 / l22"
   ]
  },
  {
   "cell_type": "code",
   "execution_count": 103,
   "metadata": {},
   "outputs": [],
   "source": [
    "embeddings_a = embs[0][\"compound_emb\"]\n",
    "embeddings_b = embs[0][\"image_emb\"]"
   ]
  },
  {
   "cell_type": "code",
   "execution_count": null,
   "metadata": {},
   "outputs": [],
   "source": []
  },
  {
   "cell_type": "code",
   "execution_count": null,
   "metadata": {},
   "outputs": [],
   "source": [
    "out = torch.cat([embeddings_a, embeddings_b], dim=0)\n",
    "n_samples = out.shape[0]\n",
    "\n",
    "# Calculate cosine similarity\n",
    "sim = torch.mm(out, out.t().contiguous())\n",
    "sim = torch.exp(sim / temperature)\n",
    "\n",
    "# Negative similarity\n",
    "mask = ~torch.eye(n_samples, device=sim.device).bool()\n",
    "neg = sim.masked_select(mask).view(n_samples, -1).sum(dim=-1)\n",
    "\n",
    "# Positive similarity\n",
    "pos = torch.exp(torch.sum(embeddings_a * embeddings_b, dim=-1) / temperature)\n",
    "pos = torch.cat([pos, pos], dim=0)\n",
    "\n",
    "loss = -torch.log(pos / neg).mean()"
   ]
  },
  {
   "cell_type": "code",
   "execution_count": 100,
   "metadata": {},
   "outputs": [
    {
     "data": {
      "text/plain": [
       "torch.Size([4, 256])"
      ]
     },
     "execution_count": 100,
     "metadata": {},
     "output_type": "execute_result"
    }
   ],
   "source": [
    "embs[0][\"compound_emb\"].shape"
   ]
  },
  {
   "cell_type": "code",
   "execution_count": 98,
   "metadata": {},
   "outputs": [
    {
     "data": {
      "text/plain": [
       "torch.Size([4, 256])"
      ]
     },
     "execution_count": 98,
     "metadata": {},
     "output_type": "execute_result"
    }
   ],
   "source": [
    "embs[0][\"image_emb\"].shape"
   ]
  },
  {
   "cell_type": "code",
   "execution_count": null,
   "metadata": {},
   "outputs": [],
   "source": []
  },
  {
   "cell_type": "code",
   "execution_count": 122,
   "metadata": {},
   "outputs": [
    {
     "name": "stderr",
     "output_type": "stream",
     "text": [
      "Trainer already configured with model summary callbacks: [<class 'lightning.pytorch.callbacks.rich_model_summary.RichModelSummary'>]. Skipping setting a default `ModelSummary` callback.\n",
      "GPU available: True (cuda), used: True\n",
      "TPU available: False, using: 0 TPU cores\n",
      "IPU available: False, using: 0 IPUs\n",
      "HPU available: False, using: 0 HPUs\n"
     ]
    }
   ],
   "source": [
    "trainer = instantiate(cfg.trainer, callbacks=utils.instantiate_callbacks(cfg.callbacks))"
   ]
  }
 ],
 "metadata": {
  "kernelspec": {
   "display_name": "jump_models",
   "language": "python",
   "name": "python3"
  },
  "language_info": {
   "codemirror_mode": {
    "name": "ipython",
    "version": 3
   },
   "file_extension": ".py",
   "mimetype": "text/x-python",
   "name": "python",
   "nbconvert_exporter": "python",
   "pygments_lexer": "ipython3",
   "version": "3.10.10"
  },
  "orig_nbformat": 4
 },
 "nbformat": 4,
 "nbformat_minor": 2
}
