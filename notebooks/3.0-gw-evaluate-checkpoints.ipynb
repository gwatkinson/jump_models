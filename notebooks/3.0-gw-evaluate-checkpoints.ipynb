{
 "cells": [
  {
   "cell_type": "markdown",
   "metadata": {},
   "source": [
    "# Load models from checkpoints and evaluate them on the evaluation tasks"
   ]
  },
  {
   "cell_type": "code",
   "execution_count": 5,
   "metadata": {},
   "outputs": [
    {
     "name": "stdout",
     "output_type": "stream",
     "text": [
      "The autoreload extension is already loaded. To reload it, use:\n",
      "  %reload_ext autoreload\n"
     ]
    }
   ],
   "source": [
    "%load_ext autoreload\n",
    "%autoreload 2"
   ]
  },
  {
   "cell_type": "code",
   "execution_count": 6,
   "metadata": {},
   "outputs": [],
   "source": [
    "import os\n",
    "from pathlib import Path\n",
    "\n",
    "import molfeat\n",
    "import pandas as pd\n",
    "import torch\n",
    "from hydra import compose, initialize\n",
    "from hydra.core.global_hydra import GlobalHydra\n",
    "from hydra.utils import instantiate\n",
    "from lightning.pytorch.loggers import WandbLogger\n",
    "from omegaconf import DictConfig, OmegaConf, open_dict\n",
    "\n",
    "from src.models.jump_cl import BasicJUMPModule\n",
    "from src.utils import instantiate_evaluator_list"
   ]
  },
  {
   "cell_type": "code",
   "execution_count": 7,
   "metadata": {},
   "outputs": [
    {
     "name": "stdout",
     "output_type": "stream",
     "text": [
      "cpjump1 already mounted.\n",
      "cpjump2 already mounted.\n",
      "cpjump3 already mounted.\n"
     ]
    }
   ],
   "source": [
    "for i in range(1, 4):\n",
    "    if not Path(f\"../cpjump{i}/jump/\").exists():\n",
    "        print(f\"Mounting cpjump{i}...\")\n",
    "        os.system(f\"sshfs bioclust:/projects/cpjump{i}/ ../cpjump{i}\")\n",
    "    else:\n",
    "        print(f\"cpjump{i} already mounted.\")"
   ]
  },
  {
   "cell_type": "code",
   "execution_count": 1,
   "metadata": {},
   "outputs": [],
   "source": [
    "\"2023-08-17_13-32-50/0\"run = \n",
    "epoch = 41"
   ]
  },
  {
   "cell_type": "code",
   "execution_count": 9,
   "metadata": {},
   "outputs": [],
   "source": [
    "ckpt_str = \"../cpjump1/jump/logs/train/multiruns/{run}/checkpoints/epoch_{epoch:0>3}.ckpt\"\n",
    "\n",
    "run_dict = {\n",
    "    \"small1\": (run := \"2023-08-16_11-59-26/0\", \"small_jump_cl\", epoch := 43, ckpt_str.format(run=run, epoch=epoch)),\n",
    "    \"small\": (run := \"2023-08-17_13-32-50/0\", \"small_jump_cl\", epoch := 41, ckpt_str.format(run=run, epoch=epoch)),\n",
    "    \"med\": (run := \"2023-08-07_11-55-54\", \"med_jump_cl\", epoch := 5, ckpt_str.format(run=run, epoch=epoch)),\n",
    "    \"big\": (run := \"2023-08-01_11-37-40\", \"big_jump_cl\", epoch := 1, ckpt_str.format(run=run, epoch=epoch)),\n",
    "}"
   ]
  },
  {
   "cell_type": "code",
   "execution_count": 10,
   "metadata": {},
   "outputs": [],
   "source": [
    "run, experiment, epoch, ckpt = run_dict[\"small\"]"
   ]
  },
  {
   "cell_type": "code",
   "execution_count": 11,
   "metadata": {},
   "outputs": [
    {
     "name": "stdout",
     "output_type": "stream",
     "text": [
      "- experiment=small_jump_cl\n",
      "- trainer.devices=[0,2]\n",
      "- data.num_workers=16\n",
      "- data.prefetch_factor=2\n",
      "- model/criterion=frozen_contrastive.yaml\n"
     ]
    }
   ],
   "source": [
    "os.system(f\"cat ../cpjump1/jump/logs/train/multiruns/{run}/.hydra/overrides.yaml\");"
   ]
  },
  {
   "cell_type": "code",
   "execution_count": 12,
   "metadata": {},
   "outputs": [
    {
     "data": {
      "text/plain": [
       "['last.ckpt', 'epoch_041.ckpt']"
      ]
     },
     "execution_count": 12,
     "metadata": {},
     "output_type": "execute_result"
    }
   ],
   "source": [
    "os.listdir(f\"../cpjump1/jump/logs/train/multiruns/{run}/checkpoints\")"
   ]
  },
  {
   "cell_type": "markdown",
   "metadata": {},
   "source": [
    "## Load the config and instantiate the model, loggers and evaluators"
   ]
  },
  {
   "cell_type": "code",
   "execution_count": 8,
   "metadata": {},
   "outputs": [
    {
     "data": {
      "text/plain": [
       "hydra.initialize()"
      ]
     },
     "execution_count": 8,
     "metadata": {},
     "output_type": "execute_result"
    }
   ],
   "source": [
    "initialize(version_base=None, config_path=\"../configs/\")"
   ]
  },
  {
   "cell_type": "code",
   "execution_count": 13,
   "metadata": {},
   "outputs": [],
   "source": [
    "run, experiment, epoch, ckpt = run_dict[\"small\"]"
   ]
  },
  {
   "cell_type": "code",
   "execution_count": 144,
   "metadata": {},
   "outputs": [
    {
     "name": "stdout",
     "output_type": "stream",
     "text": [
      "task_name: train\n",
      "tags:\n",
      "- dev\n",
      "train: true\n",
      "test: true\n",
      "evaluate: true\n",
      "compile: false\n",
      "ckpt_path: null\n",
      "seed: null\n",
      "data:\n",
      "  compound_transform:\n",
      "    _target_: src.modules.compound_transforms.fp_transform.FPTransform\n",
      "    fps:\n",
      "    - maccs\n",
      "    - ecfp\n",
      "    compound_str_type: smiles\n",
      "    params:\n",
      "      ecfp:\n",
      "        radius: 2\n",
      "  _target_: src.models.jump_cl.datamodule.BasicJUMPDataModule\n",
      "  batch_size: 16\n",
      "  num_workers: ''\n",
      "  pin_memory: null\n",
      "  prefetch_factor: null\n",
      "  drop_last: null\n",
      "  collate_fn:\n",
      "    _target_: src.modules.collate_fn.dgl_image.image_graph_collate_function\n",
      "    _partial_: true\n",
      "  transform:\n",
      "    _target_: src.modules.transforms.DefaultJUMPTransform\n",
      "    _convert_: object\n",
      "    size: 128\n",
      "    dim:\n",
      "    - -2\n",
      "    - -1\n",
      "  force_split: false\n",
      "  splitter:\n",
      "    _target_: src.splitters.ScaffoldSplitter\n",
      "    train: ???\n",
      "    test: ???\n",
      "    val: ???\n",
      "    retrieval: 0\n",
      "  use_compond_cache: false\n",
      "  split_path: ???\n",
      "  dataloader_config:\n",
      "    train:\n",
      "      batch_size: ${data.batch_size}\n",
      "      num_workers: ${data.num_workers}\n",
      "      pin_memory: ${data.pin_memory}\n",
      "      prefetch_factor: ${data.prefetch_factor}\n",
      "      drop_last: ${data.drop_last}\n",
      "      shuffle: true\n",
      "    val:\n",
      "      batch_size: ${data.batch_size}\n",
      "      num_workers: ${data.num_workers}\n",
      "      pin_memory: ${data.pin_memory}\n",
      "      prefetch_factor: ${data.prefetch_factor}\n",
      "      drop_last: ${data.drop_last}\n",
      "      shuffle: false\n",
      "    test:\n",
      "      batch_size: ${data.batch_size}\n",
      "      num_workers: ${data.num_workers}\n",
      "      pin_memory: ${data.pin_memory}\n",
      "      prefetch_factor: ${data.prefetch_factor}\n",
      "      drop_last: ${data.drop_last}\n",
      "      shuffle: false\n",
      "  image_metadata_path: ${paths.metadata_path}/images_metadata.parquet\n",
      "  compound_metadata_path: ${paths.metadata_path}/compound_dict.json\n",
      "  compound_col: Metadata_InChI\n",
      "  image_sampler: null\n",
      "  metadata_dir: ${paths.raw_metadata_path}/complete_metadata.csv\n",
      "  local_load_data_dir: ${paths.load_data_path}/final/\n",
      "  index_str: '{Metadata_Source}__{Metadata_Batch}__{Metadata_Plate}__{Metadata_Well}__{Metadata_Site}'\n",
      "  channels:\n",
      "  - DNA\n",
      "  - AGP\n",
      "  - ER\n",
      "  - Mito\n",
      "  - RNA\n",
      "  col_fstring: FileName_Orig{channel}\n",
      "  id_cols:\n",
      "  - Metadata_Source\n",
      "  - Metadata_Batch\n",
      "  - Metadata_Plate\n",
      "  - Metadata_Well\n",
      "  extra_cols:\n",
      "  - Metadata_PlateType\n",
      "  - Metadata_Site\n",
      "model:\n",
      "  image_encoder:\n",
      "    _target_: src.modules.images.timm_pretrained.CNNEncoder\n",
      "    instance_model_name: resnet18\n",
      "    target_num: ${model.embedding_dim}\n",
      "    n_channels: 5\n",
      "    pretrained: true\n",
      "  molecule_encoder:\n",
      "    _target_: src.modules.molecules.fp_mlp.FingerprintsWithMLP\n",
      "    input_dim: 2167\n",
      "    out_dim: ${model.embedding_dim}\n",
      "    embedding_dim:\n",
      "    - 1024\n",
      "    - 768\n",
      "    - 512\n",
      "    - 512\n",
      "    activation_layer:\n",
      "      _target_: torch.nn.ReLU\n",
      "      _partial_: true\n",
      "    norm_layer:\n",
      "      _target_: torch.nn.BatchNorm1d\n",
      "      _partial_: true\n",
      "    dropout: 0.2\n",
      "  criterion:\n",
      "    _target_: src.modules.losses.contrastive_loss_with_temperature.ContrastiveLossWithTemperature\n",
      "    logit_scale: 0\n",
      "    logit_scale_min: -1\n",
      "    logit_scale_max: 4.605170185988092\n",
      "    requires_grad: true\n",
      "  optimizer:\n",
      "    _target_: torch.optim.Adam\n",
      "    _partial_: true\n",
      "    betas:\n",
      "    - 0.9\n",
      "    - 0.999\n",
      "    eps: 1.0e-08\n",
      "    weight_decay: 0.01\n",
      "    amsgrad: false\n",
      "    lr: ${model.lr}\n",
      "  scheduler:\n",
      "    _target_: torch.optim.lr_scheduler.ExponentialLR\n",
      "    _partial_: true\n",
      "    gamma: ???\n",
      "  _target_: src.models.jump_cl.module.BasicJUMPModule\n",
      "  embedding_dim: 128\n",
      "  lr: 0.04\n",
      "  batch_size: ${data.batch_size}\n",
      "  example_input_path: null\n",
      "  monitor: val/loss\n",
      "  interval: epoch\n",
      "  frequency: 1\n",
      "  image_backbone: backbone\n",
      "  image_head: projection_head\n",
      "  molecule_backbone: null\n",
      "  molecule_head: null\n",
      "callbacks:\n",
      "  rich_progress_bar:\n",
      "    _target_: lightning.pytorch.callbacks.RichProgressBar\n",
      "  model_summary:\n",
      "    _target_: lightning.pytorch.callbacks.RichModelSummary\n",
      "    max_depth: 2\n",
      "  model_checkpoint:\n",
      "    _target_: lightning.pytorch.callbacks.ModelCheckpoint\n",
      "    dirpath: ${paths.output_dir}/checkpoints\n",
      "    filename: epoch_{epoch:03d}\n",
      "    monitor: val/loss\n",
      "    verbose: false\n",
      "    save_last: true\n",
      "    save_top_k: 1\n",
      "    mode: min\n",
      "    auto_insert_metric_name: false\n",
      "    save_weights_only: false\n",
      "    every_n_train_steps: null\n",
      "    train_time_interval: null\n",
      "    every_n_epochs: null\n",
      "    save_on_train_epoch_end: null\n",
      "  early_stopping:\n",
      "    _target_: lightning.pytorch.callbacks.EarlyStopping\n",
      "    monitor: val/loss\n",
      "    min_delta: 0\n",
      "    patience: 10\n",
      "    verbose: false\n",
      "    mode: min\n",
      "    strict: true\n",
      "    check_finite: true\n",
      "    stopping_threshold: null\n",
      "    divergence_threshold: null\n",
      "    check_on_train_epoch_end: null\n",
      "  lr_monitor:\n",
      "    _target_: lightning.pytorch.callbacks.LearningRateMonitor\n",
      "    logging_interval: null\n",
      "    log_momentum: false\n",
      "  wandb_watcher:\n",
      "    _target_: src.callbacks.wandb.WandbTrainingCallback\n",
      "    watch: true\n",
      "    watch_log: all\n",
      "    log_freq: ???\n",
      "    log_graph: false\n",
      "logger:\n",
      "  wandb:\n",
      "    _target_: lightning.pytorch.loggers.wandb.WandbLogger\n",
      "    save_dir: ${paths.output_dir}\n",
      "    offline: false\n",
      "    id: null\n",
      "    anonymous: null\n",
      "    project: jump_models\n",
      "    log_model: true\n",
      "    prefix: ''\n",
      "    group: ''\n",
      "    tags: []\n",
      "    job_type: ''\n",
      "trainer:\n",
      "  _target_: lightning.pytorch.trainer.Trainer\n",
      "  default_root_dir: ${paths.output_dir}\n",
      "  min_epochs: 5\n",
      "  max_epochs: 20\n",
      "  accelerator: gpu\n",
      "  devices: 1\n",
      "  check_val_every_n_epoch: 2\n",
      "  deterministic: false\n",
      "paths:\n",
      "  root_dir: ${oc.env:PROJECT_ROOT}\n",
      "  data_root_dir: ../cpjump1\n",
      "  metadata_path: ${paths.data_root_dir}/jump/models/metadata\n",
      "  raw_metadata_path: ${paths.data_root_dir}/jump/metadata\n",
      "  load_data_path: ${paths.data_root_dir}/jump/load_data\n",
      "  split_path: ${paths.data_root_dir}/jump/models/splits\n",
      "  log_dir: ${paths.data_root_dir}/jump/logs\n",
      "  output_dir: ../cpjump1/jump/logs/train/multiruns/2023-08-17_13-32-50/0\n",
      "  work_dir: ${hydra:runtime.cwd}\n",
      "extras:\n",
      "  ignore_warnings: false\n",
      "  style: dim\n",
      "  enforce_tags: true\n",
      "  print_config: true\n",
      "eval:\n",
      "  idr_graph_retrieval:\n",
      "    trainer:\n",
      "      _target_: lightning.pytorch.trainer.Trainer\n",
      "      default_root_dir: ${paths.output_dir}/eval/retrieval/idr/\n",
      "      min_epochs: 5\n",
      "      max_epochs: 20\n",
      "      accelerator: gpu\n",
      "      devices: ${trainer.devices}\n",
      "      check_val_every_n_epoch: 2\n",
      "      deterministic: false\n",
      "    evaluator:\n",
      "      _target_: src.eval.retrieval.evaluator.IDRRetrievalEvaluator\n",
      "      name: IDRRetrieval\n",
      "      visualize_kwargs: null\n",
      "    callbacks: null\n",
      "    model:\n",
      "      _target_: src.eval.retrieval.module.IDRRetrievalModule\n",
      "      example_input_path: ${paths.data_root_dir}/jump/models/eval/test/example.pt\n",
      "    datamodule:\n",
      "      _target_: src.eval.retrieval.datamodule.IDRRetrievalDataModule\n",
      "      selected_compounds_path: ${paths.data_root_dir}/excape-db/selected_compounds.csv\n",
      "      image_metadata_path: ${paths.data_root_dir}/idr0033-rohban-pathways/processed_metadata.csv\n",
      "      data_root_dir: ${paths.data_root_dir}/screen_1751\n",
      "      image_batch_size: 256\n",
      "      compound_batch_size: 16\n",
      "      num_workers: 16\n",
      "      pin_memory: false\n",
      "      prefetch_factor: 3\n",
      "      compound_transform: ${data.compound_transform}\n",
      "      transform: ${data.transform}\n",
      "      compound_gene_col: Gene_Symbol\n",
      "      image_gene_col: Gene Symbol\n",
      "      col_fstring: FileName_{channel}\n",
      "      channels: null\n",
      "      target_col: Activity_Flag\n",
      "      smiles_col: SMILES\n",
      "      use_cache: false\n",
      "      mol_collate_fn: null\n",
      "      img_collate_fn: null\n",
      "\n"
     ]
    }
   ],
   "source": [
    "cfg = compose(\n",
    "    config_name=\"train.yaml\",\n",
    "    overrides=[\n",
    "        \"evaluate=true\",\n",
    "        \"eval=retrieval\",\n",
    "        \"paths.data_root_dir=../cpjump1\",\n",
    "        f\"paths.output_dir=../cpjump1/jump/logs/train/multiruns/{run}\",\n",
    "        \"model=fp_resnet\",\n",
    "        \"model.embedding_dim=128\",\n",
    "        \"data.batch_size=16\",\n",
    "        \"data.num_workers=\",\n",
    "        \"data.transform.size=128\",\n",
    "        \"model.lr=4e-2\",\n",
    "        \"trainer.devices=1\",\n",
    "        # \"eval.moa_image_task.datamodule.data_root_dir=../\",\n",
    "    ],\n",
    ")\n",
    "print(OmegaConf.to_yaml(cfg))"
   ]
  },
  {
   "cell_type": "code",
   "execution_count": 124,
   "metadata": {},
   "outputs": [
    {
     "data": {
      "text/plain": [
       "128"
      ]
     },
     "execution_count": 124,
     "metadata": {},
     "output_type": "execute_result"
    }
   ],
   "source": [
    "cfg.model.molecule_encoder.out_dim"
   ]
  },
  {
   "cell_type": "code",
   "execution_count": 148,
   "metadata": {},
   "outputs": [
    {
     "data": {
      "text/plain": [
       "molfeat.trans.concat.FeatConcat"
      ]
     },
     "execution_count": 148,
     "metadata": {},
     "output_type": "execute_result"
    }
   ],
   "source": [
    "molfeat.trans.concat.FeatConcat"
   ]
  },
  {
   "cell_type": "code",
   "execution_count": 149,
   "metadata": {},
   "outputs": [
    {
     "data": {
      "text/plain": [
       "'palzezr'"
      ]
     },
     "execution_count": 149,
     "metadata": {},
     "output_type": "execute_result"
    }
   ],
   "source": [
    "\"palzezr\".lower()"
   ]
  },
  {
   "cell_type": "code",
   "execution_count": 139,
   "metadata": {},
   "outputs": [],
   "source": [
    "mol = instantiate(cfg.model)"
   ]
  },
  {
   "cell_type": "code",
   "execution_count": 145,
   "metadata": {},
   "outputs": [
    {
     "ename": "MissingMandatoryValue",
     "evalue": "Missing mandatory value: data.splitter.train\n    full_key: data.splitter.train\n    object_type=dict",
     "output_type": "error",
     "traceback": [
      "\u001b[0;31m---------------------------------------------------------------------------\u001b[0m",
      "\u001b[0;31mMissingMandatoryValue\u001b[0m                     Traceback (most recent call last)",
      "\u001b[1;32m/mnt/2547d4d7-6732-4154-b0e1-17b0c1e0c565/Document-2/Projet2/Stage/workspace/jump_models/notebooks/3.0-gw-evaluate-checkpoints.ipynb Cell 16\u001b[0m line \u001b[0;36m1\n\u001b[0;32m----> <a href='vscode-notebook-cell:/mnt/2547d4d7-6732-4154-b0e1-17b0c1e0c565/Document-2/Projet2/Stage/workspace/jump_models/notebooks/3.0-gw-evaluate-checkpoints.ipynb#Y111sZmlsZQ%3D%3D?line=0'>1</a>\u001b[0m dm \u001b[39m=\u001b[39m instantiate(cfg\u001b[39m.\u001b[39;49mdata)\n",
      "File \u001b[0;32m~/miniconda3/envs/jump_models/lib/python3.10/site-packages/hydra/_internal/instantiate/_instantiate2.py:226\u001b[0m, in \u001b[0;36minstantiate\u001b[0;34m(config, *args, **kwargs)\u001b[0m\n\u001b[1;32m    223\u001b[0m     _convert_ \u001b[39m=\u001b[39m config\u001b[39m.\u001b[39mpop(_Keys\u001b[39m.\u001b[39mCONVERT, ConvertMode\u001b[39m.\u001b[39mNONE)\n\u001b[1;32m    224\u001b[0m     _partial_ \u001b[39m=\u001b[39m config\u001b[39m.\u001b[39mpop(_Keys\u001b[39m.\u001b[39mPARTIAL, \u001b[39mFalse\u001b[39;00m)\n\u001b[0;32m--> 226\u001b[0m     \u001b[39mreturn\u001b[39;00m instantiate_node(\n\u001b[1;32m    227\u001b[0m         config, \u001b[39m*\u001b[39;49margs, recursive\u001b[39m=\u001b[39;49m_recursive_, convert\u001b[39m=\u001b[39;49m_convert_, partial\u001b[39m=\u001b[39;49m_partial_\n\u001b[1;32m    228\u001b[0m     )\n\u001b[1;32m    229\u001b[0m \u001b[39melif\u001b[39;00m OmegaConf\u001b[39m.\u001b[39mis_list(config):\n\u001b[1;32m    230\u001b[0m     \u001b[39m# Finalize config (convert targets to strings, merge with kwargs)\u001b[39;00m\n\u001b[1;32m    231\u001b[0m     config_copy \u001b[39m=\u001b[39m copy\u001b[39m.\u001b[39mdeepcopy(config)\n",
      "File \u001b[0;32m~/miniconda3/envs/jump_models/lib/python3.10/site-packages/hydra/_internal/instantiate/_instantiate2.py:342\u001b[0m, in \u001b[0;36minstantiate_node\u001b[0;34m(node, convert, recursive, partial, *args)\u001b[0m\n\u001b[1;32m    340\u001b[0m         value \u001b[39m=\u001b[39m node[key]\n\u001b[1;32m    341\u001b[0m         \u001b[39mif\u001b[39;00m recursive:\n\u001b[0;32m--> 342\u001b[0m             value \u001b[39m=\u001b[39m instantiate_node(\n\u001b[1;32m    343\u001b[0m                 value, convert\u001b[39m=\u001b[39;49mconvert, recursive\u001b[39m=\u001b[39;49mrecursive\n\u001b[1;32m    344\u001b[0m             )\n\u001b[1;32m    345\u001b[0m         kwargs[key] \u001b[39m=\u001b[39m _convert_node(value, convert)\n\u001b[1;32m    347\u001b[0m \u001b[39mreturn\u001b[39;00m _call_target(_target_, partial, args, kwargs, full_key)\n",
      "File \u001b[0;32m~/miniconda3/envs/jump_models/lib/python3.10/site-packages/hydra/_internal/instantiate/_instantiate2.py:340\u001b[0m, in \u001b[0;36minstantiate_node\u001b[0;34m(node, convert, recursive, partial, *args)\u001b[0m\n\u001b[1;32m    338\u001b[0m \u001b[39mif\u001b[39;00m OmegaConf\u001b[39m.\u001b[39mis_missing(node, key) \u001b[39mand\u001b[39;00m is_partial:\n\u001b[1;32m    339\u001b[0m     \u001b[39mcontinue\u001b[39;00m\n\u001b[0;32m--> 340\u001b[0m value \u001b[39m=\u001b[39m node[key]\n\u001b[1;32m    341\u001b[0m \u001b[39mif\u001b[39;00m recursive:\n\u001b[1;32m    342\u001b[0m     value \u001b[39m=\u001b[39m instantiate_node(\n\u001b[1;32m    343\u001b[0m         value, convert\u001b[39m=\u001b[39mconvert, recursive\u001b[39m=\u001b[39mrecursive\n\u001b[1;32m    344\u001b[0m     )\n",
      "File \u001b[0;32m~/miniconda3/envs/jump_models/lib/python3.10/site-packages/omegaconf/dictconfig.py:375\u001b[0m, in \u001b[0;36mDictConfig.__getitem__\u001b[0;34m(self, key)\u001b[0m\n\u001b[1;32m    371\u001b[0m     \u001b[39mself\u001b[39m\u001b[39m.\u001b[39m_format_and_raise(\n\u001b[1;32m    372\u001b[0m         key\u001b[39m=\u001b[39mkey, value\u001b[39m=\u001b[39m\u001b[39mNone\u001b[39;00m, cause\u001b[39m=\u001b[39me, type_override\u001b[39m=\u001b[39mConfigKeyError\n\u001b[1;32m    373\u001b[0m     )\n\u001b[1;32m    374\u001b[0m \u001b[39mexcept\u001b[39;00m \u001b[39mException\u001b[39;00m \u001b[39mas\u001b[39;00m e:\n\u001b[0;32m--> 375\u001b[0m     \u001b[39mself\u001b[39;49m\u001b[39m.\u001b[39;49m_format_and_raise(key\u001b[39m=\u001b[39;49mkey, value\u001b[39m=\u001b[39;49m\u001b[39mNone\u001b[39;49;00m, cause\u001b[39m=\u001b[39;49me)\n",
      "File \u001b[0;32m~/miniconda3/envs/jump_models/lib/python3.10/site-packages/omegaconf/base.py:231\u001b[0m, in \u001b[0;36mNode._format_and_raise\u001b[0;34m(self, key, value, cause, msg, type_override)\u001b[0m\n\u001b[1;32m    223\u001b[0m \u001b[39mdef\u001b[39;00m \u001b[39m_format_and_raise\u001b[39m(\n\u001b[1;32m    224\u001b[0m     \u001b[39mself\u001b[39m,\n\u001b[1;32m    225\u001b[0m     key: Any,\n\u001b[0;32m   (...)\u001b[0m\n\u001b[1;32m    229\u001b[0m     type_override: Any \u001b[39m=\u001b[39m \u001b[39mNone\u001b[39;00m,\n\u001b[1;32m    230\u001b[0m ) \u001b[39m-\u001b[39m\u001b[39m>\u001b[39m \u001b[39mNone\u001b[39;00m:\n\u001b[0;32m--> 231\u001b[0m     format_and_raise(\n\u001b[1;32m    232\u001b[0m         node\u001b[39m=\u001b[39;49m\u001b[39mself\u001b[39;49m,\n\u001b[1;32m    233\u001b[0m         key\u001b[39m=\u001b[39;49mkey,\n\u001b[1;32m    234\u001b[0m         value\u001b[39m=\u001b[39;49mvalue,\n\u001b[1;32m    235\u001b[0m         msg\u001b[39m=\u001b[39;49m\u001b[39mstr\u001b[39;49m(cause) \u001b[39mif\u001b[39;49;00m msg \u001b[39mis\u001b[39;49;00m \u001b[39mNone\u001b[39;49;00m \u001b[39melse\u001b[39;49;00m msg,\n\u001b[1;32m    236\u001b[0m         cause\u001b[39m=\u001b[39;49mcause,\n\u001b[1;32m    237\u001b[0m         type_override\u001b[39m=\u001b[39;49mtype_override,\n\u001b[1;32m    238\u001b[0m     )\n\u001b[1;32m    239\u001b[0m     \u001b[39massert\u001b[39;00m \u001b[39mFalse\u001b[39;00m\n",
      "File \u001b[0;32m~/miniconda3/envs/jump_models/lib/python3.10/site-packages/omegaconf/_utils.py:899\u001b[0m, in \u001b[0;36mformat_and_raise\u001b[0;34m(node, key, value, msg, cause, type_override)\u001b[0m\n\u001b[1;32m    896\u001b[0m     ex\u001b[39m.\u001b[39mref_type \u001b[39m=\u001b[39m ref_type\n\u001b[1;32m    897\u001b[0m     ex\u001b[39m.\u001b[39mref_type_str \u001b[39m=\u001b[39m ref_type_str\n\u001b[0;32m--> 899\u001b[0m _raise(ex, cause)\n",
      "File \u001b[0;32m~/miniconda3/envs/jump_models/lib/python3.10/site-packages/omegaconf/_utils.py:797\u001b[0m, in \u001b[0;36m_raise\u001b[0;34m(ex, cause)\u001b[0m\n\u001b[1;32m    795\u001b[0m \u001b[39melse\u001b[39;00m:\n\u001b[1;32m    796\u001b[0m     ex\u001b[39m.\u001b[39m__cause__ \u001b[39m=\u001b[39m \u001b[39mNone\u001b[39;00m\n\u001b[0;32m--> 797\u001b[0m \u001b[39mraise\u001b[39;00m ex\u001b[39m.\u001b[39mwith_traceback(sys\u001b[39m.\u001b[39mexc_info()[\u001b[39m2\u001b[39m])\n",
      "File \u001b[0;32m~/miniconda3/envs/jump_models/lib/python3.10/site-packages/omegaconf/dictconfig.py:369\u001b[0m, in \u001b[0;36mDictConfig.__getitem__\u001b[0;34m(self, key)\u001b[0m\n\u001b[1;32m    362\u001b[0m \u001b[39m\u001b[39m\u001b[39m\"\"\"\u001b[39;00m\n\u001b[1;32m    363\u001b[0m \u001b[39mAllow map style access\u001b[39;00m\n\u001b[1;32m    364\u001b[0m \u001b[39m:param key:\u001b[39;00m\n\u001b[1;32m    365\u001b[0m \u001b[39m:return:\u001b[39;00m\n\u001b[1;32m    366\u001b[0m \u001b[39m\"\"\"\u001b[39;00m\n\u001b[1;32m    368\u001b[0m \u001b[39mtry\u001b[39;00m:\n\u001b[0;32m--> 369\u001b[0m     \u001b[39mreturn\u001b[39;00m \u001b[39mself\u001b[39;49m\u001b[39m.\u001b[39;49m_get_impl(key\u001b[39m=\u001b[39;49mkey, default_value\u001b[39m=\u001b[39;49m_DEFAULT_MARKER_)\n\u001b[1;32m    370\u001b[0m \u001b[39mexcept\u001b[39;00m \u001b[39mAttributeError\u001b[39;00m \u001b[39mas\u001b[39;00m e:\n\u001b[1;32m    371\u001b[0m     \u001b[39mself\u001b[39m\u001b[39m.\u001b[39m_format_and_raise(\n\u001b[1;32m    372\u001b[0m         key\u001b[39m=\u001b[39mkey, value\u001b[39m=\u001b[39m\u001b[39mNone\u001b[39;00m, cause\u001b[39m=\u001b[39me, type_override\u001b[39m=\u001b[39mConfigKeyError\n\u001b[1;32m    373\u001b[0m     )\n",
      "File \u001b[0;32m~/miniconda3/envs/jump_models/lib/python3.10/site-packages/omegaconf/dictconfig.py:451\u001b[0m, in \u001b[0;36mDictConfig._get_impl\u001b[0;34m(self, key, default_value, validate_key)\u001b[0m\n\u001b[1;32m    449\u001b[0m         \u001b[39mraise\u001b[39;00m\n\u001b[1;32m    450\u001b[0m \u001b[39massert\u001b[39;00m \u001b[39misinstance\u001b[39m(node, Node)\n\u001b[0;32m--> 451\u001b[0m \u001b[39mreturn\u001b[39;00m \u001b[39mself\u001b[39;49m\u001b[39m.\u001b[39;49m_resolve_with_default(\n\u001b[1;32m    452\u001b[0m     key\u001b[39m=\u001b[39;49mkey, value\u001b[39m=\u001b[39;49mnode, default_value\u001b[39m=\u001b[39;49mdefault_value\n\u001b[1;32m    453\u001b[0m )\n",
      "File \u001b[0;32m~/miniconda3/envs/jump_models/lib/python3.10/site-packages/omegaconf/basecontainer.py:96\u001b[0m, in \u001b[0;36mBaseContainer._resolve_with_default\u001b[0;34m(self, key, value, default_value)\u001b[0m\n\u001b[1;32m     94\u001b[0m     \u001b[39mif\u001b[39;00m default_value \u001b[39mis\u001b[39;00m \u001b[39mnot\u001b[39;00m _DEFAULT_MARKER_:\n\u001b[1;32m     95\u001b[0m         \u001b[39mreturn\u001b[39;00m default_value\n\u001b[0;32m---> 96\u001b[0m     \u001b[39mraise\u001b[39;00m MissingMandatoryValue(\u001b[39m\"\u001b[39m\u001b[39mMissing mandatory value: $FULL_KEY\u001b[39m\u001b[39m\"\u001b[39m)\n\u001b[1;32m     98\u001b[0m resolved_node \u001b[39m=\u001b[39m \u001b[39mself\u001b[39m\u001b[39m.\u001b[39m_maybe_resolve_interpolation(\n\u001b[1;32m     99\u001b[0m     parent\u001b[39m=\u001b[39m\u001b[39mself\u001b[39m,\n\u001b[1;32m    100\u001b[0m     key\u001b[39m=\u001b[39mkey,\n\u001b[1;32m    101\u001b[0m     value\u001b[39m=\u001b[39mvalue,\n\u001b[1;32m    102\u001b[0m     throw_on_resolution_failure\u001b[39m=\u001b[39m\u001b[39mTrue\u001b[39;00m,\n\u001b[1;32m    103\u001b[0m )\n\u001b[1;32m    105\u001b[0m \u001b[39mreturn\u001b[39;00m _get_value(resolved_node)\n",
      "\u001b[0;31mMissingMandatoryValue\u001b[0m: Missing mandatory value: data.splitter.train\n    full_key: data.splitter.train\n    object_type=dict"
     ]
    }
   ],
   "source": [
    "dm = instantiate(cfg.data)"
   ]
  },
  {
   "cell_type": "code",
   "execution_count": 134,
   "metadata": {},
   "outputs": [
    {
     "data": {
      "text/plain": [
       "BasicJUMPModule(\n",
       "  (image_encoder): CNNEncoder(\n",
       "    (backbone): ResNet(\n",
       "      (conv1): Conv2d(3, 64, kernel_size=(7, 7), stride=(2, 2), padding=(3, 3), bias=False)\n",
       "      (bn1): BatchNorm2d(64, eps=1e-05, momentum=0.1, affine=True, track_running_stats=True)\n",
       "      (act1): ReLU(inplace=True)\n",
       "      (maxpool): MaxPool2d(kernel_size=3, stride=2, padding=1, dilation=1, ceil_mode=False)\n",
       "      (layer1): Sequential(\n",
       "        (0): BasicBlock(\n",
       "          (conv1): Conv2d(64, 64, kernel_size=(3, 3), stride=(1, 1), padding=(1, 1), bias=False)\n",
       "          (bn1): BatchNorm2d(64, eps=1e-05, momentum=0.1, affine=True, track_running_stats=True)\n",
       "          (drop_block): Identity()\n",
       "          (act1): ReLU(inplace=True)\n",
       "          (aa): Identity()\n",
       "          (conv2): Conv2d(64, 64, kernel_size=(3, 3), stride=(1, 1), padding=(1, 1), bias=False)\n",
       "          (bn2): BatchNorm2d(64, eps=1e-05, momentum=0.1, affine=True, track_running_stats=True)\n",
       "          (act2): ReLU(inplace=True)\n",
       "        )\n",
       "        (1): BasicBlock(\n",
       "          (conv1): Conv2d(64, 64, kernel_size=(3, 3), stride=(1, 1), padding=(1, 1), bias=False)\n",
       "          (bn1): BatchNorm2d(64, eps=1e-05, momentum=0.1, affine=True, track_running_stats=True)\n",
       "          (drop_block): Identity()\n",
       "          (act1): ReLU(inplace=True)\n",
       "          (aa): Identity()\n",
       "          (conv2): Conv2d(64, 64, kernel_size=(3, 3), stride=(1, 1), padding=(1, 1), bias=False)\n",
       "          (bn2): BatchNorm2d(64, eps=1e-05, momentum=0.1, affine=True, track_running_stats=True)\n",
       "          (act2): ReLU(inplace=True)\n",
       "        )\n",
       "      )\n",
       "      (layer2): Sequential(\n",
       "        (0): BasicBlock(\n",
       "          (conv1): Conv2d(64, 128, kernel_size=(3, 3), stride=(2, 2), padding=(1, 1), bias=False)\n",
       "          (bn1): BatchNorm2d(128, eps=1e-05, momentum=0.1, affine=True, track_running_stats=True)\n",
       "          (drop_block): Identity()\n",
       "          (act1): ReLU(inplace=True)\n",
       "          (aa): Identity()\n",
       "          (conv2): Conv2d(128, 128, kernel_size=(3, 3), stride=(1, 1), padding=(1, 1), bias=False)\n",
       "          (bn2): BatchNorm2d(128, eps=1e-05, momentum=0.1, affine=True, track_running_stats=True)\n",
       "          (act2): ReLU(inplace=True)\n",
       "          (downsample): Sequential(\n",
       "            (0): Conv2d(64, 128, kernel_size=(1, 1), stride=(2, 2), bias=False)\n",
       "            (1): BatchNorm2d(128, eps=1e-05, momentum=0.1, affine=True, track_running_stats=True)\n",
       "          )\n",
       "        )\n",
       "        (1): BasicBlock(\n",
       "          (conv1): Conv2d(128, 128, kernel_size=(3, 3), stride=(1, 1), padding=(1, 1), bias=False)\n",
       "          (bn1): BatchNorm2d(128, eps=1e-05, momentum=0.1, affine=True, track_running_stats=True)\n",
       "          (drop_block): Identity()\n",
       "          (act1): ReLU(inplace=True)\n",
       "          (aa): Identity()\n",
       "          (conv2): Conv2d(128, 128, kernel_size=(3, 3), stride=(1, 1), padding=(1, 1), bias=False)\n",
       "          (bn2): BatchNorm2d(128, eps=1e-05, momentum=0.1, affine=True, track_running_stats=True)\n",
       "          (act2): ReLU(inplace=True)\n",
       "        )\n",
       "      )\n",
       "      (layer3): Sequential(\n",
       "        (0): BasicBlock(\n",
       "          (conv1): Conv2d(128, 256, kernel_size=(3, 3), stride=(2, 2), padding=(1, 1), bias=False)\n",
       "          (bn1): BatchNorm2d(256, eps=1e-05, momentum=0.1, affine=True, track_running_stats=True)\n",
       "          (drop_block): Identity()\n",
       "          (act1): ReLU(inplace=True)\n",
       "          (aa): Identity()\n",
       "          (conv2): Conv2d(256, 256, kernel_size=(3, 3), stride=(1, 1), padding=(1, 1), bias=False)\n",
       "          (bn2): BatchNorm2d(256, eps=1e-05, momentum=0.1, affine=True, track_running_stats=True)\n",
       "          (act2): ReLU(inplace=True)\n",
       "          (downsample): Sequential(\n",
       "            (0): Conv2d(128, 256, kernel_size=(1, 1), stride=(2, 2), bias=False)\n",
       "            (1): BatchNorm2d(256, eps=1e-05, momentum=0.1, affine=True, track_running_stats=True)\n",
       "          )\n",
       "        )\n",
       "        (1): BasicBlock(\n",
       "          (conv1): Conv2d(256, 256, kernel_size=(3, 3), stride=(1, 1), padding=(1, 1), bias=False)\n",
       "          (bn1): BatchNorm2d(256, eps=1e-05, momentum=0.1, affine=True, track_running_stats=True)\n",
       "          (drop_block): Identity()\n",
       "          (act1): ReLU(inplace=True)\n",
       "          (aa): Identity()\n",
       "          (conv2): Conv2d(256, 256, kernel_size=(3, 3), stride=(1, 1), padding=(1, 1), bias=False)\n",
       "          (bn2): BatchNorm2d(256, eps=1e-05, momentum=0.1, affine=True, track_running_stats=True)\n",
       "          (act2): ReLU(inplace=True)\n",
       "        )\n",
       "      )\n",
       "      (layer4): Sequential(\n",
       "        (0): BasicBlock(\n",
       "          (conv1): Conv2d(256, 512, kernel_size=(3, 3), stride=(2, 2), padding=(1, 1), bias=False)\n",
       "          (bn1): BatchNorm2d(512, eps=1e-05, momentum=0.1, affine=True, track_running_stats=True)\n",
       "          (drop_block): Identity()\n",
       "          (act1): ReLU(inplace=True)\n",
       "          (aa): Identity()\n",
       "          (conv2): Conv2d(512, 512, kernel_size=(3, 3), stride=(1, 1), padding=(1, 1), bias=False)\n",
       "          (bn2): BatchNorm2d(512, eps=1e-05, momentum=0.1, affine=True, track_running_stats=True)\n",
       "          (act2): ReLU(inplace=True)\n",
       "          (downsample): Sequential(\n",
       "            (0): Conv2d(256, 512, kernel_size=(1, 1), stride=(2, 2), bias=False)\n",
       "            (1): BatchNorm2d(512, eps=1e-05, momentum=0.1, affine=True, track_running_stats=True)\n",
       "          )\n",
       "        )\n",
       "        (1): BasicBlock(\n",
       "          (conv1): Conv2d(512, 512, kernel_size=(3, 3), stride=(1, 1), padding=(1, 1), bias=False)\n",
       "          (bn1): BatchNorm2d(512, eps=1e-05, momentum=0.1, affine=True, track_running_stats=True)\n",
       "          (drop_block): Identity()\n",
       "          (act1): ReLU(inplace=True)\n",
       "          (aa): Identity()\n",
       "          (conv2): Conv2d(512, 512, kernel_size=(3, 3), stride=(1, 1), padding=(1, 1), bias=False)\n",
       "          (bn2): BatchNorm2d(512, eps=1e-05, momentum=0.1, affine=True, track_running_stats=True)\n",
       "          (act2): ReLU(inplace=True)\n",
       "        )\n",
       "      )\n",
       "      (global_pool): SelectAdaptivePool2d (pool_type=avg, flatten=Flatten(start_dim=1, end_dim=-1))\n",
       "      (fc): Identity()\n",
       "    )\n",
       "    (entry): Conv2d(3, 64, kernel_size=(7, 7), stride=(2, 2), padding=(3, 3), bias=False)\n",
       "    (projection_head): Linear(in_features=512, out_features=128, bias=True)\n",
       "    (dropouts): ModuleList(\n",
       "      (0-4): 5 x Dropout(p=0.5, inplace=False)\n",
       "    )\n",
       "  )\n",
       "  (molecule_encoder): FingerprintsWithMLP(\n",
       "    (backbone): MLP(\n",
       "      (0): LinearWithActivation(\n",
       "        (0): Linear(in_features=2167, out_features=1024, bias=True)\n",
       "        (1): BatchNorm1d(1024, eps=1e-05, momentum=0.1, affine=True, track_running_stats=True)\n",
       "        (2): ReLU()\n",
       "        (3): Dropout(p=0.2, inplace=False)\n",
       "      )\n",
       "      (1): LinearWithActivation(\n",
       "        (0): Linear(in_features=1024, out_features=768, bias=True)\n",
       "        (1): BatchNorm1d(768, eps=1e-05, momentum=0.1, affine=True, track_running_stats=True)\n",
       "        (2): ReLU()\n",
       "        (3): Dropout(p=0.2, inplace=False)\n",
       "      )\n",
       "      (2): LinearWithActivation(\n",
       "        (0): Linear(in_features=768, out_features=512, bias=True)\n",
       "        (1): BatchNorm1d(512, eps=1e-05, momentum=0.1, affine=True, track_running_stats=True)\n",
       "        (2): ReLU()\n",
       "        (3): Dropout(p=0.2, inplace=False)\n",
       "      )\n",
       "      (3): LinearWithActivation(\n",
       "        (0): Linear(in_features=512, out_features=512, bias=True)\n",
       "        (1): BatchNorm1d(512, eps=1e-05, momentum=0.1, affine=True, track_running_stats=True)\n",
       "        (2): ReLU()\n",
       "        (3): Dropout(p=0.2, inplace=False)\n",
       "      )\n",
       "      (4): LinearWithActivation(\n",
       "        (0): Linear(in_features=512, out_features=128, bias=True)\n",
       "        (1): Dropout(p=0.2, inplace=False)\n",
       "      )\n",
       "    )\n",
       "  )\n",
       "  (criterion): ContrastiveLossWithTemperature()\n",
       "  (image_backbone): ResNet(\n",
       "    (conv1): Conv2d(3, 64, kernel_size=(7, 7), stride=(2, 2), padding=(3, 3), bias=False)\n",
       "    (bn1): BatchNorm2d(64, eps=1e-05, momentum=0.1, affine=True, track_running_stats=True)\n",
       "    (act1): ReLU(inplace=True)\n",
       "    (maxpool): MaxPool2d(kernel_size=3, stride=2, padding=1, dilation=1, ceil_mode=False)\n",
       "    (layer1): Sequential(\n",
       "      (0): BasicBlock(\n",
       "        (conv1): Conv2d(64, 64, kernel_size=(3, 3), stride=(1, 1), padding=(1, 1), bias=False)\n",
       "        (bn1): BatchNorm2d(64, eps=1e-05, momentum=0.1, affine=True, track_running_stats=True)\n",
       "        (drop_block): Identity()\n",
       "        (act1): ReLU(inplace=True)\n",
       "        (aa): Identity()\n",
       "        (conv2): Conv2d(64, 64, kernel_size=(3, 3), stride=(1, 1), padding=(1, 1), bias=False)\n",
       "        (bn2): BatchNorm2d(64, eps=1e-05, momentum=0.1, affine=True, track_running_stats=True)\n",
       "        (act2): ReLU(inplace=True)\n",
       "      )\n",
       "      (1): BasicBlock(\n",
       "        (conv1): Conv2d(64, 64, kernel_size=(3, 3), stride=(1, 1), padding=(1, 1), bias=False)\n",
       "        (bn1): BatchNorm2d(64, eps=1e-05, momentum=0.1, affine=True, track_running_stats=True)\n",
       "        (drop_block): Identity()\n",
       "        (act1): ReLU(inplace=True)\n",
       "        (aa): Identity()\n",
       "        (conv2): Conv2d(64, 64, kernel_size=(3, 3), stride=(1, 1), padding=(1, 1), bias=False)\n",
       "        (bn2): BatchNorm2d(64, eps=1e-05, momentum=0.1, affine=True, track_running_stats=True)\n",
       "        (act2): ReLU(inplace=True)\n",
       "      )\n",
       "    )\n",
       "    (layer2): Sequential(\n",
       "      (0): BasicBlock(\n",
       "        (conv1): Conv2d(64, 128, kernel_size=(3, 3), stride=(2, 2), padding=(1, 1), bias=False)\n",
       "        (bn1): BatchNorm2d(128, eps=1e-05, momentum=0.1, affine=True, track_running_stats=True)\n",
       "        (drop_block): Identity()\n",
       "        (act1): ReLU(inplace=True)\n",
       "        (aa): Identity()\n",
       "        (conv2): Conv2d(128, 128, kernel_size=(3, 3), stride=(1, 1), padding=(1, 1), bias=False)\n",
       "        (bn2): BatchNorm2d(128, eps=1e-05, momentum=0.1, affine=True, track_running_stats=True)\n",
       "        (act2): ReLU(inplace=True)\n",
       "        (downsample): Sequential(\n",
       "          (0): Conv2d(64, 128, kernel_size=(1, 1), stride=(2, 2), bias=False)\n",
       "          (1): BatchNorm2d(128, eps=1e-05, momentum=0.1, affine=True, track_running_stats=True)\n",
       "        )\n",
       "      )\n",
       "      (1): BasicBlock(\n",
       "        (conv1): Conv2d(128, 128, kernel_size=(3, 3), stride=(1, 1), padding=(1, 1), bias=False)\n",
       "        (bn1): BatchNorm2d(128, eps=1e-05, momentum=0.1, affine=True, track_running_stats=True)\n",
       "        (drop_block): Identity()\n",
       "        (act1): ReLU(inplace=True)\n",
       "        (aa): Identity()\n",
       "        (conv2): Conv2d(128, 128, kernel_size=(3, 3), stride=(1, 1), padding=(1, 1), bias=False)\n",
       "        (bn2): BatchNorm2d(128, eps=1e-05, momentum=0.1, affine=True, track_running_stats=True)\n",
       "        (act2): ReLU(inplace=True)\n",
       "      )\n",
       "    )\n",
       "    (layer3): Sequential(\n",
       "      (0): BasicBlock(\n",
       "        (conv1): Conv2d(128, 256, kernel_size=(3, 3), stride=(2, 2), padding=(1, 1), bias=False)\n",
       "        (bn1): BatchNorm2d(256, eps=1e-05, momentum=0.1, affine=True, track_running_stats=True)\n",
       "        (drop_block): Identity()\n",
       "        (act1): ReLU(inplace=True)\n",
       "        (aa): Identity()\n",
       "        (conv2): Conv2d(256, 256, kernel_size=(3, 3), stride=(1, 1), padding=(1, 1), bias=False)\n",
       "        (bn2): BatchNorm2d(256, eps=1e-05, momentum=0.1, affine=True, track_running_stats=True)\n",
       "        (act2): ReLU(inplace=True)\n",
       "        (downsample): Sequential(\n",
       "          (0): Conv2d(128, 256, kernel_size=(1, 1), stride=(2, 2), bias=False)\n",
       "          (1): BatchNorm2d(256, eps=1e-05, momentum=0.1, affine=True, track_running_stats=True)\n",
       "        )\n",
       "      )\n",
       "      (1): BasicBlock(\n",
       "        (conv1): Conv2d(256, 256, kernel_size=(3, 3), stride=(1, 1), padding=(1, 1), bias=False)\n",
       "        (bn1): BatchNorm2d(256, eps=1e-05, momentum=0.1, affine=True, track_running_stats=True)\n",
       "        (drop_block): Identity()\n",
       "        (act1): ReLU(inplace=True)\n",
       "        (aa): Identity()\n",
       "        (conv2): Conv2d(256, 256, kernel_size=(3, 3), stride=(1, 1), padding=(1, 1), bias=False)\n",
       "        (bn2): BatchNorm2d(256, eps=1e-05, momentum=0.1, affine=True, track_running_stats=True)\n",
       "        (act2): ReLU(inplace=True)\n",
       "      )\n",
       "    )\n",
       "    (layer4): Sequential(\n",
       "      (0): BasicBlock(\n",
       "        (conv1): Conv2d(256, 512, kernel_size=(3, 3), stride=(2, 2), padding=(1, 1), bias=False)\n",
       "        (bn1): BatchNorm2d(512, eps=1e-05, momentum=0.1, affine=True, track_running_stats=True)\n",
       "        (drop_block): Identity()\n",
       "        (act1): ReLU(inplace=True)\n",
       "        (aa): Identity()\n",
       "        (conv2): Conv2d(512, 512, kernel_size=(3, 3), stride=(1, 1), padding=(1, 1), bias=False)\n",
       "        (bn2): BatchNorm2d(512, eps=1e-05, momentum=0.1, affine=True, track_running_stats=True)\n",
       "        (act2): ReLU(inplace=True)\n",
       "        (downsample): Sequential(\n",
       "          (0): Conv2d(256, 512, kernel_size=(1, 1), stride=(2, 2), bias=False)\n",
       "          (1): BatchNorm2d(512, eps=1e-05, momentum=0.1, affine=True, track_running_stats=True)\n",
       "        )\n",
       "      )\n",
       "      (1): BasicBlock(\n",
       "        (conv1): Conv2d(512, 512, kernel_size=(3, 3), stride=(1, 1), padding=(1, 1), bias=False)\n",
       "        (bn1): BatchNorm2d(512, eps=1e-05, momentum=0.1, affine=True, track_running_stats=True)\n",
       "        (drop_block): Identity()\n",
       "        (act1): ReLU(inplace=True)\n",
       "        (aa): Identity()\n",
       "        (conv2): Conv2d(512, 512, kernel_size=(3, 3), stride=(1, 1), padding=(1, 1), bias=False)\n",
       "        (bn2): BatchNorm2d(512, eps=1e-05, momentum=0.1, affine=True, track_running_stats=True)\n",
       "        (act2): ReLU(inplace=True)\n",
       "      )\n",
       "    )\n",
       "    (global_pool): SelectAdaptivePool2d (pool_type=avg, flatten=Flatten(start_dim=1, end_dim=-1))\n",
       "    (fc): Identity()\n",
       "  )\n",
       "  (image_head): Linear(in_features=512, out_features=128, bias=True)\n",
       "  (train_loss): MeanMetric()\n",
       "  (val_loss): MeanMetric()\n",
       "  (test_loss): MeanMetric()\n",
       ")"
      ]
     },
     "execution_count": 134,
     "metadata": {},
     "output_type": "execute_result"
    }
   ],
   "source": [
    "mol"
   ]
  },
  {
   "cell_type": "code",
   "execution_count": 106,
   "metadata": {},
   "outputs": [
    {
     "data": {
      "text/plain": [
       "{'_target_': 'src.modules.compound_transforms.fp_transform.FPTransform', 'fps': ['maccs', 'ecfp'], 'compound_str_type': 'smiles', 'params': {'ecfp': {'radius': 2}}}"
      ]
     },
     "execution_count": 106,
     "metadata": {},
     "output_type": "execute_result"
    }
   ],
   "source": [
    "cfg.data.compound_transform"
   ]
  },
  {
   "cell_type": "code",
   "execution_count": 68,
   "metadata": {},
   "outputs": [
    {
     "data": {
      "text/plain": [
       "{'_target_': 'src.eval.retrieval.datamodule.IDRRetrievalDataModule', 'selected_compounds_path': '${paths.data_root_dir}/excape-db/selected_compounds.csv', 'image_metadata_path': '${paths.data_root_dir}/idr0033-rohban-pathways/processed_metadata.csv', 'data_root_dir': '${paths.data_root_dir}/screen_1751', 'image_batch_size': 256, 'compound_batch_size': 16, 'num_workers': 16, 'pin_memory': False, 'prefetch_factor': 3, 'compound_transform': '${data.compound_transform}', 'transform': '${data.transform}', 'compound_gene_col': 'Gene_Symbol', 'image_gene_col': 'Gene Symbol', 'col_fstring': 'FileName_{channel}', 'channels': None, 'target_col': 'Activity_Flag', 'smiles_col': 'SMILES', 'use_cache': False, 'mol_collate_fn': None, 'img_collate_fn': None}"
      ]
     },
     "execution_count": 68,
     "metadata": {},
     "output_type": "execute_result"
    }
   ],
   "source": [
    "cfg.eval.idr_graph_retrieval.datamodule"
   ]
  },
  {
   "cell_type": "code",
   "execution_count": 69,
   "metadata": {},
   "outputs": [],
   "source": [
    "compound_transform = instantiate(cfg.eval.idr_graph_retrieval.datamodule)"
   ]
  },
  {
   "cell_type": "code",
   "execution_count": 74,
   "metadata": {},
   "outputs": [
    {
     "data": {
      "text/plain": [
       "{'image_encoder': {'_target_': 'src.modules.images.timm_pretrained.CNNEncoder', 'instance_model_name': 'resnet18', 'target_num': '${model.embedding_dim}', 'n_channels': 5, 'pretrained': True}, 'molecule_encoder': {'_target_': 'src.modules.molecules.dgllife_gin.GINPretrainedWithLinearHead', 'pretrained_name': 'gin_supervised_infomax', 'out_dim': '${model.embedding_dim}', 'pooling': 'mean', 'preload': True}, 'criterion': {'_target_': 'src.modules.losses.contrastive_loss_with_temperature.ContrastiveLossWithTemperature', 'logit_scale': 0, 'logit_scale_min': -1, 'logit_scale_max': 4.605170185988092, 'requires_grad': True}, 'optimizer': {'_target_': 'torch.optim.Adam', '_partial_': True, 'betas': [0.9, 0.999], 'eps': 1e-08, 'weight_decay': 0.01, 'amsgrad': False, 'lr': '${model.lr}'}, 'scheduler': {'_target_': 'torch.optim.lr_scheduler.CosineAnnealingWarmRestarts', '_partial_': True, 'T_0': 15, 'T_mult': 2, 'eta_min': 0, 'last_epoch': -1}, '_target_': 'src.models.jump_cl.module.BasicJUMPModule', 'embedding_dim': 128, 'lr': 0.04, 'batch_size': '${data.batch_size}', 'example_input_path': '${paths.data_root_dir}/jump/models/example_batch/simple_jump_cl/batch.pth', 'monitor': 'val/loss', 'interval': 'epoch', 'frequency': 1, 'params_group_to_ignore': [], 'image_backbone': 'backbone', 'image_head': 'projection_head', 'molecule_backbone': 'backbone', 'molecule_head': 'projection_head'}"
      ]
     },
     "execution_count": 74,
     "metadata": {},
     "output_type": "execute_result"
    }
   ],
   "source": [
    "cfg.model"
   ]
  },
  {
   "cell_type": "code",
   "execution_count": 15,
   "metadata": {},
   "outputs": [
    {
     "name": "stderr",
     "output_type": "stream",
     "text": [
      "/home/gwatk/miniconda3/envs/jump_models/lib/python3.10/site-packages/torchvision/datapoints/__init__.py:12: UserWarning: The torchvision.datapoints and torchvision.transforms.v2 namespaces are still Beta. While we do not expect major breaking changes, some APIs may still change according to user feedback. Please submit any feedback you may have in this issue: https://github.com/pytorch/vision/issues/6753, and you can also check out https://github.com/pytorch/vision/issues/7319 to learn more about the APIs that we suspect might involve future changes. You can silence this warning by calling torchvision.disable_beta_transforms_warning().\n",
      "  warnings.warn(_BETA_TRANSFORMS_WARNING)\n",
      "/home/gwatk/miniconda3/envs/jump_models/lib/python3.10/site-packages/torchvision/transforms/v2/__init__.py:54: UserWarning: The torchvision.datapoints and torchvision.transforms.v2 namespaces are still Beta. While we do not expect major breaking changes, some APIs may still change according to user feedback. Please submit any feedback you may have in this issue: https://github.com/pytorch/vision/issues/6753, and you can also check out https://github.com/pytorch/vision/issues/7319 to learn more about the APIs that we suspect might involve future changes. You can silence this warning by calling torchvision.disable_beta_transforms_warning().\n",
      "  warnings.warn(_BETA_TRANSFORMS_WARNING)\n"
     ]
    }
   ],
   "source": [
    "moa_data = instantiate(cfg.eval.moa_image_task.datamodule)"
   ]
  },
  {
   "cell_type": "code",
   "execution_count": 17,
   "metadata": {},
   "outputs": [],
   "source": [
    "moa_data.prepare_data()"
   ]
  },
  {
   "cell_type": "code",
   "execution_count": 18,
   "metadata": {},
   "outputs": [],
   "source": [
    "moa_data.setup(\"train\")"
   ]
  },
  {
   "cell_type": "code",
   "execution_count": 21,
   "metadata": {},
   "outputs": [
    {
     "data": {
      "text/html": [
       "<div>\n",
       "<style scoped>\n",
       "    .dataframe tbody tr th:only-of-type {\n",
       "        vertical-align: middle;\n",
       "    }\n",
       "\n",
       "    .dataframe tbody tr th {\n",
       "        vertical-align: top;\n",
       "    }\n",
       "\n",
       "    .dataframe thead th {\n",
       "        text-align: right;\n",
       "    }\n",
       "</style>\n",
       "<table border=\"1\" class=\"dataframe\">\n",
       "  <thead>\n",
       "    <tr style=\"text-align: right;\">\n",
       "      <th></th>\n",
       "      <th>Metadata_Source</th>\n",
       "      <th>Metadata_Batch</th>\n",
       "      <th>Metadata_Plate</th>\n",
       "      <th>Metadata_Well</th>\n",
       "      <th>Metadata_Site</th>\n",
       "      <th>FileName_OrigAGP</th>\n",
       "      <th>FileName_OrigDNA</th>\n",
       "      <th>FileName_OrigER</th>\n",
       "      <th>FileName_OrigMito</th>\n",
       "      <th>FileName_OrigRNA</th>\n",
       "      <th>InChIKey</th>\n",
       "      <th>moa</th>\n",
       "      <th>pert_type</th>\n",
       "      <th>smiles</th>\n",
       "      <th>Metadata_PlateType</th>\n",
       "      <th>Metadata_JCP2022</th>\n",
       "      <th>Metadata_InChIKey</th>\n",
       "      <th>Metadata_InChI</th>\n",
       "      <th>Metadata_Sites_Per_Well</th>\n",
       "      <th>trt</th>\n",
       "    </tr>\n",
       "  </thead>\n",
       "  <tbody>\n",
       "    <tr>\n",
       "      <th>0</th>\n",
       "      <td>source_11</td>\n",
       "      <td>Batch1</td>\n",
       "      <td>EC000004</td>\n",
       "      <td>J01</td>\n",
       "      <td>5</td>\n",
       "      <td>/projects/cpjump2/jump/images/source_11/Batch1...</td>\n",
       "      <td>/projects/cpjump2/jump/images/source_11/Batch1...</td>\n",
       "      <td>/projects/cpjump2/jump/images/source_11/Batch1...</td>\n",
       "      <td>/projects/cpjump2/jump/images/source_11/Batch1...</td>\n",
       "      <td>/projects/cpjump2/jump/images/source_11/Batch1...</td>\n",
       "      <td>IVUGFMLRJOCGAS-UHFFFAOYSA-N</td>\n",
       "      <td>Aurora kinase inhibitor</td>\n",
       "      <td>trt</td>\n",
       "      <td>Cc1csc(c1)-c1nnc(Nc2ccc(Oc3ncccc3-c3ccnc(N)n3)...</td>\n",
       "      <td>COMPOUND</td>\n",
       "      <td>JCP2022_037716</td>\n",
       "      <td>IVUGFMLRJOCGAS-UHFFFAOYSA-N</td>\n",
       "      <td>InChI=1S/C28H21N7OS/c1-17-15-24(37-16-17)25-20...</td>\n",
       "      <td>9</td>\n",
       "      <td>compound_pos</td>\n",
       "    </tr>\n",
       "    <tr>\n",
       "      <th>1</th>\n",
       "      <td>source_8</td>\n",
       "      <td>J3</td>\n",
       "      <td>A1170528</td>\n",
       "      <td>B01</td>\n",
       "      <td>4</td>\n",
       "      <td>/projects/cpjump2/jump/images/source_8/J3/A117...</td>\n",
       "      <td>/projects/cpjump2/jump/images/source_8/J3/A117...</td>\n",
       "      <td>/projects/cpjump2/jump/images/source_8/J3/A117...</td>\n",
       "      <td>/projects/cpjump2/jump/images/source_8/J3/A117...</td>\n",
       "      <td>/projects/cpjump2/jump/images/source_8/J3/A117...</td>\n",
       "      <td>IVUGFMLRJOCGAS-UHFFFAOYSA-N</td>\n",
       "      <td>Aurora kinase inhibitor</td>\n",
       "      <td>trt</td>\n",
       "      <td>Cc1csc(c1)-c1nnc(Nc2ccc(Oc3ncccc3-c3ccnc(N)n3)...</td>\n",
       "      <td>COMPOUND</td>\n",
       "      <td>JCP2022_037716</td>\n",
       "      <td>IVUGFMLRJOCGAS-UHFFFAOYSA-N</td>\n",
       "      <td>InChI=1S/C28H21N7OS/c1-17-15-24(37-16-17)25-20...</td>\n",
       "      <td>9</td>\n",
       "      <td>compound_pos</td>\n",
       "    </tr>\n",
       "    <tr>\n",
       "      <th>2</th>\n",
       "      <td>source_10</td>\n",
       "      <td>2021_06_08_U2OS_48_hr_run4</td>\n",
       "      <td>Dest210608-153057</td>\n",
       "      <td>J01</td>\n",
       "      <td>3</td>\n",
       "      <td>/projects/cpjump3/jump/images/source_10/2021_0...</td>\n",
       "      <td>/projects/cpjump3/jump/images/source_10/2021_0...</td>\n",
       "      <td>/projects/cpjump3/jump/images/source_10/2021_0...</td>\n",
       "      <td>/projects/cpjump3/jump/images/source_10/2021_0...</td>\n",
       "      <td>/projects/cpjump3/jump/images/source_10/2021_0...</td>\n",
       "      <td>IVUGFMLRJOCGAS-UHFFFAOYSA-N</td>\n",
       "      <td>Aurora kinase inhibitor</td>\n",
       "      <td>trt</td>\n",
       "      <td>Cc1csc(c1)-c1nnc(Nc2ccc(Oc3ncccc3-c3ccnc(N)n3)...</td>\n",
       "      <td>COMPOUND</td>\n",
       "      <td>JCP2022_037716</td>\n",
       "      <td>IVUGFMLRJOCGAS-UHFFFAOYSA-N</td>\n",
       "      <td>InChI=1S/C28H21N7OS/c1-17-15-24(37-16-17)25-20...</td>\n",
       "      <td>6</td>\n",
       "      <td>compound_pos</td>\n",
       "    </tr>\n",
       "    <tr>\n",
       "      <th>3</th>\n",
       "      <td>source_5</td>\n",
       "      <td>JUMPCPE-20210903-Run27_20210904_215148</td>\n",
       "      <td>APTJUM422</td>\n",
       "      <td>J01</td>\n",
       "      <td>8</td>\n",
       "      <td>/projects/cpjump2/jump/images/source_5/JUMPCPE...</td>\n",
       "      <td>/projects/cpjump2/jump/images/source_5/JUMPCPE...</td>\n",
       "      <td>/projects/cpjump2/jump/images/source_5/JUMPCPE...</td>\n",
       "      <td>/projects/cpjump2/jump/images/source_5/JUMPCPE...</td>\n",
       "      <td>/projects/cpjump2/jump/images/source_5/JUMPCPE...</td>\n",
       "      <td>IVUGFMLRJOCGAS-UHFFFAOYSA-N</td>\n",
       "      <td>Aurora kinase inhibitor</td>\n",
       "      <td>trt</td>\n",
       "      <td>Cc1csc(c1)-c1nnc(Nc2ccc(Oc3ncccc3-c3ccnc(N)n3)...</td>\n",
       "      <td>COMPOUND</td>\n",
       "      <td>JCP2022_037716</td>\n",
       "      <td>IVUGFMLRJOCGAS-UHFFFAOYSA-N</td>\n",
       "      <td>InChI=1S/C28H21N7OS/c1-17-15-24(37-16-17)25-20...</td>\n",
       "      <td>9</td>\n",
       "      <td>compound_pos</td>\n",
       "    </tr>\n",
       "    <tr>\n",
       "      <th>4</th>\n",
       "      <td>source_9</td>\n",
       "      <td>20210914-Run9</td>\n",
       "      <td>GR00003301</td>\n",
       "      <td>Z24</td>\n",
       "      <td>3</td>\n",
       "      <td>/projects/cpjump1/jump/images/source_9/2021091...</td>\n",
       "      <td>/projects/cpjump1/jump/images/source_9/2021091...</td>\n",
       "      <td>/projects/cpjump1/jump/images/source_9/2021091...</td>\n",
       "      <td>/projects/cpjump1/jump/images/source_9/2021091...</td>\n",
       "      <td>/projects/cpjump1/jump/images/source_9/2021091...</td>\n",
       "      <td>IVUGFMLRJOCGAS-UHFFFAOYSA-N</td>\n",
       "      <td>Aurora kinase inhibitor</td>\n",
       "      <td>trt</td>\n",
       "      <td>Cc1csc(c1)-c1nnc(Nc2ccc(Oc3ncccc3-c3ccnc(N)n3)...</td>\n",
       "      <td>COMPOUND</td>\n",
       "      <td>JCP2022_037716</td>\n",
       "      <td>IVUGFMLRJOCGAS-UHFFFAOYSA-N</td>\n",
       "      <td>InChI=1S/C28H21N7OS/c1-17-15-24(37-16-17)25-20...</td>\n",
       "      <td>4</td>\n",
       "      <td>compound_pos</td>\n",
       "    </tr>\n",
       "    <tr>\n",
       "      <th>...</th>\n",
       "      <td>...</td>\n",
       "      <td>...</td>\n",
       "      <td>...</td>\n",
       "      <td>...</td>\n",
       "      <td>...</td>\n",
       "      <td>...</td>\n",
       "      <td>...</td>\n",
       "      <td>...</td>\n",
       "      <td>...</td>\n",
       "      <td>...</td>\n",
       "      <td>...</td>\n",
       "      <td>...</td>\n",
       "      <td>...</td>\n",
       "      <td>...</td>\n",
       "      <td>...</td>\n",
       "      <td>...</td>\n",
       "      <td>...</td>\n",
       "      <td>...</td>\n",
       "      <td>...</td>\n",
       "      <td>...</td>\n",
       "    </tr>\n",
       "    <tr>\n",
       "      <th>7771</th>\n",
       "      <td>source_9</td>\n",
       "      <td>20210825_Run6</td>\n",
       "      <td>GR00003394</td>\n",
       "      <td>F13</td>\n",
       "      <td>2</td>\n",
       "      <td>/projects/cpjump1/jump/images/source_9/2021082...</td>\n",
       "      <td>/projects/cpjump1/jump/images/source_9/2021082...</td>\n",
       "      <td>/projects/cpjump1/jump/images/source_9/2021082...</td>\n",
       "      <td>/projects/cpjump1/jump/images/source_9/2021082...</td>\n",
       "      <td>/projects/cpjump1/jump/images/source_9/2021082...</td>\n",
       "      <td>VUIRVWPJNKZOSS-UHFFFAOYSA-N</td>\n",
       "      <td>ubiquitin specific protease inhibitor</td>\n",
       "      <td>trt</td>\n",
       "      <td>CC(C)c1ccccc1-c1ncc(C)c(NCc2ccc(cc2)-n2ccnn2)n1</td>\n",
       "      <td>TARGET2</td>\n",
       "      <td>JCP2022_096342</td>\n",
       "      <td>VUIRVWPJNKZOSS-UHFFFAOYSA-N</td>\n",
       "      <td>InChI=1S/C23H24N6/c1-16(2)20-6-4-5-7-21(20)23-...</td>\n",
       "      <td>4</td>\n",
       "      <td>target_trt</td>\n",
       "    </tr>\n",
       "    <tr>\n",
       "      <th>7772</th>\n",
       "      <td>source_9</td>\n",
       "      <td>20211103-Run16</td>\n",
       "      <td>GR00004409</td>\n",
       "      <td>V13</td>\n",
       "      <td>2</td>\n",
       "      <td>/projects/cpjump1/jump/images/source_9/2021110...</td>\n",
       "      <td>/projects/cpjump1/jump/images/source_9/2021110...</td>\n",
       "      <td>/projects/cpjump1/jump/images/source_9/2021110...</td>\n",
       "      <td>/projects/cpjump1/jump/images/source_9/2021110...</td>\n",
       "      <td>/projects/cpjump1/jump/images/source_9/2021110...</td>\n",
       "      <td>VUIRVWPJNKZOSS-UHFFFAOYSA-N</td>\n",
       "      <td>ubiquitin specific protease inhibitor</td>\n",
       "      <td>trt</td>\n",
       "      <td>CC(C)c1ccccc1-c1ncc(C)c(NCc2ccc(cc2)-n2ccnn2)n1</td>\n",
       "      <td>TARGET2</td>\n",
       "      <td>JCP2022_096342</td>\n",
       "      <td>VUIRVWPJNKZOSS-UHFFFAOYSA-N</td>\n",
       "      <td>InChI=1S/C23H24N6/c1-16(2)20-6-4-5-7-21(20)23-...</td>\n",
       "      <td>4</td>\n",
       "      <td>target_trt</td>\n",
       "    </tr>\n",
       "    <tr>\n",
       "      <th>7773</th>\n",
       "      <td>source_3</td>\n",
       "      <td>CP_36_all_Phenix1</td>\n",
       "      <td>JCPQC037</td>\n",
       "      <td>D15</td>\n",
       "      <td>3</td>\n",
       "      <td>/projects/cpjump2/jump/images/source_3/CP_36_a...</td>\n",
       "      <td>/projects/cpjump2/jump/images/source_3/CP_36_a...</td>\n",
       "      <td>/projects/cpjump2/jump/images/source_3/CP_36_a...</td>\n",
       "      <td>/projects/cpjump2/jump/images/source_3/CP_36_a...</td>\n",
       "      <td>/projects/cpjump2/jump/images/source_3/CP_36_a...</td>\n",
       "      <td>VUIRVWPJNKZOSS-UHFFFAOYSA-N</td>\n",
       "      <td>ubiquitin specific protease inhibitor</td>\n",
       "      <td>trt</td>\n",
       "      <td>CC(C)c1ccccc1-c1ncc(C)c(NCc2ccc(cc2)-n2ccnn2)n1</td>\n",
       "      <td>TARGET2</td>\n",
       "      <td>JCP2022_096342</td>\n",
       "      <td>VUIRVWPJNKZOSS-UHFFFAOYSA-N</td>\n",
       "      <td>InChI=1S/C23H24N6/c1-16(2)20-6-4-5-7-21(20)23-...</td>\n",
       "      <td>9</td>\n",
       "      <td>target_trt</td>\n",
       "    </tr>\n",
       "    <tr>\n",
       "      <th>7774</th>\n",
       "      <td>source_3</td>\n",
       "      <td>CP_36_all_Phenix1</td>\n",
       "      <td>JCPQC038</td>\n",
       "      <td>D15</td>\n",
       "      <td>5</td>\n",
       "      <td>/projects/cpjump2/jump/images/source_3/CP_36_a...</td>\n",
       "      <td>/projects/cpjump2/jump/images/source_3/CP_36_a...</td>\n",
       "      <td>/projects/cpjump2/jump/images/source_3/CP_36_a...</td>\n",
       "      <td>/projects/cpjump2/jump/images/source_3/CP_36_a...</td>\n",
       "      <td>/projects/cpjump2/jump/images/source_3/CP_36_a...</td>\n",
       "      <td>VUIRVWPJNKZOSS-UHFFFAOYSA-N</td>\n",
       "      <td>ubiquitin specific protease inhibitor</td>\n",
       "      <td>trt</td>\n",
       "      <td>CC(C)c1ccccc1-c1ncc(C)c(NCc2ccc(cc2)-n2ccnn2)n1</td>\n",
       "      <td>TARGET2</td>\n",
       "      <td>JCP2022_096342</td>\n",
       "      <td>VUIRVWPJNKZOSS-UHFFFAOYSA-N</td>\n",
       "      <td>InChI=1S/C23H24N6/c1-16(2)20-6-4-5-7-21(20)23-...</td>\n",
       "      <td>9</td>\n",
       "      <td>target_trt</td>\n",
       "    </tr>\n",
       "    <tr>\n",
       "      <th>7775</th>\n",
       "      <td>source_9</td>\n",
       "      <td>20210825_Run6</td>\n",
       "      <td>GR00003394</td>\n",
       "      <td>V37</td>\n",
       "      <td>4</td>\n",
       "      <td>/projects/cpjump1/jump/images/source_9/2021082...</td>\n",
       "      <td>/projects/cpjump1/jump/images/source_9/2021082...</td>\n",
       "      <td>/projects/cpjump1/jump/images/source_9/2021082...</td>\n",
       "      <td>/projects/cpjump1/jump/images/source_9/2021082...</td>\n",
       "      <td>/projects/cpjump1/jump/images/source_9/2021082...</td>\n",
       "      <td>VUIRVWPJNKZOSS-UHFFFAOYSA-N</td>\n",
       "      <td>ubiquitin specific protease inhibitor</td>\n",
       "      <td>trt</td>\n",
       "      <td>CC(C)c1ccccc1-c1ncc(C)c(NCc2ccc(cc2)-n2ccnn2)n1</td>\n",
       "      <td>TARGET2</td>\n",
       "      <td>JCP2022_096342</td>\n",
       "      <td>VUIRVWPJNKZOSS-UHFFFAOYSA-N</td>\n",
       "      <td>InChI=1S/C23H24N6/c1-16(2)20-6-4-5-7-21(20)23-...</td>\n",
       "      <td>4</td>\n",
       "      <td>target_trt</td>\n",
       "    </tr>\n",
       "  </tbody>\n",
       "</table>\n",
       "<p>7776 rows × 20 columns</p>\n",
       "</div>"
      ],
      "text/plain": [
       "     Metadata_Source                          Metadata_Batch  \\\n",
       "0          source_11                                  Batch1   \n",
       "1           source_8                                      J3   \n",
       "2          source_10              2021_06_08_U2OS_48_hr_run4   \n",
       "3           source_5  JUMPCPE-20210903-Run27_20210904_215148   \n",
       "4           source_9                           20210914-Run9   \n",
       "...              ...                                     ...   \n",
       "7771        source_9                           20210825_Run6   \n",
       "7772        source_9                          20211103-Run16   \n",
       "7773        source_3                       CP_36_all_Phenix1   \n",
       "7774        source_3                       CP_36_all_Phenix1   \n",
       "7775        source_9                           20210825_Run6   \n",
       "\n",
       "         Metadata_Plate Metadata_Well  Metadata_Site  \\\n",
       "0              EC000004           J01              5   \n",
       "1              A1170528           B01              4   \n",
       "2     Dest210608-153057           J01              3   \n",
       "3             APTJUM422           J01              8   \n",
       "4            GR00003301           Z24              3   \n",
       "...                 ...           ...            ...   \n",
       "7771         GR00003394           F13              2   \n",
       "7772         GR00004409           V13              2   \n",
       "7773           JCPQC037           D15              3   \n",
       "7774           JCPQC038           D15              5   \n",
       "7775         GR00003394           V37              4   \n",
       "\n",
       "                                       FileName_OrigAGP  \\\n",
       "0     /projects/cpjump2/jump/images/source_11/Batch1...   \n",
       "1     /projects/cpjump2/jump/images/source_8/J3/A117...   \n",
       "2     /projects/cpjump3/jump/images/source_10/2021_0...   \n",
       "3     /projects/cpjump2/jump/images/source_5/JUMPCPE...   \n",
       "4     /projects/cpjump1/jump/images/source_9/2021091...   \n",
       "...                                                 ...   \n",
       "7771  /projects/cpjump1/jump/images/source_9/2021082...   \n",
       "7772  /projects/cpjump1/jump/images/source_9/2021110...   \n",
       "7773  /projects/cpjump2/jump/images/source_3/CP_36_a...   \n",
       "7774  /projects/cpjump2/jump/images/source_3/CP_36_a...   \n",
       "7775  /projects/cpjump1/jump/images/source_9/2021082...   \n",
       "\n",
       "                                       FileName_OrigDNA  \\\n",
       "0     /projects/cpjump2/jump/images/source_11/Batch1...   \n",
       "1     /projects/cpjump2/jump/images/source_8/J3/A117...   \n",
       "2     /projects/cpjump3/jump/images/source_10/2021_0...   \n",
       "3     /projects/cpjump2/jump/images/source_5/JUMPCPE...   \n",
       "4     /projects/cpjump1/jump/images/source_9/2021091...   \n",
       "...                                                 ...   \n",
       "7771  /projects/cpjump1/jump/images/source_9/2021082...   \n",
       "7772  /projects/cpjump1/jump/images/source_9/2021110...   \n",
       "7773  /projects/cpjump2/jump/images/source_3/CP_36_a...   \n",
       "7774  /projects/cpjump2/jump/images/source_3/CP_36_a...   \n",
       "7775  /projects/cpjump1/jump/images/source_9/2021082...   \n",
       "\n",
       "                                        FileName_OrigER  \\\n",
       "0     /projects/cpjump2/jump/images/source_11/Batch1...   \n",
       "1     /projects/cpjump2/jump/images/source_8/J3/A117...   \n",
       "2     /projects/cpjump3/jump/images/source_10/2021_0...   \n",
       "3     /projects/cpjump2/jump/images/source_5/JUMPCPE...   \n",
       "4     /projects/cpjump1/jump/images/source_9/2021091...   \n",
       "...                                                 ...   \n",
       "7771  /projects/cpjump1/jump/images/source_9/2021082...   \n",
       "7772  /projects/cpjump1/jump/images/source_9/2021110...   \n",
       "7773  /projects/cpjump2/jump/images/source_3/CP_36_a...   \n",
       "7774  /projects/cpjump2/jump/images/source_3/CP_36_a...   \n",
       "7775  /projects/cpjump1/jump/images/source_9/2021082...   \n",
       "\n",
       "                                      FileName_OrigMito  \\\n",
       "0     /projects/cpjump2/jump/images/source_11/Batch1...   \n",
       "1     /projects/cpjump2/jump/images/source_8/J3/A117...   \n",
       "2     /projects/cpjump3/jump/images/source_10/2021_0...   \n",
       "3     /projects/cpjump2/jump/images/source_5/JUMPCPE...   \n",
       "4     /projects/cpjump1/jump/images/source_9/2021091...   \n",
       "...                                                 ...   \n",
       "7771  /projects/cpjump1/jump/images/source_9/2021082...   \n",
       "7772  /projects/cpjump1/jump/images/source_9/2021110...   \n",
       "7773  /projects/cpjump2/jump/images/source_3/CP_36_a...   \n",
       "7774  /projects/cpjump2/jump/images/source_3/CP_36_a...   \n",
       "7775  /projects/cpjump1/jump/images/source_9/2021082...   \n",
       "\n",
       "                                       FileName_OrigRNA  \\\n",
       "0     /projects/cpjump2/jump/images/source_11/Batch1...   \n",
       "1     /projects/cpjump2/jump/images/source_8/J3/A117...   \n",
       "2     /projects/cpjump3/jump/images/source_10/2021_0...   \n",
       "3     /projects/cpjump2/jump/images/source_5/JUMPCPE...   \n",
       "4     /projects/cpjump1/jump/images/source_9/2021091...   \n",
       "...                                                 ...   \n",
       "7771  /projects/cpjump1/jump/images/source_9/2021082...   \n",
       "7772  /projects/cpjump1/jump/images/source_9/2021110...   \n",
       "7773  /projects/cpjump2/jump/images/source_3/CP_36_a...   \n",
       "7774  /projects/cpjump2/jump/images/source_3/CP_36_a...   \n",
       "7775  /projects/cpjump1/jump/images/source_9/2021082...   \n",
       "\n",
       "                         InChIKey                                    moa  \\\n",
       "0     IVUGFMLRJOCGAS-UHFFFAOYSA-N                Aurora kinase inhibitor   \n",
       "1     IVUGFMLRJOCGAS-UHFFFAOYSA-N                Aurora kinase inhibitor   \n",
       "2     IVUGFMLRJOCGAS-UHFFFAOYSA-N                Aurora kinase inhibitor   \n",
       "3     IVUGFMLRJOCGAS-UHFFFAOYSA-N                Aurora kinase inhibitor   \n",
       "4     IVUGFMLRJOCGAS-UHFFFAOYSA-N                Aurora kinase inhibitor   \n",
       "...                           ...                                    ...   \n",
       "7771  VUIRVWPJNKZOSS-UHFFFAOYSA-N  ubiquitin specific protease inhibitor   \n",
       "7772  VUIRVWPJNKZOSS-UHFFFAOYSA-N  ubiquitin specific protease inhibitor   \n",
       "7773  VUIRVWPJNKZOSS-UHFFFAOYSA-N  ubiquitin specific protease inhibitor   \n",
       "7774  VUIRVWPJNKZOSS-UHFFFAOYSA-N  ubiquitin specific protease inhibitor   \n",
       "7775  VUIRVWPJNKZOSS-UHFFFAOYSA-N  ubiquitin specific protease inhibitor   \n",
       "\n",
       "     pert_type                                             smiles  \\\n",
       "0          trt  Cc1csc(c1)-c1nnc(Nc2ccc(Oc3ncccc3-c3ccnc(N)n3)...   \n",
       "1          trt  Cc1csc(c1)-c1nnc(Nc2ccc(Oc3ncccc3-c3ccnc(N)n3)...   \n",
       "2          trt  Cc1csc(c1)-c1nnc(Nc2ccc(Oc3ncccc3-c3ccnc(N)n3)...   \n",
       "3          trt  Cc1csc(c1)-c1nnc(Nc2ccc(Oc3ncccc3-c3ccnc(N)n3)...   \n",
       "4          trt  Cc1csc(c1)-c1nnc(Nc2ccc(Oc3ncccc3-c3ccnc(N)n3)...   \n",
       "...        ...                                                ...   \n",
       "7771       trt    CC(C)c1ccccc1-c1ncc(C)c(NCc2ccc(cc2)-n2ccnn2)n1   \n",
       "7772       trt    CC(C)c1ccccc1-c1ncc(C)c(NCc2ccc(cc2)-n2ccnn2)n1   \n",
       "7773       trt    CC(C)c1ccccc1-c1ncc(C)c(NCc2ccc(cc2)-n2ccnn2)n1   \n",
       "7774       trt    CC(C)c1ccccc1-c1ncc(C)c(NCc2ccc(cc2)-n2ccnn2)n1   \n",
       "7775       trt    CC(C)c1ccccc1-c1ncc(C)c(NCc2ccc(cc2)-n2ccnn2)n1   \n",
       "\n",
       "     Metadata_PlateType Metadata_JCP2022            Metadata_InChIKey  \\\n",
       "0              COMPOUND   JCP2022_037716  IVUGFMLRJOCGAS-UHFFFAOYSA-N   \n",
       "1              COMPOUND   JCP2022_037716  IVUGFMLRJOCGAS-UHFFFAOYSA-N   \n",
       "2              COMPOUND   JCP2022_037716  IVUGFMLRJOCGAS-UHFFFAOYSA-N   \n",
       "3              COMPOUND   JCP2022_037716  IVUGFMLRJOCGAS-UHFFFAOYSA-N   \n",
       "4              COMPOUND   JCP2022_037716  IVUGFMLRJOCGAS-UHFFFAOYSA-N   \n",
       "...                 ...              ...                          ...   \n",
       "7771            TARGET2   JCP2022_096342  VUIRVWPJNKZOSS-UHFFFAOYSA-N   \n",
       "7772            TARGET2   JCP2022_096342  VUIRVWPJNKZOSS-UHFFFAOYSA-N   \n",
       "7773            TARGET2   JCP2022_096342  VUIRVWPJNKZOSS-UHFFFAOYSA-N   \n",
       "7774            TARGET2   JCP2022_096342  VUIRVWPJNKZOSS-UHFFFAOYSA-N   \n",
       "7775            TARGET2   JCP2022_096342  VUIRVWPJNKZOSS-UHFFFAOYSA-N   \n",
       "\n",
       "                                         Metadata_InChI  \\\n",
       "0     InChI=1S/C28H21N7OS/c1-17-15-24(37-16-17)25-20...   \n",
       "1     InChI=1S/C28H21N7OS/c1-17-15-24(37-16-17)25-20...   \n",
       "2     InChI=1S/C28H21N7OS/c1-17-15-24(37-16-17)25-20...   \n",
       "3     InChI=1S/C28H21N7OS/c1-17-15-24(37-16-17)25-20...   \n",
       "4     InChI=1S/C28H21N7OS/c1-17-15-24(37-16-17)25-20...   \n",
       "...                                                 ...   \n",
       "7771  InChI=1S/C23H24N6/c1-16(2)20-6-4-5-7-21(20)23-...   \n",
       "7772  InChI=1S/C23H24N6/c1-16(2)20-6-4-5-7-21(20)23-...   \n",
       "7773  InChI=1S/C23H24N6/c1-16(2)20-6-4-5-7-21(20)23-...   \n",
       "7774  InChI=1S/C23H24N6/c1-16(2)20-6-4-5-7-21(20)23-...   \n",
       "7775  InChI=1S/C23H24N6/c1-16(2)20-6-4-5-7-21(20)23-...   \n",
       "\n",
       "      Metadata_Sites_Per_Well           trt  \n",
       "0                           9  compound_pos  \n",
       "1                           9  compound_pos  \n",
       "2                           6  compound_pos  \n",
       "3                           9  compound_pos  \n",
       "4                           4  compound_pos  \n",
       "...                       ...           ...  \n",
       "7771                        4    target_trt  \n",
       "7772                        4    target_trt  \n",
       "7773                        9    target_trt  \n",
       "7774                        9    target_trt  \n",
       "7775                        4    target_trt  \n",
       "\n",
       "[7776 rows x 20 columns]"
      ]
     },
     "execution_count": 21,
     "metadata": {},
     "output_type": "execute_result"
    }
   ],
   "source": [
    "moa_data.moa_load_df"
   ]
  },
  {
   "cell_type": "code",
   "execution_count": 23,
   "metadata": {},
   "outputs": [],
   "source": [
    "self = moa_data"
   ]
  },
  {
   "cell_type": "code",
   "execution_count": 29,
   "metadata": {},
   "outputs": [],
   "source": [
    "test_ids = pd.read_csv(self.test_path, header=None).values.flatten().tolist()\n",
    "train_ids = pd.read_csv(self.train_path, header=None).values.flatten().tolist()\n",
    "val_ids = pd.read_csv(self.val_path, header=None).values.flatten().tolist()"
   ]
  },
  {
   "cell_type": "code",
   "execution_count": 31,
   "metadata": {},
   "outputs": [
    {
     "data": {
      "text/plain": [
       "moa\n",
       "Aurora kinase inhibitor                        769\n",
       "Bcr-Abl kinase inhibitor                       768\n",
       "ubiquitin specific protease inhibitor          634\n",
       "hepatocyte growth factor receptor inhibitor    612\n",
       "bromodomain inhibitor                          612\n",
       "DYRK inhibitor                                 612\n",
       "JAK inhibitor                                  612\n",
       "JNK inhibitor                                  607\n",
       "phospholipase inhibitor                        606\n",
       "Name: count, dtype: int64"
      ]
     },
     "execution_count": 31,
     "metadata": {},
     "output_type": "execute_result"
    }
   ],
   "source": [
    "moa_data.moa_load_df.iloc[train_ids].moa.value_counts()"
   ]
  },
  {
   "cell_type": "code",
   "execution_count": 32,
   "metadata": {},
   "outputs": [
    {
     "data": {
      "text/plain": [
       "9"
      ]
     },
     "execution_count": 32,
     "metadata": {},
     "output_type": "execute_result"
    }
   ],
   "source": [
    "moa_data.moa_load_df.iloc[val_ids].moa.nunique()"
   ]
  },
  {
   "cell_type": "code",
   "execution_count": 28,
   "metadata": {},
   "outputs": [
    {
     "data": {
      "text/plain": [
       "moa\n",
       "Aurora kinase inhibitor                        103\n",
       "Bcr-Abl kinase inhibitor                       102\n",
       "ubiquitin specific protease inhibitor           85\n",
       "hepatocyte growth factor receptor inhibitor     82\n",
       "DYRK inhibitor                                  82\n",
       "bromodomain inhibitor                           82\n",
       "JNK inhibitor                                   81\n",
       "phospholipase inhibitor                         81\n",
       "JAK inhibitor                                   81\n",
       "Name: count, dtype: int64"
      ]
     },
     "execution_count": 28,
     "metadata": {},
     "output_type": "execute_result"
    }
   ],
   "source": [
    "moa_data.moa_load_df.iloc[test_ids].moa.value_counts()"
   ]
  },
  {
   "cell_type": "code",
   "execution_count": 12,
   "metadata": {},
   "outputs": [
    {
     "data": {
      "text/plain": [
       "True"
      ]
     },
     "execution_count": 12,
     "metadata": {},
     "output_type": "execute_result"
    }
   ],
   "source": [
    "Path(ckpt).exists()"
   ]
  },
  {
   "cell_type": "code",
   "execution_count": 17,
   "metadata": {},
   "outputs": [
    {
     "name": "stdout",
     "output_type": "stream",
     "text": [
      "Downloading gin_supervised_infomax_pre_trained.pth from https://data.dgl.ai/dgllife/pre_trained/gin_supervised_infomax.pth...\n",
      "Pretrained model loaded\n"
     ]
    }
   ],
   "source": [
    "model2 = instantiate(cfg.model)"
   ]
  },
  {
   "cell_type": "code",
   "execution_count": 13,
   "metadata": {},
   "outputs": [],
   "source": [
    "cfg.model[\"_target_\"] += \".load_from_checkpoint\"\n",
    "with open_dict(cfg.model):\n",
    "    cfg.model[\"checkpoint_path\"] = ckpt"
   ]
  },
  {
   "cell_type": "code",
   "execution_count": 34,
   "metadata": {},
   "outputs": [],
   "source": [
    "params = model2.parameters()\n",
    "pparams = model.parameters()"
   ]
  },
  {
   "cell_type": "code",
   "execution_count": 41,
   "metadata": {},
   "outputs": [
    {
     "data": {
      "text/plain": [
       "tensor([False, False, False, False, False, False, False, False, False, False,\n",
       "        False, False, False, False, False, False, False, False, False, False,\n",
       "        False, False, False, False, False, False, False, False, False, False,\n",
       "        False, False, False, False, False, False, False, False, False, False,\n",
       "        False, False, False, False, False, False, False, False, False, False,\n",
       "        False, False, False, False, False, False, False, False, False, False,\n",
       "        False, False, False, False])"
      ]
     },
     "execution_count": 41,
     "metadata": {},
     "output_type": "execute_result"
    }
   ],
   "source": [
    "next(params).to(\"cpu\") == next(pparams).to(\"cpu\")"
   ]
  },
  {
   "cell_type": "code",
   "execution_count": 35,
   "metadata": {},
   "outputs": [
    {
     "name": "stdout",
     "output_type": "stream",
     "text": [
      "Downloading gin_supervised_infomax_pre_trained.pth from https://data.dgl.ai/dgllife/pre_trained/gin_supervised_infomax.pth...\n",
      "Pretrained model loaded\n"
     ]
    }
   ],
   "source": [
    "model = instantiate(cfg.model)"
   ]
  },
  {
   "cell_type": "code",
   "execution_count": 15,
   "metadata": {},
   "outputs": [
    {
     "data": {
      "text/plain": [
       "BasicJUMPModule(\n",
       "  (image_encoder): CNNEncoder(\n",
       "    (backbone): ResNet(\n",
       "      (conv1): Conv2d(3, 64, kernel_size=(7, 7), stride=(2, 2), padding=(3, 3), bias=False)\n",
       "      (bn1): BatchNorm2d(64, eps=1e-05, momentum=0.1, affine=True, track_running_stats=True)\n",
       "      (act1): ReLU(inplace=True)\n",
       "      (maxpool): MaxPool2d(kernel_size=3, stride=2, padding=1, dilation=1, ceil_mode=False)\n",
       "      (layer1): Sequential(\n",
       "        (0): BasicBlock(\n",
       "          (conv1): Conv2d(64, 64, kernel_size=(3, 3), stride=(1, 1), padding=(1, 1), bias=False)\n",
       "          (bn1): BatchNorm2d(64, eps=1e-05, momentum=0.1, affine=True, track_running_stats=True)\n",
       "          (drop_block): Identity()\n",
       "          (act1): ReLU(inplace=True)\n",
       "          (aa): Identity()\n",
       "          (conv2): Conv2d(64, 64, kernel_size=(3, 3), stride=(1, 1), padding=(1, 1), bias=False)\n",
       "          (bn2): BatchNorm2d(64, eps=1e-05, momentum=0.1, affine=True, track_running_stats=True)\n",
       "          (act2): ReLU(inplace=True)\n",
       "        )\n",
       "        (1): BasicBlock(\n",
       "          (conv1): Conv2d(64, 64, kernel_size=(3, 3), stride=(1, 1), padding=(1, 1), bias=False)\n",
       "          (bn1): BatchNorm2d(64, eps=1e-05, momentum=0.1, affine=True, track_running_stats=True)\n",
       "          (drop_block): Identity()\n",
       "          (act1): ReLU(inplace=True)\n",
       "          (aa): Identity()\n",
       "          (conv2): Conv2d(64, 64, kernel_size=(3, 3), stride=(1, 1), padding=(1, 1), bias=False)\n",
       "          (bn2): BatchNorm2d(64, eps=1e-05, momentum=0.1, affine=True, track_running_stats=True)\n",
       "          (act2): ReLU(inplace=True)\n",
       "        )\n",
       "      )\n",
       "      (layer2): Sequential(\n",
       "        (0): BasicBlock(\n",
       "          (conv1): Conv2d(64, 128, kernel_size=(3, 3), stride=(2, 2), padding=(1, 1), bias=False)\n",
       "          (bn1): BatchNorm2d(128, eps=1e-05, momentum=0.1, affine=True, track_running_stats=True)\n",
       "          (drop_block): Identity()\n",
       "          (act1): ReLU(inplace=True)\n",
       "          (aa): Identity()\n",
       "          (conv2): Conv2d(128, 128, kernel_size=(3, 3), stride=(1, 1), padding=(1, 1), bias=False)\n",
       "          (bn2): BatchNorm2d(128, eps=1e-05, momentum=0.1, affine=True, track_running_stats=True)\n",
       "          (act2): ReLU(inplace=True)\n",
       "          (downsample): Sequential(\n",
       "            (0): Conv2d(64, 128, kernel_size=(1, 1), stride=(2, 2), bias=False)\n",
       "            (1): BatchNorm2d(128, eps=1e-05, momentum=0.1, affine=True, track_running_stats=True)\n",
       "          )\n",
       "        )\n",
       "        (1): BasicBlock(\n",
       "          (conv1): Conv2d(128, 128, kernel_size=(3, 3), stride=(1, 1), padding=(1, 1), bias=False)\n",
       "          (bn1): BatchNorm2d(128, eps=1e-05, momentum=0.1, affine=True, track_running_stats=True)\n",
       "          (drop_block): Identity()\n",
       "          (act1): ReLU(inplace=True)\n",
       "          (aa): Identity()\n",
       "          (conv2): Conv2d(128, 128, kernel_size=(3, 3), stride=(1, 1), padding=(1, 1), bias=False)\n",
       "          (bn2): BatchNorm2d(128, eps=1e-05, momentum=0.1, affine=True, track_running_stats=True)\n",
       "          (act2): ReLU(inplace=True)\n",
       "        )\n",
       "      )\n",
       "      (layer3): Sequential(\n",
       "        (0): BasicBlock(\n",
       "          (conv1): Conv2d(128, 256, kernel_size=(3, 3), stride=(2, 2), padding=(1, 1), bias=False)\n",
       "          (bn1): BatchNorm2d(256, eps=1e-05, momentum=0.1, affine=True, track_running_stats=True)\n",
       "          (drop_block): Identity()\n",
       "          (act1): ReLU(inplace=True)\n",
       "          (aa): Identity()\n",
       "          (conv2): Conv2d(256, 256, kernel_size=(3, 3), stride=(1, 1), padding=(1, 1), bias=False)\n",
       "          (bn2): BatchNorm2d(256, eps=1e-05, momentum=0.1, affine=True, track_running_stats=True)\n",
       "          (act2): ReLU(inplace=True)\n",
       "          (downsample): Sequential(\n",
       "            (0): Conv2d(128, 256, kernel_size=(1, 1), stride=(2, 2), bias=False)\n",
       "            (1): BatchNorm2d(256, eps=1e-05, momentum=0.1, affine=True, track_running_stats=True)\n",
       "          )\n",
       "        )\n",
       "        (1): BasicBlock(\n",
       "          (conv1): Conv2d(256, 256, kernel_size=(3, 3), stride=(1, 1), padding=(1, 1), bias=False)\n",
       "          (bn1): BatchNorm2d(256, eps=1e-05, momentum=0.1, affine=True, track_running_stats=True)\n",
       "          (drop_block): Identity()\n",
       "          (act1): ReLU(inplace=True)\n",
       "          (aa): Identity()\n",
       "          (conv2): Conv2d(256, 256, kernel_size=(3, 3), stride=(1, 1), padding=(1, 1), bias=False)\n",
       "          (bn2): BatchNorm2d(256, eps=1e-05, momentum=0.1, affine=True, track_running_stats=True)\n",
       "          (act2): ReLU(inplace=True)\n",
       "        )\n",
       "      )\n",
       "      (layer4): Sequential(\n",
       "        (0): BasicBlock(\n",
       "          (conv1): Conv2d(256, 512, kernel_size=(3, 3), stride=(2, 2), padding=(1, 1), bias=False)\n",
       "          (bn1): BatchNorm2d(512, eps=1e-05, momentum=0.1, affine=True, track_running_stats=True)\n",
       "          (drop_block): Identity()\n",
       "          (act1): ReLU(inplace=True)\n",
       "          (aa): Identity()\n",
       "          (conv2): Conv2d(512, 512, kernel_size=(3, 3), stride=(1, 1), padding=(1, 1), bias=False)\n",
       "          (bn2): BatchNorm2d(512, eps=1e-05, momentum=0.1, affine=True, track_running_stats=True)\n",
       "          (act2): ReLU(inplace=True)\n",
       "          (downsample): Sequential(\n",
       "            (0): Conv2d(256, 512, kernel_size=(1, 1), stride=(2, 2), bias=False)\n",
       "            (1): BatchNorm2d(512, eps=1e-05, momentum=0.1, affine=True, track_running_stats=True)\n",
       "          )\n",
       "        )\n",
       "        (1): BasicBlock(\n",
       "          (conv1): Conv2d(512, 512, kernel_size=(3, 3), stride=(1, 1), padding=(1, 1), bias=False)\n",
       "          (bn1): BatchNorm2d(512, eps=1e-05, momentum=0.1, affine=True, track_running_stats=True)\n",
       "          (drop_block): Identity()\n",
       "          (act1): ReLU(inplace=True)\n",
       "          (aa): Identity()\n",
       "          (conv2): Conv2d(512, 512, kernel_size=(3, 3), stride=(1, 1), padding=(1, 1), bias=False)\n",
       "          (bn2): BatchNorm2d(512, eps=1e-05, momentum=0.1, affine=True, track_running_stats=True)\n",
       "          (act2): ReLU(inplace=True)\n",
       "        )\n",
       "      )\n",
       "      (global_pool): SelectAdaptivePool2d (pool_type=avg, flatten=Flatten(start_dim=1, end_dim=-1))\n",
       "      (fc): Identity()\n",
       "    )\n",
       "    (entry): Conv2d(3, 64, kernel_size=(7, 7), stride=(2, 2), padding=(3, 3), bias=False)\n",
       "    (projection_head): Linear(in_features=512, out_features=128, bias=True)\n",
       "    (dropouts): ModuleList(\n",
       "      (0-4): 5 x Dropout(p=0.5, inplace=False)\n",
       "    )\n",
       "  )\n",
       "  (molecule_encoder): GINPretrainedWithLinearHead(\n",
       "    (backbone): GIN(\n",
       "      (dropout): Dropout(p=0.5, inplace=False)\n",
       "      (node_embeddings): ModuleList(\n",
       "        (0): Embedding(120, 300)\n",
       "        (1): Embedding(3, 300)\n",
       "      )\n",
       "      (gnn_layers): ModuleList(\n",
       "        (0-4): 5 x GINLayer(\n",
       "          (mlp): Sequential(\n",
       "            (0): Linear(in_features=300, out_features=600, bias=True)\n",
       "            (1): ReLU()\n",
       "            (2): Linear(in_features=600, out_features=300, bias=True)\n",
       "          )\n",
       "          (edge_embeddings): ModuleList(\n",
       "            (0): Embedding(6, 300)\n",
       "            (1): Embedding(3, 300)\n",
       "          )\n",
       "          (bn): BatchNorm1d(300, eps=1e-05, momentum=0.1, affine=True, track_running_stats=True)\n",
       "        )\n",
       "      )\n",
       "    )\n",
       "    (pooler): AvgPooling()\n",
       "    (projection_head): Linear(in_features=300, out_features=128, bias=True)\n",
       "  )\n",
       "  (criterion): ContrastiveLossWithTemperature()\n",
       "  (image_backbone): ResNet(\n",
       "    (conv1): Conv2d(3, 64, kernel_size=(7, 7), stride=(2, 2), padding=(3, 3), bias=False)\n",
       "    (bn1): BatchNorm2d(64, eps=1e-05, momentum=0.1, affine=True, track_running_stats=True)\n",
       "    (act1): ReLU(inplace=True)\n",
       "    (maxpool): MaxPool2d(kernel_size=3, stride=2, padding=1, dilation=1, ceil_mode=False)\n",
       "    (layer1): Sequential(\n",
       "      (0): BasicBlock(\n",
       "        (conv1): Conv2d(64, 64, kernel_size=(3, 3), stride=(1, 1), padding=(1, 1), bias=False)\n",
       "        (bn1): BatchNorm2d(64, eps=1e-05, momentum=0.1, affine=True, track_running_stats=True)\n",
       "        (drop_block): Identity()\n",
       "        (act1): ReLU(inplace=True)\n",
       "        (aa): Identity()\n",
       "        (conv2): Conv2d(64, 64, kernel_size=(3, 3), stride=(1, 1), padding=(1, 1), bias=False)\n",
       "        (bn2): BatchNorm2d(64, eps=1e-05, momentum=0.1, affine=True, track_running_stats=True)\n",
       "        (act2): ReLU(inplace=True)\n",
       "      )\n",
       "      (1): BasicBlock(\n",
       "        (conv1): Conv2d(64, 64, kernel_size=(3, 3), stride=(1, 1), padding=(1, 1), bias=False)\n",
       "        (bn1): BatchNorm2d(64, eps=1e-05, momentum=0.1, affine=True, track_running_stats=True)\n",
       "        (drop_block): Identity()\n",
       "        (act1): ReLU(inplace=True)\n",
       "        (aa): Identity()\n",
       "        (conv2): Conv2d(64, 64, kernel_size=(3, 3), stride=(1, 1), padding=(1, 1), bias=False)\n",
       "        (bn2): BatchNorm2d(64, eps=1e-05, momentum=0.1, affine=True, track_running_stats=True)\n",
       "        (act2): ReLU(inplace=True)\n",
       "      )\n",
       "    )\n",
       "    (layer2): Sequential(\n",
       "      (0): BasicBlock(\n",
       "        (conv1): Conv2d(64, 128, kernel_size=(3, 3), stride=(2, 2), padding=(1, 1), bias=False)\n",
       "        (bn1): BatchNorm2d(128, eps=1e-05, momentum=0.1, affine=True, track_running_stats=True)\n",
       "        (drop_block): Identity()\n",
       "        (act1): ReLU(inplace=True)\n",
       "        (aa): Identity()\n",
       "        (conv2): Conv2d(128, 128, kernel_size=(3, 3), stride=(1, 1), padding=(1, 1), bias=False)\n",
       "        (bn2): BatchNorm2d(128, eps=1e-05, momentum=0.1, affine=True, track_running_stats=True)\n",
       "        (act2): ReLU(inplace=True)\n",
       "        (downsample): Sequential(\n",
       "          (0): Conv2d(64, 128, kernel_size=(1, 1), stride=(2, 2), bias=False)\n",
       "          (1): BatchNorm2d(128, eps=1e-05, momentum=0.1, affine=True, track_running_stats=True)\n",
       "        )\n",
       "      )\n",
       "      (1): BasicBlock(\n",
       "        (conv1): Conv2d(128, 128, kernel_size=(3, 3), stride=(1, 1), padding=(1, 1), bias=False)\n",
       "        (bn1): BatchNorm2d(128, eps=1e-05, momentum=0.1, affine=True, track_running_stats=True)\n",
       "        (drop_block): Identity()\n",
       "        (act1): ReLU(inplace=True)\n",
       "        (aa): Identity()\n",
       "        (conv2): Conv2d(128, 128, kernel_size=(3, 3), stride=(1, 1), padding=(1, 1), bias=False)\n",
       "        (bn2): BatchNorm2d(128, eps=1e-05, momentum=0.1, affine=True, track_running_stats=True)\n",
       "        (act2): ReLU(inplace=True)\n",
       "      )\n",
       "    )\n",
       "    (layer3): Sequential(\n",
       "      (0): BasicBlock(\n",
       "        (conv1): Conv2d(128, 256, kernel_size=(3, 3), stride=(2, 2), padding=(1, 1), bias=False)\n",
       "        (bn1): BatchNorm2d(256, eps=1e-05, momentum=0.1, affine=True, track_running_stats=True)\n",
       "        (drop_block): Identity()\n",
       "        (act1): ReLU(inplace=True)\n",
       "        (aa): Identity()\n",
       "        (conv2): Conv2d(256, 256, kernel_size=(3, 3), stride=(1, 1), padding=(1, 1), bias=False)\n",
       "        (bn2): BatchNorm2d(256, eps=1e-05, momentum=0.1, affine=True, track_running_stats=True)\n",
       "        (act2): ReLU(inplace=True)\n",
       "        (downsample): Sequential(\n",
       "          (0): Conv2d(128, 256, kernel_size=(1, 1), stride=(2, 2), bias=False)\n",
       "          (1): BatchNorm2d(256, eps=1e-05, momentum=0.1, affine=True, track_running_stats=True)\n",
       "        )\n",
       "      )\n",
       "      (1): BasicBlock(\n",
       "        (conv1): Conv2d(256, 256, kernel_size=(3, 3), stride=(1, 1), padding=(1, 1), bias=False)\n",
       "        (bn1): BatchNorm2d(256, eps=1e-05, momentum=0.1, affine=True, track_running_stats=True)\n",
       "        (drop_block): Identity()\n",
       "        (act1): ReLU(inplace=True)\n",
       "        (aa): Identity()\n",
       "        (conv2): Conv2d(256, 256, kernel_size=(3, 3), stride=(1, 1), padding=(1, 1), bias=False)\n",
       "        (bn2): BatchNorm2d(256, eps=1e-05, momentum=0.1, affine=True, track_running_stats=True)\n",
       "        (act2): ReLU(inplace=True)\n",
       "      )\n",
       "    )\n",
       "    (layer4): Sequential(\n",
       "      (0): BasicBlock(\n",
       "        (conv1): Conv2d(256, 512, kernel_size=(3, 3), stride=(2, 2), padding=(1, 1), bias=False)\n",
       "        (bn1): BatchNorm2d(512, eps=1e-05, momentum=0.1, affine=True, track_running_stats=True)\n",
       "        (drop_block): Identity()\n",
       "        (act1): ReLU(inplace=True)\n",
       "        (aa): Identity()\n",
       "        (conv2): Conv2d(512, 512, kernel_size=(3, 3), stride=(1, 1), padding=(1, 1), bias=False)\n",
       "        (bn2): BatchNorm2d(512, eps=1e-05, momentum=0.1, affine=True, track_running_stats=True)\n",
       "        (act2): ReLU(inplace=True)\n",
       "        (downsample): Sequential(\n",
       "          (0): Conv2d(256, 512, kernel_size=(1, 1), stride=(2, 2), bias=False)\n",
       "          (1): BatchNorm2d(512, eps=1e-05, momentum=0.1, affine=True, track_running_stats=True)\n",
       "        )\n",
       "      )\n",
       "      (1): BasicBlock(\n",
       "        (conv1): Conv2d(512, 512, kernel_size=(3, 3), stride=(1, 1), padding=(1, 1), bias=False)\n",
       "        (bn1): BatchNorm2d(512, eps=1e-05, momentum=0.1, affine=True, track_running_stats=True)\n",
       "        (drop_block): Identity()\n",
       "        (act1): ReLU(inplace=True)\n",
       "        (aa): Identity()\n",
       "        (conv2): Conv2d(512, 512, kernel_size=(3, 3), stride=(1, 1), padding=(1, 1), bias=False)\n",
       "        (bn2): BatchNorm2d(512, eps=1e-05, momentum=0.1, affine=True, track_running_stats=True)\n",
       "        (act2): ReLU(inplace=True)\n",
       "      )\n",
       "    )\n",
       "    (global_pool): SelectAdaptivePool2d (pool_type=avg, flatten=Flatten(start_dim=1, end_dim=-1))\n",
       "    (fc): Identity()\n",
       "  )\n",
       "  (image_head): Linear(in_features=512, out_features=128, bias=True)\n",
       "  (molecule_backbone): GIN(\n",
       "    (dropout): Dropout(p=0.5, inplace=False)\n",
       "    (node_embeddings): ModuleList(\n",
       "      (0): Embedding(120, 300)\n",
       "      (1): Embedding(3, 300)\n",
       "    )\n",
       "    (gnn_layers): ModuleList(\n",
       "      (0-4): 5 x GINLayer(\n",
       "        (mlp): Sequential(\n",
       "          (0): Linear(in_features=300, out_features=600, bias=True)\n",
       "          (1): ReLU()\n",
       "          (2): Linear(in_features=600, out_features=300, bias=True)\n",
       "        )\n",
       "        (edge_embeddings): ModuleList(\n",
       "          (0): Embedding(6, 300)\n",
       "          (1): Embedding(3, 300)\n",
       "        )\n",
       "        (bn): BatchNorm1d(300, eps=1e-05, momentum=0.1, affine=True, track_running_stats=True)\n",
       "      )\n",
       "    )\n",
       "  )\n",
       "  (molecule_head): Linear(in_features=300, out_features=128, bias=True)\n",
       "  (train_loss): MeanMetric()\n",
       "  (val_loss): MeanMetric()\n",
       "  (test_loss): MeanMetric()\n",
       "  (val_loss_min): MinMetric()\n",
       ")"
      ]
     },
     "execution_count": 15,
     "metadata": {},
     "output_type": "execute_result"
    }
   ],
   "source": [
    "model"
   ]
  },
  {
   "cell_type": "code",
   "execution_count": 15,
   "metadata": {},
   "outputs": [
    {
     "name": "stdout",
     "output_type": "stream",
     "text": [
      "Downloading gin_supervised_infomax_pre_trained.pth from https://data.dgl.ai/dgllife/pre_trained/gin_supervised_infomax.pth...\n",
      "Pretrained model loaded\n"
     ]
    }
   ],
   "source": [
    "image_encoder = instantiate(cfg.model.image_encoder)\n",
    "molecule_encoder = instantiate(cfg.model.molecule_encoder)\n",
    "criterion = instantiate(cfg.model.criterion)"
   ]
  },
  {
   "cell_type": "code",
   "execution_count": 26,
   "metadata": {},
   "outputs": [
    {
     "name": "stdout",
     "output_type": "stream",
     "text": [
      "Downloading gin_supervised_infomax_pre_trained.pth from https://data.dgl.ai/dgllife/pre_trained/gin_supervised_infomax.pth...\n",
      "Pretrained model loaded\n"
     ]
    }
   ],
   "source": [
    "model = instantiate(cfg.model)"
   ]
  },
  {
   "cell_type": "code",
   "execution_count": 32,
   "metadata": {},
   "outputs": [
    {
     "name": "stderr",
     "output_type": "stream",
     "text": [
      "/home/gwatk/miniconda3/envs/jump_models/lib/python3.10/site-packages/lightning/pytorch/utilities/parsing.py:197: UserWarning: Attribute 'image_encoder' is an instance of `nn.Module` and is already saved during checkpointing. It is recommended to ignore them using `self.save_hyperparameters(ignore=['image_encoder'])`.\n",
      "  rank_zero_warn(\n",
      "/home/gwatk/miniconda3/envs/jump_models/lib/python3.10/site-packages/lightning/pytorch/utilities/parsing.py:197: UserWarning: Attribute 'molecule_encoder' is an instance of `nn.Module` and is already saved during checkpointing. It is recommended to ignore them using `self.save_hyperparameters(ignore=['molecule_encoder'])`.\n",
      "  rank_zero_warn(\n",
      "/home/gwatk/miniconda3/envs/jump_models/lib/python3.10/site-packages/lightning/pytorch/utilities/parsing.py:197: UserWarning: Attribute 'criterion' is an instance of `nn.Module` and is already saved during checkpointing. It is recommended to ignore them using `self.save_hyperparameters(ignore=['criterion'])`.\n",
      "  rank_zero_warn(\n"
     ]
    }
   ],
   "source": [
    "model = model.load_from_checkpoint(\n",
    "    ckpt,\n",
    "    image_encoder=image_encoder,\n",
    "    molecule_encoder=molecule_encoder,\n",
    "    criterion=criterion,\n",
    "    example_input_path=None,\n",
    ")"
   ]
  },
  {
   "cell_type": "code",
   "execution_count": 37,
   "metadata": {},
   "outputs": [],
   "source": []
  },
  {
   "cell_type": "code",
   "execution_count": 46,
   "metadata": {},
   "outputs": [],
   "source": []
  },
  {
   "cell_type": "code",
   "execution_count": 48,
   "metadata": {},
   "outputs": [
    {
     "name": "stdout",
     "output_type": "stream",
     "text": [
      "Downloading gin_supervised_infomax_pre_trained.pth from https://data.dgl.ai/dgllife/pre_trained/gin_supervised_infomax.pth...\n",
      "Pretrained model loaded\n"
     ]
    },
    {
     "name": "stderr",
     "output_type": "stream",
     "text": [
      "/home/gwatk/miniconda3/envs/jump_models/lib/python3.10/site-packages/lightning/pytorch/utilities/parsing.py:197: UserWarning: Attribute 'image_encoder' is an instance of `nn.Module` and is already saved during checkpointing. It is recommended to ignore them using `self.save_hyperparameters(ignore=['image_encoder'])`.\n",
      "  rank_zero_warn(\n",
      "/home/gwatk/miniconda3/envs/jump_models/lib/python3.10/site-packages/lightning/pytorch/utilities/parsing.py:197: UserWarning: Attribute 'molecule_encoder' is an instance of `nn.Module` and is already saved during checkpointing. It is recommended to ignore them using `self.save_hyperparameters(ignore=['molecule_encoder'])`.\n",
      "  rank_zero_warn(\n",
      "/home/gwatk/miniconda3/envs/jump_models/lib/python3.10/site-packages/lightning/pytorch/utilities/parsing.py:197: UserWarning: Attribute 'criterion' is an instance of `nn.Module` and is already saved during checkpointing. It is recommended to ignore them using `self.save_hyperparameters(ignore=['criterion'])`.\n",
      "  rank_zero_warn(\n"
     ]
    }
   ],
   "source": [
    "model = instantiate(cfg.model)"
   ]
  },
  {
   "cell_type": "code",
   "execution_count": 16,
   "metadata": {},
   "outputs": [],
   "source": [
    "model = BasicJUMPModule.load_from_checkpoint(\n",
    "    ckpt,\n",
    "    image_encoder=image_encoder,\n",
    "    molecule_encoder=molecule_encoder,\n",
    "    criterion=criterion,\n",
    "    example_input_path=None,\n",
    "    map_location=torch.device(\"cpu\"),\n",
    ")"
   ]
  },
  {
   "cell_type": "code",
   "execution_count": 18,
   "metadata": {},
   "outputs": [
    {
     "name": "stderr",
     "output_type": "stream",
     "text": [
      "Failed to detect the name of this notebook, you can set it manually with the WANDB_NOTEBOOK_NAME environment variable to enable code saving.\n",
      "\u001b[34m\u001b[1mwandb\u001b[0m: Currently logged in as: \u001b[33mgabriel-watkinson-work\u001b[0m. Use \u001b[1m`wandb login --relogin`\u001b[0m to force relogin\n"
     ]
    },
    {
     "data": {
      "text/html": [
       "Tracking run with wandb version 0.15.8"
      ],
      "text/plain": [
       "<IPython.core.display.HTML object>"
      ]
     },
     "metadata": {},
     "output_type": "display_data"
    },
    {
     "data": {
      "text/html": [
       "Run data is saved locally in <code>./wandb/run-20230816_141849-126zxfmt</code>"
      ],
      "text/plain": [
       "<IPython.core.display.HTML object>"
      ]
     },
     "metadata": {},
     "output_type": "display_data"
    },
    {
     "data": {
      "text/html": [
       "Syncing run <strong><a href='https://wandb.ai/gabriel-watkinson-work/evaluation_list/runs/126zxfmt' target=\"_blank\">evaluation_small_test1</a></strong> to <a href='https://wandb.ai/gabriel-watkinson-work/evaluation_list' target=\"_blank\">Weights & Biases</a> (<a href='https://wandb.me/run' target=\"_blank\">docs</a>)<br/>"
      ],
      "text/plain": [
       "<IPython.core.display.HTML object>"
      ]
     },
     "metadata": {},
     "output_type": "display_data"
    },
    {
     "data": {
      "text/html": [
       " View project at <a href='https://wandb.ai/gabriel-watkinson-work/evaluation_list' target=\"_blank\">https://wandb.ai/gabriel-watkinson-work/evaluation_list</a>"
      ],
      "text/plain": [
       "<IPython.core.display.HTML object>"
      ]
     },
     "metadata": {},
     "output_type": "display_data"
    },
    {
     "data": {
      "text/html": [
       " View run at <a href='https://wandb.ai/gabriel-watkinson-work/evaluation_list/runs/126zxfmt' target=\"_blank\">https://wandb.ai/gabriel-watkinson-work/evaluation_list/runs/126zxfmt</a>"
      ],
      "text/plain": [
       "<IPython.core.display.HTML object>"
      ]
     },
     "metadata": {},
     "output_type": "display_data"
    }
   ],
   "source": [
    "logger = WandbLogger(project=\"evaluation_list\")"
   ]
  },
  {
   "cell_type": "code",
   "execution_count": 19,
   "metadata": {},
   "outputs": [
    {
     "name": "stderr",
     "output_type": "stream",
     "text": [
      "/home/gwatk/miniconda3/envs/jump_models/lib/python3.10/site-packages/torchvision/datapoints/__init__.py:12: UserWarning: The torchvision.datapoints and torchvision.transforms.v2 namespaces are still Beta. While we do not expect major breaking changes, some APIs may still change according to user feedback. Please submit any feedback you may have in this issue: https://github.com/pytorch/vision/issues/6753, and you can also check out https://github.com/pytorch/vision/issues/7319 to learn more about the APIs that we suspect might involve future changes. You can silence this warning by calling torchvision.disable_beta_transforms_warning().\n",
      "  warnings.warn(_BETA_TRANSFORMS_WARNING)\n",
      "/home/gwatk/miniconda3/envs/jump_models/lib/python3.10/site-packages/torchvision/transforms/v2/__init__.py:54: UserWarning: The torchvision.datapoints and torchvision.transforms.v2 namespaces are still Beta. While we do not expect major breaking changes, some APIs may still change according to user feedback. Please submit any feedback you may have in this issue: https://github.com/pytorch/vision/issues/6753, and you can also check out https://github.com/pytorch/vision/issues/7319 to learn more about the APIs that we suspect might involve future changes. You can silence this warning by calling torchvision.disable_beta_transforms_warning().\n",
      "  warnings.warn(_BETA_TRANSFORMS_WARNING)\n",
      "GPU available: True (cuda), used: True\n",
      "TPU available: False, using: 0 TPU cores\n",
      "IPU available: False, using: 0 IPUs\n",
      "HPU available: False, using: 0 HPUs\n",
      "GPU available: True (cuda), used: True\n",
      "TPU available: False, using: 0 TPU cores\n",
      "IPU available: False, using: 0 IPUs\n",
      "HPU available: False, using: 0 HPUs\n",
      "GPU available: True (cuda), used: True\n",
      "TPU available: False, using: 0 TPU cores\n",
      "IPU available: False, using: 0 IPUs\n",
      "HPU available: False, using: 0 HPUs\n",
      "GPU available: True (cuda), used: True\n",
      "TPU available: False, using: 0 TPU cores\n",
      "IPU available: False, using: 0 IPUs\n",
      "HPU available: False, using: 0 HPUs\n",
      "GPU available: True (cuda), used: True\n",
      "TPU available: False, using: 0 TPU cores\n",
      "IPU available: False, using: 0 IPUs\n",
      "HPU available: False, using: 0 HPUs\n",
      "GPU available: True (cuda), used: True\n",
      "TPU available: False, using: 0 TPU cores\n",
      "IPU available: False, using: 0 IPUs\n",
      "HPU available: False, using: 0 HPUs\n",
      "No callback configs found! Skipping..\n",
      "GPU available: True (cuda), used: True\n",
      "TPU available: False, using: 0 TPU cores\n",
      "IPU available: False, using: 0 IPUs\n",
      "HPU available: False, using: 0 HPUs\n"
     ]
    }
   ],
   "source": [
    "evaluator_list = instantiate_evaluator_list(cfg.eval, cross_modal_module=model, logger=logger)"
   ]
  },
  {
   "cell_type": "code",
   "execution_count": 20,
   "metadata": {},
   "outputs": [
    {
     "data": {
      "text/plain": [
       "'../cpjump1/jump/models/eval/moa/image_task/moa_1024.csv'"
      ]
     },
     "execution_count": 20,
     "metadata": {},
     "output_type": "execute_result"
    }
   ],
   "source": [
    "evaluator_list[0].datamodule.moa_load_df_path"
   ]
  },
  {
   "cell_type": "code",
   "execution_count": 21,
   "metadata": {},
   "outputs": [],
   "source": [
    "evaluator_list[0].datamodule.prepare_data()"
   ]
  },
  {
   "cell_type": "code",
   "execution_count": 23,
   "metadata": {},
   "outputs": [],
   "source": [
    "evaluator_list[0].datamodule.setup(\"train\")"
   ]
  },
  {
   "cell_type": "code",
   "execution_count": 24,
   "metadata": {},
   "outputs": [
    {
     "data": {
      "text/html": [
       "<div>\n",
       "<style scoped>\n",
       "    .dataframe tbody tr th:only-of-type {\n",
       "        vertical-align: middle;\n",
       "    }\n",
       "\n",
       "    .dataframe tbody tr th {\n",
       "        vertical-align: top;\n",
       "    }\n",
       "\n",
       "    .dataframe thead th {\n",
       "        text-align: right;\n",
       "    }\n",
       "</style>\n",
       "<table border=\"1\" class=\"dataframe\">\n",
       "  <thead>\n",
       "    <tr style=\"text-align: right;\">\n",
       "      <th></th>\n",
       "      <th>Metadata_Source</th>\n",
       "      <th>Metadata_Batch</th>\n",
       "      <th>Metadata_Plate</th>\n",
       "      <th>Metadata_Well</th>\n",
       "      <th>Metadata_Site</th>\n",
       "      <th>FileName_OrigAGP</th>\n",
       "      <th>FileName_OrigDNA</th>\n",
       "      <th>FileName_OrigER</th>\n",
       "      <th>FileName_OrigMito</th>\n",
       "      <th>FileName_OrigRNA</th>\n",
       "      <th>InChIKey</th>\n",
       "      <th>moa</th>\n",
       "      <th>pert_type</th>\n",
       "      <th>smiles</th>\n",
       "      <th>Metadata_PlateType</th>\n",
       "      <th>Metadata_JCP2022</th>\n",
       "      <th>Metadata_InChIKey</th>\n",
       "      <th>Metadata_InChI</th>\n",
       "      <th>Metadata_Sites_Per_Well</th>\n",
       "      <th>trt</th>\n",
       "    </tr>\n",
       "  </thead>\n",
       "  <tbody>\n",
       "    <tr>\n",
       "      <th>0</th>\n",
       "      <td>source_8</td>\n",
       "      <td>J3</td>\n",
       "      <td>A1170541</td>\n",
       "      <td>J17</td>\n",
       "      <td>1</td>\n",
       "      <td>../cpjump2/jump/images/source_8/J3/A1170541/so...</td>\n",
       "      <td>../cpjump2/jump/images/source_8/J3/A1170541/so...</td>\n",
       "      <td>../cpjump2/jump/images/source_8/J3/A1170541/so...</td>\n",
       "      <td>../cpjump2/jump/images/source_8/J3/A1170541/so...</td>\n",
       "      <td>../cpjump2/jump/images/source_8/J3/A1170541/so...</td>\n",
       "      <td>SDGJBAUIGHSMRI-UHFFFAOYSA-N</td>\n",
       "      <td>AMPK inhibitor</td>\n",
       "      <td>trt</td>\n",
       "      <td>CCC(=O)Nc1cccc(Oc2nc(Nc3ccc(cc3OC)N3CCN(C)CC3)...</td>\n",
       "      <td>COMPOUND</td>\n",
       "      <td>JCP2022_082441</td>\n",
       "      <td>SDGJBAUIGHSMRI-UHFFFAOYSA-N</td>\n",
       "      <td>InChI=1S/C25H29ClN6O3/c1-4-23(33)28-17-6-5-7-1...</td>\n",
       "      <td>9</td>\n",
       "      <td>compound_trt</td>\n",
       "    </tr>\n",
       "    <tr>\n",
       "      <th>412</th>\n",
       "      <td>source_10</td>\n",
       "      <td>2021_06_01_U2OS_48_hr_run2</td>\n",
       "      <td>Dest210601-154302</td>\n",
       "      <td>B01</td>\n",
       "      <td>3</td>\n",
       "      <td>../cpjump3/jump/images/source_10/2021_06_01_U2...</td>\n",
       "      <td>../cpjump3/jump/images/source_10/2021_06_01_U2...</td>\n",
       "      <td>../cpjump3/jump/images/source_10/2021_06_01_U2...</td>\n",
       "      <td>../cpjump3/jump/images/source_10/2021_06_01_U2...</td>\n",
       "      <td>../cpjump3/jump/images/source_10/2021_06_01_U2...</td>\n",
       "      <td>IVUGFMLRJOCGAS-UHFFFAOYSA-N</td>\n",
       "      <td>Aurora kinase inhibitor</td>\n",
       "      <td>trt</td>\n",
       "      <td>Cc1csc(c1)-c1nnc(Nc2ccc(Oc3ncccc3-c3ccnc(N)n3)...</td>\n",
       "      <td>COMPOUND</td>\n",
       "      <td>JCP2022_037716</td>\n",
       "      <td>IVUGFMLRJOCGAS-UHFFFAOYSA-N</td>\n",
       "      <td>InChI=1S/C28H21N7OS/c1-17-15-24(37-16-17)25-20...</td>\n",
       "      <td>6</td>\n",
       "      <td>compound_pos</td>\n",
       "    </tr>\n",
       "    <tr>\n",
       "      <th>6655</th>\n",
       "      <td>source_5</td>\n",
       "      <td>JUMPCPE-20210812-Run20_20210815_062625</td>\n",
       "      <td>ACPJUM102</td>\n",
       "      <td>I11</td>\n",
       "      <td>9</td>\n",
       "      <td>../cpjump2/jump/images/source_5/JUMPCPE-202108...</td>\n",
       "      <td>../cpjump2/jump/images/source_5/JUMPCPE-202108...</td>\n",
       "      <td>../cpjump2/jump/images/source_5/JUMPCPE-202108...</td>\n",
       "      <td>../cpjump2/jump/images/source_5/JUMPCPE-202108...</td>\n",
       "      <td>../cpjump2/jump/images/source_5/JUMPCPE-202108...</td>\n",
       "      <td>NBHPRWLFLUBAIE-UHFFFAOYSA-N</td>\n",
       "      <td>phospholipase inhibitor</td>\n",
       "      <td>trt</td>\n",
       "      <td>Oc1nc2cc(Cl)ccc2n1C1CCN(CCNC(=O)c2ccc(F)cc2)CC1</td>\n",
       "      <td>TARGET2</td>\n",
       "      <td>JCP2022_057881</td>\n",
       "      <td>NBHPRWLFLUBAIE-UHFFFAOYSA-N</td>\n",
       "      <td>InChI=1S/C21H22ClFN4O2/c22-15-3-6-19-18(13-15)...</td>\n",
       "      <td>9</td>\n",
       "      <td>target_trt</td>\n",
       "    </tr>\n",
       "    <tr>\n",
       "      <th>6448</th>\n",
       "      <td>source_3</td>\n",
       "      <td>CP_33_all_Phenix1</td>\n",
       "      <td>JCPQC032</td>\n",
       "      <td>D12</td>\n",
       "      <td>3</td>\n",
       "      <td>../cpjump2/jump/images/source_3/CP_33_all_Phen...</td>\n",
       "      <td>../cpjump2/jump/images/source_3/CP_33_all_Phen...</td>\n",
       "      <td>../cpjump2/jump/images/source_3/CP_33_all_Phen...</td>\n",
       "      <td>../cpjump2/jump/images/source_3/CP_33_all_Phen...</td>\n",
       "      <td>../cpjump2/jump/images/source_3/CP_33_all_Phen...</td>\n",
       "      <td>BCZUAADEACICHN-UHFFFAOYSA-N</td>\n",
       "      <td>hepatocyte growth factor receptor inhibitor</td>\n",
       "      <td>trt</td>\n",
       "      <td>Cn1cc(cn1)-c1ccc2nnc(Sc3ccc4ncccc4c3)n2n1</td>\n",
       "      <td>TARGET2</td>\n",
       "      <td>JCP2022_005529</td>\n",
       "      <td>BCZUAADEACICHN-UHFFFAOYSA-N</td>\n",
       "      <td>InChI=1S/C18H13N7S/c1-24-11-13(10-20-24)16-6-7...</td>\n",
       "      <td>9</td>\n",
       "      <td>target_trt</td>\n",
       "    </tr>\n",
       "    <tr>\n",
       "      <th>7073</th>\n",
       "      <td>source_4</td>\n",
       "      <td>2021_07_26_Batch9</td>\n",
       "      <td>BR00121427</td>\n",
       "      <td>I11</td>\n",
       "      <td>6</td>\n",
       "      <td>../cpjump1/jump/images/source_4/2021_07_26_Bat...</td>\n",
       "      <td>../cpjump1/jump/images/source_4/2021_07_26_Bat...</td>\n",
       "      <td>../cpjump1/jump/images/source_4/2021_07_26_Bat...</td>\n",
       "      <td>../cpjump1/jump/images/source_4/2021_07_26_Bat...</td>\n",
       "      <td>../cpjump1/jump/images/source_4/2021_07_26_Bat...</td>\n",
       "      <td>NBHPRWLFLUBAIE-UHFFFAOYSA-N</td>\n",
       "      <td>phospholipase inhibitor</td>\n",
       "      <td>trt</td>\n",
       "      <td>Oc1nc2cc(Cl)ccc2n1C1CCN(CCNC(=O)c2ccc(F)cc2)CC1</td>\n",
       "      <td>TARGET2</td>\n",
       "      <td>JCP2022_057881</td>\n",
       "      <td>NBHPRWLFLUBAIE-UHFFFAOYSA-N</td>\n",
       "      <td>InChI=1S/C21H22ClFN4O2/c22-15-3-6-19-18(13-15)...</td>\n",
       "      <td>9</td>\n",
       "      <td>target_trt</td>\n",
       "    </tr>\n",
       "    <tr>\n",
       "      <th>...</th>\n",
       "      <td>...</td>\n",
       "      <td>...</td>\n",
       "      <td>...</td>\n",
       "      <td>...</td>\n",
       "      <td>...</td>\n",
       "      <td>...</td>\n",
       "      <td>...</td>\n",
       "      <td>...</td>\n",
       "      <td>...</td>\n",
       "      <td>...</td>\n",
       "      <td>...</td>\n",
       "      <td>...</td>\n",
       "      <td>...</td>\n",
       "      <td>...</td>\n",
       "      <td>...</td>\n",
       "      <td>...</td>\n",
       "      <td>...</td>\n",
       "      <td>...</td>\n",
       "      <td>...</td>\n",
       "      <td>...</td>\n",
       "    </tr>\n",
       "    <tr>\n",
       "      <th>5289</th>\n",
       "      <td>source_6</td>\n",
       "      <td>p210831CPU2OS48hw384exp024JUMP</td>\n",
       "      <td>110000294901</td>\n",
       "      <td>C06</td>\n",
       "      <td>1</td>\n",
       "      <td>../cpjump3/jump/images/source_6/p210831CPU2OS4...</td>\n",
       "      <td>../cpjump3/jump/images/source_6/p210831CPU2OS4...</td>\n",
       "      <td>../cpjump3/jump/images/source_6/p210831CPU2OS4...</td>\n",
       "      <td>../cpjump3/jump/images/source_6/p210831CPU2OS4...</td>\n",
       "      <td>../cpjump3/jump/images/source_6/p210831CPU2OS4...</td>\n",
       "      <td>TXZPMHLMPKIUGK-UHFFFAOYSA-N</td>\n",
       "      <td>bromodomain inhibitor</td>\n",
       "      <td>trt</td>\n",
       "      <td>COc1ccccc1S(=O)(=O)Nc1ccc2NC(=O)N(C)Cc2c1</td>\n",
       "      <td>TARGET2</td>\n",
       "      <td>JCP2022_087474</td>\n",
       "      <td>TXZPMHLMPKIUGK-UHFFFAOYSA-N</td>\n",
       "      <td>InChI=1S/C16H17N3O4S/c1-19-10-11-9-12(7-8-13(1...</td>\n",
       "      <td>9</td>\n",
       "      <td>target_trt</td>\n",
       "    </tr>\n",
       "    <tr>\n",
       "      <th>1114</th>\n",
       "      <td>source_5</td>\n",
       "      <td>JUMPCPE-20210730-Run15_20210801_205335</td>\n",
       "      <td>ACPJUM081</td>\n",
       "      <td>J01</td>\n",
       "      <td>1</td>\n",
       "      <td>../cpjump2/jump/images/source_5/JUMPCPE-202107...</td>\n",
       "      <td>../cpjump2/jump/images/source_5/JUMPCPE-202107...</td>\n",
       "      <td>../cpjump2/jump/images/source_5/JUMPCPE-202107...</td>\n",
       "      <td>../cpjump2/jump/images/source_5/JUMPCPE-202107...</td>\n",
       "      <td>../cpjump2/jump/images/source_5/JUMPCPE-202107...</td>\n",
       "      <td>IIQUYGWWHIHOCF-UHFFFAOYSA-N</td>\n",
       "      <td>Bcr-Abl kinase inhibitor</td>\n",
       "      <td>trt</td>\n",
       "      <td>OCCNC(=O)c1cccc(c1)-c1ncnc(Nc2ccc(cc2)OC(F)(F)...</td>\n",
       "      <td>TARGET2</td>\n",
       "      <td>JCP2022_035296</td>\n",
       "      <td>IIQUYGWWHIHOCF-UHFFFAOYSA-N</td>\n",
       "      <td>InChI=1S/C20H17F3N4O3/c21-20(22,23)30-16-6-4-1...</td>\n",
       "      <td>9</td>\n",
       "      <td>target_trt</td>\n",
       "    </tr>\n",
       "    <tr>\n",
       "      <th>3392</th>\n",
       "      <td>source_4</td>\n",
       "      <td>2021_06_07_Batch5</td>\n",
       "      <td>BR00121430</td>\n",
       "      <td>N12</td>\n",
       "      <td>7</td>\n",
       "      <td>../cpjump1/jump/images/source_4/2021_06_07_Bat...</td>\n",
       "      <td>../cpjump1/jump/images/source_4/2021_06_07_Bat...</td>\n",
       "      <td>../cpjump1/jump/images/source_4/2021_06_07_Bat...</td>\n",
       "      <td>../cpjump1/jump/images/source_4/2021_06_07_Bat...</td>\n",
       "      <td>../cpjump1/jump/images/source_4/2021_06_07_Bat...</td>\n",
       "      <td>RIJLVEAXPNLDTC-UHFFFAOYSA-N</td>\n",
       "      <td>JAK inhibitor</td>\n",
       "      <td>trt</td>\n",
       "      <td>O=C(Nc1nc2cccc(-c3ccc(CN4CCS(=O)(=O)CC4)cc3)n2...</td>\n",
       "      <td>TARGET2</td>\n",
       "      <td>JCP2022_078581</td>\n",
       "      <td>RIJLVEAXPNLDTC-UHFFFAOYSA-N</td>\n",
       "      <td>InChI=1S/C21H23N5O3S/c27-20(17-8-9-17)23-21-22...</td>\n",
       "      <td>9</td>\n",
       "      <td>target_trt</td>\n",
       "    </tr>\n",
       "    <tr>\n",
       "      <th>2181</th>\n",
       "      <td>source_6</td>\n",
       "      <td>p210830CPU2OS48hw384exp023JUMP</td>\n",
       "      <td>110000293093</td>\n",
       "      <td>J09</td>\n",
       "      <td>7</td>\n",
       "      <td>../cpjump3/jump/images/source_6/p210830CPU2OS4...</td>\n",
       "      <td>../cpjump3/jump/images/source_6/p210830CPU2OS4...</td>\n",
       "      <td>../cpjump3/jump/images/source_6/p210830CPU2OS4...</td>\n",
       "      <td>../cpjump3/jump/images/source_6/p210830CPU2OS4...</td>\n",
       "      <td>../cpjump3/jump/images/source_6/p210830CPU2OS4...</td>\n",
       "      <td>ZYVXTMKTGDARKR-UHFFFAOYSA-N</td>\n",
       "      <td>DYRK inhibitor</td>\n",
       "      <td>trt</td>\n",
       "      <td>COc1cc(ccc1Nc1nccc(n1)-c1cn(C)c2cnccc12)N1CCN(...</td>\n",
       "      <td>TARGET2</td>\n",
       "      <td>JCP2022_116560</td>\n",
       "      <td>ZYVXTMKTGDARKR-UHFFFAOYSA-N</td>\n",
       "      <td>InChI=1S/C24H27N7O/c1-29-10-12-31(13-11-29)17-...</td>\n",
       "      <td>9</td>\n",
       "      <td>target_trt</td>\n",
       "    </tr>\n",
       "    <tr>\n",
       "      <th>566</th>\n",
       "      <td>source_11</td>\n",
       "      <td>Batch2</td>\n",
       "      <td>EC000067</td>\n",
       "      <td>F24</td>\n",
       "      <td>2</td>\n",
       "      <td>../cpjump2/jump/images/source_11/Batch2/EC0000...</td>\n",
       "      <td>../cpjump2/jump/images/source_11/Batch2/EC0000...</td>\n",
       "      <td>../cpjump2/jump/images/source_11/Batch2/EC0000...</td>\n",
       "      <td>../cpjump2/jump/images/source_11/Batch2/EC0000...</td>\n",
       "      <td>../cpjump2/jump/images/source_11/Batch2/EC0000...</td>\n",
       "      <td>IVUGFMLRJOCGAS-UHFFFAOYSA-N</td>\n",
       "      <td>Aurora kinase inhibitor</td>\n",
       "      <td>trt</td>\n",
       "      <td>Cc1csc(c1)-c1nnc(Nc2ccc(Oc3ncccc3-c3ccnc(N)n3)...</td>\n",
       "      <td>COMPOUND</td>\n",
       "      <td>JCP2022_037716</td>\n",
       "      <td>IVUGFMLRJOCGAS-UHFFFAOYSA-N</td>\n",
       "      <td>InChI=1S/C28H21N7OS/c1-17-15-24(37-16-17)25-20...</td>\n",
       "      <td>9</td>\n",
       "      <td>compound_pos</td>\n",
       "    </tr>\n",
       "  </tbody>\n",
       "</table>\n",
       "<p>6338 rows × 20 columns</p>\n",
       "</div>"
      ],
      "text/plain": [
       "     Metadata_Source                          Metadata_Batch  \\\n",
       "0           source_8                                      J3   \n",
       "412        source_10              2021_06_01_U2OS_48_hr_run2   \n",
       "6655        source_5  JUMPCPE-20210812-Run20_20210815_062625   \n",
       "6448        source_3                       CP_33_all_Phenix1   \n",
       "7073        source_4                       2021_07_26_Batch9   \n",
       "...              ...                                     ...   \n",
       "5289        source_6          p210831CPU2OS48hw384exp024JUMP   \n",
       "1114        source_5  JUMPCPE-20210730-Run15_20210801_205335   \n",
       "3392        source_4                       2021_06_07_Batch5   \n",
       "2181        source_6          p210830CPU2OS48hw384exp023JUMP   \n",
       "566        source_11                                  Batch2   \n",
       "\n",
       "         Metadata_Plate Metadata_Well  Metadata_Site  \\\n",
       "0              A1170541           J17              1   \n",
       "412   Dest210601-154302           B01              3   \n",
       "6655          ACPJUM102           I11              9   \n",
       "6448           JCPQC032           D12              3   \n",
       "7073         BR00121427           I11              6   \n",
       "...                 ...           ...            ...   \n",
       "5289       110000294901           C06              1   \n",
       "1114          ACPJUM081           J01              1   \n",
       "3392         BR00121430           N12              7   \n",
       "2181       110000293093           J09              7   \n",
       "566            EC000067           F24              2   \n",
       "\n",
       "                                       FileName_OrigAGP  \\\n",
       "0     ../cpjump2/jump/images/source_8/J3/A1170541/so...   \n",
       "412   ../cpjump3/jump/images/source_10/2021_06_01_U2...   \n",
       "6655  ../cpjump2/jump/images/source_5/JUMPCPE-202108...   \n",
       "6448  ../cpjump2/jump/images/source_3/CP_33_all_Phen...   \n",
       "7073  ../cpjump1/jump/images/source_4/2021_07_26_Bat...   \n",
       "...                                                 ...   \n",
       "5289  ../cpjump3/jump/images/source_6/p210831CPU2OS4...   \n",
       "1114  ../cpjump2/jump/images/source_5/JUMPCPE-202107...   \n",
       "3392  ../cpjump1/jump/images/source_4/2021_06_07_Bat...   \n",
       "2181  ../cpjump3/jump/images/source_6/p210830CPU2OS4...   \n",
       "566   ../cpjump2/jump/images/source_11/Batch2/EC0000...   \n",
       "\n",
       "                                       FileName_OrigDNA  \\\n",
       "0     ../cpjump2/jump/images/source_8/J3/A1170541/so...   \n",
       "412   ../cpjump3/jump/images/source_10/2021_06_01_U2...   \n",
       "6655  ../cpjump2/jump/images/source_5/JUMPCPE-202108...   \n",
       "6448  ../cpjump2/jump/images/source_3/CP_33_all_Phen...   \n",
       "7073  ../cpjump1/jump/images/source_4/2021_07_26_Bat...   \n",
       "...                                                 ...   \n",
       "5289  ../cpjump3/jump/images/source_6/p210831CPU2OS4...   \n",
       "1114  ../cpjump2/jump/images/source_5/JUMPCPE-202107...   \n",
       "3392  ../cpjump1/jump/images/source_4/2021_06_07_Bat...   \n",
       "2181  ../cpjump3/jump/images/source_6/p210830CPU2OS4...   \n",
       "566   ../cpjump2/jump/images/source_11/Batch2/EC0000...   \n",
       "\n",
       "                                        FileName_OrigER  \\\n",
       "0     ../cpjump2/jump/images/source_8/J3/A1170541/so...   \n",
       "412   ../cpjump3/jump/images/source_10/2021_06_01_U2...   \n",
       "6655  ../cpjump2/jump/images/source_5/JUMPCPE-202108...   \n",
       "6448  ../cpjump2/jump/images/source_3/CP_33_all_Phen...   \n",
       "7073  ../cpjump1/jump/images/source_4/2021_07_26_Bat...   \n",
       "...                                                 ...   \n",
       "5289  ../cpjump3/jump/images/source_6/p210831CPU2OS4...   \n",
       "1114  ../cpjump2/jump/images/source_5/JUMPCPE-202107...   \n",
       "3392  ../cpjump1/jump/images/source_4/2021_06_07_Bat...   \n",
       "2181  ../cpjump3/jump/images/source_6/p210830CPU2OS4...   \n",
       "566   ../cpjump2/jump/images/source_11/Batch2/EC0000...   \n",
       "\n",
       "                                      FileName_OrigMito  \\\n",
       "0     ../cpjump2/jump/images/source_8/J3/A1170541/so...   \n",
       "412   ../cpjump3/jump/images/source_10/2021_06_01_U2...   \n",
       "6655  ../cpjump2/jump/images/source_5/JUMPCPE-202108...   \n",
       "6448  ../cpjump2/jump/images/source_3/CP_33_all_Phen...   \n",
       "7073  ../cpjump1/jump/images/source_4/2021_07_26_Bat...   \n",
       "...                                                 ...   \n",
       "5289  ../cpjump3/jump/images/source_6/p210831CPU2OS4...   \n",
       "1114  ../cpjump2/jump/images/source_5/JUMPCPE-202107...   \n",
       "3392  ../cpjump1/jump/images/source_4/2021_06_07_Bat...   \n",
       "2181  ../cpjump3/jump/images/source_6/p210830CPU2OS4...   \n",
       "566   ../cpjump2/jump/images/source_11/Batch2/EC0000...   \n",
       "\n",
       "                                       FileName_OrigRNA  \\\n",
       "0     ../cpjump2/jump/images/source_8/J3/A1170541/so...   \n",
       "412   ../cpjump3/jump/images/source_10/2021_06_01_U2...   \n",
       "6655  ../cpjump2/jump/images/source_5/JUMPCPE-202108...   \n",
       "6448  ../cpjump2/jump/images/source_3/CP_33_all_Phen...   \n",
       "7073  ../cpjump1/jump/images/source_4/2021_07_26_Bat...   \n",
       "...                                                 ...   \n",
       "5289  ../cpjump3/jump/images/source_6/p210831CPU2OS4...   \n",
       "1114  ../cpjump2/jump/images/source_5/JUMPCPE-202107...   \n",
       "3392  ../cpjump1/jump/images/source_4/2021_06_07_Bat...   \n",
       "2181  ../cpjump3/jump/images/source_6/p210830CPU2OS4...   \n",
       "566   ../cpjump2/jump/images/source_11/Batch2/EC0000...   \n",
       "\n",
       "                         InChIKey  \\\n",
       "0     SDGJBAUIGHSMRI-UHFFFAOYSA-N   \n",
       "412   IVUGFMLRJOCGAS-UHFFFAOYSA-N   \n",
       "6655  NBHPRWLFLUBAIE-UHFFFAOYSA-N   \n",
       "6448  BCZUAADEACICHN-UHFFFAOYSA-N   \n",
       "7073  NBHPRWLFLUBAIE-UHFFFAOYSA-N   \n",
       "...                           ...   \n",
       "5289  TXZPMHLMPKIUGK-UHFFFAOYSA-N   \n",
       "1114  IIQUYGWWHIHOCF-UHFFFAOYSA-N   \n",
       "3392  RIJLVEAXPNLDTC-UHFFFAOYSA-N   \n",
       "2181  ZYVXTMKTGDARKR-UHFFFAOYSA-N   \n",
       "566   IVUGFMLRJOCGAS-UHFFFAOYSA-N   \n",
       "\n",
       "                                              moa pert_type  \\\n",
       "0                                  AMPK inhibitor       trt   \n",
       "412                       Aurora kinase inhibitor       trt   \n",
       "6655                      phospholipase inhibitor       trt   \n",
       "6448  hepatocyte growth factor receptor inhibitor       trt   \n",
       "7073                      phospholipase inhibitor       trt   \n",
       "...                                           ...       ...   \n",
       "5289                        bromodomain inhibitor       trt   \n",
       "1114                     Bcr-Abl kinase inhibitor       trt   \n",
       "3392                                JAK inhibitor       trt   \n",
       "2181                               DYRK inhibitor       trt   \n",
       "566                       Aurora kinase inhibitor       trt   \n",
       "\n",
       "                                                 smiles Metadata_PlateType  \\\n",
       "0     CCC(=O)Nc1cccc(Oc2nc(Nc3ccc(cc3OC)N3CCN(C)CC3)...           COMPOUND   \n",
       "412   Cc1csc(c1)-c1nnc(Nc2ccc(Oc3ncccc3-c3ccnc(N)n3)...           COMPOUND   \n",
       "6655    Oc1nc2cc(Cl)ccc2n1C1CCN(CCNC(=O)c2ccc(F)cc2)CC1            TARGET2   \n",
       "6448          Cn1cc(cn1)-c1ccc2nnc(Sc3ccc4ncccc4c3)n2n1            TARGET2   \n",
       "7073    Oc1nc2cc(Cl)ccc2n1C1CCN(CCNC(=O)c2ccc(F)cc2)CC1            TARGET2   \n",
       "...                                                 ...                ...   \n",
       "5289          COc1ccccc1S(=O)(=O)Nc1ccc2NC(=O)N(C)Cc2c1            TARGET2   \n",
       "1114  OCCNC(=O)c1cccc(c1)-c1ncnc(Nc2ccc(cc2)OC(F)(F)...            TARGET2   \n",
       "3392  O=C(Nc1nc2cccc(-c3ccc(CN4CCS(=O)(=O)CC4)cc3)n2...            TARGET2   \n",
       "2181  COc1cc(ccc1Nc1nccc(n1)-c1cn(C)c2cnccc12)N1CCN(...            TARGET2   \n",
       "566   Cc1csc(c1)-c1nnc(Nc2ccc(Oc3ncccc3-c3ccnc(N)n3)...           COMPOUND   \n",
       "\n",
       "     Metadata_JCP2022            Metadata_InChIKey  \\\n",
       "0      JCP2022_082441  SDGJBAUIGHSMRI-UHFFFAOYSA-N   \n",
       "412    JCP2022_037716  IVUGFMLRJOCGAS-UHFFFAOYSA-N   \n",
       "6655   JCP2022_057881  NBHPRWLFLUBAIE-UHFFFAOYSA-N   \n",
       "6448   JCP2022_005529  BCZUAADEACICHN-UHFFFAOYSA-N   \n",
       "7073   JCP2022_057881  NBHPRWLFLUBAIE-UHFFFAOYSA-N   \n",
       "...               ...                          ...   \n",
       "5289   JCP2022_087474  TXZPMHLMPKIUGK-UHFFFAOYSA-N   \n",
       "1114   JCP2022_035296  IIQUYGWWHIHOCF-UHFFFAOYSA-N   \n",
       "3392   JCP2022_078581  RIJLVEAXPNLDTC-UHFFFAOYSA-N   \n",
       "2181   JCP2022_116560  ZYVXTMKTGDARKR-UHFFFAOYSA-N   \n",
       "566    JCP2022_037716  IVUGFMLRJOCGAS-UHFFFAOYSA-N   \n",
       "\n",
       "                                         Metadata_InChI  \\\n",
       "0     InChI=1S/C25H29ClN6O3/c1-4-23(33)28-17-6-5-7-1...   \n",
       "412   InChI=1S/C28H21N7OS/c1-17-15-24(37-16-17)25-20...   \n",
       "6655  InChI=1S/C21H22ClFN4O2/c22-15-3-6-19-18(13-15)...   \n",
       "6448  InChI=1S/C18H13N7S/c1-24-11-13(10-20-24)16-6-7...   \n",
       "7073  InChI=1S/C21H22ClFN4O2/c22-15-3-6-19-18(13-15)...   \n",
       "...                                                 ...   \n",
       "5289  InChI=1S/C16H17N3O4S/c1-19-10-11-9-12(7-8-13(1...   \n",
       "1114  InChI=1S/C20H17F3N4O3/c21-20(22,23)30-16-6-4-1...   \n",
       "3392  InChI=1S/C21H23N5O3S/c27-20(17-8-9-17)23-21-22...   \n",
       "2181  InChI=1S/C24H27N7O/c1-29-10-12-31(13-11-29)17-...   \n",
       "566   InChI=1S/C28H21N7OS/c1-17-15-24(37-16-17)25-20...   \n",
       "\n",
       "      Metadata_Sites_Per_Well           trt  \n",
       "0                           9  compound_trt  \n",
       "412                         6  compound_pos  \n",
       "6655                        9    target_trt  \n",
       "6448                        9    target_trt  \n",
       "7073                        9    target_trt  \n",
       "...                       ...           ...  \n",
       "5289                        9    target_trt  \n",
       "1114                        9    target_trt  \n",
       "3392                        9    target_trt  \n",
       "2181                        9    target_trt  \n",
       "566                         9  compound_pos  \n",
       "\n",
       "[6338 rows x 20 columns]"
      ]
     },
     "execution_count": 24,
     "metadata": {},
     "output_type": "execute_result"
    }
   ],
   "source": [
    "evaluator_list[0].datamodule.train_dataset.moa_load_df"
   ]
  },
  {
   "cell_type": "code",
   "execution_count": 25,
   "metadata": {},
   "outputs": [
    {
     "name": "stderr",
     "output_type": "stream",
     "text": [
      "You are using a CUDA device ('NVIDIA GeForce RTX 3070 Laptop GPU') that has Tensor Cores. To properly utilize them, you should set `torch.set_float32_matmul_precision('medium' | 'high')` which will trade-off precision for performance. For more details, read https://pytorch.org/docs/stable/generated/torch.set_float32_matmul_precision.html#torch.set_float32_matmul_precision\n",
      "LOCAL_RANK: 0 - CUDA_VISIBLE_DEVICES: [0]\n"
     ]
    },
    {
     "data": {
      "text/html": [
       "<pre style=\"white-space:pre;overflow-x:auto;line-height:normal;font-family:Menlo,'DejaVu Sans Mono',consolas,'Courier New',monospace\">┏━━━━┳━━━━━━━━━━━━━━━━━━━━━┳━━━━━━━━━━━━━━━━━━┳━━━━━━━━┳━━━━━━━━━━━━━━━━━━┳━━━━━━━━━━━┓\n",
       "┃<span style=\"color: #800080; text-decoration-color: #800080; font-weight: bold\">    </span>┃<span style=\"color: #800080; text-decoration-color: #800080; font-weight: bold\"> Name                </span>┃<span style=\"color: #800080; text-decoration-color: #800080; font-weight: bold\"> Type             </span>┃<span style=\"color: #800080; text-decoration-color: #800080; font-weight: bold\"> Params </span>┃<span style=\"color: #800080; text-decoration-color: #800080; font-weight: bold\">         In sizes </span>┃<span style=\"color: #800080; text-decoration-color: #800080; font-weight: bold\"> Out sizes </span>┃\n",
       "┡━━━━╇━━━━━━━━━━━━━━━━━━━━━╇━━━━━━━━━━━━━━━━━━╇━━━━━━━━╇━━━━━━━━━━━━━━━━━━╇━━━━━━━━━━━┩\n",
       "│<span style=\"color: #7f7f7f; text-decoration-color: #7f7f7f\"> 0  </span>│ image_encoder       │ CNNEncoder       │ 11.2 M │<span style=\"color: #c0c0c0; text-decoration-color: #c0c0c0\"> [4, 5, 256, 256] </span>│<span style=\"color: #c0c0c0; text-decoration-color: #c0c0c0\">  [4, 128] </span>│\n",
       "│<span style=\"color: #7f7f7f; text-decoration-color: #7f7f7f\"> 1  </span>│ head                │ Linear           │  3.4 K │<span style=\"color: #c0c0c0; text-decoration-color: #c0c0c0\">         [4, 128] </span>│<span style=\"color: #c0c0c0; text-decoration-color: #c0c0c0\">   [4, 26] </span>│\n",
       "│<span style=\"color: #7f7f7f; text-decoration-color: #7f7f7f\"> 2  </span>│ criterion           │ CrossEntropyLoss │      0 │<span style=\"color: #c0c0c0; text-decoration-color: #c0c0c0\">                ? </span>│<span style=\"color: #c0c0c0; text-decoration-color: #c0c0c0\">         ? </span>│\n",
       "│<span style=\"color: #7f7f7f; text-decoration-color: #7f7f7f\"> 3  </span>│ train_loss          │ MeanMetric       │      0 │<span style=\"color: #c0c0c0; text-decoration-color: #c0c0c0\">                ? </span>│<span style=\"color: #c0c0c0; text-decoration-color: #c0c0c0\">         ? </span>│\n",
       "│<span style=\"color: #7f7f7f; text-decoration-color: #7f7f7f\"> 4  </span>│ val_loss            │ MeanMetric       │      0 │<span style=\"color: #c0c0c0; text-decoration-color: #c0c0c0\">                ? </span>│<span style=\"color: #c0c0c0; text-decoration-color: #c0c0c0\">         ? </span>│\n",
       "│<span style=\"color: #7f7f7f; text-decoration-color: #7f7f7f\"> 5  </span>│ test_loss           │ MeanMetric       │      0 │<span style=\"color: #c0c0c0; text-decoration-color: #c0c0c0\">                ? </span>│<span style=\"color: #c0c0c0; text-decoration-color: #c0c0c0\">         ? </span>│\n",
       "│<span style=\"color: #7f7f7f; text-decoration-color: #7f7f7f\"> 6  </span>│ train_other_metrics │ MetricCollection │      0 │<span style=\"color: #c0c0c0; text-decoration-color: #c0c0c0\">                ? </span>│<span style=\"color: #c0c0c0; text-decoration-color: #c0c0c0\">         ? </span>│\n",
       "│<span style=\"color: #7f7f7f; text-decoration-color: #7f7f7f\"> 7  </span>│ val_other_metrics   │ MetricCollection │      0 │<span style=\"color: #c0c0c0; text-decoration-color: #c0c0c0\">                ? </span>│<span style=\"color: #c0c0c0; text-decoration-color: #c0c0c0\">         ? </span>│\n",
       "│<span style=\"color: #7f7f7f; text-decoration-color: #7f7f7f\"> 8  </span>│ test_other_metrics  │ MetricCollection │      0 │<span style=\"color: #c0c0c0; text-decoration-color: #c0c0c0\">                ? </span>│<span style=\"color: #c0c0c0; text-decoration-color: #c0c0c0\">         ? </span>│\n",
       "│<span style=\"color: #7f7f7f; text-decoration-color: #7f7f7f\"> 9  </span>│ train_plot_metrics  │ MetricCollection │      0 │<span style=\"color: #c0c0c0; text-decoration-color: #c0c0c0\">                ? </span>│<span style=\"color: #c0c0c0; text-decoration-color: #c0c0c0\">         ? </span>│\n",
       "│<span style=\"color: #7f7f7f; text-decoration-color: #7f7f7f\"> 10 </span>│ val_plot_metrics    │ MetricCollection │      0 │<span style=\"color: #c0c0c0; text-decoration-color: #c0c0c0\">                ? </span>│<span style=\"color: #c0c0c0; text-decoration-color: #c0c0c0\">         ? </span>│\n",
       "│<span style=\"color: #7f7f7f; text-decoration-color: #7f7f7f\"> 11 </span>│ test_plot_metrics   │ MetricCollection │      0 │<span style=\"color: #c0c0c0; text-decoration-color: #c0c0c0\">                ? </span>│<span style=\"color: #c0c0c0; text-decoration-color: #c0c0c0\">         ? </span>│\n",
       "└────┴─────────────────────┴──────────────────┴────────┴──────────────────┴───────────┘\n",
       "</pre>\n"
      ],
      "text/plain": [
       "┏━━━━┳━━━━━━━━━━━━━━━━━━━━━┳━━━━━━━━━━━━━━━━━━┳━━━━━━━━┳━━━━━━━━━━━━━━━━━━┳━━━━━━━━━━━┓\n",
       "┃\u001b[1;35m \u001b[0m\u001b[1;35m  \u001b[0m\u001b[1;35m \u001b[0m┃\u001b[1;35m \u001b[0m\u001b[1;35mName               \u001b[0m\u001b[1;35m \u001b[0m┃\u001b[1;35m \u001b[0m\u001b[1;35mType            \u001b[0m\u001b[1;35m \u001b[0m┃\u001b[1;35m \u001b[0m\u001b[1;35mParams\u001b[0m\u001b[1;35m \u001b[0m┃\u001b[1;35m \u001b[0m\u001b[1;35m        In sizes\u001b[0m\u001b[1;35m \u001b[0m┃\u001b[1;35m \u001b[0m\u001b[1;35mOut sizes\u001b[0m\u001b[1;35m \u001b[0m┃\n",
       "┡━━━━╇━━━━━━━━━━━━━━━━━━━━━╇━━━━━━━━━━━━━━━━━━╇━━━━━━━━╇━━━━━━━━━━━━━━━━━━╇━━━━━━━━━━━┩\n",
       "│\u001b[2m \u001b[0m\u001b[2m0 \u001b[0m\u001b[2m \u001b[0m│ image_encoder       │ CNNEncoder       │ 11.2 M │\u001b[37m \u001b[0m\u001b[37m[4, 5, 256, 256]\u001b[0m\u001b[37m \u001b[0m│\u001b[37m \u001b[0m\u001b[37m [4, 128]\u001b[0m\u001b[37m \u001b[0m│\n",
       "│\u001b[2m \u001b[0m\u001b[2m1 \u001b[0m\u001b[2m \u001b[0m│ head                │ Linear           │  3.4 K │\u001b[37m \u001b[0m\u001b[37m        [4, 128]\u001b[0m\u001b[37m \u001b[0m│\u001b[37m \u001b[0m\u001b[37m  [4, 26]\u001b[0m\u001b[37m \u001b[0m│\n",
       "│\u001b[2m \u001b[0m\u001b[2m2 \u001b[0m\u001b[2m \u001b[0m│ criterion           │ CrossEntropyLoss │      0 │\u001b[37m \u001b[0m\u001b[37m               ?\u001b[0m\u001b[37m \u001b[0m│\u001b[37m \u001b[0m\u001b[37m        ?\u001b[0m\u001b[37m \u001b[0m│\n",
       "│\u001b[2m \u001b[0m\u001b[2m3 \u001b[0m\u001b[2m \u001b[0m│ train_loss          │ MeanMetric       │      0 │\u001b[37m \u001b[0m\u001b[37m               ?\u001b[0m\u001b[37m \u001b[0m│\u001b[37m \u001b[0m\u001b[37m        ?\u001b[0m\u001b[37m \u001b[0m│\n",
       "│\u001b[2m \u001b[0m\u001b[2m4 \u001b[0m\u001b[2m \u001b[0m│ val_loss            │ MeanMetric       │      0 │\u001b[37m \u001b[0m\u001b[37m               ?\u001b[0m\u001b[37m \u001b[0m│\u001b[37m \u001b[0m\u001b[37m        ?\u001b[0m\u001b[37m \u001b[0m│\n",
       "│\u001b[2m \u001b[0m\u001b[2m5 \u001b[0m\u001b[2m \u001b[0m│ test_loss           │ MeanMetric       │      0 │\u001b[37m \u001b[0m\u001b[37m               ?\u001b[0m\u001b[37m \u001b[0m│\u001b[37m \u001b[0m\u001b[37m        ?\u001b[0m\u001b[37m \u001b[0m│\n",
       "│\u001b[2m \u001b[0m\u001b[2m6 \u001b[0m\u001b[2m \u001b[0m│ train_other_metrics │ MetricCollection │      0 │\u001b[37m \u001b[0m\u001b[37m               ?\u001b[0m\u001b[37m \u001b[0m│\u001b[37m \u001b[0m\u001b[37m        ?\u001b[0m\u001b[37m \u001b[0m│\n",
       "│\u001b[2m \u001b[0m\u001b[2m7 \u001b[0m\u001b[2m \u001b[0m│ val_other_metrics   │ MetricCollection │      0 │\u001b[37m \u001b[0m\u001b[37m               ?\u001b[0m\u001b[37m \u001b[0m│\u001b[37m \u001b[0m\u001b[37m        ?\u001b[0m\u001b[37m \u001b[0m│\n",
       "│\u001b[2m \u001b[0m\u001b[2m8 \u001b[0m\u001b[2m \u001b[0m│ test_other_metrics  │ MetricCollection │      0 │\u001b[37m \u001b[0m\u001b[37m               ?\u001b[0m\u001b[37m \u001b[0m│\u001b[37m \u001b[0m\u001b[37m        ?\u001b[0m\u001b[37m \u001b[0m│\n",
       "│\u001b[2m \u001b[0m\u001b[2m9 \u001b[0m\u001b[2m \u001b[0m│ train_plot_metrics  │ MetricCollection │      0 │\u001b[37m \u001b[0m\u001b[37m               ?\u001b[0m\u001b[37m \u001b[0m│\u001b[37m \u001b[0m\u001b[37m        ?\u001b[0m\u001b[37m \u001b[0m│\n",
       "│\u001b[2m \u001b[0m\u001b[2m10\u001b[0m\u001b[2m \u001b[0m│ val_plot_metrics    │ MetricCollection │      0 │\u001b[37m \u001b[0m\u001b[37m               ?\u001b[0m\u001b[37m \u001b[0m│\u001b[37m \u001b[0m\u001b[37m        ?\u001b[0m\u001b[37m \u001b[0m│\n",
       "│\u001b[2m \u001b[0m\u001b[2m11\u001b[0m\u001b[2m \u001b[0m│ test_plot_metrics   │ MetricCollection │      0 │\u001b[37m \u001b[0m\u001b[37m               ?\u001b[0m\u001b[37m \u001b[0m│\u001b[37m \u001b[0m\u001b[37m        ?\u001b[0m\u001b[37m \u001b[0m│\n",
       "└────┴─────────────────────┴──────────────────┴────────┴──────────────────┴───────────┘\n"
      ]
     },
     "metadata": {},
     "output_type": "display_data"
    },
    {
     "data": {
      "text/html": [
       "<pre style=\"white-space:pre;overflow-x:auto;line-height:normal;font-family:Menlo,'DejaVu Sans Mono',consolas,'Courier New',monospace\"><span style=\"font-weight: bold\">Trainable params</span>: 13.0 K                                                                                           \n",
       "<span style=\"font-weight: bold\">Non-trainable params</span>: 11.2 M                                                                                       \n",
       "<span style=\"font-weight: bold\">Total params</span>: 11.3 M                                                                                               \n",
       "<span style=\"font-weight: bold\">Total estimated model params size (MB)</span>: 45                                                                         \n",
       "</pre>\n"
      ],
      "text/plain": [
       "\u001b[1mTrainable params\u001b[0m: 13.0 K                                                                                           \n",
       "\u001b[1mNon-trainable params\u001b[0m: 11.2 M                                                                                       \n",
       "\u001b[1mTotal params\u001b[0m: 11.3 M                                                                                               \n",
       "\u001b[1mTotal estimated model params size (MB)\u001b[0m: 45                                                                         \n"
      ]
     },
     "metadata": {},
     "output_type": "display_data"
    },
    {
     "data": {
      "application/vnd.jupyter.widget-view+json": {
       "model_id": "514e8343211e4ded9a97bfa18d2b69ca",
       "version_major": 2,
       "version_minor": 0
      },
      "text/plain": [
       "Output()"
      ]
     },
     "metadata": {},
     "output_type": "display_data"
    },
    {
     "data": {
      "image/png": "[encoded data removed]",
      "text/plain": [
       "<Figure size 800x800 with 1 Axes>"
      ]
     },
     "metadata": {},
     "output_type": "display_data"
    },
    {
     "data": {
      "text/html": [
       "<pre style=\"white-space:pre;overflow-x:auto;line-height:normal;font-family:Menlo,'DejaVu Sans Mono',consolas,'Courier New',monospace\">/home/gwatk/miniconda3/envs/jump_models/lib/python3.10/site-packages/torchmetrics/utilities/prints.py:42: \n",
       "UserWarning: No positive samples in targets, true positive value should be meaningless. Returning zero tensor in \n",
       "true positive score\n",
       "  warnings.warn(*args, **kwargs)  # noqa: B028\n",
       "</pre>\n"
      ],
      "text/plain": [
       "/home/gwatk/miniconda3/envs/jump_models/lib/python3.10/site-packages/torchmetrics/utilities/prints.py:42: \n",
       "UserWarning: No positive samples in targets, true positive value should be meaningless. Returning zero tensor in \n",
       "true positive score\n",
       "  warnings.warn(*args, **kwargs)  # noqa: B028\n"
      ]
     },
     "metadata": {},
     "output_type": "display_data"
    },
    {
     "data": {
      "image/png": "[encoded data removed]",
      "text/plain": [
       "<Figure size 800x800 with 1 Axes>"
      ]
     },
     "metadata": {},
     "output_type": "display_data"
    },
    {
     "data": {
      "text/html": [
       "<pre style=\"white-space:pre;overflow-x:auto;line-height:normal;font-family:Menlo,'DejaVu Sans Mono',consolas,'Courier New',monospace\">/home/gwatk/miniconda3/envs/jump_models/lib/python3.10/site-packages/lightning/pytorch/trainer/call.py:53: \n",
       "UserWarning: Detected KeyboardInterrupt, attempting graceful shutdown...\n",
       "  rank_zero_warn(\"Detected KeyboardInterrupt, attempting graceful shutdown...\")\n",
       "</pre>\n"
      ],
      "text/plain": [
       "/home/gwatk/miniconda3/envs/jump_models/lib/python3.10/site-packages/lightning/pytorch/trainer/call.py:53: \n",
       "UserWarning: Detected KeyboardInterrupt, attempting graceful shutdown...\n",
       "  rank_zero_warn(\"Detected KeyboardInterrupt, attempting graceful shutdown...\")\n"
      ]
     },
     "metadata": {},
     "output_type": "display_data"
    },
    {
     "data": {
      "text/html": [
       "<pre style=\"white-space:pre;overflow-x:auto;line-height:normal;font-family:Menlo,'DejaVu Sans Mono',consolas,'Courier New',monospace\"></pre>\n"
      ],
      "text/plain": []
     },
     "metadata": {},
     "output_type": "display_data"
    },
    {
     "data": {
      "text/html": [
       "<pre style=\"white-space:pre;overflow-x:auto;line-height:normal;font-family:Menlo,'DejaVu Sans Mono',consolas,'Courier New',monospace\">\n",
       "</pre>\n"
      ],
      "text/plain": [
       "\n"
      ]
     },
     "metadata": {},
     "output_type": "display_data"
    },
    {
     "data": {
      "text/html": [
       "<pre style=\"white-space:pre;overflow-x:auto;line-height:normal;font-family:Menlo,'DejaVu Sans Mono',consolas,'Courier New',monospace\">\n",
       "</pre>\n"
      ],
      "text/plain": [
       "\n"
      ]
     },
     "metadata": {},
     "output_type": "display_data"
    },
    {
     "ename": "AttributeError",
     "evalue": "'JumpMOADataModule' object has no attribute 'iloc'",
     "output_type": "error",
     "traceback": [
      "\u001b[0;31m---------------------------------------------------------------------------\u001b[0m",
      "\u001b[0;31mAttributeError\u001b[0m                            Traceback (most recent call last)",
      "Cell \u001b[0;32mIn[25], line 1\u001b[0m\n\u001b[0;32m----> 1\u001b[0m evaluator_list[\u001b[39m0\u001b[39;49m]\u001b[39m.\u001b[39;49mrun()\n",
      "File \u001b[0;32m/mnt/2547d4d7-6732-4154-b0e1-17b0c1e0c565/Document-2/Projet2/Stage/workspace/jump_models/src/eval/evaluators.py:61\u001b[0m, in \u001b[0;36mEvaluator.run\u001b[0;34m(self)\u001b[0m\n\u001b[1;32m     59\u001b[0m \u001b[39m\u001b[39m\u001b[39m\"\"\"Run the evaluator.\"\"\"\u001b[39;00m\n\u001b[1;32m     60\u001b[0m \u001b[39mself\u001b[39m\u001b[39m.\u001b[39mfinetune()\n\u001b[0;32m---> 61\u001b[0m \u001b[39mself\u001b[39;49m\u001b[39m.\u001b[39;49mevaluate()\n\u001b[1;32m     62\u001b[0m \u001b[39mself\u001b[39m\u001b[39m.\u001b[39mvisualize(\u001b[39m*\u001b[39m\u001b[39m*\u001b[39m\u001b[39mself\u001b[39m\u001b[39m.\u001b[39mvisualize_kwargs)\n",
      "File \u001b[0;32m/mnt/2547d4d7-6732-4154-b0e1-17b0c1e0c565/Document-2/Projet2/Stage/workspace/jump_models/src/eval/evaluators.py:51\u001b[0m, in \u001b[0;36mEvaluator.evaluate\u001b[0;34m(self)\u001b[0m\n\u001b[1;32m     49\u001b[0m \u001b[39m\u001b[39m\u001b[39m\"\"\"Evaluate the model.\"\"\"\u001b[39;00m\n\u001b[1;32m     50\u001b[0m logger\u001b[39m.\u001b[39minfo(\u001b[39mf\u001b[39m\u001b[39m\"\u001b[39m\u001b[39m{\u001b[39;00m\u001b[39mself\u001b[39m\u001b[39m.\u001b[39mprefix\u001b[39m}\u001b[39;00m\u001b[39mEvaluating \u001b[39m\u001b[39m{\u001b[39;00m\u001b[39mself\u001b[39m\u001b[39m.\u001b[39mmodel\u001b[39m}\u001b[39;00m\u001b[39m on \u001b[39m\u001b[39m{\u001b[39;00m\u001b[39mself\u001b[39m\u001b[39m.\u001b[39mdatamodule\u001b[39m}\u001b[39;00m\u001b[39m\"\u001b[39m)\n\u001b[0;32m---> 51\u001b[0m \u001b[39mself\u001b[39;49m\u001b[39m.\u001b[39;49mtrainer\u001b[39m.\u001b[39;49mtest(model\u001b[39m=\u001b[39;49m\u001b[39mself\u001b[39;49m\u001b[39m.\u001b[39;49mmodel, datamodule\u001b[39m=\u001b[39;49m\u001b[39mself\u001b[39;49m\u001b[39m.\u001b[39;49mdatamodule)\n",
      "File \u001b[0;32m~/miniconda3/envs/jump_models/lib/python3.10/site-packages/lightning/pytorch/trainer/trainer.py:742\u001b[0m, in \u001b[0;36mTrainer.test\u001b[0;34m(self, model, dataloaders, ckpt_path, verbose, datamodule)\u001b[0m\n\u001b[1;32m    740\u001b[0m     \u001b[39mself\u001b[39m\u001b[39m.\u001b[39mstrategy\u001b[39m.\u001b[39m_lightning_module \u001b[39m=\u001b[39m model\n\u001b[1;32m    741\u001b[0m _verify_strategy_supports_compile(\u001b[39mself\u001b[39m\u001b[39m.\u001b[39mlightning_module, \u001b[39mself\u001b[39m\u001b[39m.\u001b[39mstrategy)\n\u001b[0;32m--> 742\u001b[0m \u001b[39mreturn\u001b[39;00m call\u001b[39m.\u001b[39;49m_call_and_handle_interrupt(\n\u001b[1;32m    743\u001b[0m     \u001b[39mself\u001b[39;49m, \u001b[39mself\u001b[39;49m\u001b[39m.\u001b[39;49m_test_impl, model, dataloaders, ckpt_path, verbose, datamodule\n\u001b[1;32m    744\u001b[0m )\n",
      "File \u001b[0;32m~/miniconda3/envs/jump_models/lib/python3.10/site-packages/lightning/pytorch/trainer/call.py:43\u001b[0m, in \u001b[0;36m_call_and_handle_interrupt\u001b[0;34m(trainer, trainer_fn, *args, **kwargs)\u001b[0m\n\u001b[1;32m     41\u001b[0m     \u001b[39mif\u001b[39;00m trainer\u001b[39m.\u001b[39mstrategy\u001b[39m.\u001b[39mlauncher \u001b[39mis\u001b[39;00m \u001b[39mnot\u001b[39;00m \u001b[39mNone\u001b[39;00m:\n\u001b[1;32m     42\u001b[0m         \u001b[39mreturn\u001b[39;00m trainer\u001b[39m.\u001b[39mstrategy\u001b[39m.\u001b[39mlauncher\u001b[39m.\u001b[39mlaunch(trainer_fn, \u001b[39m*\u001b[39margs, trainer\u001b[39m=\u001b[39mtrainer, \u001b[39m*\u001b[39m\u001b[39m*\u001b[39mkwargs)\n\u001b[0;32m---> 43\u001b[0m     \u001b[39mreturn\u001b[39;00m trainer_fn(\u001b[39m*\u001b[39;49margs, \u001b[39m*\u001b[39;49m\u001b[39m*\u001b[39;49mkwargs)\n\u001b[1;32m     45\u001b[0m \u001b[39mexcept\u001b[39;00m _TunerExitException:\n\u001b[1;32m     46\u001b[0m     _call_teardown_hook(trainer)\n",
      "File \u001b[0;32m~/miniconda3/envs/jump_models/lib/python3.10/site-packages/lightning/pytorch/trainer/trainer.py:785\u001b[0m, in \u001b[0;36mTrainer._test_impl\u001b[0;34m(self, model, dataloaders, ckpt_path, verbose, datamodule)\u001b[0m\n\u001b[1;32m    780\u001b[0m \u001b[39mself\u001b[39m\u001b[39m.\u001b[39m_data_connector\u001b[39m.\u001b[39mattach_data(model, test_dataloaders\u001b[39m=\u001b[39mdataloaders, datamodule\u001b[39m=\u001b[39mdatamodule)\n\u001b[1;32m    782\u001b[0m ckpt_path \u001b[39m=\u001b[39m \u001b[39mself\u001b[39m\u001b[39m.\u001b[39m_checkpoint_connector\u001b[39m.\u001b[39m_select_ckpt_path(\n\u001b[1;32m    783\u001b[0m     \u001b[39mself\u001b[39m\u001b[39m.\u001b[39mstate\u001b[39m.\u001b[39mfn, ckpt_path, model_provided\u001b[39m=\u001b[39mmodel_provided, model_connected\u001b[39m=\u001b[39m\u001b[39mself\u001b[39m\u001b[39m.\u001b[39mlightning_module \u001b[39mis\u001b[39;00m \u001b[39mnot\u001b[39;00m \u001b[39mNone\u001b[39;00m\n\u001b[1;32m    784\u001b[0m )\n\u001b[0;32m--> 785\u001b[0m results \u001b[39m=\u001b[39m \u001b[39mself\u001b[39;49m\u001b[39m.\u001b[39;49m_run(model, ckpt_path\u001b[39m=\u001b[39;49mckpt_path)\n\u001b[1;32m    786\u001b[0m \u001b[39m# remove the tensors from the test results\u001b[39;00m\n\u001b[1;32m    787\u001b[0m results \u001b[39m=\u001b[39m convert_tensors_to_scalars(results)\n",
      "File \u001b[0;32m~/miniconda3/envs/jump_models/lib/python3.10/site-packages/lightning/pytorch/trainer/trainer.py:941\u001b[0m, in \u001b[0;36mTrainer._run\u001b[0;34m(self, model, ckpt_path)\u001b[0m\n\u001b[1;32m    938\u001b[0m \u001b[39mself\u001b[39m\u001b[39m.\u001b[39mstrategy\u001b[39m.\u001b[39msetup_environment()\n\u001b[1;32m    939\u001b[0m \u001b[39mself\u001b[39m\u001b[39m.\u001b[39m__setup_profiler()\n\u001b[0;32m--> 941\u001b[0m call\u001b[39m.\u001b[39;49m_call_setup_hook(\u001b[39mself\u001b[39;49m)  \u001b[39m# allow user to setup lightning_module in accelerator environment\u001b[39;00m\n\u001b[1;32m    943\u001b[0m \u001b[39m# check if we should delay restoring checkpoint till later\u001b[39;00m\n\u001b[1;32m    944\u001b[0m \u001b[39mif\u001b[39;00m \u001b[39mnot\u001b[39;00m \u001b[39mself\u001b[39m\u001b[39m.\u001b[39mstrategy\u001b[39m.\u001b[39mrestore_checkpoint_after_setup:\n",
      "File \u001b[0;32m~/miniconda3/envs/jump_models/lib/python3.10/site-packages/lightning/pytorch/trainer/call.py:84\u001b[0m, in \u001b[0;36m_call_setup_hook\u001b[0;34m(trainer)\u001b[0m\n\u001b[1;32m     81\u001b[0m trainer\u001b[39m.\u001b[39mstrategy\u001b[39m.\u001b[39mbarrier(\u001b[39m\"\u001b[39m\u001b[39mpre_setup\u001b[39m\u001b[39m\"\u001b[39m)\n\u001b[1;32m     83\u001b[0m \u001b[39mif\u001b[39;00m trainer\u001b[39m.\u001b[39mdatamodule \u001b[39mis\u001b[39;00m \u001b[39mnot\u001b[39;00m \u001b[39mNone\u001b[39;00m:\n\u001b[0;32m---> 84\u001b[0m     _call_lightning_datamodule_hook(trainer, \u001b[39m\"\u001b[39;49m\u001b[39msetup\u001b[39;49m\u001b[39m\"\u001b[39;49m, stage\u001b[39m=\u001b[39;49mfn)\n\u001b[1;32m     85\u001b[0m _call_callback_hooks(trainer, \u001b[39m\"\u001b[39m\u001b[39msetup\u001b[39m\u001b[39m\"\u001b[39m, stage\u001b[39m=\u001b[39mfn)\n\u001b[1;32m     86\u001b[0m _call_lightning_module_hook(trainer, \u001b[39m\"\u001b[39m\u001b[39msetup\u001b[39m\u001b[39m\"\u001b[39m, stage\u001b[39m=\u001b[39mfn)\n",
      "File \u001b[0;32m~/miniconda3/envs/jump_models/lib/python3.10/site-packages/lightning/pytorch/trainer/call.py:165\u001b[0m, in \u001b[0;36m_call_lightning_datamodule_hook\u001b[0;34m(trainer, hook_name, *args, **kwargs)\u001b[0m\n\u001b[1;32m    163\u001b[0m \u001b[39mif\u001b[39;00m \u001b[39mcallable\u001b[39m(fn):\n\u001b[1;32m    164\u001b[0m     \u001b[39mwith\u001b[39;00m trainer\u001b[39m.\u001b[39mprofiler\u001b[39m.\u001b[39mprofile(\u001b[39mf\u001b[39m\u001b[39m\"\u001b[39m\u001b[39m[LightningDataModule]\u001b[39m\u001b[39m{\u001b[39;00mtrainer\u001b[39m.\u001b[39mdatamodule\u001b[39m.\u001b[39m\u001b[39m__class__\u001b[39m\u001b[39m.\u001b[39m\u001b[39m__name__\u001b[39m\u001b[39m}\u001b[39;00m\u001b[39m.\u001b[39m\u001b[39m{\u001b[39;00mhook_name\u001b[39m}\u001b[39;00m\u001b[39m\"\u001b[39m):\n\u001b[0;32m--> 165\u001b[0m         \u001b[39mreturn\u001b[39;00m fn(\u001b[39m*\u001b[39;49margs, \u001b[39m*\u001b[39;49m\u001b[39m*\u001b[39;49mkwargs)\n\u001b[1;32m    166\u001b[0m \u001b[39mreturn\u001b[39;00m \u001b[39mNone\u001b[39;00m\n",
      "File \u001b[0;32m/mnt/2547d4d7-6732-4154-b0e1-17b0c1e0c565/Document-2/Projet2/Stage/workspace/jump_models/src/eval/moa/datamodule.py:268\u001b[0m, in \u001b[0;36mJumpMOADataModule.setup\u001b[0;34m(self, stage, **kwargs)\u001b[0m\n\u001b[1;32m    266\u001b[0m \u001b[39mif\u001b[39;00m stage \u001b[39m==\u001b[39m \u001b[39m\"\u001b[39m\u001b[39mtest\u001b[39m\u001b[39m\"\u001b[39m \u001b[39mand\u001b[39;00m \u001b[39mself\u001b[39m\u001b[39m.\u001b[39mtest_dataset \u001b[39mis\u001b[39;00m \u001b[39mNone\u001b[39;00m:\n\u001b[1;32m    267\u001b[0m     test_ids \u001b[39m=\u001b[39m pd\u001b[39m.\u001b[39mread_csv(\u001b[39mself\u001b[39m\u001b[39m.\u001b[39mtest_path, header\u001b[39m=\u001b[39m\u001b[39mNone\u001b[39;00m)\u001b[39m.\u001b[39mvalues\u001b[39m.\u001b[39mflatten()\u001b[39m.\u001b[39mtolist()\n\u001b[0;32m--> 268\u001b[0m     test_df \u001b[39m=\u001b[39m \u001b[39mself\u001b[39;49m\u001b[39m.\u001b[39;49miloc[test_ids]\n\u001b[1;32m    270\u001b[0m     logger\u001b[39m.\u001b[39minfo(\u001b[39mf\u001b[39m\u001b[39m\"\u001b[39m\u001b[39mCreating test dataset (\u001b[39m\u001b[39m{\u001b[39;00m\u001b[39mlen\u001b[39m(test_df)\u001b[39m}\u001b[39;00m\u001b[39m rows)\u001b[39m\u001b[39m\"\u001b[39m)\n\u001b[1;32m    271\u001b[0m     \u001b[39mself\u001b[39m\u001b[39m.\u001b[39mtest_dataset \u001b[39m=\u001b[39m JumpMOADataset(\n\u001b[1;32m    272\u001b[0m         moa_load_df\u001b[39m=\u001b[39mtest_df,\n\u001b[1;32m    273\u001b[0m         transform\u001b[39m=\u001b[39m\u001b[39mself\u001b[39m\u001b[39m.\u001b[39mtransform,\n\u001b[0;32m   (...)\u001b[0m\n\u001b[1;32m    281\u001b[0m         \u001b[39m*\u001b[39m\u001b[39m*\u001b[39mkwargs,\n\u001b[1;32m    282\u001b[0m     )\n",
      "\u001b[0;31mAttributeError\u001b[0m: 'JumpMOADataModule' object has no attribute 'iloc'"
     ]
    }
   ],
   "source": [
    "evaluator_list[0].run()"
   ]
  },
  {
   "cell_type": "code",
   "execution_count": 44,
   "metadata": {},
   "outputs": [
    {
     "ename": "FileNotFoundError",
     "evalue": "[Errno 2] No such file or directory: '/projects/cpjump2/jump/images/source_8/J3/A1170541/source_8__A1170541__J17__1__DNA.png'",
     "output_type": "error",
     "traceback": [
      "\u001b[0;31m---------------------------------------------------------------------------\u001b[0m",
      "\u001b[0;31mFileNotFoundError\u001b[0m                         Traceback (most recent call last)",
      "Cell \u001b[0;32mIn[44], line 1\u001b[0m\n\u001b[0;32m----> 1\u001b[0m evaluator_list[\u001b[39m0\u001b[39;49m]\u001b[39m.\u001b[39;49mdatamodule\u001b[39m.\u001b[39;49mtrain_dataset[\u001b[39m0\u001b[39;49m]\n",
      "File \u001b[0;32m/mnt/2547d4d7-6732-4154-b0e1-17b0c1e0c565/Document-2/Projet2/Stage/workspace/jump_models/src/eval/moa/datamodule.py:128\u001b[0m, in \u001b[0;36mJumpMOADataset.__getitem__\u001b[0;34m(self, idx)\u001b[0m\n\u001b[1;32m    125\u001b[0m \u001b[39mif\u001b[39;00m \u001b[39mself\u001b[39m\u001b[39m.\u001b[39mreturn_image:\n\u001b[1;32m    126\u001b[0m     img_paths \u001b[39m=\u001b[39m [row[\u001b[39mf\u001b[39m\u001b[39m\"\u001b[39m\u001b[39mFileName_Orig\u001b[39m\u001b[39m{\u001b[39;00mchannel\u001b[39m}\u001b[39;00m\u001b[39m\"\u001b[39m] \u001b[39mfor\u001b[39;00m channel \u001b[39min\u001b[39;00m \u001b[39mself\u001b[39m\u001b[39m.\u001b[39mchannels]\n\u001b[0;32m--> 128\u001b[0m     img_array \u001b[39m=\u001b[39m load_image_paths_to_array(img_paths)  \u001b[39m# A numpy array: (5, 768, 768)\u001b[39;00m\n\u001b[1;32m    129\u001b[0m     img_array \u001b[39m=\u001b[39m torch\u001b[39m.\u001b[39mfrom_numpy(img_array)\n\u001b[1;32m    131\u001b[0m     \u001b[39mif\u001b[39;00m \u001b[39mself\u001b[39m\u001b[39m.\u001b[39mtransform:\n",
      "File \u001b[0;32m/mnt/2547d4d7-6732-4154-b0e1-17b0c1e0c565/Document-2/Projet2/Stage/workspace/jump_models/src/utils/io.py:77\u001b[0m, in \u001b[0;36mload_image_paths_to_array\u001b[0;34m(image_paths)\u001b[0m\n\u001b[1;32m     75\u001b[0m images \u001b[39m=\u001b[39m []\n\u001b[1;32m     76\u001b[0m \u001b[39mfor\u001b[39;00m image_path \u001b[39min\u001b[39;00m image_paths:\n\u001b[0;32m---> 77\u001b[0m     images\u001b[39m.\u001b[39mappend(np\u001b[39m.\u001b[39marray(Image\u001b[39m.\u001b[39;49mopen(image_path)))\n\u001b[1;32m     78\u001b[0m \u001b[39mreturn\u001b[39;00m np\u001b[39m.\u001b[39mstack(images)\n",
      "File \u001b[0;32m~/miniconda3/envs/jump_models/lib/python3.10/site-packages/PIL/Image.py:3236\u001b[0m, in \u001b[0;36mopen\u001b[0;34m(fp, mode, formats)\u001b[0m\n\u001b[1;32m   3233\u001b[0m     filename \u001b[39m=\u001b[39m fp\n\u001b[1;32m   3235\u001b[0m \u001b[39mif\u001b[39;00m filename:\n\u001b[0;32m-> 3236\u001b[0m     fp \u001b[39m=\u001b[39m builtins\u001b[39m.\u001b[39;49mopen(filename, \u001b[39m\"\u001b[39;49m\u001b[39mrb\u001b[39;49m\u001b[39m\"\u001b[39;49m)\n\u001b[1;32m   3237\u001b[0m     exclusive_fp \u001b[39m=\u001b[39m \u001b[39mTrue\u001b[39;00m\n\u001b[1;32m   3239\u001b[0m \u001b[39mtry\u001b[39;00m:\n",
      "\u001b[0;31mFileNotFoundError\u001b[0m: [Errno 2] No such file or directory: '/projects/cpjump2/jump/images/source_8/J3/A1170541/source_8__A1170541__J17__1__DNA.png'"
     ]
    }
   ],
   "source": [
    "evaluator_list[0].datamodule.train_dataset[0]"
   ]
  },
  {
   "cell_type": "code",
   "execution_count": 34,
   "metadata": {},
   "outputs": [
    {
     "data": {
      "text/plain": [
       "['_log_hyperparams',\n",
       " 'prepare_data_per_node',\n",
       " 'allow_zero_length_dataloader_with_multiple_devices',\n",
       " 'trainer',\n",
       " 'moa_load_df_path',\n",
       " 'split_path',\n",
       " 'force_split',\n",
       " 'transform',\n",
       " 'compound_transform',\n",
       " 'collate_fn',\n",
       " 'metadata_dir',\n",
       " 'load_data_dir',\n",
       " 'train_path',\n",
       " 'val_path',\n",
       " 'test_path',\n",
       " 'splitter',\n",
       " 'max_obs_per_class',\n",
       " 'target_col',\n",
       " 'smiles_col',\n",
       " 'return_image',\n",
       " 'return_compound',\n",
       " 'use_cache',\n",
       " 'got_default_collate_fn',\n",
       " 'batch_size',\n",
       " 'num_workers',\n",
       " 'pin_memory',\n",
       " 'prefetch_factor',\n",
       " 'moa_load_df',\n",
       " 'train_dataset',\n",
       " 'val_dataset',\n",
       " 'test_dataset',\n",
       " '__module__',\n",
       " '__init__',\n",
       " 'prepare_data',\n",
       " 'setup',\n",
       " 'train_dataloader',\n",
       " 'val_dataloader',\n",
       " 'test_dataloader',\n",
       " 'teardown',\n",
       " 'state_dict',\n",
       " 'load_state_dict',\n",
       " '__repr__',\n",
       " '__doc__',\n",
       " '__annotations__',\n",
       " 'name',\n",
       " 'CHECKPOINT_HYPER_PARAMS_KEY',\n",
       " 'CHECKPOINT_HYPER_PARAMS_NAME',\n",
       " 'CHECKPOINT_HYPER_PARAMS_TYPE',\n",
       " 'from_datasets',\n",
       " 'load_from_checkpoint',\n",
       " 'predict_dataloader',\n",
       " 'transfer_batch_to_device',\n",
       " 'on_before_batch_transfer',\n",
       " 'on_after_batch_transfer',\n",
       " '__dict__',\n",
       " '__weakref__',\n",
       " '__new__',\n",
       " '__hash__',\n",
       " '__str__',\n",
       " '__getattribute__',\n",
       " '__setattr__',\n",
       " '__delattr__',\n",
       " '__lt__',\n",
       " '__le__',\n",
       " '__eq__',\n",
       " '__ne__',\n",
       " '__gt__',\n",
       " '__ge__',\n",
       " '__reduce_ex__',\n",
       " '__reduce__',\n",
       " '__subclasshook__',\n",
       " '__init_subclass__',\n",
       " '__format__',\n",
       " '__sizeof__',\n",
       " '__dir__',\n",
       " '__class__',\n",
       " '__jit_unused_properties__',\n",
       " 'save_hyperparameters',\n",
       " '_set_hparams',\n",
       " '_to_hparams_dict',\n",
       " 'hparams',\n",
       " 'hparams_initial']"
      ]
     },
     "execution_count": 34,
     "metadata": {},
     "output_type": "execute_result"
    }
   ],
   "source": [
    "evaluator_list[0].datamodule.moa_load_df_path"
   ]
  },
  {
   "cell_type": "code",
   "execution_count": 30,
   "metadata": {},
   "outputs": [
    {
     "name": "stderr",
     "output_type": "stream",
     "text": [
      "You are using a CUDA device ('NVIDIA GeForce RTX 3070 Laptop GPU') that has Tensor Cores. To properly utilize them, you should set `torch.set_float32_matmul_precision('medium' | 'high')` which will trade-off precision for performance. For more details, read https://pytorch.org/docs/stable/generated/torch.set_float32_matmul_precision.html#torch.set_float32_matmul_precision\n",
      "LOCAL_RANK: 0 - CUDA_VISIBLE_DEVICES: [0]\n"
     ]
    },
    {
     "data": {
      "text/html": [
       "<pre style=\"white-space:pre;overflow-x:auto;line-height:normal;font-family:Menlo,'DejaVu Sans Mono',consolas,'Courier New',monospace\">┏━━━━┳━━━━━━━━━━━━━━━━━━━━━┳━━━━━━━━━━━━━━━━━━┳━━━━━━━━┳━━━━━━━━━━━━━━━━━━┳━━━━━━━━━━━┓\n",
       "┃<span style=\"color: #800080; text-decoration-color: #800080; font-weight: bold\">    </span>┃<span style=\"color: #800080; text-decoration-color: #800080; font-weight: bold\"> Name                </span>┃<span style=\"color: #800080; text-decoration-color: #800080; font-weight: bold\"> Type             </span>┃<span style=\"color: #800080; text-decoration-color: #800080; font-weight: bold\"> Params </span>┃<span style=\"color: #800080; text-decoration-color: #800080; font-weight: bold\">         In sizes </span>┃<span style=\"color: #800080; text-decoration-color: #800080; font-weight: bold\"> Out sizes </span>┃\n",
       "┡━━━━╇━━━━━━━━━━━━━━━━━━━━━╇━━━━━━━━━━━━━━━━━━╇━━━━━━━━╇━━━━━━━━━━━━━━━━━━╇━━━━━━━━━━━┩\n",
       "│<span style=\"color: #7f7f7f; text-decoration-color: #7f7f7f\"> 0  </span>│ image_encoder       │ CNNEncoder       │ 11.2 M │<span style=\"color: #c0c0c0; text-decoration-color: #c0c0c0\"> [4, 5, 256, 256] </span>│<span style=\"color: #c0c0c0; text-decoration-color: #c0c0c0\">  [4, 128] </span>│\n",
       "│<span style=\"color: #7f7f7f; text-decoration-color: #7f7f7f\"> 1  </span>│ head                │ Linear           │  3.4 K │<span style=\"color: #c0c0c0; text-decoration-color: #c0c0c0\">         [4, 128] </span>│<span style=\"color: #c0c0c0; text-decoration-color: #c0c0c0\">   [4, 26] </span>│\n",
       "│<span style=\"color: #7f7f7f; text-decoration-color: #7f7f7f\"> 2  </span>│ criterion           │ CrossEntropyLoss │      0 │<span style=\"color: #c0c0c0; text-decoration-color: #c0c0c0\">                ? </span>│<span style=\"color: #c0c0c0; text-decoration-color: #c0c0c0\">         ? </span>│\n",
       "│<span style=\"color: #7f7f7f; text-decoration-color: #7f7f7f\"> 3  </span>│ train_loss          │ MeanMetric       │      0 │<span style=\"color: #c0c0c0; text-decoration-color: #c0c0c0\">                ? </span>│<span style=\"color: #c0c0c0; text-decoration-color: #c0c0c0\">         ? </span>│\n",
       "│<span style=\"color: #7f7f7f; text-decoration-color: #7f7f7f\"> 4  </span>│ val_loss            │ MeanMetric       │      0 │<span style=\"color: #c0c0c0; text-decoration-color: #c0c0c0\">                ? </span>│<span style=\"color: #c0c0c0; text-decoration-color: #c0c0c0\">         ? </span>│\n",
       "│<span style=\"color: #7f7f7f; text-decoration-color: #7f7f7f\"> 5  </span>│ test_loss           │ MeanMetric       │      0 │<span style=\"color: #c0c0c0; text-decoration-color: #c0c0c0\">                ? </span>│<span style=\"color: #c0c0c0; text-decoration-color: #c0c0c0\">         ? </span>│\n",
       "│<span style=\"color: #7f7f7f; text-decoration-color: #7f7f7f\"> 6  </span>│ train_other_metrics │ MetricCollection │      0 │<span style=\"color: #c0c0c0; text-decoration-color: #c0c0c0\">                ? </span>│<span style=\"color: #c0c0c0; text-decoration-color: #c0c0c0\">         ? </span>│\n",
       "│<span style=\"color: #7f7f7f; text-decoration-color: #7f7f7f\"> 7  </span>│ val_other_metrics   │ MetricCollection │      0 │<span style=\"color: #c0c0c0; text-decoration-color: #c0c0c0\">                ? </span>│<span style=\"color: #c0c0c0; text-decoration-color: #c0c0c0\">         ? </span>│\n",
       "│<span style=\"color: #7f7f7f; text-decoration-color: #7f7f7f\"> 8  </span>│ test_other_metrics  │ MetricCollection │      0 │<span style=\"color: #c0c0c0; text-decoration-color: #c0c0c0\">                ? </span>│<span style=\"color: #c0c0c0; text-decoration-color: #c0c0c0\">         ? </span>│\n",
       "│<span style=\"color: #7f7f7f; text-decoration-color: #7f7f7f\"> 9  </span>│ train_plot_metrics  │ MetricCollection │      0 │<span style=\"color: #c0c0c0; text-decoration-color: #c0c0c0\">                ? </span>│<span style=\"color: #c0c0c0; text-decoration-color: #c0c0c0\">         ? </span>│\n",
       "│<span style=\"color: #7f7f7f; text-decoration-color: #7f7f7f\"> 10 </span>│ val_plot_metrics    │ MetricCollection │      0 │<span style=\"color: #c0c0c0; text-decoration-color: #c0c0c0\">                ? </span>│<span style=\"color: #c0c0c0; text-decoration-color: #c0c0c0\">         ? </span>│\n",
       "│<span style=\"color: #7f7f7f; text-decoration-color: #7f7f7f\"> 11 </span>│ test_plot_metrics   │ MetricCollection │      0 │<span style=\"color: #c0c0c0; text-decoration-color: #c0c0c0\">                ? </span>│<span style=\"color: #c0c0c0; text-decoration-color: #c0c0c0\">         ? </span>│\n",
       "└────┴─────────────────────┴──────────────────┴────────┴──────────────────┴───────────┘\n",
       "</pre>\n"
      ],
      "text/plain": [
       "┏━━━━┳━━━━━━━━━━━━━━━━━━━━━┳━━━━━━━━━━━━━━━━━━┳━━━━━━━━┳━━━━━━━━━━━━━━━━━━┳━━━━━━━━━━━┓\n",
       "┃\u001b[1;35m \u001b[0m\u001b[1;35m  \u001b[0m\u001b[1;35m \u001b[0m┃\u001b[1;35m \u001b[0m\u001b[1;35mName               \u001b[0m\u001b[1;35m \u001b[0m┃\u001b[1;35m \u001b[0m\u001b[1;35mType            \u001b[0m\u001b[1;35m \u001b[0m┃\u001b[1;35m \u001b[0m\u001b[1;35mParams\u001b[0m\u001b[1;35m \u001b[0m┃\u001b[1;35m \u001b[0m\u001b[1;35m        In sizes\u001b[0m\u001b[1;35m \u001b[0m┃\u001b[1;35m \u001b[0m\u001b[1;35mOut sizes\u001b[0m\u001b[1;35m \u001b[0m┃\n",
       "┡━━━━╇━━━━━━━━━━━━━━━━━━━━━╇━━━━━━━━━━━━━━━━━━╇━━━━━━━━╇━━━━━━━━━━━━━━━━━━╇━━━━━━━━━━━┩\n",
       "│\u001b[2m \u001b[0m\u001b[2m0 \u001b[0m\u001b[2m \u001b[0m│ image_encoder       │ CNNEncoder       │ 11.2 M │\u001b[37m \u001b[0m\u001b[37m[4, 5, 256, 256]\u001b[0m\u001b[37m \u001b[0m│\u001b[37m \u001b[0m\u001b[37m [4, 128]\u001b[0m\u001b[37m \u001b[0m│\n",
       "│\u001b[2m \u001b[0m\u001b[2m1 \u001b[0m\u001b[2m \u001b[0m│ head                │ Linear           │  3.4 K │\u001b[37m \u001b[0m\u001b[37m        [4, 128]\u001b[0m\u001b[37m \u001b[0m│\u001b[37m \u001b[0m\u001b[37m  [4, 26]\u001b[0m\u001b[37m \u001b[0m│\n",
       "│\u001b[2m \u001b[0m\u001b[2m2 \u001b[0m\u001b[2m \u001b[0m│ criterion           │ CrossEntropyLoss │      0 │\u001b[37m \u001b[0m\u001b[37m               ?\u001b[0m\u001b[37m \u001b[0m│\u001b[37m \u001b[0m\u001b[37m        ?\u001b[0m\u001b[37m \u001b[0m│\n",
       "│\u001b[2m \u001b[0m\u001b[2m3 \u001b[0m\u001b[2m \u001b[0m│ train_loss          │ MeanMetric       │      0 │\u001b[37m \u001b[0m\u001b[37m               ?\u001b[0m\u001b[37m \u001b[0m│\u001b[37m \u001b[0m\u001b[37m        ?\u001b[0m\u001b[37m \u001b[0m│\n",
       "│\u001b[2m \u001b[0m\u001b[2m4 \u001b[0m\u001b[2m \u001b[0m│ val_loss            │ MeanMetric       │      0 │\u001b[37m \u001b[0m\u001b[37m               ?\u001b[0m\u001b[37m \u001b[0m│\u001b[37m \u001b[0m\u001b[37m        ?\u001b[0m\u001b[37m \u001b[0m│\n",
       "│\u001b[2m \u001b[0m\u001b[2m5 \u001b[0m\u001b[2m \u001b[0m│ test_loss           │ MeanMetric       │      0 │\u001b[37m \u001b[0m\u001b[37m               ?\u001b[0m\u001b[37m \u001b[0m│\u001b[37m \u001b[0m\u001b[37m        ?\u001b[0m\u001b[37m \u001b[0m│\n",
       "│\u001b[2m \u001b[0m\u001b[2m6 \u001b[0m\u001b[2m \u001b[0m│ train_other_metrics │ MetricCollection │      0 │\u001b[37m \u001b[0m\u001b[37m               ?\u001b[0m\u001b[37m \u001b[0m│\u001b[37m \u001b[0m\u001b[37m        ?\u001b[0m\u001b[37m \u001b[0m│\n",
       "│\u001b[2m \u001b[0m\u001b[2m7 \u001b[0m\u001b[2m \u001b[0m│ val_other_metrics   │ MetricCollection │      0 │\u001b[37m \u001b[0m\u001b[37m               ?\u001b[0m\u001b[37m \u001b[0m│\u001b[37m \u001b[0m\u001b[37m        ?\u001b[0m\u001b[37m \u001b[0m│\n",
       "│\u001b[2m \u001b[0m\u001b[2m8 \u001b[0m\u001b[2m \u001b[0m│ test_other_metrics  │ MetricCollection │      0 │\u001b[37m \u001b[0m\u001b[37m               ?\u001b[0m\u001b[37m \u001b[0m│\u001b[37m \u001b[0m\u001b[37m        ?\u001b[0m\u001b[37m \u001b[0m│\n",
       "│\u001b[2m \u001b[0m\u001b[2m9 \u001b[0m\u001b[2m \u001b[0m│ train_plot_metrics  │ MetricCollection │      0 │\u001b[37m \u001b[0m\u001b[37m               ?\u001b[0m\u001b[37m \u001b[0m│\u001b[37m \u001b[0m\u001b[37m        ?\u001b[0m\u001b[37m \u001b[0m│\n",
       "│\u001b[2m \u001b[0m\u001b[2m10\u001b[0m\u001b[2m \u001b[0m│ val_plot_metrics    │ MetricCollection │      0 │\u001b[37m \u001b[0m\u001b[37m               ?\u001b[0m\u001b[37m \u001b[0m│\u001b[37m \u001b[0m\u001b[37m        ?\u001b[0m\u001b[37m \u001b[0m│\n",
       "│\u001b[2m \u001b[0m\u001b[2m11\u001b[0m\u001b[2m \u001b[0m│ test_plot_metrics   │ MetricCollection │      0 │\u001b[37m \u001b[0m\u001b[37m               ?\u001b[0m\u001b[37m \u001b[0m│\u001b[37m \u001b[0m\u001b[37m        ?\u001b[0m\u001b[37m \u001b[0m│\n",
       "└────┴─────────────────────┴──────────────────┴────────┴──────────────────┴───────────┘\n"
      ]
     },
     "metadata": {},
     "output_type": "display_data"
    },
    {
     "data": {
      "text/html": [
       "<pre style=\"white-space:pre;overflow-x:auto;line-height:normal;font-family:Menlo,'DejaVu Sans Mono',consolas,'Courier New',monospace\"><span style=\"font-weight: bold\">Trainable params</span>: 13.0 K                                                                                           \n",
       "<span style=\"font-weight: bold\">Non-trainable params</span>: 11.2 M                                                                                       \n",
       "<span style=\"font-weight: bold\">Total params</span>: 11.3 M                                                                                               \n",
       "<span style=\"font-weight: bold\">Total estimated model params size (MB)</span>: 45                                                                         \n",
       "</pre>\n"
      ],
      "text/plain": [
       "\u001b[1mTrainable params\u001b[0m: 13.0 K                                                                                           \n",
       "\u001b[1mNon-trainable params\u001b[0m: 11.2 M                                                                                       \n",
       "\u001b[1mTotal params\u001b[0m: 11.3 M                                                                                               \n",
       "\u001b[1mTotal estimated model params size (MB)\u001b[0m: 45                                                                         \n"
      ]
     },
     "metadata": {},
     "output_type": "display_data"
    },
    {
     "data": {
      "application/vnd.jupyter.widget-view+json": {
       "model_id": "cf5210e076e94491a1f5f04e5b5705c0",
       "version_major": 2,
       "version_minor": 0
      },
      "text/plain": [
       "Output()"
      ]
     },
     "metadata": {},
     "output_type": "display_data"
    },
    {
     "data": {
      "text/html": [
       "<pre style=\"white-space:pre;overflow-x:auto;line-height:normal;font-family:Menlo,'DejaVu Sans Mono',consolas,'Courier New',monospace\"></pre>\n"
      ],
      "text/plain": []
     },
     "metadata": {},
     "output_type": "display_data"
    },
    {
     "data": {
      "text/html": [
       "<pre style=\"white-space:pre;overflow-x:auto;line-height:normal;font-family:Menlo,'DejaVu Sans Mono',consolas,'Courier New',monospace\">\n",
       "</pre>\n"
      ],
      "text/plain": [
       "\n"
      ]
     },
     "metadata": {},
     "output_type": "display_data"
    },
    {
     "ename": "FileNotFoundError",
     "evalue": "Caught FileNotFoundError in DataLoader worker process 0.\nOriginal Traceback (most recent call last):\n  File \"/home/gwatk/miniconda3/envs/jump_models/lib/python3.10/site-packages/torch/utils/data/_utils/worker.py\", line 308, in _worker_loop\n    data = fetcher.fetch(index)\n  File \"/home/gwatk/miniconda3/envs/jump_models/lib/python3.10/site-packages/torch/utils/data/_utils/fetch.py\", line 51, in fetch\n    data = [self.dataset[idx] for idx in possibly_batched_index]\n  File \"/home/gwatk/miniconda3/envs/jump_models/lib/python3.10/site-packages/torch/utils/data/_utils/fetch.py\", line 51, in <listcomp>\n    data = [self.dataset[idx] for idx in possibly_batched_index]\n  File \"/mnt/2547d4d7-6732-4154-b0e1-17b0c1e0c565/Document-2/Projet2/Stage/workspace/jump_models/src/eval/moa/datamodule.py\", line 128, in __getitem__\n    img_array = load_image_paths_to_array(img_paths)  # A numpy array: (5, 768, 768)\n  File \"/mnt/2547d4d7-6732-4154-b0e1-17b0c1e0c565/Document-2/Projet2/Stage/workspace/jump_models/src/utils/io.py\", line 77, in load_image_paths_to_array\n    images.append(np.array(Image.open(image_path)))\n  File \"/home/gwatk/miniconda3/envs/jump_models/lib/python3.10/site-packages/PIL/Image.py\", line 3236, in open\n    fp = builtins.open(filename, \"rb\")\nFileNotFoundError: [Errno 2] No such file or directory: '/projects/cpjump2/jump/images/source_8/J3/A1170541/source_8__A1170541__J17__1__DNA.png'\n",
     "output_type": "error",
     "traceback": [
      "\u001b[0;31m---------------------------------------------------------------------------\u001b[0m",
      "\u001b[0;31mFileNotFoundError\u001b[0m                         Traceback (most recent call last)",
      "Cell \u001b[0;32mIn[30], line 1\u001b[0m\n\u001b[0;32m----> 1\u001b[0m evaluator_list\u001b[39m.\u001b[39;49mrun()\n",
      "File \u001b[0;32m/mnt/2547d4d7-6732-4154-b0e1-17b0c1e0c565/Document-2/Projet2/Stage/workspace/jump_models/src/eval/evaluators.py:131\u001b[0m, in \u001b[0;36mEvaluatorList.run\u001b[0;34m(self)\u001b[0m\n\u001b[1;32m    128\u001b[0m     \u001b[39mreturn\u001b[39;00m\n\u001b[1;32m    130\u001b[0m \u001b[39mfor\u001b[39;00m evaluator \u001b[39min\u001b[39;00m \u001b[39mself\u001b[39m\u001b[39m.\u001b[39mevaluators:\n\u001b[0;32m--> 131\u001b[0m     evaluator\u001b[39m.\u001b[39;49mrun()\n",
      "File \u001b[0;32m/mnt/2547d4d7-6732-4154-b0e1-17b0c1e0c565/Document-2/Projet2/Stage/workspace/jump_models/src/eval/evaluators.py:60\u001b[0m, in \u001b[0;36mEvaluator.run\u001b[0;34m(self)\u001b[0m\n\u001b[1;32m     58\u001b[0m \u001b[39mdef\u001b[39;00m \u001b[39mrun\u001b[39m(\u001b[39mself\u001b[39m):\n\u001b[1;32m     59\u001b[0m \u001b[39m    \u001b[39m\u001b[39m\"\"\"Run the evaluator.\"\"\"\u001b[39;00m\n\u001b[0;32m---> 60\u001b[0m     \u001b[39mself\u001b[39;49m\u001b[39m.\u001b[39;49mfinetune()\n\u001b[1;32m     61\u001b[0m     \u001b[39mself\u001b[39m\u001b[39m.\u001b[39mevaluate()\n\u001b[1;32m     62\u001b[0m     \u001b[39mself\u001b[39m\u001b[39m.\u001b[39mvisualize(\u001b[39m*\u001b[39m\u001b[39m*\u001b[39m\u001b[39mself\u001b[39m\u001b[39m.\u001b[39mvisualize_kwargs)\n",
      "File \u001b[0;32m/mnt/2547d4d7-6732-4154-b0e1-17b0c1e0c565/Document-2/Projet2/Stage/workspace/jump_models/src/eval/evaluators.py:46\u001b[0m, in \u001b[0;36mEvaluator.finetune\u001b[0;34m(self)\u001b[0m\n\u001b[1;32m     44\u001b[0m \u001b[39m\u001b[39m\u001b[39m\"\"\"Finetune the model.\"\"\"\u001b[39;00m\n\u001b[1;32m     45\u001b[0m logger\u001b[39m.\u001b[39minfo(\u001b[39mf\u001b[39m\u001b[39m\"\u001b[39m\u001b[39m{\u001b[39;00m\u001b[39mself\u001b[39m\u001b[39m.\u001b[39mprefix\u001b[39m}\u001b[39;00m\u001b[39mFinetuning \u001b[39m\u001b[39m{\u001b[39;00m\u001b[39mself\u001b[39m\u001b[39m.\u001b[39mmodel\u001b[39m}\u001b[39;00m\u001b[39m on \u001b[39m\u001b[39m{\u001b[39;00m\u001b[39mself\u001b[39m\u001b[39m.\u001b[39mdatamodule\u001b[39m}\u001b[39;00m\u001b[39m\"\u001b[39m)\n\u001b[0;32m---> 46\u001b[0m \u001b[39mself\u001b[39;49m\u001b[39m.\u001b[39;49mtrainer\u001b[39m.\u001b[39;49mfit(model\u001b[39m=\u001b[39;49m\u001b[39mself\u001b[39;49m\u001b[39m.\u001b[39;49mmodel, datamodule\u001b[39m=\u001b[39;49m\u001b[39mself\u001b[39;49m\u001b[39m.\u001b[39;49mdatamodule)\n",
      "File \u001b[0;32m~/miniconda3/envs/jump_models/lib/python3.10/site-packages/lightning/pytorch/trainer/trainer.py:532\u001b[0m, in \u001b[0;36mTrainer.fit\u001b[0;34m(self, model, train_dataloaders, val_dataloaders, datamodule, ckpt_path)\u001b[0m\n\u001b[1;32m    530\u001b[0m \u001b[39mself\u001b[39m\u001b[39m.\u001b[39mstrategy\u001b[39m.\u001b[39m_lightning_module \u001b[39m=\u001b[39m model\n\u001b[1;32m    531\u001b[0m _verify_strategy_supports_compile(model, \u001b[39mself\u001b[39m\u001b[39m.\u001b[39mstrategy)\n\u001b[0;32m--> 532\u001b[0m call\u001b[39m.\u001b[39;49m_call_and_handle_interrupt(\n\u001b[1;32m    533\u001b[0m     \u001b[39mself\u001b[39;49m, \u001b[39mself\u001b[39;49m\u001b[39m.\u001b[39;49m_fit_impl, model, train_dataloaders, val_dataloaders, datamodule, ckpt_path\n\u001b[1;32m    534\u001b[0m )\n",
      "File \u001b[0;32m~/miniconda3/envs/jump_models/lib/python3.10/site-packages/lightning/pytorch/trainer/call.py:43\u001b[0m, in \u001b[0;36m_call_and_handle_interrupt\u001b[0;34m(trainer, trainer_fn, *args, **kwargs)\u001b[0m\n\u001b[1;32m     41\u001b[0m     \u001b[39mif\u001b[39;00m trainer\u001b[39m.\u001b[39mstrategy\u001b[39m.\u001b[39mlauncher \u001b[39mis\u001b[39;00m \u001b[39mnot\u001b[39;00m \u001b[39mNone\u001b[39;00m:\n\u001b[1;32m     42\u001b[0m         \u001b[39mreturn\u001b[39;00m trainer\u001b[39m.\u001b[39mstrategy\u001b[39m.\u001b[39mlauncher\u001b[39m.\u001b[39mlaunch(trainer_fn, \u001b[39m*\u001b[39margs, trainer\u001b[39m=\u001b[39mtrainer, \u001b[39m*\u001b[39m\u001b[39m*\u001b[39mkwargs)\n\u001b[0;32m---> 43\u001b[0m     \u001b[39mreturn\u001b[39;00m trainer_fn(\u001b[39m*\u001b[39;49margs, \u001b[39m*\u001b[39;49m\u001b[39m*\u001b[39;49mkwargs)\n\u001b[1;32m     45\u001b[0m \u001b[39mexcept\u001b[39;00m _TunerExitException:\n\u001b[1;32m     46\u001b[0m     _call_teardown_hook(trainer)\n",
      "File \u001b[0;32m~/miniconda3/envs/jump_models/lib/python3.10/site-packages/lightning/pytorch/trainer/trainer.py:571\u001b[0m, in \u001b[0;36mTrainer._fit_impl\u001b[0;34m(self, model, train_dataloaders, val_dataloaders, datamodule, ckpt_path)\u001b[0m\n\u001b[1;32m    561\u001b[0m \u001b[39mself\u001b[39m\u001b[39m.\u001b[39m_data_connector\u001b[39m.\u001b[39mattach_data(\n\u001b[1;32m    562\u001b[0m     model, train_dataloaders\u001b[39m=\u001b[39mtrain_dataloaders, val_dataloaders\u001b[39m=\u001b[39mval_dataloaders, datamodule\u001b[39m=\u001b[39mdatamodule\n\u001b[1;32m    563\u001b[0m )\n\u001b[1;32m    565\u001b[0m ckpt_path \u001b[39m=\u001b[39m \u001b[39mself\u001b[39m\u001b[39m.\u001b[39m_checkpoint_connector\u001b[39m.\u001b[39m_select_ckpt_path(\n\u001b[1;32m    566\u001b[0m     \u001b[39mself\u001b[39m\u001b[39m.\u001b[39mstate\u001b[39m.\u001b[39mfn,\n\u001b[1;32m    567\u001b[0m     ckpt_path,\n\u001b[1;32m    568\u001b[0m     model_provided\u001b[39m=\u001b[39m\u001b[39mTrue\u001b[39;00m,\n\u001b[1;32m    569\u001b[0m     model_connected\u001b[39m=\u001b[39m\u001b[39mself\u001b[39m\u001b[39m.\u001b[39mlightning_module \u001b[39mis\u001b[39;00m \u001b[39mnot\u001b[39;00m \u001b[39mNone\u001b[39;00m,\n\u001b[1;32m    570\u001b[0m )\n\u001b[0;32m--> 571\u001b[0m \u001b[39mself\u001b[39;49m\u001b[39m.\u001b[39;49m_run(model, ckpt_path\u001b[39m=\u001b[39;49mckpt_path)\n\u001b[1;32m    573\u001b[0m \u001b[39massert\u001b[39;00m \u001b[39mself\u001b[39m\u001b[39m.\u001b[39mstate\u001b[39m.\u001b[39mstopped\n\u001b[1;32m    574\u001b[0m \u001b[39mself\u001b[39m\u001b[39m.\u001b[39mtraining \u001b[39m=\u001b[39m \u001b[39mFalse\u001b[39;00m\n",
      "File \u001b[0;32m~/miniconda3/envs/jump_models/lib/python3.10/site-packages/lightning/pytorch/trainer/trainer.py:980\u001b[0m, in \u001b[0;36mTrainer._run\u001b[0;34m(self, model, ckpt_path)\u001b[0m\n\u001b[1;32m    975\u001b[0m \u001b[39mself\u001b[39m\u001b[39m.\u001b[39m_signal_connector\u001b[39m.\u001b[39mregister_signal_handlers()\n\u001b[1;32m    977\u001b[0m \u001b[39m# ----------------------------\u001b[39;00m\n\u001b[1;32m    978\u001b[0m \u001b[39m# RUN THE TRAINER\u001b[39;00m\n\u001b[1;32m    979\u001b[0m \u001b[39m# ----------------------------\u001b[39;00m\n\u001b[0;32m--> 980\u001b[0m results \u001b[39m=\u001b[39m \u001b[39mself\u001b[39;49m\u001b[39m.\u001b[39;49m_run_stage()\n\u001b[1;32m    982\u001b[0m \u001b[39m# ----------------------------\u001b[39;00m\n\u001b[1;32m    983\u001b[0m \u001b[39m# POST-Training CLEAN UP\u001b[39;00m\n\u001b[1;32m    984\u001b[0m \u001b[39m# ----------------------------\u001b[39;00m\n\u001b[1;32m    985\u001b[0m log\u001b[39m.\u001b[39mdebug(\u001b[39mf\u001b[39m\u001b[39m\"\u001b[39m\u001b[39m{\u001b[39;00m\u001b[39mself\u001b[39m\u001b[39m.\u001b[39m\u001b[39m__class__\u001b[39m\u001b[39m.\u001b[39m\u001b[39m__name__\u001b[39m\u001b[39m}\u001b[39;00m\u001b[39m: trainer tearing down\u001b[39m\u001b[39m\"\u001b[39m)\n",
      "File \u001b[0;32m~/miniconda3/envs/jump_models/lib/python3.10/site-packages/lightning/pytorch/trainer/trainer.py:1021\u001b[0m, in \u001b[0;36mTrainer._run_stage\u001b[0;34m(self)\u001b[0m\n\u001b[1;32m   1019\u001b[0m \u001b[39mif\u001b[39;00m \u001b[39mself\u001b[39m\u001b[39m.\u001b[39mtraining:\n\u001b[1;32m   1020\u001b[0m     \u001b[39mwith\u001b[39;00m isolate_rng():\n\u001b[0;32m-> 1021\u001b[0m         \u001b[39mself\u001b[39;49m\u001b[39m.\u001b[39;49m_run_sanity_check()\n\u001b[1;32m   1022\u001b[0m     \u001b[39mwith\u001b[39;00m torch\u001b[39m.\u001b[39mautograd\u001b[39m.\u001b[39mset_detect_anomaly(\u001b[39mself\u001b[39m\u001b[39m.\u001b[39m_detect_anomaly):\n\u001b[1;32m   1023\u001b[0m         \u001b[39mself\u001b[39m\u001b[39m.\u001b[39mfit_loop\u001b[39m.\u001b[39mrun()\n",
      "File \u001b[0;32m~/miniconda3/envs/jump_models/lib/python3.10/site-packages/lightning/pytorch/trainer/trainer.py:1050\u001b[0m, in \u001b[0;36mTrainer._run_sanity_check\u001b[0;34m(self)\u001b[0m\n\u001b[1;32m   1047\u001b[0m call\u001b[39m.\u001b[39m_call_callback_hooks(\u001b[39mself\u001b[39m, \u001b[39m\"\u001b[39m\u001b[39mon_sanity_check_start\u001b[39m\u001b[39m\"\u001b[39m)\n\u001b[1;32m   1049\u001b[0m \u001b[39m# run eval step\u001b[39;00m\n\u001b[0;32m-> 1050\u001b[0m val_loop\u001b[39m.\u001b[39;49mrun()\n\u001b[1;32m   1052\u001b[0m call\u001b[39m.\u001b[39m_call_callback_hooks(\u001b[39mself\u001b[39m, \u001b[39m\"\u001b[39m\u001b[39mon_sanity_check_end\u001b[39m\u001b[39m\"\u001b[39m)\n\u001b[1;32m   1054\u001b[0m \u001b[39m# reset logger connector\u001b[39;00m\n",
      "File \u001b[0;32m~/miniconda3/envs/jump_models/lib/python3.10/site-packages/lightning/pytorch/loops/utilities.py:181\u001b[0m, in \u001b[0;36m_no_grad_context.<locals>._decorator\u001b[0;34m(self, *args, **kwargs)\u001b[0m\n\u001b[1;32m    179\u001b[0m     context_manager \u001b[39m=\u001b[39m torch\u001b[39m.\u001b[39mno_grad\n\u001b[1;32m    180\u001b[0m \u001b[39mwith\u001b[39;00m context_manager():\n\u001b[0;32m--> 181\u001b[0m     \u001b[39mreturn\u001b[39;00m loop_run(\u001b[39mself\u001b[39;49m, \u001b[39m*\u001b[39;49margs, \u001b[39m*\u001b[39;49m\u001b[39m*\u001b[39;49mkwargs)\n",
      "File \u001b[0;32m~/miniconda3/envs/jump_models/lib/python3.10/site-packages/lightning/pytorch/loops/evaluation_loop.py:108\u001b[0m, in \u001b[0;36m_EvaluationLoop.run\u001b[0;34m(self)\u001b[0m\n\u001b[1;32m    106\u001b[0m \u001b[39mwhile\u001b[39;00m \u001b[39mTrue\u001b[39;00m:\n\u001b[1;32m    107\u001b[0m     \u001b[39mtry\u001b[39;00m:\n\u001b[0;32m--> 108\u001b[0m         batch, batch_idx, dataloader_idx \u001b[39m=\u001b[39m \u001b[39mnext\u001b[39;49m(data_fetcher)\n\u001b[1;32m    109\u001b[0m         \u001b[39mself\u001b[39m\u001b[39m.\u001b[39mbatch_progress\u001b[39m.\u001b[39mis_last_batch \u001b[39m=\u001b[39m data_fetcher\u001b[39m.\u001b[39mdone\n\u001b[1;32m    110\u001b[0m         \u001b[39mif\u001b[39;00m previous_dataloader_idx \u001b[39m!=\u001b[39m dataloader_idx:\n\u001b[1;32m    111\u001b[0m             \u001b[39m# the dataloader has changed, notify the logger connector\u001b[39;00m\n",
      "File \u001b[0;32m~/miniconda3/envs/jump_models/lib/python3.10/site-packages/lightning/pytorch/loops/fetchers.py:137\u001b[0m, in \u001b[0;36m_PrefetchDataFetcher.__next__\u001b[0;34m(self)\u001b[0m\n\u001b[1;32m    134\u001b[0m \u001b[39melif\u001b[39;00m \u001b[39mnot\u001b[39;00m \u001b[39mself\u001b[39m\u001b[39m.\u001b[39mdone:\n\u001b[1;32m    135\u001b[0m     \u001b[39m# this will run only when no pre-fetching was done.\u001b[39;00m\n\u001b[1;32m    136\u001b[0m     \u001b[39mtry\u001b[39;00m:\n\u001b[0;32m--> 137\u001b[0m         \u001b[39mself\u001b[39;49m\u001b[39m.\u001b[39;49m_fetch_next_batch(\u001b[39mself\u001b[39;49m\u001b[39m.\u001b[39;49mdataloader_iter)\n\u001b[1;32m    138\u001b[0m         \u001b[39m# consume the batch we just fetched\u001b[39;00m\n\u001b[1;32m    139\u001b[0m         batch \u001b[39m=\u001b[39m \u001b[39mself\u001b[39m\u001b[39m.\u001b[39mbatches\u001b[39m.\u001b[39mpop(\u001b[39m0\u001b[39m)\n",
      "File \u001b[0;32m~/miniconda3/envs/jump_models/lib/python3.10/site-packages/lightning/pytorch/loops/fetchers.py:151\u001b[0m, in \u001b[0;36m_PrefetchDataFetcher._fetch_next_batch\u001b[0;34m(self, iterator)\u001b[0m\n\u001b[1;32m    149\u001b[0m \u001b[39mself\u001b[39m\u001b[39m.\u001b[39m_start_profiler()\n\u001b[1;32m    150\u001b[0m \u001b[39mtry\u001b[39;00m:\n\u001b[0;32m--> 151\u001b[0m     batch \u001b[39m=\u001b[39m \u001b[39mnext\u001b[39;49m(iterator)\n\u001b[1;32m    152\u001b[0m \u001b[39mfinally\u001b[39;00m:\n\u001b[1;32m    153\u001b[0m     \u001b[39mself\u001b[39m\u001b[39m.\u001b[39m_stop_profiler()\n",
      "File \u001b[0;32m~/miniconda3/envs/jump_models/lib/python3.10/site-packages/lightning/pytorch/utilities/combined_loader.py:285\u001b[0m, in \u001b[0;36mCombinedLoader.__next__\u001b[0;34m(self)\u001b[0m\n\u001b[1;32m    283\u001b[0m \u001b[39mdef\u001b[39;00m \u001b[39m__next__\u001b[39m(\u001b[39mself\u001b[39m) \u001b[39m-\u001b[39m\u001b[39m>\u001b[39m Any:\n\u001b[1;32m    284\u001b[0m     \u001b[39massert\u001b[39;00m \u001b[39mself\u001b[39m\u001b[39m.\u001b[39m_iterator \u001b[39mis\u001b[39;00m \u001b[39mnot\u001b[39;00m \u001b[39mNone\u001b[39;00m\n\u001b[0;32m--> 285\u001b[0m     out \u001b[39m=\u001b[39m \u001b[39mnext\u001b[39;49m(\u001b[39mself\u001b[39;49m\u001b[39m.\u001b[39;49m_iterator)\n\u001b[1;32m    286\u001b[0m     \u001b[39mif\u001b[39;00m \u001b[39misinstance\u001b[39m(\u001b[39mself\u001b[39m\u001b[39m.\u001b[39m_iterator, _Sequential):\n\u001b[1;32m    287\u001b[0m         \u001b[39mreturn\u001b[39;00m out\n",
      "File \u001b[0;32m~/miniconda3/envs/jump_models/lib/python3.10/site-packages/lightning/pytorch/utilities/combined_loader.py:123\u001b[0m, in \u001b[0;36m_Sequential.__next__\u001b[0;34m(self)\u001b[0m\n\u001b[1;32m    120\u001b[0m             \u001b[39mraise\u001b[39;00m \u001b[39mStopIteration\u001b[39;00m\n\u001b[1;32m    122\u001b[0m \u001b[39mtry\u001b[39;00m:\n\u001b[0;32m--> 123\u001b[0m     out \u001b[39m=\u001b[39m \u001b[39mnext\u001b[39;49m(\u001b[39mself\u001b[39;49m\u001b[39m.\u001b[39;49miterators[\u001b[39m0\u001b[39;49m])\n\u001b[1;32m    124\u001b[0m     index \u001b[39m=\u001b[39m \u001b[39mself\u001b[39m\u001b[39m.\u001b[39m_idx\n\u001b[1;32m    125\u001b[0m     \u001b[39mself\u001b[39m\u001b[39m.\u001b[39m_idx \u001b[39m+\u001b[39m\u001b[39m=\u001b[39m \u001b[39m1\u001b[39m\n",
      "File \u001b[0;32m~/miniconda3/envs/jump_models/lib/python3.10/site-packages/torch/utils/data/dataloader.py:634\u001b[0m, in \u001b[0;36m_BaseDataLoaderIter.__next__\u001b[0;34m(self)\u001b[0m\n\u001b[1;32m    631\u001b[0m \u001b[39mif\u001b[39;00m \u001b[39mself\u001b[39m\u001b[39m.\u001b[39m_sampler_iter \u001b[39mis\u001b[39;00m \u001b[39mNone\u001b[39;00m:\n\u001b[1;32m    632\u001b[0m     \u001b[39m# TODO(https://github.com/pytorch/pytorch/issues/76750)\u001b[39;00m\n\u001b[1;32m    633\u001b[0m     \u001b[39mself\u001b[39m\u001b[39m.\u001b[39m_reset()  \u001b[39m# type: ignore[call-arg]\u001b[39;00m\n\u001b[0;32m--> 634\u001b[0m data \u001b[39m=\u001b[39m \u001b[39mself\u001b[39;49m\u001b[39m.\u001b[39;49m_next_data()\n\u001b[1;32m    635\u001b[0m \u001b[39mself\u001b[39m\u001b[39m.\u001b[39m_num_yielded \u001b[39m+\u001b[39m\u001b[39m=\u001b[39m \u001b[39m1\u001b[39m\n\u001b[1;32m    636\u001b[0m \u001b[39mif\u001b[39;00m \u001b[39mself\u001b[39m\u001b[39m.\u001b[39m_dataset_kind \u001b[39m==\u001b[39m _DatasetKind\u001b[39m.\u001b[39mIterable \u001b[39mand\u001b[39;00m \\\n\u001b[1;32m    637\u001b[0m         \u001b[39mself\u001b[39m\u001b[39m.\u001b[39m_IterableDataset_len_called \u001b[39mis\u001b[39;00m \u001b[39mnot\u001b[39;00m \u001b[39mNone\u001b[39;00m \u001b[39mand\u001b[39;00m \\\n\u001b[1;32m    638\u001b[0m         \u001b[39mself\u001b[39m\u001b[39m.\u001b[39m_num_yielded \u001b[39m>\u001b[39m \u001b[39mself\u001b[39m\u001b[39m.\u001b[39m_IterableDataset_len_called:\n",
      "File \u001b[0;32m~/miniconda3/envs/jump_models/lib/python3.10/site-packages/torch/utils/data/dataloader.py:1346\u001b[0m, in \u001b[0;36m_MultiProcessingDataLoaderIter._next_data\u001b[0;34m(self)\u001b[0m\n\u001b[1;32m   1344\u001b[0m \u001b[39melse\u001b[39;00m:\n\u001b[1;32m   1345\u001b[0m     \u001b[39mdel\u001b[39;00m \u001b[39mself\u001b[39m\u001b[39m.\u001b[39m_task_info[idx]\n\u001b[0;32m-> 1346\u001b[0m     \u001b[39mreturn\u001b[39;00m \u001b[39mself\u001b[39;49m\u001b[39m.\u001b[39;49m_process_data(data)\n",
      "File \u001b[0;32m~/miniconda3/envs/jump_models/lib/python3.10/site-packages/torch/utils/data/dataloader.py:1372\u001b[0m, in \u001b[0;36m_MultiProcessingDataLoaderIter._process_data\u001b[0;34m(self, data)\u001b[0m\n\u001b[1;32m   1370\u001b[0m \u001b[39mself\u001b[39m\u001b[39m.\u001b[39m_try_put_index()\n\u001b[1;32m   1371\u001b[0m \u001b[39mif\u001b[39;00m \u001b[39misinstance\u001b[39m(data, ExceptionWrapper):\n\u001b[0;32m-> 1372\u001b[0m     data\u001b[39m.\u001b[39;49mreraise()\n\u001b[1;32m   1373\u001b[0m \u001b[39mreturn\u001b[39;00m data\n",
      "File \u001b[0;32m~/miniconda3/envs/jump_models/lib/python3.10/site-packages/torch/_utils.py:644\u001b[0m, in \u001b[0;36mExceptionWrapper.reraise\u001b[0;34m(self)\u001b[0m\n\u001b[1;32m    640\u001b[0m \u001b[39mexcept\u001b[39;00m \u001b[39mTypeError\u001b[39;00m:\n\u001b[1;32m    641\u001b[0m     \u001b[39m# If the exception takes multiple arguments, don't try to\u001b[39;00m\n\u001b[1;32m    642\u001b[0m     \u001b[39m# instantiate since we don't know how to\u001b[39;00m\n\u001b[1;32m    643\u001b[0m     \u001b[39mraise\u001b[39;00m \u001b[39mRuntimeError\u001b[39;00m(msg) \u001b[39mfrom\u001b[39;00m \u001b[39mNone\u001b[39;00m\n\u001b[0;32m--> 644\u001b[0m \u001b[39mraise\u001b[39;00m exception\n",
      "\u001b[0;31mFileNotFoundError\u001b[0m: Caught FileNotFoundError in DataLoader worker process 0.\nOriginal Traceback (most recent call last):\n  File \"/home/gwatk/miniconda3/envs/jump_models/lib/python3.10/site-packages/torch/utils/data/_utils/worker.py\", line 308, in _worker_loop\n    data = fetcher.fetch(index)\n  File \"/home/gwatk/miniconda3/envs/jump_models/lib/python3.10/site-packages/torch/utils/data/_utils/fetch.py\", line 51, in fetch\n    data = [self.dataset[idx] for idx in possibly_batched_index]\n  File \"/home/gwatk/miniconda3/envs/jump_models/lib/python3.10/site-packages/torch/utils/data/_utils/fetch.py\", line 51, in <listcomp>\n    data = [self.dataset[idx] for idx in possibly_batched_index]\n  File \"/mnt/2547d4d7-6732-4154-b0e1-17b0c1e0c565/Document-2/Projet2/Stage/workspace/jump_models/src/eval/moa/datamodule.py\", line 128, in __getitem__\n    img_array = load_image_paths_to_array(img_paths)  # A numpy array: (5, 768, 768)\n  File \"/mnt/2547d4d7-6732-4154-b0e1-17b0c1e0c565/Document-2/Projet2/Stage/workspace/jump_models/src/utils/io.py\", line 77, in load_image_paths_to_array\n    images.append(np.array(Image.open(image_path)))\n  File \"/home/gwatk/miniconda3/envs/jump_models/lib/python3.10/site-packages/PIL/Image.py\", line 3236, in open\n    fp = builtins.open(filename, \"rb\")\nFileNotFoundError: [Errno 2] No such file or directory: '/projects/cpjump2/jump/images/source_8/J3/A1170541/source_8__A1170541__J17__1__DNA.png'\n"
     ]
    }
   ],
   "source": [
    "evaluator_list.run()"
   ]
  }
 ],
 "metadata": {
  "kernelspec": {
   "display_name": "jump_models",
   "language": "python",
   "name": "python3"
  },
  "language_info": {
   "codemirror_mode": {
    "name": "ipython",
    "version": 3
   },
   "file_extension": ".py",
   "mimetype": "text/x-python",
   "name": "python",
   "nbconvert_exporter": "python",
   "pygments_lexer": "ipython3",
   "version": "3.10.10"
  },
  "orig_nbformat": 4
 },
 "nbformat": 4,
 "nbformat_minor": 2
}
