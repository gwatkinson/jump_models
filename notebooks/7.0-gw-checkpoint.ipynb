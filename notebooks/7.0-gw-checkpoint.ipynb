{
 "cells": [
  {
   "cell_type": "markdown",
   "metadata": {},
   "source": [
    "# Using the pretrained model"
   ]
  },
  {
   "cell_type": "markdown",
   "metadata": {},
   "source": [
    "## Loading the checkpoint file"
   ]
  },
  {
   "cell_type": "code",
   "execution_count": 6,
   "metadata": {},
   "outputs": [],
   "source": [
    "import os\n",
    "\n",
    "import dgl\n",
    "import matplotlib.pyplot as plt\n",
    "import numpy as np\n",
    "import pandas as pd\n",
    "import plotly.express as px\n",
    "import torch\n",
    "from hydra import compose, initialize, initialize_config_dir, initialize_config_module\n",
    "from hydra.utils import instantiate\n",
    "from omegaconf import DictConfig, OmegaConf\n",
    "from sklearn.decomposition import PCA\n",
    "from sklearn.manifold import TSNE\n",
    "from torch.utils.data import DataLoader\n",
    "from tqdm.auto import tqdm\n",
    "from umap import UMAP\n",
    "\n",
    "from src.models.jump_cl.module import BasicJUMPModule\n",
    "from src.modules.molecules.dgllife_gat import GATPretrainedWithLinearHead, dgl_canonical_featurizer\n",
    "from src.modules.molecules.dgllife_gin import GINPretrainedWithLinearHead, dgl_pretrained_featurizer\n",
    "from src.splitters import RandomSplitter, ScaffoldSplitter"
   ]
  },
  {
   "cell_type": "code",
   "execution_count": 2,
   "metadata": {},
   "outputs": [
    {
     "data": {
      "text/plain": [
       "'/mnt/2547d4d7-6732-4154-b0e1-17b0c1e0c565/Document-2/Projet2/Stage/workspace/jump_models'"
      ]
     },
     "execution_count": 2,
     "metadata": {},
     "output_type": "execute_result"
    }
   ],
   "source": [
    "os.getcwd()"
   ]
  },
  {
   "cell_type": "code",
   "execution_count": 5,
   "metadata": {},
   "outputs": [],
   "source": [
    "ckpt = \"./models/runs/2023-07-25_16-12-29/checkpoints/last.ckpt\""
   ]
  },
  {
   "cell_type": "code",
   "execution_count": 3,
   "metadata": {},
   "outputs": [
    {
     "data": {
      "text/plain": [
       "hydra.initialize()"
      ]
     },
     "execution_count": 3,
     "metadata": {},
     "output_type": "execute_result"
    }
   ],
   "source": [
    "initialize(version_base=None, config_path=\"../models/runs/2023-07-25_16-12-29/.hydra/\")"
   ]
  },
  {
   "cell_type": "code",
   "execution_count": 4,
   "metadata": {},
   "outputs": [],
   "source": [
    "cfg = compose(config_name=\"config.yaml\")"
   ]
  },
  {
   "cell_type": "code",
   "execution_count": 9,
   "metadata": {},
   "outputs": [
    {
     "name": "stdout",
     "output_type": "stream",
     "text": [
      "Downloading gin_supervised_masking_pre_trained.pth from https://data.dgl.ai/dgllife/pre_trained/gin_supervised_masking.pth...\n",
      "Pretrained model loaded\n"
     ]
    }
   ],
   "source": [
    "image_encoder = instantiate(cfg.model.image_encoder)\n",
    "molecule_encoder = instantiate(cfg.model.molecule_encoder)\n",
    "criterion = instantiate(cfg.model.criterion)"
   ]
  },
  {
   "cell_type": "code",
   "execution_count": 14,
   "metadata": {},
   "outputs": [],
   "source": [
    "model = BasicJUMPModule.load_from_checkpoint(\n",
    "    ckpt,\n",
    "    image_encoder=image_encoder,\n",
    "    molecule_encoder=molecule_encoder,\n",
    "    criterion=criterion,\n",
    "    example_input_path=None,\n",
    "    map_location=torch.device(\"cuda:0\"),\n",
    ")"
   ]
  },
  {
   "cell_type": "code",
   "execution_count": 15,
   "metadata": {},
   "outputs": [
    {
     "data": {
      "text/plain": [
       "BasicJUMPModule(\n",
       "  (image_encoder): CNNEncoder(\n",
       "    (model): ResNet(\n",
       "      (conv1): Conv2d(3, 64, kernel_size=(7, 7), stride=(2, 2), padding=(3, 3), bias=False)\n",
       "      (bn1): BatchNorm2d(64, eps=1e-05, momentum=0.1, affine=True, track_running_stats=True)\n",
       "      (act1): ReLU(inplace=True)\n",
       "      (maxpool): MaxPool2d(kernel_size=3, stride=2, padding=1, dilation=1, ceil_mode=False)\n",
       "      (layer1): Sequential(\n",
       "        (0): BasicBlock(\n",
       "          (conv1): Conv2d(64, 64, kernel_size=(3, 3), stride=(1, 1), padding=(1, 1), bias=False)\n",
       "          (bn1): BatchNorm2d(64, eps=1e-05, momentum=0.1, affine=True, track_running_stats=True)\n",
       "          (drop_block): Identity()\n",
       "          (act1): ReLU(inplace=True)\n",
       "          (aa): Identity()\n",
       "          (conv2): Conv2d(64, 64, kernel_size=(3, 3), stride=(1, 1), padding=(1, 1), bias=False)\n",
       "          (bn2): BatchNorm2d(64, eps=1e-05, momentum=0.1, affine=True, track_running_stats=True)\n",
       "          (act2): ReLU(inplace=True)\n",
       "        )\n",
       "        (1): BasicBlock(\n",
       "          (conv1): Conv2d(64, 64, kernel_size=(3, 3), stride=(1, 1), padding=(1, 1), bias=False)\n",
       "          (bn1): BatchNorm2d(64, eps=1e-05, momentum=0.1, affine=True, track_running_stats=True)\n",
       "          (drop_block): Identity()\n",
       "          (act1): ReLU(inplace=True)\n",
       "          (aa): Identity()\n",
       "          (conv2): Conv2d(64, 64, kernel_size=(3, 3), stride=(1, 1), padding=(1, 1), bias=False)\n",
       "          (bn2): BatchNorm2d(64, eps=1e-05, momentum=0.1, affine=True, track_running_stats=True)\n",
       "          (act2): ReLU(inplace=True)\n",
       "        )\n",
       "      )\n",
       "      (layer2): Sequential(\n",
       "        (0): BasicBlock(\n",
       "          (conv1): Conv2d(64, 128, kernel_size=(3, 3), stride=(2, 2), padding=(1, 1), bias=False)\n",
       "          (bn1): BatchNorm2d(128, eps=1e-05, momentum=0.1, affine=True, track_running_stats=True)\n",
       "          (drop_block): Identity()\n",
       "          (act1): ReLU(inplace=True)\n",
       "          (aa): Identity()\n",
       "          (conv2): Conv2d(128, 128, kernel_size=(3, 3), stride=(1, 1), padding=(1, 1), bias=False)\n",
       "          (bn2): BatchNorm2d(128, eps=1e-05, momentum=0.1, affine=True, track_running_stats=True)\n",
       "          (act2): ReLU(inplace=True)\n",
       "          (downsample): Sequential(\n",
       "            (0): Conv2d(64, 128, kernel_size=(1, 1), stride=(2, 2), bias=False)\n",
       "            (1): BatchNorm2d(128, eps=1e-05, momentum=0.1, affine=True, track_running_stats=True)\n",
       "          )\n",
       "        )\n",
       "        (1): BasicBlock(\n",
       "          (conv1): Conv2d(128, 128, kernel_size=(3, 3), stride=(1, 1), padding=(1, 1), bias=False)\n",
       "          (bn1): BatchNorm2d(128, eps=1e-05, momentum=0.1, affine=True, track_running_stats=True)\n",
       "          (drop_block): Identity()\n",
       "          (act1): ReLU(inplace=True)\n",
       "          (aa): Identity()\n",
       "          (conv2): Conv2d(128, 128, kernel_size=(3, 3), stride=(1, 1), padding=(1, 1), bias=False)\n",
       "          (bn2): BatchNorm2d(128, eps=1e-05, momentum=0.1, affine=True, track_running_stats=True)\n",
       "          (act2): ReLU(inplace=True)\n",
       "        )\n",
       "      )\n",
       "      (layer3): Sequential(\n",
       "        (0): BasicBlock(\n",
       "          (conv1): Conv2d(128, 256, kernel_size=(3, 3), stride=(2, 2), padding=(1, 1), bias=False)\n",
       "          (bn1): BatchNorm2d(256, eps=1e-05, momentum=0.1, affine=True, track_running_stats=True)\n",
       "          (drop_block): Identity()\n",
       "          (act1): ReLU(inplace=True)\n",
       "          (aa): Identity()\n",
       "          (conv2): Conv2d(256, 256, kernel_size=(3, 3), stride=(1, 1), padding=(1, 1), bias=False)\n",
       "          (bn2): BatchNorm2d(256, eps=1e-05, momentum=0.1, affine=True, track_running_stats=True)\n",
       "          (act2): ReLU(inplace=True)\n",
       "          (downsample): Sequential(\n",
       "            (0): Conv2d(128, 256, kernel_size=(1, 1), stride=(2, 2), bias=False)\n",
       "            (1): BatchNorm2d(256, eps=1e-05, momentum=0.1, affine=True, track_running_stats=True)\n",
       "          )\n",
       "        )\n",
       "        (1): BasicBlock(\n",
       "          (conv1): Conv2d(256, 256, kernel_size=(3, 3), stride=(1, 1), padding=(1, 1), bias=False)\n",
       "          (bn1): BatchNorm2d(256, eps=1e-05, momentum=0.1, affine=True, track_running_stats=True)\n",
       "          (drop_block): Identity()\n",
       "          (act1): ReLU(inplace=True)\n",
       "          (aa): Identity()\n",
       "          (conv2): Conv2d(256, 256, kernel_size=(3, 3), stride=(1, 1), padding=(1, 1), bias=False)\n",
       "          (bn2): BatchNorm2d(256, eps=1e-05, momentum=0.1, affine=True, track_running_stats=True)\n",
       "          (act2): ReLU(inplace=True)\n",
       "        )\n",
       "      )\n",
       "      (layer4): Sequential(\n",
       "        (0): BasicBlock(\n",
       "          (conv1): Conv2d(256, 512, kernel_size=(3, 3), stride=(2, 2), padding=(1, 1), bias=False)\n",
       "          (bn1): BatchNorm2d(512, eps=1e-05, momentum=0.1, affine=True, track_running_stats=True)\n",
       "          (drop_block): Identity()\n",
       "          (act1): ReLU(inplace=True)\n",
       "          (aa): Identity()\n",
       "          (conv2): Conv2d(512, 512, kernel_size=(3, 3), stride=(1, 1), padding=(1, 1), bias=False)\n",
       "          (bn2): BatchNorm2d(512, eps=1e-05, momentum=0.1, affine=True, track_running_stats=True)\n",
       "          (act2): ReLU(inplace=True)\n",
       "          (downsample): Sequential(\n",
       "            (0): Conv2d(256, 512, kernel_size=(1, 1), stride=(2, 2), bias=False)\n",
       "            (1): BatchNorm2d(512, eps=1e-05, momentum=0.1, affine=True, track_running_stats=True)\n",
       "          )\n",
       "        )\n",
       "        (1): BasicBlock(\n",
       "          (conv1): Conv2d(512, 512, kernel_size=(3, 3), stride=(1, 1), padding=(1, 1), bias=False)\n",
       "          (bn1): BatchNorm2d(512, eps=1e-05, momentum=0.1, affine=True, track_running_stats=True)\n",
       "          (drop_block): Identity()\n",
       "          (act1): ReLU(inplace=True)\n",
       "          (aa): Identity()\n",
       "          (conv2): Conv2d(512, 512, kernel_size=(3, 3), stride=(1, 1), padding=(1, 1), bias=False)\n",
       "          (bn2): BatchNorm2d(512, eps=1e-05, momentum=0.1, affine=True, track_running_stats=True)\n",
       "          (act2): ReLU(inplace=True)\n",
       "        )\n",
       "      )\n",
       "      (global_pool): SelectAdaptivePool2d (pool_type=avg, flatten=Flatten(start_dim=1, end_dim=-1))\n",
       "      (fc): Identity()\n",
       "    )\n",
       "    (myfc): Linear(in_features=512, out_features=256, bias=True)\n",
       "    (dropouts): ModuleList(\n",
       "      (0-4): 5 x Dropout(p=0.5, inplace=False)\n",
       "    )\n",
       "  )\n",
       "  (molecule_encoder): GINPretrainedWithLinearHead(\n",
       "    (base_model): GIN(\n",
       "      (dropout): Dropout(p=0.5, inplace=False)\n",
       "      (node_embeddings): ModuleList(\n",
       "        (0): Embedding(120, 300)\n",
       "        (1): Embedding(3, 300)\n",
       "      )\n",
       "      (gnn_layers): ModuleList(\n",
       "        (0-4): 5 x GINLayer(\n",
       "          (mlp): Sequential(\n",
       "            (0): Linear(in_features=300, out_features=600, bias=True)\n",
       "            (1): ReLU()\n",
       "            (2): Linear(in_features=600, out_features=300, bias=True)\n",
       "          )\n",
       "          (edge_embeddings): ModuleList(\n",
       "            (0): Embedding(6, 300)\n",
       "            (1): Embedding(3, 300)\n",
       "          )\n",
       "          (bn): BatchNorm1d(300, eps=1e-05, momentum=0.1, affine=True, track_running_stats=True)\n",
       "        )\n",
       "      )\n",
       "    )\n",
       "    (pooler): AvgPooling()\n",
       "    (head): Linear(in_features=300, out_features=256, bias=True)\n",
       "  )\n",
       "  (criterion): ContrastiveLossWithTemperature()\n",
       "  (train_loss): MeanMetric()\n",
       "  (val_loss): MeanMetric()\n",
       "  (test_loss): MeanMetric()\n",
       "  (val_loss_min): MinMetric()\n",
       ")"
      ]
     },
     "execution_count": 15,
     "metadata": {},
     "output_type": "execute_result"
    }
   ],
   "source": [
    "model"
   ]
  },
  {
   "cell_type": "markdown",
   "metadata": {},
   "source": [
    "## Plotting the molecule embeddings"
   ]
  },
  {
   "cell_type": "code",
   "execution_count": 17,
   "metadata": {},
   "outputs": [],
   "source": [
    "split_path = \"../cpjump1/jump/models/splits/bigger_jump_cl\""
   ]
  },
  {
   "cell_type": "code",
   "execution_count": 18,
   "metadata": {},
   "outputs": [],
   "source": [
    "train_cpds = pd.read_csv(f\"{split_path}/train_ids.csv\").iloc[:, 0].tolist()\n",
    "test_cpds = pd.read_csv(f\"{split_path}/test_ids.csv\").iloc[:, 0].tolist()\n",
    "val_cpds = pd.read_csv(f\"{split_path}/val_ids.csv\").iloc[:, 0].tolist()\n",
    "\n",
    "compound_list = train_cpds + test_cpds + val_cpds"
   ]
  },
  {
   "cell_type": "code",
   "execution_count": 19,
   "metadata": {},
   "outputs": [],
   "source": [
    "splitter = ScaffoldSplitter(train=25000, test=3000, val=2000, compound_list=compound_list)"
   ]
  },
  {
   "cell_type": "code",
   "execution_count": 20,
   "metadata": {},
   "outputs": [],
   "source": [
    "scaffolds = splitter.generate_scaffolds()"
   ]
  },
  {
   "cell_type": "code",
   "execution_count": 21,
   "metadata": {},
   "outputs": [
    {
     "data": {
      "text/plain": [
       "device(type='cuda')"
      ]
     },
     "execution_count": 21,
     "metadata": {},
     "output_type": "execute_result"
    }
   ],
   "source": [
    "device = torch.device(\"cuda\" if torch.cuda.is_available() else \"cpu\")\n",
    "device"
   ]
  },
  {
   "cell_type": "code",
   "execution_count": 25,
   "metadata": {},
   "outputs": [],
   "source": [
    "def get_emb_from_smiles(smiles, model, featurizer, device, verbose=False):\n",
    "    model.to(device)\n",
    "    model.eval()\n",
    "\n",
    "    graphs = [featurizer(smile) for smile in smiles]\n",
    "    dl = DataLoader(graphs, batch_size=64, shuffle=False, collate_fn=dgl.batch)\n",
    "    feats = []\n",
    "\n",
    "    pbar = tqdm(dl) if verbose else dl\n",
    "    for b in pbar:\n",
    "        f = model.molecule_encoder(b.to(device))\n",
    "        feats.append(f.detach().cpu().numpy())\n",
    "\n",
    "    return np.concatenate(feats)"
   ]
  },
  {
   "cell_type": "code",
   "execution_count": 23,
   "metadata": {},
   "outputs": [],
   "source": [
    "n_ex = 100\n",
    "idx = list(range(2, 2 + 3 * n_ex, 3))"
   ]
  },
  {
   "cell_type": "code",
   "execution_count": 26,
   "metadata": {},
   "outputs": [
    {
     "data": {
      "application/vnd.jupyter.widget-view+json": {
       "model_id": "50d5bb78412f4632b89555eef1bb886c",
       "version_major": 2,
       "version_minor": 0
      },
      "text/plain": [
       "  0%|          | 0/100 [00:00<?, ?it/s]"
      ]
     },
     "metadata": {},
     "output_type": "display_data"
    }
   ],
   "source": [
    "scaffold_feats = []\n",
    "\n",
    "for i in tqdm(idx, leave=False):\n",
    "    scaffold_feats.append(\n",
    "        get_emb_from_smiles(\n",
    "            smiles=scaffolds[i], model=model, featurizer=dgl_pretrained_featurizer, device=device, verbose=False\n",
    "        )\n",
    "    )\n",
    "\n",
    "scaffold_index = np.concatenate([np.ones(scaf.shape[0]) * i for i, scaf in enumerate(scaffold_feats)])\n",
    "\n",
    "X = np.concatenate(scaffold_feats)\n",
    "y = scaffold_index"
   ]
  },
  {
   "cell_type": "code",
   "execution_count": 31,
   "metadata": {},
   "outputs": [],
   "source": [
    "tsne_proj = TSNE(n_components=2, perplexity=50, n_jobs=-1).fit_transform(X)\n",
    "pca_proj = PCA(n_components=2).fit_transform(X)\n",
    "umap_proj = UMAP(n_components=2, n_neighbors=50).fit_transform(X)"
   ]
  },
  {
   "cell_type": "code",
   "execution_count": 32,
   "metadata": {},
   "outputs": [],
   "source": [
    "df = pd.DataFrame(tsne_proj, columns=[\"tsne-x\", \"tsne-y\"])\n",
    "df[\"pca-x\"] = pca_proj[:, 0]\n",
    "df[\"pca-y\"] = pca_proj[:, 1]\n",
    "df[\"umap-x\"] = umap_proj[:, 0]\n",
    "df[\"umap-y\"] = umap_proj[:, 1]\n",
    "df[\"scaffold\"] = y.astype(int).astype(str)\n",
    "df[\"inchi\"] = np.concatenate([scaffolds[i] for i in idx])"
   ]
  },
  {
   "cell_type": "code",
   "execution_count": 33,
   "metadata": {},
   "outputs": [
    {
     "data": {
      "application/vnd.plotly.v1+json": {
       "config": {
        "plotlyServerURL": "https://plot.ly"
       },
       "data": [
        {
         "hovertemplate": "scaffold=0<br>tsne-x=%{x}<br>tsne-y=%{y}<extra></extra>",
         "legendgroup": "0",
         "marker": {
          "color": "#636efa",
          "symbol": "circle"
         },
         "mode": "markers",
         "name": "0",
         "showlegend": true,
         "type": "scattergl",
         "x": [
          1.1460325717926025,
          8.709757804870605,
          8.00742244720459,
          -2.0858490467071533,
          -11.838651657104492,
          -7.050118923187256,
          5.600643157958984,
          1.110918402671814,
          -17.778575897216797,
          23.755136489868164,
          10.110931396484375,
          4.558780670166016,
          -20.179893493652344,
          23.176237106323242,
          23.619070053100586,
          10.10991382598877,
          4.713845729827881,
          23.96830940246582,
          33.07276153564453,
          22.729028701782227,
          23.85129737854004,
          -5.700209140777588,
          -20.189626693725586,
          -0.824117124080658,
          -5.365301609039307,
          -0.7742879986763,
          -15.25287914276123,
          -2.4360098838806152,
          26.766103744506836,
          -2.761136531829834,
          2.3573341369628906,
          7.85396671295166,
          13.26510238647461,
          10.731189727783203,
          18.905622482299805,
          20.019561767578125,
          17.078702926635742,
          12.277935028076172,
          7.966174602508545,
          1.3947862386703491,
          18.558250427246094,
          -2.645930767059326,
          23.790489196777344,
          -0.1585255116224289,
          -3.643671989440918,
          23.784868240356445,
          22.634727478027344,
          -7.410656452178955,
          2.74688720703125,
          18.869260787963867,
          26.090042114257812,
          -7.6579365730285645,
          -2.8588826656341553,
          -7.054630756378174,
          16.423250198364258,
          26.24675941467285,
          -22.915111541748047,
          32.216163635253906,
          4.67218542098999,
          -3.7643368244171143,
          -1.9569087028503418,
          3.9680323600769043,
          0.6769956350326538,
          20.081607818603516,
          7.377685546875,
          1.4385690689086914,
          14.044679641723633,
          23.166919708251953,
          -8.124242782592773,
          -4.4582624435424805,
          16.073558807373047,
          -1.0585297346115112,
          -3.4450857639312744,
          -1.3564893007278442,
          -5.5554962158203125,
          -1.6255725622177124,
          23.960111618041992,
          30.17830467224121,
          2.028433322906494,
          25.515140533447266,
          24.81034278869629,
          -22.91782569885254,
          -2.796571731567383,
          24.736387252807617,
          -2.3904478549957275,
          15.371702194213867,
          1.3656409978866577,
          -0.5869019031524658,
          -2.3166608810424805,
          -42.81777572631836,
          29.989965438842773,
          -5.303849220275879,
          -31.37624740600586,
          -6.01991605758667,
          -2.312873601913452,
          -5.300281047821045,
          19.571441650390625,
          12.704439163208008,
          12.745562553405762,
          -3.307935953140259,
          -8.336536407470703,
          -11.37240982055664,
          -21.530675888061523,
          24.587717056274414,
          -31.380950927734375,
          -9.300079345703125,
          5.870760917663574,
          -6.038137912750244,
          -6.026815414428711,
          15.546234130859375,
          -2.293282985687256,
          23.681554794311523,
          -11.923415184020996,
          3.754014492034912,
          8.76089096069336,
          23.2204532623291,
          -12.521402359008789,
          24.412212371826172,
          -2.409743547439575,
          -5.8760294914245605,
          -3.9223904609680176,
          23.695274353027344,
          -12.045064926147461,
          -0.35842350125312805,
          -3.069082736968994,
          0.20019209384918213,
          14.900956153869629,
          -0.6473778486251831,
          -2.871239185333252,
          -1.2759944200515747,
          24.50381088256836,
          8.04194450378418,
          13.306750297546387,
          -1.028541922569275,
          7.028347015380859,
          -42.603111267089844,
          6.7442240715026855,
          23.78440284729004,
          -42.61848831176758,
          1.1036431789398193,
          25.978506088256836,
          -1.7665847539901733,
          7.808974742889404,
          6.71705961227417,
          13.314866065979004,
          5.665163993835449,
          -2.1115806102752686,
          19.030088424682617
         ],
         "xaxis": "x",
         "y": [
          -29.03562355041504,
          -19.387800216674805,
          -26.76165771484375,
          -22.341562271118164,
          -37.1294059753418,
          12.032210350036621,
          -23.419715881347656,
          -18.25177764892578,
          -31.084976196289062,
          -19.793712615966797,
          42.78786087036133,
          -22.419185638427734,
          1.1475507020950317,
          -21.438133239746094,
          -19.548431396484375,
          42.78802490234375,
          23.84299087524414,
          -22.674047470092773,
          1.2995353937149048,
          -21.2618465423584,
          -21.28453254699707,
          -24.970966339111328,
          1.1736799478530884,
          -21.292922973632812,
          -22.115083694458008,
          -24.63418197631836,
          -1.3840917348861694,
          -13.246150016784668,
          -19.487613677978516,
          -29.098777770996094,
          -12.251360893249512,
          -17.106164932250977,
          22.704797744750977,
          -11.341656684875488,
          -20.192367553710938,
          -19.467226028442383,
          -20.786094665527344,
          2.3399436473846436,
          -17.18138313293457,
          -17.85863494873047,
          -1.0515886545181274,
          -20.7913818359375,
          -22.862882614135742,
          -13.40278434753418,
          -24.25664710998535,
          -16.92692756652832,
          -18.76194190979004,
          -25.158681869506836,
          9.302156448364258,
          -14.173518180847168,
          -19.54697036743164,
          -18.488384246826172,
          -22.125032424926758,
          -25.088640213012695,
          -21.93071746826172,
          -19.67527961730957,
          3.1217496395111084,
          1.7322062253952026,
          23.835433959960938,
          -18.308162689208984,
          -19.804086685180664,
          -11.119195938110352,
          -19.911500930786133,
          -19.432586669921875,
          9.375340461730957,
          -17.039615631103516,
          23.92795181274414,
          -19.60731315612793,
          -25.26270294189453,
          -17.099374771118164,
          3.7879116535186768,
          -22.812885284423828,
          -24.02996826171875,
          -12.678593635559082,
          -21.497209548950195,
          -15.688281059265137,
          -11.288861274719238,
          29.732952117919922,
          8.956883430480957,
          25.25602912902832,
          -18.15576171875,
          3.117335796356201,
          -17.09283447265625,
          -18.172321319580078,
          -13.747495651245117,
          25.595178604125977,
          -21.193359375,
          -15.80451774597168,
          -13.343695640563965,
          -3.144679546356201,
          -14.220270156860352,
          -14.07949161529541,
          14.063883781433105,
          10.480232238769531,
          -12.01716423034668,
          -19.57040023803711,
          -7.341821670532227,
          20.963834762573242,
          20.93067169189453,
          -20.017255783081055,
          -25.209802627563477,
          -27.446611404418945,
          24.105083465576172,
          -10.315082550048828,
          14.064186096191406,
          -0.8690767288208008,
          -10.389878273010254,
          -22.748071670532227,
          -20.419082641601562,
          25.661226272583008,
          -16.070873260498047,
          -12.952776908874512,
          -35.33622360229492,
          -25.968961715698242,
          -9.75757122039795,
          -19.228553771972656,
          -0.09304416924715042,
          -13.961565017700195,
          -16.018230438232422,
          -18.84384536743164,
          -11.504728317260742,
          -12.975754737854004,
          -22.48691177368164,
          -16.302413940429688,
          -33.456993103027344,
          -16.10361099243164,
          -3.990363597869873,
          -16.9768123626709,
          -19.687301635742188,
          -19.75617027282715,
          -14.061308860778809,
          5.378864288330078,
          42.480037689208984,
          2.900339126586914,
          -25.747241973876953,
          -10.839111328125,
          -23.01524543762207,
          -21.157913208007812,
          -10.83791732788086,
          -23.804637908935547,
          -22.429927825927734,
          -26.44114112854004,
          -26.564970016479492,
          -25.567598342895508,
          42.478694915771484,
          -23.35235595703125,
          -22.62007713317871,
          -14.211115837097168
         ],
         "yaxis": "y"
        },
        {
         "hovertemplate": "scaffold=1<br>tsne-x=%{x}<br>tsne-y=%{y}<extra></extra>",
         "legendgroup": "1",
         "marker": {
          "color": "#EF553B",
          "symbol": "circle"
         },
         "mode": "markers",
         "name": "1",
         "showlegend": true,
         "type": "scattergl",
         "x": [
          -14.482917785644531,
          -16.774646759033203,
          -14.551270484924316,
          0.504355251789093,
          -14.382757186889648,
          -6.570562839508057,
          -14.889138221740723,
          6.554172515869141,
          -6.709985256195068,
          -4.656604766845703,
          25.323156356811523,
          -14.083617210388184,
          26.21094512939453,
          -14.405745506286621,
          10.770397186279297,
          -21.961671829223633,
          10.720775604248047,
          7.812429904937744,
          5.435111999511719,
          5.407116413116455,
          -6.6121063232421875,
          -6.986550807952881,
          -5.171428680419922,
          -11.854427337646484,
          -4.443314552307129,
          -4.579252243041992,
          -11.999805450439453,
          4.621107578277588,
          8.101269721984863,
          -14.23238468170166,
          1.27555513381958,
          -11.783126831054688,
          -19.76070213317871,
          -13.605480194091797,
          16.520484924316406,
          -5.3414740562438965,
          14.33637809753418,
          -8.981254577636719,
          13.381579399108887,
          -0.03799588978290558,
          -11.276326179504395,
          -2.511988878250122,
          9.149798393249512,
          -3.088074207305908,
          -8.12084674835205,
          11.786450386047363,
          11.555192947387695,
          4.34116268157959,
          -12.628401756286621,
          -2.7944154739379883,
          -3.3009254932403564,
          -1.1038892269134521,
          -16.42070960998535,
          14.956913948059082,
          -13.560687065124512,
          -10.78052043914795,
          -11.49349594116211,
          11.557438850402832,
          -11.636404991149902,
          -11.149515151977539,
          14.794882774353027,
          -26.71600341796875,
          -3.032022476196289,
          -26.711719512939453,
          15.760440826416016,
          -10.54473876953125,
          10.796175956726074,
          -11.676137924194336,
          -10.412010192871094,
          -3.2715842723846436,
          -1.9052188396453857,
          -7.260672092437744,
          12.027544021606445,
          -9.999079704284668,
          -21.84512710571289,
          -8.521832466125488,
          -19.15273094177246,
          -9.880130767822266,
          -8.27171516418457,
          20.288618087768555,
          -15.376830101013184,
          -16.322574615478516,
          -3.570974826812744,
          -10.790879249572754,
          -13.053119659423828,
          -8.492376327514648,
          -9.692788124084473,
          -6.611630916595459,
          -15.778176307678223,
          -8.88576889038086,
          -8.575113296508789,
          -9.00914192199707,
          15.546953201293945,
          -15.351457595825195,
          -11.161832809448242,
          6.391434669494629
         ],
         "xaxis": "x",
         "y": [
          -12.824117660522461,
          -2.8014378547668457,
          -12.809481620788574,
          -1.3411548137664795,
          -14.417237281799316,
          -2.637885570526123,
          -14.126361846923828,
          -3.627030611038208,
          3.8279128074645996,
          3.517371416091919,
          27.520071029663086,
          -12.849837303161621,
          27.337221145629883,
          2.2299182415008545,
          -2.8995373249053955,
          -2.348099946975708,
          -2.907140016555786,
          -0.38184380531311035,
          -5.169009685516357,
          -5.134568691253662,
          3.090177297592163,
          -1.656125783920288,
          4.602451324462891,
          -36.941619873046875,
          -0.15777239203453064,
          3.4514005184173584,
          10.196450233459473,
          -3.357638120651245,
          -1.7775801420211792,
          20.603286743164062,
          -3.162224292755127,
          6.883579254150391,
          -1.09403657913208,
          7.934453964233398,
          -23.715845108032227,
          4.817607402801514,
          16.457477569580078,
          -4.265427589416504,
          0.7779910564422607,
          9.65493392944336,
          5.65184211730957,
          -5.564744472503662,
          -1.30181086063385,
          0.6214815974235535,
          -8.396595001220703,
          6.596489906311035,
          0.08454961329698563,
          -2.7381434440612793,
          5.728423595428467,
          -6.1740336418151855,
          16.421825408935547,
          -5.70202112197876,
          -28.57878875732422,
          5.573536396026611,
          7.875251770019531,
          4.300745487213135,
          4.941079139709473,
          0.0493495874106884,
          3.1173007488250732,
          5.69605827331543,
          5.695348739624023,
          -20.17783546447754,
          1.1745243072509766,
          -20.1856746673584,
          4.29196310043335,
          3.572458505630493,
          -0.2548051178455353,
          4.121241092681885,
          4.326910495758057,
          -3.9512791633605957,
          4.453479766845703,
          0.6205820441246033,
          6.88903284072876,
          -7.783248424530029,
          5.242834568023682,
          1.3091703653335571,
          3.9275710582733154,
          2.8461005687713623,
          0.7088693976402283,
          -2.547926664352417,
          -21.009275436401367,
          3.2968666553497314,
          -5.017679691314697,
          4.020369052886963,
          4.358911037445068,
          3.282949447631836,
          6.9411516189575195,
          -8.504249572753906,
          3.5929195880889893,
          4.529512405395508,
          1.899855613708496,
          4.872145175933838,
          28.081375122070312,
          -20.93610382080078,
          -8.639410972595215,
          -9.658883094787598
         ],
         "yaxis": "y"
        },
        {
         "hovertemplate": "scaffold=2<br>tsne-x=%{x}<br>tsne-y=%{y}<extra></extra>",
         "legendgroup": "2",
         "marker": {
          "color": "#00cc96",
          "symbol": "circle"
         },
         "mode": "markers",
         "name": "2",
         "showlegend": true,
         "type": "scattergl",
         "x": [
          16.446409225463867,
          -23.299428939819336,
          30.41875648498535,
          27.457319259643555,
          12.703219413757324,
          13.888434410095215,
          13.890188217163086,
          -2.533644914627075,
          31.61290740966797,
          0.5743679404258728,
          24.533267974853516,
          15.908258438110352,
          0.08995498716831207,
          19.252511978149414,
          18.629613876342773,
          31.965124130249023,
          32.065391540527344,
          28.882356643676758,
          -52.92909622192383,
          34.82117462158203,
          35.648860931396484,
          26.907276153564453,
          23.27231216430664,
          35.650856018066406,
          10.620182991027832,
          28.939729690551758,
          -23.445951461791992,
          -4.24402379989624,
          10.576717376708984,
          12.592483520507812,
          30.6361141204834,
          26.79798698425293,
          19.41234588623047,
          -7.829582691192627,
          39.09398651123047,
          -11.930353164672852,
          19.130168914794922,
          31.0640869140625,
          20.612730026245117,
          -33.72379684448242,
          26.852855682373047,
          16.801586151123047,
          17.40468978881836,
          24.71220588684082,
          21.228416442871094,
          32.074066162109375,
          24.21041488647461,
          21.782733917236328,
          29.06669044494629,
          28.272573471069336,
          32.12113952636719,
          -20.771745681762695,
          5.498688697814941,
          38.04610061645508,
          4.495364189147949,
          13.05134105682373,
          10.220277786254883,
          38.066959381103516,
          35.64047622680664,
          -22.408668518066406,
          32.33334732055664,
          6.014324188232422,
          32.2159309387207,
          25.56361961364746,
          32.41301727294922,
          37.99190139770508,
          38.587059020996094,
          31.756195068359375,
          -32.85293197631836,
          16.456008911132812,
          35.880523681640625,
          23.987520217895508,
          14.208659172058105,
          12.695816040039062,
          -10.597335815429688,
          24.24198341369629,
          31.13463020324707,
          13.926253318786621,
          20.725845336914062,
          22.238323211669922
         ],
         "xaxis": "x",
         "y": [
          0.9842553734779358,
          -19.649431228637695,
          9.042791366577148,
          -18.973119735717773,
          26.717029571533203,
          13.169785499572754,
          13.170636177062988,
          -35.142425537109375,
          15.27089786529541,
          -11.200348854064941,
          -8.507317543029785,
          5.5596137046813965,
          -11.422593116760254,
          7.318262100219727,
          6.964305400848389,
          -2.7783920764923096,
          -2.9747557640075684,
          16.794118881225586,
          1.6189069747924805,
          -5.667626857757568,
          12.903112411499023,
          10.42065143585205,
          11.658714294433594,
          12.910536766052246,
          25.055137634277344,
          10.732163429260254,
          -19.599430084228516,
          -4.455965518951416,
          25.079219818115234,
          4.295304298400879,
          10.944664001464844,
          8.353068351745605,
          2.7041332721710205,
          14.113173484802246,
          21.30576515197754,
          -38.17010498046875,
          16.923736572265625,
          31.854595184326172,
          20.523427963256836,
          -21.21856689453125,
          8.164194107055664,
          -2.1874806880950928,
          33.26917266845703,
          10.127028465270996,
          14.2269287109375,
          31.84260368347168,
          -5.322674751281738,
          -3.6302380561828613,
          14.237393379211426,
          9.401756286621094,
          16.917510986328125,
          3.0364904403686523,
          34.32951354980469,
          22.746990203857422,
          14.75975227355957,
          24.5549259185791,
          9.240225791931152,
          22.439306259155273,
          7.621603012084961,
          31.22664451599121,
          -3.956075429916382,
          33.321414947509766,
          16.464216232299805,
          10.32511043548584,
          14.568568229675293,
          22.086519241333008,
          21.75732421875,
          -9.114501953125,
          -9.7522611618042,
          -1.3232123851776123,
          13.197633743286133,
          -4.989234924316406,
          21.596773147583008,
          26.705028533935547,
          -10.282066345214844,
          -8.957411766052246,
          14.897623062133789,
          25.922712326049805,
          20.580184936523438,
          -6.542887210845947
         ],
         "yaxis": "y"
        },
        {
         "hovertemplate": "scaffold=3<br>tsne-x=%{x}<br>tsne-y=%{y}<extra></extra>",
         "legendgroup": "3",
         "marker": {
          "color": "#ab63fa",
          "symbol": "circle"
         },
         "mode": "markers",
         "name": "3",
         "showlegend": true,
         "type": "scattergl",
         "x": [
          27.416179656982422,
          -1.414588451385498,
          11.40342903137207,
          28.73792839050293,
          19.52924156188965,
          16.994415283203125,
          12.553725242614746,
          12.684431076049805,
          20.709888458251953,
          29.241071701049805,
          10.340558052062988,
          14.365078926086426,
          20.586421966552734,
          12.879074096679688,
          13.78386402130127,
          13.098710060119629,
          20.777700424194336,
          17.5904541015625,
          -5.327944755554199,
          13.5651273727417,
          19.59270668029785,
          13.240036010742188,
          29.332536697387695,
          29.000133514404297,
          29.162452697753906,
          10.770660400390625,
          11.319624900817871,
          12.363051414489746,
          17.43575096130371,
          15.178023338317871,
          11.833551406860352,
          11.511361122131348,
          16.172399520874023,
          16.48609733581543,
          16.341060638427734,
          13.929119110107422,
          -5.254998207092285,
          16.01639747619629,
          16.43134880065918,
          13.578210830688477,
          15.89572525024414,
          13.569478034973145,
          15.242382049560547,
          -11.891018867492676,
          17.221511840820312,
          16.78773307800293,
          16.711702346801758,
          15.797045707702637,
          19.842004776000977,
          20.823238372802734,
          16.527538299560547,
          25.23788070678711,
          -6.982516288757324,
          25.594518661499023
         ],
         "xaxis": "x",
         "y": [
          28.327266693115234,
          30.922468185424805,
          -14.9688138961792,
          32.12853240966797,
          30.232614517211914,
          -20.429893493652344,
          -13.470755577087402,
          -11.928762435913086,
          31.170442581176758,
          30.25212287902832,
          -14.48833179473877,
          -14.097844123840332,
          30.98969078063965,
          -11.707229614257812,
          -13.302955627441406,
          -11.689419746398926,
          31.024930953979492,
          -11.84207820892334,
          11.680088996887207,
          -13.416141510009766,
          30.142845153808594,
          -13.809523582458496,
          30.451824188232422,
          30.566064834594727,
          30.497840881347656,
          -13.508955955505371,
          -13.883903503417969,
          -12.977665901184082,
          -13.479991912841797,
          -12.20191478729248,
          -13.447827339172363,
          -12.910504341125488,
          -11.842818260192871,
          -12.723505973815918,
          -19.287029266357422,
          -13.252068519592285,
          -12.635213851928711,
          -11.86348819732666,
          -12.782974243164062,
          -9.29651927947998,
          33.108028411865234,
          -9.319031715393066,
          -10.769302368164062,
          -37.709266662597656,
          -15.536239624023438,
          -16.10545539855957,
          -16.241079330444336,
          -13.948535919189453,
          31.467723846435547,
          33.25304412841797,
          -10.9197416305542,
          -23.420894622802734,
          13.841094017028809,
          30.91245460510254
         ],
         "yaxis": "y"
        },
        {
         "hovertemplate": "scaffold=4<br>tsne-x=%{x}<br>tsne-y=%{y}<extra></extra>",
         "legendgroup": "4",
         "marker": {
          "color": "#FFA15A",
          "symbol": "circle"
         },
         "mode": "markers",
         "name": "4",
         "showlegend": true,
         "type": "scattergl",
         "x": [
          44.190704345703125,
          43.312538146972656,
          38.85877227783203,
          43.448875427246094,
          42.20753860473633,
          42.66892623901367,
          44.72360610961914,
          19.86138153076172,
          43.22213363647461,
          -7.160361289978027,
          44.11389923095703,
          -1.6505961418151855,
          38.68653869628906,
          39.19743728637695,
          43.851139068603516,
          -2.194537878036499,
          -2.185528516769409,
          9.342133522033691,
          -12.258390426635742,
          -16.980274200439453,
          -0.7557644248008728,
          -6.768588066101074,
          7.795849800109863,
          35.35536575317383,
          -31.226362228393555,
          -2.1118521690368652,
          43.35749435424805,
          -27.985233306884766,
          31.168716430664062,
          -17.0933837890625,
          7.822507858276367,
          34.00199890136719,
          39.01116943359375,
          39.40285110473633,
          -31.63754653930664,
          -27.946264266967773,
          40.28010177612305,
          18.567256927490234,
          -6.4100022315979,
          43.8974609375,
          39.62771224975586,
          40.47700500488281,
          40.32593536376953,
          26.018033981323242,
          -31.408695220947266,
          39.60252380371094,
          -29.34624481201172,
          -16.391355514526367,
          -29.35000228881836
         ],
         "xaxis": "x",
         "y": [
          8.440308570861816,
          6.557089805603027,
          6.254035949707031,
          6.9477763175964355,
          10.67959213256836,
          6.723666667938232,
          11.50427532196045,
          0.2752605378627777,
          7.802201271057129,
          19.50895118713379,
          7.877707004547119,
          15.999479293823242,
          6.1611647605896,
          6.546977519989014,
          9.558036804199219,
          26.06422233581543,
          26.057924270629883,
          10.635910987854004,
          18.856748580932617,
          -30.50948143005371,
          -11.118854522705078,
          -17.2749080657959,
          -12.405174255371094,
          8.345938682556152,
          9.0706148147583,
          26.095762252807617,
          8.659907341003418,
          12.815431594848633,
          29.236156463623047,
          -30.561351776123047,
          -12.314826011657715,
          5.619204521179199,
          9.401074409484863,
          6.695466995239258,
          8.440552711486816,
          12.861024856567383,
          7.930368900299072,
          3.077904224395752,
          -16.79305648803711,
          9.54962158203125,
          8.416574478149414,
          7.737754821777344,
          7.934381484985352,
          -10.237709045410156,
          9.26718521118164,
          8.45164680480957,
          18.44814109802246,
          -30.421241760253906,
          18.4407901763916
         ],
         "yaxis": "y"
        },
        {
         "hovertemplate": "scaffold=5<br>tsne-x=%{x}<br>tsne-y=%{y}<extra></extra>",
         "legendgroup": "5",
         "marker": {
          "color": "#19d3f3",
          "symbol": "circle"
         },
         "mode": "markers",
         "name": "5",
         "showlegend": true,
         "type": "scattergl",
         "x": [
          -5.1563897132873535,
          1.1804941892623901,
          10.061922073364258,
          5.606800079345703,
          7.712246417999268,
          6.964762210845947,
          -5.065657138824463,
          -2.7231361865997314,
          -9.544023513793945,
          8.104181289672852,
          5.435486316680908,
          0.16182772815227509,
          -2.8754723072052,
          7.135149955749512,
          -6.547904014587402,
          7.761294364929199,
          -5.140986442565918,
          -41.72475051879883,
          -5.314339637756348,
          4.801471710205078,
          0.051927171647548676,
          -12.571803092956543,
          -0.4787253439426422,
          -39.3648681640625,
          -4.23761510848999,
          5.189720153808594,
          -40.72596740722656,
          -4.162206649780273,
          -41.52324295043945,
          -2.447460412979126,
          -2.291931390762329,
          -42.477054595947266,
          -2.8437395095825195,
          12.543795585632324,
          -0.9240478873252869,
          -2.3281378746032715,
          -41.205135345458984,
          3.3733479976654053,
          -4.104714870452881,
          -5.332224369049072,
          -39.89631652832031,
          -6.415769577026367,
          -5.621634483337402,
          -39.90855026245117,
          8.229140281677246
         ],
         "xaxis": "x",
         "y": [
          1.144658088684082,
          -1.5291054248809814,
          -7.244260311126709,
          -2.209489107131958,
          -1.6621437072753906,
          -2.3877859115600586,
          1.579662799835205,
          -0.16166746616363525,
          7.2923197746276855,
          11.925863265991211,
          -2.0266170501708984,
          -3.6384973526000977,
          5.8096184730529785,
          -2.3477914333343506,
          2.9046523571014404,
          -2.078522205352783,
          1.3891452550888062,
          -2.257572889328003,
          -0.4022413492202759,
          -7.098512649536133,
          -3.4003560543060303,
          10.493173599243164,
          -3.439288377761841,
          0.3168909549713135,
          -1.7521549463272095,
          -2.033933401107788,
          -1.9807220697402954,
          -2.663095474243164,
          -2.326481580734253,
          -3.8854331970214844,
          -3.893763780593872,
          -2.0247719287872314,
          -7.965178489685059,
          -4.667625427246094,
          -3.689192771911621,
          -3.9632911682128906,
          -2.7948577404022217,
          -3.388096332550049,
          -1.8417893648147583,
          -1.2586240768432617,
          -0.5407259464263916,
          0.3429848253726959,
          -5.165464401245117,
          -0.523724377155304,
          -9.220595359802246
         ],
         "yaxis": "y"
        },
        {
         "hovertemplate": "scaffold=6<br>tsne-x=%{x}<br>tsne-y=%{y}<extra></extra>",
         "legendgroup": "6",
         "marker": {
          "color": "#FF6692",
          "symbol": "circle"
         },
         "mode": "markers",
         "name": "6",
         "showlegend": true,
         "type": "scattergl",
         "x": [
          -29.752418518066406,
          -25.166994094848633,
          -28.32811164855957,
          -26.371519088745117,
          -25.247459411621094,
          -25.957969665527344,
          -25.208234786987305,
          -27.514049530029297,
          -26.558958053588867,
          -26.216825485229492,
          -25.86382293701172,
          -27.696531295776367,
          -26.11954116821289,
          -28.87457847595215,
          -29.137147903442383,
          -26.453142166137695,
          -30.359256744384766,
          -25.120136260986328,
          -29.867584228515625,
          -25.749645233154297,
          -23.583358764648438,
          -29.229280471801758,
          -30.70023536682129,
          -29.970605850219727,
          -26.39116668701172,
          -24.783885955810547,
          -24.4010009765625,
          -31.246780395507812,
          -30.86134147644043,
          -27.028820037841797,
          -25.212675094604492,
          -24.904464721679688,
          -30.723482131958008,
          -24.93729019165039,
          -23.185474395751953,
          -24.452415466308594
         ],
         "xaxis": "x",
         "y": [
          -3.054654359817505,
          -2.7846052646636963,
          0.16370107233524323,
          -2.246673822402954,
          -2.0786781311035156,
          -1.712571620941162,
          -2.040614366531372,
          0.48145535588264465,
          1.5875052213668823,
          -4.448899269104004,
          0.8983048796653748,
          0.42776498198509216,
          -1.1075997352600098,
          -1.4694379568099976,
          -6.11698579788208,
          2.4188241958618164,
          -2.0811750888824463,
          -1.0363584756851196,
          -1.8204419612884521,
          0.06539319455623627,
          -0.7591790556907654,
          -6.242325305938721,
          -3.519911766052246,
          -3.2566170692443848,
          2.52064847946167,
          0.32562586665153503,
          -1.8821340799331665,
          -2.3728392124176025,
          -2.965425968170166,
          -0.8712866306304932,
          -0.3950401842594147,
          -0.7790444493293762,
          -3.4905846118927,
          -4.907614707946777,
          -2.2530598640441895,
          -2.401681423187256
         ],
         "yaxis": "y"
        },
        {
         "hovertemplate": "scaffold=7<br>tsne-x=%{x}<br>tsne-y=%{y}<extra></extra>",
         "legendgroup": "7",
         "marker": {
          "color": "#B6E880",
          "symbol": "circle"
         },
         "mode": "markers",
         "name": "7",
         "showlegend": true,
         "type": "scattergl",
         "x": [
          -3.281301975250244,
          1.2836253643035889,
          -3.592684030532837,
          -4.288631439208984,
          -4.273589134216309,
          -2.2712628841400146,
          -3.331380605697632,
          0.5407702922821045,
          -0.23971182107925415,
          0.4603816866874695,
          -4.26244592666626,
          -3.007148265838623,
          -2.9860241413116455,
          0.21936757862567902,
          -0.7865272164344788,
          -2.965524196624756,
          -1.4807453155517578,
          -1.2968562841415405,
          1.2453231811523438,
          1.0097512006759644,
          3.3628180027008057,
          -2.10355281829834,
          1.50473952293396,
          -1.118245005607605,
          -0.12532193958759308,
          0.6865163445472717,
          -2.4776182174682617,
          -2.1476755142211914,
          -0.5923216938972473,
          3.407731771469116,
          3.360917329788208,
          -0.8055102825164795,
          1.6172541379928589,
          1.3346755504608154
         ],
         "xaxis": "x",
         "y": [
          19.742591857910156,
          22.895675659179688,
          18.625518798828125,
          18.78977394104004,
          18.900848388671875,
          18.72589683532715,
          18.52259063720703,
          20.44254493713379,
          21.012481689453125,
          20.24109649658203,
          18.358436584472656,
          21.65851402282715,
          21.693191528320312,
          19.466007232666016,
          21.36076545715332,
          21.92194366455078,
          19.409095764160156,
          18.757211685180664,
          22.71039581298828,
          23.04060935974121,
          20.714845657348633,
          19.85730743408203,
          19.847301483154297,
          20.184337615966797,
          18.86864471435547,
          19.706083297729492,
          21.874462127685547,
          22.37564468383789,
          19.554895401000977,
          20.769628524780273,
          20.741924285888672,
          18.735477447509766,
          19.156234741210938,
          21.44074058532715
         ],
         "yaxis": "y"
        },
        {
         "hovertemplate": "scaffold=8<br>tsne-x=%{x}<br>tsne-y=%{y}<extra></extra>",
         "legendgroup": "8",
         "marker": {
          "color": "#FF97FF",
          "symbol": "circle"
         },
         "mode": "markers",
         "name": "8",
         "showlegend": true,
         "type": "scattergl",
         "x": [
          16.81729507446289,
          -1.0956270694732666,
          -4.81723165512085,
          -4.167935848236084,
          -2.2534501552581787,
          -2.5824809074401855,
          -1.85760498046875,
          -1.1632769107818604,
          -0.5914824604988098,
          -0.5934862494468689,
          7.249608516693115,
          16.52334976196289,
          -5.333007335662842,
          32.71650314331055,
          9.387422561645508,
          -3.87158465385437,
          -4.347113132476807,
          6.217617988586426,
          7.202218055725098,
          7.079376697540283,
          -3.800968885421753,
          11.178863525390625,
          -2.9565811157226562,
          7.312414169311523,
          -1.563202142715454,
          3.6266112327575684,
          7.493476867675781,
          33.179969787597656,
          7.012034893035889,
          2.123708963394165,
          8.284551620483398,
          7.372454643249512
         ],
         "xaxis": "x",
         "y": [
          18.839962005615234,
          11.254753112792969,
          13.613391876220703,
          13.498348236083984,
          13.212443351745605,
          12.767780303955078,
          11.709249496459961,
          11.28292179107666,
          -0.8773975372314453,
          -0.8869518041610718,
          21.179893493652344,
          18.746238708496094,
          13.567733764648438,
          8.803264617919922,
          7.493101119995117,
          13.449914932250977,
          15.366666793823242,
          20.766284942626953,
          21.213802337646484,
          21.135324478149414,
          15.492316246032715,
          18.777748107910156,
          15.631425857543945,
          14.59735107421875,
          -1.1527693271636963,
          18.18027114868164,
          14.41504955291748,
          9.024949073791504,
          14.565357208251953,
          16.826805114746094,
          14.678555488586426,
          14.145167350769043
         ],
         "yaxis": "y"
        },
        {
         "hovertemplate": "scaffold=9<br>tsne-x=%{x}<br>tsne-y=%{y}<extra></extra>",
         "legendgroup": "9",
         "marker": {
          "color": "#FECB52",
          "symbol": "circle"
         },
         "mode": "markers",
         "name": "9",
         "showlegend": true,
         "type": "scattergl",
         "x": [
          -9.804952621459961,
          -10.501999855041504,
          -22.558399200439453,
          -22.755624771118164,
          -11.557955741882324,
          -11.410866737365723,
          -10.65076732635498,
          -9.251590728759766,
          -22.935985565185547,
          -17.003068923950195,
          -12.639581680297852,
          -10.70309066772461,
          -22.781692504882812,
          -10.409767150878906,
          -9.711581230163574,
          -23.539806365966797,
          -24.173688888549805,
          25.707340240478516,
          -12.482376098632812,
          -7.194496154785156,
          -12.644952774047852,
          -23.217296600341797,
          -9.167511940002441,
          -23.28814697265625,
          25.489173889160156,
          -24.439990997314453,
          -7.297147750854492,
          -11.963883399963379,
          -7.3876800537109375,
          -7.859256744384766
         ],
         "xaxis": "x",
         "y": [
          -5.823267936706543,
          -5.526993274688721,
          25.190048217773438,
          24.309192657470703,
          -7.008428573608398,
          -5.529213905334473,
          -6.327077865600586,
          -7.005141258239746,
          24.643163681030273,
          -7.538290977478027,
          -5.654858589172363,
          -6.746732711791992,
          24.158235549926758,
          -5.098528861999512,
          -6.63226842880249,
          24.282920837402344,
          24.808881759643555,
          26.73866844177246,
          -6.56002140045166,
          -7.5653157234191895,
          -5.43662166595459,
          24.51874542236328,
          -5.316680908203125,
          23.41590690612793,
          26.522916793823242,
          23.13368797302246,
          -6.348010063171387,
          -2.89510178565979,
          -6.756328105926514,
          -7.269944190979004
         ],
         "yaxis": "y"
        },
        {
         "hovertemplate": "scaffold=10<br>tsne-x=%{x}<br>tsne-y=%{y}<extra></extra>",
         "legendgroup": "10",
         "marker": {
          "color": "#636efa",
          "symbol": "circle"
         },
         "mode": "markers",
         "name": "10",
         "showlegend": true,
         "type": "scattergl",
         "x": [
          -50.46964645385742,
          -49.13652420043945,
          -47.613548278808594,
          -47.617984771728516,
          -48.43075180053711,
          -50.45777130126953,
          -51.02301788330078,
          -49.45305633544922,
          -51.485984802246094,
          -50.25822067260742,
          -48.60807418823242,
          -50.099937438964844,
          -49.01638412475586,
          -50.532039642333984,
          -50.68296813964844,
          -48.151309967041016,
          -48.54521942138672,
          -48.53267288208008,
          -49.35746383666992,
          -51.231258392333984,
          -50.23474884033203,
          -51.08671951293945,
          -49.05337142944336,
          -48.826995849609375,
          -50.303279876708984,
          -48.920501708984375,
          -48.510009765625,
          -47.682960510253906,
          -49.956947326660156
         ],
         "xaxis": "x",
         "y": [
          -3.6550939083099365,
          -1.3534904718399048,
          -5.461463928222656,
          -5.4608306884765625,
          -0.8557868599891663,
          -0.6318290829658508,
          -0.04799079895019531,
          -1.0109223127365112,
          -0.9938798546791077,
          -3.3312792778015137,
          -0.4831123948097229,
          -0.1688554584980011,
          -0.8517025113105774,
          -3.312225341796875,
          -0.3782127797603607,
          -1.7403366565704346,
          -2.2687458992004395,
          -2.801154375076294,
          -2.2811410427093506,
          -2.9997148513793945,
          -1.8746142387390137,
          -1.5227071046829224,
          1.3199307918548584,
          1.330615520477295,
          -0.032477352768182755,
          -0.43766942620277405,
          0.534936249256134,
          0.08568353950977325,
          0.854057252407074
         ],
         "yaxis": "y"
        },
        {
         "hovertemplate": "scaffold=11<br>tsne-x=%{x}<br>tsne-y=%{y}<extra></extra>",
         "legendgroup": "11",
         "marker": {
          "color": "#EF553B",
          "symbol": "circle"
         },
         "mode": "markers",
         "name": "11",
         "showlegend": true,
         "type": "scattergl",
         "x": [
          23.644947052001953,
          23.064611434936523,
          23.67699432373047,
          24.450136184692383,
          24.053504943847656,
          25.032011032104492,
          26.321346282958984,
          26.595836639404297,
          24.564199447631836,
          22.75750160217285,
          22.6982421875,
          23.469547271728516,
          23.573591232299805,
          23.91789436340332,
          26.93640899658203,
          26.126333236694336,
          24.38880729675293,
          24.156654357910156,
          23.409774780273438,
          24.582103729248047,
          24.249074935913086,
          25.035703659057617,
          25.64818000793457,
          26.50278091430664,
          24.755577087402344,
          23.288963317871094,
          24.947546005249023,
          26.05520248413086
         ],
         "xaxis": "x",
         "y": [
          -0.5850832462310791,
          0.12106048315763474,
          0.5482962727546692,
          0.20165280997753143,
          0.21264375746250153,
          0.35203880071640015,
          0.92786705493927,
          0.7156113982200623,
          -0.33197158575057983,
          0.8824394941329956,
          1.6428169012069702,
          -0.10853982716798782,
          0.9947506189346313,
          1.8480721712112427,
          1.3032251596450806,
          1.4747952222824097,
          1.6154416799545288,
          1.0959980487823486,
          1.983352541923523,
          0.9850464463233948,
          2.623988389968872,
          0.7905302047729492,
          -0.27582091093063354,
          1.9917776584625244,
          2.0541298389434814,
          1.4288322925567627,
          1.3658446073532104,
          2.171563148498535
         ],
         "yaxis": "y"
        },
        {
         "hovertemplate": "scaffold=12<br>tsne-x=%{x}<br>tsne-y=%{y}<extra></extra>",
         "legendgroup": "12",
         "marker": {
          "color": "#00cc96",
          "symbol": "circle"
         },
         "mode": "markers",
         "name": "12",
         "showlegend": true,
         "type": "scattergl",
         "x": [
          6.86887264251709,
          4.992925643920898,
          5.284318447113037,
          10.693059921264648,
          5.477475166320801,
          7.833630561828613,
          -14.32596492767334,
          7.32997989654541,
          9.227557182312012,
          4.36115026473999,
          3.368450403213501,
          20.465858459472656,
          4.530775547027588,
          2.4998044967651367,
          3.7245843410491943,
          -14.938952445983887,
          3.0048153400421143,
          2.2642669677734375,
          4.077951908111572,
          2.0170116424560547,
          -32.68214797973633,
          -32.70100402832031,
          14.49501895904541,
          1.719014048576355,
          2.8230795860290527,
          6.732045650482178,
          7.3187031745910645
         ],
         "xaxis": "x",
         "y": [
          -3.98199462890625,
          -15.519575119018555,
          -16.089414596557617,
          -8.699228286743164,
          -17.436161041259766,
          -2.923311233520508,
          0.881628155708313,
          -18.96272850036621,
          -0.21187669038772583,
          -17.16411781311035,
          -15.169045448303223,
          -3.3466532230377197,
          -18.4135799407959,
          -15.136783599853516,
          -17.171009063720703,
          -0.0860336422920227,
          -15.932255744934082,
          -14.270471572875977,
          -18.7694034576416,
          -14.723075866699219,
          -7.084178924560547,
          -6.992030620574951,
          18.247276306152344,
          -20.650436401367188,
          -15.69587230682373,
          -18.610462188720703,
          -4.255037307739258
         ],
         "yaxis": "y"
        },
        {
         "hovertemplate": "scaffold=13<br>tsne-x=%{x}<br>tsne-y=%{y}<extra></extra>",
         "legendgroup": "13",
         "marker": {
          "color": "#ab63fa",
          "symbol": "circle"
         },
         "mode": "markers",
         "name": "13",
         "showlegend": true,
         "type": "scattergl",
         "x": [
          15.684815406799316,
          31.220233917236328,
          -20.538558959960938,
          -23.494083404541016,
          -1.4803968667984009,
          -21.080596923828125,
          -23.483091354370117,
          -24.416879653930664,
          -23.02724838256836,
          -23.44086265563965,
          -24.38616371154785,
          -21.94436264038086,
          -23.363479614257812,
          -21.986675262451172,
          -21.480113983154297,
          -22.578609466552734,
          -23.746416091918945,
          -23.22055435180664,
          31.373140335083008,
          31.463092803955078,
          -19.753902435302734,
          -19.171937942504883,
          -20.44087791442871,
          15.796661376953125,
          -20.109251022338867,
          -20.439437866210938
         ],
         "xaxis": "x",
         "y": [
          -1.7473381757736206,
          30.565183639526367,
          13.62423324584961,
          15.821588516235352,
          30.89032745361328,
          12.179227828979492,
          14.719531059265137,
          14.853914260864258,
          12.624715805053711,
          15.223333358764648,
          15.603680610656738,
          9.006598472595215,
          14.669187545776367,
          9.977323532104492,
          13.094956398010254,
          16.412294387817383,
          16.76278305053711,
          16.02952003479004,
          30.718544006347656,
          30.60531997680664,
          16.17448616027832,
          13.658110618591309,
          13.569745063781738,
          -1.7148534059524536,
          15.053963661193848,
          13.917925834655762
         ],
         "yaxis": "y"
        },
        {
         "hovertemplate": "scaffold=14<br>tsne-x=%{x}<br>tsne-y=%{y}<extra></extra>",
         "legendgroup": "14",
         "marker": {
          "color": "#FFA15A",
          "symbol": "circle"
         },
         "mode": "markers",
         "name": "14",
         "showlegend": true,
         "type": "scattergl",
         "x": [
          12.636147499084473,
          38.90004348754883,
          43.09523010253906,
          12.60643482208252,
          -5.496657371520996,
          13.540078163146973,
          36.502288818359375,
          36.12980270385742,
          34.36346435546875,
          12.618870735168457,
          40.07969665527344,
          37.861732482910156,
          27.767154693603516,
          29.368045806884766,
          34.927738189697266,
          11.240200996398926,
          37.21023178100586,
          40.2880744934082,
          39.57593536376953,
          40.3353271484375,
          27.575956344604492,
          13.923483848571777,
          12.104991912841797,
          16.377241134643555,
          -20.42887306213379
         ],
         "xaxis": "x",
         "y": [
          -33.9090461730957,
          -15.684093475341797,
          -17.339189529418945,
          -34.038787841796875,
          -9.9964017868042,
          -36.32134246826172,
          -12.020074844360352,
          -13.091526985168457,
          -15.44006633758545,
          -36.323402404785156,
          -8.873475074768066,
          -12.302868843078613,
          25.380191802978516,
          -28.552452087402344,
          -15.185261726379395,
          -37.14036178588867,
          -12.534460067749023,
          -9.629256248474121,
          -9.151788711547852,
          -8.395939826965332,
          -12.835211753845215,
          -36.301937103271484,
          -36.11079406738281,
          3.392455577850342,
          23.949623107910156
         ],
         "yaxis": "y"
        },
        {
         "hovertemplate": "scaffold=15<br>tsne-x=%{x}<br>tsne-y=%{y}<extra></extra>",
         "legendgroup": "15",
         "marker": {
          "color": "#19d3f3",
          "symbol": "circle"
         },
         "mode": "markers",
         "name": "15",
         "showlegend": true,
         "type": "scattergl",
         "x": [
          5.051053047180176,
          0.5504000782966614,
          4.249851226806641,
          2.1342554092407227,
          2.015378475189209,
          5.332020282745361,
          2.5251498222351074,
          3.9937126636505127,
          4.8316497802734375,
          2.0927698612213135,
          1.327059030532837,
          4.103271961212158,
          0.9088138341903687,
          5.18018913269043,
          1.766983151435852,
          4.242600917816162,
          3.269202470779419,
          3.234304904937744,
          1.7864437103271484,
          4.607800006866455,
          4.4037957191467285,
          2.778907537460327,
          2.578644037246704,
          3.819662094116211
         ],
         "xaxis": "x",
         "y": [
          4.191203594207764,
          2.876490592956543,
          4.11605978012085,
          3.3063900470733643,
          2.429194211959839,
          4.354673862457275,
          3.4900386333465576,
          2.947056531906128,
          4.936783790588379,
          6.569300174713135,
          6.425865650177002,
          2.759767532348633,
          1.9038305282592773,
          6.08577299118042,
          3.5312769412994385,
          4.7402262687683105,
          3.3176236152648926,
          4.074458599090576,
          3.5300166606903076,
          5.715353965759277,
          5.819554805755615,
          4.505026817321777,
          4.368241310119629,
          5.109444618225098
         ],
         "yaxis": "y"
        },
        {
         "hovertemplate": "scaffold=16<br>tsne-x=%{x}<br>tsne-y=%{y}<extra></extra>",
         "legendgroup": "16",
         "marker": {
          "color": "#FF6692",
          "symbol": "circle"
         },
         "mode": "markers",
         "name": "16",
         "showlegend": true,
         "type": "scattergl",
         "x": [
          -18.865468978881836,
          2.3792314529418945,
          -7.140756130218506,
          -18.83839225769043,
          11.624676704406738,
          -6.035472393035889,
          -7.0011115074157715,
          -18.743955612182617,
          3.4154164791107178,
          -7.664546012878418,
          -5.595465660095215,
          26.150728225708008,
          4.249012470245361,
          -5.8362226486206055,
          -5.850553512573242,
          -20.595813751220703,
          -22.646480560302734,
          -6.9153056144714355,
          33.27470779418945,
          32.79558563232422,
          -18.84792709350586,
          -7.2435173988342285,
          -5.161120891571045
         ],
         "xaxis": "x",
         "y": [
          -20.336755752563477,
          -1.3407392501831055,
          7.9060444831848145,
          -6.884572505950928,
          -1.534075379371643,
          -3.4172933101654053,
          17.046459197998047,
          -6.768529891967773,
          -1.262522578239441,
          -13.007084846496582,
          7.428130149841309,
          25.94643211364746,
          -4.190493106842041,
          8.422514915466309,
          7.289520263671875,
          -7.864150524139404,
          23.241676330566406,
          7.225686550140381,
          7.474656105041504,
          9.647296905517578,
          -20.348718643188477,
          -12.902009010314941,
          7.5291972160339355
         ],
         "yaxis": "y"
        },
        {
         "hovertemplate": "scaffold=17<br>tsne-x=%{x}<br>tsne-y=%{y}<extra></extra>",
         "legendgroup": "17",
         "marker": {
          "color": "#B6E880",
          "symbol": "circle"
         },
         "mode": "markers",
         "name": "17",
         "showlegend": true,
         "type": "scattergl",
         "x": [
          -2.7892167568206787,
          7.111324787139893,
          22.312915802001953,
          -8.951824188232422,
          17.82195472717285,
          -1.1231592893600464,
          -15.288862228393555,
          -17.36844253540039,
          2.405933141708374,
          -17.248321533203125,
          22.182737350463867,
          2.6895456314086914,
          -27.122814178466797,
          -7.968068599700928,
          -42.9632568359375,
          -8.057450294494629,
          -7.939484119415283,
          -11.593100547790527,
          -11.687006950378418,
          -27.914369583129883,
          -42.89659881591797,
          16.533613204956055
         ],
         "xaxis": "x",
         "y": [
          -27.007043838500977,
          -20.914228439331055,
          -23.246057510375977,
          -22.239116668701172,
          20.599470138549805,
          -25.47610092163086,
          -1.4237334728240967,
          2.2816262245178223,
          -21.586936950683594,
          2.4903595447540283,
          -23.396013259887695,
          -21.857816696166992,
          -16.664690017700195,
          -22.133747100830078,
          -4.738266468048096,
          -22.178516387939453,
          -22.190332412719727,
          -22.903934478759766,
          -22.827468872070312,
          -16.637996673583984,
          -4.827672004699707,
          -23.616016387939453
         ],
         "yaxis": "y"
        },
        {
         "hovertemplate": "scaffold=18<br>tsne-x=%{x}<br>tsne-y=%{y}<extra></extra>",
         "legendgroup": "18",
         "marker": {
          "color": "#FF97FF",
          "symbol": "circle"
         },
         "mode": "markers",
         "name": "18",
         "showlegend": true,
         "type": "scattergl",
         "x": [
          1.2440522909164429,
          12.85340690612793,
          1.1947143077850342,
          6.108448028564453,
          -3.00453782081604,
          10.773774147033691,
          10.74621868133545,
          9.499076843261719,
          10.11526107788086,
          12.989554405212402,
          13.199079513549805,
          7.192267894744873,
          11.416548728942871,
          13.163115501403809,
          25.929916381835938,
          11.02482795715332,
          9.99091911315918,
          -11.907637596130371,
          12.485980033874512,
          24.99638557434082,
          25.90440559387207
         ],
         "xaxis": "x",
         "y": [
          -26.100452423095703,
          -22.275352478027344,
          -26.14201545715332,
          -25.720611572265625,
          -33.64694595336914,
          -18.282970428466797,
          -18.23943519592285,
          -23.57223129272461,
          -23.075971603393555,
          -19.217266082763672,
          -19.171722412109375,
          -20.999460220336914,
          -22.927087783813477,
          -19.144371032714844,
          -21.135520935058594,
          -23.28154945373535,
          -19.23943519592285,
          -27.874174118041992,
          -24.013477325439453,
          -21.682003021240234,
          -21.081539154052734
         ],
         "yaxis": "y"
        },
        {
         "hovertemplate": "scaffold=19<br>tsne-x=%{x}<br>tsne-y=%{y}<extra></extra>",
         "legendgroup": "19",
         "marker": {
          "color": "#FECB52",
          "symbol": "circle"
         },
         "mode": "markers",
         "name": "19",
         "showlegend": true,
         "type": "scattergl",
         "x": [
          4.415334224700928,
          11.068681716918945,
          -13.171438217163086,
          11.172538757324219,
          1.6523517370224,
          8.259547233581543,
          -13.80632495880127,
          8.284110069274902,
          -13.322854995727539,
          12.107542991638184,
          1.7005443572998047,
          1.7001123428344727,
          8.82044792175293,
          12.008997917175293,
          -7.690699100494385,
          12.21613883972168,
          -12.910083770751953,
          -25.61821746826172,
          -25.423749923706055,
          -25.634119033813477
         ],
         "xaxis": "x",
         "y": [
          -8.788833618164062,
          -6.840975761413574,
          -10.658289909362793,
          -6.755309581756592,
          -5.638021945953369,
          -6.08671236038208,
          -10.6325044631958,
          -6.0784010887146,
          -10.842053413391113,
          -6.845673084259033,
          -5.658969879150391,
          -5.652402877807617,
          -3.918924570083618,
          -6.012654781341553,
          -14.72175407409668,
          -6.035158634185791,
          -10.054168701171875,
          -14.695937156677246,
          -14.769824028015137,
          -14.685673713684082
         ],
         "yaxis": "y"
        },
        {
         "hovertemplate": "scaffold=20<br>tsne-x=%{x}<br>tsne-y=%{y}<extra></extra>",
         "legendgroup": "20",
         "marker": {
          "color": "#636efa",
          "symbol": "circle"
         },
         "mode": "markers",
         "name": "20",
         "showlegend": true,
         "type": "scattergl",
         "x": [
          18.66350746154785,
          18.615007400512695,
          17.519668579101562,
          18.961938858032227,
          17.844989776611328,
          17.631017684936523,
          17.387466430664062,
          18.1807918548584,
          16.954267501831055,
          16.784469604492188,
          18.014385223388672,
          18.054962158203125,
          18.783855438232422,
          18.309364318847656,
          17.821367263793945,
          16.579145431518555,
          17.058351516723633,
          17.058879852294922,
          16.74863052368164
         ],
         "xaxis": "x",
         "y": [
          44.36603546142578,
          43.32261276245117,
          42.713775634765625,
          43.62782287597656,
          43.09584426879883,
          43.732887268066406,
          44.394439697265625,
          42.87143325805664,
          42.47190856933594,
          41.79508972167969,
          44.32455825805664,
          43.733421325683594,
          42.16938781738281,
          42.28959655761719,
          41.84381103515625,
          43.6208381652832,
          43.82831573486328,
          43.3167724609375,
          42.993629455566406
         ],
         "yaxis": "y"
        },
        {
         "hovertemplate": "scaffold=21<br>tsne-x=%{x}<br>tsne-y=%{y}<extra></extra>",
         "legendgroup": "21",
         "marker": {
          "color": "#EF553B",
          "symbol": "circle"
         },
         "mode": "markers",
         "name": "21",
         "showlegend": true,
         "type": "scattergl",
         "x": [
          4.623396396636963,
          -0.0011648894287645817,
          25.213552474975586,
          25.28428077697754,
          24.88068962097168,
          26.28643798828125,
          27.30401611328125,
          25.056718826293945,
          23.986827850341797,
          24.162439346313477,
          24.903688430786133,
          26.495298385620117,
          24.3094482421875,
          24.296199798583984,
          1.5862321853637695,
          1.5875511169433594,
          23.837430953979492,
          27.281776428222656,
          21.3870849609375
         ],
         "xaxis": "x",
         "y": [
          33.0478401184082,
          -6.844486236572266,
          12.64520263671875,
          12.528763771057129,
          12.850823402404785,
          13.910651206970215,
          12.096405029296875,
          12.486001968383789,
          14.975584030151367,
          14.9327392578125,
          12.230846405029297,
          13.21529483795166,
          15.470094680786133,
          15.273236274719238,
          -33.52754592895508,
          -33.55917739868164,
          14.879009246826172,
          12.24118709564209,
          14.279407501220703
         ],
         "yaxis": "y"
        },
        {
         "hovertemplate": "scaffold=22<br>tsne-x=%{x}<br>tsne-y=%{y}<extra></extra>",
         "legendgroup": "22",
         "marker": {
          "color": "#00cc96",
          "symbol": "circle"
         },
         "mode": "markers",
         "name": "22",
         "showlegend": true,
         "type": "scattergl",
         "x": [
          -31.648805618286133,
          -31.644535064697266,
          23.54929542541504,
          21.618581771850586,
          19.029348373413086,
          33.37900924682617,
          24.210899353027344,
          24.15612030029297,
          -31.41314125061035,
          3.792825937271118,
          -31.409889221191406,
          32.60641860961914,
          35.93136978149414,
          18.45016098022461,
          22.685375213623047,
          22.709754943847656,
          23.361574172973633,
          23.563188552856445
         ],
         "xaxis": "x",
         "y": [
          24.6730899810791,
          24.65850067138672,
          6.966900825500488,
          -5.5420966148376465,
          20.13958168029785,
          27.847156524658203,
          4.585719585418701,
          4.996068954467773,
          23.320466995239258,
          32.52994155883789,
          23.294052124023438,
          28.48592185974121,
          7.305934906005859,
          -4.857480049133301,
          19.36260414123535,
          19.344507217407227,
          -7.247555255889893,
          6.866125583648682
         ],
         "yaxis": "y"
        },
        {
         "hovertemplate": "scaffold=23<br>tsne-x=%{x}<br>tsne-y=%{y}<extra></extra>",
         "legendgroup": "23",
         "marker": {
          "color": "#ab63fa",
          "symbol": "circle"
         },
         "mode": "markers",
         "name": "23",
         "showlegend": true,
         "type": "scattergl",
         "x": [
          -15.95262336730957,
          -15.917684555053711,
          -15.073653221130371,
          -15.754583358764648,
          -16.616525650024414,
          -15.927628517150879,
          -14.349990844726562,
          -15.475757598876953,
          -15.81109619140625,
          -15.66535472869873,
          -16.815513610839844,
          -15.307782173156738,
          -15.954108238220215,
          -14.905723571777344,
          -14.379121780395508,
          -16.844482421875,
          -16.508949279785156
         ],
         "xaxis": "x",
         "y": [
          34.71132278442383,
          34.56943130493164,
          33.683509826660156,
          32.45407485961914,
          32.086082458496094,
          32.653011322021484,
          31.72349739074707,
          32.4874382019043,
          34.27915573120117,
          31.062320709228516,
          31.312625885009766,
          33.92976379394531,
          31.713809967041016,
          31.5462703704834,
          31.735361099243164,
          31.736286163330078,
          32.53077697753906
         ],
         "yaxis": "y"
        },
        {
         "hovertemplate": "scaffold=24<br>tsne-x=%{x}<br>tsne-y=%{y}<extra></extra>",
         "legendgroup": "24",
         "marker": {
          "color": "#FFA15A",
          "symbol": "circle"
         },
         "mode": "markers",
         "name": "24",
         "showlegend": true,
         "type": "scattergl",
         "x": [
          -5.114744186401367,
          -4.429451942443848,
          -4.498173236846924,
          -5.275945663452148,
          -5.899001598358154,
          -2.8518025875091553,
          -2.180032968521118,
          -5.598023891448975,
          7.046253681182861,
          -8.449207305908203,
          -2.920808792114258,
          6.9125800132751465,
          -3.3317484855651855,
          -1.5336962938308716,
          6.933480739593506,
          7.041900634765625,
          -3.2542030811309814
         ],
         "xaxis": "x",
         "y": [
          -6.195014953613281,
          -7.320978164672852,
          -7.343926906585693,
          -7.4879302978515625,
          -6.881644248962402,
          -9.818092346191406,
          -7.750082015991211,
          -8.392305374145508,
          -8.18485164642334,
          -5.163555145263672,
          -8.73894214630127,
          -8.069770812988281,
          -9.766164779663086,
          -7.455011367797852,
          -8.286150932312012,
          -8.445141792297363,
          -9.169853210449219
         ],
         "yaxis": "y"
        },
        {
         "hovertemplate": "scaffold=25<br>tsne-x=%{x}<br>tsne-y=%{y}<extra></extra>",
         "legendgroup": "25",
         "marker": {
          "color": "#19d3f3",
          "symbol": "circle"
         },
         "mode": "markers",
         "name": "25",
         "showlegend": true,
         "type": "scattergl",
         "x": [
          37.6970100402832,
          37.265113830566406,
          37.43724822998047,
          37.551856994628906,
          39.4755744934082,
          38.44995880126953,
          32.440067291259766,
          38.25490951538086,
          38.54182434082031,
          37.108543395996094,
          37.74657440185547,
          37.77505111694336,
          36.21477508544922,
          38.58338928222656,
          32.047237396240234,
          32.52973937988281,
          38.42164611816406
         ],
         "xaxis": "x",
         "y": [
          -8.47553825378418,
          -7.301476001739502,
          -7.331674098968506,
          -6.495527744293213,
          -6.692677021026611,
          -8.00698184967041,
          -11.50131893157959,
          -6.492647647857666,
          -5.84790563583374,
          -8.078495979309082,
          -9.047041893005371,
          -7.799378395080566,
          -7.792728424072266,
          -5.5914177894592285,
          -10.831390380859375,
          -11.609024047851562,
          -6.8700270652771
         ],
         "yaxis": "y"
        },
        {
         "hovertemplate": "scaffold=26<br>tsne-x=%{x}<br>tsne-y=%{y}<extra></extra>",
         "legendgroup": "26",
         "marker": {
          "color": "#FF6692",
          "symbol": "circle"
         },
         "mode": "markers",
         "name": "26",
         "showlegend": true,
         "type": "scattergl",
         "x": [
          34.46015930175781,
          23.27161407470703,
          34.10678482055664,
          32.080780029296875,
          1.9621474742889404,
          1.8186581134796143,
          34.31501770019531,
          -13.472739219665527,
          -9.98486328125,
          -22.40186309814453,
          -22.38913917541504,
          19.65952491760254,
          11.484527587890625,
          11.122632026672363,
          31.246967315673828,
          14.580018043518066,
          -22.961713790893555
         ],
         "xaxis": "x",
         "y": [
          3.6825075149536133,
          -10.23388671875,
          2.52227783203125,
          1.9040242433547974,
          11.090222358703613,
          10.771852493286133,
          4.384243011474609,
          -2.0231125354766846,
          -2.297395706176758,
          -26.645282745361328,
          -26.65598487854004,
          -7.730825424194336,
          15.478697776794434,
          15.394551277160645,
          20.895902633666992,
          0.7616437673568726,
          -25.116727828979492
         ],
         "yaxis": "y"
        },
        {
         "hovertemplate": "scaffold=27<br>tsne-x=%{x}<br>tsne-y=%{y}<extra></extra>",
         "legendgroup": "27",
         "marker": {
          "color": "#B6E880",
          "symbol": "circle"
         },
         "mode": "markers",
         "name": "27",
         "showlegend": true,
         "type": "scattergl",
         "x": [
          -50.484981536865234,
          -50.082672119140625,
          -50.70450973510742,
          -50.68057632446289,
          -49.54262924194336,
          -49.636077880859375,
          -50.71388244628906,
          -51.64753723144531,
          -48.80077362060547,
          -50.46976852416992,
          -50.06777572631836,
          -50.25585174560547,
          -49.772708892822266,
          -49.769100189208984,
          -50.318477630615234,
          -50.84061813354492
         ],
         "xaxis": "x",
         "y": [
          -12.957502365112305,
          -13.132901191711426,
          -13.16933536529541,
          -12.9690523147583,
          -14.102011680603027,
          -14.347168922424316,
          -13.905506134033203,
          -14.165754318237305,
          -14.857815742492676,
          -14.817158699035645,
          -14.76850700378418,
          -15.273234367370605,
          -15.431583404541016,
          -15.433905601501465,
          -15.728111267089844,
          -15.360628128051758
         ],
         "yaxis": "y"
        },
        {
         "hovertemplate": "scaffold=28<br>tsne-x=%{x}<br>tsne-y=%{y}<extra></extra>",
         "legendgroup": "28",
         "marker": {
          "color": "#FF97FF",
          "symbol": "circle"
         },
         "mode": "markers",
         "name": "28",
         "showlegend": true,
         "type": "scattergl",
         "x": [
          -0.5498325824737549,
          -0.4988083243370056,
          1.333222508430481,
          -2.3475804328918457,
          0.4219338893890381,
          -11.885565757751465,
          0.32828080654144287,
          0.038546524941921234,
          -1.5116173028945923,
          -1.0253819227218628,
          1.244523525238037,
          -2.6491472721099854,
          -0.5326133966445923,
          -2.2523746490478516,
          -4.411948204040527,
          -6.823692798614502
         ],
         "xaxis": "x",
         "y": [
          1.4608279466629028,
          1.1907988786697388,
          -0.11150261759757996,
          5.758296012878418,
          6.283586502075195,
          -35.42684555053711,
          0.32041582465171814,
          6.989426612854004,
          2.2253146171569824,
          1.0326563119888306,
          0.06953851133584976,
          2.837360143661499,
          7.435431957244873,
          2.6867833137512207,
          -9.833781242370605,
          -9.584267616271973
         ],
         "yaxis": "y"
        },
        {
         "hovertemplate": "scaffold=29<br>tsne-x=%{x}<br>tsne-y=%{y}<extra></extra>",
         "legendgroup": "29",
         "marker": {
          "color": "#FECB52",
          "symbol": "circle"
         },
         "mode": "markers",
         "name": "29",
         "showlegend": true,
         "type": "scattergl",
         "x": [
          6.380497932434082,
          37.427978515625,
          37.12677001953125,
          32.24310302734375,
          4.911101818084717,
          36.936546325683594,
          12.210140228271484,
          38.30237579345703,
          7.392502307891846,
          12.785062789916992,
          7.248889923095703,
          31.839250564575195,
          7.136349678039551,
          7.151581764221191,
          36.989280700683594,
          35.41420364379883
         ],
         "xaxis": "x",
         "y": [
          25.75053596496582,
          20.521095275878906,
          20.580764770507812,
          -4.593301296234131,
          26.39719009399414,
          21.227256774902344,
          23.772472381591797,
          10.415999412536621,
          26.270343780517578,
          26.714357376098633,
          25.161813735961914,
          -9.676687240600586,
          25.390430450439453,
          25.395544052124023,
          21.46489906311035,
          -6.3660736083984375
         ],
         "yaxis": "y"
        },
        {
         "hovertemplate": "scaffold=30<br>tsne-x=%{x}<br>tsne-y=%{y}<extra></extra>",
         "legendgroup": "30",
         "marker": {
          "color": "#636efa",
          "symbol": "circle"
         },
         "mode": "markers",
         "name": "30",
         "showlegend": true,
         "type": "scattergl",
         "x": [
          41.796146392822266,
          41.531551361083984,
          41.976409912109375,
          42.430877685546875,
          41.12462615966797,
          40.89545822143555,
          42.26249694824219,
          40.71650695800781,
          41.230167388916016,
          42.25581359863281,
          41.668025970458984,
          40.49050521850586,
          41.76504898071289,
          40.82433319091797,
          40.56971740722656
         ],
         "xaxis": "x",
         "y": [
          -24.511709213256836,
          -25.145263671875,
          -24.93643569946289,
          -23.78246307373047,
          -24.48733139038086,
          -25.068227767944336,
          -24.466567993164062,
          -24.662004470825195,
          -24.212743759155273,
          -23.545087814331055,
          -23.673158645629883,
          -23.678342819213867,
          -23.111736297607422,
          -23.127077102661133,
          -23.37628746032715
         ],
         "yaxis": "y"
        },
        {
         "hovertemplate": "scaffold=31<br>tsne-x=%{x}<br>tsne-y=%{y}<extra></extra>",
         "legendgroup": "31",
         "marker": {
          "color": "#EF553B",
          "symbol": "circle"
         },
         "mode": "markers",
         "name": "31",
         "showlegend": true,
         "type": "scattergl",
         "x": [
          41.110347747802734,
          40.764320373535156,
          41.81637954711914,
          41.88134002685547,
          41.21881103515625,
          41.4029541015625,
          41.29796600341797,
          41.15493392944336,
          40.77576446533203,
          39.89876174926758,
          40.58891296386719,
          41.652610778808594,
          41.97620391845703,
          40.208168029785156,
          40.105899810791016
         ],
         "xaxis": "x",
         "y": [
          -16.230680465698242,
          -18.39019775390625,
          -17.275924682617188,
          -19.27493667602539,
          -17.929763793945312,
          -16.466156005859375,
          -17.503761291503906,
          -17.678524017333984,
          -18.949504852294922,
          -17.76264190673828,
          -17.415122985839844,
          -18.203954696655273,
          -18.320096969604492,
          -17.33367919921875,
          -17.99876594543457
         ],
         "yaxis": "y"
        },
        {
         "hovertemplate": "scaffold=32<br>tsne-x=%{x}<br>tsne-y=%{y}<extra></extra>",
         "legendgroup": "32",
         "marker": {
          "color": "#00cc96",
          "symbol": "circle"
         },
         "mode": "markers",
         "name": "32",
         "showlegend": true,
         "type": "scattergl",
         "x": [
          -27.83441925048828,
          -23.497188568115234,
          -26.928735733032227,
          -8.06141185760498,
          -20.237693786621094,
          -17.417245864868164,
          -24.941102981567383,
          -23.32634162902832,
          -6.348199367523193,
          -6.875975608825684,
          -6.3447771072387695,
          -7.045772552490234,
          -7.020788192749023,
          -6.9405388832092285,
          -7.1692705154418945
         ],
         "xaxis": "x",
         "y": [
          -1.9899232387542725,
          9.741597175598145,
          -12.199996948242188,
          28.287357330322266,
          21.706684112548828,
          3.8375775814056396,
          -5.507979869842529,
          -4.355820178985596,
          28.305822372436523,
          28.64693260192871,
          28.40009880065918,
          28.54714584350586,
          28.574039459228516,
          30.704710006713867,
          30.737443923950195
         ],
         "yaxis": "y"
        },
        {
         "hovertemplate": "scaffold=33<br>tsne-x=%{x}<br>tsne-y=%{y}<extra></extra>",
         "legendgroup": "33",
         "marker": {
          "color": "#ab63fa",
          "symbol": "circle"
         },
         "mode": "markers",
         "name": "33",
         "showlegend": true,
         "type": "scattergl",
         "x": [
          -39.259132385253906,
          -38.759925842285156,
          -38.86784744262695,
          -38.75178146362305,
          -37.54341125488281,
          -37.971004486083984,
          -38.86513900756836,
          -38.27660369873047,
          -38.0985221862793,
          -38.355247497558594,
          -37.557857513427734,
          -39.48206329345703,
          -38.35771179199219,
          -37.71892166137695
         ],
         "xaxis": "x",
         "y": [
          -15.2490816116333,
          -15.10617733001709,
          -15.547600746154785,
          -14.346885681152344,
          -15.089536666870117,
          -15.344276428222656,
          -15.900455474853516,
          -15.696889877319336,
          -14.879158020019531,
          -14.420406341552734,
          -15.592820167541504,
          -16.781173706054688,
          -16.405759811401367,
          -14.430144309997559
         ],
         "yaxis": "y"
        },
        {
         "hovertemplate": "scaffold=34<br>tsne-x=%{x}<br>tsne-y=%{y}<extra></extra>",
         "legendgroup": "34",
         "marker": {
          "color": "#FFA15A",
          "symbol": "circle"
         },
         "mode": "markers",
         "name": "34",
         "showlegend": true,
         "type": "scattergl",
         "x": [
          -4.190196514129639,
          -3.7725203037261963,
          -4.110487937927246,
          -3.461507797241211,
          -3.625899314880371,
          -4.222226619720459,
          -4.039618015289307,
          -2.6879637241363525,
          -2.8623054027557373,
          -3.0656774044036865,
          -2.7989304065704346,
          -3.146627902984619,
          -2.758469820022583,
          -3.114703416824341
         ],
         "xaxis": "x",
         "y": [
          38.52178955078125,
          39.720130920410156,
          39.13991165161133,
          38.42299270629883,
          38.841487884521484,
          37.87073516845703,
          37.98349380493164,
          38.33426284790039,
          39.425872802734375,
          38.8708381652832,
          38.87565231323242,
          37.40447235107422,
          37.42871856689453,
          37.249847412109375
         ],
         "yaxis": "y"
        },
        {
         "hovertemplate": "scaffold=35<br>tsne-x=%{x}<br>tsne-y=%{y}<extra></extra>",
         "legendgroup": "35",
         "marker": {
          "color": "#19d3f3",
          "symbol": "circle"
         },
         "mode": "markers",
         "name": "35",
         "showlegend": true,
         "type": "scattergl",
         "x": [
          6.792236328125,
          6.688698768615723,
          7.702576637268066,
          14.088550567626953,
          11.802521705627441,
          8.024569511413574,
          7.142485618591309,
          6.880215167999268,
          -2.6554198265075684,
          11.2426176071167,
          33.91112518310547,
          32.86463165283203,
          6.550879955291748,
          8.587296485900879
         ],
         "xaxis": "x",
         "y": [
          18.57318878173828,
          18.479660034179688,
          18.326435089111328,
          10.471405982971191,
          -1.4796100854873657,
          19.218210220336914,
          17.271047592163086,
          17.092971801757812,
          15.985355377197266,
          18.626094818115234,
          8.613306045532227,
          9.148846626281738,
          16.634061813354492,
          16.566774368286133
         ],
         "yaxis": "y"
        },
        {
         "hovertemplate": "scaffold=36<br>tsne-x=%{x}<br>tsne-y=%{y}<extra></extra>",
         "legendgroup": "36",
         "marker": {
          "color": "#FF6692",
          "symbol": "circle"
         },
         "mode": "markers",
         "name": "36",
         "showlegend": true,
         "type": "scattergl",
         "x": [
          30.91429328918457,
          17.89951515197754,
          38.289703369140625,
          16.89350128173828,
          37.3394775390625,
          37.29974365234375,
          36.757144927978516,
          17.816186904907227,
          19.067861557006836,
          18.521516799926758,
          18.45206069946289,
          20.650100708007812,
          18.490192413330078,
          2.4626448154449463
         ],
         "xaxis": "x",
         "y": [
          20.389541625976562,
          -28.337562561035156,
          -0.8671706914901733,
          -28.07144546508789,
          18.91331672668457,
          19.014911651611328,
          18.42915153503418,
          -28.954910278320312,
          -29.020523071289062,
          -27.35408592224121,
          -28.12582778930664,
          -17.119600296020508,
          -28.217599868774414,
          12.4899320602417
         ],
         "yaxis": "y"
        },
        {
         "hovertemplate": "scaffold=37<br>tsne-x=%{x}<br>tsne-y=%{y}<extra></extra>",
         "legendgroup": "37",
         "marker": {
          "color": "#B6E880",
          "symbol": "circle"
         },
         "mode": "markers",
         "name": "37",
         "showlegend": true,
         "type": "scattergl",
         "x": [
          -32.15174865722656,
          -32.374908447265625,
          -31.857643127441406,
          -31.397008895874023,
          -32.325233459472656,
          -31.609453201293945,
          -31.560529708862305,
          -30.933759689331055,
          -32.91661071777344,
          -32.01415252685547,
          -31.019573211669922,
          -30.01323699951172,
          -32.915496826171875
         ],
         "xaxis": "x",
         "y": [
          -12.67733097076416,
          -12.889707565307617,
          -12.947575569152832,
          -12.751022338867188,
          -12.199089050292969,
          -12.337326049804688,
          -11.939908027648926,
          -12.47560977935791,
          -12.36202335357666,
          -11.798762321472168,
          -11.782734870910645,
          -11.975034713745117,
          -11.255369186401367
         ],
         "yaxis": "y"
        },
        {
         "hovertemplate": "scaffold=38<br>tsne-x=%{x}<br>tsne-y=%{y}<extra></extra>",
         "legendgroup": "38",
         "marker": {
          "color": "#FF97FF",
          "symbol": "circle"
         },
         "mode": "markers",
         "name": "38",
         "showlegend": true,
         "type": "scattergl",
         "x": [
          -19.000913619995117,
          -16.240156173706055,
          -19.22249412536621,
          -16.47014045715332,
          -16.81080436706543,
          -17.88182830810547,
          -17.858760833740234,
          13.847685813903809,
          -16.776140213012695,
          -16.777204513549805,
          -19.2696475982666,
          -16.665660858154297,
          -18.415678024291992
         ],
         "xaxis": "x",
         "y": [
          -9.79369068145752,
          -10.872090339660645,
          -9.66926383972168,
          -9.915119171142578,
          -8.904627799987793,
          -10.11084270477295,
          -10.090806007385254,
          -5.924691677093506,
          -11.739168167114258,
          -8.828908920288086,
          -10.564594268798828,
          -11.730527877807617,
          -10.637408256530762
         ],
         "yaxis": "y"
        },
        {
         "hovertemplate": "scaffold=39<br>tsne-x=%{x}<br>tsne-y=%{y}<extra></extra>",
         "legendgroup": "39",
         "marker": {
          "color": "#FECB52",
          "symbol": "circle"
         },
         "mode": "markers",
         "name": "39",
         "showlegend": true,
         "type": "scattergl",
         "x": [
          4.861185550689697,
          4.976342678070068,
          3.9116036891937256,
          5.057828426361084,
          14.49791145324707,
          3.9368326663970947,
          4.966094493865967,
          6.383162021636963,
          4.72096586227417,
          4.777850151062012,
          6.224763870239258,
          12.121528625488281
         ],
         "xaxis": "x",
         "y": [
          9.661972999572754,
          9.619534492492676,
          11.193159103393555,
          10.851902961730957,
          16.55575180053711,
          10.993755340576172,
          9.728107452392578,
          11.08076286315918,
          11.421273231506348,
          11.394728660583496,
          11.26430892944336,
          22.314613342285156
         ],
         "yaxis": "y"
        },
        {
         "hovertemplate": "scaffold=40<br>tsne-x=%{x}<br>tsne-y=%{y}<extra></extra>",
         "legendgroup": "40",
         "marker": {
          "color": "#636efa",
          "symbol": "circle"
         },
         "mode": "markers",
         "name": "40",
         "showlegend": true,
         "type": "scattergl",
         "x": [
          48.32283401489258,
          48.62638854980469,
          48.87697219848633,
          48.0496940612793,
          48.83082580566406,
          49.45170974731445,
          49.14692306518555,
          48.5081901550293,
          48.97679138183594,
          47.836036682128906,
          48.50321960449219,
          49.765811920166016
         ],
         "xaxis": "x",
         "y": [
          -6.374249458312988,
          -7.114902496337891,
          -6.735026836395264,
          -6.631428241729736,
          -6.509883403778076,
          -6.733213424682617,
          -5.694511890411377,
          -5.721825122833252,
          -5.975821495056152,
          -5.916625022888184,
          -5.552543640136719,
          -6.0230326652526855
         ],
         "yaxis": "y"
        },
        {
         "hovertemplate": "scaffold=41<br>tsne-x=%{x}<br>tsne-y=%{y}<extra></extra>",
         "legendgroup": "41",
         "marker": {
          "color": "#EF553B",
          "symbol": "circle"
         },
         "mode": "markers",
         "name": "41",
         "showlegend": true,
         "type": "scattergl",
         "x": [
          -13.758976936340332,
          -15.064153671264648,
          4.140683174133301,
          6.6523118019104,
          -11.513649940490723,
          -13.459943771362305,
          -11.478915214538574,
          -12.758149147033691,
          -11.447887420654297,
          -12.808969497680664,
          -11.248772621154785,
          -6.623913288116455
         ],
         "xaxis": "x",
         "y": [
          12.72114372253418,
          9.176098823547363,
          -1.00739324092865,
          -1.0008883476257324,
          13.580845832824707,
          12.679573059082031,
          13.474662780761719,
          10.596806526184082,
          13.37421989440918,
          2.3573031425476074,
          13.423967361450195,
          -15.265978813171387
         ],
         "yaxis": "y"
        },
        {
         "hovertemplate": "scaffold=42<br>tsne-x=%{x}<br>tsne-y=%{y}<extra></extra>",
         "legendgroup": "42",
         "marker": {
          "color": "#00cc96",
          "symbol": "circle"
         },
         "mode": "markers",
         "name": "42",
         "showlegend": true,
         "type": "scattergl",
         "x": [
          18.905988693237305,
          23.432226181030273,
          10.290526390075684,
          16.67089080810547,
          22.514257431030273,
          16.228931427001953,
          16.222087860107422,
          9.598050117492676,
          18.456565856933594,
          28.51059913635254,
          28.555957794189453,
          15.044225692749023
         ],
         "xaxis": "x",
         "y": [
          -21.24388313293457,
          -9.555941581726074,
          21.005352020263672,
          -7.4193243980407715,
          -10.38204574584961,
          -7.649538516998291,
          -7.682516098022461,
          -17.022687911987305,
          -9.199320793151855,
          -28.684173583984375,
          -28.677928924560547,
          0.23049786686897278
         ],
         "yaxis": "y"
        },
        {
         "hovertemplate": "scaffold=43<br>tsne-x=%{x}<br>tsne-y=%{y}<extra></extra>",
         "legendgroup": "43",
         "marker": {
          "color": "#ab63fa",
          "symbol": "circle"
         },
         "mode": "markers",
         "name": "43",
         "showlegend": true,
         "type": "scattergl",
         "x": [
          26.181726455688477,
          25.069406509399414,
          28.964488983154297,
          21.207170486450195,
          25.954036712646484,
          21.2086124420166,
          25.120044708251953,
          28.97393798828125,
          24.76384162902832,
          26.7999267578125,
          26.665325164794922,
          27.18930435180664
         ],
         "xaxis": "x",
         "y": [
          -3.465261220932007,
          -2.888874053955078,
          -2.553859233856201,
          4.873802185058594,
          -3.7153587341308594,
          4.873603820800781,
          -3.647522449493408,
          -2.547011613845825,
          -2.505390167236328,
          -3.1577951908111572,
          -3.7407948970794678,
          -2.6028528213500977
         ],
         "yaxis": "y"
        },
        {
         "hovertemplate": "scaffold=44<br>tsne-x=%{x}<br>tsne-y=%{y}<extra></extra>",
         "legendgroup": "44",
         "marker": {
          "color": "#FFA15A",
          "symbol": "circle"
         },
         "mode": "markers",
         "name": "44",
         "showlegend": true,
         "type": "scattergl",
         "x": [
          -47.48406982421875,
          -47.33695983886719,
          -46.6376953125,
          -46.92386245727539,
          -48.03968811035156,
          -47.058067321777344,
          -47.22787094116211,
          -46.341400146484375,
          -46.43909454345703,
          -46.1468505859375,
          -46.644168853759766
         ],
         "xaxis": "x",
         "y": [
          -2.469132423400879,
          -2.7251811027526855,
          -2.7072484493255615,
          -2.2903778553009033,
          -3.477979898452759,
          -1.5131772756576538,
          -1.8171641826629639,
          -2.317491054534912,
          -1.6051849126815796,
          -1.8601816892623901,
          -1.2037829160690308
         ],
         "yaxis": "y"
        },
        {
         "hovertemplate": "scaffold=45<br>tsne-x=%{x}<br>tsne-y=%{y}<extra></extra>",
         "legendgroup": "45",
         "marker": {
          "color": "#19d3f3",
          "symbol": "circle"
         },
         "mode": "markers",
         "name": "45",
         "showlegend": true,
         "type": "scattergl",
         "x": [
          -26.702159881591797,
          -26.644458770751953,
          -26.777830123901367,
          -26.343032836914062,
          -26.22121238708496,
          -25.668134689331055,
          -26.119890213012695,
          -24.942819595336914,
          -25.53346061706543,
          -25.361452102661133,
          -25.292564392089844
         ],
         "xaxis": "x",
         "y": [
          6.828773498535156,
          7.351402282714844,
          6.693002700805664,
          7.17312479019165,
          7.840786933898926,
          6.085130214691162,
          7.553259372711182,
          7.345330238342285,
          6.76669454574585,
          7.091211795806885,
          6.819174289703369
         ],
         "yaxis": "y"
        },
        {
         "hovertemplate": "scaffold=46<br>tsne-x=%{x}<br>tsne-y=%{y}<extra></extra>",
         "legendgroup": "46",
         "marker": {
          "color": "#FF6692",
          "symbol": "circle"
         },
         "mode": "markers",
         "name": "46",
         "showlegend": true,
         "type": "scattergl",
         "x": [
          -24.680206298828125,
          -24.677326202392578,
          -25.185726165771484,
          -27.223955154418945,
          -26.32826805114746,
          -10.447649955749512,
          -25.97049331665039,
          -26.529090881347656,
          -9.6459321975708,
          -25.081995010375977,
          -26.623233795166016
         ],
         "xaxis": "x",
         "y": [
          -7.3314337730407715,
          -7.3584303855896,
          -8.308960914611816,
          -8.811163902282715,
          -9.506595611572266,
          -14.673361778259277,
          -8.940505027770996,
          -8.912368774414062,
          -14.046269416809082,
          -9.821756362915039,
          -8.795745849609375
         ],
         "yaxis": "y"
        },
        {
         "hovertemplate": "scaffold=47<br>tsne-x=%{x}<br>tsne-y=%{y}<extra></extra>",
         "legendgroup": "47",
         "marker": {
          "color": "#B6E880",
          "symbol": "circle"
         },
         "mode": "markers",
         "name": "47",
         "showlegend": true,
         "type": "scattergl",
         "x": [
          -17.03690528869629,
          5.1881103515625,
          -19.596630096435547,
          -20.003507614135742,
          -19.11750602722168,
          -20.066198348999023,
          -19.150774002075195,
          -20.557294845581055,
          -19.343399047851562,
          -20.858205795288086,
          -18.23459815979004
         ],
         "xaxis": "x",
         "y": [
          -4.9260993003845215,
          0.5262618064880371,
          -16.2933406829834,
          -13.688045501708984,
          -14.944839477539062,
          -13.729303359985352,
          -15.684242248535156,
          -14.435868263244629,
          -15.898279190063477,
          -14.989200592041016,
          -4.601287841796875
         ],
         "yaxis": "y"
        },
        {
         "hovertemplate": "scaffold=48<br>tsne-x=%{x}<br>tsne-y=%{y}<extra></extra>",
         "legendgroup": "48",
         "marker": {
          "color": "#FF97FF",
          "symbol": "circle"
         },
         "mode": "markers",
         "name": "48",
         "showlegend": true,
         "type": "scattergl",
         "x": [
          19.287033081054688,
          16.924747467041016,
          16.93628692626953,
          17.307113647460938,
          18.98229217529297,
          17.33201789855957,
          18.020069122314453,
          19.444482803344727,
          19.386428833007812,
          17.872190475463867,
          17.934337615966797
         ],
         "xaxis": "x",
         "y": [
          11.813726425170898,
          11.02480411529541,
          11.596054077148438,
          10.184422492980957,
          12.052526473999023,
          10.099862098693848,
          13.023613929748535,
          11.19884204864502,
          11.183177947998047,
          12.92347240447998,
          13.507246971130371
         ],
         "yaxis": "y"
        },
        {
         "hovertemplate": "scaffold=49<br>tsne-x=%{x}<br>tsne-y=%{y}<extra></extra>",
         "legendgroup": "49",
         "marker": {
          "color": "#FECB52",
          "symbol": "circle"
         },
         "mode": "markers",
         "name": "49",
         "showlegend": true,
         "type": "scattergl",
         "x": [
          3.887810230255127,
          13.892788887023926,
          1.6401593685150146,
          3.8907535076141357,
          1.647720456123352,
          2.8081724643707275,
          5.985617637634277,
          6.398016929626465,
          5.16203498840332,
          4.195854187011719,
          5.104775905609131
         ],
         "xaxis": "x",
         "y": [
          -30.477855682373047,
          8.571702003479004,
          -30.68817901611328,
          -30.491252899169922,
          -30.662790298461914,
          -17.474746704101562,
          -29.78725814819336,
          -30.110946655273438,
          -29.055450439453125,
          -29.29411506652832,
          -29.202795028686523
         ],
         "yaxis": "y"
        },
        {
         "hovertemplate": "scaffold=50<br>tsne-x=%{x}<br>tsne-y=%{y}<extra></extra>",
         "legendgroup": "50",
         "marker": {
          "color": "#636efa",
          "symbol": "circle"
         },
         "mode": "markers",
         "name": "50",
         "showlegend": true,
         "type": "scattergl",
         "x": [
          -18.78044891357422,
          -18.82630729675293,
          -18.99550437927246,
          -16.59788703918457,
          -17.403564453125,
          -16.582048416137695,
          -18.9622802734375,
          -17.975399017333984,
          -17.547523498535156,
          -16.77737808227539,
          -20.17711639404297
         ],
         "xaxis": "x",
         "y": [
          11.552087783813477,
          11.5573091506958,
          10.127103805541992,
          12.051395416259766,
          9.61020565032959,
          12.08171272277832,
          10.164945602416992,
          10.133477210998535,
          9.868367195129395,
          12.19793701171875,
          10.014657020568848
         ],
         "yaxis": "y"
        },
        {
         "hovertemplate": "scaffold=51<br>tsne-x=%{x}<br>tsne-y=%{y}<extra></extra>",
         "legendgroup": "51",
         "marker": {
          "color": "#EF553B",
          "symbol": "circle"
         },
         "mode": "markers",
         "name": "51",
         "showlegend": true,
         "type": "scattergl",
         "x": [
          -12.765759468078613,
          -14.045483589172363,
          -14.35600471496582,
          -14.247356414794922,
          -9.714494705200195,
          -9.113138198852539,
          6.648146629333496,
          -15.514676094055176,
          -15.413887023925781,
          -15.544041633605957,
          -14.363247871398926
         ],
         "xaxis": "x",
         "y": [
          -8.491358757019043,
          -8.241604804992676,
          -7.438350200653076,
          -7.509012222290039,
          -17.815235137939453,
          -9.361006736755371,
          -6.202195167541504,
          -6.598605632781982,
          -4.9901251792907715,
          -6.551056861877441,
          -7.941403865814209
         ],
         "yaxis": "y"
        },
        {
         "hovertemplate": "scaffold=52<br>tsne-x=%{x}<br>tsne-y=%{y}<extra></extra>",
         "legendgroup": "52",
         "marker": {
          "color": "#00cc96",
          "symbol": "circle"
         },
         "mode": "markers",
         "name": "52",
         "showlegend": true,
         "type": "scattergl",
         "x": [
          16.909147262573242,
          16.171939849853516,
          16.4674072265625,
          15.088339805603027,
          15.628737449645996,
          16.50051498413086,
          17.173141479492188,
          13.381514549255371,
          13.695018768310547,
          16.75577735900879,
          20.816184997558594
         ],
         "xaxis": "x",
         "y": [
          29.271284103393555,
          30.304824829101562,
          32.38874816894531,
          30.57146644592285,
          30.39217185974121,
          32.51429748535156,
          31.33163833618164,
          31.72736167907715,
          30.0869197845459,
          30.489715576171875,
          33.29243850708008
         ],
         "yaxis": "y"
        },
        {
         "hovertemplate": "scaffold=53<br>tsne-x=%{x}<br>tsne-y=%{y}<extra></extra>",
         "legendgroup": "53",
         "marker": {
          "color": "#ab63fa",
          "symbol": "circle"
         },
         "mode": "markers",
         "name": "53",
         "showlegend": true,
         "type": "scattergl",
         "x": [
          14.032569885253906,
          11.469843864440918,
          28.84876823425293,
          9.962359428405762,
          10.239374160766602,
          10.303262710571289,
          14.183509826660156,
          5.496812343597412,
          29.630523681640625,
          12.702272415161133,
          14.117037773132324
         ],
         "xaxis": "x",
         "y": [
          -16.739477157592773,
          -16.796281814575195,
          30.49880599975586,
          -21.887435913085938,
          -21.563688278198242,
          -21.623525619506836,
          -16.357540130615234,
          17.498266220092773,
          31.411401748657227,
          -15.330782890319824,
          -16.485584259033203
         ],
         "yaxis": "y"
        },
        {
         "hovertemplate": "scaffold=54<br>tsne-x=%{x}<br>tsne-y=%{y}<extra></extra>",
         "legendgroup": "54",
         "marker": {
          "color": "#FFA15A",
          "symbol": "circle"
         },
         "mode": "markers",
         "name": "54",
         "showlegend": true,
         "type": "scattergl",
         "x": [
          -32.117835998535156,
          -32.1807746887207,
          -30.427698135375977,
          -30.784395217895508,
          -31.123863220214844,
          -32.215972900390625,
          -31.051015853881836,
          -31.085893630981445,
          -26.832942962646484,
          -31.404590606689453
         ],
         "xaxis": "x",
         "y": [
          5.48488712310791,
          5.462888717651367,
          6.9390974044799805,
          6.725526809692383,
          6.7568464279174805,
          5.494688987731934,
          6.774022579193115,
          7.293450355529785,
          3.2425901889801025,
          7.19114351272583
         ],
         "yaxis": "y"
        },
        {
         "hovertemplate": "scaffold=55<br>tsne-x=%{x}<br>tsne-y=%{y}<extra></extra>",
         "legendgroup": "55",
         "marker": {
          "color": "#19d3f3",
          "symbol": "circle"
         },
         "mode": "markers",
         "name": "55",
         "showlegend": true,
         "type": "scattergl",
         "x": [
          -17.64823341369629,
          29.979196548461914,
          29.9569149017334,
          -17.70113754272461,
          -17.639419555664062,
          -17.60442543029785,
          -15.219402313232422,
          -15.155094146728516,
          -15.150217056274414,
          15.092808723449707
         ],
         "xaxis": "x",
         "y": [
          0.16683246195316315,
          27.850133895874023,
          27.770498275756836,
          -0.10046399384737015,
          0.049811843782663345,
          0.15498045086860657,
          16.934492111206055,
          16.90028953552246,
          16.881044387817383,
          16.624710083007812
         ],
         "yaxis": "y"
        },
        {
         "hovertemplate": "scaffold=56<br>tsne-x=%{x}<br>tsne-y=%{y}<extra></extra>",
         "legendgroup": "56",
         "marker": {
          "color": "#FF6692",
          "symbol": "circle"
         },
         "mode": "markers",
         "name": "56",
         "showlegend": true,
         "type": "scattergl",
         "x": [
          -8.598447799682617,
          -7.9968390464782715,
          -8.102775573730469,
          -7.965480804443359,
          -7.111978530883789,
          -7.387923717498779,
          -8.337509155273438,
          -8.674808502197266,
          20.062625885009766,
          -8.155442237854004
         ],
         "xaxis": "x",
         "y": [
          21.06667709350586,
          20.79575538635254,
          21.15312957763672,
          21.68085289001465,
          21.924604415893555,
          21.542612075805664,
          21.703271865844727,
          21.536968231201172,
          0.23325543105602264,
          22.16829490661621
         ],
         "yaxis": "y"
        },
        {
         "hovertemplate": "scaffold=57<br>tsne-x=%{x}<br>tsne-y=%{y}<extra></extra>",
         "legendgroup": "57",
         "marker": {
          "color": "#B6E880",
          "symbol": "circle"
         },
         "mode": "markers",
         "name": "57",
         "showlegend": true,
         "type": "scattergl",
         "x": [
          -14.459752082824707,
          -6.888723373413086,
          -8.327449798583984,
          -2.7040956020355225,
          -10.61383056640625,
          -5.6637864112854,
          -14.008526802062988,
          -7.038250923156738,
          -7.737844467163086,
          8.046735763549805
         ],
         "xaxis": "x",
         "y": [
          -4.27197790145874,
          -4.017602920532227,
          -4.035315990447998,
          -10.260866165161133,
          -3.9792709350585938,
          -11.186930656433105,
          4.3441033363342285,
          -4.060464859008789,
          5.612051486968994,
          5.6055521965026855
         ],
         "yaxis": "y"
        },
        {
         "hovertemplate": "scaffold=58<br>tsne-x=%{x}<br>tsne-y=%{y}<extra></extra>",
         "legendgroup": "58",
         "marker": {
          "color": "#FF97FF",
          "symbol": "circle"
         },
         "mode": "markers",
         "name": "58",
         "showlegend": true,
         "type": "scattergl",
         "x": [
          16.038766860961914,
          15.789934158325195,
          16.16458511352539,
          15.511201858520508,
          15.755827903747559,
          16.335735321044922,
          15.973528861999512,
          -2.312574625015259,
          14.81534194946289,
          17.315860748291016
         ],
         "xaxis": "x",
         "y": [
          22.446279525756836,
          21.331424713134766,
          23.38393783569336,
          22.722307205200195,
          22.15021514892578,
          22.351211547851562,
          22.100223541259766,
          -0.5930054187774658,
          22.80349349975586,
          23.32400894165039
         ],
         "yaxis": "y"
        },
        {
         "hovertemplate": "scaffold=59<br>tsne-x=%{x}<br>tsne-y=%{y}<extra></extra>",
         "legendgroup": "59",
         "marker": {
          "color": "#FECB52",
          "symbol": "circle"
         },
         "mode": "markers",
         "name": "59",
         "showlegend": true,
         "type": "scattergl",
         "x": [
          -19.92196273803711,
          -19.459091186523438,
          -19.4647274017334,
          -19.78986930847168,
          -19.87531852722168,
          -19.073768615722656,
          -20.392560958862305,
          -20.917072296142578,
          -20.671436309814453,
          -20.135324478149414
         ],
         "xaxis": "x",
         "y": [
          8.399252891540527,
          7.675097465515137,
          7.341475486755371,
          7.629269123077393,
          7.799297332763672,
          7.394055366516113,
          7.361250400543213,
          8.812679290771484,
          8.299480438232422,
          5.985799789428711
         ],
         "yaxis": "y"
        },
        {
         "hovertemplate": "scaffold=60<br>tsne-x=%{x}<br>tsne-y=%{y}<extra></extra>",
         "legendgroup": "60",
         "marker": {
          "color": "#636efa",
          "symbol": "circle"
         },
         "mode": "markers",
         "name": "60",
         "showlegend": true,
         "type": "scattergl",
         "x": [
          -11.32685661315918,
          -2.033158779144287,
          -22.730627059936523,
          -2.4075231552124023,
          -7.522579193115234,
          13.262410163879395,
          -4.9538187980651855,
          -4.195042610168457,
          -19.966371536254883,
          -7.528543472290039
         ],
         "xaxis": "x",
         "y": [
          -11.989823341369629,
          -18.673646926879883,
          -15.88925838470459,
          -34.13611602783203,
          -10.890273094177246,
          -32.087955474853516,
          9.971759796142578,
          -15.057706832885742,
          -17.15015411376953,
          -10.934286117553711
         ],
         "yaxis": "y"
        },
        {
         "hovertemplate": "scaffold=61<br>tsne-x=%{x}<br>tsne-y=%{y}<extra></extra>",
         "legendgroup": "61",
         "marker": {
          "color": "#EF553B",
          "symbol": "circle"
         },
         "mode": "markers",
         "name": "61",
         "showlegend": true,
         "type": "scattergl",
         "x": [
          -12.267243385314941,
          9.260150909423828,
          31.116857528686523,
          28.067554473876953,
          26.597801208496094,
          28.04157257080078,
          31.08702278137207,
          33.086952209472656,
          7.544061660766602,
          19.388935089111328
         ],
         "xaxis": "x",
         "y": [
          24.945676803588867,
          1.2896249294281006,
          -5.784830093383789,
          -6.705141544342041,
          -6.272096157073975,
          -6.689964771270752,
          -5.8408732414245605,
          15.807733535766602,
          6.6903486251831055,
          7.400863170623779
         ],
         "yaxis": "y"
        },
        {
         "hovertemplate": "scaffold=62<br>tsne-x=%{x}<br>tsne-y=%{y}<extra></extra>",
         "legendgroup": "62",
         "marker": {
          "color": "#00cc96",
          "symbol": "circle"
         },
         "mode": "markers",
         "name": "62",
         "showlegend": true,
         "type": "scattergl",
         "x": [
          -5.542355537414551,
          -5.457324981689453,
          -12.293146133422852,
          -19.02115249633789,
          -19.008472442626953,
          31.883800506591797,
          -18.414329528808594,
          -34.44919204711914,
          -34.34709548950195,
          -35.23712921142578
         ],
         "xaxis": "x",
         "y": [
          30.687152862548828,
          30.692628860473633,
          24.94257926940918,
          22.37580680847168,
          22.409055709838867,
          5.587369918823242,
          22.380325317382812,
          1.223655104637146,
          1.1975977420806885,
          1.4676254987716675
         ],
         "yaxis": "y"
        },
        {
         "hovertemplate": "scaffold=63<br>tsne-x=%{x}<br>tsne-y=%{y}<extra></extra>",
         "legendgroup": "63",
         "marker": {
          "color": "#ab63fa",
          "symbol": "circle"
         },
         "mode": "markers",
         "name": "63",
         "showlegend": true,
         "type": "scattergl",
         "x": [
          15.815357208251953,
          16.503952026367188,
          30.393503189086914,
          27.546606063842773,
          16.339126586914062,
          27.506580352783203,
          -36.31078338623047,
          17.389293670654297,
          18.226764678955078,
          17.423086166381836
         ],
         "xaxis": "x",
         "y": [
          -32.452178955078125,
          -32.37895202636719,
          -14.31530475616455,
          -13.909327507019043,
          -35.761390686035156,
          -14.082767486572266,
          1.8933840990066528,
          -35.295867919921875,
          -35.237979888916016,
          -35.27085494995117
         ],
         "yaxis": "y"
        },
        {
         "hovertemplate": "scaffold=64<br>tsne-x=%{x}<br>tsne-y=%{y}<extra></extra>",
         "legendgroup": "64",
         "marker": {
          "color": "#FFA15A",
          "symbol": "circle"
         },
         "mode": "markers",
         "name": "64",
         "showlegend": true,
         "type": "scattergl",
         "x": [
          -8.748994827270508,
          -8.70476245880127,
          -9.477110862731934,
          -9.066963195800781,
          -9.296441078186035,
          -8.999473571777344,
          -9.542902946472168,
          -9.900322914123535,
          -9.394906044006348
         ],
         "xaxis": "x",
         "y": [
          -15.875672340393066,
          -16.342939376831055,
          -16.39191436767578,
          -16.445560455322266,
          -15.967215538024902,
          -15.481695175170898,
          -15.321545600891113,
          -15.827972412109375,
          -15.612860679626465
         ],
         "yaxis": "y"
        },
        {
         "hovertemplate": "scaffold=65<br>tsne-x=%{x}<br>tsne-y=%{y}<extra></extra>",
         "legendgroup": "65",
         "marker": {
          "color": "#19d3f3",
          "symbol": "circle"
         },
         "mode": "markers",
         "name": "65",
         "showlegend": true,
         "type": "scattergl",
         "x": [
          -36.55394744873047,
          -36.876258850097656,
          -36.653717041015625,
          -37.44871139526367,
          -36.87397766113281,
          -37.1806755065918,
          -37.30181121826172,
          -36.4415168762207,
          -36.64179992675781
         ],
         "xaxis": "x",
         "y": [
          16.508771896362305,
          16.620573043823242,
          17.16193389892578,
          17.370506286621094,
          17.711498260498047,
          17.504934310913086,
          16.3406925201416,
          17.341567993164062,
          17.804853439331055
         ],
         "yaxis": "y"
        },
        {
         "hovertemplate": "scaffold=66<br>tsne-x=%{x}<br>tsne-y=%{y}<extra></extra>",
         "legendgroup": "66",
         "marker": {
          "color": "#FF6692",
          "symbol": "circle"
         },
         "mode": "markers",
         "name": "66",
         "showlegend": true,
         "type": "scattergl",
         "x": [
          1.4680267572402954,
          3.565380811691284,
          1.669116497039795,
          1.4749819040298462,
          3.6111338138580322,
          3.556749105453491,
          2.4860012531280518,
          3.050266981124878,
          2.6377005577087402
         ],
         "xaxis": "x",
         "y": [
          13.617504119873047,
          14.926899909973145,
          13.695147514343262,
          13.717267990112305,
          15.669121742248535,
          15.578498840332031,
          14.178905487060547,
          14.37134075164795,
          14.825435638427734
         ],
         "yaxis": "y"
        },
        {
         "hovertemplate": "scaffold=67<br>tsne-x=%{x}<br>tsne-y=%{y}<extra></extra>",
         "legendgroup": "67",
         "marker": {
          "color": "#B6E880",
          "symbol": "circle"
         },
         "mode": "markers",
         "name": "67",
         "showlegend": true,
         "type": "scattergl",
         "x": [
          -21.453392028808594,
          -21.494333267211914,
          -20.52263832092285,
          -20.724761962890625,
          -20.902681350708008,
          -20.18084716796875,
          -19.859119415283203,
          -20.197282791137695,
          -20.076980590820312
         ],
         "xaxis": "x",
         "y": [
          -24.35164451599121,
          -24.85505485534668,
          -24.134252548217773,
          -24.760805130004883,
          -24.955427169799805,
          -25.520614624023438,
          -24.68305015563965,
          -25.36202621459961,
          -25.261384963989258
         ],
         "yaxis": "y"
        },
        {
         "hovertemplate": "scaffold=68<br>tsne-x=%{x}<br>tsne-y=%{y}<extra></extra>",
         "legendgroup": "68",
         "marker": {
          "color": "#FF97FF",
          "symbol": "circle"
         },
         "mode": "markers",
         "name": "68",
         "showlegend": true,
         "type": "scattergl",
         "x": [
          -25.910554885864258,
          -25.640647888183594,
          -26.047807693481445,
          -28.784626007080078,
          -28.450992584228516,
          -28.906234741210938,
          -26.718475341796875,
          -23.959016799926758,
          -23.93490982055664
         ],
         "xaxis": "x",
         "y": [
          -3.346423387527466,
          -3.1895604133605957,
          -2.8210697174072266,
          -5.592164039611816,
          1.936546802520752,
          -5.783476829528809,
          -6.86402702331543,
          -3.995990514755249,
          -3.4746339321136475
         ],
         "yaxis": "y"
        },
        {
         "hovertemplate": "scaffold=69<br>tsne-x=%{x}<br>tsne-y=%{y}<extra></extra>",
         "legendgroup": "69",
         "marker": {
          "color": "#FECB52",
          "symbol": "circle"
         },
         "mode": "markers",
         "name": "69",
         "showlegend": true,
         "type": "scattergl",
         "x": [
          5.089909076690674,
          5.38129997253418,
          5.532653331756592,
          5.773560047149658,
          5.485248565673828,
          5.971024990081787,
          5.81276798248291,
          7.601940155029297,
          6.48821496963501
         ],
         "xaxis": "x",
         "y": [
          31.862939834594727,
          31.957317352294922,
          32.16275405883789,
          32.16595458984375,
          31.333703994750977,
          31.855329513549805,
          31.56624412536621,
          31.440275192260742,
          31.65413475036621
         ],
         "yaxis": "y"
        },
        {
         "hovertemplate": "scaffold=70<br>tsne-x=%{x}<br>tsne-y=%{y}<extra></extra>",
         "legendgroup": "70",
         "marker": {
          "color": "#636efa",
          "symbol": "circle"
         },
         "mode": "markers",
         "name": "70",
         "showlegend": true,
         "type": "scattergl",
         "x": [
          -27.741191864013672,
          -28.958290100097656,
          -28.65325164794922,
          -28.077638626098633,
          -29.42955207824707,
          -29.236305236816406,
          -29.052391052246094,
          -27.847211837768555,
          -28.43510627746582
         ],
         "xaxis": "x",
         "y": [
          -25.831432342529297,
          -26.147743225097656,
          -26.02581024169922,
          -25.077077865600586,
          -24.472900390625,
          -24.8835391998291,
          -25.938310623168945,
          -25.139122009277344,
          -26.338375091552734
         ],
         "yaxis": "y"
        },
        {
         "hovertemplate": "scaffold=71<br>tsne-x=%{x}<br>tsne-y=%{y}<extra></extra>",
         "legendgroup": "71",
         "marker": {
          "color": "#EF553B",
          "symbol": "circle"
         },
         "mode": "markers",
         "name": "71",
         "showlegend": true,
         "type": "scattergl",
         "x": [
          -35.78665542602539,
          -34.85824203491211,
          -35.744422912597656,
          -36.03565979003906,
          -35.79140090942383,
          -35.88155746459961,
          -35.78618621826172,
          -36.04359436035156,
          -36.804443359375
         ],
         "xaxis": "x",
         "y": [
          -4.391164302825928,
          -3.9382870197296143,
          -5.434442043304443,
          -3.838495969772339,
          -6.420337677001953,
          -4.41775369644165,
          -6.388843536376953,
          -4.610469818115234,
          -4.340671062469482
         ],
         "yaxis": "y"
        },
        {
         "hovertemplate": "scaffold=72<br>tsne-x=%{x}<br>tsne-y=%{y}<extra></extra>",
         "legendgroup": "72",
         "marker": {
          "color": "#00cc96",
          "symbol": "circle"
         },
         "mode": "markers",
         "name": "72",
         "showlegend": true,
         "type": "scattergl",
         "x": [
          4.623219013214111,
          -22.190183639526367,
          -8.923468589782715,
          -4.586574554443359,
          -4.147464752197266,
          -3.738416910171509,
          -4.464293479919434,
          1.3581228256225586,
          5.58833646774292
         ],
         "xaxis": "x",
         "y": [
          13.267502784729004,
          -6.2163615226745605,
          -3.033353805541992,
          10.713990211486816,
          11.128643035888672,
          11.143052101135254,
          10.840357780456543,
          14.896478652954102,
          13.557158470153809
         ],
         "yaxis": "y"
        },
        {
         "hovertemplate": "scaffold=73<br>tsne-x=%{x}<br>tsne-y=%{y}<extra></extra>",
         "legendgroup": "73",
         "marker": {
          "color": "#ab63fa",
          "symbol": "circle"
         },
         "mode": "markers",
         "name": "73",
         "showlegend": true,
         "type": "scattergl",
         "x": [
          -5.464447498321533,
          -5.782690048217773,
          -6.5569868087768555,
          -5.37382698059082,
          -6.2271809577941895,
          -6.620334625244141,
          -6.289668560028076,
          -6.2242655754089355,
          -6.425118923187256
         ],
         "xaxis": "x",
         "y": [
          -29.548477172851562,
          -29.684236526489258,
          -29.5891170501709,
          -28.923980712890625,
          -28.613353729248047,
          -28.82632064819336,
          -29.407012939453125,
          -28.5919132232666,
          -28.347244262695312
         ],
         "yaxis": "y"
        },
        {
         "hovertemplate": "scaffold=74<br>tsne-x=%{x}<br>tsne-y=%{y}<extra></extra>",
         "legendgroup": "74",
         "marker": {
          "color": "#FFA15A",
          "symbol": "circle"
         },
         "mode": "markers",
         "name": "74",
         "showlegend": true,
         "type": "scattergl",
         "x": [
          -7.9108757972717285,
          -8.242284774780273,
          -8.434389114379883,
          33.055877685546875,
          -9.340706825256348,
          -8.470585823059082,
          -9.50195026397705,
          -8.721147537231445,
          -9.406707763671875
         ],
         "xaxis": "x",
         "y": [
          10.09762191772461,
          10.184910774230957,
          11.245818138122559,
          1.0568063259124756,
          10.36972427368164,
          11.320181846618652,
          -11.650052070617676,
          -1.7009620666503906,
          -11.631003379821777
         ],
         "yaxis": "y"
        },
        {
         "hovertemplate": "scaffold=75<br>tsne-x=%{x}<br>tsne-y=%{y}<extra></extra>",
         "legendgroup": "75",
         "marker": {
          "color": "#19d3f3",
          "symbol": "circle"
         },
         "mode": "markers",
         "name": "75",
         "showlegend": true,
         "type": "scattergl",
         "x": [
          -15.203658103942871,
          -14.853795051574707,
          -22.12487030029297,
          -1.6123814582824707,
          -2.6131300926208496,
          21.105426788330078,
          21.22248649597168,
          -23.259296417236328,
          20.29245948791504
         ],
         "xaxis": "x",
         "y": [
          -24.534406661987305,
          -3.7378907203674316,
          0.2306855469942093,
          -1.8185501098632812,
          -2.0356764793395996,
          -10.110416412353516,
          -10.06130313873291,
          -8.306808471679688,
          -10.332926750183105
         ],
         "yaxis": "y"
        },
        {
         "hovertemplate": "scaffold=76<br>tsne-x=%{x}<br>tsne-y=%{y}<extra></extra>",
         "legendgroup": "76",
         "marker": {
          "color": "#FF6692",
          "symbol": "circle"
         },
         "mode": "markers",
         "name": "76",
         "showlegend": true,
         "type": "scattergl",
         "x": [
          -18.387033462524414,
          -18.741453170776367,
          -20.152164459228516,
          -18.6649169921875,
          -19.636287689208984,
          -20.39341163635254,
          -19.624202728271484,
          -19.131776809692383,
          -19.598283767700195
         ],
         "xaxis": "x",
         "y": [
          -2.916574716567993,
          -3.030888795852661,
          -4.076315879821777,
          -1.9945296049118042,
          -3.4718291759490967,
          -4.362301826477051,
          -4.3608174324035645,
          -4.157532691955566,
          -3.6524317264556885
         ],
         "yaxis": "y"
        },
        {
         "hovertemplate": "scaffold=77<br>tsne-x=%{x}<br>tsne-y=%{y}<extra></extra>",
         "legendgroup": "77",
         "marker": {
          "color": "#B6E880",
          "symbol": "circle"
         },
         "mode": "markers",
         "name": "77",
         "showlegend": true,
         "type": "scattergl",
         "x": [
          11.112313270568848,
          11.198390007019043,
          11.717103958129883,
          11.11909008026123,
          5.376625061035156,
          4.422239780426025,
          22.00181007385254,
          11.58637523651123,
          12.02971076965332
         ],
         "xaxis": "x",
         "y": [
          -28.554887771606445,
          -28.170000076293945,
          -27.374061584472656,
          -27.900522232055664,
          -20.2440128326416,
          -20.24262046813965,
          -12.234967231750488,
          -27.40742301940918,
          -27.17875099182129
         ],
         "yaxis": "y"
        },
        {
         "hovertemplate": "scaffold=78<br>tsne-x=%{x}<br>tsne-y=%{y}<extra></extra>",
         "legendgroup": "78",
         "marker": {
          "color": "#FF97FF",
          "symbol": "circle"
         },
         "mode": "markers",
         "name": "78",
         "showlegend": true,
         "type": "scattergl",
         "x": [
          -10.339160919189453,
          2.4614763259887695,
          2.268531322479248,
          -10.276275634765625,
          3.064424991607666,
          3.2433741092681885,
          1.9847829341888428,
          -23.36598014831543,
          2.917445421218872
         ],
         "xaxis": "x",
         "y": [
          -35.459346771240234,
          -24.27781867980957,
          -23.951932907104492,
          -35.45920944213867,
          -19.677593231201172,
          -19.897491455078125,
          -23.699363708496094,
          21.788623809814453,
          -25.103544235229492
         ],
         "yaxis": "y"
        },
        {
         "hovertemplate": "scaffold=79<br>tsne-x=%{x}<br>tsne-y=%{y}<extra></extra>",
         "legendgroup": "79",
         "marker": {
          "color": "#FECB52",
          "symbol": "circle"
         },
         "mode": "markers",
         "name": "79",
         "showlegend": true,
         "type": "scattergl",
         "x": [
          27.13412094116211,
          7.210419178009033,
          26.992069244384766,
          7.180761337280273,
          -2.0294594764709473,
          3.317347764968872,
          -2.216439962387085,
          -2.5375335216522217,
          -2.699063539505005
         ],
         "xaxis": "x",
         "y": [
          27.706567764282227,
          1.9960155487060547,
          27.59220314025879,
          2.0351369380950928,
          9.294183731079102,
          0.8756070733070374,
          9.13595199584961,
          9.095967292785645,
          8.597567558288574
         ],
         "yaxis": "y"
        },
        {
         "hovertemplate": "scaffold=80<br>tsne-x=%{x}<br>tsne-y=%{y}<extra></extra>",
         "legendgroup": "80",
         "marker": {
          "color": "#636efa",
          "symbol": "circle"
         },
         "mode": "markers",
         "name": "80",
         "showlegend": true,
         "type": "scattergl",
         "x": [
          -10.614469528198242,
          -18.071630477905273,
          0.8620922565460205,
          -16.071239471435547,
          -16.00214385986328,
          18.26593017578125,
          -21.817615509033203,
          -15.96820068359375,
          16.83839988708496
         ],
         "xaxis": "x",
         "y": [
          8.538357734680176,
          5.6684699058532715,
          12.15874195098877,
          6.36909294128418,
          6.581754207611084,
          -4.850651264190674,
          -10.002436637878418,
          6.647457122802734,
          -4.796203136444092
         ],
         "yaxis": "y"
        },
        {
         "hovertemplate": "scaffold=81<br>tsne-x=%{x}<br>tsne-y=%{y}<extra></extra>",
         "legendgroup": "81",
         "marker": {
          "color": "#EF553B",
          "symbol": "circle"
         },
         "mode": "markers",
         "name": "81",
         "showlegend": true,
         "type": "scattergl",
         "x": [
          37.70063781738281,
          37.72568130493164,
          35.42593002319336,
          35.43974685668945,
          37.67589569091797,
          37.63258361816406,
          35.419681549072266,
          35.35066604614258
         ],
         "xaxis": "x",
         "y": [
          -22.381519317626953,
          -22.35025405883789,
          -24.154861450195312,
          -24.141447067260742,
          -22.385149002075195,
          -22.276460647583008,
          -24.154783248901367,
          -24.172353744506836
         ],
         "yaxis": "y"
        },
        {
         "hovertemplate": "scaffold=82<br>tsne-x=%{x}<br>tsne-y=%{y}<extra></extra>",
         "legendgroup": "82",
         "marker": {
          "color": "#00cc96",
          "symbol": "circle"
         },
         "mode": "markers",
         "name": "82",
         "showlegend": true,
         "type": "scattergl",
         "x": [
          -40.663360595703125,
          -37.57621383666992,
          -39.43806838989258,
          -40.65895080566406,
          -39.826744079589844,
          -40.14696502685547,
          -38.23033905029297,
          -40.26538848876953
         ],
         "xaxis": "x",
         "y": [
          8.525080680847168,
          8.879095077514648,
          8.301281929016113,
          8.574684143066406,
          8.050264358520508,
          7.542055130004883,
          8.67425537109375,
          6.970071315765381
         ],
         "yaxis": "y"
        },
        {
         "hovertemplate": "scaffold=83<br>tsne-x=%{x}<br>tsne-y=%{y}<extra></extra>",
         "legendgroup": "83",
         "marker": {
          "color": "#ab63fa",
          "symbol": "circle"
         },
         "mode": "markers",
         "name": "83",
         "showlegend": true,
         "type": "scattergl",
         "x": [
          11.881961822509766,
          12.694284439086914,
          12.256997108459473,
          12.834075927734375,
          12.522200584411621,
          11.693901062011719,
          11.997403144836426,
          12.094286918640137
         ],
         "xaxis": "x",
         "y": [
          9.154781341552734,
          9.241897583007812,
          9.02946949005127,
          9.599813461303711,
          9.807076454162598,
          9.852131843566895,
          10.049397468566895,
          9.436203002929688
         ],
         "yaxis": "y"
        },
        {
         "hovertemplate": "scaffold=84<br>tsne-x=%{x}<br>tsne-y=%{y}<extra></extra>",
         "legendgroup": "84",
         "marker": {
          "color": "#FFA15A",
          "symbol": "circle"
         },
         "mode": "markers",
         "name": "84",
         "showlegend": true,
         "type": "scattergl",
         "x": [
          -16.1059627532959,
          -22.79426383972168,
          -22.936264038085938,
          -16.809049606323242,
          -23.036659240722656,
          -16.072406768798828,
          -16.770572662353516,
          -22.97492790222168
         ],
         "xaxis": "x",
         "y": [
          -17.255571365356445,
          -12.175931930541992,
          -12.375657081604004,
          -16.396305084228516,
          -12.443248748779297,
          -17.29276466369629,
          -16.416574478149414,
          -12.358481407165527
         ],
         "yaxis": "y"
        },
        {
         "hovertemplate": "scaffold=85<br>tsne-x=%{x}<br>tsne-y=%{y}<extra></extra>",
         "legendgroup": "85",
         "marker": {
          "color": "#19d3f3",
          "symbol": "circle"
         },
         "mode": "markers",
         "name": "85",
         "showlegend": true,
         "type": "scattergl",
         "x": [
          6.2651824951171875,
          6.088638782501221,
          6.580124378204346,
          7.284447193145752,
          6.53823709487915,
          5.530678749084473,
          6.369964122772217,
          5.53135871887207
         ],
         "xaxis": "x",
         "y": [
          -14.358685493469238,
          -14.209739685058594,
          -13.981433868408203,
          -13.074986457824707,
          -14.135374069213867,
          -13.142269134521484,
          -14.72868537902832,
          -14.053526878356934
         ],
         "yaxis": "y"
        },
        {
         "hovertemplate": "scaffold=86<br>tsne-x=%{x}<br>tsne-y=%{y}<extra></extra>",
         "legendgroup": "86",
         "marker": {
          "color": "#FF6692",
          "symbol": "circle"
         },
         "mode": "markers",
         "name": "86",
         "showlegend": true,
         "type": "scattergl",
         "x": [
          -10.577154159545898,
          -11.041600227355957,
          -11.60822582244873,
          -10.867253303527832,
          -11.233083724975586,
          -11.72214412689209,
          -11.474540710449219,
          -10.90311336517334
         ],
         "xaxis": "x",
         "y": [
          0.5597834587097168,
          0.011553054675459862,
          -1.178308129310608,
          -1.1321771144866943,
          -0.5028733015060425,
          -1.0679574012756348,
          -0.5867123603820801,
          -0.8350793719291687
         ],
         "yaxis": "y"
        },
        {
         "hovertemplate": "scaffold=87<br>tsne-x=%{x}<br>tsne-y=%{y}<extra></extra>",
         "legendgroup": "87",
         "marker": {
          "color": "#B6E880",
          "symbol": "circle"
         },
         "mode": "markers",
         "name": "87",
         "showlegend": true,
         "type": "scattergl",
         "x": [
          30.39212417602539,
          29.65004539489746,
          29.62715721130371,
          30.693363189697266,
          29.234975814819336,
          31.060335159301758,
          28.563575744628906,
          28.388906478881836
         ],
         "xaxis": "x",
         "y": [
          6.773853302001953,
          5.554291248321533,
          5.590566635131836,
          6.505364418029785,
          5.495841026306152,
          6.2719502449035645,
          5.566654682159424,
          5.897335529327393
         ],
         "yaxis": "y"
        },
        {
         "hovertemplate": "scaffold=88<br>tsne-x=%{x}<br>tsne-y=%{y}<extra></extra>",
         "legendgroup": "88",
         "marker": {
          "color": "#FF97FF",
          "symbol": "circle"
         },
         "mode": "markers",
         "name": "88",
         "showlegend": true,
         "type": "scattergl",
         "x": [
          -13.235381126403809,
          -0.23399977385997772,
          -12.4600248336792,
          1.6720699071884155,
          2.152653217315674,
          0.3495899736881256,
          -12.150614738464355,
          2.019378423690796
         ],
         "xaxis": "x",
         "y": [
          -3.8724124431610107,
          4.747644901275635,
          -3.7902727127075195,
          6.002469539642334,
          6.172997951507568,
          3.8382205963134766,
          -3.705312728881836,
          4.623109340667725
         ],
         "yaxis": "y"
        },
        {
         "hovertemplate": "scaffold=89<br>tsne-x=%{x}<br>tsne-y=%{y}<extra></extra>",
         "legendgroup": "89",
         "marker": {
          "color": "#FECB52",
          "symbol": "circle"
         },
         "mode": "markers",
         "name": "89",
         "showlegend": true,
         "type": "scattergl",
         "x": [
          7.019268989562988,
          7.258734703063965,
          1.296661615371704,
          6.342551231384277,
          1.2970921993255615,
          -10.894901275634766,
          6.758754730224609,
          6.695230007171631
         ],
         "xaxis": "x",
         "y": [
          39.750675201416016,
          39.65705871582031,
          28.108863830566406,
          38.98075485229492,
          28.11012077331543,
          -19.169124603271484,
          39.39454650878906,
          39.35554885864258
         ],
         "yaxis": "y"
        },
        {
         "hovertemplate": "scaffold=90<br>tsne-x=%{x}<br>tsne-y=%{y}<extra></extra>",
         "legendgroup": "90",
         "marker": {
          "color": "#636efa",
          "symbol": "circle"
         },
         "mode": "markers",
         "name": "90",
         "showlegend": true,
         "type": "scattergl",
         "x": [
          2.2777435779571533,
          0.6390942335128784,
          2.3715438842773438,
          1.9979935884475708,
          1.6310672760009766,
          -0.18567654490470886,
          0.528103232383728,
          0.9427535533905029
         ],
         "xaxis": "x",
         "y": [
          -9.454315185546875,
          -9.288484573364258,
          -9.73987865447998,
          -9.07264232635498,
          -8.574416160583496,
          -9.304101943969727,
          -9.15318775177002,
          -8.761295318603516
         ],
         "yaxis": "y"
        },
        {
         "hovertemplate": "scaffold=91<br>tsne-x=%{x}<br>tsne-y=%{y}<extra></extra>",
         "legendgroup": "91",
         "marker": {
          "color": "#EF553B",
          "symbol": "circle"
         },
         "mode": "markers",
         "name": "91",
         "showlegend": true,
         "type": "scattergl",
         "x": [
          17.945419311523438,
          -6.164256572723389,
          -0.915931224822998,
          17.9783878326416,
          -0.561169445514679,
          -0.48841527104377747,
          0.03534650057554245,
          18.583391189575195
         ],
         "xaxis": "x",
         "y": [
          18.080623626708984,
          15.622026443481445,
          13.370316505432129,
          17.998485565185547,
          13.43840217590332,
          14.101279258728027,
          13.349671363830566,
          17.4449405670166
         ],
         "yaxis": "y"
        },
        {
         "hovertemplate": "scaffold=92<br>tsne-x=%{x}<br>tsne-y=%{y}<extra></extra>",
         "legendgroup": "92",
         "marker": {
          "color": "#00cc96",
          "symbol": "circle"
         },
         "mode": "markers",
         "name": "92",
         "showlegend": true,
         "type": "scattergl",
         "x": [
          25.78862190246582,
          24.793010711669922,
          24.150924682617188,
          -11.138668060302734,
          24.57871437072754,
          24.473438262939453,
          24.173919677734375,
          24.42863655090332
         ],
         "xaxis": "x",
         "y": [
          -33.93644332885742,
          -33.9408073425293,
          -34.414730072021484,
          -13.271727561950684,
          -33.17485046386719,
          -33.08955001831055,
          -34.40365219116211,
          -32.963748931884766
         ],
         "yaxis": "y"
        },
        {
         "hovertemplate": "scaffold=93<br>tsne-x=%{x}<br>tsne-y=%{y}<extra></extra>",
         "legendgroup": "93",
         "marker": {
          "color": "#ab63fa",
          "symbol": "circle"
         },
         "mode": "markers",
         "name": "93",
         "showlegend": true,
         "type": "scattergl",
         "x": [
          10.538924217224121,
          10.428579330444336,
          9.79227066040039,
          10.397315979003906,
          3.239694118499756,
          9.892377853393555,
          10.191646575927734,
          9.924220085144043
         ],
         "xaxis": "x",
         "y": [
          13.464391708374023,
          13.601958274841309,
          13.218400955200195,
          13.653584480285645,
          -6.711207389831543,
          3.341282606124878,
          4.377305507659912,
          3.472169876098633
         ],
         "yaxis": "y"
        },
        {
         "hovertemplate": "scaffold=94<br>tsne-x=%{x}<br>tsne-y=%{y}<extra></extra>",
         "legendgroup": "94",
         "marker": {
          "color": "#FFA15A",
          "symbol": "circle"
         },
         "mode": "markers",
         "name": "94",
         "showlegend": true,
         "type": "scattergl",
         "x": [
          -8.343741416931152,
          18.397438049316406,
          -32.68583297729492,
          -9.86197280883789,
          26.947216033935547,
          -10.704442024230957,
          -9.467879295349121,
          -5.839813232421875
         ],
         "xaxis": "x",
         "y": [
          17.358003616333008,
          -21.897293090820312,
          -7.883483409881592,
          16.71997833251953,
          26.32756233215332,
          16.326879501342773,
          16.82901954650879,
          18.063613891601562
         ],
         "yaxis": "y"
        },
        {
         "hovertemplate": "scaffold=95<br>tsne-x=%{x}<br>tsne-y=%{y}<extra></extra>",
         "legendgroup": "95",
         "marker": {
          "color": "#19d3f3",
          "symbol": "circle"
         },
         "mode": "markers",
         "name": "95",
         "showlegend": true,
         "type": "scattergl",
         "x": [
          28.20636558532715,
          26.559165954589844,
          28.785982131958008,
          27.25700569152832,
          27.50558090209961,
          27.578367233276367,
          27.709428787231445,
          28.0424861907959
         ],
         "xaxis": "x",
         "y": [
          27.67214584350586,
          19.589853286743164,
          19.072811126708984,
          19.920438766479492,
          20.257076263427734,
          19.700349807739258,
          19.445131301879883,
          18.802955627441406
         ],
         "yaxis": "y"
        },
        {
         "hovertemplate": "scaffold=96<br>tsne-x=%{x}<br>tsne-y=%{y}<extra></extra>",
         "legendgroup": "96",
         "marker": {
          "color": "#FF6692",
          "symbol": "circle"
         },
         "mode": "markers",
         "name": "96",
         "showlegend": true,
         "type": "scattergl",
         "x": [
          -12.071799278259277,
          -11.760091781616211,
          -11.276640892028809,
          -12.260141372680664,
          -11.363752365112305,
          -12.433053016662598,
          -12.21616268157959
         ],
         "xaxis": "x",
         "y": [
          -17.931804656982422,
          -18.08392333984375,
          -17.574817657470703,
          -17.423316955566406,
          -17.518218994140625,
          -17.053749084472656,
          -17.109235763549805
         ],
         "yaxis": "y"
        },
        {
         "hovertemplate": "scaffold=97<br>tsne-x=%{x}<br>tsne-y=%{y}<extra></extra>",
         "legendgroup": "97",
         "marker": {
          "color": "#B6E880",
          "symbol": "circle"
         },
         "mode": "markers",
         "name": "97",
         "showlegend": true,
         "type": "scattergl",
         "x": [
          -36.89940643310547,
          -37.17491149902344,
          -37.36759567260742,
          -36.63581848144531,
          -36.53414535522461,
          -37.469200134277344,
          -36.40559005737305
         ],
         "xaxis": "x",
         "y": [
          -10.210184097290039,
          -10.044975280761719,
          -10.625544548034668,
          -10.556706428527832,
          -10.394906997680664,
          -9.787251472473145,
          -10.392273902893066
         ],
         "yaxis": "y"
        },
        {
         "hovertemplate": "scaffold=98<br>tsne-x=%{x}<br>tsne-y=%{y}<extra></extra>",
         "legendgroup": "98",
         "marker": {
          "color": "#FF97FF",
          "symbol": "circle"
         },
         "mode": "markers",
         "name": "98",
         "showlegend": true,
         "type": "scattergl",
         "x": [
          -0.07464137673377991,
          0.5459141731262207,
          0.8946672677993774,
          1.0301519632339478,
          0.1077038049697876,
          0.21141871809959412,
          0.32069131731987
         ],
         "xaxis": "x",
         "y": [
          16.36235237121582,
          16.788291931152344,
          17.325286865234375,
          17.67290496826172,
          17.1359806060791,
          17.075727462768555,
          17.565597534179688
         ],
         "yaxis": "y"
        },
        {
         "hovertemplate": "scaffold=99<br>tsne-x=%{x}<br>tsne-y=%{y}<extra></extra>",
         "legendgroup": "99",
         "marker": {
          "color": "#FECB52",
          "symbol": "circle"
         },
         "mode": "markers",
         "name": "99",
         "showlegend": true,
         "type": "scattergl",
         "x": [
          -32.88718032836914,
          -31.71222686767578,
          -32.958126068115234,
          -32.69673538208008,
          -31.712724685668945,
          -32.48634338378906,
          -32.49235916137695
         ],
         "xaxis": "x",
         "y": [
          -19.323810577392578,
          -19.460765838623047,
          -19.35701560974121,
          -19.563373565673828,
          -19.53234100341797,
          -17.75139045715332,
          -17.742103576660156
         ],
         "yaxis": "y"
        }
       ],
       "layout": {
        "height": 800,
        "legend": {
         "title": {
          "text": "scaffold"
         },
         "tracegroupgap": 0
        },
        "margin": {
         "t": 60
        },
        "template": {
         "data": {
          "bar": [
           {
            "error_x": {
             "color": "#2a3f5f"
            },
            "error_y": {
             "color": "#2a3f5f"
            },
            "marker": {
             "line": {
              "color": "#E5ECF6",
              "width": 0.5
             },
             "pattern": {
              "fillmode": "overlay",
              "size": 10,
              "solidity": 0.2
             }
            },
            "type": "bar"
           }
          ],
          "barpolar": [
           {
            "marker": {
             "line": {
              "color": "#E5ECF6",
              "width": 0.5
             },
             "pattern": {
              "fillmode": "overlay",
              "size": 10,
              "solidity": 0.2
             }
            },
            "type": "barpolar"
           }
          ],
          "carpet": [
           {
            "aaxis": {
             "endlinecolor": "#2a3f5f",
             "gridcolor": "white",
             "linecolor": "white",
             "minorgridcolor": "white",
             "startlinecolor": "#2a3f5f"
            },
            "baxis": {
             "endlinecolor": "#2a3f5f",
             "gridcolor": "white",
             "linecolor": "white",
             "minorgridcolor": "white",
             "startlinecolor": "#2a3f5f"
            },
            "type": "carpet"
           }
          ],
          "choropleth": [
           {
            "colorbar": {
             "outlinewidth": 0,
             "ticks": ""
            },
            "type": "choropleth"
           }
          ],
          "contour": [
           {
            "colorbar": {
             "outlinewidth": 0,
             "ticks": ""
            },
            "colorscale": [
             [
              0,
              "#0d0887"
             ],
             [
              0.1111111111111111,
              "#46039f"
             ],
             [
              0.2222222222222222,
              "#7201a8"
             ],
             [
              0.3333333333333333,
              "#9c179e"
             ],
             [
              0.4444444444444444,
              "#bd3786"
             ],
             [
              0.5555555555555556,
              "#d8576b"
             ],
             [
              0.6666666666666666,
              "#ed7953"
             ],
             [
              0.7777777777777778,
              "#fb9f3a"
             ],
             [
              0.8888888888888888,
              "#fdca26"
             ],
             [
              1,
              "#f0f921"
             ]
            ],
            "type": "contour"
           }
          ],
          "contourcarpet": [
           {
            "colorbar": {
             "outlinewidth": 0,
             "ticks": ""
            },
            "type": "contourcarpet"
           }
          ],
          "heatmap": [
           {
            "colorbar": {
             "outlinewidth": 0,
             "ticks": ""
            },
            "colorscale": [
             [
              0,
              "#0d0887"
             ],
             [
              0.1111111111111111,
              "#46039f"
             ],
             [
              0.2222222222222222,
              "#7201a8"
             ],
             [
              0.3333333333333333,
              "#9c179e"
             ],
             [
              0.4444444444444444,
              "#bd3786"
             ],
             [
              0.5555555555555556,
              "#d8576b"
             ],
             [
              0.6666666666666666,
              "#ed7953"
             ],
             [
              0.7777777777777778,
              "#fb9f3a"
             ],
             [
              0.8888888888888888,
              "#fdca26"
             ],
             [
              1,
              "#f0f921"
             ]
            ],
            "type": "heatmap"
           }
          ],
          "heatmapgl": [
           {
            "colorbar": {
             "outlinewidth": 0,
             "ticks": ""
            },
            "colorscale": [
             [
              0,
              "#0d0887"
             ],
             [
              0.1111111111111111,
              "#46039f"
             ],
             [
              0.2222222222222222,
              "#7201a8"
             ],
             [
              0.3333333333333333,
              "#9c179e"
             ],
             [
              0.4444444444444444,
              "#bd3786"
             ],
             [
              0.5555555555555556,
              "#d8576b"
             ],
             [
              0.6666666666666666,
              "#ed7953"
             ],
             [
              0.7777777777777778,
              "#fb9f3a"
             ],
             [
              0.8888888888888888,
              "#fdca26"
             ],
             [
              1,
              "#f0f921"
             ]
            ],
            "type": "heatmapgl"
           }
          ],
          "histogram": [
           {
            "marker": {
             "pattern": {
              "fillmode": "overlay",
              "size": 10,
              "solidity": 0.2
             }
            },
            "type": "histogram"
           }
          ],
          "histogram2d": [
           {
            "colorbar": {
             "outlinewidth": 0,
             "ticks": ""
            },
            "colorscale": [
             [
              0,
              "#0d0887"
             ],
             [
              0.1111111111111111,
              "#46039f"
             ],
             [
              0.2222222222222222,
              "#7201a8"
             ],
             [
              0.3333333333333333,
              "#9c179e"
             ],
             [
              0.4444444444444444,
              "#bd3786"
             ],
             [
              0.5555555555555556,
              "#d8576b"
             ],
             [
              0.6666666666666666,
              "#ed7953"
             ],
             [
              0.7777777777777778,
              "#fb9f3a"
             ],
             [
              0.8888888888888888,
              "#fdca26"
             ],
             [
              1,
              "#f0f921"
             ]
            ],
            "type": "histogram2d"
           }
          ],
          "histogram2dcontour": [
           {
            "colorbar": {
             "outlinewidth": 0,
             "ticks": ""
            },
            "colorscale": [
             [
              0,
              "#0d0887"
             ],
             [
              0.1111111111111111,
              "#46039f"
             ],
             [
              0.2222222222222222,
              "#7201a8"
             ],
             [
              0.3333333333333333,
              "#9c179e"
             ],
             [
              0.4444444444444444,
              "#bd3786"
             ],
             [
              0.5555555555555556,
              "#d8576b"
             ],
             [
              0.6666666666666666,
              "#ed7953"
             ],
             [
              0.7777777777777778,
              "#fb9f3a"
             ],
             [
              0.8888888888888888,
              "#fdca26"
             ],
             [
              1,
              "#f0f921"
             ]
            ],
            "type": "histogram2dcontour"
           }
          ],
          "mesh3d": [
           {
            "colorbar": {
             "outlinewidth": 0,
             "ticks": ""
            },
            "type": "mesh3d"
           }
          ],
          "parcoords": [
           {
            "line": {
             "colorbar": {
              "outlinewidth": 0,
              "ticks": ""
             }
            },
            "type": "parcoords"
           }
          ],
          "pie": [
           {
            "automargin": true,
            "type": "pie"
           }
          ],
          "scatter": [
           {
            "fillpattern": {
             "fillmode": "overlay",
             "size": 10,
             "solidity": 0.2
            },
            "type": "scatter"
           }
          ],
          "scatter3d": [
           {
            "line": {
             "colorbar": {
              "outlinewidth": 0,
              "ticks": ""
             }
            },
            "marker": {
             "colorbar": {
              "outlinewidth": 0,
              "ticks": ""
             }
            },
            "type": "scatter3d"
           }
          ],
          "scattercarpet": [
           {
            "marker": {
             "colorbar": {
              "outlinewidth": 0,
              "ticks": ""
             }
            },
            "type": "scattercarpet"
           }
          ],
          "scattergeo": [
           {
            "marker": {
             "colorbar": {
              "outlinewidth": 0,
              "ticks": ""
             }
            },
            "type": "scattergeo"
           }
          ],
          "scattergl": [
           {
            "marker": {
             "colorbar": {
              "outlinewidth": 0,
              "ticks": ""
             }
            },
            "type": "scattergl"
           }
          ],
          "scattermapbox": [
           {
            "marker": {
             "colorbar": {
              "outlinewidth": 0,
              "ticks": ""
             }
            },
            "type": "scattermapbox"
           }
          ],
          "scatterpolar": [
           {
            "marker": {
             "colorbar": {
              "outlinewidth": 0,
              "ticks": ""
             }
            },
            "type": "scatterpolar"
           }
          ],
          "scatterpolargl": [
           {
            "marker": {
             "colorbar": {
              "outlinewidth": 0,
              "ticks": ""
             }
            },
            "type": "scatterpolargl"
           }
          ],
          "scatterternary": [
           {
            "marker": {
             "colorbar": {
              "outlinewidth": 0,
              "ticks": ""
             }
            },
            "type": "scatterternary"
           }
          ],
          "surface": [
           {
            "colorbar": {
             "outlinewidth": 0,
             "ticks": ""
            },
            "colorscale": [
             [
              0,
              "#0d0887"
             ],
             [
              0.1111111111111111,
              "#46039f"
             ],
             [
              0.2222222222222222,
              "#7201a8"
             ],
             [
              0.3333333333333333,
              "#9c179e"
             ],
             [
              0.4444444444444444,
              "#bd3786"
             ],
             [
              0.5555555555555556,
              "#d8576b"
             ],
             [
              0.6666666666666666,
              "#ed7953"
             ],
             [
              0.7777777777777778,
              "#fb9f3a"
             ],
             [
              0.8888888888888888,
              "#fdca26"
             ],
             [
              1,
              "#f0f921"
             ]
            ],
            "type": "surface"
           }
          ],
          "table": [
           {
            "cells": {
             "fill": {
              "color": "#EBF0F8"
             },
             "line": {
              "color": "white"
             }
            },
            "header": {
             "fill": {
              "color": "#C8D4E3"
             },
             "line": {
              "color": "white"
             }
            },
            "type": "table"
           }
          ]
         },
         "layout": {
          "annotationdefaults": {
           "arrowcolor": "#2a3f5f",
           "arrowhead": 0,
           "arrowwidth": 1
          },
          "autotypenumbers": "strict",
          "coloraxis": {
           "colorbar": {
            "outlinewidth": 0,
            "ticks": ""
           }
          },
          "colorscale": {
           "diverging": [
            [
             0,
             "#8e0152"
            ],
            [
             0.1,
             "#c51b7d"
            ],
            [
             0.2,
             "#de77ae"
            ],
            [
             0.3,
             "#f1b6da"
            ],
            [
             0.4,
             "#fde0ef"
            ],
            [
             0.5,
             "#f7f7f7"
            ],
            [
             0.6,
             "#e6f5d0"
            ],
            [
             0.7,
             "#b8e186"
            ],
            [
             0.8,
             "#7fbc41"
            ],
            [
             0.9,
             "#4d9221"
            ],
            [
             1,
             "#276419"
            ]
           ],
           "sequential": [
            [
             0,
             "#0d0887"
            ],
            [
             0.1111111111111111,
             "#46039f"
            ],
            [
             0.2222222222222222,
             "#7201a8"
            ],
            [
             0.3333333333333333,
             "#9c179e"
            ],
            [
             0.4444444444444444,
             "#bd3786"
            ],
            [
             0.5555555555555556,
             "#d8576b"
            ],
            [
             0.6666666666666666,
             "#ed7953"
            ],
            [
             0.7777777777777778,
             "#fb9f3a"
            ],
            [
             0.8888888888888888,
             "#fdca26"
            ],
            [
             1,
             "#f0f921"
            ]
           ],
           "sequentialminus": [
            [
             0,
             "#0d0887"
            ],
            [
             0.1111111111111111,
             "#46039f"
            ],
            [
             0.2222222222222222,
             "#7201a8"
            ],
            [
             0.3333333333333333,
             "#9c179e"
            ],
            [
             0.4444444444444444,
             "#bd3786"
            ],
            [
             0.5555555555555556,
             "#d8576b"
            ],
            [
             0.6666666666666666,
             "#ed7953"
            ],
            [
             0.7777777777777778,
             "#fb9f3a"
            ],
            [
             0.8888888888888888,
             "#fdca26"
            ],
            [
             1,
             "#f0f921"
            ]
           ]
          },
          "colorway": [
           "#636efa",
           "#EF553B",
           "#00cc96",
           "#ab63fa",
           "#FFA15A",
           "#19d3f3",
           "#FF6692",
           "#B6E880",
           "#FF97FF",
           "#FECB52"
          ],
          "font": {
           "color": "#2a3f5f"
          },
          "geo": {
           "bgcolor": "white",
           "lakecolor": "white",
           "landcolor": "#E5ECF6",
           "showlakes": true,
           "showland": true,
           "subunitcolor": "white"
          },
          "hoverlabel": {
           "align": "left"
          },
          "hovermode": "closest",
          "mapbox": {
           "style": "light"
          },
          "paper_bgcolor": "white",
          "plot_bgcolor": "#E5ECF6",
          "polar": {
           "angularaxis": {
            "gridcolor": "white",
            "linecolor": "white",
            "ticks": ""
           },
           "bgcolor": "#E5ECF6",
           "radialaxis": {
            "gridcolor": "white",
            "linecolor": "white",
            "ticks": ""
           }
          },
          "scene": {
           "xaxis": {
            "backgroundcolor": "#E5ECF6",
            "gridcolor": "white",
            "gridwidth": 2,
            "linecolor": "white",
            "showbackground": true,
            "ticks": "",
            "zerolinecolor": "white"
           },
           "yaxis": {
            "backgroundcolor": "#E5ECF6",
            "gridcolor": "white",
            "gridwidth": 2,
            "linecolor": "white",
            "showbackground": true,
            "ticks": "",
            "zerolinecolor": "white"
           },
           "zaxis": {
            "backgroundcolor": "#E5ECF6",
            "gridcolor": "white",
            "gridwidth": 2,
            "linecolor": "white",
            "showbackground": true,
            "ticks": "",
            "zerolinecolor": "white"
           }
          },
          "shapedefaults": {
           "line": {
            "color": "#2a3f5f"
           }
          },
          "ternary": {
           "aaxis": {
            "gridcolor": "white",
            "linecolor": "white",
            "ticks": ""
           },
           "baxis": {
            "gridcolor": "white",
            "linecolor": "white",
            "ticks": ""
           },
           "bgcolor": "#E5ECF6",
           "caxis": {
            "gridcolor": "white",
            "linecolor": "white",
            "ticks": ""
           }
          },
          "title": {
           "x": 0.05
          },
          "xaxis": {
           "automargin": true,
           "gridcolor": "white",
           "linecolor": "white",
           "ticks": "",
           "title": {
            "standoff": 15
           },
           "zerolinecolor": "white",
           "zerolinewidth": 2
          },
          "yaxis": {
           "automargin": true,
           "gridcolor": "white",
           "linecolor": "white",
           "ticks": "",
           "title": {
            "standoff": 15
           },
           "zerolinecolor": "white",
           "zerolinewidth": 2
          }
         }
        },
        "width": 800,
        "xaxis": {
         "anchor": "y",
         "domain": [
          0,
          1
         ],
         "title": {
          "text": "tsne-x"
         }
        },
        "yaxis": {
         "anchor": "x",
         "domain": [
          0,
          1
         ],
         "title": {
          "text": "tsne-y"
         }
        }
       }
      }
     },
     "metadata": {},
     "output_type": "display_data"
    }
   ],
   "source": [
    "proj_type = \"tsne\"\n",
    "px.scatter(df, x=f\"{proj_type}-x\", y=f\"{proj_type}-y\", color=\"scaffold\", height=800, width=800)"
   ]
  },
  {
   "cell_type": "markdown",
   "metadata": {},
   "source": [
    "## Evaluation"
   ]
  },
  {
   "cell_type": "code",
   "execution_count": 35,
   "metadata": {},
   "outputs": [],
   "source": [
    "checkpoint = torch.load(ckpt, map_location=torch.device(\"cpu\"))"
   ]
  },
  {
   "cell_type": "code",
   "execution_count": 39,
   "metadata": {},
   "outputs": [
    {
     "data": {
      "text/plain": [
       "odict_keys(['image_encoder.model.conv1.weight', 'image_encoder.model.bn1.weight', 'image_encoder.model.bn1.bias', 'image_encoder.model.bn1.running_mean', 'image_encoder.model.bn1.running_var', 'image_encoder.model.bn1.num_batches_tracked', 'image_encoder.model.layer1.0.conv1.weight', 'image_encoder.model.layer1.0.bn1.weight', 'image_encoder.model.layer1.0.bn1.bias', 'image_encoder.model.layer1.0.bn1.running_mean', 'image_encoder.model.layer1.0.bn1.running_var', 'image_encoder.model.layer1.0.bn1.num_batches_tracked', 'image_encoder.model.layer1.0.conv2.weight', 'image_encoder.model.layer1.0.bn2.weight', 'image_encoder.model.layer1.0.bn2.bias', 'image_encoder.model.layer1.0.bn2.running_mean', 'image_encoder.model.layer1.0.bn2.running_var', 'image_encoder.model.layer1.0.bn2.num_batches_tracked', 'image_encoder.model.layer1.1.conv1.weight', 'image_encoder.model.layer1.1.bn1.weight', 'image_encoder.model.layer1.1.bn1.bias', 'image_encoder.model.layer1.1.bn1.running_mean', 'image_encoder.model.layer1.1.bn1.running_var', 'image_encoder.model.layer1.1.bn1.num_batches_tracked', 'image_encoder.model.layer1.1.conv2.weight', 'image_encoder.model.layer1.1.bn2.weight', 'image_encoder.model.layer1.1.bn2.bias', 'image_encoder.model.layer1.1.bn2.running_mean', 'image_encoder.model.layer1.1.bn2.running_var', 'image_encoder.model.layer1.1.bn2.num_batches_tracked', 'image_encoder.model.layer2.0.conv1.weight', 'image_encoder.model.layer2.0.bn1.weight', 'image_encoder.model.layer2.0.bn1.bias', 'image_encoder.model.layer2.0.bn1.running_mean', 'image_encoder.model.layer2.0.bn1.running_var', 'image_encoder.model.layer2.0.bn1.num_batches_tracked', 'image_encoder.model.layer2.0.conv2.weight', 'image_encoder.model.layer2.0.bn2.weight', 'image_encoder.model.layer2.0.bn2.bias', 'image_encoder.model.layer2.0.bn2.running_mean', 'image_encoder.model.layer2.0.bn2.running_var', 'image_encoder.model.layer2.0.bn2.num_batches_tracked', 'image_encoder.model.layer2.0.downsample.0.weight', 'image_encoder.model.layer2.0.downsample.1.weight', 'image_encoder.model.layer2.0.downsample.1.bias', 'image_encoder.model.layer2.0.downsample.1.running_mean', 'image_encoder.model.layer2.0.downsample.1.running_var', 'image_encoder.model.layer2.0.downsample.1.num_batches_tracked', 'image_encoder.model.layer2.1.conv1.weight', 'image_encoder.model.layer2.1.bn1.weight', 'image_encoder.model.layer2.1.bn1.bias', 'image_encoder.model.layer2.1.bn1.running_mean', 'image_encoder.model.layer2.1.bn1.running_var', 'image_encoder.model.layer2.1.bn1.num_batches_tracked', 'image_encoder.model.layer2.1.conv2.weight', 'image_encoder.model.layer2.1.bn2.weight', 'image_encoder.model.layer2.1.bn2.bias', 'image_encoder.model.layer2.1.bn2.running_mean', 'image_encoder.model.layer2.1.bn2.running_var', 'image_encoder.model.layer2.1.bn2.num_batches_tracked', 'image_encoder.model.layer3.0.conv1.weight', 'image_encoder.model.layer3.0.bn1.weight', 'image_encoder.model.layer3.0.bn1.bias', 'image_encoder.model.layer3.0.bn1.running_mean', 'image_encoder.model.layer3.0.bn1.running_var', 'image_encoder.model.layer3.0.bn1.num_batches_tracked', 'image_encoder.model.layer3.0.conv2.weight', 'image_encoder.model.layer3.0.bn2.weight', 'image_encoder.model.layer3.0.bn2.bias', 'image_encoder.model.layer3.0.bn2.running_mean', 'image_encoder.model.layer3.0.bn2.running_var', 'image_encoder.model.layer3.0.bn2.num_batches_tracked', 'image_encoder.model.layer3.0.downsample.0.weight', 'image_encoder.model.layer3.0.downsample.1.weight', 'image_encoder.model.layer3.0.downsample.1.bias', 'image_encoder.model.layer3.0.downsample.1.running_mean', 'image_encoder.model.layer3.0.downsample.1.running_var', 'image_encoder.model.layer3.0.downsample.1.num_batches_tracked', 'image_encoder.model.layer3.1.conv1.weight', 'image_encoder.model.layer3.1.bn1.weight', 'image_encoder.model.layer3.1.bn1.bias', 'image_encoder.model.layer3.1.bn1.running_mean', 'image_encoder.model.layer3.1.bn1.running_var', 'image_encoder.model.layer3.1.bn1.num_batches_tracked', 'image_encoder.model.layer3.1.conv2.weight', 'image_encoder.model.layer3.1.bn2.weight', 'image_encoder.model.layer3.1.bn2.bias', 'image_encoder.model.layer3.1.bn2.running_mean', 'image_encoder.model.layer3.1.bn2.running_var', 'image_encoder.model.layer3.1.bn2.num_batches_tracked', 'image_encoder.model.layer4.0.conv1.weight', 'image_encoder.model.layer4.0.bn1.weight', 'image_encoder.model.layer4.0.bn1.bias', 'image_encoder.model.layer4.0.bn1.running_mean', 'image_encoder.model.layer4.0.bn1.running_var', 'image_encoder.model.layer4.0.bn1.num_batches_tracked', 'image_encoder.model.layer4.0.conv2.weight', 'image_encoder.model.layer4.0.bn2.weight', 'image_encoder.model.layer4.0.bn2.bias', 'image_encoder.model.layer4.0.bn2.running_mean', 'image_encoder.model.layer4.0.bn2.running_var', 'image_encoder.model.layer4.0.bn2.num_batches_tracked', 'image_encoder.model.layer4.0.downsample.0.weight', 'image_encoder.model.layer4.0.downsample.1.weight', 'image_encoder.model.layer4.0.downsample.1.bias', 'image_encoder.model.layer4.0.downsample.1.running_mean', 'image_encoder.model.layer4.0.downsample.1.running_var', 'image_encoder.model.layer4.0.downsample.1.num_batches_tracked', 'image_encoder.model.layer4.1.conv1.weight', 'image_encoder.model.layer4.1.bn1.weight', 'image_encoder.model.layer4.1.bn1.bias', 'image_encoder.model.layer4.1.bn1.running_mean', 'image_encoder.model.layer4.1.bn1.running_var', 'image_encoder.model.layer4.1.bn1.num_batches_tracked', 'image_encoder.model.layer4.1.conv2.weight', 'image_encoder.model.layer4.1.bn2.weight', 'image_encoder.model.layer4.1.bn2.bias', 'image_encoder.model.layer4.1.bn2.running_mean', 'image_encoder.model.layer4.1.bn2.running_var', 'image_encoder.model.layer4.1.bn2.num_batches_tracked', 'image_encoder.myfc.weight', 'image_encoder.myfc.bias', 'molecule_encoder.base_model.node_embeddings.0.weight', 'molecule_encoder.base_model.node_embeddings.1.weight', 'molecule_encoder.base_model.gnn_layers.0.mlp.0.weight', 'molecule_encoder.base_model.gnn_layers.0.mlp.0.bias', 'molecule_encoder.base_model.gnn_layers.0.mlp.2.weight', 'molecule_encoder.base_model.gnn_layers.0.mlp.2.bias', 'molecule_encoder.base_model.gnn_layers.0.edge_embeddings.0.weight', 'molecule_encoder.base_model.gnn_layers.0.edge_embeddings.1.weight', 'molecule_encoder.base_model.gnn_layers.0.bn.weight', 'molecule_encoder.base_model.gnn_layers.0.bn.bias', 'molecule_encoder.base_model.gnn_layers.0.bn.running_mean', 'molecule_encoder.base_model.gnn_layers.0.bn.running_var', 'molecule_encoder.base_model.gnn_layers.0.bn.num_batches_tracked', 'molecule_encoder.base_model.gnn_layers.1.mlp.0.weight', 'molecule_encoder.base_model.gnn_layers.1.mlp.0.bias', 'molecule_encoder.base_model.gnn_layers.1.mlp.2.weight', 'molecule_encoder.base_model.gnn_layers.1.mlp.2.bias', 'molecule_encoder.base_model.gnn_layers.1.edge_embeddings.0.weight', 'molecule_encoder.base_model.gnn_layers.1.edge_embeddings.1.weight', 'molecule_encoder.base_model.gnn_layers.1.bn.weight', 'molecule_encoder.base_model.gnn_layers.1.bn.bias', 'molecule_encoder.base_model.gnn_layers.1.bn.running_mean', 'molecule_encoder.base_model.gnn_layers.1.bn.running_var', 'molecule_encoder.base_model.gnn_layers.1.bn.num_batches_tracked', 'molecule_encoder.base_model.gnn_layers.2.mlp.0.weight', 'molecule_encoder.base_model.gnn_layers.2.mlp.0.bias', 'molecule_encoder.base_model.gnn_layers.2.mlp.2.weight', 'molecule_encoder.base_model.gnn_layers.2.mlp.2.bias', 'molecule_encoder.base_model.gnn_layers.2.edge_embeddings.0.weight', 'molecule_encoder.base_model.gnn_layers.2.edge_embeddings.1.weight', 'molecule_encoder.base_model.gnn_layers.2.bn.weight', 'molecule_encoder.base_model.gnn_layers.2.bn.bias', 'molecule_encoder.base_model.gnn_layers.2.bn.running_mean', 'molecule_encoder.base_model.gnn_layers.2.bn.running_var', 'molecule_encoder.base_model.gnn_layers.2.bn.num_batches_tracked', 'molecule_encoder.base_model.gnn_layers.3.mlp.0.weight', 'molecule_encoder.base_model.gnn_layers.3.mlp.0.bias', 'molecule_encoder.base_model.gnn_layers.3.mlp.2.weight', 'molecule_encoder.base_model.gnn_layers.3.mlp.2.bias', 'molecule_encoder.base_model.gnn_layers.3.edge_embeddings.0.weight', 'molecule_encoder.base_model.gnn_layers.3.edge_embeddings.1.weight', 'molecule_encoder.base_model.gnn_layers.3.bn.weight', 'molecule_encoder.base_model.gnn_layers.3.bn.bias', 'molecule_encoder.base_model.gnn_layers.3.bn.running_mean', 'molecule_encoder.base_model.gnn_layers.3.bn.running_var', 'molecule_encoder.base_model.gnn_layers.3.bn.num_batches_tracked', 'molecule_encoder.base_model.gnn_layers.4.mlp.0.weight', 'molecule_encoder.base_model.gnn_layers.4.mlp.0.bias', 'molecule_encoder.base_model.gnn_layers.4.mlp.2.weight', 'molecule_encoder.base_model.gnn_layers.4.mlp.2.bias', 'molecule_encoder.base_model.gnn_layers.4.edge_embeddings.0.weight', 'molecule_encoder.base_model.gnn_layers.4.edge_embeddings.1.weight', 'molecule_encoder.base_model.gnn_layers.4.bn.weight', 'molecule_encoder.base_model.gnn_layers.4.bn.bias', 'molecule_encoder.base_model.gnn_layers.4.bn.running_mean', 'molecule_encoder.base_model.gnn_layers.4.bn.running_var', 'molecule_encoder.base_model.gnn_layers.4.bn.num_batches_tracked', 'molecule_encoder.head.weight', 'molecule_encoder.head.bias', 'criterion.logit_scale'])"
      ]
     },
     "execution_count": 39,
     "metadata": {},
     "output_type": "execute_result"
    }
   ],
   "source": [
    "checkpoint[\"state_dict\"].keys()"
   ]
  },
  {
   "cell_type": "code",
   "execution_count": 37,
   "metadata": {},
   "outputs": [
    {
     "data": {
      "text/plain": [
       "dict_keys(['epoch', 'global_step', 'pytorch-lightning_version', 'state_dict', 'loops', 'callbacks', 'optimizer_states', 'lr_schedulers', 'hparams_name', 'hyper_parameters', 'datamodule_hparams_name', 'datamodule_hyper_parameters'])"
      ]
     },
     "execution_count": 37,
     "metadata": {},
     "output_type": "execute_result"
    }
   ],
   "source": [
    "checkpoint.keys()"
   ]
  }
 ],
 "metadata": {
  "kernelspec": {
   "display_name": "Python 3",
   "language": "python",
   "name": "python3"
  },
  "language_info": {
   "codemirror_mode": {
    "name": "ipython",
    "version": 3
   },
   "file_extension": ".py",
   "mimetype": "text/x-python",
   "name": "python",
   "nbconvert_exporter": "python",
   "pygments_lexer": "ipython3",
   "version": "3.10.10"
  },
  "orig_nbformat": 4
 },
 "nbformat": 4,
 "nbformat_minor": 2
}
