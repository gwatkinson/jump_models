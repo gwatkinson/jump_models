{
 "cells": [
  {
   "cell_type": "markdown",
   "metadata": {},
   "source": [
    "# Split the BBBCO21 for evaluation"
   ]
  },
  {
   "cell_type": "code",
   "execution_count": 2,
   "metadata": {},
   "outputs": [],
   "source": [
    "%load_ext autoreload\n",
    "%autoreload 2"
   ]
  },
  {
   "cell_type": "code",
   "execution_count": 34,
   "metadata": {},
   "outputs": [],
   "source": [
    "import os\n",
    "from pathlib import Path\n",
    "\n",
    "import matplotlib.pyplot as plt\n",
    "import numpy as np\n",
    "import pandas as pd\n",
    "\n",
    "from src import utils"
   ]
  },
  {
   "cell_type": "code",
   "execution_count": 5,
   "metadata": {},
   "outputs": [
    {
     "name": "stdout",
     "output_type": "stream",
     "text": [
      "Mounting cpjump1...\n",
      "Mounting cpjump2...\n",
      "Mounting cpjump3...\n"
     ]
    }
   ],
   "source": [
    "for i in range(1, 4):\n",
    "    if not Path(f\"../cpjump{i}/jump/\").exists():\n",
    "        print(f\"Mounting cpjump{i}...\")\n",
    "        os.system(f\"sshfs bioclust:/projects/cpjump{i}/ ../cpjump{i}\")\n",
    "    else:\n",
    "        print(f\"cpjump{i} already mounted.\")"
   ]
  },
  {
   "cell_type": "code",
   "execution_count": 7,
   "metadata": {},
   "outputs": [
    {
     "name": "stdout",
     "output_type": "stream",
     "text": [
      "Mounting imagesets...\n"
     ]
    }
   ],
   "source": [
    "if not Path(\"../imagesets/BBBC021/\").exists():\n",
    "    print(\"Mounting imagesets...\")\n",
    "    if not Path(\"../imagesets/\").exists():\n",
    "        os.mkdir(\"../imagesets/\")\n",
    "\n",
    "    os.system(\"sshfs bioclust:/projects/imagesets/ ../imagesets/\")\n",
    "else:\n",
    "    print(\"imagesets already mounted.\")"
   ]
  },
  {
   "cell_type": "markdown",
   "metadata": {},
   "source": [
    "## Look at the data"
   ]
  },
  {
   "cell_type": "code",
   "execution_count": 37,
   "metadata": {},
   "outputs": [],
   "source": [
    "bbbc_path = Path(\"../imagesets/BBBC021/\")\n",
    "bbbc_meta_path = Path(\"~/Downloads/bbbc021/example_datasets/bbbc021\").expanduser()"
   ]
  },
  {
   "cell_type": "code",
   "execution_count": 10,
   "metadata": {},
   "outputs": [
    {
     "data": {
      "text/plain": [
       "['196x196',\n",
       " 'BBBC021_comp_conc',\n",
       " 'image_grid.png',\n",
       " 'create_BBBC021_dataset.py',\n",
       " '00_raw',\n",
       " 'sample',\n",
       " 'bigimg.py',\n",
       " '__pycache__',\n",
       " 'bigimages',\n",
       " 'create_image_grid.py',\n",
       " 'BBBC021_comp_conc_nice_phen',\n",
       " 'selection',\n",
       " 'split_DMSO.py',\n",
       " 'npz_bbc021',\n",
       " 'sample.py',\n",
       " 'Balanced_data']"
      ]
     },
     "execution_count": 10,
     "metadata": {},
     "output_type": "execute_result"
    }
   ],
   "source": [
    "os.listdir(bbbc_path)"
   ]
  },
  {
   "cell_type": "code",
   "execution_count": 11,
   "metadata": {},
   "outputs": [
    {
     "data": {
      "text/plain": [
       "['rawdata',\n",
       " 'index.html',\n",
       " 'actin-disrupter.png',\n",
       " 'aurora-kinase-inhibitor.png',\n",
       " 'monoaster.png',\n",
       " 'tubulin-destabilizer.png',\n",
       " 'tubulin-stabilizer.png',\n",
       " 'BBBC021_v1_image.csv',\n",
       " 'BBBC021_v1_compound.csv',\n",
       " 'BBBC021_v1_moa.csv',\n",
       " 'analysis.cppipe',\n",
       " 'illum.cppipe']"
      ]
     },
     "execution_count": 11,
     "metadata": {},
     "output_type": "execute_result"
    }
   ],
   "source": [
    "os.listdir(bbbc_path / \"00_raw\")"
   ]
  },
  {
   "cell_type": "code",
   "execution_count": 16,
   "metadata": {},
   "outputs": [],
   "source": [
    "images = pd.read_csv(bbbc_path / \"00_raw\" / \"BBBC021_v1_image.csv\")"
   ]
  },
  {
   "cell_type": "code",
   "execution_count": 17,
   "metadata": {},
   "outputs": [
    {
     "data": {
      "text/html": [
       "<div>\n",
       "<style scoped>\n",
       "    .dataframe tbody tr th:only-of-type {\n",
       "        vertical-align: middle;\n",
       "    }\n",
       "\n",
       "    .dataframe tbody tr th {\n",
       "        vertical-align: top;\n",
       "    }\n",
       "\n",
       "    .dataframe thead th {\n",
       "        text-align: right;\n",
       "    }\n",
       "</style>\n",
       "<table border=\"1\" class=\"dataframe\">\n",
       "  <thead>\n",
       "    <tr style=\"text-align: right;\">\n",
       "      <th></th>\n",
       "      <th>TableNumber</th>\n",
       "      <th>ImageNumber</th>\n",
       "      <th>Image_FileName_DAPI</th>\n",
       "      <th>Image_PathName_DAPI</th>\n",
       "      <th>Image_FileName_Tubulin</th>\n",
       "      <th>Image_PathName_Tubulin</th>\n",
       "      <th>Image_FileName_Actin</th>\n",
       "      <th>Image_PathName_Actin</th>\n",
       "      <th>Image_Metadata_Plate_DAPI</th>\n",
       "      <th>Image_Metadata_Well_DAPI</th>\n",
       "      <th>Replicate</th>\n",
       "      <th>Image_Metadata_Compound</th>\n",
       "      <th>Image_Metadata_Concentration</th>\n",
       "    </tr>\n",
       "  </thead>\n",
       "  <tbody>\n",
       "    <tr>\n",
       "      <th>0</th>\n",
       "      <td>4</td>\n",
       "      <td>233</td>\n",
       "      <td>G10_s1_w1BEDC2073-A983-4B98-95E9-84466707A25D.tif</td>\n",
       "      <td>Week4/Week4_27481</td>\n",
       "      <td>G10_s1_w2DCEC82F3-05F7-4F2F-B779-C5DF9698141E.tif</td>\n",
       "      <td>Week4/Week4_27481</td>\n",
       "      <td>G10_s1_w43CD51CBC-2370-471F-BA01-EE250B14B3C8.tif</td>\n",
       "      <td>Week4/Week4_27481</td>\n",
       "      <td>Week4_27481</td>\n",
       "      <td>G10</td>\n",
       "      <td>1</td>\n",
       "      <td>5-fluorouracil</td>\n",
       "      <td>0.003</td>\n",
       "    </tr>\n",
       "    <tr>\n",
       "      <th>1</th>\n",
       "      <td>4</td>\n",
       "      <td>234</td>\n",
       "      <td>G10_s2_w11C3B9BCC-E48F-4C2F-9D31-8F46D8B5B972.tif</td>\n",
       "      <td>Week4/Week4_27481</td>\n",
       "      <td>G10_s2_w2570437EF-C8DC-4074-8D63-7FA3A7271FEE.tif</td>\n",
       "      <td>Week4/Week4_27481</td>\n",
       "      <td>G10_s2_w400B21F33-BDAB-4363-92C2-F4FB7545F08C.tif</td>\n",
       "      <td>Week4/Week4_27481</td>\n",
       "      <td>Week4_27481</td>\n",
       "      <td>G10</td>\n",
       "      <td>1</td>\n",
       "      <td>5-fluorouracil</td>\n",
       "      <td>0.003</td>\n",
       "    </tr>\n",
       "    <tr>\n",
       "      <th>2</th>\n",
       "      <td>4</td>\n",
       "      <td>235</td>\n",
       "      <td>G10_s3_w1F4FCE330-C71C-4CA3-9815-EAF9B9876EB5.tif</td>\n",
       "      <td>Week4/Week4_27481</td>\n",
       "      <td>G10_s3_w2194A9AC7-369B-4D84-99C0-DA809B0042B8.tif</td>\n",
       "      <td>Week4/Week4_27481</td>\n",
       "      <td>G10_s3_w4E0452054-9FC1-41AB-8C5B-D0ACD058991F.tif</td>\n",
       "      <td>Week4/Week4_27481</td>\n",
       "      <td>Week4_27481</td>\n",
       "      <td>G10</td>\n",
       "      <td>1</td>\n",
       "      <td>5-fluorouracil</td>\n",
       "      <td>0.003</td>\n",
       "    </tr>\n",
       "    <tr>\n",
       "      <th>3</th>\n",
       "      <td>4</td>\n",
       "      <td>236</td>\n",
       "      <td>G10_s4_w1747818B4-FFA7-40EE-B0A0-6A5974AF2644.tif</td>\n",
       "      <td>Week4/Week4_27481</td>\n",
       "      <td>G10_s4_w298D4652F-B5BF-49F2-BE51-8149DF83EAFD.tif</td>\n",
       "      <td>Week4/Week4_27481</td>\n",
       "      <td>G10_s4_w42648D36D-6B77-41CD-B520-6E4C533D9ABC.tif</td>\n",
       "      <td>Week4/Week4_27481</td>\n",
       "      <td>Week4_27481</td>\n",
       "      <td>G10</td>\n",
       "      <td>1</td>\n",
       "      <td>5-fluorouracil</td>\n",
       "      <td>0.003</td>\n",
       "    </tr>\n",
       "    <tr>\n",
       "      <th>4</th>\n",
       "      <td>4</td>\n",
       "      <td>473</td>\n",
       "      <td>G10_s1_w10034568D-CC12-43C3-93A9-DC3782099DD3.tif</td>\n",
       "      <td>Week4/Week4_27521</td>\n",
       "      <td>G10_s1_w2A29ED14B-952C-4BA1-89B9-4F92B6DADEB4.tif</td>\n",
       "      <td>Week4/Week4_27521</td>\n",
       "      <td>G10_s1_w4DAA2E9D1-F6E9-45FA-ADC0-D341B647A680.tif</td>\n",
       "      <td>Week4/Week4_27521</td>\n",
       "      <td>Week4_27521</td>\n",
       "      <td>G10</td>\n",
       "      <td>2</td>\n",
       "      <td>5-fluorouracil</td>\n",
       "      <td>0.003</td>\n",
       "    </tr>\n",
       "    <tr>\n",
       "      <th>...</th>\n",
       "      <td>...</td>\n",
       "      <td>...</td>\n",
       "      <td>...</td>\n",
       "      <td>...</td>\n",
       "      <td>...</td>\n",
       "      <td>...</td>\n",
       "      <td>...</td>\n",
       "      <td>...</td>\n",
       "      <td>...</td>\n",
       "      <td>...</td>\n",
       "      <td>...</td>\n",
       "      <td>...</td>\n",
       "      <td>...</td>\n",
       "    </tr>\n",
       "    <tr>\n",
       "      <th>13195</th>\n",
       "      <td>9</td>\n",
       "      <td>3560</td>\n",
       "      <td>Week9_090907_F11_s4_w19580FF4D-DC3D-4BD0-93FE-...</td>\n",
       "      <td>Week9/Week9_39301</td>\n",
       "      <td>Week9_090907_F11_s4_w2DC65EC6F-BDCA-4B05-B243-...</td>\n",
       "      <td>Week9/Week9_39301</td>\n",
       "      <td>Week9_090907_F11_s4_w45699A0F4-9AEE-4CD4-8973-...</td>\n",
       "      <td>Week9/Week9_39301</td>\n",
       "      <td>Week9_39301</td>\n",
       "      <td>F11</td>\n",
       "      <td>3</td>\n",
       "      <td>DMSO</td>\n",
       "      <td>0.000</td>\n",
       "    </tr>\n",
       "    <tr>\n",
       "      <th>13196</th>\n",
       "      <td>9</td>\n",
       "      <td>3597</td>\n",
       "      <td>Week9_090907_G11_s1_w1EDE534D2-FCEE-4F92-A30B-...</td>\n",
       "      <td>Week9/Week9_39301</td>\n",
       "      <td>Week9_090907_G11_s1_w26A22E27F-6A81-43F5-9587-...</td>\n",
       "      <td>Week9/Week9_39301</td>\n",
       "      <td>Week9_090907_G11_s1_w4554A2BF7-0D53-4D27-BF92-...</td>\n",
       "      <td>Week9/Week9_39301</td>\n",
       "      <td>Week9_39301</td>\n",
       "      <td>G11</td>\n",
       "      <td>3</td>\n",
       "      <td>DMSO</td>\n",
       "      <td>0.000</td>\n",
       "    </tr>\n",
       "    <tr>\n",
       "      <th>13197</th>\n",
       "      <td>9</td>\n",
       "      <td>3598</td>\n",
       "      <td>Week9_090907_G11_s2_w10B010F39-3B4B-4DCB-8E34-...</td>\n",
       "      <td>Week9/Week9_39301</td>\n",
       "      <td>Week9_090907_G11_s2_w2720AC778-3F85-4293-8D75-...</td>\n",
       "      <td>Week9/Week9_39301</td>\n",
       "      <td>Week9_090907_G11_s2_w49B290958-BCF2-4DDD-B0E9-...</td>\n",
       "      <td>Week9/Week9_39301</td>\n",
       "      <td>Week9_39301</td>\n",
       "      <td>G11</td>\n",
       "      <td>3</td>\n",
       "      <td>DMSO</td>\n",
       "      <td>0.000</td>\n",
       "    </tr>\n",
       "    <tr>\n",
       "      <th>13198</th>\n",
       "      <td>9</td>\n",
       "      <td>3599</td>\n",
       "      <td>Week9_090907_G11_s3_w10394282C-6D3D-4E0E-9FA3-...</td>\n",
       "      <td>Week9/Week9_39301</td>\n",
       "      <td>Week9_090907_G11_s3_w24C59DB62-E99B-4284-BAD2-...</td>\n",
       "      <td>Week9/Week9_39301</td>\n",
       "      <td>Week9_090907_G11_s3_w471FE25C8-2477-456F-9D74-...</td>\n",
       "      <td>Week9/Week9_39301</td>\n",
       "      <td>Week9_39301</td>\n",
       "      <td>G11</td>\n",
       "      <td>3</td>\n",
       "      <td>DMSO</td>\n",
       "      <td>0.000</td>\n",
       "    </tr>\n",
       "    <tr>\n",
       "      <th>13199</th>\n",
       "      <td>9</td>\n",
       "      <td>3600</td>\n",
       "      <td>Week9_090907_G11_s4_w1C447A151-1F85-4E19-9C96-...</td>\n",
       "      <td>Week9/Week9_39301</td>\n",
       "      <td>Week9_090907_G11_s4_w22E574F48-321D-4470-ACC4-...</td>\n",
       "      <td>Week9/Week9_39301</td>\n",
       "      <td>Week9_090907_G11_s4_w4200C5003-7F75-47DF-928C-...</td>\n",
       "      <td>Week9/Week9_39301</td>\n",
       "      <td>Week9_39301</td>\n",
       "      <td>G11</td>\n",
       "      <td>3</td>\n",
       "      <td>DMSO</td>\n",
       "      <td>0.000</td>\n",
       "    </tr>\n",
       "  </tbody>\n",
       "</table>\n",
       "<p>13200 rows × 13 columns</p>\n",
       "</div>"
      ],
      "text/plain": [
       "       TableNumber  ImageNumber  \\\n",
       "0                4          233   \n",
       "1                4          234   \n",
       "2                4          235   \n",
       "3                4          236   \n",
       "4                4          473   \n",
       "...            ...          ...   \n",
       "13195            9         3560   \n",
       "13196            9         3597   \n",
       "13197            9         3598   \n",
       "13198            9         3599   \n",
       "13199            9         3600   \n",
       "\n",
       "                                     Image_FileName_DAPI Image_PathName_DAPI  \\\n",
       "0      G10_s1_w1BEDC2073-A983-4B98-95E9-84466707A25D.tif   Week4/Week4_27481   \n",
       "1      G10_s2_w11C3B9BCC-E48F-4C2F-9D31-8F46D8B5B972.tif   Week4/Week4_27481   \n",
       "2      G10_s3_w1F4FCE330-C71C-4CA3-9815-EAF9B9876EB5.tif   Week4/Week4_27481   \n",
       "3      G10_s4_w1747818B4-FFA7-40EE-B0A0-6A5974AF2644.tif   Week4/Week4_27481   \n",
       "4      G10_s1_w10034568D-CC12-43C3-93A9-DC3782099DD3.tif   Week4/Week4_27521   \n",
       "...                                                  ...                 ...   \n",
       "13195  Week9_090907_F11_s4_w19580FF4D-DC3D-4BD0-93FE-...   Week9/Week9_39301   \n",
       "13196  Week9_090907_G11_s1_w1EDE534D2-FCEE-4F92-A30B-...   Week9/Week9_39301   \n",
       "13197  Week9_090907_G11_s2_w10B010F39-3B4B-4DCB-8E34-...   Week9/Week9_39301   \n",
       "13198  Week9_090907_G11_s3_w10394282C-6D3D-4E0E-9FA3-...   Week9/Week9_39301   \n",
       "13199  Week9_090907_G11_s4_w1C447A151-1F85-4E19-9C96-...   Week9/Week9_39301   \n",
       "\n",
       "                                  Image_FileName_Tubulin  \\\n",
       "0      G10_s1_w2DCEC82F3-05F7-4F2F-B779-C5DF9698141E.tif   \n",
       "1      G10_s2_w2570437EF-C8DC-4074-8D63-7FA3A7271FEE.tif   \n",
       "2      G10_s3_w2194A9AC7-369B-4D84-99C0-DA809B0042B8.tif   \n",
       "3      G10_s4_w298D4652F-B5BF-49F2-BE51-8149DF83EAFD.tif   \n",
       "4      G10_s1_w2A29ED14B-952C-4BA1-89B9-4F92B6DADEB4.tif   \n",
       "...                                                  ...   \n",
       "13195  Week9_090907_F11_s4_w2DC65EC6F-BDCA-4B05-B243-...   \n",
       "13196  Week9_090907_G11_s1_w26A22E27F-6A81-43F5-9587-...   \n",
       "13197  Week9_090907_G11_s2_w2720AC778-3F85-4293-8D75-...   \n",
       "13198  Week9_090907_G11_s3_w24C59DB62-E99B-4284-BAD2-...   \n",
       "13199  Week9_090907_G11_s4_w22E574F48-321D-4470-ACC4-...   \n",
       "\n",
       "      Image_PathName_Tubulin  \\\n",
       "0          Week4/Week4_27481   \n",
       "1          Week4/Week4_27481   \n",
       "2          Week4/Week4_27481   \n",
       "3          Week4/Week4_27481   \n",
       "4          Week4/Week4_27521   \n",
       "...                      ...   \n",
       "13195      Week9/Week9_39301   \n",
       "13196      Week9/Week9_39301   \n",
       "13197      Week9/Week9_39301   \n",
       "13198      Week9/Week9_39301   \n",
       "13199      Week9/Week9_39301   \n",
       "\n",
       "                                    Image_FileName_Actin Image_PathName_Actin  \\\n",
       "0      G10_s1_w43CD51CBC-2370-471F-BA01-EE250B14B3C8.tif    Week4/Week4_27481   \n",
       "1      G10_s2_w400B21F33-BDAB-4363-92C2-F4FB7545F08C.tif    Week4/Week4_27481   \n",
       "2      G10_s3_w4E0452054-9FC1-41AB-8C5B-D0ACD058991F.tif    Week4/Week4_27481   \n",
       "3      G10_s4_w42648D36D-6B77-41CD-B520-6E4C533D9ABC.tif    Week4/Week4_27481   \n",
       "4      G10_s1_w4DAA2E9D1-F6E9-45FA-ADC0-D341B647A680.tif    Week4/Week4_27521   \n",
       "...                                                  ...                  ...   \n",
       "13195  Week9_090907_F11_s4_w45699A0F4-9AEE-4CD4-8973-...    Week9/Week9_39301   \n",
       "13196  Week9_090907_G11_s1_w4554A2BF7-0D53-4D27-BF92-...    Week9/Week9_39301   \n",
       "13197  Week9_090907_G11_s2_w49B290958-BCF2-4DDD-B0E9-...    Week9/Week9_39301   \n",
       "13198  Week9_090907_G11_s3_w471FE25C8-2477-456F-9D74-...    Week9/Week9_39301   \n",
       "13199  Week9_090907_G11_s4_w4200C5003-7F75-47DF-928C-...    Week9/Week9_39301   \n",
       "\n",
       "      Image_Metadata_Plate_DAPI Image_Metadata_Well_DAPI  Replicate  \\\n",
       "0                   Week4_27481                      G10          1   \n",
       "1                   Week4_27481                      G10          1   \n",
       "2                   Week4_27481                      G10          1   \n",
       "3                   Week4_27481                      G10          1   \n",
       "4                   Week4_27521                      G10          2   \n",
       "...                         ...                      ...        ...   \n",
       "13195               Week9_39301                      F11          3   \n",
       "13196               Week9_39301                      G11          3   \n",
       "13197               Week9_39301                      G11          3   \n",
       "13198               Week9_39301                      G11          3   \n",
       "13199               Week9_39301                      G11          3   \n",
       "\n",
       "      Image_Metadata_Compound  Image_Metadata_Concentration  \n",
       "0              5-fluorouracil                         0.003  \n",
       "1              5-fluorouracil                         0.003  \n",
       "2              5-fluorouracil                         0.003  \n",
       "3              5-fluorouracil                         0.003  \n",
       "4              5-fluorouracil                         0.003  \n",
       "...                       ...                           ...  \n",
       "13195                    DMSO                         0.000  \n",
       "13196                    DMSO                         0.000  \n",
       "13197                    DMSO                         0.000  \n",
       "13198                    DMSO                         0.000  \n",
       "13199                    DMSO                         0.000  \n",
       "\n",
       "[13200 rows x 13 columns]"
      ]
     },
     "execution_count": 17,
     "metadata": {},
     "output_type": "execute_result"
    }
   ],
   "source": [
    "images"
   ]
  },
  {
   "cell_type": "code",
   "execution_count": 19,
   "metadata": {},
   "outputs": [],
   "source": [
    "moa = pd.read_csv(bbbc_path / \"00_raw\" / \"BBBC021_v1_moa.csv\")"
   ]
  },
  {
   "cell_type": "code",
   "execution_count": 20,
   "metadata": {},
   "outputs": [
    {
     "data": {
      "text/html": [
       "<div>\n",
       "<style scoped>\n",
       "    .dataframe tbody tr th:only-of-type {\n",
       "        vertical-align: middle;\n",
       "    }\n",
       "\n",
       "    .dataframe tbody tr th {\n",
       "        vertical-align: top;\n",
       "    }\n",
       "\n",
       "    .dataframe thead th {\n",
       "        text-align: right;\n",
       "    }\n",
       "</style>\n",
       "<table border=\"1\" class=\"dataframe\">\n",
       "  <thead>\n",
       "    <tr style=\"text-align: right;\">\n",
       "      <th></th>\n",
       "      <th>compound</th>\n",
       "      <th>concentration</th>\n",
       "      <th>moa</th>\n",
       "    </tr>\n",
       "  </thead>\n",
       "  <tbody>\n",
       "    <tr>\n",
       "      <th>0</th>\n",
       "      <td>PP-2</td>\n",
       "      <td>3.0</td>\n",
       "      <td>Epithelial</td>\n",
       "    </tr>\n",
       "    <tr>\n",
       "      <th>1</th>\n",
       "      <td>emetine</td>\n",
       "      <td>0.3</td>\n",
       "      <td>Protein synthesis</td>\n",
       "    </tr>\n",
       "    <tr>\n",
       "      <th>2</th>\n",
       "      <td>AZ258</td>\n",
       "      <td>1.0</td>\n",
       "      <td>Aurora kinase inhibitors</td>\n",
       "    </tr>\n",
       "    <tr>\n",
       "      <th>3</th>\n",
       "      <td>cytochalasin B</td>\n",
       "      <td>10.0</td>\n",
       "      <td>Actin disruptors</td>\n",
       "    </tr>\n",
       "    <tr>\n",
       "      <th>4</th>\n",
       "      <td>ALLN</td>\n",
       "      <td>3.0</td>\n",
       "      <td>Protein degradation</td>\n",
       "    </tr>\n",
       "    <tr>\n",
       "      <th>...</th>\n",
       "      <td>...</td>\n",
       "      <td>...</td>\n",
       "      <td>...</td>\n",
       "    </tr>\n",
       "    <tr>\n",
       "      <th>99</th>\n",
       "      <td>epothilone B</td>\n",
       "      <td>0.3</td>\n",
       "      <td>Microtubule stabilizers</td>\n",
       "    </tr>\n",
       "    <tr>\n",
       "      <th>100</th>\n",
       "      <td>latrunculin B</td>\n",
       "      <td>1.0</td>\n",
       "      <td>Actin disruptors</td>\n",
       "    </tr>\n",
       "    <tr>\n",
       "      <th>101</th>\n",
       "      <td>AZ-J</td>\n",
       "      <td>3.0</td>\n",
       "      <td>Epithelial</td>\n",
       "    </tr>\n",
       "    <tr>\n",
       "      <th>102</th>\n",
       "      <td>lactacystin</td>\n",
       "      <td>10.0</td>\n",
       "      <td>Protein degradation</td>\n",
       "    </tr>\n",
       "    <tr>\n",
       "      <th>103</th>\n",
       "      <td>cyclohexamide</td>\n",
       "      <td>15.0</td>\n",
       "      <td>Protein synthesis</td>\n",
       "    </tr>\n",
       "  </tbody>\n",
       "</table>\n",
       "<p>104 rows × 3 columns</p>\n",
       "</div>"
      ],
      "text/plain": [
       "           compound  concentration                       moa\n",
       "0              PP-2            3.0                Epithelial\n",
       "1           emetine            0.3         Protein synthesis\n",
       "2             AZ258            1.0  Aurora kinase inhibitors\n",
       "3    cytochalasin B           10.0          Actin disruptors\n",
       "4              ALLN            3.0       Protein degradation\n",
       "..              ...            ...                       ...\n",
       "99     epothilone B            0.3   Microtubule stabilizers\n",
       "100   latrunculin B            1.0          Actin disruptors\n",
       "101            AZ-J            3.0                Epithelial\n",
       "102     lactacystin           10.0       Protein degradation\n",
       "103   cyclohexamide           15.0         Protein synthesis\n",
       "\n",
       "[104 rows x 3 columns]"
      ]
     },
     "execution_count": 20,
     "metadata": {},
     "output_type": "execute_result"
    }
   ],
   "source": [
    "moa"
   ]
  },
  {
   "cell_type": "code",
   "execution_count": 28,
   "metadata": {},
   "outputs": [],
   "source": [
    "images_moa = images.merge(\n",
    "    moa,\n",
    "    left_on=[\"Image_Metadata_Compound\", \"Image_Metadata_Concentration\"],\n",
    "    right_on=[\"compound\", \"concentration\"],\n",
    "    how=\"right\",\n",
    ")"
   ]
  },
  {
   "cell_type": "code",
   "execution_count": 51,
   "metadata": {},
   "outputs": [
    {
     "data": {
      "text/plain": [
       "moa\n",
       "Microtubule stabilizers      1428\n",
       "DMSO                         1320\n",
       "Microtubule destabilizers     168\n",
       "Aurora kinase inhibitors      144\n",
       "Eg5 inhibitors                144\n",
       "DNA damage                    108\n",
       "Protein synthesis              96\n",
       "DNA replication                96\n",
       "Epithelial                     88\n",
       "Protein degradation            84\n",
       "Cholesterol-lowering           72\n",
       "Actin disruptors               60\n",
       "Kinase inhibitors              40\n",
       "Name: count, dtype: int64"
      ]
     },
     "execution_count": 51,
     "metadata": {},
     "output_type": "execute_result"
    }
   ],
   "source": [
    "images_moa.moa.value_counts()"
   ]
  },
  {
   "cell_type": "code",
   "execution_count": 53,
   "metadata": {},
   "outputs": [],
   "source": [
    "comp_npz = np.load(bbbc_meta_path / \"bbbc021_comp_eval.npz\", allow_pickle=True)"
   ]
  },
  {
   "cell_type": "code",
   "execution_count": 43,
   "metadata": {},
   "outputs": [
    {
     "data": {
      "text/plain": [
       "['labels', 'img_paths', 'compounds', 'concentrations']"
      ]
     },
     "execution_count": 43,
     "metadata": {},
     "output_type": "execute_result"
    }
   ],
   "source": [
    "list(comp_npz.keys())"
   ]
  },
  {
   "cell_type": "code",
   "execution_count": 57,
   "metadata": {},
   "outputs": [
    {
     "data": {
      "text/plain": [
       "array(['Week1_22123/Week1_150607_B04_s3_w135D66B4C-0548-4AB8-A57B-9CC39666813B.tif',\n",
       "       'Week1_22123/Week1_150607_B04_s3_w2D81AEFB9-9DD4-4B59-9177-2093F0815C94.tif',\n",
       "       'Week1_22123/Week1_150607_B04_s3_w408BE006A-BF34-457E-81A9-FAB019FE8996.tif',\n",
       "       ...,\n",
       "       'Week3_25721/Week3_290607_C06_s4_w1A33E8D5F-F00B-4A5B-87E9-E6AD2442C7A7.tif',\n",
       "       'Week3_25721/Week3_290607_C06_s4_w290A202C8-DB93-485E-B988-29AA9EE93550.tif',\n",
       "       'Week3_25721/Week3_290607_C06_s4_w458B643F0-1A1B-419E-BA3D-A0A263653265.tif'],\n",
       "      dtype='<U76')"
      ]
     },
     "execution_count": 57,
     "metadata": {},
     "output_type": "execute_result"
    }
   ],
   "source": [
    "comp_npz[\"img_paths\"]"
   ]
  },
  {
   "cell_type": "code",
   "execution_count": 58,
   "metadata": {},
   "outputs": [],
   "source": [
    "dmso_npz = np.load(bbbc_meta_path / \"bbbc021_dmso_eval.npz\", allow_pickle=True)"
   ]
  },
  {
   "cell_type": "code",
   "execution_count": 59,
   "metadata": {},
   "outputs": [
    {
     "data": {
      "text/plain": [
       "['labels', 'img_paths', 'compounds', 'concentrations']"
      ]
     },
     "execution_count": 59,
     "metadata": {},
     "output_type": "execute_result"
    }
   ],
   "source": [
    "list(dmso_npz.keys())"
   ]
  },
  {
   "cell_type": "code",
   "execution_count": 63,
   "metadata": {},
   "outputs": [
    {
     "data": {
      "text/plain": [
       "array(['Week10_40111/Week10_200907_B02_s1_w18E215662-2CF7-4739-93F3-DBD0C40B78DB.tif',\n",
       "       'Week10_40111/Week10_200907_B02_s1_w2D492FCE4-15C2-4C66-99A5-E2235A93A3CC.tif',\n",
       "       'Week10_40111/Week10_200907_B02_s1_w436D0A3BC-098D-4271-B5AA-361CA0A7DC88.tif',\n",
       "       ...,\n",
       "       'Week9_39301/Week9_090907_G11_s4_w1C447A151-1F85-4E19-9C96-97BF0C969EA4.tif',\n",
       "       'Week9_39301/Week9_090907_G11_s4_w22E574F48-321D-4470-ACC4-F27A51955F61.tif',\n",
       "       'Week9_39301/Week9_090907_G11_s4_w4200C5003-7F75-47DF-928C-B671879E2D58.tif'],\n",
       "      dtype='<U76')"
      ]
     },
     "execution_count": 63,
     "metadata": {},
     "output_type": "execute_result"
    }
   ],
   "source": [
    "dmso_npz[\"img_paths\"]"
   ]
  },
  {
   "cell_type": "code",
   "execution_count": 68,
   "metadata": {},
   "outputs": [
    {
     "data": {
      "text/plain": [
       "['bbbc021_dmso_eval.npz',\n",
       " 'bbbc021_dmso_labelmap.npy',\n",
       " 'BBBC021_v1_image.csv',\n",
       " 'BBBC021_meta_data.csv',\n",
       " 'bbbc021_comp_labelmap.npy',\n",
       " 'bbbc021_comp_eval.npz',\n",
       " 'eval_masks',\n",
       " 'bbbc021_images.txt',\n",
       " 'BBBC021_v1_compound.csv',\n",
       " 'BBBC021_v1_moa.csv']"
      ]
     },
     "execution_count": 68,
     "metadata": {},
     "output_type": "execute_result"
    }
   ],
   "source": [
    "os.listdir(bbbc_meta_path)"
   ]
  },
  {
   "cell_type": "code",
   "execution_count": 72,
   "metadata": {},
   "outputs": [],
   "source": [
    "bbbc021_dmso_instmap = np.load(bbbc_meta_path / \"bbbc021_dmso_labelmap.npy\", allow_pickle=True).item()"
   ]
  },
  {
   "cell_type": "code",
   "execution_count": 75,
   "metadata": {},
   "outputs": [
    {
     "data": {
      "text/plain": [
       "{0: 'Actin disruptors',\n",
       " 1: 'Aurora kinase inhibitors',\n",
       " 2: 'Cholesterol-lowering',\n",
       " 3: 'DNA damage',\n",
       " 4: 'DNA replication',\n",
       " 5: 'Eg5 inhibitors',\n",
       " 6: 'Epithelial',\n",
       " 7: 'Kinase inhibitors',\n",
       " 8: 'Microtubule destabilizers',\n",
       " 9: 'Microtubule stabilizers',\n",
       " 10: 'Protein degradation',\n",
       " 11: 'Protein synthesis'}"
      ]
     },
     "execution_count": 75,
     "metadata": {},
     "output_type": "execute_result"
    }
   ],
   "source": [
    "bbbc021_dmso_instmap"
   ]
  },
  {
   "cell_type": "code",
   "execution_count": 74,
   "metadata": {},
   "outputs": [],
   "source": [
    "bbbc021_dmso_instmap = np.load(bbbc_meta_path / \"bbbc021_comp_labelmap.npy\", allow_pickle=True).item()"
   ]
  }
 ],
 "metadata": {
  "kernelspec": {
   "display_name": "jump_models",
   "language": "python",
   "name": "python3"
  },
  "language_info": {
   "codemirror_mode": {
    "name": "ipython",
    "version": 3
   },
   "file_extension": ".py",
   "mimetype": "text/x-python",
   "name": "python",
   "nbconvert_exporter": "python",
   "pygments_lexer": "ipython3",
   "version": "3.10.10"
  },
  "orig_nbformat": 4
 },
 "nbformat": 4,
 "nbformat_minor": 2
}
