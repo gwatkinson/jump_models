{
 "cells": [
  {
   "cell_type": "markdown",
   "metadata": {},
   "source": [
    "# Using the pretrained model"
   ]
  },
  {
   "cell_type": "markdown",
   "metadata": {},
   "source": [
    "## Loading the checkpoint file"
   ]
  },
  {
   "cell_type": "code",
   "execution_count": 1,
   "metadata": {},
   "outputs": [],
   "source": [
    "%load_ext autoreload\n",
    "%autoreload 2"
   ]
  },
  {
   "cell_type": "code",
   "execution_count": 2,
   "metadata": {},
   "outputs": [
    {
     "name": "stderr",
     "output_type": "stream",
     "text": [
      "/home/gwatk/miniconda3/envs/jump_models/lib/python3.10/site-packages/umap/distances.py:1063: NumbaDeprecationWarning: \u001b[1mThe 'nopython' keyword argument was not supplied to the 'numba.jit' decorator. The implicit default value for this argument is currently False, but it will be changed to True in Numba 0.59.0. See https://numba.readthedocs.io/en/stable/reference/deprecation.html#deprecation-of-object-mode-fall-back-behaviour-when-using-jit for details.\u001b[0m\n",
      "  @numba.jit()\n",
      "/home/gwatk/miniconda3/envs/jump_models/lib/python3.10/site-packages/umap/distances.py:1071: NumbaDeprecationWarning: \u001b[1mThe 'nopython' keyword argument was not supplied to the 'numba.jit' decorator. The implicit default value for this argument is currently False, but it will be changed to True in Numba 0.59.0. See https://numba.readthedocs.io/en/stable/reference/deprecation.html#deprecation-of-object-mode-fall-back-behaviour-when-using-jit for details.\u001b[0m\n",
      "  @numba.jit()\n",
      "/home/gwatk/miniconda3/envs/jump_models/lib/python3.10/site-packages/umap/distances.py:1086: NumbaDeprecationWarning: \u001b[1mThe 'nopython' keyword argument was not supplied to the 'numba.jit' decorator. The implicit default value for this argument is currently False, but it will be changed to True in Numba 0.59.0. See https://numba.readthedocs.io/en/stable/reference/deprecation.html#deprecation-of-object-mode-fall-back-behaviour-when-using-jit for details.\u001b[0m\n",
      "  @numba.jit()\n",
      "/home/gwatk/miniconda3/envs/jump_models/lib/python3.10/site-packages/umap/umap_.py:660: NumbaDeprecationWarning: \u001b[1mThe 'nopython' keyword argument was not supplied to the 'numba.jit' decorator. The implicit default value for this argument is currently False, but it will be changed to True in Numba 0.59.0. See https://numba.readthedocs.io/en/stable/reference/deprecation.html#deprecation-of-object-mode-fall-back-behaviour-when-using-jit for details.\u001b[0m\n",
      "  @numba.jit()\n"
     ]
    }
   ],
   "source": [
    "import os\n",
    "import warnings\n",
    "from functools import partial\n",
    "\n",
    "import dgl\n",
    "import matplotlib.pyplot as plt\n",
    "import numpy as np\n",
    "import pandas as pd\n",
    "import plotly.express as px\n",
    "import torch\n",
    "import torch.nn as nn\n",
    "from hydra import compose, initialize, initialize_config_dir, initialize_config_module\n",
    "from hydra.utils import instantiate\n",
    "from lightning.pytorch import Trainer\n",
    "from lightning.pytorch.callbacks import EarlyStopping, ModelCheckpoint, RichModelSummary\n",
    "from lightning.pytorch.loggers import CSVLogger, TensorBoardLogger, WandbLogger\n",
    "from omegaconf import DictConfig, OmegaConf\n",
    "from sklearn.decomposition import PCA\n",
    "from sklearn.manifold import TSNE\n",
    "from torch.utils.data import DataLoader\n",
    "from tqdm.auto import tqdm\n",
    "from umap import UMAP\n",
    "\n",
    "import wandb\n",
    "from src.callbacks.wandb import WandbLogCallback\n",
    "from src.eval import Evaluator, EvaluatorList, FinetunableEvaluator\n",
    "from src.eval.ogb.datamodule import BBBPDataModule, EsolDataModule, HIVDataModule, LipoDataModule, Tox21DataModule\n",
    "from src.eval.ogb.module import BBBPModule, EsolModule, HIVModule, LipoModule, Tox21Module\n",
    "from src.models.jump_cl.module import BasicJUMPModule\n",
    "from src.modules.collate_fn.dgl_labels import label_graph_collate_function\n",
    "from src.modules.compound_transforms.dgllife_transform import DGLPretrainedFromInchi, DGLPretrainedFromSmiles\n",
    "from src.modules.molecules.dgllife_gat import GATPretrainedWithLinearHead\n",
    "from src.modules.molecules.dgllife_gin import GINPretrainedWithLinearHead\n",
    "from src.splitters import RandomSplitter, ScaffoldSplitter"
   ]
  },
  {
   "cell_type": "code",
   "execution_count": 3,
   "metadata": {},
   "outputs": [],
   "source": [
    "ckpt = \"./models/runs/2023-07-25_16-12-29/checkpoints/last.ckpt\""
   ]
  },
  {
   "cell_type": "code",
   "execution_count": 4,
   "metadata": {},
   "outputs": [
    {
     "data": {
      "text/plain": [
       "hydra.initialize()"
      ]
     },
     "execution_count": 4,
     "metadata": {},
     "output_type": "execute_result"
    }
   ],
   "source": [
    "initialize(version_base=None, config_path=\"../models/runs/2023-07-25_16-12-29/.hydra/\")"
   ]
  },
  {
   "cell_type": "code",
   "execution_count": 5,
   "metadata": {},
   "outputs": [
    {
     "name": "stdout",
     "output_type": "stream",
     "text": [
      "task_name: train\n",
      "tags:\n",
      "- med_jump_cl\n",
      "- simple_contrastive_training\n",
      "- pretrained_gin_infomax\n",
      "- pretrained_resnet18\n",
      "train: true\n",
      "test: true\n",
      "compile: false\n",
      "ckpt_path: null\n",
      "seed: 12345\n",
      "data:\n",
      "  compound_transform:\n",
      "    _target_: src.modules.molecules.dgllife_gin.dgl_pretrained_featurizer\n",
      "    _partial_: true\n",
      "  _target_: src.models.jump_cl.datamodule.BasicJUMPDataModule\n",
      "  batch_size: 128\n",
      "  num_workers: 24\n",
      "  pin_memory: false\n",
      "  prefetch_factor: null\n",
      "  collate_fn:\n",
      "    _target_: src.modules.collate_fn.dgl_image.image_graph_collate_function\n",
      "    _partial_: true\n",
      "  transform:\n",
      "    _target_: src.modules.transforms.DefaultJUMPTransform\n",
      "    _convert_: object\n",
      "    size: 128\n",
      "    dim:\n",
      "    - -2\n",
      "    - -1\n",
      "  splitter:\n",
      "    _target_: src.splitters.ScaffoldSplitter\n",
      "    train: 25000\n",
      "    test: 3000\n",
      "    val: 2000\n",
      "  split_path: ${paths.split_path}/med_jump_cl/\n",
      "  dataloader_config:\n",
      "    train:\n",
      "      batch_size: ${data.batch_size}\n",
      "      num_workers: ${data.num_workers}\n",
      "      pin_memory: ${data.pin_memory}\n",
      "      prefetch_factor: ${data.prefetch_factor}\n",
      "      shuffle: true\n",
      "    val:\n",
      "      batch_size: ${data.batch_size}\n",
      "      num_workers: ${data.num_workers}\n",
      "      pin_memory: ${data.pin_memory}\n",
      "      prefetch_factor: ${data.prefetch_factor}\n",
      "      shuffle: false\n",
      "    test:\n",
      "      batch_size: ${data.batch_size}\n",
      "      num_workers: ${data.num_workers}\n",
      "      pin_memory: ${data.pin_memory}\n",
      "      prefetch_factor: ${data.prefetch_factor}\n",
      "      shuffle: false\n",
      "  image_metadata_path: ${paths.metadata_path}/images_metadata.parquet\n",
      "  compound_metadata_path: ${paths.metadata_path}/compound_dict.json\n",
      "  compound_col: Metadata_InChI\n",
      "  image_sampler: null\n",
      "  metadata_dir: /projects/cpjump1/jump/metadata/complete_metadata.csv\n",
      "  local_load_data_dir: /projects/cpjump1/jump/load_data/final/\n",
      "  index_str: '{Metadata_Source}__{Metadata_Batch}__{Metadata_Plate}__{Metadata_Well}__{Metadata_Site}'\n",
      "  channels:\n",
      "  - DNA\n",
      "  - AGP\n",
      "  - ER\n",
      "  - Mito\n",
      "  - RNA\n",
      "  col_fstring: FileName_Orig{channel}\n",
      "  id_cols:\n",
      "  - Metadata_Source\n",
      "  - Metadata_Batch\n",
      "  - Metadata_Plate\n",
      "  - Metadata_Well\n",
      "  extra_cols:\n",
      "  - Metadata_PlateType\n",
      "  - Metadata_Site\n",
      "model:\n",
      "  image_encoder:\n",
      "    _target_: src.modules.images.timm_pretrained.CNNEncoder\n",
      "    instance_model_name: resnet18\n",
      "    target_num: ${model.embedding_dim}\n",
      "    n_channels: 5\n",
      "    pretrained: true\n",
      "  molecule_encoder:\n",
      "    _target_: src.modules.molecules.dgllife_gin.GINPretrainedWithLinearHead\n",
      "    pretrained_name: gin_supervised_masking\n",
      "    out_dim: ${model.embedding_dim}\n",
      "    pooling: mean\n",
      "    preload: true\n",
      "  criterion:\n",
      "    _target_: src.modules.losses.contrastive_loss_with_temperature.ContrastiveLossWithTemperature\n",
      "  optimizer:\n",
      "    _target_: torch.optim.Adam\n",
      "    _partial_: true\n",
      "    lr: 0.001\n",
      "    betas:\n",
      "    - 0.9\n",
      "    - 0.999\n",
      "    eps: 1.0e-08\n",
      "    weight_decay: 0.01\n",
      "    amsgrad: false\n",
      "  scheduler:\n",
      "    _target_: torch.optim.lr_scheduler.ExponentialLR\n",
      "    _partial_: true\n",
      "    gamma: 0.9\n",
      "  _target_: src.models.jump_cl.module.BasicJUMPModule\n",
      "  embedding_dim: 256\n",
      "  example_input_path: /projects/cpjump1/jump/models/example_batch/simple_jump_cl/batch.pth\n",
      "callbacks:\n",
      "  model_checkpoint:\n",
      "    _target_: lightning.pytorch.callbacks.ModelCheckpoint\n",
      "    dirpath: ${paths.output_dir}/checkpoints\n",
      "    filename: epoch_{epoch:03d}\n",
      "    monitor: val/loss\n",
      "    verbose: false\n",
      "    save_last: true\n",
      "    save_top_k: 1\n",
      "    mode: max\n",
      "    auto_insert_metric_name: false\n",
      "    save_weights_only: false\n",
      "    every_n_train_steps: null\n",
      "    train_time_interval: null\n",
      "    every_n_epochs: null\n",
      "    save_on_train_epoch_end: null\n",
      "  early_stopping:\n",
      "    _target_: lightning.pytorch.callbacks.EarlyStopping\n",
      "    monitor: val/loss\n",
      "    min_delta: 0.0\n",
      "    patience: 100\n",
      "    verbose: false\n",
      "    mode: max\n",
      "    strict: true\n",
      "    check_finite: true\n",
      "    stopping_threshold: null\n",
      "    divergence_threshold: null\n",
      "    check_on_train_epoch_end: null\n",
      "  model_summary:\n",
      "    _target_: lightning.pytorch.callbacks.RichModelSummary\n",
      "    max_depth: -1\n",
      "  lr_monitor:\n",
      "    _target_: lightning.pytorch.callbacks.LearningRateMonitor\n",
      "    logging_interval: epoch\n",
      "    log_momentum: true\n",
      "logger:\n",
      "  csv:\n",
      "    _target_: lightning.pytorch.loggers.csv_logs.CSVLogger\n",
      "    save_dir: ${paths.output_dir}\n",
      "    name: csv/\n",
      "    prefix: ''\n",
      "  tensorboard:\n",
      "    _target_: lightning.pytorch.loggers.tensorboard.TensorBoardLogger\n",
      "    save_dir: ${paths.output_dir}/tensorboard/\n",
      "    name: null\n",
      "    log_graph: false\n",
      "    default_hp_metric: true\n",
      "    prefix: ''\n",
      "  wandb:\n",
      "    _target_: lightning.pytorch.loggers.wandb.WandbLogger\n",
      "    save_dir: ${paths.output_dir}\n",
      "    offline: false\n",
      "    id: null\n",
      "    anonymous: null\n",
      "    project: jump_models\n",
      "    log_model: true\n",
      "    prefix: ''\n",
      "    group: jump_models\n",
      "    tags: ${tags}\n",
      "    job_type: ''\n",
      "trainer:\n",
      "  _target_: lightning.pytorch.trainer.Trainer\n",
      "  default_root_dir: ${paths.output_dir}\n",
      "  min_epochs: 20\n",
      "  max_epochs: 50\n",
      "  accelerator: gpu\n",
      "  devices:\n",
      "  - 1\n",
      "  check_val_every_n_epoch: 2\n",
      "  deterministic: false\n",
      "  log_every_n_steps: 1\n",
      "  num_sanity_val_steps: 2\n",
      "paths:\n",
      "  root_dir: ${oc.env:PROJECT_ROOT}\n",
      "  metadata_path: /projects/cpjump1/jump/models/metadata\n",
      "  split_path: /projects/cpjump1/jump/models/splits\n",
      "  log_dir: /projects/cpjump1/jump/logs\n",
      "  output_dir: ${hydra:runtime.output_dir}\n",
      "  work_dir: ${hydra:runtime.cwd}\n",
      "extras:\n",
      "  ignore_warnings: true\n",
      "  style: dim\n",
      "  enforce_tags: true\n",
      "  print_config: true\n",
      "\n"
     ]
    }
   ],
   "source": [
    "cfg = compose(config_name=\"config.yaml\")\n",
    "print(OmegaConf.to_yaml(cfg))"
   ]
  },
  {
   "cell_type": "code",
   "execution_count": 6,
   "metadata": {},
   "outputs": [
    {
     "name": "stdout",
     "output_type": "stream",
     "text": [
      "Downloading gin_supervised_masking_pre_trained.pth from https://data.dgl.ai/dgllife/pre_trained/gin_supervised_masking.pth...\n",
      "Pretrained model loaded\n"
     ]
    }
   ],
   "source": [
    "image_encoder = instantiate(cfg.model.image_encoder)\n",
    "molecule_encoder = instantiate(cfg.model.molecule_encoder)\n",
    "criterion = instantiate(cfg.model.criterion)\n",
    "\n",
    "model = BasicJUMPModule.load_from_checkpoint(\n",
    "    ckpt,\n",
    "    image_encoder=image_encoder,\n",
    "    molecule_encoder=molecule_encoder,\n",
    "    criterion=criterion,\n",
    "    example_input_path=None,\n",
    "    map_location=torch.device(\"cpu\"),\n",
    ")"
   ]
  },
  {
   "cell_type": "markdown",
   "metadata": {},
   "source": [
    "## Plotting the molecule embeddings"
   ]
  },
  {
   "cell_type": "code",
   "execution_count": 23,
   "metadata": {},
   "outputs": [],
   "source": [
    "split_path = \"../cpjump1/jump/models/splits/bigger_jump_cl\""
   ]
  },
  {
   "cell_type": "code",
   "execution_count": 24,
   "metadata": {},
   "outputs": [],
   "source": [
    "train_cpds = pd.read_csv(f\"{split_path}/train_ids.csv\").iloc[:, 0].tolist()\n",
    "test_cpds = pd.read_csv(f\"{split_path}/test_ids.csv\").iloc[:, 0].tolist()\n",
    "val_cpds = pd.read_csv(f\"{split_path}/val_ids.csv\").iloc[:, 0].tolist()\n",
    "\n",
    "compound_list = train_cpds + test_cpds + val_cpds"
   ]
  },
  {
   "cell_type": "code",
   "execution_count": 25,
   "metadata": {},
   "outputs": [],
   "source": [
    "splitter = ScaffoldSplitter(train=25000, test=3000, val=2000, compound_list=compound_list)"
   ]
  },
  {
   "cell_type": "code",
   "execution_count": 26,
   "metadata": {},
   "outputs": [],
   "source": [
    "scaffolds = splitter.generate_scaffolds()"
   ]
  },
  {
   "cell_type": "code",
   "execution_count": 27,
   "metadata": {},
   "outputs": [
    {
     "data": {
      "text/plain": [
       "device(type='cuda')"
      ]
     },
     "execution_count": 27,
     "metadata": {},
     "output_type": "execute_result"
    }
   ],
   "source": [
    "device = torch.device(\"cuda\" if torch.cuda.is_available() else \"cpu\")\n",
    "device"
   ]
  },
  {
   "cell_type": "code",
   "execution_count": 28,
   "metadata": {},
   "outputs": [],
   "source": [
    "def get_emb_from_smiles(smiles, model, featurizer, device, verbose=False):\n",
    "    model.to(device)\n",
    "    model.eval()\n",
    "\n",
    "    graphs = [featurizer(smile) for smile in smiles]\n",
    "    dl = DataLoader(graphs, batch_size=64, shuffle=False, collate_fn=dgl.batch)\n",
    "    feats = []\n",
    "\n",
    "    pbar = tqdm(dl) if verbose else dl\n",
    "    for b in pbar:\n",
    "        f = model.molecule_encoder(b.to(device))\n",
    "        feats.append(f.detach().cpu().numpy())\n",
    "\n",
    "    return np.concatenate(feats)"
   ]
  },
  {
   "cell_type": "code",
   "execution_count": 29,
   "metadata": {},
   "outputs": [],
   "source": [
    "n_ex = 100\n",
    "idx = list(range(2, 2 + 3 * n_ex, 3))"
   ]
  },
  {
   "cell_type": "code",
   "execution_count": 30,
   "metadata": {},
   "outputs": [
    {
     "data": {
      "application/vnd.jupyter.widget-view+json": {
       "model_id": "0984049ec85c496eba2296e06a08bcbc",
       "version_major": 2,
       "version_minor": 0
      },
      "text/plain": [
       "  0%|          | 0/100 [00:00<?, ?it/s]"
      ]
     },
     "metadata": {},
     "output_type": "display_data"
    }
   ],
   "source": [
    "scaffold_feats = []\n",
    "\n",
    "for i in tqdm(idx, leave=False):\n",
    "    scaffold_feats.append(\n",
    "        get_emb_from_smiles(\n",
    "            smiles=scaffolds[i], model=model, featurizer=DGLPretrainedFromInchi(), device=device, verbose=False\n",
    "        )\n",
    "    )\n",
    "\n",
    "scaffold_index = np.concatenate([np.ones(scaf.shape[0]) * i for i, scaf in enumerate(scaffold_feats)])\n",
    "\n",
    "X = np.concatenate(scaffold_feats)\n",
    "y = scaffold_index"
   ]
  },
  {
   "cell_type": "code",
   "execution_count": 31,
   "metadata": {},
   "outputs": [],
   "source": [
    "tsne_proj = TSNE(n_components=2, perplexity=50, n_jobs=-1).fit_transform(X)\n",
    "pca_proj = PCA(n_components=2).fit_transform(X)\n",
    "umap_proj = UMAP(n_components=2, n_neighbors=50).fit_transform(X)"
   ]
  },
  {
   "cell_type": "code",
   "execution_count": 32,
   "metadata": {},
   "outputs": [],
   "source": [
    "df = pd.DataFrame(tsne_proj, columns=[\"tsne-x\", \"tsne-y\"])\n",
    "df[\"pca-x\"] = pca_proj[:, 0]\n",
    "df[\"pca-y\"] = pca_proj[:, 1]\n",
    "df[\"umap-x\"] = umap_proj[:, 0]\n",
    "df[\"umap-y\"] = umap_proj[:, 1]\n",
    "df[\"scaffold\"] = y.astype(int).astype(str)\n",
    "df[\"inchi\"] = np.concatenate([scaffolds[i] for i in idx])"
   ]
  },
  {
   "cell_type": "code",
   "execution_count": 33,
   "metadata": {},
   "outputs": [
    {
     "data": {
      "application/vnd.plotly.v1+json": {
       "config": {
        "plotlyServerURL": "https://plot.ly"
       },
       "data": [
        {
         "hovertemplate": "scaffold=0<br>tsne-x=%{x}<br>tsne-y=%{y}<extra></extra>",
         "legendgroup": "0",
         "marker": {
          "color": "#636efa",
          "symbol": "circle"
         },
         "mode": "markers",
         "name": "0",
         "showlegend": true,
         "type": "scattergl",
         "x": [
          -3.7658352851867676,
          7.5520830154418945,
          1.5741244554519653,
          -4.487520217895508,
          -14.11299991607666,
          -4.002059459686279,
          2.287102699279785,
          1.1053305864334106,
          -19.5346622467041,
          23.897825241088867,
          23.945756912231445,
          0.00374634494073689,
          -5.350647449493408,
          22.267093658447266,
          23.973072052001953,
          23.945785522460938,
          10.470608711242676,
          21.760236740112305,
          17.52526092529297,
          22.150861740112305,
          22.730831146240234,
          -7.358505725860596,
          -5.326253414154053,
          -3.6376419067382812,
          -6.708094596862793,
          -3.174687623977661,
          -5.6618499755859375,
          -1.8933820724487305,
          26.12388801574707,
          -3.7161853313446045,
          -2.4445934295654297,
          4.6087565422058105,
          16.1673583984375,
          12.85250473022461,
          19.90070343017578,
          25.965951919555664,
          18.83330535888672,
          23.30910301208496,
          4.6733245849609375,
          1.0896952152252197,
          21.50328826904297,
          -4.63087797164917,
          21.529705047607422,
          -1.3295291662216187,
          -5.912135124206543,
          27.108190536499023,
          24.104764938354492,
          -7.863606929779053,
          3.874298334121704,
          7.808004856109619,
          25.646127700805664,
          -7.5765299797058105,
          -4.951009273529053,
          -7.611225128173828,
          17.630708694458008,
          25.63077735900879,
          -31.37248992919922,
          17.401338577270508,
          10.426554679870605,
          -4.235344409942627,
          -3.6745452880859375,
          0.6789030432701111,
          2.649535655975342,
          25.944564819335938,
          -0.17619912326335907,
          0.02662953920662403,
          14.964771270751953,
          23.662250518798828,
          -8.214766502380371,
          -6.471926212310791,
          -12.583431243896484,
          -3.7198760509490967,
          -5.626945495605469,
          -1.9648600816726685,
          -6.71182918548584,
          -0.8245518207550049,
          -6.7004618644714355,
          39.52138900756836,
          3.112300157546997,
          32.87051010131836,
          25.696334838867188,
          -31.36991310119629,
          -2.372512102127075,
          25.658649444580078,
          -1.7882516384124756,
          17.33930206298828,
          -1.984087586402893,
          0.14909283816814423,
          -1.9659069776535034,
          -38.208526611328125,
          37.550601959228516,
          -5.637301921844482,
          -30.480173110961914,
          -4.612683296203613,
          -2.9860408306121826,
          -3.6666300296783447,
          -0.7880796194076538,
          -6.442968845367432,
          -6.5447258949279785,
          -4.982663154602051,
          -8.234435081481934,
          -16.203128814697266,
          -26.781551361083984,
          -5.323506832122803,
          -30.494731903076172,
          0.7352976202964783,
          -1.9429028034210205,
          -7.7079291343688965,
          -0.7442017197608948,
          17.457021713256836,
          -1.7074663639068604,
          -7.536269664764404,
          -13.706074714660645,
          2.144707202911377,
          1.0096770524978638,
          24.008563995361328,
          -7.590451717376709,
          -7.866400718688965,
          -1.7739591598510742,
          -12.56579875946045,
          -6.8764448165893555,
          -7.547994613647461,
          -27.256576538085938,
          -0.026727477088570595,
          3.2549686431884766,
          0.03526079282164574,
          -7.422496795654297,
          -0.7847108244895935,
          -4.903144359588623,
          -3.057652473449707,
          -7.901658058166504,
          -1.479422926902771,
          24.709243774414062,
          0.6094391345977783,
          1.5109150409698486,
          -39.46620178222656,
          3.6625723838806152,
          22.789703369140625,
          -39.46867370605469,
          0.3034869432449341,
          23.21438217163086,
          -4.750208854675293,
          1.5647072792053223,
          1.408665418624878,
          24.704622268676758,
          2.3517627716064453,
          -4.633660316467285,
          7.712082386016846
         ],
         "xaxis": "x",
         "y": [
          -31.943889617919922,
          -21.476259231567383,
          -26.683284759521484,
          -17.03363609313965,
          -38.00747299194336,
          -12.350926399230957,
          -23.006441116333008,
          -14.496520042419434,
          -25.208356857299805,
          -19.085613250732422,
          32.00969314575195,
          -18.619661331176758,
          -24.57931900024414,
          -19.295101165771484,
          -18.83073616027832,
          32.008079528808594,
          9.485480308532715,
          -20.639768600463867,
          12.491242408752441,
          -18.775428771972656,
          -19.84221839904785,
          -16.69322967529297,
          -24.602930068969727,
          -17.851778030395508,
          -19.850791931152344,
          -19.26097869873047,
          -13.385380744934082,
          5.771409034729004,
          -21.3526611328125,
          -22.06926918029785,
          -15.558147430419922,
          -21.136714935302734,
          19.215293884277344,
          -28.659013748168945,
          -24.16360855102539,
          -16.48440170288086,
          -25.038846969604492,
          -15.307290077209473,
          -21.230789184570312,
          -14.580239295959473,
          5.95415735244751,
          -0.27520206570625305,
          -20.625532150268555,
          8.090450286865234,
          -15.791617393493652,
          -19.127023696899414,
          -17.56351661682129,
          -15.024781227111816,
          1.267348289489746,
          -25.333349227905273,
          -20.94745635986328,
          4.7545881271362305,
          -17.88723373413086,
          -15.223915100097656,
          -25.46064567565918,
          -21.093603134155273,
          7.363758563995361,
          11.67314338684082,
          9.459036827087402,
          -10.138381004333496,
          13.598340034484863,
          -6.146062850952148,
          8.85872745513916,
          -16.497011184692383,
          -15.872518539428711,
          -14.31701946258545,
          18.760089874267578,
          -18.376108169555664,
          -14.422417640686035,
          -8.539990425109863,
          14.569459915161133,
          -16.33281707763672,
          -15.88049602508545,
          7.11542272567749,
          -19.13304901123047,
          -11.1358642578125,
          14.748954772949219,
          -16.431556701660156,
          0.23224470019340515,
          -17.064435958862305,
          -18.97260093688965,
          7.361971855163574,
          -12.099150657653809,
          -18.950857162475586,
          5.363455772399902,
          19.788677215576172,
          -17.19856834411621,
          -11.966856956481934,
          5.804557800292969,
          3.391493558883667,
          12.511282920837402,
          -2.417449712753296,
          4.655609607696533,
          -14.806796073913574,
          6.567117691040039,
          -10.847801208496094,
          15.521052360534668,
          21.64378547668457,
          21.63780975341797,
          -1.2924498319625854,
          -14.215910911560059,
          0.6276635527610779,
          25.658008575439453,
          16.946407318115234,
          4.672318458557129,
          7.484556198120117,
          12.43404769897461,
          -19.52272605895996,
          3.651731014251709,
          19.712371826171875,
          -11.252815246582031,
          16.831058502197266,
          -36.28555679321289,
          -1.7540454864501953,
          12.482827186584473,
          -18.326622009277344,
          10.775553703308105,
          18.004352569580078,
          -11.163520812988281,
          -2.316922903060913,
          13.652033805847168,
          16.851564407348633,
          17.83228302001953,
          -12.456622123718262,
          11.429746627807617,
          -12.995434761047363,
          21.363452911376953,
          -12.726675987243652,
          -0.7433735132217407,
          13.342872619628906,
          18.138517379760742,
          13.03689193725586,
          35.017826080322266,
          -9.125335693359375,
          -25.22330093383789,
          -25.08965301513672,
          -23.627700805664062,
          -19.720149993896484,
          -25.103668212890625,
          -21.314245223999023,
          -22.171419143676758,
          -20.600486755371094,
          -26.390352249145508,
          -24.90769386291504,
          35.0197868347168,
          -23.08586311340332,
          -16.843547821044922,
          -25.376239776611328
         ],
         "yaxis": "y"
        },
        {
         "hovertemplate": "scaffold=1<br>tsne-x=%{x}<br>tsne-y=%{y}<extra></extra>",
         "legendgroup": "1",
         "marker": {
          "color": "#EF553B",
          "symbol": "circle"
         },
         "mode": "markers",
         "name": "1",
         "showlegend": true,
         "type": "scattergl",
         "x": [
          -10.831050872802734,
          -15.082242012023926,
          -10.936089515686035,
          6.596325874328613,
          -9.39505672454834,
          -3.5027873516082764,
          -10.085318565368652,
          13.458686828613281,
          -9.477570533752441,
          -8.221192359924316,
          34.47179412841797,
          -10.344926834106445,
          34.908565521240234,
          -14.421834945678711,
          18.65621566772461,
          -20.62285804748535,
          18.619972229003906,
          17.436412811279297,
          16.0485782623291,
          16.053430557250977,
          -10.585526466369629,
          -2.6115097999572754,
          -7.248725414276123,
          -14.078782081604004,
          3.2776217460632324,
          -8.269640922546387,
          -14.902726173400879,
          16.248544692993164,
          14.940256118774414,
          4.636253356933594,
          10.646769523620605,
          18.308574676513672,
          -16.543010711669922,
          -17.380672454833984,
          16.070234298706055,
          -7.0605950355529785,
          9.977643966674805,
          -5.942137718200684,
          23.67148780822754,
          3.523311138153076,
          -13.465394973754883,
          -13.733153343200684,
          17.185829162597656,
          5.037734508514404,
          -8.340048789978027,
          15.288728713989258,
          20.56586456298828,
          15.62114143371582,
          -14.43453311920166,
          -5.794100761413574,
          9.11492919921875,
          -13.040502548217773,
          -10.75620174407959,
          -11.220420837402344,
          -17.320764541625977,
          -13.98897647857666,
          -13.912816047668457,
          20.605104446411133,
          -12.817168235778809,
          -13.33286190032959,
          -11.383544921875,
          -32.787776947021484,
          5.699921131134033,
          -32.78178787231445,
          -12.154190063476562,
          -14.906468391418457,
          19.845928192138672,
          -14.735244750976562,
          -14.142532348632812,
          -15.094523429870605,
          2.1358659267425537,
          -11.322643280029297,
          15.427491188049316,
          -6.866109848022461,
          -19.46225929260254,
          -11.893932342529297,
          -11.990971565246582,
          -15.66640853881836,
          -12.178549766540527,
          1.140128254890442,
          -15.549904823303223,
          -16.659799575805664,
          -14.966403007507324,
          -13.799971580505371,
          -16.117300033569336,
          -14.781423568725586,
          -12.773765563964844,
          -6.941915035247803,
          -16.345029830932617,
          -14.456476211547852,
          -11.983633995056152,
          -14.512917518615723,
          14.802519798278809,
          -15.547680854797363,
          -8.006889343261719,
          -1.401969313621521
         ],
         "xaxis": "x",
         "y": [
          -27.035860061645508,
          -10.065469741821289,
          -27.039207458496094,
          -12.343460083007812,
          -28.39568519592285,
          -4.962026596069336,
          -28.240697860717773,
          -20.14120864868164,
          -32.281803131103516,
          -30.569625854492188,
          -18.564254760742188,
          -27.030630111694336,
          -17.74199867248535,
          -9.066971778869629,
          -14.799317359924316,
          -7.818287372589111,
          -14.803709030151367,
          -18.915538787841797,
          -20.888402938842773,
          -20.862642288208008,
          -32.05495071411133,
          -4.931055068969727,
          -29.578968048095703,
          -37.81938552856445,
          -12.44711685180664,
          -30.685667037963867,
          -26.931062698364258,
          -15.805668830871582,
          -19.1855411529541,
          -13.194092750549316,
          -18.186847686767578,
          -16.63681411743164,
          -12.279495239257812,
          7.144038677215576,
          -24.977956771850586,
          -29.51302719116211,
          15.310761451721191,
          -3.834786891937256,
          -12.408023834228516,
          2.461620807647705,
          4.588345527648926,
          11.26724624633789,
          -17.95220947265625,
          -11.265243530273438,
          -1.9369802474975586,
          -4.6345720291137695,
          -16.673320770263672,
          -15.372100830078125,
          3.8653526306152344,
          3.7737536430358887,
          -0.10728912055492401,
          13.389140129089355,
          -6.949378490447998,
          13.029261589050293,
          7.157649993896484,
          6.1132731437683105,
          5.249022960662842,
          -16.566923141479492,
          6.981295585632324,
          4.945771217346191,
          12.6077241897583,
          11.442852973937988,
          -11.977773666381836,
          11.453346252441406,
          13.9305419921875,
          6.270384311676025,
          -17.06510353088379,
          5.364691257476807,
          6.1662278175354,
          10.386164665222168,
          -5.126619815826416,
          10.30083179473877,
          -4.245805263519287,
          -5.425613880157471,
          1.975037932395935,
          9.242106437683105,
          -31.885831832885742,
          6.8072357177734375,
          9.885002136230469,
          19.734378814697266,
          -22.960107803344727,
          2.7955687046051025,
          12.157537460327148,
          6.334923267364502,
          4.998775959014893,
          9.382293701171875,
          -14.385725975036621,
          -0.620826244354248,
          3.199357271194458,
          7.909318447113037,
          8.650192260742188,
          7.737557411193848,
          10.344664573669434,
          -22.905399322509766,
          -8.269219398498535,
          11.126504898071289
         ],
         "yaxis": "y"
        },
        {
         "hovertemplate": "scaffold=2<br>tsne-x=%{x}<br>tsne-y=%{y}<extra></extra>",
         "legendgroup": "2",
         "marker": {
          "color": "#00cc96",
          "symbol": "circle"
         },
         "mode": "markers",
         "name": "2",
         "showlegend": true,
         "type": "scattergl",
         "x": [
          7.6526079177856445,
          1.4501806497573853,
          25.38768768310547,
          27.008556365966797,
          16.500465393066406,
          6.134438991546631,
          6.108519554138184,
          3.535580635070801,
          24.501115798950195,
          -3.0618438720703125,
          -4.387892723083496,
          -10.639787673950195,
          -14.5535306930542,
          1.860519528388977,
          2.455521821975708,
          2.114029884338379,
          1.830159068107605,
          21.77414894104004,
          -47.4849967956543,
          28.468997955322266,
          20.15169334411621,
          25.308330535888672,
          4.607244968414307,
          20.162979125976562,
          13.905640602111816,
          25.63933563232422,
          0.5396671295166016,
          -16.260066986083984,
          13.882574081420898,
          12.801065444946289,
          23.60624885559082,
          26.652263641357422,
          -3.2288060188293457,
          20.049976348876953,
          40.86111068725586,
          -14.481414794921875,
          10.64493465423584,
          41.4599609375,
          8.565082550048828,
          -40.427616119384766,
          26.701730728149414,
          27.72960662841797,
          32.607906341552734,
          24.81464385986328,
          19.363645553588867,
          42.25880813598633,
          -1.358961820602417,
          0.6035605072975159,
          22.922992706298828,
          27.442153930664062,
          24.955463409423828,
          -21.04842185974121,
          8.06023120880127,
          39.34783935546875,
          7.462852954864502,
          15.655049324035645,
          14.798088073730469,
          39.48013687133789,
          25.62322998046875,
          -18.947961807250977,
          3.294623851776123,
          8.992569923400879,
          25.004112243652344,
          24.958274841308594,
          25.32041358947754,
          39.533042907714844,
          40.21751022338867,
          -2.9155755043029785,
          -31.426921844482422,
          26.76795768737793,
          20.359458923339844,
          -0.9743562936782837,
          16.35086441040039,
          16.489303588867188,
          -0.8405331969261169,
          -4.5535101890563965,
          23.991535186767578,
          16.94100570678711,
          8.48090934753418,
          -1.6123847961425781
         ],
         "xaxis": "x",
         "y": [
          20.405099868774414,
          31.528295516967773,
          12.904973983764648,
          -21.477108001708984,
          22.723114013671875,
          14.89332389831543,
          14.891119003295898,
          12.89028263092041,
          22.26360511779785,
          -1.4643466472625732,
          19.333711624145508,
          13.992511749267578,
          17.549724578857422,
          15.115610122680664,
          14.95335865020752,
          31.275522232055664,
          31.46437644958496,
          24.551895141601562,
          9.598160743713379,
          16.2747802734375,
          21.634023666381836,
          15.929662704467773,
          14.842032432556152,
          21.661287307739258,
          22.338865280151367,
          14.250886917114258,
          31.72419548034668,
          12.757753372192383,
          22.38787841796875,
          -7.410763263702393,
          11.600823402404785,
          18.400177001953125,
          23.982616424560547,
          -13.331377983093262,
          -0.5657283663749695,
          -38.97395706176758,
          22.30560874938965,
          -17.507457733154297,
          17.700363159179688,
          -20.068927764892578,
          18.511363983154297,
          -12.875454902648926,
          -4.24119234085083,
          17.556602478027344,
          -4.906933784484863,
          -16.950368881225586,
          22.109607696533203,
          17.707420349121094,
          19.131399154663086,
          15.982988357543945,
          23.963045120239258,
          -10.435511589050293,
          35.850337982177734,
          -1.5461933612823486,
          9.42455005645752,
          20.657978057861328,
          -1.341046929359436,
          -1.2495180368423462,
          9.44412612915039,
          -29.905044555664062,
          32.005794525146484,
          36.93723678588867,
          23.46385383605957,
          16.888343811035156,
          21.569467544555664,
          -0.8998708724975586,
          -0.8037360906600952,
          31.244802474975586,
          -11.20207691192627,
          -12.20129680633545,
          22.028223037719727,
          22.20579719543457,
          17.584592819213867,
          22.71820068359375,
          -9.209700584411621,
          18.881031036376953,
          22.00838279724121,
          21.33915901184082,
          17.606014251708984,
          19.80108642578125
         ],
         "yaxis": "y"
        },
        {
         "hovertemplate": "scaffold=3<br>tsne-x=%{x}<br>tsne-y=%{y}<extra></extra>",
         "legendgroup": "3",
         "marker": {
          "color": "#ab63fa",
          "symbol": "circle"
         },
         "mode": "markers",
         "name": "3",
         "showlegend": true,
         "type": "scattergl",
         "x": [
          36.39454650878906,
          24.35364532470703,
          7.459273338317871,
          40.01865005493164,
          35.05251693725586,
          18.96757698059082,
          8.996827125549316,
          9.86293888092041,
          36.35784149169922,
          39.044464111328125,
          6.437262058258057,
          10.869481086730957,
          36.187034606933594,
          10.330483436584473,
          9.723061561584473,
          10.49599552154541,
          36.378963470458984,
          10.7626953125,
          1.0696314573287964,
          9.681920051574707,
          35.112247467041016,
          9.186399459838867,
          39.21571350097656,
          39.08958053588867,
          39.15507125854492,
          7.4713029861450195,
          7.641541957855225,
          9.071380615234375,
          9.072792053222656,
          9.610142707824707,
          8.306419372558594,
          -1.597966194152832,
          10.710213661193848,
          10.121866226196289,
          19.20701026916504,
          9.7483491897583,
          -7.699059963226318,
          10.70032024383545,
          10.044588088989258,
          14.013982772827148,
          33.888240814208984,
          13.998833656311035,
          1.6600959300994873,
          -14.3130464553833,
          10.745725631713867,
          9.977270126342773,
          9.835280418395996,
          10.867321014404297,
          35.58866500854492,
          37.27803039550781,
          11.843090057373047,
          21.921417236328125,
          3.8733627796173096,
          36.26884078979492
         ],
         "xaxis": "x",
         "y": [
          -17.394805908203125,
          -7.375579357147217,
          -28.6032772064209,
          -19.09355354309082,
          -9.052221298217773,
          -25.203083038330078,
          -29.70697784423828,
          -30.496633529663086,
          -8.283370018005371,
          -17.3919620513916,
          -29.328731536865234,
          -28.613759994506836,
          -8.455801010131836,
          -30.469783782958984,
          -28.5313663482666,
          -30.37035369873047,
          -8.38504409790039,
          -23.923809051513672,
          3.5298991203308105,
          -28.695945739746094,
          -9.112584114074707,
          -28.76626205444336,
          -17.446563720703125,
          -17.804058074951172,
          -17.62300682067871,
          -29.95282745361328,
          -29.489055633544922,
          -29.778783798217773,
          -24.675975799560547,
          -26.528287887573242,
          -29.52768325805664,
          -14.683615684509277,
          -25.514060974121094,
          -25.236934661865234,
          -26.759784698486328,
          -28.31429100036621,
          -12.160111427307129,
          -25.773387908935547,
          -25.298810958862305,
          -30.70713996887207,
          -4.981443405151367,
          -30.71234703063965,
          -0.7463685870170593,
          -38.54758834838867,
          -33.493106842041016,
          -33.485313415527344,
          -33.50114822387695,
          -27.21413230895996,
          -7.833564758300781,
          -6.266456127166748,
          -25.790403366088867,
          -21.99892807006836,
          -1.274263620376587,
          -11.291680335998535
         ],
         "yaxis": "y"
        },
        {
         "hovertemplate": "scaffold=4<br>tsne-x=%{x}<br>tsne-y=%{y}<extra></extra>",
         "legendgroup": "4",
         "marker": {
          "color": "#FFA15A",
          "symbol": "circle"
         },
         "mode": "markers",
         "name": "4",
         "showlegend": true,
         "type": "scattergl",
         "x": [
          31.353580474853516,
          32.27815246582031,
          28.458688735961914,
          32.03070831298828,
          28.752655029296875,
          31.769554138183594,
          30.64698028564453,
          5.861166477203369,
          31.244882583618164,
          12.137873649597168,
          31.708206176757812,
          7.969842910766602,
          28.227298736572266,
          28.89887809753418,
          30.496910095214844,
          16.88477325439453,
          16.88616371154785,
          13.837190628051758,
          -19.26802635192871,
          -20.294084548950195,
          -20.062103271484375,
          -7.7344889640808105,
          22.335697174072266,
          25.12228012084961,
          -23.270240783691406,
          16.89059829711914,
          30.650609970092773,
          -20.628320693969727,
          39.79279708862305,
          -20.17326545715332,
          21.992341995239258,
          21.494047164916992,
          30.420307159423828,
          29.138025283813477,
          -23.944374084472656,
          -20.52353858947754,
          30.59550666809082,
          -4.172658443450928,
          -7.980820655822754,
          30.543304443359375,
          30.654945373535156,
          30.38979721069336,
          30.57089614868164,
          -5.607011795043945,
          -23.169639587402344,
          30.681255340576172,
          -31.932790756225586,
          -20.885845184326172,
          -31.931968688964844
         ],
         "xaxis": "x",
         "y": [
          4.15532922744751,
          5.902646064758301,
          8.443502426147461,
          5.594371795654297,
          2.5033535957336426,
          6.3020124435424805,
          1.5611308813095093,
          21.330385208129883,
          5.257030963897705,
          -1.918263554573059,
          4.5652995109558105,
          1.3585560321807861,
          8.375909805297852,
          8.425216674804688,
          3.481494188308716,
          -6.443297863006592,
          -6.433070182800293,
          -2.8427224159240723,
          -22.59450912475586,
          -24.629070281982422,
          19.75060272216797,
          3.7839605808258057,
          -3.990363836288452,
          8.63587474822998,
          -19.8514404296875,
          -6.4562578201293945,
          4.582304000854492,
          -20.75102996826172,
          -15.370587348937988,
          -24.586931228637695,
          -3.987927198410034,
          11.113506317138672,
          10.474634170532227,
          8.424910545349121,
          -19.530324935913086,
          -20.835636138916016,
          8.537781715393066,
          23.339569091796875,
          3.143876552581787,
          3.4380249977111816,
          9.373432159423828,
          8.198362350463867,
          8.493770599365234,
          16.017108917236328,
          -19.602954864501953,
          9.416613578796387,
          15.801977157592773,
          -24.60917854309082,
          15.794766426086426
         ],
         "yaxis": "y"
        },
        {
         "hovertemplate": "scaffold=5<br>tsne-x=%{x}<br>tsne-y=%{y}<extra></extra>",
         "legendgroup": "5",
         "marker": {
          "color": "#19d3f3",
          "symbol": "circle"
         },
         "mode": "markers",
         "name": "5",
         "showlegend": true,
         "type": "scattergl",
         "x": [
          10.467065811157227,
          7.421083927154541,
          7.459106922149658,
          15.569588661193848,
          14.534236907958984,
          15.886780738830566,
          11.120410919189453,
          3.4017112255096436,
          -12.998018264770508,
          13.19620132446289,
          15.557879447937012,
          -7.806764125823975,
          4.737771034240723,
          15.74522876739502,
          -10.815906524658203,
          14.970176696777344,
          10.632746696472168,
          -37.03948974609375,
          3.4526915550231934,
          -3.7501792907714844,
          -7.697411060333252,
          -15.481432914733887,
          -7.433557987213135,
          -33.80715560913086,
          2.075613021850586,
          15.23695182800293,
          -36.000038146972656,
          1.557684063911438,
          -36.83468246459961,
          -15.972997665405273,
          -16.214792251586914,
          -37.79397964477539,
          -5.779515743255615,
          26.80225944519043,
          -16.384754180908203,
          -16.277889251708984,
          -36.56023406982422,
          -17.87060546875,
          1.9399594068527222,
          3.144535541534424,
          -34.621707916259766,
          4.828950881958008,
          -4.191572189331055,
          -34.625701904296875,
          1.185785174369812
         ],
         "xaxis": "x",
         "y": [
          -15.519136428833008,
          -13.243212699890137,
          -13.900120735168457,
          -16.885990142822266,
          -18.55467414855957,
          -18.044124603271484,
          -15.872908592224121,
          -8.772299766540527,
          -14.351097106933594,
          -5.526010513305664,
          -16.77861785888672,
          -9.801163673400879,
          -8.678121566772461,
          -18.20506477355957,
          -32.02850341796875,
          -18.60427474975586,
          -15.619732856750488,
          4.020678520202637,
          -11.384678840637207,
          8.912171363830566,
          -10.105337142944336,
          -27.235580444335938,
          -10.475699424743652,
          3.879990339279175,
          -10.13730239868164,
          -16.716772079467773,
          4.017579555511475,
          -10.907271385192871,
          4.1516876220703125,
          10.773978233337402,
          10.872664451599121,
          4.424248218536377,
          5.178982257843018,
          -2.107712745666504,
          9.933476448059082,
          10.980927467346191,
          4.584672451019287,
          9.015870094299316,
          -10.239595413208008,
          -10.786113739013672,
          3.175426483154297,
          -10.325615882873535,
          1.6633402109146118,
          3.2439911365509033,
          11.682801246643066
         ],
         "yaxis": "y"
        },
        {
         "hovertemplate": "scaffold=6<br>tsne-x=%{x}<br>tsne-y=%{y}<extra></extra>",
         "legendgroup": "6",
         "marker": {
          "color": "#FF6692",
          "symbol": "circle"
         },
         "mode": "markers",
         "name": "6",
         "showlegend": true,
         "type": "scattergl",
         "x": [
          -28.29401206970215,
          -23.909442901611328,
          -26.70248031616211,
          -25.111120223999023,
          -24.01933479309082,
          -24.522018432617188,
          -23.94552993774414,
          -25.894861221313477,
          -24.622026443481445,
          -25.027626037597656,
          -24.63697052001953,
          -25.997800827026367,
          -24.897050857543945,
          -27.338499069213867,
          -27.42804718017578,
          -24.690500259399414,
          -28.81211280822754,
          -23.784021377563477,
          -28.310710906982422,
          -24.210874557495117,
          -22.24087905883789,
          -27.503816604614258,
          -29.288469314575195,
          -28.555389404296875,
          -24.68187713623047,
          -23.20054054260254,
          -23.079872131347656,
          -29.6893367767334,
          -29.36707305908203,
          -25.51163673400879,
          -23.750534057617188,
          -23.51860809326172,
          -29.308700561523438,
          -23.66414451599121,
          -21.76990509033203,
          -23.28095817565918
         ],
         "xaxis": "x",
         "y": [
          -6.731424808502197,
          -7.233253479003906,
          -3.324120044708252,
          -6.551244258880615,
          -6.604594707489014,
          -6.001745700836182,
          -6.5293707847595215,
          -3.465132713317871,
          -2.73759126663208,
          -9.015714645385742,
          -3.735950231552124,
          -3.409837484359741,
          -5.55922269821167,
          -5.170211315155029,
          -10.35695743560791,
          -1.9119372367858887,
          -5.551850318908691,
          -5.536606311798096,
          -5.373451232910156,
          -4.409247875213623,
          -5.458657264709473,
          -10.490239143371582,
          -6.885049819946289,
          -6.76000452041626,
          -1.8204668760299683,
          -4.224516868591309,
          -6.473353862762451,
          -5.598264217376709,
          -6.30080509185791,
          -4.862223148345947,
          -4.862038612365723,
          -5.269944190979004,
          -6.830893039703369,
          -9.55632209777832,
          -6.499972343444824,
          -6.9348530769348145
         ],
         "yaxis": "y"
        },
        {
         "hovertemplate": "scaffold=7<br>tsne-x=%{x}<br>tsne-y=%{y}<extra></extra>",
         "legendgroup": "7",
         "marker": {
          "color": "#B6E880",
          "symbol": "circle"
         },
         "mode": "markers",
         "name": "7",
         "showlegend": true,
         "type": "scattergl",
         "x": [
          11.585895538330078,
          15.621581077575684,
          10.380846977233887,
          9.780404090881348,
          9.77326488494873,
          11.043031692504883,
          10.482475280761719,
          13.50831127166748,
          13.273663520812988,
          13.299336433410645,
          9.742300987243652,
          12.295223236083984,
          12.293241500854492,
          12.663607597351074,
          12.806168556213379,
          12.437368392944336,
          11.619081497192383,
          11.50536823272705,
          15.457707405090332,
          15.499835014343262,
          15.139694213867188,
          10.744267463684082,
          13.647058486938477,
          12.105469703674316,
          11.82046127319336,
          13.005990028381348,
          12.679641723632812,
          13.266253471374512,
          12.173775672912598,
          15.2396821975708,
          15.196401596069336,
          12.042337417602539,
          13.357719421386719,
          14.891571044921875
         ],
         "xaxis": "x",
         "y": [
          1.689486026763916,
          5.168731212615967,
          1.6893750429153442,
          2.166344404220581,
          2.1176552772521973,
          2.654587984085083,
          1.7296279668807983,
          3.556596279144287,
          2.757887363433838,
          3.5409326553344727,
          2.1879186630249023,
          7.013520240783691,
          7.073599338531494,
          3.9157629013061523,
          2.2504124641418457,
          7.155579566955566,
          3.1229875087738037,
          4.070629119873047,
          5.08543062210083,
          5.396312236785889,
          1.8983842134475708,
          3.1179099082946777,
          4.5438055992126465,
          2.9373247623443604,
          4.557962417602539,
          4.47836446762085,
          6.6705121994018555,
          7.052556037902832,
          3.700641632080078,
          1.8879764080047607,
          1.9294228553771973,
          4.9888176918029785,
          5.350069046020508,
          4.063045024871826
         ],
         "yaxis": "y"
        },
        {
         "hovertemplate": "scaffold=8<br>tsne-x=%{x}<br>tsne-y=%{y}<extra></extra>",
         "legendgroup": "8",
         "marker": {
          "color": "#FF97FF",
          "symbol": "circle"
         },
         "mode": "markers",
         "name": "8",
         "showlegend": true,
         "type": "scattergl",
         "x": [
          11.531353950500488,
          10.114956855773926,
          5.238087177276611,
          5.279892444610596,
          2.9713950157165527,
          2.6546037197113037,
          8.961318016052246,
          10.031042098999023,
          6.812309265136719,
          6.841084957122803,
          20.72275161743164,
          11.685461044311523,
          4.914435386657715,
          22.47813606262207,
          7.352083206176758,
          5.271245956420898,
          7.238268852233887,
          19.710214614868164,
          20.70755958557129,
          20.582042694091797,
          7.699961185455322,
          12.88825798034668,
          8.266401290893555,
          17.980661392211914,
          -0.4244960844516754,
          12.188888549804688,
          18.182750701904297,
          22.8806209564209,
          17.73320770263672,
          9.790099143981934,
          19.020015716552734,
          17.993017196655273
         ],
         "xaxis": "x",
         "y": [
          19.556730270385742,
          -1.6795142889022827,
          -0.6136546730995178,
          0.11533653736114502,
          5.466028213500977,
          5.1020097732543945,
          -1.2863041162490845,
          -1.6669937372207642,
          -10.037470817565918,
          -9.8958158493042,
          0.44410863518714905,
          19.459060668945312,
          -1.0346273183822632,
          9.495586395263672,
          -9.268223762512207,
          0.43893784284591675,
          -0.5510364770889282,
          -0.12424968928098679,
          0.3783472180366516,
          0.34569051861763,
          -0.3775489926338196,
          10.814303398132324,
          -0.06338134407997131,
          7.291686058044434,
          -5.251025199890137,
          -0.07922782003879547,
          6.941184043884277,
          9.025033950805664,
          7.332108020782471,
          6.4719462394714355,
          6.671530723571777,
          6.773972988128662
         ],
         "yaxis": "y"
        },
        {
         "hovertemplate": "scaffold=9<br>tsne-x=%{x}<br>tsne-y=%{y}<extra></extra>",
         "legendgroup": "9",
         "marker": {
          "color": "#FECB52",
          "symbol": "circle"
         },
         "mode": "markers",
         "name": "9",
         "showlegend": true,
         "type": "scattergl",
         "x": [
          -8.163389205932617,
          -8.345349311828613,
          -28.180660247802734,
          -27.44077491760254,
          -9.22675609588623,
          -9.199995040893555,
          -8.413637161254883,
          -6.860166549682617,
          -27.469533920288086,
          -16.127811431884766,
          -10.749277114868164,
          -8.210199356079102,
          -27.57025146484375,
          -8.063518524169922,
          -7.463003158569336,
          -27.238563537597656,
          -26.406681060791016,
          34.13151550292969,
          -10.602553367614746,
          -7.709089756011963,
          -10.71302318572998,
          -27.729650497436523,
          -7.382678031921387,
          -28.129751205444336,
          33.85316848754883,
          -29.315296173095703,
          -7.462067127227783,
          -8.638053894042969,
          -19.12953758239746,
          -26.26510238647461
         ],
         "xaxis": "x",
         "y": [
          -5.987212181091309,
          -5.289090633392334,
          27.72719383239746,
          26.77596664428711,
          -6.758787155151367,
          -5.399984836578369,
          -6.221357345581055,
          -6.808877944946289,
          27.11978530883789,
          -14.264237403869629,
          -5.217828273773193,
          -6.973151206970215,
          26.740055084228516,
          -4.624626159667969,
          -6.621819019317627,
          27.553083419799805,
          27.25181007385254,
          -17.734638214111328,
          -6.241557598114014,
          -1.0415165424346924,
          -5.137612819671631,
          27.282085418701172,
          -4.235812664031982,
          26.350526809692383,
          -17.73748016357422,
          26.506771087646484,
          -1.8368899822235107,
          -3.166978597640991,
          2.2540087699890137,
          9.261799812316895
         ],
         "yaxis": "y"
        },
        {
         "hovertemplate": "scaffold=10<br>tsne-x=%{x}<br>tsne-y=%{y}<extra></extra>",
         "legendgroup": "10",
         "marker": {
          "color": "#636efa",
          "symbol": "circle"
         },
         "mode": "markers",
         "name": "10",
         "showlegend": true,
         "type": "scattergl",
         "x": [
          -45.84573745727539,
          -44.336421966552734,
          -40.573646545410156,
          -40.55894470214844,
          -43.55171203613281,
          -45.573795318603516,
          -46.06013107299805,
          -44.62363052368164,
          -46.616939544677734,
          -45.62325668334961,
          -43.73134231567383,
          -45.18021774291992,
          -44.152645111083984,
          -45.890079498291016,
          -45.75444793701172,
          -43.347869873046875,
          -43.85490417480469,
          -43.94425582885742,
          -44.70393371582031,
          -46.549720764160156,
          -45.51944351196289,
          -46.29640579223633,
          -43.99168395996094,
          -43.792877197265625,
          -45.3194465637207,
          -44.05335235595703,
          -43.51261901855469,
          -42.736576080322266,
          -44.944766998291016
         ],
         "xaxis": "x",
         "y": [
          3.770017385482788,
          6.004106044769287,
          8.28492546081543,
          8.301247596740723,
          6.417964458465576,
          6.839444637298584,
          7.486965179443359,
          6.348569869995117,
          6.609775543212891,
          4.0700764656066895,
          6.760897159576416,
          7.244125843048096,
          6.4682159423828125,
          4.111696720123291,
          7.122553825378418,
          5.55849027633667,
          5.08080530166626,
          4.53661584854126,
          5.153300762176514,
          4.512628555297852,
          5.590341567993164,
          6.019965171813965,
          8.610942840576172,
          8.597963333129883,
          7.388539791107178,
          6.8530168533325195,
          7.762016773223877,
          7.173017978668213,
          8.24438762664795
         ],
         "yaxis": "y"
        },
        {
         "hovertemplate": "scaffold=11<br>tsne-x=%{x}<br>tsne-y=%{y}<extra></extra>",
         "legendgroup": "11",
         "marker": {
          "color": "#EF553B",
          "symbol": "circle"
         },
         "mode": "markers",
         "name": "11",
         "showlegend": true,
         "type": "scattergl",
         "x": [
          3.2199292182922363,
          3.9421370029449463,
          4.380400657653809,
          4.149503231048584,
          4.027839660644531,
          4.254843235015869,
          4.63243293762207,
          4.39424991607666,
          3.544811487197876,
          4.625685214996338,
          5.473967552185059,
          3.7264723777770996,
          4.796754837036133,
          5.632298469543457,
          5.021161079406738,
          5.225026607513428,
          5.575512409210205,
          5.008112907409668,
          5.784552574157715,
          4.993101119995117,
          6.544792175292969,
          4.715576648712158,
          3.369720458984375,
          5.743722438812256,
          6.057137489318848,
          5.086534023284912,
          5.4187116622924805,
          5.950748920440674
         ],
         "xaxis": "x",
         "y": [
          25.604755401611328,
          24.878732681274414,
          25.6192569732666,
          26.23637580871582,
          25.76343536376953,
          26.770673751831055,
          27.990047454833984,
          28.237085342407227,
          26.323978424072266,
          24.470409393310547,
          24.39919662475586,
          25.178213119506836,
          25.295412063598633,
          25.54746437072754,
          28.58404541015625,
          27.824729919433594,
          26.007844924926758,
          25.85297393798828,
          25.05660629272461,
          26.37147331237793,
          25.739290237426758,
          26.70692253112793,
          27.240890502929688,
          28.205535888671875,
          26.41815948486328,
          24.895893096923828,
          26.619705200195312,
          27.773027420043945
         ],
         "yaxis": "y"
        },
        {
         "hovertemplate": "scaffold=12<br>tsne-x=%{x}<br>tsne-y=%{y}<extra></extra>",
         "legendgroup": "12",
         "marker": {
          "color": "#00cc96",
          "symbol": "circle"
         },
         "mode": "markers",
         "name": "12",
         "showlegend": true,
         "type": "scattergl",
         "x": [
          13.080253601074219,
          4.69486141204834,
          4.224043846130371,
          8.57262897491455,
          4.666327953338623,
          15.75011157989502,
          -3.146451950073242,
          6.8451738357543945,
          18.601760864257812,
          3.108937978744507,
          3.5216827392578125,
          0.5366827249526978,
          2.3780617713928223,
          3.1392836570739746,
          3.290649652481079,
          -4.334753036499023,
          2.7949061393737793,
          4.134120464324951,
          1.62125825881958,
          3.3000426292419434,
          -27.62441635131836,
          -27.561664581298828,
          11.634779930114746,
          -1.909011960029602,
          2.8974437713623047,
          5.633239269256592,
          12.221247673034668
         ],
         "xaxis": "x",
         "y": [
          -20.187198638916016,
          -18.942138671875,
          -18.514366149902344,
          -18.638328552246094,
          -17.193716049194336,
          -18.829832077026367,
          -13.689294815063477,
          -20.697465896606445,
          -17.780059814453125,
          -17.463436126708984,
          -15.785575866699219,
          19.130765914916992,
          -17.914880752563477,
          -15.021984100341797,
          -17.10626983642578,
          -13.139025688171387,
          -15.765729904174805,
          -14.332889556884766,
          -17.44566535949707,
          -14.369635581970215,
          -13.675325393676758,
          -13.705708503723145,
          15.993742942810059,
          -16.533952713012695,
          -15.586664199829102,
          -15.061802864074707,
          -19.57688331604004
         ],
         "yaxis": "y"
        },
        {
         "hovertemplate": "scaffold=13<br>tsne-x=%{x}<br>tsne-y=%{y}<extra></extra>",
         "legendgroup": "13",
         "marker": {
          "color": "#ab63fa",
          "symbol": "circle"
         },
         "mode": "markers",
         "name": "13",
         "showlegend": true,
         "type": "scattergl",
         "x": [
          27.42798614501953,
          40.810611724853516,
          -20.785255432128906,
          -21.432722091674805,
          24.385520935058594,
          -21.719362258911133,
          -20.77116584777832,
          -20.069116592407227,
          -19.56351661682129,
          -20.974943161010742,
          -20.55893325805664,
          -23.571977615356445,
          -20.755992889404297,
          -23.894023895263672,
          -22.09159278869629,
          -21.80615234375,
          -22.416810989379883,
          -21.79874038696289,
          41.00862121582031,
          41.007686614990234,
          21.99311637878418,
          -20.595659255981445,
          -20.772485733032227,
          27.3514404296875,
          22.141395568847656,
          -20.973297119140625
         ],
         "xaxis": "x",
         "y": [
          -11.778392791748047,
          -16.38321304321289,
          11.09748649597168,
          15.110868453979492,
          -7.379547119140625,
          12.077963829040527,
          14.279794692993164,
          15.004911422729492,
          12.473786354064941,
          14.74588394165039,
          15.651956558227539,
          5.373842716217041,
          14.183367729187012,
          6.393584728240967,
          11.057665824890137,
          15.979355812072754,
          14.905447959899902,
          15.044742584228516,
          -16.41541862487793,
          -16.271041870117188,
          2.6416385173797607,
          9.833121299743652,
          11.018433570861816,
          -11.890196800231934,
          3.311835527420044,
          11.010321617126465
         ],
         "yaxis": "y"
        },
        {
         "hovertemplate": "scaffold=14<br>tsne-x=%{x}<br>tsne-y=%{y}<extra></extra>",
         "legendgroup": "14",
         "marker": {
          "color": "#FFA15A",
          "symbol": "circle"
         },
         "mode": "markers",
         "name": "14",
         "showlegend": true,
         "type": "scattergl",
         "x": [
          -16.61128807067871,
          38.763519287109375,
          41.380409240722656,
          -16.526718139648438,
          -7.415070533752441,
          -13.658736228942871,
          33.21379852294922,
          33.35145950317383,
          -9.489059448242188,
          -14.534815788269043,
          34.74819564819336,
          34.79678726196289,
          33.60502243041992,
          20.13234519958496,
          -10.210602760314941,
          -14.346278190612793,
          34.14910125732422,
          35.300025939941406,
          34.471527099609375,
          34.71817398071289,
          -9.793481826782227,
          -13.2999267578125,
          -15.081890106201172,
          -13.062800407409668,
          -25.832046508789062
         ],
         "xaxis": "x",
         "y": [
          22.865262985229492,
          18.450963973999023,
          17.277603149414062,
          22.941038131713867,
          7.178339004516602,
          23.288494110107422,
          20.531747817993164,
          21.24640464782715,
          11.632875442504883,
          23.203685760498047,
          16.98483657836914,
          20.534025192260742,
          -15.466978073120117,
          -32.16093063354492,
          23.974777221679688,
          24.990324020385742,
          20.72520637512207,
          17.50373077392578,
          17.487810134887695,
          16.437849044799805,
          18.68418312072754,
          23.52079200744629,
          23.604745864868164,
          15.08505916595459,
          25.01020622253418
         ],
         "yaxis": "y"
        },
        {
         "hovertemplate": "scaffold=15<br>tsne-x=%{x}<br>tsne-y=%{y}<extra></extra>",
         "legendgroup": "15",
         "marker": {
          "color": "#19d3f3",
          "symbol": "circle"
         },
         "mode": "markers",
         "name": "15",
         "showlegend": true,
         "type": "scattergl",
         "x": [
          6.063912868499756,
          3.0245842933654785,
          5.432969570159912,
          3.673346757888794,
          3.7732081413269043,
          6.465847492218018,
          4.206964015960693,
          5.750451564788818,
          6.494852066040039,
          7.723460674285889,
          8.146401405334473,
          5.819437503814697,
          1.5156928300857544,
          7.690749168395996,
          3.4141757488250732,
          5.947569847106934,
          4.91486930847168,
          5.144875526428223,
          3.608795642852783,
          7.031498908996582,
          7.0146164894104,
          4.728973865509033,
          4.531980991363525,
          6.096423625946045
         ],
         "xaxis": "x",
         "y": [
          -6.695486545562744,
          -6.646650791168213,
          -6.200973987579346,
          -5.085060119628906,
          -6.252111434936523,
          -6.777523040771484,
          -5.543054103851318,
          -4.127497673034668,
          -6.135557651519775,
          -3.7273857593536377,
          -3.835512399673462,
          -3.9699535369873047,
          -5.669636249542236,
          -5.936202526092529,
          -4.893552780151367,
          -5.849960803985596,
          -5.454889297485352,
          -5.021833419799805,
          -5.359175205230713,
          -5.714357852935791,
          -5.5925116539001465,
          -4.587287902832031,
          -4.681663990020752,
          -5.3358869552612305
         ],
         "yaxis": "y"
        },
        {
         "hovertemplate": "scaffold=16<br>tsne-x=%{x}<br>tsne-y=%{y}<extra></extra>",
         "legendgroup": "16",
         "marker": {
          "color": "#FF6692",
          "symbol": "circle"
         },
         "mode": "markers",
         "name": "16",
         "showlegend": true,
         "type": "scattergl",
         "x": [
          -10.794832229614258,
          8.76159381866455,
          -1.7715845108032227,
          -12.693721771240234,
          20.190624237060547,
          -3.652848243713379,
          -11.861461639404297,
          -12.640572547912598,
          13.682808876037598,
          -9.146082878112793,
          -1.3288763761520386,
          33.951873779296875,
          16.86643409729004,
          -10.595477104187012,
          -1.3757801055908203,
          -15.115812301635742,
          -28.005510330200195,
          -2.3300957679748535,
          21.694522857666016,
          21.973886489868164,
          -10.763869285583496,
          -8.379303932189941,
          -1.0418769121170044
         ],
         "xaxis": "x",
         "y": [
          -13.025829315185547,
          -13.560846328735352,
          0.2650688588619232,
          -10.799511909484863,
          -15.318283081054688,
          -4.023960113525391,
          -11.684944152832031,
          -10.745513916015625,
          -14.797600746154785,
          -0.8063367009162903,
          1.3932087421417236,
          -16.85352897644043,
          -15.444708824157715,
          -11.82441234588623,
          1.2036035060882568,
          -1.2930564880371094,
          25.839202880859375,
          0.5840547680854797,
          10.12159252166748,
          8.880691528320312,
          -12.967247009277344,
          -0.41837161779403687,
          1.6791234016418457
         ],
         "yaxis": "y"
        },
        {
         "hovertemplate": "scaffold=17<br>tsne-x=%{x}<br>tsne-y=%{y}<extra></extra>",
         "legendgroup": "17",
         "marker": {
          "color": "#B6E880",
          "symbol": "circle"
         },
         "mode": "markers",
         "name": "17",
         "showlegend": true,
         "type": "scattergl",
         "x": [
          -5.946764945983887,
          2.4902782440185547,
          20.331918716430664,
          -9.409463882446289,
          12.08296012878418,
          -3.7862296104431152,
          -5.6356377601623535,
          -17.964481353759766,
          -1.5103495121002197,
          -17.959110260009766,
          20.20754051208496,
          -1.3335833549499512,
          -20.908000946044922,
          -8.497993469238281,
          -38.363037109375,
          -8.578691482543945,
          -8.487076759338379,
          -27.733816146850586,
          -27.640932083129883,
          -36.14881896972656,
          -38.32491683959961,
          16.183256149291992
         ],
         "xaxis": "x",
         "y": [
          -21.71018409729004,
          -20.406673431396484,
          -19.392404556274414,
          -17.8714542388916,
          17.957983016967773,
          -19.850393295288086,
          -13.519740104675293,
          -13.468160629272461,
          -17.88661766052246,
          -13.375343322753906,
          -19.462732315063477,
          -18.2651309967041,
          -12.34630298614502,
          -17.695085525512695,
          1.8542555570602417,
          -17.670665740966797,
          -17.707447052001953,
          17.459487915039062,
          17.53223419189453,
          1.0580555200576782,
          1.767808437347412,
          -25.027198791503906
         ],
         "yaxis": "y"
        },
        {
         "hovertemplate": "scaffold=18<br>tsne-x=%{x}<br>tsne-y=%{y}<extra></extra>",
         "legendgroup": "18",
         "marker": {
          "color": "#FF97FF",
          "symbol": "circle"
         },
         "mode": "markers",
         "name": "18",
         "showlegend": true,
         "type": "scattergl",
         "x": [
          -1.1998519897460938,
          1.2405682802200317,
          -1.238600254058838,
          0.8586868047714233,
          3.2838449478149414,
          6.169758319854736,
          6.1915154457092285,
          1.3436557054519653,
          1.569458246231079,
          5.5586981773376465,
          5.690154552459717,
          2.4837934970855713,
          1.1516554355621338,
          5.732305526733398,
          24.181110382080078,
          1.1305149793624878,
          7.2564697265625,
          -16.394817352294922,
          -0.6145086288452148,
          23.165973663330078,
          24.21188735961914
         ],
         "xaxis": "x",
         "y": [
          -22.38189125061035,
          -29.82595443725586,
          -22.41787338256836,
          -24.567636489868164,
          11.548982620239258,
          -23.699153900146484,
          -23.657638549804688,
          -33.47670364379883,
          -32.607177734375,
          -26.140960693359375,
          -26.299575805664062,
          -20.50167465209961,
          -31.339780807495117,
          -26.23938751220703,
          -21.36017608642578,
          -31.89169692993164,
          -22.837934494018555,
          0.15951403975486755,
          -31.205547332763672,
          -20.91670799255371,
          -21.3026123046875
         ],
         "yaxis": "y"
        },
        {
         "hovertemplate": "scaffold=19<br>tsne-x=%{x}<br>tsne-y=%{y}<extra></extra>",
         "legendgroup": "19",
         "marker": {
          "color": "#FECB52",
          "symbol": "circle"
         },
         "mode": "markers",
         "name": "19",
         "showlegend": true,
         "type": "scattergl",
         "x": [
          -7.795608997344971,
          26.725778579711914,
          -8.586396217346191,
          26.606637954711914,
          9.907761573791504,
          17.436107635498047,
          -9.358695030212402,
          17.43483543395996,
          -8.82048511505127,
          25.725887298583984,
          9.923906326293945,
          9.938159942626953,
          13.565840721130371,
          26.049293518066406,
          -7.953184604644775,
          25.898509979248047,
          -8.474346160888672,
          -32.88789367675781,
          -32.65337371826172,
          -32.901145935058594
         ],
         "xaxis": "x",
         "y": [
          -25.073204040527344,
          -4.429165363311768,
          -24.958534240722656,
          -4.272948741912842,
          -9.652156829833984,
          -12.585607528686523,
          -25.13024139404297,
          -12.57192611694336,
          -25.159568786621094,
          -4.334434509277344,
          -9.625811576843262,
          -9.677197456359863,
          -17.99165916442871,
          -3.3601303100585938,
          0.9126420617103577,
          -3.3505373001098633,
          -24.192134857177734,
          -0.4858318567276001,
          -0.5579054355621338,
          -0.48135241866111755
         ],
         "yaxis": "y"
        },
        {
         "hovertemplate": "scaffold=20<br>tsne-x=%{x}<br>tsne-y=%{y}<extra></extra>",
         "legendgroup": "20",
         "marker": {
          "color": "#636efa",
          "symbol": "circle"
         },
         "mode": "markers",
         "name": "20",
         "showlegend": true,
         "type": "scattergl",
         "x": [
          23.781307220458984,
          24.187843322753906,
          23.47803497314453,
          24.4046688079834,
          23.620868682861328,
          23.14127540588379,
          22.67740821838379,
          23.964019775390625,
          23.118602752685547,
          23.34314727783203,
          23.272403717041016,
          23.540075302124023,
          24.888551712036133,
          24.44142723083496,
          24.22665023803711,
          22.26981544494629,
          22.605945587158203,
          22.79891014099121,
          22.667123794555664
         ],
         "xaxis": "x",
         "y": [
          40.87424087524414,
          39.90556716918945,
          38.86306381225586,
          40.322265625,
          39.37761306762695,
          39.8389892578125,
          40.35635757446289,
          39.27507781982422,
          38.40586853027344,
          37.75520706176758,
          40.535396575927734,
          40.03626251220703,
          39.039085388183594,
          38.939762115478516,
          38.31249237060547,
          39.316680908203125,
          39.69968795776367,
          39.230281829833984,
          38.79286193847656
         ],
         "yaxis": "y"
        },
        {
         "hovertemplate": "scaffold=21<br>tsne-x=%{x}<br>tsne-y=%{y}<extra></extra>",
         "legendgroup": "21",
         "marker": {
          "color": "#EF553B",
          "symbol": "circle"
         },
         "mode": "markers",
         "name": "21",
         "showlegend": true,
         "type": "scattergl",
         "x": [
          9.461751937866211,
          10.819022178649902,
          22.552412033081055,
          22.68194580078125,
          22.20604133605957,
          22.158246994018555,
          23.753582000732422,
          22.62116050720215,
          20.365182876586914,
          20.476436614990234,
          22.676483154296875,
          22.678203582763672,
          20.114665985107422,
          20.264217376708984,
          -4.628188133239746,
          -4.632402420043945,
          20.371944427490234,
          23.617280960083008,
          19.26710319519043
         ],
         "xaxis": "x",
         "y": [
          35.35317611694336,
          -6.263376235961914,
          16.55274200439453,
          16.647724151611328,
          16.687692642211914,
          14.770136833190918,
          14.676706314086914,
          16.687850952148438,
          15.339457511901855,
          15.2927885055542,
          17.12737464904785,
          14.949386596679688,
          14.877902030944824,
          14.989842414855957,
          -35.66563415527344,
          -35.699493408203125,
          15.49958610534668,
          14.6434907913208,
          -4.946256160736084
         ],
         "yaxis": "y"
        },
        {
         "hovertemplate": "scaffold=22<br>tsne-x=%{x}<br>tsne-y=%{y}<extra></extra>",
         "legendgroup": "22",
         "marker": {
          "color": "#00cc96",
          "symbol": "circle"
         },
         "mode": "markers",
         "name": "22",
         "showlegend": true,
         "type": "scattergl",
         "x": [
          -27.901458740234375,
          -27.90966796875,
          9.623428344726562,
          -1.1568503379821777,
          10.147568702697754,
          41.31881332397461,
          8.746862411499023,
          8.877978324890137,
          -16.872346878051758,
          9.986283302307129,
          -16.89447593688965,
          40.97989273071289,
          25.930721282958984,
          3.4675421714782715,
          6.387930870056152,
          6.36079216003418,
          -2.6944429874420166,
          9.590330123901367
         ],
         "xaxis": "x",
         "y": [
          7.227398872375488,
          7.227126121520996,
          31.340789794921875,
          18.746492385864258,
          18.575693130493164,
          -13.124533653259277,
          27.670400619506836,
          28.10422134399414,
          -33.88469314575195,
          34.42814636230469,
          -33.863685607910156,
          -14.09438705444336,
          9.78821849822998,
          18.318408966064453,
          18.167707443237305,
          18.183271408081055,
          20.486597061157227,
          31.301870346069336
         ],
         "yaxis": "y"
        },
        {
         "hovertemplate": "scaffold=23<br>tsne-x=%{x}<br>tsne-y=%{y}<extra></extra>",
         "legendgroup": "23",
         "marker": {
          "color": "#ab63fa",
          "symbol": "circle"
         },
         "mode": "markers",
         "name": "23",
         "showlegend": true,
         "type": "scattergl",
         "x": [
          -12.714035987854004,
          -12.664539337158203,
          -11.753283500671387,
          -12.348326683044434,
          -13.158812522888184,
          -12.54300594329834,
          -10.880590438842773,
          -12.080731391906738,
          -12.51891040802002,
          -12.103364944458008,
          -13.269781112670898,
          -12.008768081665039,
          -12.470730781555176,
          -11.408677101135254,
          -10.915308952331543,
          -13.362711906433105,
          -13.105260848999023
         ],
         "xaxis": "x",
         "y": [
          39.63199234008789,
          39.495609283447266,
          38.6612434387207,
          37.398033142089844,
          36.954322814941406,
          37.587745666503906,
          36.816810607910156,
          37.45408248901367,
          39.22446060180664,
          36.028526306152344,
          36.17012405395508,
          38.89973068237305,
          36.644989013671875,
          36.600826263427734,
          36.833595275878906,
          36.60048294067383,
          37.41402816772461
         ],
         "yaxis": "y"
        },
        {
         "hovertemplate": "scaffold=24<br>tsne-x=%{x}<br>tsne-y=%{y}<extra></extra>",
         "legendgroup": "24",
         "marker": {
          "color": "#FFA15A",
          "symbol": "circle"
         },
         "mode": "markers",
         "name": "24",
         "showlegend": true,
         "type": "scattergl",
         "x": [
          -4.790351390838623,
          -6.268082141876221,
          -6.27618408203125,
          -6.066521167755127,
          -5.4569091796875,
          -4.438897132873535,
          -4.755782604217529,
          -6.320247650146484,
          -0.09149537980556488,
          -7.03756046295166,
          -5.036129951477051,
          -0.06633919477462769,
          -4.726552963256836,
          -4.211821556091309,
          -0.21863630414009094,
          -0.21387584507465363,
          -5.048746109008789
         ],
         "xaxis": "x",
         "y": [
          2.6542043685913086,
          2.2805209159851074,
          2.185375928878784,
          1.402775764465332,
          1.2029495239257812,
          7.530043601989746,
          4.945735931396484,
          0.3635488450527191,
          10.157013893127441,
          -3.1057770252227783,
          6.069369792938232,
          9.99583625793457,
          7.167535781860352,
          4.720038890838623,
          10.254850387573242,
          10.373940467834473,
          6.581175804138184
         ],
         "yaxis": "y"
        },
        {
         "hovertemplate": "scaffold=25<br>tsne-x=%{x}<br>tsne-y=%{y}<extra></extra>",
         "legendgroup": "25",
         "marker": {
          "color": "#19d3f3",
          "symbol": "circle"
         },
         "mode": "markers",
         "name": "25",
         "showlegend": true,
         "type": "scattergl",
         "x": [
          32.43416213989258,
          31.48183822631836,
          31.662038803100586,
          31.402633666992188,
          33.07406997680664,
          32.89337921142578,
          -5.131232738494873,
          31.975072860717773,
          31.914182662963867,
          31.72422218322754,
          32.7467041015625,
          32.2063102722168,
          30.744401931762695,
          31.82908821105957,
          -4.43461799621582,
          -5.249337673187256,
          32.289188385009766
         ],
         "xaxis": "x",
         "y": [
          18.08924674987793,
          17.378692626953125,
          17.286460876464844,
          16.51749038696289,
          15.683250427246094,
          17.37010955810547,
          31.45693588256836,
          16.16993522644043,
          15.46640396118164,
          18.067705154418945,
          18.61195182800293,
          17.437477111816406,
          18.249679565429688,
          15.22700023651123,
          31.56376838684082,
          31.432476043701172,
          16.386220932006836
         ],
         "yaxis": "y"
        },
        {
         "hovertemplate": "scaffold=26<br>tsne-x=%{x}<br>tsne-y=%{y}<extra></extra>",
         "legendgroup": "26",
         "marker": {
          "color": "#FF6692",
          "symbol": "circle"
         },
         "mode": "markers",
         "name": "26",
         "showlegend": true,
         "type": "scattergl",
         "x": [
          19.810041427612305,
          -4.562765598297119,
          18.9370059967041,
          17.517288208007812,
          5.435426712036133,
          5.250467300415039,
          20.4471378326416,
          -1.8961083889007568,
          -3.5724196434020996,
          -31.85668182373047,
          -31.842254638671875,
          -1.0849581956863403,
          26.3093318939209,
          25.977893829345703,
          19.159082412719727,
          24.187591552734375,
          -33.440250396728516
         ],
         "xaxis": "x",
         "y": [
          11.015022277832031,
          17.313411712646484,
          11.56961441040039,
          11.536134719848633,
          5.7340922355651855,
          5.725275993347168,
          10.824226379394531,
          -6.422229290008545,
          0.5464160442352295,
          -23.99959373474121,
          -24.009363174438477,
          15.469496726989746,
          0.7960836291313171,
          1.090733289718628,
          27.663848876953125,
          -11.646010398864746,
          -23.51687240600586
         ],
         "yaxis": "y"
        },
        {
         "hovertemplate": "scaffold=27<br>tsne-x=%{x}<br>tsne-y=%{y}<extra></extra>",
         "legendgroup": "27",
         "marker": {
          "color": "#B6E880",
          "symbol": "circle"
         },
         "mode": "markers",
         "name": "27",
         "showlegend": true,
         "type": "scattergl",
         "x": [
          -50.242671966552734,
          -49.83930587768555,
          -50.20697021484375,
          -50.35066604614258,
          -48.7462043762207,
          -48.6507453918457,
          -49.72804641723633,
          -50.31061935424805,
          -49.20042037963867,
          -48.76356506347656,
          -48.76618576049805,
          -48.21353530883789,
          -47.92732620239258,
          -47.922462463378906,
          -47.82634735107422,
          -48.27760314941406
         ],
         "xaxis": "x",
         "y": [
          -3.6183574199676514,
          -3.4457242488861084,
          -3.874937057495117,
          -3.7274832725524902,
          -3.630249261856079,
          -3.820146322250366,
          -4.477222919464111,
          -5.166627407073975,
          -5.655313968658447,
          -4.789414405822754,
          -4.72694730758667,
          -4.6717424392700195,
          -4.361257076263428,
          -4.379177093505859,
          -4.991236686706543,
          -5.340490818023682
         ],
         "yaxis": "y"
        },
        {
         "hovertemplate": "scaffold=28<br>tsne-x=%{x}<br>tsne-y=%{y}<extra></extra>",
         "legendgroup": "28",
         "marker": {
          "color": "#FF97FF",
          "symbol": "circle"
         },
         "mode": "markers",
         "name": "28",
         "showlegend": true,
         "type": "scattergl",
         "x": [
          1.729408860206604,
          1.7276464700698853,
          8.003700256347656,
          4.589859485626221,
          8.831357955932617,
          -13.69279956817627,
          8.391890525817871,
          9.792387008666992,
          0.43158793449401855,
          1.722059965133667,
          8.472277641296387,
          -0.5163267254829407,
          10.61772632598877,
          0.0064722406677901745,
          -6.169607639312744,
          -2.7669968605041504
         ],
         "xaxis": "x",
         "y": [
          -7.878252983093262,
          -7.918701171875,
          -11.99950122833252,
          -8.135488510131836,
          -4.156449317932129,
          -36.38007354736328,
          -10.89594841003418,
          -4.07510232925415,
          -8.213726997375488,
          -7.397139072418213,
          -11.713644981384277,
          -7.869305610656738,
          -4.28834867477417,
          -7.658041000366211,
          7.7239155769348145,
          3.611646890640259
         ],
         "yaxis": "y"
        },
        {
         "hovertemplate": "scaffold=29<br>tsne-x=%{x}<br>tsne-y=%{y}<extra></extra>",
         "legendgroup": "29",
         "marker": {
          "color": "#FECB52",
          "symbol": "circle"
         },
         "mode": "markers",
         "name": "29",
         "showlegend": true,
         "type": "scattergl",
         "x": [
          9.31949234008789,
          39.533470153808594,
          39.227481842041016,
          3.7936387062072754,
          8.199921607971191,
          38.8194694519043,
          15.021894454956055,
          30.15512466430664,
          10.310111999511719,
          16.56186866760254,
          10.120611190795898,
          -3.4659223556518555,
          9.99303150177002,
          10.013519287109375,
          38.78773498535156,
          29.552326202392578
         ],
         "xaxis": "x",
         "y": [
          12.100303649902344,
          0.7197801470756531,
          0.791329026222229,
          32.43158721923828,
          12.99786376953125,
          0.26079410314559937,
          20.252323150634766,
          11.75821590423584,
          12.598076820373535,
          22.671546936035156,
          11.560264587402344,
          31.273326873779297,
          11.790057182312012,
          11.789953231811523,
          0.019742295145988464,
          16.925554275512695
         ],
         "yaxis": "y"
        },
        {
         "hovertemplate": "scaffold=30<br>tsne-x=%{x}<br>tsne-y=%{y}<extra></extra>",
         "legendgroup": "30",
         "marker": {
          "color": "#636efa",
          "symbol": "circle"
         },
         "mode": "markers",
         "name": "30",
         "showlegend": true,
         "type": "scattergl",
         "x": [
          48.1159782409668,
          48.39875030517578,
          48.565425872802734,
          48.06878662109375,
          47.62482833862305,
          47.90528869628906,
          48.41210174560547,
          47.48798751831055,
          47.51670837402344,
          47.790672302246094,
          47.45990753173828,
          46.62179946899414,
          47.13652420043945,
          46.47990798950195,
          46.47197723388672
         ],
         "xaxis": "x",
         "y": [
          16.76258087158203,
          16.150564193725586,
          16.627727508544922,
          17.740489959716797,
          16.330556869506836,
          15.757400512695312,
          17.127117156982422,
          15.90123462677002,
          16.57398796081543,
          17.771072387695312,
          17.286792755126953,
          16.491384506225586,
          17.762039184570312,
          17.115842819213867,
          16.762508392333984
         ],
         "yaxis": "y"
        },
        {
         "hovertemplate": "scaffold=31<br>tsne-x=%{x}<br>tsne-y=%{y}<extra></extra>",
         "legendgroup": "31",
         "marker": {
          "color": "#EF553B",
          "symbol": "circle"
         },
         "mode": "markers",
         "name": "31",
         "showlegend": true,
         "type": "scattergl",
         "x": [
          41.33382797241211,
          41.9466667175293,
          41.91303253173828,
          43.37351989746094,
          41.834754943847656,
          41.63130187988281,
          41.5883674621582,
          41.75021743774414,
          42.52293395996094,
          40.70979690551758,
          41.04133987426758,
          42.372684478759766,
          42.69841003417969,
          40.818023681640625,
          41.034332275390625
         ],
         "xaxis": "x",
         "y": [
          20.91144561767578,
          19.898395538330078,
          18.413022994995117,
          19.776718139648438,
          19.113935470581055,
          20.725706100463867,
          18.73859214782715,
          19.21743392944336,
          20.159069061279297,
          19.73105239868164,
          18.91607093811035,
          19.11298370361328,
          18.864702224731445,
          19.33448600769043,
          19.79743766784668
         ],
         "yaxis": "y"
        },
        {
         "hovertemplate": "scaffold=32<br>tsne-x=%{x}<br>tsne-y=%{y}<extra></extra>",
         "legendgroup": "32",
         "marker": {
          "color": "#00cc96",
          "symbol": "circle"
         },
         "mode": "markers",
         "name": "32",
         "showlegend": true,
         "type": "scattergl",
         "x": [
          -26.441028594970703,
          -25.198055267333984,
          -29.205392837524414,
          -1.4870468378067017,
          -27.319255828857422,
          -17.857757568359375,
          -23.668088912963867,
          -22.15099334716797,
          0.14927861094474792,
          -0.27555304765701294,
          0.17425356805324554,
          -0.4568166136741638,
          -0.42630884051322937,
          0.15411879122257233,
          -0.05514828488230705
         ],
         "xaxis": "x",
         "y": [
          -5.871824264526367,
          5.42267370223999,
          -2.6729736328125,
          36.63750076293945,
          23.134323120117188,
          2.412264823913574,
          -10.346902847290039,
          -8.75154972076416,
          35.95695114135742,
          36.44935989379883,
          36.09138870239258,
          36.40788650512695,
          36.42240524291992,
          38.65388870239258,
          38.737186431884766
         ],
         "yaxis": "y"
        },
        {
         "hovertemplate": "scaffold=33<br>tsne-x=%{x}<br>tsne-y=%{y}<extra></extra>",
         "legendgroup": "33",
         "marker": {
          "color": "#ab63fa",
          "symbol": "circle"
         },
         "mode": "markers",
         "name": "33",
         "showlegend": true,
         "type": "scattergl",
         "x": [
          -39.89663314819336,
          -38.72352981567383,
          -39.23601531982422,
          -38.508399963378906,
          -38.249088287353516,
          -38.55534744262695,
          -39.70998764038086,
          -39.34688949584961,
          -38.980716705322266,
          -38.35236358642578,
          -39.47418212890625,
          -40.50725555419922,
          -39.29364013671875,
          -39.11708450317383
         ],
         "xaxis": "x",
         "y": [
          -12.545303344726562,
          -12.00102710723877,
          -12.02833366394043,
          -13.461835861206055,
          -12.530649185180664,
          -12.373534202575684,
          -12.101921081542969,
          -12.55032730102539,
          -12.970582962036133,
          -13.056633949279785,
          -13.203425407409668,
          -11.340367317199707,
          -11.395061492919922,
          -13.582289695739746
         ],
         "yaxis": "y"
        },
        {
         "hovertemplate": "scaffold=34<br>tsne-x=%{x}<br>tsne-y=%{y}<extra></extra>",
         "legendgroup": "34",
         "marker": {
          "color": "#FFA15A",
          "symbol": "circle"
         },
         "mode": "markers",
         "name": "34",
         "showlegend": true,
         "type": "scattergl",
         "x": [
          16.427291870117188,
          15.6937894821167,
          16.1893310546875,
          15.764296531677246,
          15.807469367980957,
          16.647369384765625,
          16.4399356842041,
          15.038566589355469,
          14.902726173400879,
          15.265034675598145,
          15.01030445098877,
          15.7543306350708,
          15.362017631530762,
          15.730273246765137
         ],
         "xaxis": "x",
         "y": [
          -38.75322341918945,
          -39.784061431884766,
          -39.32143783569336,
          -38.453922271728516,
          -38.907371520996094,
          -38.15128707885742,
          -38.20630645751953,
          -38.15119552612305,
          -39.23271942138672,
          -38.7673225402832,
          -38.69851303100586,
          -37.3964958190918,
          -37.30318832397461,
          -37.2379035949707
         ],
         "yaxis": "y"
        },
        {
         "hovertemplate": "scaffold=35<br>tsne-x=%{x}<br>tsne-y=%{y}<extra></extra>",
         "legendgroup": "35",
         "marker": {
          "color": "#19d3f3",
          "symbol": "circle"
         },
         "mode": "markers",
         "name": "35",
         "showlegend": true,
         "type": "scattergl",
         "x": [
          18.96501922607422,
          18.830066680908203,
          19.289268493652344,
          18.929929733276367,
          20.41368293762207,
          20.267244338989258,
          17.909526824951172,
          17.622173309326172,
          8.628739356994629,
          13.049498558044434,
          23.707555770874023,
          22.54593849182129,
          17.111005783081055,
          18.49448585510254
         ],
         "xaxis": "x",
         "y": [
          2.445297956466675,
          2.424081802368164,
          3.1738829612731934,
          -1.9751529693603516,
          -15.23674488067627,
          2.522188186645508,
          3.375389337539673,
          3.2753286361694336,
          0.34090620279312134,
          10.87181568145752,
          9.147493362426758,
          9.141128540039062,
          3.347571611404419,
          4.724240303039551
         ],
         "yaxis": "y"
        },
        {
         "hovertemplate": "scaffold=36<br>tsne-x=%{x}<br>tsne-y=%{y}<extra></extra>",
         "legendgroup": "36",
         "marker": {
          "color": "#FF6692",
          "symbol": "circle"
         },
         "mode": "markers",
         "name": "36",
         "showlegend": true,
         "type": "scattergl",
         "x": [
          18.650609970092773,
          -8.854578018188477,
          18.8453311920166,
          -8.700376510620117,
          39.93180847167969,
          39.905033111572266,
          39.957027435302734,
          -9.509140968322754,
          -7.807467937469482,
          -9.348248481750488,
          -8.823882102966309,
          27.110334396362305,
          -8.763201713562012,
          5.269657135009766
         ],
         "xaxis": "x",
         "y": [
          27.358219146728516,
          28.742109298706055,
          20.012041091918945,
          27.78993797302246,
          2.2393908500671387,
          2.170923948287964,
          2.9667015075683594,
          28.651559829711914,
          29.04056739807129,
          30.01065444946289,
          29.376937866210938,
          -15.174184799194336,
          29.344377517700195,
          9.141546249389648
         ],
         "yaxis": "y"
        },
        {
         "hovertemplate": "scaffold=37<br>tsne-x=%{x}<br>tsne-y=%{y}<extra></extra>",
         "legendgroup": "37",
         "marker": {
          "color": "#B6E880",
          "symbol": "circle"
         },
         "mode": "markers",
         "name": "37",
         "showlegend": true,
         "type": "scattergl",
         "x": [
          -33.15582275390625,
          -32.96697235107422,
          -32.825950622558594,
          -33.02677917480469,
          -33.573123931884766,
          -33.56570816040039,
          -33.90860366821289,
          -33.030982971191406,
          -33.83934020996094,
          -34.048057556152344,
          -33.722721099853516,
          -33.47883987426758,
          -33.14277267456055
         ],
         "xaxis": "x",
         "y": [
          -9.009393692016602,
          -9.254508972167969,
          -8.836320877075195,
          -8.361059188842773,
          -9.220600128173828,
          -8.492389678955078,
          -8.425661087036133,
          -7.884593486785889,
          -9.704100608825684,
          -8.925790786743164,
          -7.827488422393799,
          -6.825980186462402,
          -10.278704643249512
         ],
         "yaxis": "y"
        },
        {
         "hovertemplate": "scaffold=38<br>tsne-x=%{x}<br>tsne-y=%{y}<extra></extra>",
         "legendgroup": "38",
         "marker": {
          "color": "#FF97FF",
          "symbol": "circle"
         },
         "mode": "markers",
         "name": "38",
         "showlegend": true,
         "type": "scattergl",
         "x": [
          -14.216435432434082,
          -17.058950424194336,
          -14.035545349121094,
          -16.469268798828125,
          -15.720151901245117,
          -14.829331398010254,
          -14.728521347045898,
          24.259748458862305,
          -16.748214721679688,
          -15.918225288391113,
          -14.931804656982422,
          -16.825218200683594,
          -14.903619766235352
         ],
         "xaxis": "x",
         "y": [
          -18.94948387145996,
          -17.36795997619629,
          -19.176733016967773,
          -16.659162521362305,
          -15.853080749511719,
          -17.7639102935791,
          -17.6723575592041,
          -2.953827142715454,
          -18.338375091552734,
          -15.742587089538574,
          -19.386194229125977,
          -18.277387619018555,
          -18.374252319335938
         ],
         "yaxis": "y"
        },
        {
         "hovertemplate": "scaffold=39<br>tsne-x=%{x}<br>tsne-y=%{y}<extra></extra>",
         "legendgroup": "39",
         "marker": {
          "color": "#FECB52",
          "symbol": "circle"
         },
         "mode": "markers",
         "name": "39",
         "showlegend": true,
         "type": "scattergl",
         "x": [
          5.742609977722168,
          5.999017238616943,
          4.884637832641602,
          5.892333984375,
          10.077278137207031,
          4.669109344482422,
          5.8212127685546875,
          7.180480480194092,
          5.532649517059326,
          5.560664653778076,
          7.017552375793457,
          14.103513717651367
         ],
         "xaxis": "x",
         "y": [
          2.2185206413269043,
          2.180546283721924,
          3.819695472717285,
          3.3614377975463867,
          15.474205017089844,
          3.736572504043579,
          2.4085652828216553,
          3.302025556564331,
          3.9305944442749023,
          3.910013198852539,
          3.521838903427124,
          19.053728103637695
         ],
         "yaxis": "y"
        },
        {
         "hovertemplate": "scaffold=40<br>tsne-x=%{x}<br>tsne-y=%{y}<extra></extra>",
         "legendgroup": "40",
         "marker": {
          "color": "#636efa",
          "symbol": "circle"
         },
         "mode": "markers",
         "name": "40",
         "showlegend": true,
         "type": "scattergl",
         "x": [
          33.8603515625,
          33.054439544677734,
          33.38517379760742,
          33.609737396240234,
          33.590084075927734,
          33.24633026123047,
          34.33363342285156,
          34.43610382080078,
          34.07284927368164,
          34.350887298583984,
          34.59344482421875,
          33.86881637573242
         ],
         "xaxis": "x",
         "y": [
          30.412303924560547,
          30.556453704833984,
          30.907621383666992,
          30.102144241333008,
          30.838665008544922,
          31.42969512939453,
          31.348878860473633,
          30.736913681030273,
          31.150571823120117,
          30.018163681030273,
          30.74448013305664,
          31.890913009643555
         ],
         "yaxis": "y"
        },
        {
         "hovertemplate": "scaffold=41<br>tsne-x=%{x}<br>tsne-y=%{y}<extra></extra>",
         "legendgroup": "41",
         "marker": {
          "color": "#EF553B",
          "symbol": "circle"
         },
         "mode": "markers",
         "name": "41",
         "showlegend": true,
         "type": "scattergl",
         "x": [
          -12.946403503417969,
          -18.628173828125,
          14.233080863952637,
          12.676382064819336,
          -9.630555152893066,
          -12.80285930633545,
          -9.654871940612793,
          -15.648215293884277,
          -9.603684425354004,
          -4.6947808265686035,
          -9.712015151977539,
          -10.063183784484863
         ],
         "xaxis": "x",
         "y": [
          -5.021115779876709,
          6.944849014282227,
          -14.944936752319336,
          -16.816465377807617,
          6.145145416259766,
          -4.805461406707764,
          6.06178092956543,
          -27.331714630126953,
          5.9858784675598145,
          8.809432029724121,
          5.801762104034424,
          4.952511310577393
         ],
         "yaxis": "y"
        },
        {
         "hovertemplate": "scaffold=42<br>tsne-x=%{x}<br>tsne-y=%{y}<extra></extra>",
         "legendgroup": "42",
         "marker": {
          "color": "#00cc96",
          "symbol": "circle"
         },
         "mode": "markers",
         "name": "42",
         "showlegend": true,
         "type": "scattergl",
         "x": [
          19.35773277282715,
          -4.5184102058410645,
          12.29422378540039,
          5.950428009033203,
          -4.012000560760498,
          6.233607769012451,
          6.239790916442871,
          5.332910537719727,
          13.205940246582031,
          19.44797706604004,
          19.485071182250977,
          24.972888946533203
         ],
         "xaxis": "x",
         "y": [
          -23.355388641357422,
          17.92876625061035,
          13.537252426147461,
          12.386237144470215,
          16.960494995117188,
          11.90964126586914,
          11.903755187988281,
          -22.69820785522461,
          14.53847885131836,
          -31.677932739257812,
          -31.70566749572754,
          -11.146692276000977
         ],
         "yaxis": "y"
        },
        {
         "hovertemplate": "scaffold=43<br>tsne-x=%{x}<br>tsne-y=%{y}<extra></extra>",
         "legendgroup": "43",
         "marker": {
          "color": "#ab63fa",
          "symbol": "circle"
         },
         "mode": "markers",
         "name": "43",
         "showlegend": true,
         "type": "scattergl",
         "x": [
          -0.7725987434387207,
          0.5393780469894409,
          -2.407094717025757,
          0.3043883144855499,
          -0.9661378860473633,
          0.3039635121822357,
          -0.18219207227230072,
          -2.4178099632263184,
          1.0294784307479858,
          -0.8417982459068298,
          -1.2664982080459595,
          -0.5441004633903503
         ],
         "xaxis": "x",
         "y": [
          24.982328414916992,
          24.414979934692383,
          27.38037872314453,
          28.169235229492188,
          24.611164093017578,
          28.16322898864746,
          24.155424118041992,
          27.39385223388672,
          24.34718894958496,
          25.65584945678711,
          25.216381072998047,
          26.24616813659668
         ],
         "yaxis": "y"
        },
        {
         "hovertemplate": "scaffold=44<br>tsne-x=%{x}<br>tsne-y=%{y}<extra></extra>",
         "legendgroup": "44",
         "marker": {
          "color": "#FFA15A",
          "symbol": "circle"
         },
         "mode": "markers",
         "name": "44",
         "showlegend": true,
         "type": "scattergl",
         "x": [
          -42.95538330078125,
          -42.84056091308594,
          -42.148468017578125,
          -42.37983703613281,
          -43.64798355102539,
          -42.349220275878906,
          -42.59236145019531,
          -41.807674407958984,
          -41.79926681518555,
          -41.533607482910156,
          -41.91262435913086
         ],
         "xaxis": "x",
         "y": [
          4.498112678527832,
          4.21595573425293,
          4.1833014488220215,
          4.636041641235352,
          3.5846426486968994,
          5.42464542388916,
          5.0923662185668945,
          4.480221748352051,
          5.177440166473389,
          4.903012752532959,
          5.621944427490234
         ],
         "yaxis": "y"
        },
        {
         "hovertemplate": "scaffold=45<br>tsne-x=%{x}<br>tsne-y=%{y}<extra></extra>",
         "legendgroup": "45",
         "marker": {
          "color": "#19d3f3",
          "symbol": "circle"
         },
         "mode": "markers",
         "name": "45",
         "showlegend": true,
         "type": "scattergl",
         "x": [
          -27.52983283996582,
          -27.65724754333496,
          -27.575288772583008,
          -27.256521224975586,
          -27.4538516998291,
          -26.26462745666504,
          -27.26496124267578,
          -26.13966941833496,
          -26.386009216308594,
          -26.376911163330078,
          -26.182279586791992
         ],
         "xaxis": "x",
         "y": [
          1.2445957660675049,
          1.7262755632400513,
          1.094387412071228,
          1.6358827352523804,
          2.3247313499450684,
          1.1009809970855713,
          2.1124117374420166,
          2.5762405395507812,
          1.7959846258163452,
          2.1337597370147705,
          1.9171490669250488
         ],
         "yaxis": "y"
        },
        {
         "hovertemplate": "scaffold=46<br>tsne-x=%{x}<br>tsne-y=%{y}<extra></extra>",
         "legendgroup": "46",
         "marker": {
          "color": "#FF6692",
          "symbol": "circle"
         },
         "mode": "markers",
         "name": "46",
         "showlegend": true,
         "type": "scattergl",
         "x": [
          -20.519224166870117,
          -20.497699737548828,
          -20.080358505249023,
          -21.06558609008789,
          -19.970436096191406,
          -10.333596229553223,
          -20.21236228942871,
          -20.570720672607422,
          -9.37992000579834,
          -19.250829696655273,
          -20.727638244628906
         ],
         "xaxis": "x",
         "y": [
          -3.5273258686065674,
          -3.536497116088867,
          -2.630420207977295,
          -0.8989919424057007,
          -1.482263445854187,
          3.198518753051758,
          -1.7614009380340576,
          -1.2251814603805542,
          3.372573137283325,
          -0.4654771089553833,
          -1.1710487604141235
         ],
         "yaxis": "y"
        },
        {
         "hovertemplate": "scaffold=47<br>tsne-x=%{x}<br>tsne-y=%{y}<extra></extra>",
         "legendgroup": "47",
         "marker": {
          "color": "#B6E880",
          "symbol": "circle"
         },
         "mode": "markers",
         "name": "47",
         "showlegend": true,
         "type": "scattergl",
         "x": [
          -15.39955997467041,
          13.638714790344238,
          -15.525579452514648,
          -17.28221893310547,
          -15.962533950805664,
          -17.3104248046875,
          -15.822093963623047,
          -17.334928512573242,
          -15.716731071472168,
          -17.147567749023438,
          -16.692447662353516
         ],
         "xaxis": "x",
         "y": [
          -7.747323036193848,
          -13.001744270324707,
          -4.434854984283447,
          -6.62440299987793,
          -5.733369827270508,
          -6.601415157318115,
          -5.049440860748291,
          -5.707423210144043,
          -4.808961868286133,
          -5.207809925079346,
          -8.181083679199219
         ],
         "yaxis": "y"
        },
        {
         "hovertemplate": "scaffold=48<br>tsne-x=%{x}<br>tsne-y=%{y}<extra></extra>",
         "legendgroup": "48",
         "marker": {
          "color": "#FF97FF",
          "symbol": "circle"
         },
         "mode": "markers",
         "name": "48",
         "showlegend": true,
         "type": "scattergl",
         "x": [
          29.9292049407959,
          28.83380126953125,
          28.473642349243164,
          29.666545867919922,
          29.499164581298828,
          29.72783851623535,
          28.102991104125977,
          30.17635154724121,
          30.08950424194336,
          28.08433723449707,
          27.68762969970703
         ],
         "xaxis": "x",
         "y": [
          -30.382139205932617,
          -28.02694320678711,
          -28.489276885986328,
          -27.6472110748291,
          -30.408308029174805,
          -27.592044830322266,
          -30.531578063964844,
          -31.013416290283203,
          -31.10555076599121,
          -30.377450942993164,
          -30.8308048248291
         ],
         "yaxis": "y"
        },
        {
         "hovertemplate": "scaffold=49<br>tsne-x=%{x}<br>tsne-y=%{y}<extra></extra>",
         "legendgroup": "49",
         "marker": {
          "color": "#FECB52",
          "symbol": "circle"
         },
         "mode": "markers",
         "name": "49",
         "showlegend": true,
         "type": "scattergl",
         "x": [
          14.382144927978516,
          17.372882843017578,
          -4.243119239807129,
          14.378437995910645,
          -4.24774694442749,
          11.580557823181152,
          13.975658416748047,
          14.324602127075195,
          13.086505889892578,
          13.016175270080566,
          13.216981887817383
         ],
         "xaxis": "x",
         "y": [
          -8.275060653686523,
          -3.0661840438842773,
          -33.24877166748047,
          -8.220174789428711,
          -33.222476959228516,
          -8.161823272705078,
          -10.156495094299316,
          -10.431548118591309,
          -9.514589309692383,
          -8.127527236938477,
          -9.476662635803223
         ],
         "yaxis": "y"
        },
        {
         "hovertemplate": "scaffold=50<br>tsne-x=%{x}<br>tsne-y=%{y}<extra></extra>",
         "legendgroup": "50",
         "marker": {
          "color": "#636efa",
          "symbol": "circle"
         },
         "mode": "markers",
         "name": "50",
         "showlegend": true,
         "type": "scattergl",
         "x": [
          -22.091764450073242,
          -22.09471893310547,
          -21.45541000366211,
          -11.674638748168945,
          -20.127180099487305,
          -11.660877227783203,
          -21.478235244750977,
          -20.546367645263672,
          -20.185935974121094,
          -11.796194076538086,
          -22.605531692504883
         ],
         "xaxis": "x",
         "y": [
          8.431924819946289,
          8.42224407196045,
          7.170024394989014,
          -16.59431266784668,
          6.5450968742370605,
          -16.600160598754883,
          7.213199615478516,
          7.24959659576416,
          6.915818691253662,
          -16.573246002197266,
          6.796771049499512
         ],
         "yaxis": "y"
        },
        {
         "hovertemplate": "scaffold=51<br>tsne-x=%{x}<br>tsne-y=%{y}<extra></extra>",
         "legendgroup": "51",
         "marker": {
          "color": "#EF553B",
          "symbol": "circle"
         },
         "mode": "markers",
         "name": "51",
         "showlegend": true,
         "type": "scattergl",
         "x": [
          -9.560323715209961,
          -10.431105613708496,
          -11.120782852172852,
          -10.989786148071289,
          -10.68216609954834,
          -5.282999515533447,
          17.26228141784668,
          -12.591924667358398,
          -12.834901809692383,
          -12.645485877990723,
          -10.70591926574707
         ],
         "xaxis": "x",
         "y": [
          -8.2233247756958,
          -9.373618125915527,
          -8.960572242736816,
          -8.873189926147461,
          -0.3568849563598633,
          -5.584792613983154,
          -21.669763565063477,
          -8.432731628417969,
          -6.744736194610596,
          -8.3670654296875,
          -9.377533912658691
         ],
         "yaxis": "y"
        },
        {
         "hovertemplate": "scaffold=52<br>tsne-x=%{x}<br>tsne-y=%{y}<extra></extra>",
         "legendgroup": "52",
         "marker": {
          "color": "#00cc96",
          "symbol": "circle"
         },
         "mode": "markers",
         "name": "52",
         "showlegend": true,
         "type": "scattergl",
         "x": [
          32.385337829589844,
          32.063106536865234,
          33.151790618896484,
          30.835405349731445,
          31.553234100341797,
          33.061954498291016,
          33.31831359863281,
          -11.989676475524902,
          30.187999725341797,
          32.634395599365234,
          37.28501892089844
         ],
         "xaxis": "x",
         "y": [
          -8.498048782348633,
          -7.381972312927246,
          -5.473367691040039,
          -7.87249231338501,
          -7.347901344299316,
          -5.296848773956299,
          -6.658648490905762,
          15.043266296386719,
          -6.390832901000977,
          -7.253891468048096,
          -6.24114465713501
         ],
         "yaxis": "y"
        },
        {
         "hovertemplate": "scaffold=53<br>tsne-x=%{x}<br>tsne-y=%{y}<extra></extra>",
         "legendgroup": "53",
         "marker": {
          "color": "#ab63fa",
          "symbol": "circle"
         },
         "mode": "markers",
         "name": "53",
         "showlegend": true,
         "type": "scattergl",
         "x": [
          5.785983562469482,
          9.957077026367188,
          38.97269058227539,
          2.921884775161743,
          3.198452949523926,
          3.12461519241333,
          6.285552501678467,
          17.509578704833984,
          40.111228942871094,
          7.54437255859375,
          6.089473247528076
         ],
         "xaxis": "x",
         "y": [
          -32.850215911865234,
          -22.499391555786133,
          -17.900426864624023,
          -32.39582824707031,
          -32.03292465209961,
          -32.0078239440918,
          -32.91713333129883,
          1.9005922079086304,
          -17.970338821411133,
          -31.49267578125,
          -32.86994552612305
         ],
         "yaxis": "y"
        },
        {
         "hovertemplate": "scaffold=54<br>tsne-x=%{x}<br>tsne-y=%{y}<extra></extra>",
         "legendgroup": "54",
         "marker": {
          "color": "#FFA15A",
          "symbol": "circle"
         },
         "mode": "markers",
         "name": "54",
         "showlegend": true,
         "type": "scattergl",
         "x": [
          -25.719812393188477,
          -25.690156936645508,
          -25.38905906677246,
          -25.447614669799805,
          -25.27887535095215,
          -25.64468002319336,
          -25.311220169067383,
          -24.92133331298828,
          -24.8099308013916,
          -24.76761245727539
         ],
         "xaxis": "x",
         "y": [
          -22.048612594604492,
          -22.13913917541504,
          -19.63317108154297,
          -20.107501983642578,
          -20.469451904296875,
          -22.15944480895996,
          -20.375362396240234,
          -20.079105377197266,
          -1.1862521171569824,
          -20.555192947387695
         ],
         "yaxis": "y"
        },
        {
         "hovertemplate": "scaffold=55<br>tsne-x=%{x}<br>tsne-y=%{y}<extra></extra>",
         "legendgroup": "55",
         "marker": {
          "color": "#19d3f3",
          "symbol": "circle"
         },
         "mode": "markers",
         "name": "55",
         "showlegend": true,
         "type": "scattergl",
         "x": [
          -14.591191291809082,
          37.98703384399414,
          37.914302825927734,
          -14.76522445678711,
          -14.62521743774414,
          -14.582301139831543,
          -22.03244400024414,
          -21.846660614013672,
          -21.92092514038086,
          10.182699203491211
         ],
         "xaxis": "x",
         "y": [
          -12.251398086547852,
          -15.295341491699219,
          -15.25422477722168,
          -12.139286041259766,
          -12.194947242736816,
          -12.220155715942383,
          19.879968643188477,
          19.85780143737793,
          19.849550247192383,
          16.0587215423584
         ],
         "yaxis": "y"
        },
        {
         "hovertemplate": "scaffold=56<br>tsne-x=%{x}<br>tsne-y=%{y}<extra></extra>",
         "legendgroup": "56",
         "marker": {
          "color": "#FF6692",
          "symbol": "circle"
         },
         "mode": "markers",
         "name": "56",
         "showlegend": true,
         "type": "scattergl",
         "x": [
          -3.368370294570923,
          -3.3833119869232178,
          -3.872774362564087,
          -3.6271891593933105,
          -2.2167394161224365,
          -2.5819313526153564,
          -3.129208564758301,
          -3.284301996231079,
          5.787382125854492,
          -3.3991572856903076
         ],
         "xaxis": "x",
         "y": [
          -26.335613250732422,
          -26.28694725036621,
          -26.83869743347168,
          -27.255903244018555,
          -26.918062210083008,
          -26.763614654541016,
          -27.035446166992188,
          -26.776660919189453,
          21.42428970336914,
          -27.594778060913086
         ],
         "yaxis": "y"
        },
        {
         "hovertemplate": "scaffold=57<br>tsne-x=%{x}<br>tsne-y=%{y}<extra></extra>",
         "legendgroup": "57",
         "marker": {
          "color": "#B6E880",
          "symbol": "circle"
         },
         "mode": "markers",
         "name": "57",
         "showlegend": true,
         "type": "scattergl",
         "x": [
          -10.433649063110352,
          -4.730241775512695,
          -5.2598066329956055,
          -4.114536285400391,
          -9.404382705688477,
          -3.1921634674072266,
          -17.30587387084961,
          -4.847157001495361,
          -0.3287099003791809,
          -1.1455849409103394
         ],
         "xaxis": "x",
         "y": [
          -3.6133437156677246,
          -4.97241735458374,
          -3.4559645652770996,
          7.172327518463135,
          -4.275153636932373,
          2.3854379653930664,
          4.694246768951416,
          -4.922348976135254,
          -0.579121470451355,
          13.166930198669434
         ],
         "yaxis": "y"
        },
        {
         "hovertemplate": "scaffold=58<br>tsne-x=%{x}<br>tsne-y=%{y}<extra></extra>",
         "legendgroup": "58",
         "marker": {
          "color": "#FF97FF",
          "symbol": "circle"
         },
         "mode": "markers",
         "name": "58",
         "showlegend": true,
         "type": "scattergl",
         "x": [
          14.65054988861084,
          15.778318405151367,
          13.847742080688477,
          14.696359634399414,
          15.076000213623047,
          14.704402923583984,
          15.161272048950195,
          14.4401273727417,
          14.40662956237793,
          16.039690017700195
         ],
         "xaxis": "x",
         "y": [
          16.27569580078125,
          16.39653778076172,
          16.433610916137695,
          16.848421096801758,
          16.42878532409668,
          16.010927200317383,
          16.260221481323242,
          13.190353393554688,
          17.29875946044922,
          15.0338134765625
         ],
         "yaxis": "y"
        },
        {
         "hovertemplate": "scaffold=59<br>tsne-x=%{x}<br>tsne-y=%{y}<extra></extra>",
         "legendgroup": "59",
         "marker": {
          "color": "#FECB52",
          "symbol": "circle"
         },
         "mode": "markers",
         "name": "59",
         "showlegend": true,
         "type": "scattergl",
         "x": [
          -22.403696060180664,
          -21.561260223388672,
          -21.45279884338379,
          -21.53278923034668,
          -21.52888298034668,
          -21.631145477294922,
          -21.03145408630371,
          -22.24807357788086,
          -22.03052520751953,
          -20.027482986450195
         ],
         "xaxis": "x",
         "y": [
          4.498724937438965,
          4.125476360321045,
          4.025000095367432,
          4.3416619300842285,
          4.537002086639404,
          3.6101551055908203,
          4.668715953826904,
          5.623439788818359,
          5.156246185302734,
          3.5767462253570557
         ],
         "yaxis": "y"
        },
        {
         "hovertemplate": "scaffold=60<br>tsne-x=%{x}<br>tsne-y=%{y}<extra></extra>",
         "legendgroup": "60",
         "marker": {
          "color": "#636efa",
          "symbol": "circle"
         },
         "mode": "markers",
         "name": "60",
         "showlegend": true,
         "type": "scattergl",
         "x": [
          -13.542720794677734,
          -4.45432186126709,
          -17.66297149658203,
          2.565075635910034,
          -9.11418342590332,
          -16.640836715698242,
          -16.851741790771484,
          -24.350341796875,
          -15.095122337341309,
          -9.15609073638916
         ],
         "xaxis": "x",
         "y": [
          -2.762688636779785,
          14.492279052734375,
          -3.5358059406280518,
          11.958280563354492,
          8.773292541503906,
          20.216524124145508,
          -1.9723247289657593,
          10.130739212036133,
          -3.523780107498169,
          8.867815971374512
         ],
         "yaxis": "y"
        },
        {
         "hovertemplate": "scaffold=61<br>tsne-x=%{x}<br>tsne-y=%{y}<extra></extra>",
         "legendgroup": "61",
         "marker": {
          "color": "#EF553B",
          "symbol": "circle"
         },
         "mode": "markers",
         "name": "61",
         "showlegend": true,
         "type": "scattergl",
         "x": [
          -6.6192827224731445,
          15.500197410583496,
          4.866114139556885,
          2.7185049057006836,
          1.367658257484436,
          2.6775436401367188,
          4.938079833984375,
          25.75307846069336,
          12.196447372436523,
          1.6935887336730957
         ],
         "xaxis": "x",
         "y": [
          25.098798751831055,
          -12.524871826171875,
          33.610469818115234,
          21.774513244628906,
          20.88178825378418,
          21.765514373779297,
          33.67436218261719,
          22.657169342041016,
          -3.8604109287261963,
          15.134489059448242
         ],
         "yaxis": "y"
        },
        {
         "hovertemplate": "scaffold=62<br>tsne-x=%{x}<br>tsne-y=%{y}<extra></extra>",
         "legendgroup": "62",
         "marker": {
          "color": "#00cc96",
          "symbol": "circle"
         },
         "mode": "markers",
         "name": "62",
         "showlegend": true,
         "type": "scattergl",
         "x": [
          1.5266553163528442,
          1.608331561088562,
          -6.672461986541748,
          -25.95806121826172,
          -25.925235748291016,
          23.451854705810547,
          -25.574466705322266,
          -35.72761154174805,
          -35.63663101196289,
          -36.38352584838867
         ],
         "xaxis": "x",
         "y": [
          38.29541015625,
          38.285099029541016,
          25.079608917236328,
          22.884292602539062,
          22.906169891357422,
          6.603594779968262,
          22.477088928222656,
          9.176687240600586,
          9.128873825073242,
          9.569051742553711
         ],
         "yaxis": "y"
        },
        {
         "hovertemplate": "scaffold=63<br>tsne-x=%{x}<br>tsne-y=%{y}<extra></extra>",
         "legendgroup": "63",
         "marker": {
          "color": "#ab63fa",
          "symbol": "circle"
         },
         "mode": "markers",
         "name": "63",
         "showlegend": true,
         "type": "scattergl",
         "x": [
          -12.940863609313965,
          -13.699057579040527,
          37.667686462402344,
          -11.017416000366211,
          -12.675045013427734,
          -11.20676040649414,
          -37.377403259277344,
          -11.75151252746582,
          -10.934354782104492,
          -11.7193603515625
         ],
         "xaxis": "x",
         "y": [
          18.796083450317383,
          18.256441116333008,
          12.816705703735352,
          18.88123893737793,
          21.549907684326172,
          18.85652732849121,
          10.190520286560059,
          21.097261428833008,
          21.484966278076172,
          21.090831756591797
         ],
         "yaxis": "y"
        },
        {
         "hovertemplate": "scaffold=64<br>tsne-x=%{x}<br>tsne-y=%{y}<extra></extra>",
         "legendgroup": "64",
         "marker": {
          "color": "#FFA15A",
          "symbol": "circle"
         },
         "mode": "markers",
         "name": "64",
         "showlegend": true,
         "type": "scattergl",
         "x": [
          -9.233033180236816,
          -9.572222709655762,
          -10.204017639160156,
          -9.948304176330566,
          -9.821695327758789,
          -9.251681327819824,
          -9.44397258758545,
          -10.085007667541504,
          -9.662528038024902
         ],
         "xaxis": "x",
         "y": [
          1.4152987003326416,
          1.0437240600585938,
          1.352869987487793,
          1.1395212411880493,
          1.479034423828125,
          1.641390085220337,
          2.100945234298706,
          1.9894577264785767,
          1.9205948114395142
         ],
         "yaxis": "y"
        },
        {
         "hovertemplate": "scaffold=65<br>tsne-x=%{x}<br>tsne-y=%{y}<extra></extra>",
         "legendgroup": "65",
         "marker": {
          "color": "#19d3f3",
          "symbol": "circle"
         },
         "mode": "markers",
         "name": "65",
         "showlegend": true,
         "type": "scattergl",
         "x": [
          -35.93387985229492,
          -36.0511360168457,
          -36.58441162109375,
          -36.80941390991211,
          -37.14031219482422,
          -36.94572067260742,
          -35.78347396850586,
          -36.75212478637695,
          -37.2247428894043
         ],
         "xaxis": "x",
         "y": [
          19.694826126098633,
          20.016937255859375,
          19.764925003051758,
          20.551959991455078,
          19.96105194091797,
          20.276906967163086,
          20.439414978027344,
          19.550649642944336,
          19.72139549255371
         ],
         "yaxis": "y"
        },
        {
         "hovertemplate": "scaffold=66<br>tsne-x=%{x}<br>tsne-y=%{y}<extra></extra>",
         "legendgroup": "66",
         "marker": {
          "color": "#FF6692",
          "symbol": "circle"
         },
         "mode": "markers",
         "name": "66",
         "showlegend": true,
         "type": "scattergl",
         "x": [
          5.920982837677002,
          7.84675931930542,
          6.111876487731934,
          6.004377365112305,
          8.516912460327148,
          8.395858764648438,
          7.133976936340332,
          7.612840175628662,
          7.360802173614502
         ],
         "xaxis": "x",
         "y": [
          7.745469570159912,
          8.325103759765625,
          7.597238063812256,
          7.706565856933594,
          8.399482727050781,
          8.400764465332031,
          7.157034397125244,
          7.278896808624268,
          7.9486541748046875
         ],
         "yaxis": "y"
        },
        {
         "hovertemplate": "scaffold=67<br>tsne-x=%{x}<br>tsne-y=%{y}<extra></extra>",
         "legendgroup": "67",
         "marker": {
          "color": "#B6E880",
          "symbol": "circle"
         },
         "mode": "markers",
         "name": "67",
         "showlegend": true,
         "type": "scattergl",
         "x": [
          -34.01232147216797,
          -33.509864807128906,
          -34.08583068847656,
          -33.4342041015625,
          -33.271697998046875,
          -32.656558990478516,
          -33.48298645019531,
          -32.826541900634766,
          -32.896671295166016
         ],
         "xaxis": "x",
         "y": [
          -25.300334930419922,
          -25.138227462768555,
          -26.236494064331055,
          -25.872621536254883,
          -25.685623168945312,
          -26.3759822845459,
          -26.797517776489258,
          -26.384979248046875,
          -26.495019912719727
         ],
         "yaxis": "y"
        },
        {
         "hovertemplate": "scaffold=68<br>tsne-x=%{x}<br>tsne-y=%{y}<extra></extra>",
         "legendgroup": "68",
         "marker": {
          "color": "#FF97FF",
          "symbol": "circle"
         },
         "mode": "markers",
         "name": "68",
         "showlegend": true,
         "type": "scattergl",
         "x": [
          -24.712413787841797,
          -24.436433792114258,
          -24.83677864074707,
          -27.13567543029785,
          -23.266616821289062,
          -27.23762321472168,
          -22.282346725463867,
          -22.597593307495117,
          -22.538557052612305
         ],
         "xaxis": "x",
         "y": [
          -7.713294506072998,
          -7.602040767669678,
          -7.142554759979248,
          -9.817276954650879,
          -3.0498008728027344,
          -10.020611763000488,
          -1.5724762678146362,
          -8.235325813293457,
          -7.695037841796875
         ],
         "yaxis": "y"
        },
        {
         "hovertemplate": "scaffold=69<br>tsne-x=%{x}<br>tsne-y=%{y}<extra></extra>",
         "legendgroup": "69",
         "marker": {
          "color": "#FECB52",
          "symbol": "circle"
         },
         "mode": "markers",
         "name": "69",
         "showlegend": true,
         "type": "scattergl",
         "x": [
          10.017033576965332,
          10.215167045593262,
          10.242520332336426,
          10.424839973449707,
          10.574995040893555,
          10.755963325500488,
          10.77768325805664,
          12.34294319152832,
          11.260405540466309
         ],
         "xaxis": "x",
         "y": [
          36.730587005615234,
          36.57743453979492,
          36.24148178100586,
          36.17164611816406,
          37.01857376098633,
          36.2653694152832,
          36.67231369018555,
          36.35685729980469,
          36.134727478027344
         ],
         "yaxis": "y"
        },
        {
         "hovertemplate": "scaffold=70<br>tsne-x=%{x}<br>tsne-y=%{y}<extra></extra>",
         "legendgroup": "70",
         "marker": {
          "color": "#636efa",
          "symbol": "circle"
         },
         "mode": "markers",
         "name": "70",
         "showlegend": true,
         "type": "scattergl",
         "x": [
          -24.016761779785156,
          -25.21381950378418,
          -24.919767379760742,
          -24.40510368347168,
          -25.84139060974121,
          -25.59747314453125,
          -25.322853088378906,
          -24.175626754760742,
          -24.681110382080078
         ],
         "xaxis": "x",
         "y": [
          -29.330081939697266,
          -29.733203887939453,
          -29.59337043762207,
          -28.612058639526367,
          -28.122222900390625,
          -28.506546020507812,
          -29.531248092651367,
          -28.652233123779297,
          -29.884862899780273
         ],
         "yaxis": "y"
        },
        {
         "hovertemplate": "scaffold=71<br>tsne-x=%{x}<br>tsne-y=%{y}<extra></extra>",
         "legendgroup": "71",
         "marker": {
          "color": "#EF553B",
          "symbol": "circle"
         },
         "mode": "markers",
         "name": "71",
         "showlegend": true,
         "type": "scattergl",
         "x": [
          -36.878990173339844,
          -35.849769592285156,
          -37.207462310791016,
          -36.847415924072266,
          -37.421470642089844,
          -36.96737289428711,
          -37.427886962890625,
          -37.21118927001953,
          -37.72799301147461
         ],
         "xaxis": "x",
         "y": [
          -3.8670237064361572,
          -3.995497941970825,
          -4.830789566040039,
          -3.25447940826416,
          -5.831010818481445,
          -3.8376221656799316,
          -5.789266586303711,
          -3.947807550430298,
          -3.298802375793457
         ],
         "yaxis": "y"
        },
        {
         "hovertemplate": "scaffold=72<br>tsne-x=%{x}<br>tsne-y=%{y}<extra></extra>",
         "legendgroup": "72",
         "marker": {
          "color": "#00cc96",
          "symbol": "circle"
         },
         "mode": "markers",
         "name": "72",
         "showlegend": true,
         "type": "scattergl",
         "x": [
          7.0890655517578125,
          -25.18840217590332,
          -4.02656364440918,
          2.1735284328460693,
          2.15112042427063,
          2.4458436965942383,
          2.2558562755584717,
          6.886025905609131,
          14.16322135925293
         ],
         "xaxis": "x",
         "y": [
          5.107466220855713,
          -11.522680282592773,
          -2.7339885234832764,
          3.6666722297668457,
          3.0358455181121826,
          3.052842617034912,
          3.7487306594848633,
          5.843692302703857,
          0.05498373880982399
         ],
         "yaxis": "y"
        },
        {
         "hovertemplate": "scaffold=73<br>tsne-x=%{x}<br>tsne-y=%{y}<extra></extra>",
         "legendgroup": "73",
         "marker": {
          "color": "#ab63fa",
          "symbol": "circle"
         },
         "mode": "markers",
         "name": "73",
         "showlegend": true,
         "type": "scattergl",
         "x": [
          -10.06162166595459,
          -10.433308601379395,
          -11.116884231567383,
          -9.762290954589844,
          -10.591182708740234,
          -10.878068923950195,
          -10.777922630310059,
          -10.404703140258789,
          -10.411791801452637
         ],
         "xaxis": "x",
         "y": [
          -22.13938331604004,
          -22.184144973754883,
          -21.85004425048828,
          -21.60047149658203,
          -21.034854888916016,
          -21.12063217163086,
          -21.777559280395508,
          -21.05707550048828,
          -20.781394958496094
         ],
         "yaxis": "y"
        },
        {
         "hovertemplate": "scaffold=74<br>tsne-x=%{x}<br>tsne-y=%{y}<extra></extra>",
         "legendgroup": "74",
         "marker": {
          "color": "#FFA15A",
          "symbol": "circle"
         },
         "mode": "markers",
         "name": "74",
         "showlegend": true,
         "type": "scattergl",
         "x": [
          -3.1013097763061523,
          -3.2920336723327637,
          -4.1812052726745605,
          17.56351661682129,
          -3.019348621368408,
          -4.255286693572998,
          -4.720218181610107,
          -3.8185055255889893,
          -4.927835941314697
         ],
         "xaxis": "x",
         "y": [
          -7.5925421714782715,
          -7.928828716278076,
          -7.698486328125,
          12.643208503723145,
          -8.761549949645996,
          -7.663990497589111,
          -9.158551216125488,
          -8.971691131591797,
          -9.267927169799805
         ],
         "yaxis": "y"
        },
        {
         "hovertemplate": "scaffold=75<br>tsne-x=%{x}<br>tsne-y=%{y}<extra></extra>",
         "legendgroup": "75",
         "marker": {
          "color": "#19d3f3",
          "symbol": "circle"
         },
         "mode": "markers",
         "name": "75",
         "showlegend": true,
         "type": "scattergl",
         "x": [
          -23.064355850219727,
          -10.889934539794922,
          -19.787147521972656,
          -0.8142402172088623,
          -1.3607934713363647,
          -2.7217965126037598,
          -2.7487120628356934,
          -19.6899356842041,
          9.226655006408691
         ],
         "xaxis": "x",
         "y": [
          0.7929185628890991,
          -3.1787261962890625,
          -6.464932441711426,
          -5.708034038543701,
          -5.105461120605469,
          16.968130111694336,
          16.98638916015625,
          -4.616552352905273,
          -7.389761924743652
         ],
         "yaxis": "y"
        },
        {
         "hovertemplate": "scaffold=76<br>tsne-x=%{x}<br>tsne-y=%{y}<extra></extra>",
         "legendgroup": "76",
         "marker": {
          "color": "#FF6692",
          "symbol": "circle"
         },
         "mode": "markers",
         "name": "76",
         "showlegend": true,
         "type": "scattergl",
         "x": [
          -16.721712112426758,
          -17.052526473999023,
          -18.433334350585938,
          -17.849567413330078,
          -17.869077682495117,
          -18.76964569091797,
          -17.98792839050293,
          -17.502304077148438,
          -17.955209732055664
         ],
         "xaxis": "x",
         "y": [
          -10.347777366638184,
          -10.198720932006836,
          -9.010093688964844,
          -11.406356811523438,
          -9.665639877319336,
          -9.387567520141602,
          -8.77959156036377,
          -8.945176124572754,
          -9.618032455444336
         ],
         "yaxis": "y"
        },
        {
         "hovertemplate": "scaffold=77<br>tsne-x=%{x}<br>tsne-y=%{y}<extra></extra>",
         "legendgroup": "77",
         "marker": {
          "color": "#B6E880",
          "symbol": "circle"
         },
         "mode": "markers",
         "name": "77",
         "showlegend": true,
         "type": "scattergl",
         "x": [
          20.94298553466797,
          20.551671981811523,
          19.93709373474121,
          20.24201011657715,
          17.413333892822266,
          1.5026931762695312,
          20.32785987854004,
          19.79851722717285,
          19.880292892456055
         ],
         "xaxis": "x",
         "y": [
          -10.002177238464355,
          -9.980764389038086,
          -9.27491569519043,
          -10.05448055267334,
          -9.390380859375,
          -18.454023361206055,
          -8.227921485900879,
          -9.566429138183594,
          -8.952488899230957
         ],
         "yaxis": "y"
        },
        {
         "hovertemplate": "scaffold=78<br>tsne-x=%{x}<br>tsne-y=%{y}<extra></extra>",
         "legendgroup": "78",
         "marker": {
          "color": "#FF97FF",
          "symbol": "circle"
         },
         "mode": "markers",
         "name": "78",
         "showlegend": true,
         "type": "scattergl",
         "x": [
          -12.24598503112793,
          -0.8446885347366333,
          -0.4051866829395294,
          -12.188483238220215,
          0.09890653192996979,
          0.24100935459136963,
          -0.3469844460487366,
          -25.515249252319336,
          -1.7731115818023682
         ],
         "xaxis": "x",
         "y": [
          -36.98356628417969,
          -20.561080932617188,
          -20.618701934814453,
          -37.008731842041016,
          -16.41023063659668,
          -16.984622955322266,
          -20.461061477661133,
          28.453638076782227,
          -20.264991760253906
         ],
         "yaxis": "y"
        },
        {
         "hovertemplate": "scaffold=79<br>tsne-x=%{x}<br>tsne-y=%{y}<extra></extra>",
         "legendgroup": "79",
         "marker": {
          "color": "#FECB52",
          "symbol": "circle"
         },
         "mode": "markers",
         "name": "79",
         "showlegend": true,
         "type": "scattergl",
         "x": [
          35.74897384643555,
          -2.7302768230438232,
          35.571495056152344,
          -2.6954104900360107,
          1.9400663375854492,
          1.1920719146728516,
          1.7332979440689087,
          1.5197715759277344,
          1.1533281803131104
         ],
         "xaxis": "x",
         "y": [
          -17.226993560791016,
          9.274299621582031,
          -17.251588821411133,
          9.292326927185059,
          1.3499265909194946,
          -1.0611380338668823,
          1.300910472869873,
          1.3292205333709717,
          0.8610454201698303
         ],
         "yaxis": "y"
        },
        {
         "hovertemplate": "scaffold=80<br>tsne-x=%{x}<br>tsne-y=%{y}<extra></extra>",
         "legendgroup": "80",
         "marker": {
          "color": "#636efa",
          "symbol": "circle"
         },
         "mode": "markers",
         "name": "80",
         "showlegend": true,
         "type": "scattergl",
         "x": [
          0.4079512655735016,
          -5.84794807434082,
          4.262599468231201,
          -28.370317459106445,
          -28.650489807128906,
          3.3872249126434326,
          -25.833171844482422,
          -28.745258331298828,
          3.84194278717041
         ],
         "xaxis": "x",
         "y": [
          5.609225749969482,
          -11.783018112182617,
          8.513521194458008,
          -17.6180362701416,
          -17.547378540039062,
          18.082246780395508,
          -14.802009582519531,
          -17.565509796142578,
          16.812192916870117
         ],
         "yaxis": "y"
        },
        {
         "hovertemplate": "scaffold=81<br>tsne-x=%{x}<br>tsne-y=%{y}<extra></extra>",
         "legendgroup": "81",
         "marker": {
          "color": "#EF553B",
          "symbol": "circle"
         },
         "mode": "markers",
         "name": "81",
         "showlegend": true,
         "type": "scattergl",
         "x": [
          44.4030876159668,
          44.39015579223633,
          44.62283706665039,
          44.62107849121094,
          44.387664794921875,
          44.29637145996094,
          44.6195182800293,
          44.603919982910156
         ],
         "xaxis": "x",
         "y": [
          14.36795711517334,
          14.403376579284668,
          11.535746574401855,
          11.553909301757812,
          14.341639518737793,
          14.370323181152344,
          11.52919864654541,
          11.470246315002441
         ],
         "yaxis": "y"
        },
        {
         "hovertemplate": "scaffold=82<br>tsne-x=%{x}<br>tsne-y=%{y}<extra></extra>",
         "legendgroup": "82",
         "marker": {
          "color": "#00cc96",
          "symbol": "circle"
         },
         "mode": "markers",
         "name": "82",
         "showlegend": true,
         "type": "scattergl",
         "x": [
          -28.61090660095215,
          -25.76363182067871,
          -27.402156829833984,
          -28.61176872253418,
          -27.751476287841797,
          -28.044660568237305,
          -26.31341552734375,
          -28.149200439453125
         ],
         "xaxis": "x",
         "y": [
          12.635754585266113,
          13.260683059692383,
          12.463153839111328,
          12.68346881866455,
          12.187820434570312,
          11.696883201599121,
          12.940722465515137,
          11.146095275878906
         ],
         "yaxis": "y"
        },
        {
         "hovertemplate": "scaffold=83<br>tsne-x=%{x}<br>tsne-y=%{y}<extra></extra>",
         "legendgroup": "83",
         "marker": {
          "color": "#ab63fa",
          "symbol": "circle"
         },
         "mode": "markers",
         "name": "83",
         "showlegend": true,
         "type": "scattergl",
         "x": [
          16.28316879272461,
          17.007490158081055,
          16.536876678466797,
          17.250120162963867,
          17.097532272338867,
          16.38884162902832,
          16.774423599243164,
          16.529468536376953
         ],
         "xaxis": "x",
         "y": [
          -1.5626767873764038,
          -1.8028403520584106,
          -1.7698554992675781,
          -1.6409002542495728,
          -1.2454510927200317,
          -0.839789092540741,
          -0.7739108204841614,
          -1.3775757551193237
         ],
         "yaxis": "y"
        },
        {
         "hovertemplate": "scaffold=84<br>tsne-x=%{x}<br>tsne-y=%{y}<extra></extra>",
         "legendgroup": "84",
         "marker": {
          "color": "#FFA15A",
          "symbol": "circle"
         },
         "mode": "markers",
         "name": "84",
         "showlegend": true,
         "type": "scattergl",
         "x": [
          -20.239938735961914,
          -23.296934127807617,
          -23.075565338134766,
          -20.68650245666504,
          -23.04317283630371,
          -20.195661544799805,
          -20.59748077392578,
          -23.001075744628906
         ],
         "xaxis": "x",
         "y": [
          -15.959415435791016,
          -14.716174125671387,
          -14.851299285888672,
          -14.979236602783203,
          -14.902092933654785,
          -16.008460998535156,
          -14.996827125549316,
          -14.796812057495117
         ],
         "yaxis": "y"
        },
        {
         "hovertemplate": "scaffold=85<br>tsne-x=%{x}<br>tsne-y=%{y}<extra></extra>",
         "legendgroup": "85",
         "marker": {
          "color": "#19d3f3",
          "symbol": "circle"
         },
         "mode": "markers",
         "name": "85",
         "showlegend": true,
         "type": "scattergl",
         "x": [
          6.521338939666748,
          6.49546480178833,
          6.9806060791015625,
          22.333574295043945,
          6.83256721496582,
          7.686861991882324,
          6.290951728820801,
          6.429923057556152
         ],
         "xaxis": "x",
         "y": [
          -17.69137191772461,
          -17.466367721557617,
          -17.71604347229004,
          -4.404907703399658,
          -17.80012321472168,
          -16.847400665283203,
          -18.01971435546875,
          -16.988027572631836
         ],
         "yaxis": "y"
        },
        {
         "hovertemplate": "scaffold=86<br>tsne-x=%{x}<br>tsne-y=%{y}<extra></extra>",
         "legendgroup": "86",
         "marker": {
          "color": "#FF6692",
          "symbol": "circle"
         },
         "mode": "markers",
         "name": "86",
         "showlegend": true,
         "type": "scattergl",
         "x": [
          -4.699268341064453,
          -5.417209148406982,
          -6.563979148864746,
          -6.355063438415527,
          -5.989058494567871,
          -6.582371234893799,
          -6.086725234985352,
          -6.380764007568359
         ],
         "xaxis": "x",
         "y": [
          10.599695205688477,
          11.122023582458496,
          11.321805953979492,
          10.450018882751465,
          11.050118446350098,
          11.420348167419434,
          11.334027290344238,
          10.469663619995117
         ],
         "yaxis": "y"
        },
        {
         "hovertemplate": "scaffold=87<br>tsne-x=%{x}<br>tsne-y=%{y}<extra></extra>",
         "legendgroup": "87",
         "marker": {
          "color": "#B6E880",
          "symbol": "circle"
         },
         "mode": "markers",
         "name": "87",
         "showlegend": true,
         "type": "scattergl",
         "x": [
          25.52543830871582,
          24.84992027282715,
          24.896949768066406,
          25.136777877807617,
          25.037511825561523,
          24.487571716308594,
          25.51282501220703,
          25.904979705810547
         ],
         "xaxis": "x",
         "y": [
          6.1708831787109375,
          4.911400318145752,
          4.901861190795898,
          6.214192867279053,
          4.574161052703857,
          6.412947654724121,
          4.040289402008057,
          4.039745807647705
         ],
         "yaxis": "y"
        },
        {
         "hovertemplate": "scaffold=88<br>tsne-x=%{x}<br>tsne-y=%{y}<extra></extra>",
         "legendgroup": "88",
         "marker": {
          "color": "#FF97FF",
          "symbol": "circle"
         },
         "mode": "markers",
         "name": "88",
         "showlegend": true,
         "type": "scattergl",
         "x": [
          -14.719215393066406,
          2.5771467685699463,
          1.0658549070358276,
          7.125322341918945,
          7.281125545501709,
          1.645917534828186,
          1.2574117183685303,
          4.101642608642578
         ],
         "xaxis": "x",
         "y": [
          -7.225675106048584,
          -3.328641176223755,
          -4.224576473236084,
          -3.1788225173950195,
          -3.605663299560547,
          -4.0803937911987305,
          -4.872008323669434,
          -4.0416789054870605
         ],
         "yaxis": "y"
        },
        {
         "hovertemplate": "scaffold=89<br>tsne-x=%{x}<br>tsne-y=%{y}<extra></extra>",
         "legendgroup": "89",
         "marker": {
          "color": "#FECB52",
          "symbol": "circle"
         },
         "mode": "markers",
         "name": "89",
         "showlegend": true,
         "type": "scattergl",
         "x": [
          20.000934600830078,
          20.176515579223633,
          29.969192504882812,
          19.93454933166504,
          29.96841049194336,
          -12.029373168945312,
          20.031940460205078,
          20.011707305908203
         ],
         "xaxis": "x",
         "y": [
          32.30778884887695,
          32.426544189453125,
          -1.6343684196472168,
          31.333595275878906,
          -1.6304644346237183,
          2.1588618755340576,
          31.891311645507812,
          31.81879234313965
         ],
         "yaxis": "y"
        },
        {
         "hovertemplate": "scaffold=90<br>tsne-x=%{x}<br>tsne-y=%{y}<extra></extra>",
         "legendgroup": "90",
         "marker": {
          "color": "#636efa",
          "symbol": "circle"
         },
         "mode": "markers",
         "name": "90",
         "showlegend": true,
         "type": "scattergl",
         "x": [
          -0.5392894148826599,
          -1.6964693069458008,
          -0.3616875410079956,
          -0.8994013667106628,
          -1.7788745164871216,
          -3.0364928245544434,
          -1.536460280418396,
          -1.6351392269134521
         ],
         "xaxis": "x",
         "y": [
          -3.212094306945801,
          -2.2594566345214844,
          -3.3167848587036133,
          -3.058497667312622,
          -3.1979401111602783,
          7.864016056060791,
          -1.9986498355865479,
          -2.578521251678467
         ],
         "yaxis": "y"
        },
        {
         "hovertemplate": "scaffold=91<br>tsne-x=%{x}<br>tsne-y=%{y}<extra></extra>",
         "legendgroup": "91",
         "marker": {
          "color": "#EF553B",
          "symbol": "circle"
         },
         "mode": "markers",
         "name": "91",
         "showlegend": true,
         "type": "scattergl",
         "x": [
          10.7478666305542,
          -9.41917896270752,
          3.4820079803466797,
          10.664052963256836,
          3.6668922901153564,
          3.1325435638427734,
          4.208434581756592,
          10.737104415893555
         ],
         "xaxis": "x",
         "y": [
          20.609243392944336,
          -11.749833106994629,
          6.507429599761963,
          20.688642501831055,
          6.779883861541748,
          7.259394645690918,
          7.270960807800293,
          21.529396057128906
         ],
         "yaxis": "y"
        },
        {
         "hovertemplate": "scaffold=92<br>tsne-x=%{x}<br>tsne-y=%{y}<extra></extra>",
         "legendgroup": "92",
         "marker": {
          "color": "#00cc96",
          "symbol": "circle"
         },
         "mode": "markers",
         "name": "92",
         "showlegend": true,
         "type": "scattergl",
         "x": [
          -17.331789016723633,
          -17.679122924804688,
          -18.326595306396484,
          -7.347146987915039,
          -17.039260864257812,
          -16.992633819580078,
          -18.308460235595703,
          -16.891572952270508
         ],
         "xaxis": "x",
         "y": [
          29.133243560791016,
          28.228717803955078,
          27.764179229736328,
          9.316055297851562,
          27.758188247680664,
          27.632465362548828,
          27.781354904174805,
          27.556488037109375
         ],
         "yaxis": "y"
        },
        {
         "hovertemplate": "scaffold=93<br>tsne-x=%{x}<br>tsne-y=%{y}<extra></extra>",
         "legendgroup": "93",
         "marker": {
          "color": "#ab63fa",
          "symbol": "circle"
         },
         "mode": "markers",
         "name": "93",
         "showlegend": true,
         "type": "scattergl",
         "x": [
          24.018428802490234,
          24.136178970336914,
          24.687549591064453,
          24.184926986694336,
          -6.492650985717773,
          10.701889038085938,
          11.553324699401855,
          10.801591873168945
         ],
         "xaxis": "x",
         "y": [
          -0.03919658064842224,
          0.006720712874084711,
          -0.5742008686065674,
          0.0344180129468441,
          -22.13690948486328,
          -12.582139015197754,
          -11.954377174377441,
          -12.49837875366211
         ],
         "yaxis": "y"
        },
        {
         "hovertemplate": "scaffold=94<br>tsne-x=%{x}<br>tsne-y=%{y}<extra></extra>",
         "legendgroup": "94",
         "marker": {
          "color": "#FFA15A",
          "symbol": "circle"
         },
         "mode": "markers",
         "name": "94",
         "showlegend": true,
         "type": "scattergl",
         "x": [
          -31.03481101989746,
          18.3612060546875,
          -28.589387893676758,
          -31.86688804626465,
          34.64662170410156,
          -32.58344268798828,
          -31.725120544433594,
          -29.35614585876465
         ],
         "xaxis": "x",
         "y": [
          -15.853862762451172,
          -23.30994987487793,
          -13.188017845153809,
          -17.070556640625,
          -16.396617889404297,
          -17.634719848632812,
          -17.023704528808594,
          -15.387104034423828
         ],
         "yaxis": "y"
        },
        {
         "hovertemplate": "scaffold=95<br>tsne-x=%{x}<br>tsne-y=%{y}<extra></extra>",
         "legendgroup": "95",
         "marker": {
          "color": "#19d3f3",
          "symbol": "circle"
         },
         "mode": "markers",
         "name": "95",
         "showlegend": true,
         "type": "scattergl",
         "x": [
          36.5505256652832,
          13.914249420166016,
          15.993988990783691,
          14.65117073059082,
          14.944413185119629,
          14.999847412109375,
          15.159261703491211,
          15.618428230285645
         ],
         "xaxis": "x",
         "y": [
          -16.48668670654297,
          28.25543975830078,
          27.205202102661133,
          28.536218643188477,
          28.85652732849121,
          28.32406997680664,
          28.10340690612793,
          27.74577522277832
         ],
         "yaxis": "y"
        },
        {
         "hovertemplate": "scaffold=96<br>tsne-x=%{x}<br>tsne-y=%{y}<extra></extra>",
         "legendgroup": "96",
         "marker": {
          "color": "#FF6692",
          "symbol": "circle"
         },
         "mode": "markers",
         "name": "96",
         "showlegend": true,
         "type": "scattergl",
         "x": [
          -12.574275016784668,
          -12.315810203552246,
          -11.815596580505371,
          -12.731732368469238,
          -11.867620468139648,
          -12.846488952636719,
          -12.656935691833496
         ],
         "xaxis": "x",
         "y": [
          0.7854316830635071,
          0.9444133639335632,
          0.3112795948982239,
          0.2507403492927551,
          0.3974805772304535,
          -0.12641610205173492,
          -0.029182257130742073
         ],
         "yaxis": "y"
        },
        {
         "hovertemplate": "scaffold=97<br>tsne-x=%{x}<br>tsne-y=%{y}<extra></extra>",
         "legendgroup": "97",
         "marker": {
          "color": "#B6E880",
          "symbol": "circle"
         },
         "mode": "markers",
         "name": "97",
         "showlegend": true,
         "type": "scattergl",
         "x": [
          -33.87974548339844,
          -34.21086120605469,
          -34.137481689453125,
          -33.493770599365234,
          -33.49639892578125,
          -34.60232925415039,
          -33.377132415771484
         ],
         "xaxis": "x",
         "y": [
          -14.1134614944458,
          -14.03521728515625,
          -14.63655948638916,
          -14.219568252563477,
          -14.044339179992676,
          -13.914276123046875,
          -13.984649658203125
         ],
         "yaxis": "y"
        },
        {
         "hovertemplate": "scaffold=98<br>tsne-x=%{x}<br>tsne-y=%{y}<extra></extra>",
         "legendgroup": "98",
         "marker": {
          "color": "#FF97FF",
          "symbol": "circle"
         },
         "mode": "markers",
         "name": "98",
         "showlegend": true,
         "type": "scattergl",
         "x": [
          8.947354316711426,
          9.446161270141602,
          10.133251190185547,
          10.441688537597656,
          9.844367027282715,
          9.777358055114746,
          10.012470245361328
         ],
         "xaxis": "x",
         "y": [
          4.778298854827881,
          5.120452880859375,
          5.251105308532715,
          5.267256736755371,
          4.714454174041748,
          4.8563313484191895,
          4.422510147094727
         ],
         "yaxis": "y"
        },
        {
         "hovertemplate": "scaffold=99<br>tsne-x=%{x}<br>tsne-y=%{y}<extra></extra>",
         "legendgroup": "99",
         "marker": {
          "color": "#FECB52",
          "symbol": "circle"
         },
         "mode": "markers",
         "name": "99",
         "showlegend": true,
         "type": "scattergl",
         "x": [
          -38.52119827270508,
          -37.73798370361328,
          -38.600830078125,
          -38.521331787109375,
          -37.77717971801758,
          -37.29180145263672,
          -37.28866958618164
         ],
         "xaxis": "x",
         "y": [
          -19.566377639770508,
          -20.4439640045166,
          -19.539339065551758,
          -19.84979248046875,
          -20.48732566833496,
          -18.509389877319336,
          -18.497451782226562
         ],
         "yaxis": "y"
        }
       ],
       "layout": {
        "height": 800,
        "legend": {
         "title": {
          "text": "scaffold"
         },
         "tracegroupgap": 0
        },
        "margin": {
         "t": 60
        },
        "template": {
         "data": {
          "bar": [
           {
            "error_x": {
             "color": "#2a3f5f"
            },
            "error_y": {
             "color": "#2a3f5f"
            },
            "marker": {
             "line": {
              "color": "#E5ECF6",
              "width": 0.5
             },
             "pattern": {
              "fillmode": "overlay",
              "size": 10,
              "solidity": 0.2
             }
            },
            "type": "bar"
           }
          ],
          "barpolar": [
           {
            "marker": {
             "line": {
              "color": "#E5ECF6",
              "width": 0.5
             },
             "pattern": {
              "fillmode": "overlay",
              "size": 10,
              "solidity": 0.2
             }
            },
            "type": "barpolar"
           }
          ],
          "carpet": [
           {
            "aaxis": {
             "endlinecolor": "#2a3f5f",
             "gridcolor": "white",
             "linecolor": "white",
             "minorgridcolor": "white",
             "startlinecolor": "#2a3f5f"
            },
            "baxis": {
             "endlinecolor": "#2a3f5f",
             "gridcolor": "white",
             "linecolor": "white",
             "minorgridcolor": "white",
             "startlinecolor": "#2a3f5f"
            },
            "type": "carpet"
           }
          ],
          "choropleth": [
           {
            "colorbar": {
             "outlinewidth": 0,
             "ticks": ""
            },
            "type": "choropleth"
           }
          ],
          "contour": [
           {
            "colorbar": {
             "outlinewidth": 0,
             "ticks": ""
            },
            "colorscale": [
             [
              0,
              "#0d0887"
             ],
             [
              0.1111111111111111,
              "#46039f"
             ],
             [
              0.2222222222222222,
              "#7201a8"
             ],
             [
              0.3333333333333333,
              "#9c179e"
             ],
             [
              0.4444444444444444,
              "#bd3786"
             ],
             [
              0.5555555555555556,
              "#d8576b"
             ],
             [
              0.6666666666666666,
              "#ed7953"
             ],
             [
              0.7777777777777778,
              "#fb9f3a"
             ],
             [
              0.8888888888888888,
              "#fdca26"
             ],
             [
              1,
              "#f0f921"
             ]
            ],
            "type": "contour"
           }
          ],
          "contourcarpet": [
           {
            "colorbar": {
             "outlinewidth": 0,
             "ticks": ""
            },
            "type": "contourcarpet"
           }
          ],
          "heatmap": [
           {
            "colorbar": {
             "outlinewidth": 0,
             "ticks": ""
            },
            "colorscale": [
             [
              0,
              "#0d0887"
             ],
             [
              0.1111111111111111,
              "#46039f"
             ],
             [
              0.2222222222222222,
              "#7201a8"
             ],
             [
              0.3333333333333333,
              "#9c179e"
             ],
             [
              0.4444444444444444,
              "#bd3786"
             ],
             [
              0.5555555555555556,
              "#d8576b"
             ],
             [
              0.6666666666666666,
              "#ed7953"
             ],
             [
              0.7777777777777778,
              "#fb9f3a"
             ],
             [
              0.8888888888888888,
              "#fdca26"
             ],
             [
              1,
              "#f0f921"
             ]
            ],
            "type": "heatmap"
           }
          ],
          "heatmapgl": [
           {
            "colorbar": {
             "outlinewidth": 0,
             "ticks": ""
            },
            "colorscale": [
             [
              0,
              "#0d0887"
             ],
             [
              0.1111111111111111,
              "#46039f"
             ],
             [
              0.2222222222222222,
              "#7201a8"
             ],
             [
              0.3333333333333333,
              "#9c179e"
             ],
             [
              0.4444444444444444,
              "#bd3786"
             ],
             [
              0.5555555555555556,
              "#d8576b"
             ],
             [
              0.6666666666666666,
              "#ed7953"
             ],
             [
              0.7777777777777778,
              "#fb9f3a"
             ],
             [
              0.8888888888888888,
              "#fdca26"
             ],
             [
              1,
              "#f0f921"
             ]
            ],
            "type": "heatmapgl"
           }
          ],
          "histogram": [
           {
            "marker": {
             "pattern": {
              "fillmode": "overlay",
              "size": 10,
              "solidity": 0.2
             }
            },
            "type": "histogram"
           }
          ],
          "histogram2d": [
           {
            "colorbar": {
             "outlinewidth": 0,
             "ticks": ""
            },
            "colorscale": [
             [
              0,
              "#0d0887"
             ],
             [
              0.1111111111111111,
              "#46039f"
             ],
             [
              0.2222222222222222,
              "#7201a8"
             ],
             [
              0.3333333333333333,
              "#9c179e"
             ],
             [
              0.4444444444444444,
              "#bd3786"
             ],
             [
              0.5555555555555556,
              "#d8576b"
             ],
             [
              0.6666666666666666,
              "#ed7953"
             ],
             [
              0.7777777777777778,
              "#fb9f3a"
             ],
             [
              0.8888888888888888,
              "#fdca26"
             ],
             [
              1,
              "#f0f921"
             ]
            ],
            "type": "histogram2d"
           }
          ],
          "histogram2dcontour": [
           {
            "colorbar": {
             "outlinewidth": 0,
             "ticks": ""
            },
            "colorscale": [
             [
              0,
              "#0d0887"
             ],
             [
              0.1111111111111111,
              "#46039f"
             ],
             [
              0.2222222222222222,
              "#7201a8"
             ],
             [
              0.3333333333333333,
              "#9c179e"
             ],
             [
              0.4444444444444444,
              "#bd3786"
             ],
             [
              0.5555555555555556,
              "#d8576b"
             ],
             [
              0.6666666666666666,
              "#ed7953"
             ],
             [
              0.7777777777777778,
              "#fb9f3a"
             ],
             [
              0.8888888888888888,
              "#fdca26"
             ],
             [
              1,
              "#f0f921"
             ]
            ],
            "type": "histogram2dcontour"
           }
          ],
          "mesh3d": [
           {
            "colorbar": {
             "outlinewidth": 0,
             "ticks": ""
            },
            "type": "mesh3d"
           }
          ],
          "parcoords": [
           {
            "line": {
             "colorbar": {
              "outlinewidth": 0,
              "ticks": ""
             }
            },
            "type": "parcoords"
           }
          ],
          "pie": [
           {
            "automargin": true,
            "type": "pie"
           }
          ],
          "scatter": [
           {
            "fillpattern": {
             "fillmode": "overlay",
             "size": 10,
             "solidity": 0.2
            },
            "type": "scatter"
           }
          ],
          "scatter3d": [
           {
            "line": {
             "colorbar": {
              "outlinewidth": 0,
              "ticks": ""
             }
            },
            "marker": {
             "colorbar": {
              "outlinewidth": 0,
              "ticks": ""
             }
            },
            "type": "scatter3d"
           }
          ],
          "scattercarpet": [
           {
            "marker": {
             "colorbar": {
              "outlinewidth": 0,
              "ticks": ""
             }
            },
            "type": "scattercarpet"
           }
          ],
          "scattergeo": [
           {
            "marker": {
             "colorbar": {
              "outlinewidth": 0,
              "ticks": ""
             }
            },
            "type": "scattergeo"
           }
          ],
          "scattergl": [
           {
            "marker": {
             "colorbar": {
              "outlinewidth": 0,
              "ticks": ""
             }
            },
            "type": "scattergl"
           }
          ],
          "scattermapbox": [
           {
            "marker": {
             "colorbar": {
              "outlinewidth": 0,
              "ticks": ""
             }
            },
            "type": "scattermapbox"
           }
          ],
          "scatterpolar": [
           {
            "marker": {
             "colorbar": {
              "outlinewidth": 0,
              "ticks": ""
             }
            },
            "type": "scatterpolar"
           }
          ],
          "scatterpolargl": [
           {
            "marker": {
             "colorbar": {
              "outlinewidth": 0,
              "ticks": ""
             }
            },
            "type": "scatterpolargl"
           }
          ],
          "scatterternary": [
           {
            "marker": {
             "colorbar": {
              "outlinewidth": 0,
              "ticks": ""
             }
            },
            "type": "scatterternary"
           }
          ],
          "surface": [
           {
            "colorbar": {
             "outlinewidth": 0,
             "ticks": ""
            },
            "colorscale": [
             [
              0,
              "#0d0887"
             ],
             [
              0.1111111111111111,
              "#46039f"
             ],
             [
              0.2222222222222222,
              "#7201a8"
             ],
             [
              0.3333333333333333,
              "#9c179e"
             ],
             [
              0.4444444444444444,
              "#bd3786"
             ],
             [
              0.5555555555555556,
              "#d8576b"
             ],
             [
              0.6666666666666666,
              "#ed7953"
             ],
             [
              0.7777777777777778,
              "#fb9f3a"
             ],
             [
              0.8888888888888888,
              "#fdca26"
             ],
             [
              1,
              "#f0f921"
             ]
            ],
            "type": "surface"
           }
          ],
          "table": [
           {
            "cells": {
             "fill": {
              "color": "#EBF0F8"
             },
             "line": {
              "color": "white"
             }
            },
            "header": {
             "fill": {
              "color": "#C8D4E3"
             },
             "line": {
              "color": "white"
             }
            },
            "type": "table"
           }
          ]
         },
         "layout": {
          "annotationdefaults": {
           "arrowcolor": "#2a3f5f",
           "arrowhead": 0,
           "arrowwidth": 1
          },
          "autotypenumbers": "strict",
          "coloraxis": {
           "colorbar": {
            "outlinewidth": 0,
            "ticks": ""
           }
          },
          "colorscale": {
           "diverging": [
            [
             0,
             "#8e0152"
            ],
            [
             0.1,
             "#c51b7d"
            ],
            [
             0.2,
             "#de77ae"
            ],
            [
             0.3,
             "#f1b6da"
            ],
            [
             0.4,
             "#fde0ef"
            ],
            [
             0.5,
             "#f7f7f7"
            ],
            [
             0.6,
             "#e6f5d0"
            ],
            [
             0.7,
             "#b8e186"
            ],
            [
             0.8,
             "#7fbc41"
            ],
            [
             0.9,
             "#4d9221"
            ],
            [
             1,
             "#276419"
            ]
           ],
           "sequential": [
            [
             0,
             "#0d0887"
            ],
            [
             0.1111111111111111,
             "#46039f"
            ],
            [
             0.2222222222222222,
             "#7201a8"
            ],
            [
             0.3333333333333333,
             "#9c179e"
            ],
            [
             0.4444444444444444,
             "#bd3786"
            ],
            [
             0.5555555555555556,
             "#d8576b"
            ],
            [
             0.6666666666666666,
             "#ed7953"
            ],
            [
             0.7777777777777778,
             "#fb9f3a"
            ],
            [
             0.8888888888888888,
             "#fdca26"
            ],
            [
             1,
             "#f0f921"
            ]
           ],
           "sequentialminus": [
            [
             0,
             "#0d0887"
            ],
            [
             0.1111111111111111,
             "#46039f"
            ],
            [
             0.2222222222222222,
             "#7201a8"
            ],
            [
             0.3333333333333333,
             "#9c179e"
            ],
            [
             0.4444444444444444,
             "#bd3786"
            ],
            [
             0.5555555555555556,
             "#d8576b"
            ],
            [
             0.6666666666666666,
             "#ed7953"
            ],
            [
             0.7777777777777778,
             "#fb9f3a"
            ],
            [
             0.8888888888888888,
             "#fdca26"
            ],
            [
             1,
             "#f0f921"
            ]
           ]
          },
          "colorway": [
           "#636efa",
           "#EF553B",
           "#00cc96",
           "#ab63fa",
           "#FFA15A",
           "#19d3f3",
           "#FF6692",
           "#B6E880",
           "#FF97FF",
           "#FECB52"
          ],
          "font": {
           "color": "#2a3f5f"
          },
          "geo": {
           "bgcolor": "white",
           "lakecolor": "white",
           "landcolor": "#E5ECF6",
           "showlakes": true,
           "showland": true,
           "subunitcolor": "white"
          },
          "hoverlabel": {
           "align": "left"
          },
          "hovermode": "closest",
          "mapbox": {
           "style": "light"
          },
          "paper_bgcolor": "white",
          "plot_bgcolor": "#E5ECF6",
          "polar": {
           "angularaxis": {
            "gridcolor": "white",
            "linecolor": "white",
            "ticks": ""
           },
           "bgcolor": "#E5ECF6",
           "radialaxis": {
            "gridcolor": "white",
            "linecolor": "white",
            "ticks": ""
           }
          },
          "scene": {
           "xaxis": {
            "backgroundcolor": "#E5ECF6",
            "gridcolor": "white",
            "gridwidth": 2,
            "linecolor": "white",
            "showbackground": true,
            "ticks": "",
            "zerolinecolor": "white"
           },
           "yaxis": {
            "backgroundcolor": "#E5ECF6",
            "gridcolor": "white",
            "gridwidth": 2,
            "linecolor": "white",
            "showbackground": true,
            "ticks": "",
            "zerolinecolor": "white"
           },
           "zaxis": {
            "backgroundcolor": "#E5ECF6",
            "gridcolor": "white",
            "gridwidth": 2,
            "linecolor": "white",
            "showbackground": true,
            "ticks": "",
            "zerolinecolor": "white"
           }
          },
          "shapedefaults": {
           "line": {
            "color": "#2a3f5f"
           }
          },
          "ternary": {
           "aaxis": {
            "gridcolor": "white",
            "linecolor": "white",
            "ticks": ""
           },
           "baxis": {
            "gridcolor": "white",
            "linecolor": "white",
            "ticks": ""
           },
           "bgcolor": "#E5ECF6",
           "caxis": {
            "gridcolor": "white",
            "linecolor": "white",
            "ticks": ""
           }
          },
          "title": {
           "x": 0.05
          },
          "xaxis": {
           "automargin": true,
           "gridcolor": "white",
           "linecolor": "white",
           "ticks": "",
           "title": {
            "standoff": 15
           },
           "zerolinecolor": "white",
           "zerolinewidth": 2
          },
          "yaxis": {
           "automargin": true,
           "gridcolor": "white",
           "linecolor": "white",
           "ticks": "",
           "title": {
            "standoff": 15
           },
           "zerolinecolor": "white",
           "zerolinewidth": 2
          }
         }
        },
        "width": 800,
        "xaxis": {
         "anchor": "y",
         "domain": [
          0,
          1
         ],
         "title": {
          "text": "tsne-x"
         }
        },
        "yaxis": {
         "anchor": "x",
         "domain": [
          0,
          1
         ],
         "title": {
          "text": "tsne-y"
         }
        }
       }
      }
     },
     "metadata": {},
     "output_type": "display_data"
    }
   ],
   "source": [
    "proj_type = \"tsne\"\n",
    "px.scatter(df, x=f\"{proj_type}-x\", y=f\"{proj_type}-y\", color=\"scaffold\", height=800, width=800)"
   ]
  },
  {
   "cell_type": "markdown",
   "metadata": {},
   "source": [
    "## Evaluation"
   ]
  },
  {
   "cell_type": "code",
   "execution_count": 8,
   "metadata": {},
   "outputs": [
    {
     "data": {
      "text/plain": [
       "device(type='cuda')"
      ]
     },
     "execution_count": 8,
     "metadata": {},
     "output_type": "execute_result"
    }
   ],
   "source": [
    "device = torch.device(\"cuda\" if torch.cuda.is_available() else \"cpu\")\n",
    "device"
   ]
  },
  {
   "cell_type": "code",
   "execution_count": 9,
   "metadata": {},
   "outputs": [],
   "source": [
    "featz = DGLPretrainedFromSmiles()"
   ]
  },
  {
   "cell_type": "code",
   "execution_count": 10,
   "metadata": {},
   "outputs": [],
   "source": [
    "loader_config = DictConfig(\n",
    "    {\n",
    "        \"train\": {\n",
    "            \"batch_size\": 64,\n",
    "            \"shuffle\": True,\n",
    "            \"num_workers\": 8,\n",
    "        },\n",
    "        \"val\": {\n",
    "            \"batch_size\": 64,\n",
    "            \"shuffle\": False,\n",
    "            \"num_workers\": 8,\n",
    "        },\n",
    "        \"test\": {\n",
    "            \"batch_size\": 64,\n",
    "            \"shuffle\": False,\n",
    "            \"num_workers\": 8,\n",
    "        },\n",
    "    }\n",
    ")"
   ]
  },
  {
   "cell_type": "code",
   "execution_count": 25,
   "metadata": {},
   "outputs": [],
   "source": [
    "dmc = LipoDataModule\n",
    "mc = LipoModule\n",
    "# criterion = nn.BCEWithLogitsLoss()\n",
    "criterion = nn.MSELoss()\n",
    "name = \"lipo\""
   ]
  },
  {
   "cell_type": "code",
   "execution_count": 12,
   "metadata": {},
   "outputs": [],
   "source": [
    "dm = dmc(\n",
    "    root_dir=\"./data/\",\n",
    "    compound_transform=featz,\n",
    "    collate_fn=label_graph_collate_function,\n",
    "    dataloader_config=loader_config,\n",
    ")"
   ]
  },
  {
   "cell_type": "code",
   "execution_count": 13,
   "metadata": {},
   "outputs": [],
   "source": [
    "dm.prepare_data()\n",
    "dm.setup()"
   ]
  },
  {
   "cell_type": "code",
   "execution_count": 14,
   "metadata": {},
   "outputs": [],
   "source": [
    "dl = dm.train_dataloader()\n",
    "b = next(iter(dl))"
   ]
  },
  {
   "cell_type": "code",
   "execution_count": 26,
   "metadata": {},
   "outputs": [],
   "source": [
    "m = mc(\n",
    "    cross_modal_module=model,\n",
    "    optimizer=torch.optim.Adam,\n",
    "    scheduler=partial(torch.optim.lr_scheduler.ExponentialLR, gamma=0.95),\n",
    "    # criterion=criterion,\n",
    "    molecule_encoder_attribute_name=\"molecule_encoder\",\n",
    "    example_input=b,\n",
    ")"
   ]
  },
  {
   "cell_type": "code",
   "execution_count": 34,
   "metadata": {},
   "outputs": [],
   "source": [
    "m = m.to(device)\n",
    "bb = {k: v.to(device) for k, v in b.items()}\n",
    "m(**bb);"
   ]
  },
  {
   "cell_type": "code",
   "execution_count": 28,
   "metadata": {},
   "outputs": [],
   "source": [
    "os.environ[\"WANDB_NOTEBOOK_NAME\"] = \"./notebooks/7.0-gw-checkpoint.ipynb\""
   ]
  },
  {
   "cell_type": "code",
   "execution_count": 29,
   "metadata": {},
   "outputs": [
    {
     "name": "stderr",
     "output_type": "stream",
     "text": [
      "Trainer already configured with model summary callbacks: [<class 'lightning.pytorch.callbacks.rich_model_summary.RichModelSummary'>]. Skipping setting a default `ModelSummary` callback.\n",
      "GPU available: True (cuda), used: True\n",
      "TPU available: False, using: 0 TPU cores\n",
      "IPU available: False, using: 0 IPUs\n",
      "HPU available: False, using: 0 HPUs\n"
     ]
    }
   ],
   "source": [
    "# default logger used by trainer (if tensorboard is installed)\n",
    "logger = [\n",
    "    TensorBoardLogger(save_dir=os.getcwd()),\n",
    "    CSVLogger(save_dir=os.getcwd()),\n",
    "    WandbLogger(save_dir=os.getcwd(), project=\"jump_models\", tags=[name, \"validation\"], group=name),\n",
    "]\n",
    "# logger = CSVLogger(save_dir=os.getcwd(), name=\"lightning_logs\")\n",
    "callbacks = [\n",
    "    RichModelSummary(),\n",
    "    WandbLogCallback(\n",
    "        watch=True,\n",
    "        watch_log=\"all\",\n",
    "        log_freq=100,\n",
    "    ),\n",
    "]\n",
    "\n",
    "trainer = Trainer(accelerator=\"gpu\", max_epochs=50, logger=logger, callbacks=callbacks)\n",
    "\n",
    "\n",
    "evaluator = FinetunableEvaluator(\n",
    "    model=m,\n",
    "    datamodule=dm,\n",
    "    trainer=trainer,\n",
    "    name=name,\n",
    ")"
   ]
  },
  {
   "cell_type": "code",
   "execution_count": 30,
   "metadata": {},
   "outputs": [],
   "source": [
    "warnings.filterwarnings(\"ignore\")"
   ]
  },
  {
   "cell_type": "code",
   "execution_count": 35,
   "metadata": {},
   "outputs": [
    {
     "data": {
      "text/plain": [
       "tensor([[ 89.4749],\n",
       "        [118.2019],\n",
       "        [ 98.5668],\n",
       "        [ 29.4051],\n",
       "        [101.6879],\n",
       "        [101.4642],\n",
       "        [ 66.0896],\n",
       "        [ 99.9193],\n",
       "        [ -8.9107],\n",
       "        [ 17.9166],\n",
       "        [133.8878],\n",
       "        [131.8886],\n",
       "        [ 75.3815],\n",
       "        [ 13.3442],\n",
       "        [ 71.6203],\n",
       "        [ 52.4193],\n",
       "        [ 52.6021],\n",
       "        [ 17.8721],\n",
       "        [101.9396],\n",
       "        [ 10.5105],\n",
       "        [ 30.2667],\n",
       "        [ 75.8556],\n",
       "        [ 88.6641],\n",
       "        [ 63.2152],\n",
       "        [ 19.1693],\n",
       "        [ 28.3296],\n",
       "        [ -5.5612],\n",
       "        [ 28.1050],\n",
       "        [ 30.0842],\n",
       "        [ 25.9844],\n",
       "        [ 88.9908],\n",
       "        [ 79.0325],\n",
       "        [ 83.3029],\n",
       "        [ 72.5576],\n",
       "        [  3.1259],\n",
       "        [ 74.6118],\n",
       "        [167.8580],\n",
       "        [ 95.0305],\n",
       "        [122.1017],\n",
       "        [106.2537],\n",
       "        [ 30.3841],\n",
       "        [100.0746],\n",
       "        [ 10.3026],\n",
       "        [  2.6383],\n",
       "        [ 88.4504],\n",
       "        [ 94.8880],\n",
       "        [134.1628],\n",
       "        [ 35.7002],\n",
       "        [100.5984],\n",
       "        [ 67.7810],\n",
       "        [ 90.4916],\n",
       "        [ 27.6422],\n",
       "        [119.6671],\n",
       "        [ 77.8263],\n",
       "        [ 44.1204],\n",
       "        [ 29.1826],\n",
       "        [ 36.6939],\n",
       "        [102.5308],\n",
       "        [-13.2396],\n",
       "        [ 70.5383],\n",
       "        [  3.6571],\n",
       "        [106.0797],\n",
       "        [ 48.2032],\n",
       "        [ 16.9816]], device='cuda:0', grad_fn=<AddmmBackward0>)"
      ]
     },
     "execution_count": 35,
     "metadata": {},
     "output_type": "execute_result"
    }
   ],
   "source": [
    "m(**bb)"
   ]
  },
  {
   "cell_type": "code",
   "execution_count": 36,
   "metadata": {},
   "outputs": [
    {
     "data": {
      "text/plain": [
       "{'compound': Graph(num_nodes=1767, num_edges=5599,\n",
       "       ndata_schemes={'atomic_number': Scheme(shape=(), dtype=torch.int64), 'chirality_type': Scheme(shape=(), dtype=torch.int64)}\n",
       "       edata_schemes={'bond_type': Scheme(shape=(), dtype=torch.int64), 'bond_direction_type': Scheme(shape=(), dtype=torch.int64)}),\n",
       " 'label': tensor([[ 3.9900],\n",
       "         [ 2.5400],\n",
       "         [ 3.4000],\n",
       "         [ 0.5100],\n",
       "         [ 3.4400],\n",
       "         [ 3.4600],\n",
       "         [ 2.5100],\n",
       "         [ 2.7400],\n",
       "         [ 0.7700],\n",
       "         [-1.0100],\n",
       "         [ 2.0900],\n",
       "         [ 3.3000],\n",
       "         [ 3.2000],\n",
       "         [ 2.3500],\n",
       "         [ 2.1600],\n",
       "         [ 1.9200],\n",
       "         [ 3.3300],\n",
       "         [ 1.3300],\n",
       "         [ 1.3200],\n",
       "         [ 1.9000],\n",
       "         [ 2.3100],\n",
       "         [ 2.7600],\n",
       "         [ 3.5000],\n",
       "         [ 1.9500],\n",
       "         [ 0.4400],\n",
       "         [ 0.9000],\n",
       "         [ 0.2000],\n",
       "         [ 1.5100],\n",
       "         [ 0.6600],\n",
       "         [ 1.0000],\n",
       "         [ 2.8000],\n",
       "         [ 1.0300],\n",
       "         [ 4.1000],\n",
       "         [ 4.0000],\n",
       "         [ 1.3700],\n",
       "         [ 1.6900],\n",
       "         [ 2.4000],\n",
       "         [ 3.6600],\n",
       "         [ 4.1000],\n",
       "         [ 3.9200],\n",
       "         [ 1.9900],\n",
       "         [ 3.1200],\n",
       "         [-1.2800],\n",
       "         [-0.7600],\n",
       "         [ 0.2500],\n",
       "         [ 1.2900],\n",
       "         [ 2.6000],\n",
       "         [ 2.1800],\n",
       "         [ 3.4900],\n",
       "         [ 2.2700],\n",
       "         [ 2.6300],\n",
       "         [ 2.7000],\n",
       "         [ 2.3300],\n",
       "         [ 2.1400],\n",
       "         [ 1.4000],\n",
       "         [-1.2700],\n",
       "         [ 2.5000],\n",
       "         [ 3.3000],\n",
       "         [-0.8000],\n",
       "         [ 3.2300],\n",
       "         [ 1.2000],\n",
       "         [ 3.6400],\n",
       "         [ 1.5800],\n",
       "         [ 2.3200]], device='cuda:0', dtype=torch.float64)}"
      ]
     },
     "execution_count": 36,
     "metadata": {},
     "output_type": "execute_result"
    }
   ],
   "source": [
    "bb"
   ]
  },
  {
   "cell_type": "code",
   "execution_count": 31,
   "metadata": {},
   "outputs": [
    {
     "name": "stderr",
     "output_type": "stream",
     "text": [
      "You are using a CUDA device ('NVIDIA GeForce RTX 3070 Laptop GPU') that has Tensor Cores. To properly utilize them, you should set `torch.set_float32_matmul_precision('medium' | 'high')` which will trade-off precision for performance. For more details, read https://pytorch.org/docs/stable/generated/torch.set_float32_matmul_precision.html#torch.set_float32_matmul_precision\n",
      "LOCAL_RANK: 0 - CUDA_VISIBLE_DEVICES: [0]\n"
     ]
    },
    {
     "data": {
      "text/html": [
       "<pre style=\"white-space:pre;overflow-x:auto;line-height:normal;font-family:Menlo,'DejaVu Sans Mono',consolas,'Courier New',monospace\">┏━━━━┳━━━━━━━━━━━━━━━━━━━━━┳━━━━━━━━━━━━━━━━━━━━━━━━━━━━━┳━━━━━━━━┳━━━━━━━━━━━┳━━━━━━━━━━━┓\n",
       "┃<span style=\"color: #800080; text-decoration-color: #800080; font-weight: bold\">    </span>┃<span style=\"color: #800080; text-decoration-color: #800080; font-weight: bold\"> Name                </span>┃<span style=\"color: #800080; text-decoration-color: #800080; font-weight: bold\"> Type                        </span>┃<span style=\"color: #800080; text-decoration-color: #800080; font-weight: bold\"> Params </span>┃<span style=\"color: #800080; text-decoration-color: #800080; font-weight: bold\">  In sizes </span>┃<span style=\"color: #800080; text-decoration-color: #800080; font-weight: bold\"> Out sizes </span>┃\n",
       "┡━━━━╇━━━━━━━━━━━━━━━━━━━━━╇━━━━━━━━━━━━━━━━━━━━━━━━━━━━━╇━━━━━━━━╇━━━━━━━━━━━╇━━━━━━━━━━━┩\n",
       "│<span style=\"color: #7f7f7f; text-decoration-color: #7f7f7f\"> 0  </span>│ molecule_encoder    │ GINPretrainedWithLinearHead │  1.9 M │<span style=\"color: #c0c0c0; text-decoration-color: #c0c0c0\">         ? </span>│<span style=\"color: #c0c0c0; text-decoration-color: #c0c0c0\"> [64, 256] </span>│\n",
       "│<span style=\"color: #7f7f7f; text-decoration-color: #7f7f7f\"> 1  </span>│ head                │ Linear                      │    257 │<span style=\"color: #c0c0c0; text-decoration-color: #c0c0c0\"> [64, 256] </span>│<span style=\"color: #c0c0c0; text-decoration-color: #c0c0c0\">   [64, 1] </span>│\n",
       "│<span style=\"color: #7f7f7f; text-decoration-color: #7f7f7f\"> 2  </span>│ model               │ Sequential                  │  1.9 M │<span style=\"color: #c0c0c0; text-decoration-color: #c0c0c0\">         ? </span>│<span style=\"color: #c0c0c0; text-decoration-color: #c0c0c0\">   [64, 1] </span>│\n",
       "│<span style=\"color: #7f7f7f; text-decoration-color: #7f7f7f\"> 3  </span>│ criterion           │ MSELoss                     │      0 │<span style=\"color: #c0c0c0; text-decoration-color: #c0c0c0\">         ? </span>│<span style=\"color: #c0c0c0; text-decoration-color: #c0c0c0\">         ? </span>│\n",
       "│<span style=\"color: #7f7f7f; text-decoration-color: #7f7f7f\"> 4  </span>│ train_loss          │ MeanMetric                  │      0 │<span style=\"color: #c0c0c0; text-decoration-color: #c0c0c0\">         ? </span>│<span style=\"color: #c0c0c0; text-decoration-color: #c0c0c0\">         ? </span>│\n",
       "│<span style=\"color: #7f7f7f; text-decoration-color: #7f7f7f\"> 5  </span>│ val_loss            │ MeanMetric                  │      0 │<span style=\"color: #c0c0c0; text-decoration-color: #c0c0c0\">         ? </span>│<span style=\"color: #c0c0c0; text-decoration-color: #c0c0c0\">         ? </span>│\n",
       "│<span style=\"color: #7f7f7f; text-decoration-color: #7f7f7f\"> 6  </span>│ test_loss           │ MeanMetric                  │      0 │<span style=\"color: #c0c0c0; text-decoration-color: #c0c0c0\">         ? </span>│<span style=\"color: #c0c0c0; text-decoration-color: #c0c0c0\">         ? </span>│\n",
       "│<span style=\"color: #7f7f7f; text-decoration-color: #7f7f7f\"> 7  </span>│ train_metric        │ MeanSquaredError            │      0 │<span style=\"color: #c0c0c0; text-decoration-color: #c0c0c0\">         ? </span>│<span style=\"color: #c0c0c0; text-decoration-color: #c0c0c0\">         ? </span>│\n",
       "│<span style=\"color: #7f7f7f; text-decoration-color: #7f7f7f\"> 8  </span>│ val_metric          │ MeanSquaredError            │      0 │<span style=\"color: #c0c0c0; text-decoration-color: #c0c0c0\">         ? </span>│<span style=\"color: #c0c0c0; text-decoration-color: #c0c0c0\">         ? </span>│\n",
       "│<span style=\"color: #7f7f7f; text-decoration-color: #7f7f7f\"> 9  </span>│ test_metric         │ MeanSquaredError            │      0 │<span style=\"color: #c0c0c0; text-decoration-color: #c0c0c0\">         ? </span>│<span style=\"color: #c0c0c0; text-decoration-color: #c0c0c0\">         ? </span>│\n",
       "│<span style=\"color: #7f7f7f; text-decoration-color: #7f7f7f\"> 10 </span>│ val_metric_best     │ MinMetric                   │      0 │<span style=\"color: #c0c0c0; text-decoration-color: #c0c0c0\">         ? </span>│<span style=\"color: #c0c0c0; text-decoration-color: #c0c0c0\">         ? </span>│\n",
       "│<span style=\"color: #7f7f7f; text-decoration-color: #7f7f7f\"> 11 </span>│ train_other_metrics │ MetricCollection            │      0 │<span style=\"color: #c0c0c0; text-decoration-color: #c0c0c0\">         ? </span>│<span style=\"color: #c0c0c0; text-decoration-color: #c0c0c0\">         ? </span>│\n",
       "│<span style=\"color: #7f7f7f; text-decoration-color: #7f7f7f\"> 12 </span>│ val_other_metrics   │ MetricCollection            │      0 │<span style=\"color: #c0c0c0; text-decoration-color: #c0c0c0\">         ? </span>│<span style=\"color: #c0c0c0; text-decoration-color: #c0c0c0\">         ? </span>│\n",
       "│<span style=\"color: #7f7f7f; text-decoration-color: #7f7f7f\"> 13 </span>│ test_other_metrics  │ MetricCollection            │      0 │<span style=\"color: #c0c0c0; text-decoration-color: #c0c0c0\">         ? </span>│<span style=\"color: #c0c0c0; text-decoration-color: #c0c0c0\">         ? </span>│\n",
       "│<span style=\"color: #7f7f7f; text-decoration-color: #7f7f7f\"> 14 </span>│ train_plot_metrics  │ MetricCollection            │      0 │<span style=\"color: #c0c0c0; text-decoration-color: #c0c0c0\">         ? </span>│<span style=\"color: #c0c0c0; text-decoration-color: #c0c0c0\">         ? </span>│\n",
       "│<span style=\"color: #7f7f7f; text-decoration-color: #7f7f7f\"> 15 </span>│ val_plot_metrics    │ MetricCollection            │      0 │<span style=\"color: #c0c0c0; text-decoration-color: #c0c0c0\">         ? </span>│<span style=\"color: #c0c0c0; text-decoration-color: #c0c0c0\">         ? </span>│\n",
       "│<span style=\"color: #7f7f7f; text-decoration-color: #7f7f7f\"> 16 </span>│ test_plot_metrics   │ MetricCollection            │      0 │<span style=\"color: #c0c0c0; text-decoration-color: #c0c0c0\">         ? </span>│<span style=\"color: #c0c0c0; text-decoration-color: #c0c0c0\">         ? </span>│\n",
       "└────┴─────────────────────┴─────────────────────────────┴────────┴───────────┴───────────┘\n",
       "</pre>\n"
      ],
      "text/plain": [
       "┏━━━━┳━━━━━━━━━━━━━━━━━━━━━┳━━━━━━━━━━━━━━━━━━━━━━━━━━━━━┳━━━━━━━━┳━━━━━━━━━━━┳━━━━━━━━━━━┓\n",
       "┃\u001b[1;35m \u001b[0m\u001b[1;35m  \u001b[0m\u001b[1;35m \u001b[0m┃\u001b[1;35m \u001b[0m\u001b[1;35mName               \u001b[0m\u001b[1;35m \u001b[0m┃\u001b[1;35m \u001b[0m\u001b[1;35mType                       \u001b[0m\u001b[1;35m \u001b[0m┃\u001b[1;35m \u001b[0m\u001b[1;35mParams\u001b[0m\u001b[1;35m \u001b[0m┃\u001b[1;35m \u001b[0m\u001b[1;35m In sizes\u001b[0m\u001b[1;35m \u001b[0m┃\u001b[1;35m \u001b[0m\u001b[1;35mOut sizes\u001b[0m\u001b[1;35m \u001b[0m┃\n",
       "┡━━━━╇━━━━━━━━━━━━━━━━━━━━━╇━━━━━━━━━━━━━━━━━━━━━━━━━━━━━╇━━━━━━━━╇━━━━━━━━━━━╇━━━━━━━━━━━┩\n",
       "│\u001b[2m \u001b[0m\u001b[2m0 \u001b[0m\u001b[2m \u001b[0m│ molecule_encoder    │ GINPretrainedWithLinearHead │  1.9 M │\u001b[37m \u001b[0m\u001b[37m        ?\u001b[0m\u001b[37m \u001b[0m│\u001b[37m \u001b[0m\u001b[37m[64, 256]\u001b[0m\u001b[37m \u001b[0m│\n",
       "│\u001b[2m \u001b[0m\u001b[2m1 \u001b[0m\u001b[2m \u001b[0m│ head                │ Linear                      │    257 │\u001b[37m \u001b[0m\u001b[37m[64, 256]\u001b[0m\u001b[37m \u001b[0m│\u001b[37m \u001b[0m\u001b[37m  [64, 1]\u001b[0m\u001b[37m \u001b[0m│\n",
       "│\u001b[2m \u001b[0m\u001b[2m2 \u001b[0m\u001b[2m \u001b[0m│ model               │ Sequential                  │  1.9 M │\u001b[37m \u001b[0m\u001b[37m        ?\u001b[0m\u001b[37m \u001b[0m│\u001b[37m \u001b[0m\u001b[37m  [64, 1]\u001b[0m\u001b[37m \u001b[0m│\n",
       "│\u001b[2m \u001b[0m\u001b[2m3 \u001b[0m\u001b[2m \u001b[0m│ criterion           │ MSELoss                     │      0 │\u001b[37m \u001b[0m\u001b[37m        ?\u001b[0m\u001b[37m \u001b[0m│\u001b[37m \u001b[0m\u001b[37m        ?\u001b[0m\u001b[37m \u001b[0m│\n",
       "│\u001b[2m \u001b[0m\u001b[2m4 \u001b[0m\u001b[2m \u001b[0m│ train_loss          │ MeanMetric                  │      0 │\u001b[37m \u001b[0m\u001b[37m        ?\u001b[0m\u001b[37m \u001b[0m│\u001b[37m \u001b[0m\u001b[37m        ?\u001b[0m\u001b[37m \u001b[0m│\n",
       "│\u001b[2m \u001b[0m\u001b[2m5 \u001b[0m\u001b[2m \u001b[0m│ val_loss            │ MeanMetric                  │      0 │\u001b[37m \u001b[0m\u001b[37m        ?\u001b[0m\u001b[37m \u001b[0m│\u001b[37m \u001b[0m\u001b[37m        ?\u001b[0m\u001b[37m \u001b[0m│\n",
       "│\u001b[2m \u001b[0m\u001b[2m6 \u001b[0m\u001b[2m \u001b[0m│ test_loss           │ MeanMetric                  │      0 │\u001b[37m \u001b[0m\u001b[37m        ?\u001b[0m\u001b[37m \u001b[0m│\u001b[37m \u001b[0m\u001b[37m        ?\u001b[0m\u001b[37m \u001b[0m│\n",
       "│\u001b[2m \u001b[0m\u001b[2m7 \u001b[0m\u001b[2m \u001b[0m│ train_metric        │ MeanSquaredError            │      0 │\u001b[37m \u001b[0m\u001b[37m        ?\u001b[0m\u001b[37m \u001b[0m│\u001b[37m \u001b[0m\u001b[37m        ?\u001b[0m\u001b[37m \u001b[0m│\n",
       "│\u001b[2m \u001b[0m\u001b[2m8 \u001b[0m\u001b[2m \u001b[0m│ val_metric          │ MeanSquaredError            │      0 │\u001b[37m \u001b[0m\u001b[37m        ?\u001b[0m\u001b[37m \u001b[0m│\u001b[37m \u001b[0m\u001b[37m        ?\u001b[0m\u001b[37m \u001b[0m│\n",
       "│\u001b[2m \u001b[0m\u001b[2m9 \u001b[0m\u001b[2m \u001b[0m│ test_metric         │ MeanSquaredError            │      0 │\u001b[37m \u001b[0m\u001b[37m        ?\u001b[0m\u001b[37m \u001b[0m│\u001b[37m \u001b[0m\u001b[37m        ?\u001b[0m\u001b[37m \u001b[0m│\n",
       "│\u001b[2m \u001b[0m\u001b[2m10\u001b[0m\u001b[2m \u001b[0m│ val_metric_best     │ MinMetric                   │      0 │\u001b[37m \u001b[0m\u001b[37m        ?\u001b[0m\u001b[37m \u001b[0m│\u001b[37m \u001b[0m\u001b[37m        ?\u001b[0m\u001b[37m \u001b[0m│\n",
       "│\u001b[2m \u001b[0m\u001b[2m11\u001b[0m\u001b[2m \u001b[0m│ train_other_metrics │ MetricCollection            │      0 │\u001b[37m \u001b[0m\u001b[37m        ?\u001b[0m\u001b[37m \u001b[0m│\u001b[37m \u001b[0m\u001b[37m        ?\u001b[0m\u001b[37m \u001b[0m│\n",
       "│\u001b[2m \u001b[0m\u001b[2m12\u001b[0m\u001b[2m \u001b[0m│ val_other_metrics   │ MetricCollection            │      0 │\u001b[37m \u001b[0m\u001b[37m        ?\u001b[0m\u001b[37m \u001b[0m│\u001b[37m \u001b[0m\u001b[37m        ?\u001b[0m\u001b[37m \u001b[0m│\n",
       "│\u001b[2m \u001b[0m\u001b[2m13\u001b[0m\u001b[2m \u001b[0m│ test_other_metrics  │ MetricCollection            │      0 │\u001b[37m \u001b[0m\u001b[37m        ?\u001b[0m\u001b[37m \u001b[0m│\u001b[37m \u001b[0m\u001b[37m        ?\u001b[0m\u001b[37m \u001b[0m│\n",
       "│\u001b[2m \u001b[0m\u001b[2m14\u001b[0m\u001b[2m \u001b[0m│ train_plot_metrics  │ MetricCollection            │      0 │\u001b[37m \u001b[0m\u001b[37m        ?\u001b[0m\u001b[37m \u001b[0m│\u001b[37m \u001b[0m\u001b[37m        ?\u001b[0m\u001b[37m \u001b[0m│\n",
       "│\u001b[2m \u001b[0m\u001b[2m15\u001b[0m\u001b[2m \u001b[0m│ val_plot_metrics    │ MetricCollection            │      0 │\u001b[37m \u001b[0m\u001b[37m        ?\u001b[0m\u001b[37m \u001b[0m│\u001b[37m \u001b[0m\u001b[37m        ?\u001b[0m\u001b[37m \u001b[0m│\n",
       "│\u001b[2m \u001b[0m\u001b[2m16\u001b[0m\u001b[2m \u001b[0m│ test_plot_metrics   │ MetricCollection            │      0 │\u001b[37m \u001b[0m\u001b[37m        ?\u001b[0m\u001b[37m \u001b[0m│\u001b[37m \u001b[0m\u001b[37m        ?\u001b[0m\u001b[37m \u001b[0m│\n",
       "└────┴─────────────────────┴─────────────────────────────┴────────┴───────────┴───────────┘\n"
      ]
     },
     "metadata": {},
     "output_type": "display_data"
    },
    {
     "data": {
      "text/html": [
       "<pre style=\"white-space:pre;overflow-x:auto;line-height:normal;font-family:Menlo,'DejaVu Sans Mono',consolas,'Courier New',monospace\"><span style=\"font-weight: bold\">Trainable params</span>: 1.9 M                                                                                            \n",
       "<span style=\"font-weight: bold\">Non-trainable params</span>: 0                                                                                            \n",
       "<span style=\"font-weight: bold\">Total params</span>: 1.9 M                                                                                                \n",
       "<span style=\"font-weight: bold\">Total estimated model params size (MB)</span>: 7                                                                          \n",
       "</pre>\n"
      ],
      "text/plain": [
       "\u001b[1mTrainable params\u001b[0m: 1.9 M                                                                                            \n",
       "\u001b[1mNon-trainable params\u001b[0m: 0                                                                                            \n",
       "\u001b[1mTotal params\u001b[0m: 1.9 M                                                                                                \n",
       "\u001b[1mTotal estimated model params size (MB)\u001b[0m: 7                                                                          \n"
      ]
     },
     "metadata": {},
     "output_type": "display_data"
    },
    {
     "data": {
      "application/vnd.jupyter.widget-view+json": {
       "model_id": "615dbb75ba7441aab7ac4ddd0e3f71e7",
       "version_major": 2,
       "version_minor": 0
      },
      "text/plain": [
       "Sanity Checking: 0it [00:00, ?it/s]"
      ]
     },
     "metadata": {},
     "output_type": "display_data"
    },
    {
     "name": "stderr",
     "output_type": "stream",
     "text": [
      "\u001b[34m\u001b[1mwandb\u001b[0m: logging graph, to disable use `wandb.watch(log_graph=False)`\n"
     ]
    },
    {
     "data": {
      "application/vnd.jupyter.widget-view+json": {
       "model_id": "6101f4d0a6e948d69e2f309f485d64f4",
       "version_major": 2,
       "version_minor": 0
      },
      "text/plain": [
       "Training: 0it [00:00, ?it/s]"
      ]
     },
     "metadata": {},
     "output_type": "display_data"
    },
    {
     "ename": "RuntimeError",
     "evalue": "Found dtype Double but expected Float",
     "output_type": "error",
     "traceback": [
      "\u001b[0;31m---------------------------------------------------------------------------\u001b[0m",
      "\u001b[0;31mRuntimeError\u001b[0m                              Traceback (most recent call last)",
      "Cell \u001b[0;32mIn[31], line 1\u001b[0m\n\u001b[0;32m----> 1\u001b[0m evaluator\u001b[39m.\u001b[39;49mfinetune()\n",
      "File \u001b[0;32m/mnt/2547d4d7-6732-4154-b0e1-17b0c1e0c565/Document-2/Projet2/Stage/workspace/jump_models/src/eval/evaluators.py:64\u001b[0m, in \u001b[0;36mFinetunableEvaluator.finetune\u001b[0;34m(self, **kwargs)\u001b[0m\n\u001b[1;32m     62\u001b[0m \u001b[39m\u001b[39m\u001b[39m\"\"\"Finetune the model.\"\"\"\u001b[39;00m\n\u001b[1;32m     63\u001b[0m logger\u001b[39m.\u001b[39minfo(\u001b[39mf\u001b[39m\u001b[39m\"\u001b[39m\u001b[39mFinetuning \u001b[39m\u001b[39m{\u001b[39;00m\u001b[39mself\u001b[39m\u001b[39m.\u001b[39mmodel\u001b[39m}\u001b[39;00m\u001b[39m on \u001b[39m\u001b[39m{\u001b[39;00m\u001b[39mself\u001b[39m\u001b[39m.\u001b[39mdatamodule\u001b[39m}\u001b[39;00m\u001b[39m with \u001b[39m\u001b[39m{\u001b[39;00m\u001b[39mself\u001b[39m\u001b[39m.\u001b[39mtrainer\u001b[39m}\u001b[39;00m\u001b[39m\"\u001b[39m)\n\u001b[0;32m---> 64\u001b[0m \u001b[39mself\u001b[39;49m\u001b[39m.\u001b[39;49mtrainer\u001b[39m.\u001b[39;49mfit(model\u001b[39m=\u001b[39;49m\u001b[39mself\u001b[39;49m\u001b[39m.\u001b[39;49mmodel, datamodule\u001b[39m=\u001b[39;49m\u001b[39mself\u001b[39;49m\u001b[39m.\u001b[39;49mdatamodule, \u001b[39m*\u001b[39;49m\u001b[39m*\u001b[39;49mkwargs)\n",
      "File \u001b[0;32m~/miniconda3/envs/jump_models/lib/python3.10/site-packages/lightning/pytorch/trainer/trainer.py:531\u001b[0m, in \u001b[0;36mTrainer.fit\u001b[0;34m(self, model, train_dataloaders, val_dataloaders, datamodule, ckpt_path)\u001b[0m\n\u001b[1;32m    529\u001b[0m model \u001b[39m=\u001b[39m _maybe_unwrap_optimized(model)\n\u001b[1;32m    530\u001b[0m \u001b[39mself\u001b[39m\u001b[39m.\u001b[39mstrategy\u001b[39m.\u001b[39m_lightning_module \u001b[39m=\u001b[39m model\n\u001b[0;32m--> 531\u001b[0m call\u001b[39m.\u001b[39;49m_call_and_handle_interrupt(\n\u001b[1;32m    532\u001b[0m     \u001b[39mself\u001b[39;49m, \u001b[39mself\u001b[39;49m\u001b[39m.\u001b[39;49m_fit_impl, model, train_dataloaders, val_dataloaders, datamodule, ckpt_path\n\u001b[1;32m    533\u001b[0m )\n",
      "File \u001b[0;32m~/miniconda3/envs/jump_models/lib/python3.10/site-packages/lightning/pytorch/trainer/call.py:42\u001b[0m, in \u001b[0;36m_call_and_handle_interrupt\u001b[0;34m(trainer, trainer_fn, *args, **kwargs)\u001b[0m\n\u001b[1;32m     40\u001b[0m     \u001b[39mif\u001b[39;00m trainer\u001b[39m.\u001b[39mstrategy\u001b[39m.\u001b[39mlauncher \u001b[39mis\u001b[39;00m \u001b[39mnot\u001b[39;00m \u001b[39mNone\u001b[39;00m:\n\u001b[1;32m     41\u001b[0m         \u001b[39mreturn\u001b[39;00m trainer\u001b[39m.\u001b[39mstrategy\u001b[39m.\u001b[39mlauncher\u001b[39m.\u001b[39mlaunch(trainer_fn, \u001b[39m*\u001b[39margs, trainer\u001b[39m=\u001b[39mtrainer, \u001b[39m*\u001b[39m\u001b[39m*\u001b[39mkwargs)\n\u001b[0;32m---> 42\u001b[0m     \u001b[39mreturn\u001b[39;00m trainer_fn(\u001b[39m*\u001b[39;49margs, \u001b[39m*\u001b[39;49m\u001b[39m*\u001b[39;49mkwargs)\n\u001b[1;32m     44\u001b[0m \u001b[39mexcept\u001b[39;00m _TunerExitException:\n\u001b[1;32m     45\u001b[0m     _call_teardown_hook(trainer)\n",
      "File \u001b[0;32m~/miniconda3/envs/jump_models/lib/python3.10/site-packages/lightning/pytorch/trainer/trainer.py:570\u001b[0m, in \u001b[0;36mTrainer._fit_impl\u001b[0;34m(self, model, train_dataloaders, val_dataloaders, datamodule, ckpt_path)\u001b[0m\n\u001b[1;32m    560\u001b[0m \u001b[39mself\u001b[39m\u001b[39m.\u001b[39m_data_connector\u001b[39m.\u001b[39mattach_data(\n\u001b[1;32m    561\u001b[0m     model, train_dataloaders\u001b[39m=\u001b[39mtrain_dataloaders, val_dataloaders\u001b[39m=\u001b[39mval_dataloaders, datamodule\u001b[39m=\u001b[39mdatamodule\n\u001b[1;32m    562\u001b[0m )\n\u001b[1;32m    564\u001b[0m ckpt_path \u001b[39m=\u001b[39m \u001b[39mself\u001b[39m\u001b[39m.\u001b[39m_checkpoint_connector\u001b[39m.\u001b[39m_select_ckpt_path(\n\u001b[1;32m    565\u001b[0m     \u001b[39mself\u001b[39m\u001b[39m.\u001b[39mstate\u001b[39m.\u001b[39mfn,\n\u001b[1;32m    566\u001b[0m     ckpt_path,\n\u001b[1;32m    567\u001b[0m     model_provided\u001b[39m=\u001b[39m\u001b[39mTrue\u001b[39;00m,\n\u001b[1;32m    568\u001b[0m     model_connected\u001b[39m=\u001b[39m\u001b[39mself\u001b[39m\u001b[39m.\u001b[39mlightning_module \u001b[39mis\u001b[39;00m \u001b[39mnot\u001b[39;00m \u001b[39mNone\u001b[39;00m,\n\u001b[1;32m    569\u001b[0m )\n\u001b[0;32m--> 570\u001b[0m \u001b[39mself\u001b[39;49m\u001b[39m.\u001b[39;49m_run(model, ckpt_path\u001b[39m=\u001b[39;49mckpt_path)\n\u001b[1;32m    572\u001b[0m \u001b[39massert\u001b[39;00m \u001b[39mself\u001b[39m\u001b[39m.\u001b[39mstate\u001b[39m.\u001b[39mstopped\n\u001b[1;32m    573\u001b[0m \u001b[39mself\u001b[39m\u001b[39m.\u001b[39mtraining \u001b[39m=\u001b[39m \u001b[39mFalse\u001b[39;00m\n",
      "File \u001b[0;32m~/miniconda3/envs/jump_models/lib/python3.10/site-packages/lightning/pytorch/trainer/trainer.py:975\u001b[0m, in \u001b[0;36mTrainer._run\u001b[0;34m(self, model, ckpt_path)\u001b[0m\n\u001b[1;32m    970\u001b[0m \u001b[39mself\u001b[39m\u001b[39m.\u001b[39m_signal_connector\u001b[39m.\u001b[39mregister_signal_handlers()\n\u001b[1;32m    972\u001b[0m \u001b[39m# ----------------------------\u001b[39;00m\n\u001b[1;32m    973\u001b[0m \u001b[39m# RUN THE TRAINER\u001b[39;00m\n\u001b[1;32m    974\u001b[0m \u001b[39m# ----------------------------\u001b[39;00m\n\u001b[0;32m--> 975\u001b[0m results \u001b[39m=\u001b[39m \u001b[39mself\u001b[39;49m\u001b[39m.\u001b[39;49m_run_stage()\n\u001b[1;32m    977\u001b[0m \u001b[39m# ----------------------------\u001b[39;00m\n\u001b[1;32m    978\u001b[0m \u001b[39m# POST-Training CLEAN UP\u001b[39;00m\n\u001b[1;32m    979\u001b[0m \u001b[39m# ----------------------------\u001b[39;00m\n\u001b[1;32m    980\u001b[0m log\u001b[39m.\u001b[39mdebug(\u001b[39mf\u001b[39m\u001b[39m\"\u001b[39m\u001b[39m{\u001b[39;00m\u001b[39mself\u001b[39m\u001b[39m.\u001b[39m\u001b[39m__class__\u001b[39m\u001b[39m.\u001b[39m\u001b[39m__name__\u001b[39m\u001b[39m}\u001b[39;00m\u001b[39m: trainer tearing down\u001b[39m\u001b[39m\"\u001b[39m)\n",
      "File \u001b[0;32m~/miniconda3/envs/jump_models/lib/python3.10/site-packages/lightning/pytorch/trainer/trainer.py:1018\u001b[0m, in \u001b[0;36mTrainer._run_stage\u001b[0;34m(self)\u001b[0m\n\u001b[1;32m   1016\u001b[0m         \u001b[39mself\u001b[39m\u001b[39m.\u001b[39m_run_sanity_check()\n\u001b[1;32m   1017\u001b[0m     \u001b[39mwith\u001b[39;00m torch\u001b[39m.\u001b[39mautograd\u001b[39m.\u001b[39mset_detect_anomaly(\u001b[39mself\u001b[39m\u001b[39m.\u001b[39m_detect_anomaly):\n\u001b[0;32m-> 1018\u001b[0m         \u001b[39mself\u001b[39;49m\u001b[39m.\u001b[39;49mfit_loop\u001b[39m.\u001b[39;49mrun()\n\u001b[1;32m   1019\u001b[0m     \u001b[39mreturn\u001b[39;00m \u001b[39mNone\u001b[39;00m\n\u001b[1;32m   1020\u001b[0m \u001b[39mraise\u001b[39;00m \u001b[39mRuntimeError\u001b[39;00m(\u001b[39mf\u001b[39m\u001b[39m\"\u001b[39m\u001b[39mUnexpected state \u001b[39m\u001b[39m{\u001b[39;00m\u001b[39mself\u001b[39m\u001b[39m.\u001b[39mstate\u001b[39m}\u001b[39;00m\u001b[39m\"\u001b[39m)\n",
      "File \u001b[0;32m~/miniconda3/envs/jump_models/lib/python3.10/site-packages/lightning/pytorch/loops/fit_loop.py:201\u001b[0m, in \u001b[0;36m_FitLoop.run\u001b[0;34m(self)\u001b[0m\n\u001b[1;32m    199\u001b[0m \u001b[39mtry\u001b[39;00m:\n\u001b[1;32m    200\u001b[0m     \u001b[39mself\u001b[39m\u001b[39m.\u001b[39mon_advance_start()\n\u001b[0;32m--> 201\u001b[0m     \u001b[39mself\u001b[39;49m\u001b[39m.\u001b[39;49madvance()\n\u001b[1;32m    202\u001b[0m     \u001b[39mself\u001b[39m\u001b[39m.\u001b[39mon_advance_end()\n\u001b[1;32m    203\u001b[0m     \u001b[39mself\u001b[39m\u001b[39m.\u001b[39m_restarting \u001b[39m=\u001b[39m \u001b[39mFalse\u001b[39;00m\n",
      "File \u001b[0;32m~/miniconda3/envs/jump_models/lib/python3.10/site-packages/lightning/pytorch/loops/fit_loop.py:354\u001b[0m, in \u001b[0;36m_FitLoop.advance\u001b[0;34m(self)\u001b[0m\n\u001b[1;32m    352\u001b[0m \u001b[39mself\u001b[39m\u001b[39m.\u001b[39m_data_fetcher\u001b[39m.\u001b[39msetup(combined_loader)\n\u001b[1;32m    353\u001b[0m \u001b[39mwith\u001b[39;00m \u001b[39mself\u001b[39m\u001b[39m.\u001b[39mtrainer\u001b[39m.\u001b[39mprofiler\u001b[39m.\u001b[39mprofile(\u001b[39m\"\u001b[39m\u001b[39mrun_training_epoch\u001b[39m\u001b[39m\"\u001b[39m):\n\u001b[0;32m--> 354\u001b[0m     \u001b[39mself\u001b[39;49m\u001b[39m.\u001b[39;49mepoch_loop\u001b[39m.\u001b[39;49mrun(\u001b[39mself\u001b[39;49m\u001b[39m.\u001b[39;49m_data_fetcher)\n",
      "File \u001b[0;32m~/miniconda3/envs/jump_models/lib/python3.10/site-packages/lightning/pytorch/loops/training_epoch_loop.py:133\u001b[0m, in \u001b[0;36m_TrainingEpochLoop.run\u001b[0;34m(self, data_fetcher)\u001b[0m\n\u001b[1;32m    131\u001b[0m \u001b[39mwhile\u001b[39;00m \u001b[39mnot\u001b[39;00m \u001b[39mself\u001b[39m\u001b[39m.\u001b[39mdone:\n\u001b[1;32m    132\u001b[0m     \u001b[39mtry\u001b[39;00m:\n\u001b[0;32m--> 133\u001b[0m         \u001b[39mself\u001b[39;49m\u001b[39m.\u001b[39;49madvance(data_fetcher)\n\u001b[1;32m    134\u001b[0m         \u001b[39mself\u001b[39m\u001b[39m.\u001b[39mon_advance_end()\n\u001b[1;32m    135\u001b[0m         \u001b[39mself\u001b[39m\u001b[39m.\u001b[39m_restarting \u001b[39m=\u001b[39m \u001b[39mFalse\u001b[39;00m\n",
      "File \u001b[0;32m~/miniconda3/envs/jump_models/lib/python3.10/site-packages/lightning/pytorch/loops/training_epoch_loop.py:218\u001b[0m, in \u001b[0;36m_TrainingEpochLoop.advance\u001b[0;34m(self, data_fetcher)\u001b[0m\n\u001b[1;32m    215\u001b[0m \u001b[39mwith\u001b[39;00m trainer\u001b[39m.\u001b[39mprofiler\u001b[39m.\u001b[39mprofile(\u001b[39m\"\u001b[39m\u001b[39mrun_training_batch\u001b[39m\u001b[39m\"\u001b[39m):\n\u001b[1;32m    216\u001b[0m     \u001b[39mif\u001b[39;00m trainer\u001b[39m.\u001b[39mlightning_module\u001b[39m.\u001b[39mautomatic_optimization:\n\u001b[1;32m    217\u001b[0m         \u001b[39m# in automatic optimization, there can only be one optimizer\u001b[39;00m\n\u001b[0;32m--> 218\u001b[0m         batch_output \u001b[39m=\u001b[39m \u001b[39mself\u001b[39;49m\u001b[39m.\u001b[39;49mautomatic_optimization\u001b[39m.\u001b[39;49mrun(trainer\u001b[39m.\u001b[39;49moptimizers[\u001b[39m0\u001b[39;49m], kwargs)\n\u001b[1;32m    219\u001b[0m     \u001b[39melse\u001b[39;00m:\n\u001b[1;32m    220\u001b[0m         batch_output \u001b[39m=\u001b[39m \u001b[39mself\u001b[39m\u001b[39m.\u001b[39mmanual_optimization\u001b[39m.\u001b[39mrun(kwargs)\n",
      "File \u001b[0;32m~/miniconda3/envs/jump_models/lib/python3.10/site-packages/lightning/pytorch/loops/optimization/automatic.py:185\u001b[0m, in \u001b[0;36m_AutomaticOptimization.run\u001b[0;34m(self, optimizer, kwargs)\u001b[0m\n\u001b[1;32m    178\u001b[0m         closure()\n\u001b[1;32m    180\u001b[0m \u001b[39m# ------------------------------\u001b[39;00m\n\u001b[1;32m    181\u001b[0m \u001b[39m# BACKWARD PASS\u001b[39;00m\n\u001b[1;32m    182\u001b[0m \u001b[39m# ------------------------------\u001b[39;00m\n\u001b[1;32m    183\u001b[0m \u001b[39m# gradient update with accumulated gradients\u001b[39;00m\n\u001b[1;32m    184\u001b[0m \u001b[39melse\u001b[39;00m:\n\u001b[0;32m--> 185\u001b[0m     \u001b[39mself\u001b[39;49m\u001b[39m.\u001b[39;49m_optimizer_step(kwargs\u001b[39m.\u001b[39;49mget(\u001b[39m\"\u001b[39;49m\u001b[39mbatch_idx\u001b[39;49m\u001b[39m\"\u001b[39;49m, \u001b[39m0\u001b[39;49m), closure)\n\u001b[1;32m    187\u001b[0m result \u001b[39m=\u001b[39m closure\u001b[39m.\u001b[39mconsume_result()\n\u001b[1;32m    188\u001b[0m \u001b[39mif\u001b[39;00m result\u001b[39m.\u001b[39mloss \u001b[39mis\u001b[39;00m \u001b[39mNone\u001b[39;00m:\n",
      "File \u001b[0;32m~/miniconda3/envs/jump_models/lib/python3.10/site-packages/lightning/pytorch/loops/optimization/automatic.py:260\u001b[0m, in \u001b[0;36m_AutomaticOptimization._optimizer_step\u001b[0;34m(self, batch_idx, train_step_and_backward_closure)\u001b[0m\n\u001b[1;32m    257\u001b[0m     \u001b[39mself\u001b[39m\u001b[39m.\u001b[39moptim_progress\u001b[39m.\u001b[39moptimizer\u001b[39m.\u001b[39mstep\u001b[39m.\u001b[39mincrement_ready()\n\u001b[1;32m    259\u001b[0m \u001b[39m# model hook\u001b[39;00m\n\u001b[0;32m--> 260\u001b[0m call\u001b[39m.\u001b[39;49m_call_lightning_module_hook(\n\u001b[1;32m    261\u001b[0m     trainer,\n\u001b[1;32m    262\u001b[0m     \u001b[39m\"\u001b[39;49m\u001b[39moptimizer_step\u001b[39;49m\u001b[39m\"\u001b[39;49m,\n\u001b[1;32m    263\u001b[0m     trainer\u001b[39m.\u001b[39;49mcurrent_epoch,\n\u001b[1;32m    264\u001b[0m     batch_idx,\n\u001b[1;32m    265\u001b[0m     optimizer,\n\u001b[1;32m    266\u001b[0m     train_step_and_backward_closure,\n\u001b[1;32m    267\u001b[0m )\n\u001b[1;32m    269\u001b[0m \u001b[39mif\u001b[39;00m \u001b[39mnot\u001b[39;00m should_accumulate:\n\u001b[1;32m    270\u001b[0m     \u001b[39mself\u001b[39m\u001b[39m.\u001b[39moptim_progress\u001b[39m.\u001b[39moptimizer\u001b[39m.\u001b[39mstep\u001b[39m.\u001b[39mincrement_completed()\n",
      "File \u001b[0;32m~/miniconda3/envs/jump_models/lib/python3.10/site-packages/lightning/pytorch/trainer/call.py:140\u001b[0m, in \u001b[0;36m_call_lightning_module_hook\u001b[0;34m(trainer, hook_name, pl_module, *args, **kwargs)\u001b[0m\n\u001b[1;32m    137\u001b[0m pl_module\u001b[39m.\u001b[39m_current_fx_name \u001b[39m=\u001b[39m hook_name\n\u001b[1;32m    139\u001b[0m \u001b[39mwith\u001b[39;00m trainer\u001b[39m.\u001b[39mprofiler\u001b[39m.\u001b[39mprofile(\u001b[39mf\u001b[39m\u001b[39m\"\u001b[39m\u001b[39m[LightningModule]\u001b[39m\u001b[39m{\u001b[39;00mpl_module\u001b[39m.\u001b[39m\u001b[39m__class__\u001b[39m\u001b[39m.\u001b[39m\u001b[39m__name__\u001b[39m\u001b[39m}\u001b[39;00m\u001b[39m.\u001b[39m\u001b[39m{\u001b[39;00mhook_name\u001b[39m}\u001b[39;00m\u001b[39m\"\u001b[39m):\n\u001b[0;32m--> 140\u001b[0m     output \u001b[39m=\u001b[39m fn(\u001b[39m*\u001b[39;49margs, \u001b[39m*\u001b[39;49m\u001b[39m*\u001b[39;49mkwargs)\n\u001b[1;32m    142\u001b[0m \u001b[39m# restore current_fx when nested context\u001b[39;00m\n\u001b[1;32m    143\u001b[0m pl_module\u001b[39m.\u001b[39m_current_fx_name \u001b[39m=\u001b[39m prev_fx_name\n",
      "File \u001b[0;32m~/miniconda3/envs/jump_models/lib/python3.10/site-packages/lightning/pytorch/core/module.py:1256\u001b[0m, in \u001b[0;36mLightningModule.optimizer_step\u001b[0;34m(self, epoch, batch_idx, optimizer, optimizer_closure)\u001b[0m\n\u001b[1;32m   1218\u001b[0m \u001b[39mdef\u001b[39;00m \u001b[39moptimizer_step\u001b[39m(\n\u001b[1;32m   1219\u001b[0m     \u001b[39mself\u001b[39m,\n\u001b[1;32m   1220\u001b[0m     epoch: \u001b[39mint\u001b[39m,\n\u001b[0;32m   (...)\u001b[0m\n\u001b[1;32m   1223\u001b[0m     optimizer_closure: Optional[Callable[[], Any]] \u001b[39m=\u001b[39m \u001b[39mNone\u001b[39;00m,\n\u001b[1;32m   1224\u001b[0m ) \u001b[39m-\u001b[39m\u001b[39m>\u001b[39m \u001b[39mNone\u001b[39;00m:\n\u001b[1;32m   1225\u001b[0m \u001b[39m    \u001b[39m\u001b[39mr\u001b[39m\u001b[39m\"\"\"Override this method to adjust the default way the :class:`~lightning.pytorch.trainer.trainer.Trainer`\u001b[39;00m\n\u001b[1;32m   1226\u001b[0m \u001b[39m    calls the optimizer.\u001b[39;00m\n\u001b[1;32m   1227\u001b[0m \n\u001b[0;32m   (...)\u001b[0m\n\u001b[1;32m   1254\u001b[0m \u001b[39m                    pg[\"lr\"] = lr_scale * self.learning_rate\u001b[39;00m\n\u001b[1;32m   1255\u001b[0m \u001b[39m    \"\"\"\u001b[39;00m\n\u001b[0;32m-> 1256\u001b[0m     optimizer\u001b[39m.\u001b[39;49mstep(closure\u001b[39m=\u001b[39;49moptimizer_closure)\n",
      "File \u001b[0;32m~/miniconda3/envs/jump_models/lib/python3.10/site-packages/lightning/pytorch/core/optimizer.py:155\u001b[0m, in \u001b[0;36mLightningOptimizer.step\u001b[0;34m(self, closure, **kwargs)\u001b[0m\n\u001b[1;32m    152\u001b[0m     \u001b[39mraise\u001b[39;00m MisconfigurationException(\u001b[39m\"\u001b[39m\u001b[39mWhen `optimizer.step(closure)` is called, the closure should be callable\u001b[39m\u001b[39m\"\u001b[39m)\n\u001b[1;32m    154\u001b[0m \u001b[39massert\u001b[39;00m \u001b[39mself\u001b[39m\u001b[39m.\u001b[39m_strategy \u001b[39mis\u001b[39;00m \u001b[39mnot\u001b[39;00m \u001b[39mNone\u001b[39;00m\n\u001b[0;32m--> 155\u001b[0m step_output \u001b[39m=\u001b[39m \u001b[39mself\u001b[39;49m\u001b[39m.\u001b[39;49m_strategy\u001b[39m.\u001b[39;49moptimizer_step(\u001b[39mself\u001b[39;49m\u001b[39m.\u001b[39;49m_optimizer, closure, \u001b[39m*\u001b[39;49m\u001b[39m*\u001b[39;49mkwargs)\n\u001b[1;32m    157\u001b[0m \u001b[39mself\u001b[39m\u001b[39m.\u001b[39m_on_after_step()\n\u001b[1;32m    159\u001b[0m \u001b[39mreturn\u001b[39;00m step_output\n",
      "File \u001b[0;32m~/miniconda3/envs/jump_models/lib/python3.10/site-packages/lightning/pytorch/strategies/strategy.py:225\u001b[0m, in \u001b[0;36mStrategy.optimizer_step\u001b[0;34m(self, optimizer, closure, model, **kwargs)\u001b[0m\n\u001b[1;32m    223\u001b[0m \u001b[39m# TODO(fabric): remove assertion once strategy's optimizer_step typing is fixed\u001b[39;00m\n\u001b[1;32m    224\u001b[0m \u001b[39massert\u001b[39;00m \u001b[39misinstance\u001b[39m(model, pl\u001b[39m.\u001b[39mLightningModule)\n\u001b[0;32m--> 225\u001b[0m \u001b[39mreturn\u001b[39;00m \u001b[39mself\u001b[39;49m\u001b[39m.\u001b[39;49mprecision_plugin\u001b[39m.\u001b[39;49moptimizer_step(optimizer, model\u001b[39m=\u001b[39;49mmodel, closure\u001b[39m=\u001b[39;49mclosure, \u001b[39m*\u001b[39;49m\u001b[39m*\u001b[39;49mkwargs)\n",
      "File \u001b[0;32m~/miniconda3/envs/jump_models/lib/python3.10/site-packages/lightning/pytorch/plugins/precision/precision_plugin.py:114\u001b[0m, in \u001b[0;36mPrecisionPlugin.optimizer_step\u001b[0;34m(self, optimizer, model, closure, **kwargs)\u001b[0m\n\u001b[1;32m    112\u001b[0m \u001b[39m\u001b[39m\u001b[39m\"\"\"Hook to run the optimizer step.\"\"\"\u001b[39;00m\n\u001b[1;32m    113\u001b[0m closure \u001b[39m=\u001b[39m partial(\u001b[39mself\u001b[39m\u001b[39m.\u001b[39m_wrap_closure, model, optimizer, closure)\n\u001b[0;32m--> 114\u001b[0m \u001b[39mreturn\u001b[39;00m optimizer\u001b[39m.\u001b[39;49mstep(closure\u001b[39m=\u001b[39;49mclosure, \u001b[39m*\u001b[39;49m\u001b[39m*\u001b[39;49mkwargs)\n",
      "File \u001b[0;32m~/miniconda3/envs/jump_models/lib/python3.10/site-packages/torch/optim/lr_scheduler.py:69\u001b[0m, in \u001b[0;36mLRScheduler.__init__.<locals>.with_counter.<locals>.wrapper\u001b[0;34m(*args, **kwargs)\u001b[0m\n\u001b[1;32m     67\u001b[0m instance\u001b[39m.\u001b[39m_step_count \u001b[39m+\u001b[39m\u001b[39m=\u001b[39m \u001b[39m1\u001b[39m\n\u001b[1;32m     68\u001b[0m wrapped \u001b[39m=\u001b[39m func\u001b[39m.\u001b[39m\u001b[39m__get__\u001b[39m(instance, \u001b[39mcls\u001b[39m)\n\u001b[0;32m---> 69\u001b[0m \u001b[39mreturn\u001b[39;00m wrapped(\u001b[39m*\u001b[39;49margs, \u001b[39m*\u001b[39;49m\u001b[39m*\u001b[39;49mkwargs)\n",
      "File \u001b[0;32m~/miniconda3/envs/jump_models/lib/python3.10/site-packages/torch/optim/optimizer.py:280\u001b[0m, in \u001b[0;36mOptimizer.profile_hook_step.<locals>.wrapper\u001b[0;34m(*args, **kwargs)\u001b[0m\n\u001b[1;32m    276\u001b[0m         \u001b[39melse\u001b[39;00m:\n\u001b[1;32m    277\u001b[0m             \u001b[39mraise\u001b[39;00m \u001b[39mRuntimeError\u001b[39;00m(\u001b[39mf\u001b[39m\u001b[39m\"\u001b[39m\u001b[39m{\u001b[39;00mfunc\u001b[39m}\u001b[39;00m\u001b[39m must return None or a tuple of (new_args, new_kwargs),\u001b[39m\u001b[39m\"\u001b[39m\n\u001b[1;32m    278\u001b[0m                                \u001b[39mf\u001b[39m\u001b[39m\"\u001b[39m\u001b[39mbut got \u001b[39m\u001b[39m{\u001b[39;00mresult\u001b[39m}\u001b[39;00m\u001b[39m.\u001b[39m\u001b[39m\"\u001b[39m)\n\u001b[0;32m--> 280\u001b[0m out \u001b[39m=\u001b[39m func(\u001b[39m*\u001b[39;49margs, \u001b[39m*\u001b[39;49m\u001b[39m*\u001b[39;49mkwargs)\n\u001b[1;32m    281\u001b[0m \u001b[39mself\u001b[39m\u001b[39m.\u001b[39m_optimizer_step_code()\n\u001b[1;32m    283\u001b[0m \u001b[39m# call optimizer step post hooks\u001b[39;00m\n",
      "File \u001b[0;32m~/miniconda3/envs/jump_models/lib/python3.10/site-packages/torch/optim/optimizer.py:33\u001b[0m, in \u001b[0;36m_use_grad_for_differentiable.<locals>._use_grad\u001b[0;34m(self, *args, **kwargs)\u001b[0m\n\u001b[1;32m     31\u001b[0m \u001b[39mtry\u001b[39;00m:\n\u001b[1;32m     32\u001b[0m     torch\u001b[39m.\u001b[39mset_grad_enabled(\u001b[39mself\u001b[39m\u001b[39m.\u001b[39mdefaults[\u001b[39m'\u001b[39m\u001b[39mdifferentiable\u001b[39m\u001b[39m'\u001b[39m])\n\u001b[0;32m---> 33\u001b[0m     ret \u001b[39m=\u001b[39m func(\u001b[39mself\u001b[39;49m, \u001b[39m*\u001b[39;49margs, \u001b[39m*\u001b[39;49m\u001b[39m*\u001b[39;49mkwargs)\n\u001b[1;32m     34\u001b[0m \u001b[39mfinally\u001b[39;00m:\n\u001b[1;32m     35\u001b[0m     torch\u001b[39m.\u001b[39mset_grad_enabled(prev_grad)\n",
      "File \u001b[0;32m~/miniconda3/envs/jump_models/lib/python3.10/site-packages/torch/optim/adam.py:121\u001b[0m, in \u001b[0;36mAdam.step\u001b[0;34m(self, closure)\u001b[0m\n\u001b[1;32m    119\u001b[0m \u001b[39mif\u001b[39;00m closure \u001b[39mis\u001b[39;00m \u001b[39mnot\u001b[39;00m \u001b[39mNone\u001b[39;00m:\n\u001b[1;32m    120\u001b[0m     \u001b[39mwith\u001b[39;00m torch\u001b[39m.\u001b[39menable_grad():\n\u001b[0;32m--> 121\u001b[0m         loss \u001b[39m=\u001b[39m closure()\n\u001b[1;32m    123\u001b[0m \u001b[39mfor\u001b[39;00m group \u001b[39min\u001b[39;00m \u001b[39mself\u001b[39m\u001b[39m.\u001b[39mparam_groups:\n\u001b[1;32m    124\u001b[0m     params_with_grad \u001b[39m=\u001b[39m []\n",
      "File \u001b[0;32m~/miniconda3/envs/jump_models/lib/python3.10/site-packages/lightning/pytorch/plugins/precision/precision_plugin.py:101\u001b[0m, in \u001b[0;36mPrecisionPlugin._wrap_closure\u001b[0;34m(self, model, optimizer, closure)\u001b[0m\n\u001b[1;32m     89\u001b[0m \u001b[39mdef\u001b[39;00m \u001b[39m_wrap_closure\u001b[39m(\n\u001b[1;32m     90\u001b[0m     \u001b[39mself\u001b[39m,\n\u001b[1;32m     91\u001b[0m     model: \u001b[39m\"\u001b[39m\u001b[39mpl.LightningModule\u001b[39m\u001b[39m\"\u001b[39m,\n\u001b[1;32m     92\u001b[0m     optimizer: Optimizer,\n\u001b[1;32m     93\u001b[0m     closure: Callable[[], Any],\n\u001b[1;32m     94\u001b[0m ) \u001b[39m-\u001b[39m\u001b[39m>\u001b[39m Any:\n\u001b[1;32m     95\u001b[0m \u001b[39m    \u001b[39m\u001b[39m\"\"\"This double-closure allows makes sure the ``closure`` is executed before the\u001b[39;00m\n\u001b[1;32m     96\u001b[0m \u001b[39m    ``on_before_optimizer_step`` hook is called.\u001b[39;00m\n\u001b[1;32m     97\u001b[0m \n\u001b[1;32m     98\u001b[0m \u001b[39m    The closure (generally) runs ``backward`` so this allows inspecting gradients in this hook. This structure is\u001b[39;00m\n\u001b[1;32m     99\u001b[0m \u001b[39m    consistent with the ``PrecisionPlugin`` subclasses that cannot pass ``optimizer.step(closure)`` directly.\u001b[39;00m\n\u001b[1;32m    100\u001b[0m \u001b[39m    \"\"\"\u001b[39;00m\n\u001b[0;32m--> 101\u001b[0m     closure_result \u001b[39m=\u001b[39m closure()\n\u001b[1;32m    102\u001b[0m     \u001b[39mself\u001b[39m\u001b[39m.\u001b[39m_after_closure(model, optimizer)\n\u001b[1;32m    103\u001b[0m     \u001b[39mreturn\u001b[39;00m closure_result\n",
      "File \u001b[0;32m~/miniconda3/envs/jump_models/lib/python3.10/site-packages/lightning/pytorch/loops/optimization/automatic.py:140\u001b[0m, in \u001b[0;36mClosure.__call__\u001b[0;34m(self, *args, **kwargs)\u001b[0m\n\u001b[1;32m    139\u001b[0m \u001b[39mdef\u001b[39;00m \u001b[39m__call__\u001b[39m(\u001b[39mself\u001b[39m, \u001b[39m*\u001b[39margs: Any, \u001b[39m*\u001b[39m\u001b[39m*\u001b[39mkwargs: Any) \u001b[39m-\u001b[39m\u001b[39m>\u001b[39m Optional[Tensor]:\n\u001b[0;32m--> 140\u001b[0m     \u001b[39mself\u001b[39m\u001b[39m.\u001b[39m_result \u001b[39m=\u001b[39m \u001b[39mself\u001b[39;49m\u001b[39m.\u001b[39;49mclosure(\u001b[39m*\u001b[39;49margs, \u001b[39m*\u001b[39;49m\u001b[39m*\u001b[39;49mkwargs)\n\u001b[1;32m    141\u001b[0m     \u001b[39mreturn\u001b[39;00m \u001b[39mself\u001b[39m\u001b[39m.\u001b[39m_result\u001b[39m.\u001b[39mloss\n",
      "File \u001b[0;32m~/miniconda3/envs/jump_models/lib/python3.10/site-packages/lightning/pytorch/loops/optimization/automatic.py:135\u001b[0m, in \u001b[0;36mClosure.closure\u001b[0;34m(self, *args, **kwargs)\u001b[0m\n\u001b[1;32m    132\u001b[0m     \u001b[39mself\u001b[39m\u001b[39m.\u001b[39m_zero_grad_fn()\n\u001b[1;32m    134\u001b[0m \u001b[39mif\u001b[39;00m \u001b[39mself\u001b[39m\u001b[39m.\u001b[39m_backward_fn \u001b[39mis\u001b[39;00m \u001b[39mnot\u001b[39;00m \u001b[39mNone\u001b[39;00m \u001b[39mand\u001b[39;00m step_output\u001b[39m.\u001b[39mclosure_loss \u001b[39mis\u001b[39;00m \u001b[39mnot\u001b[39;00m \u001b[39mNone\u001b[39;00m:\n\u001b[0;32m--> 135\u001b[0m     \u001b[39mself\u001b[39;49m\u001b[39m.\u001b[39;49m_backward_fn(step_output\u001b[39m.\u001b[39;49mclosure_loss)\n\u001b[1;32m    137\u001b[0m \u001b[39mreturn\u001b[39;00m step_output\n",
      "File \u001b[0;32m~/miniconda3/envs/jump_models/lib/python3.10/site-packages/lightning/pytorch/loops/optimization/automatic.py:232\u001b[0m, in \u001b[0;36m_AutomaticOptimization._make_backward_fn.<locals>.backward_fn\u001b[0;34m(loss)\u001b[0m\n\u001b[1;32m    231\u001b[0m \u001b[39mdef\u001b[39;00m \u001b[39mbackward_fn\u001b[39m(loss: Tensor) \u001b[39m-\u001b[39m\u001b[39m>\u001b[39m \u001b[39mNone\u001b[39;00m:\n\u001b[0;32m--> 232\u001b[0m     call\u001b[39m.\u001b[39;49m_call_strategy_hook(\u001b[39mself\u001b[39;49m\u001b[39m.\u001b[39;49mtrainer, \u001b[39m\"\u001b[39;49m\u001b[39mbackward\u001b[39;49m\u001b[39m\"\u001b[39;49m, loss, optimizer)\n",
      "File \u001b[0;32m~/miniconda3/envs/jump_models/lib/python3.10/site-packages/lightning/pytorch/trainer/call.py:287\u001b[0m, in \u001b[0;36m_call_strategy_hook\u001b[0;34m(trainer, hook_name, *args, **kwargs)\u001b[0m\n\u001b[1;32m    284\u001b[0m     \u001b[39mreturn\u001b[39;00m \u001b[39mNone\u001b[39;00m\n\u001b[1;32m    286\u001b[0m \u001b[39mwith\u001b[39;00m trainer\u001b[39m.\u001b[39mprofiler\u001b[39m.\u001b[39mprofile(\u001b[39mf\u001b[39m\u001b[39m\"\u001b[39m\u001b[39m[Strategy]\u001b[39m\u001b[39m{\u001b[39;00mtrainer\u001b[39m.\u001b[39mstrategy\u001b[39m.\u001b[39m\u001b[39m__class__\u001b[39m\u001b[39m.\u001b[39m\u001b[39m__name__\u001b[39m\u001b[39m}\u001b[39;00m\u001b[39m.\u001b[39m\u001b[39m{\u001b[39;00mhook_name\u001b[39m}\u001b[39;00m\u001b[39m\"\u001b[39m):\n\u001b[0;32m--> 287\u001b[0m     output \u001b[39m=\u001b[39m fn(\u001b[39m*\u001b[39;49margs, \u001b[39m*\u001b[39;49m\u001b[39m*\u001b[39;49mkwargs)\n\u001b[1;32m    289\u001b[0m \u001b[39m# restore current_fx when nested context\u001b[39;00m\n\u001b[1;32m    290\u001b[0m pl_module\u001b[39m.\u001b[39m_current_fx_name \u001b[39m=\u001b[39m prev_fx_name\n",
      "File \u001b[0;32m~/miniconda3/envs/jump_models/lib/python3.10/site-packages/lightning/pytorch/strategies/strategy.py:200\u001b[0m, in \u001b[0;36mStrategy.backward\u001b[0;34m(self, closure_loss, optimizer, *args, **kwargs)\u001b[0m\n\u001b[1;32m    197\u001b[0m \u001b[39massert\u001b[39;00m \u001b[39mself\u001b[39m\u001b[39m.\u001b[39mlightning_module \u001b[39mis\u001b[39;00m \u001b[39mnot\u001b[39;00m \u001b[39mNone\u001b[39;00m\n\u001b[1;32m    198\u001b[0m closure_loss \u001b[39m=\u001b[39m \u001b[39mself\u001b[39m\u001b[39m.\u001b[39mprecision_plugin\u001b[39m.\u001b[39mpre_backward(closure_loss, \u001b[39mself\u001b[39m\u001b[39m.\u001b[39mlightning_module)\n\u001b[0;32m--> 200\u001b[0m \u001b[39mself\u001b[39;49m\u001b[39m.\u001b[39;49mprecision_plugin\u001b[39m.\u001b[39;49mbackward(closure_loss, \u001b[39mself\u001b[39;49m\u001b[39m.\u001b[39;49mlightning_module, optimizer, \u001b[39m*\u001b[39;49margs, \u001b[39m*\u001b[39;49m\u001b[39m*\u001b[39;49mkwargs)\n\u001b[1;32m    202\u001b[0m closure_loss \u001b[39m=\u001b[39m \u001b[39mself\u001b[39m\u001b[39m.\u001b[39mprecision_plugin\u001b[39m.\u001b[39mpost_backward(closure_loss, \u001b[39mself\u001b[39m\u001b[39m.\u001b[39mlightning_module)\n\u001b[1;32m    203\u001b[0m \u001b[39mself\u001b[39m\u001b[39m.\u001b[39mpost_backward(closure_loss)\n",
      "File \u001b[0;32m~/miniconda3/envs/jump_models/lib/python3.10/site-packages/lightning/pytorch/plugins/precision/precision_plugin.py:67\u001b[0m, in \u001b[0;36mPrecisionPlugin.backward\u001b[0;34m(self, tensor, model, optimizer, *args, **kwargs)\u001b[0m\n\u001b[1;32m     49\u001b[0m \u001b[39mdef\u001b[39;00m \u001b[39mbackward\u001b[39m(  \u001b[39m# type: ignore[override]\u001b[39;00m\n\u001b[1;32m     50\u001b[0m     \u001b[39mself\u001b[39m,\n\u001b[1;32m     51\u001b[0m     tensor: Tensor,\n\u001b[0;32m   (...)\u001b[0m\n\u001b[1;32m     55\u001b[0m     \u001b[39m*\u001b[39m\u001b[39m*\u001b[39mkwargs: Any,\n\u001b[1;32m     56\u001b[0m ) \u001b[39m-\u001b[39m\u001b[39m>\u001b[39m \u001b[39mNone\u001b[39;00m:\n\u001b[1;32m     57\u001b[0m \u001b[39m    \u001b[39m\u001b[39mr\u001b[39m\u001b[39m\"\"\"Performs the actual backpropagation.\u001b[39;00m\n\u001b[1;32m     58\u001b[0m \n\u001b[1;32m     59\u001b[0m \u001b[39m    Args:\u001b[39;00m\n\u001b[0;32m   (...)\u001b[0m\n\u001b[1;32m     65\u001b[0m \u001b[39m        \\**kwargs: Keyword arguments for the same purpose as ``*args``.\u001b[39;00m\n\u001b[1;32m     66\u001b[0m \u001b[39m    \"\"\"\u001b[39;00m\n\u001b[0;32m---> 67\u001b[0m     model\u001b[39m.\u001b[39;49mbackward(tensor, \u001b[39m*\u001b[39;49margs, \u001b[39m*\u001b[39;49m\u001b[39m*\u001b[39;49mkwargs)\n",
      "File \u001b[0;32m~/miniconda3/envs/jump_models/lib/python3.10/site-packages/lightning/pytorch/core/module.py:1046\u001b[0m, in \u001b[0;36mLightningModule.backward\u001b[0;34m(self, loss, *args, **kwargs)\u001b[0m\n\u001b[1;32m   1044\u001b[0m     \u001b[39mself\u001b[39m\u001b[39m.\u001b[39m_fabric\u001b[39m.\u001b[39mbackward(loss, \u001b[39m*\u001b[39margs, \u001b[39m*\u001b[39m\u001b[39m*\u001b[39mkwargs)\n\u001b[1;32m   1045\u001b[0m \u001b[39melse\u001b[39;00m:\n\u001b[0;32m-> 1046\u001b[0m     loss\u001b[39m.\u001b[39;49mbackward(\u001b[39m*\u001b[39;49margs, \u001b[39m*\u001b[39;49m\u001b[39m*\u001b[39;49mkwargs)\n",
      "File \u001b[0;32m~/miniconda3/envs/jump_models/lib/python3.10/site-packages/torch/_tensor.py:487\u001b[0m, in \u001b[0;36mTensor.backward\u001b[0;34m(self, gradient, retain_graph, create_graph, inputs)\u001b[0m\n\u001b[1;32m    477\u001b[0m \u001b[39mif\u001b[39;00m has_torch_function_unary(\u001b[39mself\u001b[39m):\n\u001b[1;32m    478\u001b[0m     \u001b[39mreturn\u001b[39;00m handle_torch_function(\n\u001b[1;32m    479\u001b[0m         Tensor\u001b[39m.\u001b[39mbackward,\n\u001b[1;32m    480\u001b[0m         (\u001b[39mself\u001b[39m,),\n\u001b[0;32m   (...)\u001b[0m\n\u001b[1;32m    485\u001b[0m         inputs\u001b[39m=\u001b[39minputs,\n\u001b[1;32m    486\u001b[0m     )\n\u001b[0;32m--> 487\u001b[0m torch\u001b[39m.\u001b[39;49mautograd\u001b[39m.\u001b[39;49mbackward(\n\u001b[1;32m    488\u001b[0m     \u001b[39mself\u001b[39;49m, gradient, retain_graph, create_graph, inputs\u001b[39m=\u001b[39;49minputs\n\u001b[1;32m    489\u001b[0m )\n",
      "File \u001b[0;32m~/miniconda3/envs/jump_models/lib/python3.10/site-packages/torch/autograd/__init__.py:200\u001b[0m, in \u001b[0;36mbackward\u001b[0;34m(tensors, grad_tensors, retain_graph, create_graph, grad_variables, inputs)\u001b[0m\n\u001b[1;32m    195\u001b[0m     retain_graph \u001b[39m=\u001b[39m create_graph\n\u001b[1;32m    197\u001b[0m \u001b[39m# The reason we repeat same the comment below is that\u001b[39;00m\n\u001b[1;32m    198\u001b[0m \u001b[39m# some Python versions print out the first line of a multi-line function\u001b[39;00m\n\u001b[1;32m    199\u001b[0m \u001b[39m# calls in the traceback and some print out the last line\u001b[39;00m\n\u001b[0;32m--> 200\u001b[0m Variable\u001b[39m.\u001b[39;49m_execution_engine\u001b[39m.\u001b[39;49mrun_backward(  \u001b[39m# Calls into the C++ engine to run the backward pass\u001b[39;49;00m\n\u001b[1;32m    201\u001b[0m     tensors, grad_tensors_, retain_graph, create_graph, inputs,\n\u001b[1;32m    202\u001b[0m     allow_unreachable\u001b[39m=\u001b[39;49m\u001b[39mTrue\u001b[39;49;00m, accumulate_grad\u001b[39m=\u001b[39;49m\u001b[39mTrue\u001b[39;49;00m)\n",
      "\u001b[0;31mRuntimeError\u001b[0m: Found dtype Double but expected Float"
     ]
    }
   ],
   "source": [
    "evaluator.finetune()"
   ]
  },
  {
   "cell_type": "code",
   "execution_count": 24,
   "metadata": {},
   "outputs": [
    {
     "name": "stderr",
     "output_type": "stream",
     "text": [
      "You are using a CUDA device ('NVIDIA GeForce RTX 3070 Laptop GPU') that has Tensor Cores. To properly utilize them, you should set `torch.set_float32_matmul_precision('medium' | 'high')` which will trade-off precision for performance. For more details, read https://pytorch.org/docs/stable/generated/torch.set_float32_matmul_precision.html#torch.set_float32_matmul_precision\n",
      "LOCAL_RANK: 0 - CUDA_VISIBLE_DEVICES: [0]\n"
     ]
    },
    {
     "data": {
      "application/vnd.jupyter.widget-view+json": {
       "model_id": "adef2120b99149b49b07416a4983bf5b",
       "version_major": 2,
       "version_minor": 0
      },
      "text/plain": [
       "Testing: 0it [00:00, ?it/s]"
      ]
     },
     "metadata": {},
     "output_type": "display_data"
    },
    {
     "data": {
      "text/html": [
       "<pre style=\"white-space:pre;overflow-x:auto;line-height:normal;font-family:Menlo,'DejaVu Sans Mono',consolas,'Courier New',monospace\">┏━━━━━━━━━━━━━━━━━━━━━━━━━━━┳━━━━━━━━━━━━━━━━━━━━━━━━━━━┓\n",
       "┃<span style=\"font-weight: bold\">        Test metric        </span>┃<span style=\"font-weight: bold\">       DataLoader 0        </span>┃\n",
       "┡━━━━━━━━━━━━━━━━━━━━━━━━━━━╇━━━━━━━━━━━━━━━━━━━━━━━━━━━┩\n",
       "│<span style=\"color: #008080; text-decoration-color: #008080\">         test/loss         </span>│<span style=\"color: #800080; text-decoration-color: #800080\">       -693314.5625        </span>│\n",
       "│<span style=\"color: #008080; text-decoration-color: #008080\">         test/rmse         </span>│<span style=\"color: #800080; text-decoration-color: #800080\">       488836.53125        </span>│\n",
       "│<span style=\"color: #008080; text-decoration-color: #008080\">  train/MeanAbsoluteError  </span>│<span style=\"color: #800080; text-decoration-color: #800080\">        433316.9375        </span>│\n",
       "│<span style=\"color: #008080; text-decoration-color: #008080\">       train/R2Score       </span>│<span style=\"color: #800080; text-decoration-color: #800080\">      -207987245056.0      </span>│\n",
       "└───────────────────────────┴───────────────────────────┘\n",
       "</pre>\n"
      ],
      "text/plain": [
       "┏━━━━━━━━━━━━━━━━━━━━━━━━━━━┳━━━━━━━━━━━━━━━━━━━━━━━━━━━┓\n",
       "┃\u001b[1m \u001b[0m\u001b[1m       Test metric       \u001b[0m\u001b[1m \u001b[0m┃\u001b[1m \u001b[0m\u001b[1m      DataLoader 0       \u001b[0m\u001b[1m \u001b[0m┃\n",
       "┡━━━━━━━━━━━━━━━━━━━━━━━━━━━╇━━━━━━━━━━━━━━━━━━━━━━━━━━━┩\n",
       "│\u001b[36m \u001b[0m\u001b[36m        test/loss        \u001b[0m\u001b[36m \u001b[0m│\u001b[35m \u001b[0m\u001b[35m      -693314.5625       \u001b[0m\u001b[35m \u001b[0m│\n",
       "│\u001b[36m \u001b[0m\u001b[36m        test/rmse        \u001b[0m\u001b[36m \u001b[0m│\u001b[35m \u001b[0m\u001b[35m      488836.53125       \u001b[0m\u001b[35m \u001b[0m│\n",
       "│\u001b[36m \u001b[0m\u001b[36m train/MeanAbsoluteError \u001b[0m\u001b[36m \u001b[0m│\u001b[35m \u001b[0m\u001b[35m       433316.9375       \u001b[0m\u001b[35m \u001b[0m│\n",
       "│\u001b[36m \u001b[0m\u001b[36m      train/R2Score      \u001b[0m\u001b[36m \u001b[0m│\u001b[35m \u001b[0m\u001b[35m     -207987245056.0     \u001b[0m\u001b[35m \u001b[0m│\n",
       "└───────────────────────────┴───────────────────────────┘\n"
      ]
     },
     "metadata": {},
     "output_type": "display_data"
    }
   ],
   "source": [
    "evaluator.evaluate()"
   ]
  },
  {
   "cell_type": "code",
   "execution_count": 31,
   "metadata": {},
   "outputs": [
    {
     "name": "stderr",
     "output_type": "stream",
     "text": [
      "You are using a CUDA device ('NVIDIA GeForce RTX 3070 Laptop GPU') that has Tensor Cores. To properly utilize them, you should set `torch.set_float32_matmul_precision('medium' | 'high')` which will trade-off precision for performance. For more details, read https://pytorch.org/docs/stable/generated/torch.set_float32_matmul_precision.html#torch.set_float32_matmul_precision\n",
      "/home/gwatk/miniconda3/envs/jump_models/lib/python3.10/site-packages/lightning/pytorch/callbacks/model_checkpoint.py:615: UserWarning: Checkpoint directory /mnt/2547d4d7-6732-4154-b0e1-17b0c1e0c565/Document-2/Projet2/Stage/workspace/jump_models/lightning_logs/version_26/checkpoints exists and is not empty.\n",
      "  rank_zero_warn(f\"Checkpoint directory {dirpath} exists and is not empty.\")\n",
      "LOCAL_RANK: 0 - CUDA_VISIBLE_DEVICES: [0]\n"
     ]
    },
    {
     "data": {
      "text/html": [
       "<pre style=\"white-space:pre;overflow-x:auto;line-height:normal;font-family:Menlo,'DejaVu Sans Mono',consolas,'Courier New',monospace\">┏━━━━┳━━━━━━━━━━━━━━━━━━━━━┳━━━━━━━━━━━━━━━━━━━━━━━━━━━━━┳━━━━━━━━┳━━━━━━━━━━━┳━━━━━━━━━━━┓\n",
       "┃<span style=\"color: #800080; text-decoration-color: #800080; font-weight: bold\">    </span>┃<span style=\"color: #800080; text-decoration-color: #800080; font-weight: bold\"> Name                </span>┃<span style=\"color: #800080; text-decoration-color: #800080; font-weight: bold\"> Type                        </span>┃<span style=\"color: #800080; text-decoration-color: #800080; font-weight: bold\"> Params </span>┃<span style=\"color: #800080; text-decoration-color: #800080; font-weight: bold\">  In sizes </span>┃<span style=\"color: #800080; text-decoration-color: #800080; font-weight: bold\"> Out sizes </span>┃\n",
       "┡━━━━╇━━━━━━━━━━━━━━━━━━━━━╇━━━━━━━━━━━━━━━━━━━━━━━━━━━━━╇━━━━━━━━╇━━━━━━━━━━━╇━━━━━━━━━━━┩\n",
       "│<span style=\"color: #7f7f7f; text-decoration-color: #7f7f7f\"> 0  </span>│ molecule_encoder    │ GINPretrainedWithLinearHead │  1.9 M │<span style=\"color: #c0c0c0; text-decoration-color: #c0c0c0\">         ? </span>│<span style=\"color: #c0c0c0; text-decoration-color: #c0c0c0\"> [64, 256] </span>│\n",
       "│<span style=\"color: #7f7f7f; text-decoration-color: #7f7f7f\"> 1  </span>│ head                │ Linear                      │    257 │<span style=\"color: #c0c0c0; text-decoration-color: #c0c0c0\"> [64, 256] </span>│<span style=\"color: #c0c0c0; text-decoration-color: #c0c0c0\">   [64, 1] </span>│\n",
       "│<span style=\"color: #7f7f7f; text-decoration-color: #7f7f7f\"> 2  </span>│ model               │ Sequential                  │  1.9 M │<span style=\"color: #c0c0c0; text-decoration-color: #c0c0c0\">         ? </span>│<span style=\"color: #c0c0c0; text-decoration-color: #c0c0c0\">   [64, 1] </span>│\n",
       "│<span style=\"color: #7f7f7f; text-decoration-color: #7f7f7f\"> 3  </span>│ criterion           │ BCEWithLogitsLoss           │      0 │<span style=\"color: #c0c0c0; text-decoration-color: #c0c0c0\">         ? </span>│<span style=\"color: #c0c0c0; text-decoration-color: #c0c0c0\">         ? </span>│\n",
       "│<span style=\"color: #7f7f7f; text-decoration-color: #7f7f7f\"> 4  </span>│ train_loss          │ MeanMetric                  │      0 │<span style=\"color: #c0c0c0; text-decoration-color: #c0c0c0\">         ? </span>│<span style=\"color: #c0c0c0; text-decoration-color: #c0c0c0\">         ? </span>│\n",
       "│<span style=\"color: #7f7f7f; text-decoration-color: #7f7f7f\"> 5  </span>│ val_loss            │ MeanMetric                  │      0 │<span style=\"color: #c0c0c0; text-decoration-color: #c0c0c0\">         ? </span>│<span style=\"color: #c0c0c0; text-decoration-color: #c0c0c0\">         ? </span>│\n",
       "│<span style=\"color: #7f7f7f; text-decoration-color: #7f7f7f\"> 6  </span>│ test_loss           │ MeanMetric                  │      0 │<span style=\"color: #c0c0c0; text-decoration-color: #c0c0c0\">         ? </span>│<span style=\"color: #c0c0c0; text-decoration-color: #c0c0c0\">         ? </span>│\n",
       "│<span style=\"color: #7f7f7f; text-decoration-color: #7f7f7f\"> 7  </span>│ train_metric        │ BinaryAUROC                 │      0 │<span style=\"color: #c0c0c0; text-decoration-color: #c0c0c0\">         ? </span>│<span style=\"color: #c0c0c0; text-decoration-color: #c0c0c0\">         ? </span>│\n",
       "│<span style=\"color: #7f7f7f; text-decoration-color: #7f7f7f\"> 8  </span>│ val_metric          │ BinaryAUROC                 │      0 │<span style=\"color: #c0c0c0; text-decoration-color: #c0c0c0\">         ? </span>│<span style=\"color: #c0c0c0; text-decoration-color: #c0c0c0\">         ? </span>│\n",
       "│<span style=\"color: #7f7f7f; text-decoration-color: #7f7f7f\"> 9  </span>│ test_metric         │ BinaryAUROC                 │      0 │<span style=\"color: #c0c0c0; text-decoration-color: #c0c0c0\">         ? </span>│<span style=\"color: #c0c0c0; text-decoration-color: #c0c0c0\">         ? </span>│\n",
       "│<span style=\"color: #7f7f7f; text-decoration-color: #7f7f7f\"> 10 </span>│ val_metric_best     │ MaxMetric                   │      0 │<span style=\"color: #c0c0c0; text-decoration-color: #c0c0c0\">         ? </span>│<span style=\"color: #c0c0c0; text-decoration-color: #c0c0c0\">         ? </span>│\n",
       "│<span style=\"color: #7f7f7f; text-decoration-color: #7f7f7f\"> 11 </span>│ train_other_metrics │ MetricCollection            │      0 │<span style=\"color: #c0c0c0; text-decoration-color: #c0c0c0\">         ? </span>│<span style=\"color: #c0c0c0; text-decoration-color: #c0c0c0\">         ? </span>│\n",
       "│<span style=\"color: #7f7f7f; text-decoration-color: #7f7f7f\"> 12 </span>│ val_other_metrics   │ MetricCollection            │      0 │<span style=\"color: #c0c0c0; text-decoration-color: #c0c0c0\">         ? </span>│<span style=\"color: #c0c0c0; text-decoration-color: #c0c0c0\">         ? </span>│\n",
       "│<span style=\"color: #7f7f7f; text-decoration-color: #7f7f7f\"> 13 </span>│ test_other_metrics  │ MetricCollection            │      0 │<span style=\"color: #c0c0c0; text-decoration-color: #c0c0c0\">         ? </span>│<span style=\"color: #c0c0c0; text-decoration-color: #c0c0c0\">         ? </span>│\n",
       "│<span style=\"color: #7f7f7f; text-decoration-color: #7f7f7f\"> 14 </span>│ train_plot_metrics  │ MetricCollection            │      0 │<span style=\"color: #c0c0c0; text-decoration-color: #c0c0c0\">         ? </span>│<span style=\"color: #c0c0c0; text-decoration-color: #c0c0c0\">         ? </span>│\n",
       "│<span style=\"color: #7f7f7f; text-decoration-color: #7f7f7f\"> 15 </span>│ val_plot_metrics    │ MetricCollection            │      0 │<span style=\"color: #c0c0c0; text-decoration-color: #c0c0c0\">         ? </span>│<span style=\"color: #c0c0c0; text-decoration-color: #c0c0c0\">         ? </span>│\n",
       "│<span style=\"color: #7f7f7f; text-decoration-color: #7f7f7f\"> 16 </span>│ test_plot_metrics   │ MetricCollection            │      0 │<span style=\"color: #c0c0c0; text-decoration-color: #c0c0c0\">         ? </span>│<span style=\"color: #c0c0c0; text-decoration-color: #c0c0c0\">         ? </span>│\n",
       "└────┴─────────────────────┴─────────────────────────────┴────────┴───────────┴───────────┘\n",
       "</pre>\n"
      ],
      "text/plain": [
       "┏━━━━┳━━━━━━━━━━━━━━━━━━━━━┳━━━━━━━━━━━━━━━━━━━━━━━━━━━━━┳━━━━━━━━┳━━━━━━━━━━━┳━━━━━━━━━━━┓\n",
       "┃\u001b[1;35m \u001b[0m\u001b[1;35m  \u001b[0m\u001b[1;35m \u001b[0m┃\u001b[1;35m \u001b[0m\u001b[1;35mName               \u001b[0m\u001b[1;35m \u001b[0m┃\u001b[1;35m \u001b[0m\u001b[1;35mType                       \u001b[0m\u001b[1;35m \u001b[0m┃\u001b[1;35m \u001b[0m\u001b[1;35mParams\u001b[0m\u001b[1;35m \u001b[0m┃\u001b[1;35m \u001b[0m\u001b[1;35m In sizes\u001b[0m\u001b[1;35m \u001b[0m┃\u001b[1;35m \u001b[0m\u001b[1;35mOut sizes\u001b[0m\u001b[1;35m \u001b[0m┃\n",
       "┡━━━━╇━━━━━━━━━━━━━━━━━━━━━╇━━━━━━━━━━━━━━━━━━━━━━━━━━━━━╇━━━━━━━━╇━━━━━━━━━━━╇━━━━━━━━━━━┩\n",
       "│\u001b[2m \u001b[0m\u001b[2m0 \u001b[0m\u001b[2m \u001b[0m│ molecule_encoder    │ GINPretrainedWithLinearHead │  1.9 M │\u001b[37m \u001b[0m\u001b[37m        ?\u001b[0m\u001b[37m \u001b[0m│\u001b[37m \u001b[0m\u001b[37m[64, 256]\u001b[0m\u001b[37m \u001b[0m│\n",
       "│\u001b[2m \u001b[0m\u001b[2m1 \u001b[0m\u001b[2m \u001b[0m│ head                │ Linear                      │    257 │\u001b[37m \u001b[0m\u001b[37m[64, 256]\u001b[0m\u001b[37m \u001b[0m│\u001b[37m \u001b[0m\u001b[37m  [64, 1]\u001b[0m\u001b[37m \u001b[0m│\n",
       "│\u001b[2m \u001b[0m\u001b[2m2 \u001b[0m\u001b[2m \u001b[0m│ model               │ Sequential                  │  1.9 M │\u001b[37m \u001b[0m\u001b[37m        ?\u001b[0m\u001b[37m \u001b[0m│\u001b[37m \u001b[0m\u001b[37m  [64, 1]\u001b[0m\u001b[37m \u001b[0m│\n",
       "│\u001b[2m \u001b[0m\u001b[2m3 \u001b[0m\u001b[2m \u001b[0m│ criterion           │ BCEWithLogitsLoss           │      0 │\u001b[37m \u001b[0m\u001b[37m        ?\u001b[0m\u001b[37m \u001b[0m│\u001b[37m \u001b[0m\u001b[37m        ?\u001b[0m\u001b[37m \u001b[0m│\n",
       "│\u001b[2m \u001b[0m\u001b[2m4 \u001b[0m\u001b[2m \u001b[0m│ train_loss          │ MeanMetric                  │      0 │\u001b[37m \u001b[0m\u001b[37m        ?\u001b[0m\u001b[37m \u001b[0m│\u001b[37m \u001b[0m\u001b[37m        ?\u001b[0m\u001b[37m \u001b[0m│\n",
       "│\u001b[2m \u001b[0m\u001b[2m5 \u001b[0m\u001b[2m \u001b[0m│ val_loss            │ MeanMetric                  │      0 │\u001b[37m \u001b[0m\u001b[37m        ?\u001b[0m\u001b[37m \u001b[0m│\u001b[37m \u001b[0m\u001b[37m        ?\u001b[0m\u001b[37m \u001b[0m│\n",
       "│\u001b[2m \u001b[0m\u001b[2m6 \u001b[0m\u001b[2m \u001b[0m│ test_loss           │ MeanMetric                  │      0 │\u001b[37m \u001b[0m\u001b[37m        ?\u001b[0m\u001b[37m \u001b[0m│\u001b[37m \u001b[0m\u001b[37m        ?\u001b[0m\u001b[37m \u001b[0m│\n",
       "│\u001b[2m \u001b[0m\u001b[2m7 \u001b[0m\u001b[2m \u001b[0m│ train_metric        │ BinaryAUROC                 │      0 │\u001b[37m \u001b[0m\u001b[37m        ?\u001b[0m\u001b[37m \u001b[0m│\u001b[37m \u001b[0m\u001b[37m        ?\u001b[0m\u001b[37m \u001b[0m│\n",
       "│\u001b[2m \u001b[0m\u001b[2m8 \u001b[0m\u001b[2m \u001b[0m│ val_metric          │ BinaryAUROC                 │      0 │\u001b[37m \u001b[0m\u001b[37m        ?\u001b[0m\u001b[37m \u001b[0m│\u001b[37m \u001b[0m\u001b[37m        ?\u001b[0m\u001b[37m \u001b[0m│\n",
       "│\u001b[2m \u001b[0m\u001b[2m9 \u001b[0m\u001b[2m \u001b[0m│ test_metric         │ BinaryAUROC                 │      0 │\u001b[37m \u001b[0m\u001b[37m        ?\u001b[0m\u001b[37m \u001b[0m│\u001b[37m \u001b[0m\u001b[37m        ?\u001b[0m\u001b[37m \u001b[0m│\n",
       "│\u001b[2m \u001b[0m\u001b[2m10\u001b[0m\u001b[2m \u001b[0m│ val_metric_best     │ MaxMetric                   │      0 │\u001b[37m \u001b[0m\u001b[37m        ?\u001b[0m\u001b[37m \u001b[0m│\u001b[37m \u001b[0m\u001b[37m        ?\u001b[0m\u001b[37m \u001b[0m│\n",
       "│\u001b[2m \u001b[0m\u001b[2m11\u001b[0m\u001b[2m \u001b[0m│ train_other_metrics │ MetricCollection            │      0 │\u001b[37m \u001b[0m\u001b[37m        ?\u001b[0m\u001b[37m \u001b[0m│\u001b[37m \u001b[0m\u001b[37m        ?\u001b[0m\u001b[37m \u001b[0m│\n",
       "│\u001b[2m \u001b[0m\u001b[2m12\u001b[0m\u001b[2m \u001b[0m│ val_other_metrics   │ MetricCollection            │      0 │\u001b[37m \u001b[0m\u001b[37m        ?\u001b[0m\u001b[37m \u001b[0m│\u001b[37m \u001b[0m\u001b[37m        ?\u001b[0m\u001b[37m \u001b[0m│\n",
       "│\u001b[2m \u001b[0m\u001b[2m13\u001b[0m\u001b[2m \u001b[0m│ test_other_metrics  │ MetricCollection            │      0 │\u001b[37m \u001b[0m\u001b[37m        ?\u001b[0m\u001b[37m \u001b[0m│\u001b[37m \u001b[0m\u001b[37m        ?\u001b[0m\u001b[37m \u001b[0m│\n",
       "│\u001b[2m \u001b[0m\u001b[2m14\u001b[0m\u001b[2m \u001b[0m│ train_plot_metrics  │ MetricCollection            │      0 │\u001b[37m \u001b[0m\u001b[37m        ?\u001b[0m\u001b[37m \u001b[0m│\u001b[37m \u001b[0m\u001b[37m        ?\u001b[0m\u001b[37m \u001b[0m│\n",
       "│\u001b[2m \u001b[0m\u001b[2m15\u001b[0m\u001b[2m \u001b[0m│ val_plot_metrics    │ MetricCollection            │      0 │\u001b[37m \u001b[0m\u001b[37m        ?\u001b[0m\u001b[37m \u001b[0m│\u001b[37m \u001b[0m\u001b[37m        ?\u001b[0m\u001b[37m \u001b[0m│\n",
       "│\u001b[2m \u001b[0m\u001b[2m16\u001b[0m\u001b[2m \u001b[0m│ test_plot_metrics   │ MetricCollection            │      0 │\u001b[37m \u001b[0m\u001b[37m        ?\u001b[0m\u001b[37m \u001b[0m│\u001b[37m \u001b[0m\u001b[37m        ?\u001b[0m\u001b[37m \u001b[0m│\n",
       "└────┴─────────────────────┴─────────────────────────────┴────────┴───────────┴───────────┘\n"
      ]
     },
     "metadata": {},
     "output_type": "display_data"
    },
    {
     "data": {
      "text/html": [
       "<pre style=\"white-space:pre;overflow-x:auto;line-height:normal;font-family:Menlo,'DejaVu Sans Mono',consolas,'Courier New',monospace\"><span style=\"font-weight: bold\">Trainable params</span>: 1.9 M                                                                                            \n",
       "<span style=\"font-weight: bold\">Non-trainable params</span>: 0                                                                                            \n",
       "<span style=\"font-weight: bold\">Total params</span>: 1.9 M                                                                                                \n",
       "<span style=\"font-weight: bold\">Total estimated model params size (MB)</span>: 7                                                                          \n",
       "</pre>\n"
      ],
      "text/plain": [
       "\u001b[1mTrainable params\u001b[0m: 1.9 M                                                                                            \n",
       "\u001b[1mNon-trainable params\u001b[0m: 0                                                                                            \n",
       "\u001b[1mTotal params\u001b[0m: 1.9 M                                                                                                \n",
       "\u001b[1mTotal estimated model params size (MB)\u001b[0m: 7                                                                          \n"
      ]
     },
     "metadata": {},
     "output_type": "display_data"
    },
    {
     "data": {
      "application/vnd.jupyter.widget-view+json": {
       "model_id": "a4ffdb6e6a264a6882fd885e42bf82be",
       "version_major": 2,
       "version_minor": 0
      },
      "text/plain": [
       "Sanity Checking: 0it [00:00, ?it/s]"
      ]
     },
     "metadata": {},
     "output_type": "display_data"
    },
    {
     "data": {
      "application/vnd.jupyter.widget-view+json": {
       "model_id": "25bfb4783e4a4756b80544adbe1e790f",
       "version_major": 2,
       "version_minor": 0
      },
      "text/plain": [
       "Training: 0it [00:00, ?it/s]"
      ]
     },
     "metadata": {},
     "output_type": "display_data"
    },
    {
     "name": "stderr",
     "output_type": "stream",
     "text": [
      "/home/gwatk/miniconda3/envs/jump_models/lib/python3.10/site-packages/torchmetrics/utilities/prints.py:42: UserWarning: No positive samples in targets, true positive value should be meaningless. Returning zero tensor in true positive score\n",
      "  warnings.warn(*args, **kwargs)  # noqa: B028\n"
     ]
    },
    {
     "data": {
      "application/vnd.jupyter.widget-view+json": {
       "model_id": "958d2d78fc14443a9ce3e40f1336f6c7",
       "version_major": 2,
       "version_minor": 0
      },
      "text/plain": [
       "Validation: 0it [00:00, ?it/s]"
      ]
     },
     "metadata": {},
     "output_type": "display_data"
    },
    {
     "name": "stderr",
     "output_type": "stream",
     "text": [
      "/home/gwatk/miniconda3/envs/jump_models/lib/python3.10/site-packages/torchmetrics/utilities/prints.py:42: UserWarning: No positive samples in targets, true positive value should be meaningless. Returning zero tensor in true positive score\n",
      "  warnings.warn(*args, **kwargs)  # noqa: B028\n",
      "/home/gwatk/miniconda3/envs/jump_models/lib/python3.10/site-packages/lightning/pytorch/trainer/call.py:52: UserWarning: Detected KeyboardInterrupt, attempting graceful shutdown...\n",
      "  rank_zero_warn(\"Detected KeyboardInterrupt, attempting graceful shutdown...\")\n"
     ]
    }
   ],
   "source": [
    "trainer.fit(m, dm)"
   ]
  },
  {
   "cell_type": "code",
   "execution_count": 22,
   "metadata": {},
   "outputs": [
    {
     "name": "stderr",
     "output_type": "stream",
     "text": [
      "You are using a CUDA device ('NVIDIA GeForce RTX 3070 Laptop GPU') that has Tensor Cores. To properly utilize them, you should set `torch.set_float32_matmul_precision('medium' | 'high')` which will trade-off precision for performance. For more details, read https://pytorch.org/docs/stable/generated/torch.set_float32_matmul_precision.html#torch.set_float32_matmul_precision\n",
      "LOCAL_RANK: 0 - CUDA_VISIBLE_DEVICES: [0]\n"
     ]
    },
    {
     "data": {
      "application/vnd.jupyter.widget-view+json": {
       "model_id": "c62d3be42b4d4658bc7256a2a44f590b",
       "version_major": 2,
       "version_minor": 0
      },
      "text/plain": [
       "Testing: 0it [00:00, ?it/s]"
      ]
     },
     "metadata": {},
     "output_type": "display_data"
    },
    {
     "data": {
      "text/html": [
       "<pre style=\"white-space:pre;overflow-x:auto;line-height:normal;font-family:Menlo,'DejaVu Sans Mono',consolas,'Courier New',monospace\">┏━━━━━━━━━━━━━━━━━━━━━━━━━━━┳━━━━━━━━━━━━━━━━━━━━━━━━━━━┓\n",
       "┃<span style=\"font-weight: bold\">        Test metric        </span>┃<span style=\"font-weight: bold\">       DataLoader 0        </span>┃\n",
       "┡━━━━━━━━━━━━━━━━━━━━━━━━━━━╇━━━━━━━━━━━━━━━━━━━━━━━━━━━┩\n",
       "│<span style=\"color: #008080; text-decoration-color: #008080\">         test/AUC          </span>│<span style=\"color: #800080; text-decoration-color: #800080\">    0.7004243731498718     </span>│\n",
       "│<span style=\"color: #008080; text-decoration-color: #008080\">         test/loss         </span>│<span style=\"color: #800080; text-decoration-color: #800080\">     1.255344033241272     </span>│\n",
       "│<span style=\"color: #008080; text-decoration-color: #008080\">   train/BinaryAccuracy    </span>│<span style=\"color: #800080; text-decoration-color: #800080\">    0.5686274766921997     </span>│\n",
       "│<span style=\"color: #008080; text-decoration-color: #008080\">    train/BinaryF1Score    </span>│<span style=\"color: #800080; text-decoration-color: #800080\">     0.670244574546814     </span>│\n",
       "│<span style=\"color: #008080; text-decoration-color: #008080\">   train/BinaryPrecision   </span>│<span style=\"color: #800080; text-decoration-color: #800080\">    0.5585212707519531     </span>│\n",
       "│<span style=\"color: #008080; text-decoration-color: #008080\">    train/BinaryRecall     </span>│<span style=\"color: #800080; text-decoration-color: #800080\">     0.855766773223877     </span>│\n",
       "└───────────────────────────┴───────────────────────────┘\n",
       "</pre>\n"
      ],
      "text/plain": [
       "┏━━━━━━━━━━━━━━━━━━━━━━━━━━━┳━━━━━━━━━━━━━━━━━━━━━━━━━━━┓\n",
       "┃\u001b[1m \u001b[0m\u001b[1m       Test metric       \u001b[0m\u001b[1m \u001b[0m┃\u001b[1m \u001b[0m\u001b[1m      DataLoader 0       \u001b[0m\u001b[1m \u001b[0m┃\n",
       "┡━━━━━━━━━━━━━━━━━━━━━━━━━━━╇━━━━━━━━━━━━━━━━━━━━━━━━━━━┩\n",
       "│\u001b[36m \u001b[0m\u001b[36m        test/AUC         \u001b[0m\u001b[36m \u001b[0m│\u001b[35m \u001b[0m\u001b[35m   0.7004243731498718    \u001b[0m\u001b[35m \u001b[0m│\n",
       "│\u001b[36m \u001b[0m\u001b[36m        test/loss        \u001b[0m\u001b[36m \u001b[0m│\u001b[35m \u001b[0m\u001b[35m    1.255344033241272    \u001b[0m\u001b[35m \u001b[0m│\n",
       "│\u001b[36m \u001b[0m\u001b[36m  train/BinaryAccuracy   \u001b[0m\u001b[36m \u001b[0m│\u001b[35m \u001b[0m\u001b[35m   0.5686274766921997    \u001b[0m\u001b[35m \u001b[0m│\n",
       "│\u001b[36m \u001b[0m\u001b[36m   train/BinaryF1Score   \u001b[0m\u001b[36m \u001b[0m│\u001b[35m \u001b[0m\u001b[35m    0.670244574546814    \u001b[0m\u001b[35m \u001b[0m│\n",
       "│\u001b[36m \u001b[0m\u001b[36m  train/BinaryPrecision  \u001b[0m\u001b[36m \u001b[0m│\u001b[35m \u001b[0m\u001b[35m   0.5585212707519531    \u001b[0m\u001b[35m \u001b[0m│\n",
       "│\u001b[36m \u001b[0m\u001b[36m   train/BinaryRecall    \u001b[0m\u001b[36m \u001b[0m│\u001b[35m \u001b[0m\u001b[35m    0.855766773223877    \u001b[0m\u001b[35m \u001b[0m│\n",
       "└───────────────────────────┴───────────────────────────┘\n"
      ]
     },
     "metadata": {},
     "output_type": "display_data"
    },
    {
     "data": {
      "text/plain": [
       "[{'test/loss': 1.255344033241272,\n",
       "  'test/AUC': 0.7004243731498718,\n",
       "  'train/BinaryAccuracy': 0.5686274766921997,\n",
       "  'train/BinaryRecall': 0.855766773223877,\n",
       "  'train/BinaryPrecision': 0.5585212707519531,\n",
       "  'train/BinaryF1Score': 0.670244574546814}]"
      ]
     },
     "execution_count": 22,
     "metadata": {},
     "output_type": "execute_result"
    }
   ],
   "source": [
    "trainer.test(m, dm)"
   ]
  },
  {
   "cell_type": "code",
   "execution_count": 25,
   "metadata": {},
   "outputs": [
    {
     "data": {
      "text/html": [
       "Waiting for W&B process to finish... <strong style=\"color:green\">(success).</strong>"
      ],
      "text/plain": [
       "<IPython.core.display.HTML object>"
      ]
     },
     "metadata": {},
     "output_type": "display_data"
    },
    {
     "data": {
      "text/html": [
       "<style>\n",
       "    table.wandb td:nth-child(1) { padding: 0 10px; text-align: left ; width: auto;} td:nth-child(2) {text-align: left ; width: 100%}\n",
       "    .wandb-row { display: flex; flex-direction: row; flex-wrap: wrap; justify-content: flex-start; width: 100% }\n",
       "    .wandb-col { display: flex; flex-direction: column; flex-basis: 100%; flex: 1; padding: 10px; }\n",
       "    </style>\n",
       "<div class=\"wandb-row\"><div class=\"wandb-col\"><h3>Run history:</h3><br/><table class=\"wandb\"><tr><td>epoch</td><td>▁▁▁▁▁▁▁▁▁▁▁</td></tr><tr><td>train/BinaryAccuracy</td><td>▁</td></tr><tr><td>train/BinaryF1Score</td><td>▁</td></tr><tr><td>train/BinaryPrecision</td><td>▁</td></tr><tr><td>train/BinaryRecall</td><td>▁</td></tr><tr><td>train/loss_step</td><td>█▄▁▆▃▇▁█▅▂</td></tr><tr><td>trainer/global_step</td><td>▁▂▃▃▄▅▆▆▇██████</td></tr><tr><td>val/AUC</td><td>▁</td></tr><tr><td>val/AUC_best</td><td>▁</td></tr><tr><td>val/loss</td><td>▁</td></tr></table><br/></div><div class=\"wandb-col\"><h3>Run summary:</h3><br/><table class=\"wandb\"><tr><td>epoch</td><td>0</td></tr><tr><td>train/BinaryAccuracy</td><td>0.98104</td></tr><tr><td>train/BinaryF1Score</td><td>0.05246</td></tr><tr><td>train/BinaryPrecision</td><td>0.06484</td></tr><tr><td>train/BinaryRecall</td><td>0.05239</td></tr><tr><td>train/loss_step</td><td>0.12273</td></tr><tr><td>trainer/global_step</td><td>514</td></tr><tr><td>val/AUC</td><td>0.73093</td></tr><tr><td>val/AUC_best</td><td>0.73093</td></tr><tr><td>val/loss</td><td>0.08415</td></tr></table><br/></div></div>"
      ],
      "text/plain": [
       "<IPython.core.display.HTML object>"
      ]
     },
     "metadata": {},
     "output_type": "display_data"
    },
    {
     "data": {
      "text/html": [
       " View run <strong style=\"color:#cdcd00\">copper-sound-52</strong> at: <a href='https://wandb.ai/gabriel-watkinson-work/jump_models/runs/sinsck80' target=\"_blank\">https://wandb.ai/gabriel-watkinson-work/jump_models/runs/sinsck80</a><br/>Synced 6 W&B file(s), 5 media file(s), 0 artifact file(s) and 0 other file(s)"
      ],
      "text/plain": [
       "<IPython.core.display.HTML object>"
      ]
     },
     "metadata": {},
     "output_type": "display_data"
    },
    {
     "data": {
      "text/html": [
       "Find logs at: <code>./wandb/run-20230727_155023-sinsck80/logs</code>"
      ],
      "text/plain": [
       "<IPython.core.display.HTML object>"
      ]
     },
     "metadata": {},
     "output_type": "display_data"
    }
   ],
   "source": [
    "wandb.finish()"
   ]
  }
 ],
 "metadata": {
  "kernelspec": {
   "display_name": "Python 3",
   "language": "python",
   "name": "python3"
  },
  "language_info": {
   "codemirror_mode": {
    "name": "ipython",
    "version": 3
   },
   "file_extension": ".py",
   "mimetype": "text/x-python",
   "name": "python",
   "nbconvert_exporter": "python",
   "pygments_lexer": "ipython3",
   "version": "3.10.10"
  },
  "orig_nbformat": 4
 },
 "nbformat": 4,
 "nbformat_minor": 2
}
