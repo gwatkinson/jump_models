{
 "cells": [
  {
   "cell_type": "markdown",
   "metadata": {},
   "source": [
    "# Masked Graph Modelling"
   ]
  },
  {
   "cell_type": "code",
   "execution_count": 2,
   "metadata": {},
   "outputs": [],
   "source": [
    "%load_ext autoreload\n",
    "%autoreload 2"
   ]
  },
  {
   "cell_type": "code",
   "execution_count": 3,
   "metadata": {},
   "outputs": [],
   "source": [
    "import logging\n",
    "import os\n",
    "import os.path as osp\n",
    "from collections import defaultdict\n",
    "from dataclasses import dataclass\n",
    "from functools import partial\n",
    "from pathlib import Path\n",
    "from typing import Callable, List, Optional\n",
    "\n",
    "import matplotlib.pyplot as plt\n",
    "import numpy as np\n",
    "import pandas as pd\n",
    "import torch\n",
    "import torch.nn as nn\n",
    "import torch.nn.functional as F\n",
    "import transformers\n",
    "from lightning.pytorch import LightningModule\n",
    "from lion_pytorch import Lion\n",
    "from torch.optim.lr_scheduler import CosineAnnealingLR\n",
    "from torch.utils.data import DataLoader, Dataset\n",
    "from torchvision.transforms import (\n",
    "    Compose,\n",
    "    Lambda,\n",
    "    Normalize,\n",
    "    RandomCrop,\n",
    "    RandomHorizontalFlip,\n",
    "    RandomResizedCrop,\n",
    "    ToTensor,\n",
    ")\n",
    "from torchvision.transforms.functional import InterpolationMode\n",
    "from transformers import (\n",
    "    HfArgumentParser,\n",
    "    Trainer,\n",
    "    TrainingArguments,\n",
    "    ViTImageProcessor,\n",
    "    ViTMAEConfig,\n",
    "    ViTMAEForPreTraining,\n",
    ")\n",
    "\n",
    "from src.mae.module import MAEDatasetConfig, MAEModule, MAEOptimizerConfig\n",
    "from src.modules.transforms import ComplexTransform, SimpleTransform\n",
    "from src.modules.transforms.color_jitter import ColorJitterPerChannel"
   ]
  },
  {
   "cell_type": "code",
   "execution_count": 8,
   "metadata": {},
   "outputs": [
    {
     "name": "stdout",
     "output_type": "stream",
     "text": [
      "Mounting cpjump1...\n",
      "Mounting cpjump2...\n",
      "Mounting cpjump3...\n"
     ]
    }
   ],
   "source": [
    "for i in range(1, 4):\n",
    "    if not Path(f\"../cpjump{i}/jump/\").exists():\n",
    "        print(f\"Mounting cpjump{i}...\")\n",
    "        os.system(f\"sshfs bioclust:/projects/cpjump{i}/ ../cpjump{i}\")\n",
    "    else:\n",
    "        print(f\"cpjump{i} already mounted.\")"
   ]
  },
  {
   "cell_type": "markdown",
   "metadata": {},
   "source": [
    "## Dataset"
   ]
  },
  {
   "cell_type": "code",
   "execution_count": 11,
   "metadata": {},
   "outputs": [
    {
     "name": "stdout",
     "output_type": "stream",
     "text": [
      "True True\n"
     ]
    }
   ],
   "source": [
    "root_dir = \"../cpjump1/\"\n",
    "meta_dir = osp.join(root_dir, \"jump/metadata\")\n",
    "# jump_dir = osp.join(root_dir, \"jump\")\n",
    "\n",
    "print(osp.exists(root_dir), osp.exists(meta_dir))"
   ]
  },
  {
   "cell_type": "code",
   "execution_count": 12,
   "metadata": {},
   "outputs": [
    {
     "data": {
      "text/plain": [
       "['compound.csv.gz',\n",
       " 'crispr.csv.gz',\n",
       " 'microscope_config.csv',\n",
       " 'microscope_filter.csv',\n",
       " 'orf.csv.gz',\n",
       " 'plate.csv.gz',\n",
       " 'README.md',\n",
       " 'well.csv.gz',\n",
       " 'compound.csv',\n",
       " 'crispr.csv',\n",
       " 'orf.csv',\n",
       " 'plate.csv',\n",
       " 'well.csv',\n",
       " 'complete_metadata.csv',\n",
       " 'resolution.csv',\n",
       " 'JUMP-Target-1_compound_metadata.tsv',\n",
       " 'JUMP-Target-1_compound_platemap.tsv',\n",
       " 'JUMP-Target-1_crispr_metadata.tsv',\n",
       " 'JUMP-Target-1_crispr_platemap.tsv',\n",
       " 'JUMP-Target-1_orf_metadata.tsv',\n",
       " 'JUMP-Target-1_orf_platemap.tsv',\n",
       " 'JUMP-Target-2_compound_metadata.tsv',\n",
       " 'JUMP-Target-2_compound_platemap.tsv',\n",
       " 'JUMP-MOA_compound_metadata.tsv',\n",
       " 'local_metadata.csv']"
      ]
     },
     "execution_count": 12,
     "metadata": {},
     "output_type": "execute_result"
    }
   ],
   "source": [
    "os.listdir(meta_dir)"
   ]
  },
  {
   "cell_type": "code",
   "execution_count": 14,
   "metadata": {},
   "outputs": [],
   "source": [
    "cdf = pd.read_csv(osp.join(meta_dir, \"compound.csv.gz\"))"
   ]
  },
  {
   "cell_type": "code",
   "execution_count": null,
   "metadata": {},
   "outputs": [],
   "source": []
  }
 ],
 "metadata": {
  "kernelspec": {
   "display_name": "jump_models",
   "language": "python",
   "name": "python3"
  },
  "language_info": {
   "codemirror_mode": {
    "name": "ipython",
    "version": 3
   },
   "file_extension": ".py",
   "mimetype": "text/x-python",
   "name": "python",
   "nbconvert_exporter": "python",
   "pygments_lexer": "ipython3",
   "version": "3.10.10"
  }
 },
 "nbformat": 4,
 "nbformat_minor": 2
}
