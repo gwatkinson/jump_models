{
 "cells": [
  {
   "cell_type": "markdown",
   "metadata": {},
   "source": [
    "# Masked Graph Modelling"
   ]
  },
  {
   "cell_type": "code",
   "execution_count": 2,
   "metadata": {},
   "outputs": [
    {
     "name": "stdout",
     "output_type": "stream",
     "text": [
      "The autoreload extension is already loaded. To reload it, use:\n",
      "  %reload_ext autoreload\n"
     ]
    }
   ],
   "source": [
    "%load_ext autoreload\n",
    "%autoreload 2"
   ]
  },
  {
   "cell_type": "code",
   "execution_count": 89,
   "metadata": {},
   "outputs": [],
   "source": [
    "import logging\n",
    "import os\n",
    "import os.path as osp\n",
    "import random\n",
    "from collections import defaultdict\n",
    "from dataclasses import dataclass\n",
    "from functools import partial\n",
    "from pathlib import Path\n",
    "from typing import Callable, List, Optional\n",
    "\n",
    "import datamol as dm\n",
    "import matplotlib.pyplot as plt\n",
    "import numpy as np\n",
    "import pandas as pd\n",
    "import torch\n",
    "import torch.nn as nn\n",
    "import torch.nn.functional as F\n",
    "import transformers\n",
    "from lightning.pytorch import LightningModule\n",
    "from lion_pytorch import Lion\n",
    "from ogb.utils.features import get_atom_feature_dims, get_bond_feature_dims\n",
    "from torch.optim.lr_scheduler import CosineAnnealingLR\n",
    "from torch.utils.data import DataLoader, Dataset\n",
    "from torchvision.transforms import (\n",
    "    Compose,\n",
    "    Lambda,\n",
    "    Normalize,\n",
    "    RandomCrop,\n",
    "    RandomHorizontalFlip,\n",
    "    RandomResizedCrop,\n",
    "    ToTensor,\n",
    ")\n",
    "from torchvision.transforms.functional import InterpolationMode\n",
    "from transformers import (\n",
    "    HfArgumentParser,\n",
    "    Trainer,\n",
    "    TrainingArguments,\n",
    "    ViTImageProcessor,\n",
    "    ViTMAEConfig,\n",
    "    ViTMAEForPreTraining,\n",
    ")\n",
    "\n",
    "from src.mae.module import MAEDatasetConfig, MAEModule, MAEOptimizerConfig\n",
    "from src.modules.compound_transforms.masked_transform import (\n",
    "    ExtractSubstructureContextPair,\n",
    "    MaskAtom,\n",
    "    dgl_to_pyg_graph,\n",
    "    graph_data_obj_to_nx_clf,\n",
    ")\n",
    "from src.modules.compound_transforms.pna import PNATransform\n",
    "from src.modules.transforms import ComplexTransform, SimpleTransform\n",
    "from src.modules.transforms.color_jitter import ColorJitterPerChannel"
   ]
  },
  {
   "cell_type": "code",
   "execution_count": 4,
   "metadata": {},
   "outputs": [
    {
     "name": "stdout",
     "output_type": "stream",
     "text": [
      "Mounting cpjump1...\n",
      "Mounting cpjump2...\n",
      "Mounting cpjump3...\n"
     ]
    }
   ],
   "source": [
    "for i in range(1, 4):\n",
    "    if not Path(f\"../cpjump{i}/jump/\").exists():\n",
    "        print(f\"Mounting cpjump{i}...\")\n",
    "        os.system(f\"sshfs bioclust:/projects/cpjump{i}/ ../cpjump{i}\")\n",
    "    else:\n",
    "        print(f\"cpjump{i} already mounted.\")"
   ]
  },
  {
   "cell_type": "markdown",
   "metadata": {},
   "source": [
    "## Dataset"
   ]
  },
  {
   "cell_type": "code",
   "execution_count": 5,
   "metadata": {},
   "outputs": [
    {
     "name": "stdout",
     "output_type": "stream",
     "text": [
      "True True\n"
     ]
    }
   ],
   "source": [
    "root_dir = \"../cpjump1/\"\n",
    "meta_dir = osp.join(root_dir, \"jump/metadata\")\n",
    "# jump_dir = osp.join(root_dir, \"jump\")\n",
    "\n",
    "print(osp.exists(root_dir), osp.exists(meta_dir))"
   ]
  },
  {
   "cell_type": "code",
   "execution_count": 6,
   "metadata": {},
   "outputs": [
    {
     "data": {
      "text/plain": [
       "['compound.csv.gz',\n",
       " 'crispr.csv.gz',\n",
       " 'microscope_config.csv',\n",
       " 'microscope_filter.csv',\n",
       " 'orf.csv.gz',\n",
       " 'plate.csv.gz',\n",
       " 'README.md',\n",
       " 'well.csv.gz',\n",
       " 'compound.csv',\n",
       " 'crispr.csv',\n",
       " 'orf.csv',\n",
       " 'plate.csv',\n",
       " 'well.csv',\n",
       " 'complete_metadata.csv',\n",
       " 'resolution.csv',\n",
       " 'JUMP-Target-1_compound_metadata.tsv',\n",
       " 'JUMP-Target-1_compound_platemap.tsv',\n",
       " 'JUMP-Target-1_crispr_metadata.tsv',\n",
       " 'JUMP-Target-1_crispr_platemap.tsv',\n",
       " 'JUMP-Target-1_orf_metadata.tsv',\n",
       " 'JUMP-Target-1_orf_platemap.tsv',\n",
       " 'JUMP-Target-2_compound_metadata.tsv',\n",
       " 'JUMP-Target-2_compound_platemap.tsv',\n",
       " 'JUMP-MOA_compound_metadata.tsv',\n",
       " 'local_metadata.csv']"
      ]
     },
     "execution_count": 6,
     "metadata": {},
     "output_type": "execute_result"
    }
   ],
   "source": [
    "os.listdir(meta_dir)"
   ]
  },
  {
   "cell_type": "code",
   "execution_count": 7,
   "metadata": {},
   "outputs": [],
   "source": [
    "cdf = pd.read_csv(osp.join(meta_dir, \"compound.csv.gz\"))"
   ]
  },
  {
   "cell_type": "code",
   "execution_count": 8,
   "metadata": {},
   "outputs": [
    {
     "data": {
      "text/html": [
       "<div>\n",
       "<style scoped>\n",
       "    .dataframe tbody tr th:only-of-type {\n",
       "        vertical-align: middle;\n",
       "    }\n",
       "\n",
       "    .dataframe tbody tr th {\n",
       "        vertical-align: top;\n",
       "    }\n",
       "\n",
       "    .dataframe thead th {\n",
       "        text-align: right;\n",
       "    }\n",
       "</style>\n",
       "<table border=\"1\" class=\"dataframe\">\n",
       "  <thead>\n",
       "    <tr style=\"text-align: right;\">\n",
       "      <th></th>\n",
       "      <th>Metadata_JCP2022</th>\n",
       "      <th>Metadata_InChIKey</th>\n",
       "      <th>Metadata_InChI</th>\n",
       "    </tr>\n",
       "  </thead>\n",
       "  <tbody>\n",
       "    <tr>\n",
       "      <th>0</th>\n",
       "      <td>JCP2022_000001</td>\n",
       "      <td>AAAHWCWPZPSPIW-UHFFFAOYSA-N</td>\n",
       "      <td>InChI=1S/C25H31N5O2/c1-4-23-26-14-16-30(23)24-...</td>\n",
       "    </tr>\n",
       "    <tr>\n",
       "      <th>1</th>\n",
       "      <td>JCP2022_000002</td>\n",
       "      <td>AAAJHRMBUHXWLD-UHFFFAOYSA-N</td>\n",
       "      <td>InChI=1S/C11H13ClN2O/c12-10-4-2-9(3-5-10)8-14-...</td>\n",
       "    </tr>\n",
       "    <tr>\n",
       "      <th>2</th>\n",
       "      <td>JCP2022_000003</td>\n",
       "      <td>AAALVYBICLMAMA-UHFFFAOYSA-N</td>\n",
       "      <td>InChI=1S/C20H15N3O2/c24-19-15-11-17(21-13-7-3-...</td>\n",
       "    </tr>\n",
       "    <tr>\n",
       "      <th>3</th>\n",
       "      <td>JCP2022_000004</td>\n",
       "      <td>AAANUZMCJQUYNX-UHFFFAOYSA-N</td>\n",
       "      <td>InChI=1S/C13H22N4O2S/c1-2-7-16-13(5-6-15-16)20...</td>\n",
       "    </tr>\n",
       "    <tr>\n",
       "      <th>4</th>\n",
       "      <td>JCP2022_000005</td>\n",
       "      <td>AAAQFGUYHFJNHI-UHFFFAOYSA-N</td>\n",
       "      <td>InChI=1S/C22H22ClN5O2/c1-4-24-20(29)12-18-22-2...</td>\n",
       "    </tr>\n",
       "    <tr>\n",
       "      <th>...</th>\n",
       "      <td>...</td>\n",
       "      <td>...</td>\n",
       "      <td>...</td>\n",
       "    </tr>\n",
       "    <tr>\n",
       "      <th>116748</th>\n",
       "      <td>JCP2022_116750</td>\n",
       "      <td>ZZZTXDPKNAOZPM-UHFFFAOYSA-N</td>\n",
       "      <td>InChI=1S/C22H27N3O2/c1-14-18(22(27)24-15(2)23-...</td>\n",
       "    </tr>\n",
       "    <tr>\n",
       "      <th>116749</th>\n",
       "      <td>JCP2022_116751</td>\n",
       "      <td>ZZZUOLMMTJKOGE-UHFFFAOYSA-N</td>\n",
       "      <td>InChI=1S/C19H17N5O2/c1-23-9-6-13-7-10-24(19(26...</td>\n",
       "    </tr>\n",
       "    <tr>\n",
       "      <th>116750</th>\n",
       "      <td>JCP2022_116752</td>\n",
       "      <td>ZZZZIBSVRUABIA-UHFFFAOYSA-N</td>\n",
       "      <td>InChI=1S/C19H13F6N3O2S/c1-11-26-6-5-17(27-11)1...</td>\n",
       "    </tr>\n",
       "    <tr>\n",
       "      <th>116751</th>\n",
       "      <td>JCP2022_116753</td>\n",
       "      <td>ZZZZVNLQWWXZTQ-UHFFFAOYSA-N</td>\n",
       "      <td>InChI=1S/C14H20N2O3/c1-18-13-5-3-2-4-12(13)14(...</td>\n",
       "    </tr>\n",
       "    <tr>\n",
       "      <th>116752</th>\n",
       "      <td>JCP2022_999999</td>\n",
       "      <td>NaN</td>\n",
       "      <td>NaN</td>\n",
       "    </tr>\n",
       "  </tbody>\n",
       "</table>\n",
       "<p>116753 rows × 3 columns</p>\n",
       "</div>"
      ],
      "text/plain": [
       "       Metadata_JCP2022            Metadata_InChIKey  \\\n",
       "0        JCP2022_000001  AAAHWCWPZPSPIW-UHFFFAOYSA-N   \n",
       "1        JCP2022_000002  AAAJHRMBUHXWLD-UHFFFAOYSA-N   \n",
       "2        JCP2022_000003  AAALVYBICLMAMA-UHFFFAOYSA-N   \n",
       "3        JCP2022_000004  AAANUZMCJQUYNX-UHFFFAOYSA-N   \n",
       "4        JCP2022_000005  AAAQFGUYHFJNHI-UHFFFAOYSA-N   \n",
       "...                 ...                          ...   \n",
       "116748   JCP2022_116750  ZZZTXDPKNAOZPM-UHFFFAOYSA-N   \n",
       "116749   JCP2022_116751  ZZZUOLMMTJKOGE-UHFFFAOYSA-N   \n",
       "116750   JCP2022_116752  ZZZZIBSVRUABIA-UHFFFAOYSA-N   \n",
       "116751   JCP2022_116753  ZZZZVNLQWWXZTQ-UHFFFAOYSA-N   \n",
       "116752   JCP2022_999999                          NaN   \n",
       "\n",
       "                                           Metadata_InChI  \n",
       "0       InChI=1S/C25H31N5O2/c1-4-23-26-14-16-30(23)24-...  \n",
       "1       InChI=1S/C11H13ClN2O/c12-10-4-2-9(3-5-10)8-14-...  \n",
       "2       InChI=1S/C20H15N3O2/c24-19-15-11-17(21-13-7-3-...  \n",
       "3       InChI=1S/C13H22N4O2S/c1-2-7-16-13(5-6-15-16)20...  \n",
       "4       InChI=1S/C22H22ClN5O2/c1-4-24-20(29)12-18-22-2...  \n",
       "...                                                   ...  \n",
       "116748  InChI=1S/C22H27N3O2/c1-14-18(22(27)24-15(2)23-...  \n",
       "116749  InChI=1S/C19H17N5O2/c1-23-9-6-13-7-10-24(19(26...  \n",
       "116750  InChI=1S/C19H13F6N3O2S/c1-11-26-6-5-17(27-11)1...  \n",
       "116751  InChI=1S/C14H20N2O3/c1-18-13-5-3-2-4-12(13)14(...  \n",
       "116752                                                NaN  \n",
       "\n",
       "[116753 rows x 3 columns]"
      ]
     },
     "execution_count": 8,
     "metadata": {},
     "output_type": "execute_result"
    }
   ],
   "source": [
    "cdf"
   ]
  },
  {
   "cell_type": "code",
   "execution_count": 10,
   "metadata": {},
   "outputs": [],
   "source": [
    "cpt = PNATransform(\"inchi\")"
   ]
  },
  {
   "cell_type": "code",
   "execution_count": 11,
   "metadata": {},
   "outputs": [
    {
     "data": {
      "text/plain": [
       "['InChI=1S/C25H31N5O2/c1-4-23-26-14-16-30(23)24-9-5-7-21(27-24)22-8-6-15-29(22)25(31)19-10-12-20(13-11-19)32-18-17-28(2)3/h5,7,9-14,16,22H,4,6,8,15,17-18H2,1-3H3',\n",
       " 'InChI=1S/C11H13ClN2O/c12-10-4-2-9(3-5-10)8-14-7-1-6-13-11(14)15/h2-5H,1,6-8H2,(H,13,15)',\n",
       " 'InChI=1S/C20H15N3O2/c24-19-15-11-17(21-13-7-3-1-4-8-13)18(12-16(15)20(25)23-19)22-14-9-5-2-6-10-14/h1-12,21-22H,(H,23,24,25)',\n",
       " 'InChI=1S/C13H22N4O2S/c1-2-7-16-13(5-6-15-16)20(18,19)17-10-11-3-4-12(17)9-14-8-11/h5-6,11-12,14H,2-4,7-10H2,1H3',\n",
       " 'InChI=1S/C22H22ClN5O2/c1-4-24-20(29)12-18-22-27-26-13(2)28(22)19-10-9-16(30-3)11-17(19)21(25-18)14-5-7-15(23)8-6-14/h5-11,18H,4,12H2,1-3H3,(H,24,29)']"
      ]
     },
     "execution_count": 11,
     "metadata": {},
     "output_type": "execute_result"
    }
   ],
   "source": [
    "exs = cdf.head()[\"Metadata_InChI\"].tolist()\n",
    "exs"
   ]
  },
  {
   "cell_type": "code",
   "execution_count": 12,
   "metadata": {},
   "outputs": [
    {
     "data": {
      "text/plain": [
       "[Graph(num_nodes=32, num_edges=70,\n",
       "       ndata_schemes={'feat': Scheme(shape=(9,), dtype=torch.int64)}\n",
       "       edata_schemes={'feat': Scheme(shape=(3,), dtype=torch.int64)}),\n",
       " Graph(num_nodes=15, num_edges=32,\n",
       "       ndata_schemes={'feat': Scheme(shape=(9,), dtype=torch.int64)}\n",
       "       edata_schemes={'feat': Scheme(shape=(3,), dtype=torch.int64)}),\n",
       " Graph(num_nodes=25, num_edges=56,\n",
       "       ndata_schemes={'feat': Scheme(shape=(9,), dtype=torch.int64)}\n",
       "       edata_schemes={'feat': Scheme(shape=(3,), dtype=torch.int64)}),\n",
       " Graph(num_nodes=20, num_edges=44,\n",
       "       ndata_schemes={'feat': Scheme(shape=(9,), dtype=torch.int64)}\n",
       "       edata_schemes={'feat': Scheme(shape=(3,), dtype=torch.int64)}),\n",
       " Graph(num_nodes=30, num_edges=66,\n",
       "       ndata_schemes={'feat': Scheme(shape=(9,), dtype=torch.int64)}\n",
       "       edata_schemes={'feat': Scheme(shape=(3,), dtype=torch.int64)})]"
      ]
     },
     "execution_count": 12,
     "metadata": {},
     "output_type": "execute_result"
    }
   ],
   "source": [
    "graphs = [cpt(ex) for ex in exs]\n",
    "graphs"
   ]
  },
  {
   "cell_type": "code",
   "execution_count": 48,
   "metadata": {},
   "outputs": [
    {
     "data": {
      "text/plain": [
       "[Data(edge_index=[2, 70], x=[32, 9], edge_attr=[70, 3]),\n",
       " Data(edge_index=[2, 32], x=[15, 9], edge_attr=[32, 3]),\n",
       " Data(edge_index=[2, 56], x=[25, 9], edge_attr=[56, 3]),\n",
       " Data(edge_index=[2, 44], x=[20, 9], edge_attr=[44, 3]),\n",
       " Data(edge_index=[2, 66], x=[30, 9], edge_attr=[66, 3])]"
      ]
     },
     "execution_count": 48,
     "metadata": {},
     "output_type": "execute_result"
    }
   ],
   "source": [
    "pyg_graphs = [dgl_to_pyg_graph(graph) for graph in graphs]\n",
    "pyg_graphs"
   ]
  },
  {
   "cell_type": "code",
   "execution_count": 22,
   "metadata": {},
   "outputs": [
    {
     "data": {
      "text/plain": [
       "32"
      ]
     },
     "execution_count": 22,
     "metadata": {},
     "output_type": "execute_result"
    }
   ],
   "source": [
    "data = pyg_graphs[0]\n",
    "atom_features = data.n_feat.cpu().numpy()\n",
    "num_atoms = atom_features.shape[0]\n",
    "num_atoms"
   ]
  },
  {
   "cell_type": "code",
   "execution_count": 24,
   "metadata": {},
   "outputs": [
    {
     "data": {
      "text/plain": [
       "[119, 5, 12, 12, 10, 6, 6, 2, 2]"
      ]
     },
     "execution_count": 24,
     "metadata": {},
     "output_type": "execute_result"
    }
   ],
   "source": [
    "get_atom_feature_dims()"
   ]
  },
  {
   "cell_type": "code",
   "execution_count": 53,
   "metadata": {},
   "outputs": [
    {
     "data": {
      "text/plain": [
       "9"
      ]
     },
     "execution_count": 53,
     "metadata": {},
     "output_type": "execute_result"
    }
   ],
   "source": [
    "len(pyg_graphs[0].x[0])"
   ]
  },
  {
   "cell_type": "code",
   "execution_count": 49,
   "metadata": {},
   "outputs": [],
   "source": [
    "nx_graphs = [graph_data_obj_to_nx_clf(graph) for graph in pyg_graphs]"
   ]
  },
  {
   "cell_type": "code",
   "execution_count": 41,
   "metadata": {},
   "outputs": [],
   "source": [
    "%matplotlib inline"
   ]
  },
  {
   "cell_type": "code",
   "execution_count": 47,
   "metadata": {},
   "outputs": [
    {
     "data": {
      "image/png": "[encoded data removed]",
      "text/plain": [
       "<PIL.PngImagePlugin.PngImageFile image mode=RGB size=300x300>"
      ]
     },
     "execution_count": 47,
     "metadata": {},
     "output_type": "execute_result"
    }
   ],
   "source": [
    "mol = dm.from_inchi(exs[0])\n",
    "\n",
    "dm.viz.to_image(mol, use_svg=False)\n",
    "# dm.viz.to_image(mol, n_cols=1)"
   ]
  },
  {
   "cell_type": "code",
   "execution_count": 50,
   "metadata": {},
   "outputs": [
    {
     "data": {
      "image/png": "[encoded data removed]",
      "text/plain": [
       "<Figure size 640x480 with 1 Axes>"
      ]
     },
     "metadata": {},
     "output_type": "display_data"
    }
   ],
   "source": [
    "nx.draw(nx_graphs[0], with_labels=True)"
   ]
  },
  {
   "cell_type": "code",
   "execution_count": 68,
   "metadata": {},
   "outputs": [
    {
     "data": {
      "text/plain": [
       "([119, 5, 12, 12, 10, 6, 6, 2, 2], [5, 6, 2])"
      ]
     },
     "execution_count": 68,
     "metadata": {},
     "output_type": "execute_result"
    }
   ],
   "source": [
    "get_atom_feature_dims(), get_bond_feature_dims()"
   ]
  },
  {
   "cell_type": "code",
   "execution_count": 81,
   "metadata": {},
   "outputs": [],
   "source": [
    "masked_transform = MaskAtom(num_atom_type=119, num_edge_type=5, mask_rate=0.15, mask_edge=True)"
   ]
  },
  {
   "cell_type": "code",
   "execution_count": 82,
   "metadata": {},
   "outputs": [],
   "source": [
    "masked_graphs = masked_transform(pyg_graphs[0])"
   ]
  },
  {
   "cell_type": "code",
   "execution_count": 83,
   "metadata": {},
   "outputs": [
    {
     "data": {
      "text/plain": [
       "Data(edge_index=[2, 70], x=[32, 9], edge_attr=[70, 3], mask_node_label=[5, 9], masked_atom_indices=[5], masked_x=[32, 9], mask_edge_label=[24, 3], connected_edge_indices=[12])"
      ]
     },
     "execution_count": 83,
     "metadata": {},
     "output_type": "execute_result"
    }
   ],
   "source": [
    "masked_graphs"
   ]
  },
  {
   "cell_type": "code",
   "execution_count": 103,
   "metadata": {},
   "outputs": [
    {
     "data": {
      "text/plain": [
       "tensor([[  5,   0,   4,   5,   3,   0,   2,   0,   0],\n",
       "        [119,   0,   0,   0,   0,   0,   0,   0,   0],\n",
       "        [  5,   0,   3,   5,   0,   0,   1,   1,   1],\n",
       "        [  6,   0,   2,   5,   0,   0,   1,   1,   1],\n",
       "        [  5,   0,   3,   5,   1,   0,   1,   1,   1],\n",
       "        [  5,   0,   3,   5,   1,   0,   1,   1,   1],\n",
       "        [  6,   0,   3,   5,   0,   0,   1,   1,   1],\n",
       "        [  5,   0,   3,   5,   0,   0,   1,   1,   1],\n",
       "        [119,   0,   0,   0,   0,   0,   0,   0,   0],\n",
       "        [  5,   0,   3,   5,   1,   0,   1,   1,   1],\n",
       "        [  5,   0,   3,   5,   1,   0,   1,   1,   1],\n",
       "        [  5,   0,   3,   5,   0,   0,   1,   1,   1],\n",
       "        [  5,   0,   4,   5,   1,   0,   2,   0,   1],\n",
       "        [119,   0,   0,   0,   0,   0,   0,   0,   0],\n",
       "        [  5,   0,   4,   5,   2,   0,   2,   0,   1],\n",
       "        [  5,   0,   4,   5,   2,   0,   2,   0,   1],\n",
       "        [119,   0,   0,   0,   0,   0,   0,   0,   0],\n",
       "        [  5,   0,   3,   5,   0,   0,   1,   0,   0],\n",
       "        [  7,   0,   1,   5,   0,   0,   1,   0,   0],\n",
       "        [  5,   0,   3,   5,   0,   0,   1,   1,   1],\n",
       "        [  5,   0,   3,   5,   1,   0,   1,   1,   1],\n",
       "        [  5,   0,   3,   5,   1,   0,   1,   1,   1],\n",
       "        [119,   0,   0,   0,   0,   0,   0,   0,   0],\n",
       "        [  7,   0,   2,   5,   0,   0,   1,   0,   0],\n",
       "        [  5,   0,   4,   5,   2,   0,   2,   0,   0],\n",
       "        [  5,   0,   4,   5,   2,   0,   2,   0,   0],\n",
       "        [  6,   0,   3,   5,   0,   0,   2,   0,   0],\n",
       "        [  5,   0,   4,   5,   3,   0,   2,   0,   0],\n",
       "        [  5,   0,   4,   5,   3,   0,   2,   0,   0],\n",
       "        [  5,   0,   3,   5,   1,   0,   1,   1,   1],\n",
       "        [  5,   0,   3,   5,   1,   0,   1,   1,   1],\n",
       "        [  6,   0,   2,   5,   0,   0,   1,   1,   1]])"
      ]
     },
     "execution_count": 103,
     "metadata": {},
     "output_type": "execute_result"
    }
   ],
   "source": [
    "masked_graphs.masked_x"
   ]
  },
  {
   "cell_type": "code",
   "execution_count": 101,
   "metadata": {},
   "outputs": [
    {
     "data": {
      "text/plain": [
       "Graph(num_nodes=32, num_edges=70,\n",
       "      ndata_schemes={'feat': Scheme(shape=(9,), dtype=torch.int64)}\n",
       "      edata_schemes={'feat': Scheme(shape=(3,), dtype=torch.int64)})"
      ]
     },
     "execution_count": 101,
     "metadata": {},
     "output_type": "execute_result"
    }
   ],
   "source": [
    "graphs[0]"
   ]
  },
  {
   "cell_type": "code",
   "execution_count": 91,
   "metadata": {},
   "outputs": [],
   "source": [
    "context_trans = ExtractSubstructureContextPair(k=3, l1=2, l2=5)"
   ]
  },
  {
   "cell_type": "code",
   "execution_count": 96,
   "metadata": {},
   "outputs": [],
   "source": [
    "context_graph = context_trans(pyg_graphs[0])"
   ]
  },
  {
   "cell_type": "code",
   "execution_count": 97,
   "metadata": {},
   "outputs": [
    {
     "data": {
      "text/plain": [
       "Data(edge_index=[2, 70], x=[32, 9], edge_attr=[70, 3], mask_node_label=[5, 9], masked_atom_indices=[5], masked_x=[32, 9], mask_edge_label=[24, 3], connected_edge_indices=[12], x_substruct=[13, 2], edge_attr_substruct=[26, 2], edge_index_substruct=[2, 26], center_substruct_idx=[1], x_context=[11, 2], edge_attr_context=[18, 2], edge_index_context=[2, 18], overlap_context_substruct_idx=[4])"
      ]
     },
     "execution_count": 97,
     "metadata": {},
     "output_type": "execute_result"
    }
   ],
   "source": [
    "context_graph"
   ]
  },
  {
   "cell_type": "code",
   "execution_count": null,
   "metadata": {},
   "outputs": [],
   "source": [
    "def compute_accuracy(pred, target):\n",
    "    return float(torch.sum(torch.max(pred.detach(), dim=1)[1] == target).cpu().item()) / len(pred)\n",
    "\n",
    "\n",
    "def do_AttrMasking(batch, criterion, node_repr, molecule_atom_masking_model):\n",
    "    target = batch.mask_node_label[:, 0]\n",
    "    node_pred = molecule_atom_masking_model(node_repr[batch.masked_atom_indices])\n",
    "    attributemask_loss = criterion(node_pred.double(), target)\n",
    "    attributemask_acc = compute_accuracy(node_pred, target)\n",
    "    return attributemask_loss, attributemask_acc\n",
    "\n",
    "\n",
    "def cycle_index(num, shift):\n",
    "    arr = torch.arange(num) + shift\n",
    "    arr[-shift:] = torch.arange(shift)\n",
    "    return arr\n",
    "\n",
    "\n",
    "def do_ContextPred(\n",
    "    batch,\n",
    "    criterion,\n",
    "    molecule_substruct_model,\n",
    "    molecule_context_model,\n",
    "    molecule_readout_func,\n",
    "    contextpred_neg_samples,\n",
    "    use_image=True,\n",
    "    molecule_img_repr=None,\n",
    "    mol_img_projection_head=None,\n",
    "    normalize=True,\n",
    "):\n",
    "    # creating substructure representation\n",
    "    substruct_repr = molecule_substruct_model(batch.x_substruct, batch.edge_index_substruct, batch.edge_attr_substruct)[\n",
    "        batch.center_substruct_idx\n",
    "    ]\n",
    "\n",
    "    # creating context representations\n",
    "    overlapped_node_repr = molecule_context_model(batch.x_context, batch.edge_index_context, batch.edge_attr_context)[\n",
    "        batch.overlap_context_substruct_idx\n",
    "    ]\n",
    "\n",
    "    # positive context representation\n",
    "    # readout -> global_mean_pool by default\n",
    "    context_repr = molecule_readout_func(overlapped_node_repr, batch.batch_overlapped_context)\n",
    "\n",
    "    # Use image embedding\n",
    "    if molecule_img_repr is not None and use_image:\n",
    "        if normalize:\n",
    "            context_repr = F.normalize(context_repr, dim=-1)\n",
    "            molecule_img_repr = F.normalize(molecule_img_repr, dim=-1)\n",
    "\n",
    "        context_repr = torch.cat([context_repr, molecule_img_repr], dim=1)\n",
    "        context_repr = mol_img_projection_head(context_repr)  # reproject to the same dim as context_repr\n",
    "\n",
    "        # context_repr = 0.8 * context_repr + 0.2 * molecule_img_repr\n",
    "\n",
    "    # negative contexts are obtained by shifting\n",
    "    # the indices of context embeddings\n",
    "    neg_context_repr = torch.cat(\n",
    "        [context_repr[cycle_index(len(context_repr), i + 1)] for i in range(contextpred_neg_samples)], dim=0\n",
    "    )\n",
    "\n",
    "    num_neg = contextpred_neg_samples\n",
    "    pred_pos = torch.sum(substruct_repr * context_repr, dim=1)\n",
    "    pred_neg = torch.sum(substruct_repr.repeat((num_neg, 1)) * neg_context_repr, dim=1)\n",
    "\n",
    "    loss_pos = criterion(pred_pos.double(), torch.ones(len(pred_pos)).to(pred_pos.device).double())\n",
    "    loss_neg = criterion(pred_neg.double(), torch.zeros(len(pred_neg)).to(pred_neg.device).double())\n",
    "\n",
    "    contextpred_loss = loss_pos + num_neg * loss_neg\n",
    "\n",
    "    num_pred = len(pred_pos) + len(pred_neg)\n",
    "    contextpred_acc = (torch.sum(pred_pos > 0).float() + torch.sum(pred_neg < 0).float()) / num_pred\n",
    "    contextpred_acc = contextpred_acc.detach().cpu().item()\n",
    "\n",
    "    return contextpred_loss, contextpred_acc"
   ]
  },
  {
   "cell_type": "code",
   "execution_count": null,
   "metadata": {},
   "outputs": [],
   "source": []
  }
 ],
 "metadata": {
  "kernelspec": {
   "display_name": "jump_models",
   "language": "python",
   "name": "python3"
  },
  "language_info": {
   "codemirror_mode": {
    "name": "ipython",
    "version": 3
   },
   "file_extension": ".py",
   "mimetype": "text/x-python",
   "name": "python",
   "nbconvert_exporter": "python",
   "pygments_lexer": "ipython3",
   "version": "3.10.10"
  }
 },
 "nbformat": 4,
 "nbformat_minor": 2
}
