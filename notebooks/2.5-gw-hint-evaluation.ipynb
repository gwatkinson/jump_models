{
 "cells": [
  {
   "cell_type": "markdown",
   "metadata": {},
   "source": [
    "# HINT Top Benchmark evaluation"
   ]
  },
  {
   "cell_type": "code",
   "execution_count": 1,
   "metadata": {},
   "outputs": [],
   "source": [
    "%load_ext autoreload\n",
    "%autoreload 2"
   ]
  },
  {
   "cell_type": "markdown",
   "metadata": {},
   "source": [
    "## Dataset creation"
   ]
  },
  {
   "cell_type": "code",
   "execution_count": 2,
   "metadata": {},
   "outputs": [],
   "source": [
    "import os\n",
    "from pathlib import Path\n",
    "\n",
    "import torch\n",
    "from dgl import batch\n",
    "from dgllife.model.model_zoo.gin_predictor import GINPredictor\n",
    "from lightning.pytorch import Trainer, loggers\n",
    "from torch import nn\n",
    "\n",
    "from src.eval.clinical_prediction.datamodule import HintClinicalDataModulePhaseI\n",
    "from src.eval.clinical_prediction.module import HintClinicalModulePhaseI\n",
    "from src.modules.compound_transforms.dgllife_transform import DGLPretrainedFromSmiles\n",
    "from src.modules.compound_transforms.fp_transform import FPTransform\n",
    "from src.modules.compound_transforms.pna import PNATransform\n",
    "from src.modules.molecules.dgllife_gin import GINPretrainedWithLinearHead\n",
    "from src.modules.molecules.pna import PNA"
   ]
  },
  {
   "cell_type": "code",
   "execution_count": 3,
   "metadata": {},
   "outputs": [
    {
     "name": "stdout",
     "output_type": "stream",
     "text": [
      "cpjump1 already mounted.\n",
      "cpjump2 already mounted.\n",
      "cpjump3 already mounted.\n"
     ]
    }
   ],
   "source": [
    "for i in range(1, 4):\n",
    "    if not Path(f\"../cpjump{i}/jump/\").exists():\n",
    "        print(f\"Mounting cpjump{i}...\")\n",
    "        os.system(f\"sshfs bioclust:/projects/cpjump{i}/ ../cpjump{i}\")\n",
    "    else:\n",
    "        print(f\"cpjump{i} already mounted.\")"
   ]
  },
  {
   "cell_type": "code",
   "execution_count": 4,
   "metadata": {},
   "outputs": [],
   "source": [
    "metadata_path = \"../cpjump1/jump/metadata\"\n",
    "load_data_path = \"../cpjump1/jump/load_data\"\n",
    "hint_path = \"../cpjump1/hint-clinical-trial-outcome-prediction/data\""
   ]
  },
  {
   "cell_type": "code",
   "execution_count": 5,
   "metadata": {},
   "outputs": [
    {
     "data": {
      "text/plain": [
       "['compound.csv.gz',\n",
       " 'crispr.csv.gz',\n",
       " 'microscope_config.csv',\n",
       " 'microscope_filter.csv',\n",
       " 'orf.csv.gz',\n",
       " 'plate.csv.gz',\n",
       " 'README.md',\n",
       " 'well.csv.gz',\n",
       " 'compound.csv',\n",
       " 'crispr.csv',\n",
       " 'orf.csv',\n",
       " 'plate.csv',\n",
       " 'well.csv',\n",
       " 'complete_metadata.csv',\n",
       " 'resolution.csv',\n",
       " 'JUMP-Target-1_compound_metadata.tsv',\n",
       " 'JUMP-Target-1_compound_platemap.tsv',\n",
       " 'JUMP-Target-1_crispr_metadata.tsv',\n",
       " 'JUMP-Target-1_crispr_platemap.tsv',\n",
       " 'JUMP-Target-1_orf_metadata.tsv',\n",
       " 'JUMP-Target-1_orf_platemap.tsv',\n",
       " 'JUMP-Target-2_compound_metadata.tsv',\n",
       " 'JUMP-Target-2_compound_platemap.tsv',\n",
       " 'JUMP-MOA_compound_metadata.tsv',\n",
       " 'local_metadata.csv']"
      ]
     },
     "execution_count": 5,
     "metadata": {},
     "output_type": "execute_result"
    }
   ],
   "source": [
    "os.listdir(metadata_path)"
   ]
  },
  {
   "cell_type": "code",
   "execution_count": 6,
   "metadata": {},
   "outputs": [
    {
     "data": {
      "text/plain": [
       "['ADMET',\n",
       " 'NCT00000378.xml',\n",
       " 'README.md',\n",
       " 'drugbank_mini.csv',\n",
       " 'phase_III_test.csv',\n",
       " 'phase_III_train.csv',\n",
       " 'phase_III_valid.csv',\n",
       " 'phase_II_test.csv',\n",
       " 'phase_II_train.csv',\n",
       " 'phase_II_valid.csv',\n",
       " 'phase_I_test.csv',\n",
       " 'phase_I_train.csv',\n",
       " 'phase_I_valid.csv',\n",
       " 'raw_data.csv',\n",
       " 'sentence2embedding.pkl',\n",
       " 'sponsor2approvalrate.csv',\n",
       " 'sponsor2count.csv',\n",
       " 'toy_test.csv',\n",
       " 'toy_train.csv',\n",
       " 'toy_valid.csv']"
      ]
     },
     "execution_count": 6,
     "metadata": {},
     "output_type": "execute_result"
    }
   ],
   "source": [
    "os.listdir(hint_path)"
   ]
  },
  {
   "cell_type": "markdown",
   "metadata": {},
   "source": [
    "## Load phase csvs"
   ]
  },
  {
   "cell_type": "code",
   "execution_count": 7,
   "metadata": {},
   "outputs": [],
   "source": [
    "smiles_to_graph = DGLPretrainedFromSmiles(\n",
    "    add_self_loop=True,\n",
    "    canonical_atom_order=True,\n",
    "    num_virtual_nodes=0,\n",
    "    explicit_hydrogens=False,\n",
    ")\n",
    "\n",
    "smiles_to_fp = FPTransform(\n",
    "    fps=[\"maccs\", \"ecfp\"],\n",
    "    compound_str_type=\"smiles\",\n",
    "    params={\"ecfp\": {\"radius\": 2}},\n",
    ")"
   ]
  },
  {
   "cell_type": "markdown",
   "metadata": {},
   "source": [
    "### Custom GIN"
   ]
  },
  {
   "cell_type": "code",
   "execution_count": 75,
   "metadata": {},
   "outputs": [],
   "source": [
    "class GINPredictorWrapper(nn.Module):\n",
    "    def __init__(\n",
    "        self,\n",
    "        num_layers=5,\n",
    "        emb_dim=256,\n",
    "        JK=\"last\",\n",
    "        n_tasks=256,\n",
    "    ):\n",
    "        super().__init__()\n",
    "        self.atom_featurizer = CanonicalAtomFeaturizer()\n",
    "        self.bond_featurizer = CanonicalBondFeaturizer()\n",
    "\n",
    "        self.smiles_to_bigraph = SMILESToBigraph(\n",
    "            node_featurizer=self.atom_featurizer,\n",
    "            edge_featurizer=self.bond_featurizer,\n",
    "            add_self_loop=True,\n",
    "            canonical_atom_order=True,\n",
    "            num_virtual_nodes=0,\n",
    "            explicit_hydrogens=False,\n",
    "        )\n",
    "\n",
    "        self.gin = GINPredictor(\n",
    "            num_node_emb_list=[self.atom_featurizer.feat_size(\"h\")],\n",
    "            num_edge_emb_list=[self.bond_featurizer.feat_size(\"e\")],\n",
    "            num_layers=num_layers,\n",
    "            emb_dim=emb_dim,\n",
    "            JK=JK,\n",
    "            n_tasks=n_tasks,\n",
    "        )\n",
    "\n",
    "    def smiles_to_graph(self, smiles):\n",
    "        return batch([self.smiles_to_bigraph(s) for s in smiles])\n",
    "\n",
    "    def forward(self, smiles, **kwargs):\n",
    "        graphs = self.smiles_to_graph(smiles)\n",
    "        node_feats = graphs.ndata.get(\"h\")\n",
    "        edge_feats = graphs.edata.get(\"e\")\n",
    "        return self.gin(graphs, node_feats, edge_feats)"
   ]
  },
  {
   "cell_type": "code",
   "execution_count": 77,
   "metadata": {},
   "outputs": [],
   "source": [
    "model = GINPredictorWrapper()"
   ]
  },
  {
   "cell_type": "markdown",
   "metadata": {},
   "source": [
    "### Trainer"
   ]
  },
  {
   "cell_type": "code",
   "execution_count": 8,
   "metadata": {},
   "outputs": [
    {
     "name": "stdout",
     "output_type": "stream",
     "text": [
      "Downloading gin_supervised_contextpred_pre_trained.pth from https://data.dgl.ai/dgllife/pre_trained/gin_supervised_contextpred.pth...\n",
      "Pretrained model loaded\n"
     ]
    }
   ],
   "source": [
    "mol_model = GINPretrainedWithLinearHead(\n",
    "    pretrained_name=\"gin_supervised_contextpred\",\n",
    "    out_dim=256,\n",
    "    pooling=\"mean\",\n",
    "    preload=False,\n",
    ")"
   ]
  },
  {
   "cell_type": "code",
   "execution_count": 75,
   "metadata": {},
   "outputs": [],
   "source": [
    "pna = PNA(\n",
    "    hidden_dim=200,\n",
    "    target_dim=256,\n",
    "    out_dim=256,\n",
    "    aggregators=[\"mean\", \"max\", \"min\", \"std\"],\n",
    "    scalers=[\"identity\", \"amplification\", \"attenuation\"],\n",
    "    readout_aggregators=[\"min\", \"max\", \"mean\"],\n",
    "    readout_batchnorm=True,\n",
    "    readout_hidden_dim=200,\n",
    "    readout_layers=2,\n",
    "    residual=True,\n",
    "    pairwise_distances=False,\n",
    "    activation=\"relu\",\n",
    "    last_activation=\"none\",\n",
    "    mid_batch_norm=True,\n",
    "    last_batch_norm=True,\n",
    "    propagation_depth=7,\n",
    "    dropout=0.0,\n",
    "    posttrans_layers=1,\n",
    "    pretrans_layers=2,\n",
    "    batch_norm_momentum=0.93,\n",
    ")"
   ]
  },
  {
   "cell_type": "code",
   "execution_count": 82,
   "metadata": {},
   "outputs": [],
   "source": [
    "model = HintClinicalModulePhaseI(\n",
    "    molecule_encoder=pna,\n",
    "    compound_transform=PNATransform(\"inchi\"),\n",
    "    optimizer=torch.optim.Adam,\n",
    "    lr=1e-3,\n",
    ")"
   ]
  },
  {
   "cell_type": "code",
   "execution_count": 14,
   "metadata": {},
   "outputs": [],
   "source": [
    "dm = HintClinicalDataModulePhaseI(\n",
    "    hint_dir=hint_path,\n",
    "    batch_size=128,\n",
    ")"
   ]
  },
  {
   "cell_type": "code",
   "execution_count": 17,
   "metadata": {},
   "outputs": [],
   "source": [
    "dm.prepare_data()"
   ]
  },
  {
   "cell_type": "code",
   "execution_count": 23,
   "metadata": {},
   "outputs": [],
   "source": [
    "dm.setup(\"fit\")"
   ]
  },
  {
   "cell_type": "code",
   "execution_count": 24,
   "metadata": {},
   "outputs": [
    {
     "data": {
      "text/plain": [
       "<src.eval.clinical_prediction.datamodule.HintClinicalDataset at 0x7f1e05d7afb0>"
      ]
     },
     "execution_count": 24,
     "metadata": {},
     "output_type": "execute_result"
    }
   ],
   "source": [
    "dm.train_dataset"
   ]
  },
  {
   "cell_type": "code",
   "execution_count": 25,
   "metadata": {},
   "outputs": [],
   "source": [
    "dl = dm.train_dataloader()"
   ]
  },
  {
   "cell_type": "code",
   "execution_count": 26,
   "metadata": {},
   "outputs": [],
   "source": [
    "b = next(iter(dl))"
   ]
  },
  {
   "cell_type": "code",
   "execution_count": 29,
   "metadata": {},
   "outputs": [
    {
     "data": {
      "text/plain": [
       "{'smiles_list': [['C#Cc1cccc(Nc2ncnc3cc(OCCOC)c(OCCOC)cc23)c1'],\n",
       "  ['CNC(=O)c1cc(Oc2ccc(NC(=O)Nc3ccc(Cl)c(C(F)(F)F)c3)cc2)ccn1',\n",
       "   'C#Cc1cccc(Nc2ncnc3cc(OCCOC)c(OCCOC)cc23)c1'],\n",
       "  ['Cn1c(=O)cc(N2CCC[C@@H](N)C2)n(Cc2ccccc2C#N)c1=O',\n",
       "   'Cn1c(=O)cc(N2CCC[C@@H](N)C2)n(Cc2ccccc2C#N)c1=O'],\n",
       "  ['CCC1=C[C@@H]2CN(C1)Cc1c([nH]c3ccccc13)[C@@](C(=O)OC)(c1cc3c(cc1OC)N(C)[C@H]1[C@@](O)(C(=O)OC)[C@H](OC(C)=O)[C@]4(CC)C=CCN5CC[C@]31[C@@H]54)C2'],\n",
       "  ['CO[C@H]1C[C@@H]2CC[C@@H](C)[C@@](O)(O2)C(=O)C(=O)N2CCCC[C@H]2C(=O)O[C@H]([C@H](C)C[C@@H]2CC[C@@H](O)[C@H](OC)C2)CC(=O)[C@H](C)/C=C(\\\\C)[C@@H](O)[C@@H](OC)C(=O)[C@H](C)C[C@H](C)/C=C/C=C/C=C/1C',\n",
       "   'C[C@@H](O[C@H]1OCCN(Cc2n[nH]c(=O)[nH]2)[C@H]1c1ccc(F)cc1)c1cc(C(F)(F)F)cc(C(F)(F)F)c1'],\n",
       "  ['Cn1c(=O)cc(N2CCC[C@@H](N)C2)n(Cc2ccccc2C#N)c1=O',\n",
       "   'CC(=O)Oc1ccccc1C(=O)O',\n",
       "   'CC(=O)Oc1ccccc1C(=O)O'],\n",
       "  ['N=C(N)NCCC[C@H](N)C(=O)O',\n",
       "   'CCN(CC)CCCC(C)Nc1ccnc2cc(Cl)ccc12',\n",
       "   'CO[C@H]1C[C@@H]2CC[C@@H](C)[C@@](O)(O2)C(=O)C(=O)N2CCCC[C@H]2C(=O)O[C@H]([C@H](C)C[C@@H]2CC[C@@H](OCCO)[C@H](OC)C2)CC(=O)[C@H](C)/C=C(\\\\C)[C@@H](O)[C@@H](OC)C(=O)[C@H](C)C[C@H](C)/C=C/C=C/C=C/1C'],\n",
       "  ['N=C(N)NCCC[C@H](N)C(=O)O',\n",
       "   'CO[C@H]1C[C@@H]2CC[C@@H](C)[C@@](O)(O2)C(=O)C(=O)N2CCCC[C@H]2C(=O)O[C@H]([C@H](C)C[C@@H]2CC[C@@H](OCCO)[C@H](OC)C2)CC(=O)[C@H](C)/C=C(\\\\C)[C@@H](O)[C@@H](OC)C(=O)[C@H](C)C[C@H](C)/C=C/C=C/C=C/1C'],\n",
       "  ['Cn1c(=O)cc(N2CCC[C@@H](N)C2)n(Cc2ccccc2C#N)c1=O'],\n",
       "  ['COc1cc2ncnc(Nc3ccc(F)c(Cl)c3)c2cc1OCCCN1CCOCC1'],\n",
       "  ['COc1ccccc1OCC(O)CO'],\n",
       "  ['NC(=O)c1cccc([C@H]2C[C@H]3CC[C@@H](C2)N3CCN(CC2CCCCC2)C(=O)[C@@H](O)CO)c1',\n",
       "   'NC(=O)c1cccc([C@H]2C[C@H]3CC[C@@H](C2)N3CCN(CC2CCCCC2)C(=O)[C@@H](O)CO)c1',\n",
       "   'NC(=O)c1cccc([C@H]2C[C@H]3CC[C@@H](C2)N3CCN(CC2CCCCC2)C(=O)[C@@H](O)CO)c1',\n",
       "   'NC(=O)c1cccc([C@H]2C[C@H]3CC[C@@H](C2)N3CCN(CC2CCCCC2)C(=O)[C@@H](O)CO)c1',\n",
       "   'NC(=O)c1cccc([C@H]2C[C@H]3CC[C@@H](C2)N3CCN(CC2CCCCC2)C(=O)[C@@H](O)CO)c1',\n",
       "   'NC(=O)c1cccc([C@H]2C[C@H]3CC[C@@H](C2)N3CCN(CC2CCCCC2)C(=O)[C@@H](O)CO)c1',\n",
       "   'NC(=O)c1cccc([C@H]2C[C@H]3CC[C@@H](C2)N3CCN(CC2CCCCC2)C(=O)[C@@H](O)CO)c1',\n",
       "   'NC(=O)c1cccc([C@H]2C[C@H]3CC[C@@H](C2)N3CCN(CC2CCCCC2)C(=O)[C@@H](O)CO)c1',\n",
       "   'NC(=O)c1cccc([C@H]2C[C@H]3CC[C@@H](C2)N3CCN(CC2CCCCC2)C(=O)[C@@H](O)CO)c1',\n",
       "   'Cn1c(=O)cc(N2CCC[C@@H](N)C2)n(Cc2ccccc2C#N)c1=O'],\n",
       "  ['CO[C@H]1C[C@@H]2CC[C@@H](C)[C@@](O)(O2)C(=O)C(=O)N2CCCC[C@H]2C(=O)O[C@H]([C@H](C)C[C@@H]2CC[C@@H](O)[C@H](OC)C2)CC(=O)[C@H](C)/C=C(\\\\C)[C@@H](O)[C@@H](OC)C(=O)[C@H](C)C[C@H](C)/C=C/C=C/C=C/1C',\n",
       "   'C#Cc1cccc(Nc2ncnc3cc(OCCOC)c(OCCOC)cc23)c1'],\n",
       "  ['NC(=O)c1ncn([C@@H]2O[C@H](CO)[C@@H](O)[C@H]2O)n1',\n",
       "   'NC(=O)c1ncn([C@@H]2O[C@H](CO)[C@@H](O)[C@H]2O)n1'],\n",
       "  ['Cn1c(=O)cc(N2CCC[C@@H](N)C2)n(Cc2ccccc2C#N)c1=O'],\n",
       "  ['Cn1c(=O)cc(N2CCC[C@@H](N)C2)n(Cc2ccccc2C#N)c1=O'],\n",
       "  ['O=P1(N(CCCl)CCCl)NCCCO1'],\n",
       "  ['C[C@@H]1C[C@H]2[C@@H]3CCC4=CC(=O)C=C[C@]4(C)[C@@]3(F)[C@@H](O)C[C@]2(C)[C@@]1(O)C(=O)CO'],\n",
       "  ['CNC(=O)c1cc(Oc2ccc(NC(=O)Nc3ccc(Cl)c(C(F)(F)F)c3)cc2)ccn1',\n",
       "   'O=P1(N(CCCl)CCCl)NCCCO1'],\n",
       "  ['CC(C)C[C@H](NC(=O)[C@H](CCc1ccccc1)NC(=O)CN1CCOCC1)C(=O)N[C@@H](Cc1ccccc1)C(=O)N[C@@H](CC(C)C)C(=O)[C@@]1(C)CO1',\n",
       "   'Nc1cccc2c1CN(C1CCC(=O)NC1=O)C2=O',\n",
       "   'C[C@@H](O[C@H]1OCCN(Cc2n[nH]c(=O)[nH]2)[C@H]1c1ccc(F)cc1)c1cc(C(F)(F)F)cc(C(F)(F)F)c1'],\n",
       "  ['CC(/C=C/C=C(\\\\C)C(=O)O)=C\\\\C=C\\\\C=C(C)\\\\C=C\\\\C=C(/C)C(=O)O',\n",
       "   '[Cl-].[Na+]'],\n",
       "  ['O=P1(N(CCCl)CCCl)NCCCO1',\n",
       "   'Nc1ccn([C@@H]2O[C@H](CO)[C@@H](O)C2(F)F)c(=O)n1'],\n",
       "  ['Cc1nc(Nc2ncc(C(=O)Nc3c(C)cccc3Cl)s2)cc(N2CCN(CCO)CC2)n1',\n",
       "   'Cc1nc(Nc2ncc(C(=O)Nc3c(C)cccc3Cl)s2)cc(N2CCN(CCO)CC2)n1'],\n",
       "  ['CC(=O)O[C@@]12CO[C@@H]1C[C@H](O)[C@@]1(C)C(=O)[C@H](O)C3=C(C)[C@@H](OC(=O)[C@H](O)[C@@H](NC(=O)OC(C)(C)C)c4ccccc4)C[C@@](O)([C@@H](OC(=O)c4ccccc4)[C@H]21)C3(C)C'],\n",
       "  ['O=P1(N(CCCl)CCCl)NCCCO1'],\n",
       "  ['O[C@@H]1CO[C@H]2[C@@H]1OC[C@@H]2O',\n",
       "   'CC[C@@]1(O)C(=O)OCc2c1cc1n(c2=O)Cc2cc3c(CN(C)C)c(O)ccc3nc2-1'],\n",
       "  ['Cn1c(=O)cc(N2CCC[C@@H](N)C2)n(Cc2ccccc2C#N)c1=O'],\n",
       "  ['CO[C@H]1C[C@@H]2CC[C@@H](C)[C@@](O)(O2)C(=O)C(=O)N2CCCC[C@H]2C(=O)O[C@H]([C@H](C)C[C@@H]2CC[C@@H](OCCO)[C@H](OC)C2)CC(=O)[C@H](C)/C=C(\\\\C)[C@@H](O)[C@@H](OC)C(=O)[C@H](C)C[C@H](C)/C=C/C=C/C=C/1C'],\n",
       "  ['Cn1c(=O)cc(N2CCC[C@@H](N)C2)n(Cc2ccccc2C#N)c1=O'],\n",
       "  ['N=C(N)NCCC[C@H](N)C(=O)O'],\n",
       "  ['O=P1(N(CCCl)CCCl)NCCCO1',\n",
       "   'CNC(=O)c1cc(Oc2ccc(NC(=O)Nc3ccc(Cl)c(C(F)(F)F)c3)cc2)ccn1'],\n",
       "  ['O=P1(N(CCCl)CCCl)NCCCO1',\n",
       "   'COc1cccc2c1C(=O)c1c(O)c3c(c(O)c1C2=O)C[C@@](O)(C(=O)CO)C[C@@H]3O[C@H]1C[C@H](N)[C@H](O)[C@H](C)O1'],\n",
       "  ['CCCCC(CC)COC(=O)/C=C/c1ccc(OC)cc1'],\n",
       "  ['COCCc1ccc(OCC(O)CNC(C)C)cc1'],\n",
       "  ['COc1cc(N2CCN(C(=O)Cn3nc(-c4ncc[nH]4)c4cccnc43)CC2)ccc1Cl'],\n",
       "  ['CN(C)C(=N)NC(=N)N', 'Cn1c(=O)cc(N2CCC[C@@H](N)C2)n(Cc2ccccc2C#N)c1=O'],\n",
       "  ['CC(C)(C)NCC(O)c1ccc(O)c(CO)c1',\n",
       "   'CC(C)[N+]1(C)[C@@H]2CC[C@H]1C[C@@H](OC(=O)C(CO)c1ccccc1)C2'],\n",
       "  ['CCC1=C[C@@H]2CN(C1)Cc1c([nH]c3ccccc13)[C@@](C(=O)OC)(c1cc3c(cc1OC)N(C)[C@H]1[C@@](O)(C(=O)OC)[C@H](OC(C)=O)[C@]4(CC)C=CCN5CC[C@]31[C@@H]54)C2',\n",
       "   'Cc1ccc(NC(=O)c2ccc(CN3CCN(C)CC3)cc2)cc1Nc1nccc(-c2cccnc2)n1'],\n",
       "  ['C/C(=C\\\\c1csc(C)n1)[C@@H]1C[C@@H]2O[C@]2(C)CCC[C@H](C)[C@H](O)[C@@H](C)C(=O)C(C)(C)[C@@H](O)CC(=O)N1'],\n",
       "  ['CCCCCCCC/C=C\\\\CCCCCCCC(=O)O.NCCO'],\n",
       "  ['CO[C@H]1C[C@@H]2CC[C@@H](C)[C@@](O)(O2)C(=O)C(=O)N2CCCC[C@H]2C(=O)O[C@H]([C@H](C)C[C@@H]2CC[C@@H](OCCO)[C@H](OC)C2)CC(=O)[C@H](C)/C=C(\\\\C)[C@@H](O)[C@@H](OC)C(=O)[C@H](C)C[C@H](C)/C=C/C=C/C=C/1C'],\n",
       "  ['Cn1nnc2c(C(N)=O)ncn2c1=O'],\n",
       "  ['CCCCC(CC)COC(=O)/C=C/c1ccc(OC)cc1'],\n",
       "  ['Nc1ccn([C@@H]2O[C@H](CO)[C@@H](O)C2(F)F)c(=O)n1'],\n",
       "  ['CON(C)C(=O)N1N=C(c2cc(F)ccc2F)S[C@@]1(CCCN)c1ccccc1'],\n",
       "  ['Cn1cc(-c2ccc3nnc(Sc4ccc5ncccc5c4)n3n2)cn1'],\n",
       "  ['Cc1nc(Nc2ncc(C(=O)Nc3c(C)cccc3Cl)s2)cc(N2CCN(CCO)CC2)n1'],\n",
       "  ['Cn1c(=O)cc(N2CCC[C@@H](N)C2)n(Cc2ccccc2C#N)c1=O'],\n",
       "  ['COc1c(C)cnc(Cn2cnc3c(Cl)[nH]c(=N)nc32)c1C'],\n",
       "  ['CC(C)c1nc(N(C)S(C)(=O)=O)nc(-c2ccc(F)cc2)c1/C=C/[C@@H](O)C[C@@H](O)CC(=O)O',\n",
       "   'CC(C)c1nc(N(C)S(C)(=O)=O)nc(-c2ccc(F)cc2)c1/C=C/[C@@H](O)C[C@@H](O)CC(=O)O'],\n",
       "  ['COC1=CC(c2cc3ccccc3[nH]2)=N/C1=C\\\\c1[nH]c(C)cc1C',\n",
       "   'COC1=CC(c2cc3ccccc3[nH]2)=N/C1=C\\\\c1[nH]c(C)cc1C'],\n",
       "  ['C[N+]1(C)[C@@H]2C[C@@H](OC(=O)C(O)(c3cccs3)c3cccs3)C[C@H]1[C@@H]1O[C@@H]12',\n",
       "   'C[N+]1(C)[C@@H]2C[C@@H](OC(=O)C(O)(c3cccs3)c3cccs3)C[C@H]1[C@@H]1O[C@@H]12',\n",
       "   'C[N+]1(C)[C@@H]2C[C@@H](OC(=O)C(O)(c3cccs3)c3cccs3)C[C@H]1[C@@H]1O[C@@H]12',\n",
       "   'Cn1c(=O)cc(N2CCC[C@@H](N)C2)n(Cc2ccccc2C#N)c1=O'],\n",
       "  ['O=P1(N(CCCl)CCCl)NCCCO1',\n",
       "   'Nc1cccc2c1CN(C1CCC(=O)NC1=O)C2=O',\n",
       "   'C[C@@H](O[C@H]1OCCN(Cc2n[nH]c(=O)[nH]2)[C@H]1c1ccc(F)cc1)c1cc(C(F)(F)F)cc(C(F)(F)F)c1',\n",
       "   'CC(=O)Oc1ccccc1C(=O)O',\n",
       "   'CC1(C)S[C@@H]2[C@H](NC(=O)[C@H](N)c3ccccc3)C(=O)N2[C@H]1C(=O)O'],\n",
       "  ['C#Cc1cccc(Nc2ncnc3cc(OCCOC)c(OCCOC)cc23)c1'],\n",
       "  ['Cc1ccc(Nc2nccc(N(C)c3ccc4c(C)n(C)nc4c3)n2)cc1S(N)(=O)=O'],\n",
       "  ['CCNCCS(=O)(=O)NC[C@@]1(c2ccccc2)SC(NC(=O)C(C)(C)C)=NN1C(=O)C(C)(C)C'],\n",
       "  ['Cn1c(=O)cc(N2CCC[C@@H](N)C2)n(Cc2ccccc2C#N)c1=O'],\n",
       "  ['CNC(=O)c1cc(Oc2ccc(NC(=O)Nc3ccc(Cl)c(C(F)(F)F)c3)cc2)ccn1'],\n",
       "  ['C=CCNC1=C2C[C@@H](C)C[C@H](OC)[C@H](O)[C@@H](C)C=C(C)[C@H](OC(=N)O)[C@@H](OC)/C=C\\\\C=C(/C)C(O)=NC(=CC1=O)C2=O',\n",
       "   'O=P1(N(CCCl)CCCl)NCCCO1'],\n",
       "  ['NC1=N[C@@]2(c3cc(NC(=O)c4ccc(F)cn4)ccc3F)COC[C@H]2CS1',\n",
       "   'Cn1c(=O)cc(N2CCC[C@@H](N)C2)n(Cc2ccccc2C#N)c1=O'],\n",
       "  ['COC(O)=N[C@H](C(=O)N1CC2(CC2)C[C@H]1c1ncc(-c2ccc3c(c2)C(F)(F)c2cc(-c4ccc5nc([C@@H]6[C@H]7CC[C@H](C7)N6C(=O)[C@@H](N=C(O)OC)C(C)C)[nH]c5c4)ccc2-3)[nH]1)C(C)C',\n",
       "   'Cn1c(=O)cc(N2CCC[C@@H](N)C2)n(Cc2ccccc2C#N)c1=O',\n",
       "   'COC(O)=N[C@H](C(=O)N1CC2(CC2)C[C@H]1c1ncc(-c2ccc3c(c2)C(F)(F)c2cc(-c4ccc5nc([C@@H]6[C@H]7CC[C@H](C7)N6C(=O)[C@@H](N=C(O)OC)C(C)C)[nH]c5c4)ccc2-3)[nH]1)C(C)C',\n",
       "   'Cn1c(=O)cc(N2CCC[C@@H](N)C2)n(Cc2ccccc2C#N)c1=O',\n",
       "   'COC(O)=N[C@H](C(=O)N1CC2(CC2)C[C@H]1c1ncc(-c2ccc3c(c2)C(F)(F)c2cc(-c4ccc5nc([C@@H]6[C@H]7CC[C@H](C7)N6C(=O)[C@@H](N=C(O)OC)C(C)C)[nH]c5c4)ccc2-3)[nH]1)C(C)C',\n",
       "   'Cn1c(=O)cc(N2CCC[C@@H](N)C2)n(Cc2ccccc2C#N)c1=O',\n",
       "   'COC(O)=N[C@H](C(=O)N1CC2(CC2)C[C@H]1c1ncc(-c2ccc3c(c2)C(F)(F)c2cc(-c4ccc5nc([C@@H]6[C@H]7CC[C@H](C7)N6C(=O)[C@@H](N=C(O)OC)C(C)C)[nH]c5c4)ccc2-3)[nH]1)C(C)C',\n",
       "   'Cn1c(=O)cc(N2CCC[C@@H](N)C2)n(Cc2ccccc2C#N)c1=O',\n",
       "   'COC(O)=N[C@H](C(=O)N1CC2(CC2)C[C@H]1c1ncc(-c2ccc3c(c2)C(F)(F)c2cc(-c4ccc5nc([C@@H]6[C@H]7CC[C@H](C7)N6C(=O)[C@@H](N=C(O)OC)C(C)C)[nH]c5c4)ccc2-3)[nH]1)C(C)C',\n",
       "   'Cn1c(=O)cc(N2CCC[C@@H](N)C2)n(Cc2ccccc2C#N)c1=O',\n",
       "   'COC(O)=N[C@H](C(=O)N1CC2(CC2)C[C@H]1c1ncc(-c2ccc3c(c2)C(F)(F)c2cc(-c4ccc5nc([C@@H]6[C@H]7CC[C@H](C7)N6C(=O)[C@@H](N=C(O)OC)C(C)C)[nH]c5c4)ccc2-3)[nH]1)C(C)C',\n",
       "   'Cn1c(=O)cc(N2CCC[C@@H](N)C2)n(Cc2ccccc2C#N)c1=O'],\n",
       "  ['Nc1ccccc1NC(=O)c1ccc(CNC(=O)OCc2cccnc2)cc1',\n",
       "   'Nc1ccccc1NC(=O)c1ccc(CNC(=O)OCc2cccnc2)cc1',\n",
       "   'C#Cc1cccc(Nc2ncnc3cc(OCCOC)c(OCCOC)cc23)c1'],\n",
       "  ['CC[C@H](C)[C@@H]1C(=O)N[C@H](C2Cc3ccccc3C2)C(=O)N1[C@@H](C(=O)N1CCOCC1)c1coc(C)n1',\n",
       "   'CC[C@H](C)[C@@H]1C(=O)N[C@H](C2Cc3ccccc3C2)C(=O)N1[C@@H](C(=O)N1CCOCC1)c1coc(C)n1',\n",
       "   'Cn1c(=O)cc(N2CCC[C@@H](N)C2)n(Cc2ccccc2C#N)c1=O',\n",
       "   'COc1c(N2C[C@@H]3CCCN[C@@H]3C2)c(F)cc2c(=O)c(C(=O)O)cn(C3CC3)c12'],\n",
       "  ['CCC1=C[C@@H]2CN(C1)Cc1c([nH]c3ccccc13)[C@@](C(=O)OC)(c1cc3c(cc1OC)N(C)[C@H]1[C@@](O)(C(=O)OC)[C@H](OC(C)=O)[C@]4(CC)C=CCN5CC[C@]31[C@@H]54)C2'],\n",
       "  ['O=C(c1cc(Cc2nnc(O)c3ccccc23)ccc1F)N1CCN(C(=O)C2CC2)CC1',\n",
       "   'CO[C@H]1C[C@@H]2CC[C@@H](C)[C@@](O)(O2)C(=O)C(=O)N2CCCC[C@H]2C(=O)O[C@H]([C@H](C)C[C@@H]2CC[C@@H](OCCO)[C@H](OC)C2)CC(=O)[C@H](C)/C=C(\\\\C)[C@@H](O)[C@@H](OC)C(=O)[C@H](C)C[C@H](C)/C=C/C=C/C=C/1C'],\n",
       "  ['CCN1CCN(Cc2ccc(-c3cc4c(=N[C@H](C)c5ccccc5)nc[nH]c4[nH]3)cc2)CC1'],\n",
       "  ['CCc1ccc(CCOc2ccc(CC3SC(=O)NC3=O)cc2)nc1'],\n",
       "  ['O=C(Cc1ccc(-c2ccc(OCCN3CCOCC3)cc2)cn1)NCc1ccccc1'],\n",
       "  ['Cc1cnc(NC(=O)Nc2cc(Br)c(C)cc2OC[C@@H]2CNCCO2)cn1',\n",
       "   'Cc1cnc(NC(=O)Nc2cc(Br)c(C)cc2OC[C@@H]2CNCCO2)cn1',\n",
       "   'Cc1cnc(NC(=O)Nc2cc(Br)c(C)cc2OC[C@@H]2CNCCO2)cn1',\n",
       "   'Cc1cnc(NC(=O)Nc2cc(Br)c(C)cc2OC[C@@H]2CNCCO2)cn1',\n",
       "   'Cc1cnc(NC(=O)Nc2cc(Br)c(C)cc2OC[C@@H]2CNCCO2)cn1'],\n",
       "  ['Cn1nnc2c(C(N)=O)ncn2c1=O'],\n",
       "  ['N[C@@H](CC(=O)N1CCn2c(nnc2C(F)(F)F)C1)Cc1cc(F)c(F)cc1F'],\n",
       "  ['Cc1ccc(Nc2nccc(N(C)c3ccc4c(C)n(C)nc4c3)n2)cc1S(N)(=O)=O'],\n",
       "  ['C=C1CC[C@H](O)C/C1=C/C=C1\\\\CCC[C@]2(C)[C@@H]([C@H](C)CCCC(C)(C)O)CC[C@@H]12'],\n",
       "  ['Cn1c(=O)cc(N2CCC[C@@H](N)C2)n(Cc2ccccc2C#N)c1=O'],\n",
       "  ['Cn1c(Nc2ccc(C(F)(F)F)cc2)nc2cc(Oc3ccnc(-c4ncc(C(F)(F)F)[nH]4)c3)ccc21'],\n",
       "  ['COc1ccc(Cl)cc1C(=O)NCCc1ccc(S(=O)(=O)NC(=O)NC2CCCCC2)cc1'],\n",
       "  ['Nc1ccn([C@@H]2O[C@H](CO)[C@@H](O)C2(F)F)c(=O)n1'],\n",
       "  ['O=c1[nH]cc(F)c(=O)[nH]1'],\n",
       "  ['Cn1c(=O)cc(N2CCC[C@@H](N)C2)n(Cc2ccccc2C#N)c1=O',\n",
       "   'Cn1c(=O)cc(N2CCC[C@@H](N)C2)n(Cc2ccccc2C#N)c1=O'],\n",
       "  ['CN1CCN(CCOc2cc(OC3CCOCC3)c3c(Nc4c(Cl)ccc5c4OCO5)ncnc3c2)CC1',\n",
       "   'Nc1ccn([C@@H]2O[C@H](CO)[C@@H](O)C2(F)F)c(=O)n1'],\n",
       "  ['O=NO'],\n",
       "  ['Cc1ccc(C(=O)N(CCCN)C(c2nc3snc(C)c3c(=O)n2Cc2ccccc2)C(C)C)cc1'],\n",
       "  ['[Cl-].[Na+]'],\n",
       "  ['CC(C)c1c(C(=O)Nc2ccccc2)c(-c2ccccc2)c(-c2ccc(F)cc2)n1CC[C@@H](O)C[C@@H](O)CC(=O)O',\n",
       "   'Cn1c(=O)cc(N2CCC[C@@H](N)C2)n(Cc2ccccc2C#N)c1=O'],\n",
       "  ['Nc1nc(N)c2nc(CNc3ccc(C(=O)N[C@@H](CCCNC(=O)c4ccccc4C(=O)O)C(=O)O)cc3)cnc2n1'],\n",
       "  ['O=[As]O[As]=O',\n",
       "   'O=P1(N(CCCl)CCCl)NCCCO1',\n",
       "   'N[C@@H](Cc1ccc(N(CCCl)CCCl)cc1)C(=O)O'],\n",
       "  ['Cn1c(=O)cc(N2CCC[C@@H](N)C2)n(Cc2ccccc2C#N)c1=O'],\n",
       "  ['CC1=C(C(=O)O)N2C(=O)[C@@H](NC(=O)[C@H](N)c3ccc(O)cc3)[C@H]2SC1', 'CC(C)O'],\n",
       "  ['Cn1c(=O)cc(N2CCC[C@@H](N)C2)n(Cc2ccccc2C#N)c1=O',\n",
       "   'CC(=O)Oc1ccccc1C(=O)O',\n",
       "   'Cn1c(=O)cc(N2CCC[C@@H](N)C2)n(Cc2ccccc2C#N)c1=O'],\n",
       "  ['C/C=C/C[C@@H](C)[C@@H](O)[C@H]1C(=O)N[C@@H](CC)C(=O)N(C)CC(=O)N(C)[C@@H](CC(C)C)C(=O)N[C@@H](C(C)C)C(=O)N(C)[C@@H](CC(C)C)C(=O)N[C@@H](C)C(=O)N[C@H](C)C(=O)N(C)[C@@H](CC(C)C)C(=O)N(C)[C@@H](CC(C)C)C(=O)N(C)[C@@H](C(C)C)C(=O)N1C',\n",
       "   'OCCOCCN1CCN(C(c2ccccc2)c2ccc(Cl)cc2)CC1',\n",
       "   'CC[C@]1(O)C[C@@H]2CN(CCc3c([nH]c4ccccc34)[C@@](C(=O)OC)(c3cc4c(cc3OC)N(C=O)[C@H]3[C@@](O)(C(=O)OC)[C@H](OC(C)=O)[C@]5(CC)C=CCN6CC[C@]43[C@@H]65)C2)C1'],\n",
       "  ['CCOc1cc2ncc(C#N)c(Nc3ccc(OCc4ccccn4)c(Cl)c3)c2cc1NC(=O)/C=C/CN(C)C'],\n",
       "  ['Cn1c(=O)cc(N2CCC[C@@H](N)C2)n(Cc2ccccc2C#N)c1=O',\n",
       "   'CN(C)CCn1cc(C(=O)N2CCC3(CC2)OCc2ccccc23)c2ccc(Cl)cc21'],\n",
       "  ['O=c1[nH]cc(F)c(=O)[nH]1'],\n",
       "  ['O=P1(N(CCCl)CCCl)NCCCO1',\n",
       "   'N[C@@H](Cc1ccc(N(CCCl)CCCl)cc1)C(=O)O',\n",
       "   'CCC1=C[C@@H]2CN(C1)Cc1c([nH]c3ccccc13)[C@@](C(=O)OC)(c1cc3c(cc1OC)N(C)[C@H]1[C@@](O)(C(=O)OC)[C@H](OC(C)=O)[C@]4(CC)C=CCN5CC[C@]31[C@@H]54)C2'],\n",
       "  ['Cn1c(=O)cc(N2CCC[C@@H](N)C2)n(Cc2ccccc2C#N)c1=O'],\n",
       "  ['CNC(=O)c1ccc(N2C(=S)N(c3cnc(C#N)c(C(F)(F)F)c3)C(=O)C23CCC3)cc1F',\n",
       "   'CNC(=O)c1ccc(N2C(=S)N(c3cnc(C#N)c(C(F)(F)F)c3)C(=O)C23CCC3)cc1F'],\n",
       "  ['N=C(N)NCCCCCCC(=O)NC(O)C(=O)NCCCCNCCCN'],\n",
       "  ['COc1ccccc1OCC(O)CO',\n",
       "   'CCCS(=O)(=O)Nc1ccc(F)c(C(=O)c2c[nH]c3ncc(-c4ccc(Cl)cc4)cc23)c1F'],\n",
       "  ['CCn1cc(C(=O)O)c(=O)c2ccc(-c3ccncc3)cc21'],\n",
       "  ['O=P1(N(CCCl)CCCl)NCCCO1',\n",
       "   'C/C=C/C[C@@H](C)[C@@H](O)[C@H]1C(=O)N[C@@H](CC)C(=O)N(C)CC(=O)N(C)[C@@H](CC(C)C)C(=O)N[C@@H](C(C)C)C(=O)N(C)[C@@H](CC(C)C)C(=O)N[C@@H](C)C(=O)N[C@H](C)C(=O)N(C)[C@@H](CC(C)C)C(=O)N(C)[C@@H](CC(C)C)C(=O)N(C)[C@@H](C(C)C)C(=O)N1C',\n",
       "   'N=C(N)NCCC[C@H](N)C(=O)O'],\n",
       "  ['Cc1ccc([C@@H]2O[C@H](CO)[C@@H](O)[C@H](O)[C@H]2O)cc1Cc1ccc(-c2ccc(F)cc2)s1',\n",
       "   'Cn1c(=O)cc(N2CCC[C@@H](N)C2)n(Cc2ccccc2C#N)c1=O'],\n",
       "  ['OC[C@H]1O[C@@H](c2ccc(F)c(Cc3cc4ccccc4s3)c2)[C@H](O)[C@@H](O)[C@@H]1O'],\n",
       "  ['Cc1[nH]c2ccccc2c1CCNCc1ccc(/C=C/C(O)=NO)cc1'],\n",
       "  ['Cn1c(=O)cc(N2CCC[C@@H](N)C2)n(Cc2ccccc2C#N)c1=O',\n",
       "   'Cn1c(=O)cc(N2CCC[C@@H](N)C2)n(Cc2ccccc2C#N)c1=O',\n",
       "   'Cn1c(=O)cc(N2CCC[C@@H](N)C2)n(Cc2ccccc2C#N)c1=O',\n",
       "   'Cn1c(=O)cc(N2CCC[C@@H](N)C2)n(Cc2ccccc2C#N)c1=O',\n",
       "   'Cn1c(=O)cc(N2CCC[C@@H](N)C2)n(Cc2ccccc2C#N)c1=O',\n",
       "   'Cn1c(=O)cc(N2CCC[C@@H](N)C2)n(Cc2ccccc2C#N)c1=O',\n",
       "   'Cn1c(=O)cc(N2CCC[C@@H](N)C2)n(Cc2ccccc2C#N)c1=O',\n",
       "   'Cn1c(=O)cc(N2CCC[C@@H](N)C2)n(Cc2ccccc2C#N)c1=O'],\n",
       "  ['O=[N+]([O-])OC[C@H]1O[C@@H](n2cnc3c(NC4CCCC4)ncnc32)[C@H](O)[C@@H]1O',\n",
       "   'Cn1c(=O)cc(N2CCC[C@@H](N)C2)n(Cc2ccccc2C#N)c1=O'],\n",
       "  ['CO[C@H]1C[C@@H]2CC[C@@H](C)[C@@](O)(O2)C(=O)C(=O)N2CCCC[C@H]2C(=O)O[C@H]([C@H](C)C[C@@H]2CC[C@@H](OCCO)[C@H](OC)C2)CC(=O)[C@H](C)/C=C(\\\\C)[C@@H](O)[C@@H](OC)C(=O)[C@H](C)C[C@H](C)/C=C/C=C/C=C/1C'],\n",
       "  ['CCc1c2c(nc3ccc(OC(=O)N4CCC(N5CCCCC5)CC4)cc13)-c1cc3c(c(=O)n1C2)COC(=O)[C@]3(O)CC'],\n",
       "  ['Cl[Cu]Cl'],\n",
       "  ['O=P([O-])([O-])F.[Na+].[Na+]'],\n",
       "  ['CC[C@]1(O)C[C@@H]2CN(CCc3c([nH]c4ccccc34)[C@@](C(=O)OC)(c3cc4c(cc3OC)N(C=O)[C@H]3[C@@](O)(C(=O)OC)[C@H](OC(C)=O)[C@]5(CC)C=CCN6CC[C@]43[C@@H]65)C2)C1'],\n",
       "  ['Cc1cc(O)cc(C)c1Cl'],\n",
       "  ['C=Cc1c(C)c2cc3nc(c(CC(=O)N[C@@H](CC(=O)O)C(=O)O)c4[nH]c(cc5nc(cc1[nH]2)C(C)=C5CC)c(C)c4C(=O)O)[C@@H](CCC(=O)O)[C@@H]3C'],\n",
       "  ['O=C1NC(=O)C(c2cnc3ccccn23)=C1c1cn2c3c(cc(F)cc13)CN(C(=O)N1CCCCC1)CC2',\n",
       "   'N=C(N)NCCC[C@H](N)C(=O)O'],\n",
       "  ['CO[C@H]1C[C@@H]2CC[C@@H](C)[C@@](O)(O2)C(=O)C(=O)N2CCCC[C@H]2C(=O)O[C@H]([C@H](C)C[C@@H]2CC[C@@H](OCCO)[C@H](OC)C2)CC(=O)[C@H](C)/C=C(\\\\C)[C@@H](O)[C@@H](OC)C(=O)[C@H](C)C[C@H](C)/C=C/C=C/C=C/1C'],\n",
       "  ['N=C(N)NCCC[C@H](N)C(=O)O',\n",
       "   'C#Cc1cccc(Nc2ncnc3cc(OCCOC)c(OCCOC)cc23)c1',\n",
       "   'CO[C@H]1C[C@@H]2CC[C@@H](C)[C@@](O)(O2)C(=O)C(=O)N2CCCC[C@H]2C(=O)O[C@H]([C@H](C)C[C@@H]2CC[C@@H](OCCO)[C@H](OC)C2)CC(=O)[C@H](C)/C=C(\\\\C)[C@@H](O)[C@@H](OC)C(=O)[C@H](C)C[C@H](C)/C=C/C=C/C=C/1C'],\n",
       "  ['Cc1nc(Nc2ncc(C(=O)Nc3c(C)cccc3Cl)s2)cc(N2CCN(CCO)CC2)n1'],\n",
       "  ['COc1cc2ncnc(Nc3ccc(F)c(Cl)c3)c2cc1OCCCN1CCOCC1'],\n",
       "  ['N=C(N)NCCC[C@H](N)C(=O)O',\n",
       "   'N=C(N)NCCC[C@H](N)C(=O)O',\n",
       "   'CC(=O)CC(c1ccccc1)c1c(O)c2ccccc2oc1=O',\n",
       "   'COc1cc2c(c(OC)c1OC)-c1ccc(OC)c(=O)cc1C(NC(C)=O)CC2'],\n",
       "  ['O=C(/C=C/c1cccc(S(=O)(=O)Nc2ccccc2)c1)NO',\n",
       "   'Nc1cccc2c1CN(C1CCC(=O)NC1=O)C2=O'],\n",
       "  ['Nc1ccc2c(c1)CN1C(=O)c3ccccc3C1=N2'],\n",
       "  ['CCNC(=O)c1noc(-c2cc(C(C)(C)C)c(O)cc2O)c1-c1ccc(CN2CCOCC2)cc1'],\n",
       "  ['Cc1[nH]c2ccccc2c1CCNCc1ccc(/C=C/C(O)=NO)cc1'],\n",
       "  ['N=C(N)NCCC[C@H](N)C(=O)O'],\n",
       "  ['Nc1nc(Cl)nc2c1ncn2[C@@H]1O[C@H](CO)[C@@H](O)[C@@H]1F'],\n",
       "  ['CCCS(=O)(=O)Nc1ccc(F)c(C(=O)c2c[nH]c3ncc(-c4ccc(Cl)cc4)cc23)c1F'],\n",
       "  ['CC(C)C[C@@H](C(=O)N[C@H](C(=O)OC1CCCC1)c1ccccc1)[C@H](O)C(=O)NO',\n",
       "   'C#Cc1cccc(Nc2ncnc3cc(OCCOC)c(OCCOC)cc23)c1'],\n",
       "  ['Cc1ccc(=O)n(-c2ccccc2)c1'],\n",
       "  ['COc1ccccc1OCCNCC(O)COc1cccc2[nH]c3ccccc3c12',\n",
       "   'CC(C)NCC(O)COc1ccc(CC(N)=O)cc1',\n",
       "   'COc1ccccc1OCCNCC(O)COc1cccc2[nH]c3ccccc3c12',\n",
       "   'Cn1c(=O)cc(N2CCC[C@@H](N)C2)n(Cc2ccccc2C#N)c1=O']],\n",
       " 'label': tensor([0, 0, 1, 0, 0, 1, 0, 1, 0, 0, 1, 1, 0, 0, 0, 1, 0, 0, 1, 1, 1, 0, 1, 1,\n",
       "         1, 0, 1, 1, 0, 0, 0, 0, 0, 1, 1, 1, 1, 1, 1, 0, 1, 1, 0, 0, 1, 0, 1, 1,\n",
       "         1, 0, 1, 1, 1, 0, 1, 1, 1, 1, 1, 0, 1, 1, 1, 0, 0, 0, 0, 1, 1, 0, 1, 1,\n",
       "         1, 1, 0, 1, 0, 1, 1, 0, 0, 0, 0, 1, 0, 0, 1, 1, 1, 0, 1, 1, 0, 1, 0, 1,\n",
       "         1, 0, 1, 0, 1, 1, 0, 0, 1, 0, 0, 1, 1, 1, 0, 1, 1, 1, 0, 1, 0, 0, 1, 0,\n",
       "         1, 0, 1, 1, 1, 0, 1, 1])}"
      ]
     },
     "execution_count": 29,
     "metadata": {},
     "output_type": "execute_result"
    }
   ],
   "source": [
    "b"
   ]
  },
  {
   "cell_type": "code",
   "execution_count": 77,
   "metadata": {},
   "outputs": [
    {
     "name": "stderr",
     "output_type": "stream",
     "text": [
      "Empty edges for [Cl-].[Na+]\n",
      "Empty edges for [Cl-].[Na+]\n"
     ]
    }
   ],
   "source": [
    "batched_graphs, ids = model.get_batched_graphs(b[\"smiles_list\"])"
   ]
  },
  {
   "cell_type": "code",
   "execution_count": 78,
   "metadata": {},
   "outputs": [
    {
     "data": {
      "text/plain": [
       "Graph(num_nodes=6664, num_edges=14318,\n",
       "      ndata_schemes={'feat': Scheme(shape=(9,), dtype=torch.int64)}\n",
       "      edata_schemes={'feat': Scheme(shape=(3,), dtype=torch.int64)})"
      ]
     },
     "execution_count": 78,
     "metadata": {},
     "output_type": "execute_result"
    }
   ],
   "source": [
    "batched_graphs"
   ]
  },
  {
   "cell_type": "code",
   "execution_count": 83,
   "metadata": {},
   "outputs": [
    {
     "data": {
      "text/plain": [
       "PNA(\n",
       "  (node_gnn): PNAGNN(\n",
       "    (mp_layers): ModuleList(\n",
       "      (0-6): 7 x PNALayer(\n",
       "        (pretrans): MLP(\n",
       "          (fully_connected): ModuleList(\n",
       "            (0): FCLayer(\n",
       "              (linear): Linear(in_features=600, out_features=200, bias=True)\n",
       "              (batch_norm): BatchNorm1d(200, eps=1e-05, momentum=0.93, affine=True, track_running_stats=True)\n",
       "              (activation): ReLU()\n",
       "            )\n",
       "            (1): FCLayer(\n",
       "              (linear): Linear(in_features=200, out_features=200, bias=True)\n",
       "              (batch_norm): BatchNorm1d(200, eps=1e-05, momentum=0.93, affine=True, track_running_stats=True)\n",
       "            )\n",
       "          )\n",
       "        )\n",
       "        (posttrans): MLP(\n",
       "          (fully_connected): ModuleList(\n",
       "            (0): FCLayer(\n",
       "              (linear): Linear(in_features=2600, out_features=200, bias=True)\n",
       "              (batch_norm): BatchNorm1d(200, eps=1e-05, momentum=0.93, affine=True, track_running_stats=True)\n",
       "            )\n",
       "          )\n",
       "        )\n",
       "      )\n",
       "    )\n",
       "    (atom_encoder): AtomEncoder(\n",
       "      (atom_embedding_list): ModuleList(\n",
       "        (0): Embedding(119, 200)\n",
       "        (1): Embedding(5, 200)\n",
       "        (2-3): 2 x Embedding(12, 200)\n",
       "        (4): Embedding(10, 200)\n",
       "        (5-6): 2 x Embedding(6, 200)\n",
       "        (7-8): 2 x Embedding(2, 200)\n",
       "      )\n",
       "    )\n",
       "    (bond_encoder): BondEncoder(\n",
       "      (bond_embedding_list): ModuleList(\n",
       "        (0): Embedding(5, 200)\n",
       "        (1): Embedding(6, 200)\n",
       "        (2): Embedding(2, 200)\n",
       "      )\n",
       "    )\n",
       "  )\n",
       "  (output): MLP(\n",
       "    (fully_connected): ModuleList(\n",
       "      (0): FCLayer(\n",
       "        (linear): Linear(in_features=600, out_features=200, bias=True)\n",
       "        (batch_norm): BatchNorm1d(200, eps=1e-05, momentum=0.93, affine=True, track_running_stats=True)\n",
       "        (activation): ReLU()\n",
       "      )\n",
       "      (1): FCLayer(\n",
       "        (linear): Linear(in_features=200, out_features=256, bias=True)\n",
       "      )\n",
       "    )\n",
       "  )\n",
       "  (backbone): PNAGNN(\n",
       "    (mp_layers): ModuleList(\n",
       "      (0-6): 7 x PNALayer(\n",
       "        (pretrans): MLP(\n",
       "          (fully_connected): ModuleList(\n",
       "            (0): FCLayer(\n",
       "              (linear): Linear(in_features=600, out_features=200, bias=True)\n",
       "              (batch_norm): BatchNorm1d(200, eps=1e-05, momentum=0.93, affine=True, track_running_stats=True)\n",
       "              (activation): ReLU()\n",
       "            )\n",
       "            (1): FCLayer(\n",
       "              (linear): Linear(in_features=200, out_features=200, bias=True)\n",
       "              (batch_norm): BatchNorm1d(200, eps=1e-05, momentum=0.93, affine=True, track_running_stats=True)\n",
       "            )\n",
       "          )\n",
       "        )\n",
       "        (posttrans): MLP(\n",
       "          (fully_connected): ModuleList(\n",
       "            (0): FCLayer(\n",
       "              (linear): Linear(in_features=2600, out_features=200, bias=True)\n",
       "              (batch_norm): BatchNorm1d(200, eps=1e-05, momentum=0.93, affine=True, track_running_stats=True)\n",
       "            )\n",
       "          )\n",
       "        )\n",
       "      )\n",
       "    )\n",
       "    (atom_encoder): AtomEncoder(\n",
       "      (atom_embedding_list): ModuleList(\n",
       "        (0): Embedding(119, 200)\n",
       "        (1): Embedding(5, 200)\n",
       "        (2-3): 2 x Embedding(12, 200)\n",
       "        (4): Embedding(10, 200)\n",
       "        (5-6): 2 x Embedding(6, 200)\n",
       "        (7-8): 2 x Embedding(2, 200)\n",
       "      )\n",
       "    )\n",
       "    (bond_encoder): BondEncoder(\n",
       "      (bond_embedding_list): ModuleList(\n",
       "        (0): Embedding(5, 200)\n",
       "        (1): Embedding(6, 200)\n",
       "        (2): Embedding(2, 200)\n",
       "      )\n",
       "    )\n",
       "  )\n",
       "  (projection_head): Sequential(\n",
       "    (0): Linear(in_features=256, out_features=256, bias=True)\n",
       "    (1): ReLU()\n",
       "    (2): LayerNorm((256,), eps=1e-05, elementwise_affine=True)\n",
       "    (3): Dropout(p=0.1, inplace=False)\n",
       "    (4): Linear(in_features=256, out_features=256, bias=True)\n",
       "  )\n",
       ")"
      ]
     },
     "execution_count": 83,
     "metadata": {},
     "output_type": "execute_result"
    }
   ],
   "source": [
    "model.molecule_encoder"
   ]
  },
  {
   "cell_type": "code",
   "execution_count": 84,
   "metadata": {},
   "outputs": [],
   "source": [
    "b_emb = model.molecule_encoder(batched_graphs)"
   ]
  },
  {
   "cell_type": "code",
   "execution_count": 87,
   "metadata": {},
   "outputs": [
    {
     "name": "stderr",
     "output_type": "stream",
     "text": [
      "Empty edges for [Cl-].[Na+]\n",
      "Empty edges for [Cl-].[Na+]\n"
     ]
    },
    {
     "ename": "ValueError",
     "evalue": "Target size (torch.Size([128, 1])) must be the same as input size (torch.Size([127, 1]))",
     "output_type": "error",
     "traceback": [
      "\u001b[0;31m---------------------------------------------------------------------------\u001b[0m",
      "\u001b[0;31mValueError\u001b[0m                                Traceback (most recent call last)",
      "\u001b[1;32m/mnt/2547d4d7-6732-4154-b0e1-17b0c1e0c565/Document-2/Projet2/Stage/workspace/jump_models/notebooks/2.5-gw-hint-evaluation.ipynb Cell 30\u001b[0m line \u001b[0;36m1\n\u001b[0;32m----> <a href='vscode-notebook-cell:/mnt/2547d4d7-6732-4154-b0e1-17b0c1e0c565/Document-2/Projet2/Stage/workspace/jump_models/notebooks/2.5-gw-hint-evaluation.ipynb#X41sZmlsZQ%3D%3D?line=0'>1</a>\u001b[0m model\u001b[39m.\u001b[39;49mmodel_step(b, \u001b[39m\"\u001b[39;49m\u001b[39mtrain\u001b[39;49m\u001b[39m\"\u001b[39;49m)\n",
      "File \u001b[0;32m/mnt/2547d4d7-6732-4154-b0e1-17b0c1e0c565/Document-2/Projet2/Stage/workspace/jump_models/src/eval/clinical_prediction/module.py:197\u001b[0m, in \u001b[0;36mHintClinicalModule.model_step\u001b[0;34m(self, batch, stage, on_step_loss)\u001b[0m\n\u001b[1;32m    194\u001b[0m compound_embeddings \u001b[39m=\u001b[39m \u001b[39mself\u001b[39m\u001b[39m.\u001b[39mforward_smiles_lst_lst(smiles_list)\n\u001b[1;32m    195\u001b[0m logits \u001b[39m=\u001b[39m \u001b[39mself\u001b[39m\u001b[39m.\u001b[39mhead(compound_embeddings)\n\u001b[0;32m--> 197\u001b[0m loss \u001b[39m=\u001b[39m \u001b[39mself\u001b[39;49m\u001b[39m.\u001b[39;49mcriterion(logits, targets)\n\u001b[1;32m    198\u001b[0m preds \u001b[39m=\u001b[39m F\u001b[39m.\u001b[39msigmoid(logits)\n\u001b[1;32m    200\u001b[0m \u001b[39m# update metrics\u001b[39;00m\n",
      "File \u001b[0;32m~/miniconda3/envs/jump_models/lib/python3.10/site-packages/torch/nn/modules/module.py:1501\u001b[0m, in \u001b[0;36mModule._call_impl\u001b[0;34m(self, *args, **kwargs)\u001b[0m\n\u001b[1;32m   1496\u001b[0m \u001b[39m# If we don't have any hooks, we want to skip the rest of the logic in\u001b[39;00m\n\u001b[1;32m   1497\u001b[0m \u001b[39m# this function, and just call forward.\u001b[39;00m\n\u001b[1;32m   1498\u001b[0m \u001b[39mif\u001b[39;00m \u001b[39mnot\u001b[39;00m (\u001b[39mself\u001b[39m\u001b[39m.\u001b[39m_backward_hooks \u001b[39mor\u001b[39;00m \u001b[39mself\u001b[39m\u001b[39m.\u001b[39m_backward_pre_hooks \u001b[39mor\u001b[39;00m \u001b[39mself\u001b[39m\u001b[39m.\u001b[39m_forward_hooks \u001b[39mor\u001b[39;00m \u001b[39mself\u001b[39m\u001b[39m.\u001b[39m_forward_pre_hooks\n\u001b[1;32m   1499\u001b[0m         \u001b[39mor\u001b[39;00m _global_backward_pre_hooks \u001b[39mor\u001b[39;00m _global_backward_hooks\n\u001b[1;32m   1500\u001b[0m         \u001b[39mor\u001b[39;00m _global_forward_hooks \u001b[39mor\u001b[39;00m _global_forward_pre_hooks):\n\u001b[0;32m-> 1501\u001b[0m     \u001b[39mreturn\u001b[39;00m forward_call(\u001b[39m*\u001b[39;49margs, \u001b[39m*\u001b[39;49m\u001b[39m*\u001b[39;49mkwargs)\n\u001b[1;32m   1502\u001b[0m \u001b[39m# Do not call functions when jit is used\u001b[39;00m\n\u001b[1;32m   1503\u001b[0m full_backward_hooks, non_full_backward_hooks \u001b[39m=\u001b[39m [], []\n",
      "File \u001b[0;32m~/miniconda3/envs/jump_models/lib/python3.10/site-packages/torch/nn/modules/loss.py:720\u001b[0m, in \u001b[0;36mBCEWithLogitsLoss.forward\u001b[0;34m(self, input, target)\u001b[0m\n\u001b[1;32m    719\u001b[0m \u001b[39mdef\u001b[39;00m \u001b[39mforward\u001b[39m(\u001b[39mself\u001b[39m, \u001b[39minput\u001b[39m: Tensor, target: Tensor) \u001b[39m-\u001b[39m\u001b[39m>\u001b[39m Tensor:\n\u001b[0;32m--> 720\u001b[0m     \u001b[39mreturn\u001b[39;00m F\u001b[39m.\u001b[39;49mbinary_cross_entropy_with_logits(\u001b[39minput\u001b[39;49m, target,\n\u001b[1;32m    721\u001b[0m                                               \u001b[39mself\u001b[39;49m\u001b[39m.\u001b[39;49mweight,\n\u001b[1;32m    722\u001b[0m                                               pos_weight\u001b[39m=\u001b[39;49m\u001b[39mself\u001b[39;49m\u001b[39m.\u001b[39;49mpos_weight,\n\u001b[1;32m    723\u001b[0m                                               reduction\u001b[39m=\u001b[39;49m\u001b[39mself\u001b[39;49m\u001b[39m.\u001b[39;49mreduction)\n",
      "File \u001b[0;32m~/miniconda3/envs/jump_models/lib/python3.10/site-packages/torch/nn/functional.py:3163\u001b[0m, in \u001b[0;36mbinary_cross_entropy_with_logits\u001b[0;34m(input, target, weight, size_average, reduce, reduction, pos_weight)\u001b[0m\n\u001b[1;32m   3160\u001b[0m     reduction_enum \u001b[39m=\u001b[39m _Reduction\u001b[39m.\u001b[39mget_enum(reduction)\n\u001b[1;32m   3162\u001b[0m \u001b[39mif\u001b[39;00m \u001b[39mnot\u001b[39;00m (target\u001b[39m.\u001b[39msize() \u001b[39m==\u001b[39m \u001b[39minput\u001b[39m\u001b[39m.\u001b[39msize()):\n\u001b[0;32m-> 3163\u001b[0m     \u001b[39mraise\u001b[39;00m \u001b[39mValueError\u001b[39;00m(\u001b[39m\"\u001b[39m\u001b[39mTarget size (\u001b[39m\u001b[39m{}\u001b[39;00m\u001b[39m) must be the same as input size (\u001b[39m\u001b[39m{}\u001b[39;00m\u001b[39m)\u001b[39m\u001b[39m\"\u001b[39m\u001b[39m.\u001b[39mformat(target\u001b[39m.\u001b[39msize(), \u001b[39minput\u001b[39m\u001b[39m.\u001b[39msize()))\n\u001b[1;32m   3165\u001b[0m \u001b[39mreturn\u001b[39;00m torch\u001b[39m.\u001b[39mbinary_cross_entropy_with_logits(\u001b[39minput\u001b[39m, target, weight, pos_weight, reduction_enum)\n",
      "\u001b[0;31mValueError\u001b[0m: Target size (torch.Size([128, 1])) must be the same as input size (torch.Size([127, 1]))"
     ]
    }
   ],
   "source": [
    "model.model_step(b, \"train\")"
   ]
  },
  {
   "cell_type": "code",
   "execution_count": null,
   "metadata": {},
   "outputs": [],
   "source": []
  },
  {
   "cell_type": "code",
   "execution_count": 28,
   "metadata": {},
   "outputs": [
    {
     "ename": "TypeError",
     "evalue": "HintClinicalModule.forward() missing 1 required positional argument: 'compound'",
     "output_type": "error",
     "traceback": [
      "\u001b[0;31m---------------------------------------------------------------------------\u001b[0m",
      "\u001b[0;31mTypeError\u001b[0m                                 Traceback (most recent call last)",
      "\u001b[1;32m/mnt/2547d4d7-6732-4154-b0e1-17b0c1e0c565/Document-2/Projet2/Stage/workspace/jump_models/notebooks/2.5-gw-hint-evaluation.ipynb Cell 25\u001b[0m line \u001b[0;36m1\n\u001b[0;32m----> <a href='vscode-notebook-cell:/mnt/2547d4d7-6732-4154-b0e1-17b0c1e0c565/Document-2/Projet2/Stage/workspace/jump_models/notebooks/2.5-gw-hint-evaluation.ipynb#X34sZmlsZQ%3D%3D?line=0'>1</a>\u001b[0m model(\u001b[39m*\u001b[39;49m\u001b[39m*\u001b[39;49mb)\n",
      "File \u001b[0;32m~/miniconda3/envs/jump_models/lib/python3.10/site-packages/torch/nn/modules/module.py:1501\u001b[0m, in \u001b[0;36mModule._call_impl\u001b[0;34m(self, *args, **kwargs)\u001b[0m\n\u001b[1;32m   1496\u001b[0m \u001b[39m# If we don't have any hooks, we want to skip the rest of the logic in\u001b[39;00m\n\u001b[1;32m   1497\u001b[0m \u001b[39m# this function, and just call forward.\u001b[39;00m\n\u001b[1;32m   1498\u001b[0m \u001b[39mif\u001b[39;00m \u001b[39mnot\u001b[39;00m (\u001b[39mself\u001b[39m\u001b[39m.\u001b[39m_backward_hooks \u001b[39mor\u001b[39;00m \u001b[39mself\u001b[39m\u001b[39m.\u001b[39m_backward_pre_hooks \u001b[39mor\u001b[39;00m \u001b[39mself\u001b[39m\u001b[39m.\u001b[39m_forward_hooks \u001b[39mor\u001b[39;00m \u001b[39mself\u001b[39m\u001b[39m.\u001b[39m_forward_pre_hooks\n\u001b[1;32m   1499\u001b[0m         \u001b[39mor\u001b[39;00m _global_backward_pre_hooks \u001b[39mor\u001b[39;00m _global_backward_hooks\n\u001b[1;32m   1500\u001b[0m         \u001b[39mor\u001b[39;00m _global_forward_hooks \u001b[39mor\u001b[39;00m _global_forward_pre_hooks):\n\u001b[0;32m-> 1501\u001b[0m     \u001b[39mreturn\u001b[39;00m forward_call(\u001b[39m*\u001b[39;49margs, \u001b[39m*\u001b[39;49m\u001b[39m*\u001b[39;49mkwargs)\n\u001b[1;32m   1502\u001b[0m \u001b[39m# Do not call functions when jit is used\u001b[39;00m\n\u001b[1;32m   1503\u001b[0m full_backward_hooks, non_full_backward_hooks \u001b[39m=\u001b[39m [], []\n",
      "\u001b[0;31mTypeError\u001b[0m: HintClinicalModule.forward() missing 1 required positional argument: 'compound'"
     ]
    }
   ],
   "source": [
    "model(**b)"
   ]
  },
  {
   "cell_type": "code",
   "execution_count": 17,
   "metadata": {},
   "outputs": [
    {
     "name": "stderr",
     "output_type": "stream",
     "text": [
      "Failed to detect the name of this notebook, you can set it manually with the WANDB_NOTEBOOK_NAME environment variable to enable code saving.\n",
      "\u001b[34m\u001b[1mwandb\u001b[0m: Currently logged in as: \u001b[33mgabriel-watkinson-work\u001b[0m (\u001b[33mjump_models\u001b[0m). Use \u001b[1m`wandb login --relogin`\u001b[0m to force relogin\n"
     ]
    },
    {
     "data": {
      "text/html": [
       "wandb version 0.15.9 is available!  To upgrade, please run:\n",
       " $ pip install wandb --upgrade"
      ],
      "text/plain": [
       "<IPython.core.display.HTML object>"
      ]
     },
     "metadata": {},
     "output_type": "display_data"
    },
    {
     "data": {
      "text/html": [
       "Tracking run with wandb version 0.15.8"
      ],
      "text/plain": [
       "<IPython.core.display.HTML object>"
      ]
     },
     "metadata": {},
     "output_type": "display_data"
    },
    {
     "data": {
      "text/html": [
       "Run data is saved locally in <code>./wandb/run-20230830_153950-qovoqylj</code>"
      ],
      "text/plain": [
       "<IPython.core.display.HTML object>"
      ]
     },
     "metadata": {},
     "output_type": "display_data"
    },
    {
     "data": {
      "text/html": [
       "Syncing run <strong><a href='https://wandb.ai/jump_models/clinical-trial-outcome-prediction/runs/qovoqylj' target=\"_blank\">gin-supervised-contextpred</a></strong> to <a href='https://wandb.ai/jump_models/clinical-trial-outcome-prediction' target=\"_blank\">Weights & Biases</a> (<a href='https://wandb.me/run' target=\"_blank\">docs</a>)<br/>"
      ],
      "text/plain": [
       "<IPython.core.display.HTML object>"
      ]
     },
     "metadata": {},
     "output_type": "display_data"
    },
    {
     "data": {
      "text/html": [
       " View project at <a href='https://wandb.ai/jump_models/clinical-trial-outcome-prediction' target=\"_blank\">https://wandb.ai/jump_models/clinical-trial-outcome-prediction</a>"
      ],
      "text/plain": [
       "<IPython.core.display.HTML object>"
      ]
     },
     "metadata": {},
     "output_type": "display_data"
    },
    {
     "data": {
      "text/html": [
       " View run at <a href='https://wandb.ai/jump_models/clinical-trial-outcome-prediction/runs/qovoqylj' target=\"_blank\">https://wandb.ai/jump_models/clinical-trial-outcome-prediction/runs/qovoqylj</a>"
      ],
      "text/plain": [
       "<IPython.core.display.HTML object>"
      ]
     },
     "metadata": {},
     "output_type": "display_data"
    }
   ],
   "source": [
    "logger = [\n",
    "    loggers.WandbLogger(\n",
    "        project=\"clinical-trial-outcome-prediction\",\n",
    "        name=\"gin-supervised-contextpred\",\n",
    "        log_model=True,\n",
    "    )\n",
    "]"
   ]
  },
  {
   "cell_type": "code",
   "execution_count": 34,
   "metadata": {},
   "outputs": [
    {
     "name": "stderr",
     "output_type": "stream",
     "text": [
      "GPU available: True (cuda), used: True\n",
      "TPU available: False, using: 0 TPU cores\n",
      "IPU available: False, using: 0 IPUs\n",
      "HPU available: False, using: 0 HPUs\n"
     ]
    }
   ],
   "source": [
    "trainer = Trainer(\n",
    "    accelerator=\"gpu\",\n",
    "    devices=1,\n",
    "    max_epochs=50,\n",
    "    logger=logger,\n",
    "    log_every_n_steps=1,\n",
    ")"
   ]
  },
  {
   "cell_type": "code",
   "execution_count": 35,
   "metadata": {},
   "outputs": [
    {
     "name": "stderr",
     "output_type": "stream",
     "text": [
      "/home/gwatk/miniconda3/envs/jump_models/lib/python3.10/site-packages/lightning/pytorch/callbacks/model_checkpoint.py:617: UserWarning: Checkpoint directory ./clinical-trial-outcome-prediction/qovoqylj/checkpoints exists and is not empty.\n",
      "  rank_zero_warn(f\"Checkpoint directory {dirpath} exists and is not empty.\")\n",
      "LOCAL_RANK: 0 - CUDA_VISIBLE_DEVICES: [0]\n",
      "\n",
      "   | Name                | Type                        | Params\n",
      "---------------------------------------------------------------------\n",
      "0  | molecule_encoder    | GINPretrainedWithLinearHead | 2.0 M \n",
      "1  | head                | Sequential                  | 66.0 K\n",
      "2  | criterion           | BCEWithLogitsLoss           | 0     \n",
      "3  | train_loss          | MeanMetric                  | 0     \n",
      "4  | val_loss            | MeanMetric                  | 0     \n",
      "5  | test_loss           | MeanMetric                  | 0     \n",
      "6  | train_other_metrics | MetricCollection            | 0     \n",
      "7  | val_other_metrics   | MetricCollection            | 0     \n",
      "8  | test_other_metrics  | MetricCollection            | 0     \n",
      "9  | train_plot_metrics  | MetricCollection            | 0     \n",
      "10 | val_plot_metrics    | MetricCollection            | 0     \n",
      "11 | test_plot_metrics   | MetricCollection            | 0     \n",
      "---------------------------------------------------------------------\n",
      "2.1 M     Trainable params\n",
      "0         Non-trainable params\n",
      "2.1 M     Total params\n",
      "8.267     Total estimated model params size (MB)\n"
     ]
    },
    {
     "data": {
      "application/vnd.jupyter.widget-view+json": {
       "model_id": "cf77ff1ab9404f9b954c20603b39c4bb",
       "version_major": 2,
       "version_minor": 0
      },
      "text/plain": [
       "Sanity Checking: 0it [00:00, ?it/s]"
      ]
     },
     "metadata": {},
     "output_type": "display_data"
    },
    {
     "data": {
      "application/vnd.jupyter.widget-view+json": {
       "model_id": "8d4b8cd6e8be49e083d30f1f41851a08",
       "version_major": 2,
       "version_minor": 0
      },
      "text/plain": [
       "Training: 0it [00:00, ?it/s]"
      ]
     },
     "metadata": {},
     "output_type": "display_data"
    },
    {
     "data": {
      "application/vnd.jupyter.widget-view+json": {
       "model_id": "7a823d1efb134d06adaab604ca2f3115",
       "version_major": 2,
       "version_minor": 0
      },
      "text/plain": [
       "Validation: 0it [00:00, ?it/s]"
      ]
     },
     "metadata": {},
     "output_type": "display_data"
    },
    {
     "data": {
      "application/vnd.jupyter.widget-view+json": {
       "model_id": "c260d111e0ac4f1da927784556567f67",
       "version_major": 2,
       "version_minor": 0
      },
      "text/plain": [
       "Validation: 0it [00:00, ?it/s]"
      ]
     },
     "metadata": {},
     "output_type": "display_data"
    },
    {
     "data": {
      "application/vnd.jupyter.widget-view+json": {
       "model_id": "245a38622230461aa2da6af74884589d",
       "version_major": 2,
       "version_minor": 0
      },
      "text/plain": [
       "Validation: 0it [00:00, ?it/s]"
      ]
     },
     "metadata": {},
     "output_type": "display_data"
    },
    {
     "data": {
      "application/vnd.jupyter.widget-view+json": {
       "model_id": "cdd827290f2848fb815fa2ef61e2f369",
       "version_major": 2,
       "version_minor": 0
      },
      "text/plain": [
       "Validation: 0it [00:00, ?it/s]"
      ]
     },
     "metadata": {},
     "output_type": "display_data"
    },
    {
     "data": {
      "application/vnd.jupyter.widget-view+json": {
       "model_id": "2701cd4982af4f7cbe987e52aaa91204",
       "version_major": 2,
       "version_minor": 0
      },
      "text/plain": [
       "Validation: 0it [00:00, ?it/s]"
      ]
     },
     "metadata": {},
     "output_type": "display_data"
    },
    {
     "data": {
      "application/vnd.jupyter.widget-view+json": {
       "model_id": "e021659c53334a86bacaf11e6f3b11e5",
       "version_major": 2,
       "version_minor": 0
      },
      "text/plain": [
       "Validation: 0it [00:00, ?it/s]"
      ]
     },
     "metadata": {},
     "output_type": "display_data"
    },
    {
     "data": {
      "application/vnd.jupyter.widget-view+json": {
       "model_id": "2bb447d13590462b94699848aa9c8648",
       "version_major": 2,
       "version_minor": 0
      },
      "text/plain": [
       "Validation: 0it [00:00, ?it/s]"
      ]
     },
     "metadata": {},
     "output_type": "display_data"
    },
    {
     "data": {
      "application/vnd.jupyter.widget-view+json": {
       "model_id": "baca29b7c8884bf2a358ad1f7bcb4b8c",
       "version_major": 2,
       "version_minor": 0
      },
      "text/plain": [
       "Validation: 0it [00:00, ?it/s]"
      ]
     },
     "metadata": {},
     "output_type": "display_data"
    },
    {
     "data": {
      "application/vnd.jupyter.widget-view+json": {
       "model_id": "60133d396487469a8f7917bc1c402e89",
       "version_major": 2,
       "version_minor": 0
      },
      "text/plain": [
       "Validation: 0it [00:00, ?it/s]"
      ]
     },
     "metadata": {},
     "output_type": "display_data"
    },
    {
     "data": {
      "application/vnd.jupyter.widget-view+json": {
       "model_id": "e9d2a15208f7476e997262f8f1324434",
       "version_major": 2,
       "version_minor": 0
      },
      "text/plain": [
       "Validation: 0it [00:00, ?it/s]"
      ]
     },
     "metadata": {},
     "output_type": "display_data"
    },
    {
     "data": {
      "application/vnd.jupyter.widget-view+json": {
       "model_id": "d8365b0094a6452b9c721cebd77c6cc0",
       "version_major": 2,
       "version_minor": 0
      },
      "text/plain": [
       "Validation: 0it [00:00, ?it/s]"
      ]
     },
     "metadata": {},
     "output_type": "display_data"
    },
    {
     "data": {
      "application/vnd.jupyter.widget-view+json": {
       "model_id": "cec4e9b5255f446e9ebdbe17b1fe76d0",
       "version_major": 2,
       "version_minor": 0
      },
      "text/plain": [
       "Validation: 0it [00:00, ?it/s]"
      ]
     },
     "metadata": {},
     "output_type": "display_data"
    },
    {
     "data": {
      "application/vnd.jupyter.widget-view+json": {
       "model_id": "52b05721e9e643b291eaee57bf1d0c18",
       "version_major": 2,
       "version_minor": 0
      },
      "text/plain": [
       "Validation: 0it [00:00, ?it/s]"
      ]
     },
     "metadata": {},
     "output_type": "display_data"
    },
    {
     "data": {
      "application/vnd.jupyter.widget-view+json": {
       "model_id": "526dd5f4ac004c2c992eee7761ea422b",
       "version_major": 2,
       "version_minor": 0
      },
      "text/plain": [
       "Validation: 0it [00:00, ?it/s]"
      ]
     },
     "metadata": {},
     "output_type": "display_data"
    },
    {
     "data": {
      "application/vnd.jupyter.widget-view+json": {
       "model_id": "84ea5b829ef64a2eb42fe0a706b5b862",
       "version_major": 2,
       "version_minor": 0
      },
      "text/plain": [
       "Validation: 0it [00:00, ?it/s]"
      ]
     },
     "metadata": {},
     "output_type": "display_data"
    },
    {
     "data": {
      "application/vnd.jupyter.widget-view+json": {
       "model_id": "115983dc1af74496b882a29af59422f7",
       "version_major": 2,
       "version_minor": 0
      },
      "text/plain": [
       "Validation: 0it [00:00, ?it/s]"
      ]
     },
     "metadata": {},
     "output_type": "display_data"
    },
    {
     "data": {
      "application/vnd.jupyter.widget-view+json": {
       "model_id": "01dd03c3d70b468490b4fa47ba606257",
       "version_major": 2,
       "version_minor": 0
      },
      "text/plain": [
       "Validation: 0it [00:00, ?it/s]"
      ]
     },
     "metadata": {},
     "output_type": "display_data"
    },
    {
     "data": {
      "application/vnd.jupyter.widget-view+json": {
       "model_id": "1ffdaffd106945be8bbd5a75bdedc82c",
       "version_major": 2,
       "version_minor": 0
      },
      "text/plain": [
       "Validation: 0it [00:00, ?it/s]"
      ]
     },
     "metadata": {},
     "output_type": "display_data"
    },
    {
     "data": {
      "application/vnd.jupyter.widget-view+json": {
       "model_id": "753727535e054d6094e3db5606297852",
       "version_major": 2,
       "version_minor": 0
      },
      "text/plain": [
       "Validation: 0it [00:00, ?it/s]"
      ]
     },
     "metadata": {},
     "output_type": "display_data"
    },
    {
     "data": {
      "application/vnd.jupyter.widget-view+json": {
       "model_id": "0dc1b4bc39444db29fb9f24e67cb5e8a",
       "version_major": 2,
       "version_minor": 0
      },
      "text/plain": [
       "Validation: 0it [00:00, ?it/s]"
      ]
     },
     "metadata": {},
     "output_type": "display_data"
    },
    {
     "data": {
      "application/vnd.jupyter.widget-view+json": {
       "model_id": "0736033e2515421a81458ff9db8c1def",
       "version_major": 2,
       "version_minor": 0
      },
      "text/plain": [
       "Validation: 0it [00:00, ?it/s]"
      ]
     },
     "metadata": {},
     "output_type": "display_data"
    },
    {
     "data": {
      "application/vnd.jupyter.widget-view+json": {
       "model_id": "5446acaa411a402492aac27f9ef619b0",
       "version_major": 2,
       "version_minor": 0
      },
      "text/plain": [
       "Validation: 0it [00:00, ?it/s]"
      ]
     },
     "metadata": {},
     "output_type": "display_data"
    },
    {
     "data": {
      "application/vnd.jupyter.widget-view+json": {
       "model_id": "75c91a35b273493bbfa5a8c5f4375000",
       "version_major": 2,
       "version_minor": 0
      },
      "text/plain": [
       "Validation: 0it [00:00, ?it/s]"
      ]
     },
     "metadata": {},
     "output_type": "display_data"
    },
    {
     "data": {
      "application/vnd.jupyter.widget-view+json": {
       "model_id": "8a735c6874074e268bd29d3da47c7579",
       "version_major": 2,
       "version_minor": 0
      },
      "text/plain": [
       "Validation: 0it [00:00, ?it/s]"
      ]
     },
     "metadata": {},
     "output_type": "display_data"
    },
    {
     "data": {
      "application/vnd.jupyter.widget-view+json": {
       "model_id": "b27dfe00af2e4c07b5e4cf988d29324f",
       "version_major": 2,
       "version_minor": 0
      },
      "text/plain": [
       "Validation: 0it [00:00, ?it/s]"
      ]
     },
     "metadata": {},
     "output_type": "display_data"
    },
    {
     "data": {
      "application/vnd.jupyter.widget-view+json": {
       "model_id": "f70b682550f045d1b48f79af2dd2f353",
       "version_major": 2,
       "version_minor": 0
      },
      "text/plain": [
       "Validation: 0it [00:00, ?it/s]"
      ]
     },
     "metadata": {},
     "output_type": "display_data"
    },
    {
     "data": {
      "application/vnd.jupyter.widget-view+json": {
       "model_id": "a3b448b64b1649cb8034a71e6a58dce4",
       "version_major": 2,
       "version_minor": 0
      },
      "text/plain": [
       "Validation: 0it [00:00, ?it/s]"
      ]
     },
     "metadata": {},
     "output_type": "display_data"
    },
    {
     "data": {
      "application/vnd.jupyter.widget-view+json": {
       "model_id": "6731dc6b2c67493cb10546a13eae818d",
       "version_major": 2,
       "version_minor": 0
      },
      "text/plain": [
       "Validation: 0it [00:00, ?it/s]"
      ]
     },
     "metadata": {},
     "output_type": "display_data"
    },
    {
     "data": {
      "application/vnd.jupyter.widget-view+json": {
       "model_id": "16186cb22a374493a8e938d083f68ee8",
       "version_major": 2,
       "version_minor": 0
      },
      "text/plain": [
       "Validation: 0it [00:00, ?it/s]"
      ]
     },
     "metadata": {},
     "output_type": "display_data"
    },
    {
     "data": {
      "application/vnd.jupyter.widget-view+json": {
       "model_id": "a2cd1cd31b0545c4a12766bc52a55bd4",
       "version_major": 2,
       "version_minor": 0
      },
      "text/plain": [
       "Validation: 0it [00:00, ?it/s]"
      ]
     },
     "metadata": {},
     "output_type": "display_data"
    },
    {
     "data": {
      "application/vnd.jupyter.widget-view+json": {
       "model_id": "9b14afa733b44ee49e9ec334e9ec824b",
       "version_major": 2,
       "version_minor": 0
      },
      "text/plain": [
       "Validation: 0it [00:00, ?it/s]"
      ]
     },
     "metadata": {},
     "output_type": "display_data"
    },
    {
     "data": {
      "application/vnd.jupyter.widget-view+json": {
       "model_id": "91af80514046424baca469fc905f621f",
       "version_major": 2,
       "version_minor": 0
      },
      "text/plain": [
       "Validation: 0it [00:00, ?it/s]"
      ]
     },
     "metadata": {},
     "output_type": "display_data"
    },
    {
     "data": {
      "application/vnd.jupyter.widget-view+json": {
       "model_id": "9a1cc0bf8a3e499bbede511bc960dc82",
       "version_major": 2,
       "version_minor": 0
      },
      "text/plain": [
       "Validation: 0it [00:00, ?it/s]"
      ]
     },
     "metadata": {},
     "output_type": "display_data"
    },
    {
     "data": {
      "application/vnd.jupyter.widget-view+json": {
       "model_id": "9feb1e0824be449989199c9f9f362bd1",
       "version_major": 2,
       "version_minor": 0
      },
      "text/plain": [
       "Validation: 0it [00:00, ?it/s]"
      ]
     },
     "metadata": {},
     "output_type": "display_data"
    },
    {
     "data": {
      "application/vnd.jupyter.widget-view+json": {
       "model_id": "24f8ef6df2ad4cc2a0ac1e6cdf8bab1d",
       "version_major": 2,
       "version_minor": 0
      },
      "text/plain": [
       "Validation: 0it [00:00, ?it/s]"
      ]
     },
     "metadata": {},
     "output_type": "display_data"
    },
    {
     "data": {
      "application/vnd.jupyter.widget-view+json": {
       "model_id": "38bfb0bb81b24d7aa18a6fa124ffdf36",
       "version_major": 2,
       "version_minor": 0
      },
      "text/plain": [
       "Validation: 0it [00:00, ?it/s]"
      ]
     },
     "metadata": {},
     "output_type": "display_data"
    },
    {
     "data": {
      "application/vnd.jupyter.widget-view+json": {
       "model_id": "c5d7ff4f3b4d4d18b97a2e3dd47d89a3",
       "version_major": 2,
       "version_minor": 0
      },
      "text/plain": [
       "Validation: 0it [00:00, ?it/s]"
      ]
     },
     "metadata": {},
     "output_type": "display_data"
    },
    {
     "data": {
      "application/vnd.jupyter.widget-view+json": {
       "model_id": "96157a8d615845989dfffe52d22dcaea",
       "version_major": 2,
       "version_minor": 0
      },
      "text/plain": [
       "Validation: 0it [00:00, ?it/s]"
      ]
     },
     "metadata": {},
     "output_type": "display_data"
    },
    {
     "data": {
      "application/vnd.jupyter.widget-view+json": {
       "model_id": "79a1f14dbb494f9293e0e18b9991671b",
       "version_major": 2,
       "version_minor": 0
      },
      "text/plain": [
       "Validation: 0it [00:00, ?it/s]"
      ]
     },
     "metadata": {},
     "output_type": "display_data"
    },
    {
     "data": {
      "application/vnd.jupyter.widget-view+json": {
       "model_id": "00d5e167c85340d880222c249425ac8e",
       "version_major": 2,
       "version_minor": 0
      },
      "text/plain": [
       "Validation: 0it [00:00, ?it/s]"
      ]
     },
     "metadata": {},
     "output_type": "display_data"
    },
    {
     "data": {
      "application/vnd.jupyter.widget-view+json": {
       "model_id": "4d631903e22a49f5902fb67e6208420b",
       "version_major": 2,
       "version_minor": 0
      },
      "text/plain": [
       "Validation: 0it [00:00, ?it/s]"
      ]
     },
     "metadata": {},
     "output_type": "display_data"
    },
    {
     "data": {
      "application/vnd.jupyter.widget-view+json": {
       "model_id": "73c80cbee45245bf97d8394bbccd468d",
       "version_major": 2,
       "version_minor": 0
      },
      "text/plain": [
       "Validation: 0it [00:00, ?it/s]"
      ]
     },
     "metadata": {},
     "output_type": "display_data"
    },
    {
     "data": {
      "application/vnd.jupyter.widget-view+json": {
       "model_id": "66332c34ac4242178f7f9a2ae4526c6a",
       "version_major": 2,
       "version_minor": 0
      },
      "text/plain": [
       "Validation: 0it [00:00, ?it/s]"
      ]
     },
     "metadata": {},
     "output_type": "display_data"
    },
    {
     "data": {
      "application/vnd.jupyter.widget-view+json": {
       "model_id": "bbc3f727adb045d59847ee2c589d0086",
       "version_major": 2,
       "version_minor": 0
      },
      "text/plain": [
       "Validation: 0it [00:00, ?it/s]"
      ]
     },
     "metadata": {},
     "output_type": "display_data"
    },
    {
     "data": {
      "application/vnd.jupyter.widget-view+json": {
       "model_id": "8bf4be235b1145e09a4dbb997fafd8bd",
       "version_major": 2,
       "version_minor": 0
      },
      "text/plain": [
       "Validation: 0it [00:00, ?it/s]"
      ]
     },
     "metadata": {},
     "output_type": "display_data"
    },
    {
     "data": {
      "application/vnd.jupyter.widget-view+json": {
       "model_id": "5eb58e3de5bf4953b41b8fd6535dda82",
       "version_major": 2,
       "version_minor": 0
      },
      "text/plain": [
       "Validation: 0it [00:00, ?it/s]"
      ]
     },
     "metadata": {},
     "output_type": "display_data"
    },
    {
     "data": {
      "application/vnd.jupyter.widget-view+json": {
       "model_id": "6eba1046cf39443cb69a8aeb502b2d61",
       "version_major": 2,
       "version_minor": 0
      },
      "text/plain": [
       "Validation: 0it [00:00, ?it/s]"
      ]
     },
     "metadata": {},
     "output_type": "display_data"
    },
    {
     "data": {
      "application/vnd.jupyter.widget-view+json": {
       "model_id": "d72e564040254e6dbb89b0b2e5b61abc",
       "version_major": 2,
       "version_minor": 0
      },
      "text/plain": [
       "Validation: 0it [00:00, ?it/s]"
      ]
     },
     "metadata": {},
     "output_type": "display_data"
    },
    {
     "data": {
      "application/vnd.jupyter.widget-view+json": {
       "model_id": "4ebcb1da61a34b73bb1de6c1322be6db",
       "version_major": 2,
       "version_minor": 0
      },
      "text/plain": [
       "Validation: 0it [00:00, ?it/s]"
      ]
     },
     "metadata": {},
     "output_type": "display_data"
    },
    {
     "data": {
      "application/vnd.jupyter.widget-view+json": {
       "model_id": "d6a69565a5b14ad4bf1a456099004fa0",
       "version_major": 2,
       "version_minor": 0
      },
      "text/plain": [
       "Validation: 0it [00:00, ?it/s]"
      ]
     },
     "metadata": {},
     "output_type": "display_data"
    },
    {
     "name": "stderr",
     "output_type": "stream",
     "text": [
      "`Trainer.fit` stopped: `max_epochs=50` reached.\n"
     ]
    }
   ],
   "source": [
    "trainer.fit(model, dm)"
   ]
  }
 ],
 "metadata": {
  "kernelspec": {
   "display_name": "jump_models",
   "language": "python",
   "name": "python3"
  },
  "language_info": {
   "codemirror_mode": {
    "name": "ipython",
    "version": 3
   },
   "file_extension": ".py",
   "mimetype": "text/x-python",
   "name": "python",
   "nbconvert_exporter": "python",
   "pygments_lexer": "ipython3",
   "version": "3.10.10"
  },
  "orig_nbformat": 4
 },
 "nbformat": 4,
 "nbformat_minor": 2
}
