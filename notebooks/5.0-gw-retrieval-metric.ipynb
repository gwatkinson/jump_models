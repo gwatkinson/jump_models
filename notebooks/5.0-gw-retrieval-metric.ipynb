{
 "cells": [
  {
   "cell_type": "code",
   "execution_count": 137,
   "metadata": {},
   "outputs": [],
   "source": [
    "from torch import tensor\n",
    "from torchmetrics import BootStrapper, RetrievalHitRate, RetrievalMRR\n",
    "from torchmetrics.functional import retrieval_hit_rate"
   ]
  },
  {
   "cell_type": "code",
   "execution_count": 138,
   "metadata": {},
   "outputs": [],
   "source": [
    "hr1 = RetrievalHitRate(k=1)\n",
    "hr2 = RetrievalHitRate(k=2)\n",
    "hr4 = RetrievalHitRate(k=4, empty_target_action=\"neg\")\n",
    "mrr = RetrievalMRR()"
   ]
  },
  {
   "cell_type": "code",
   "execution_count": 131,
   "metadata": {},
   "outputs": [],
   "source": [
    "boothr = BootStrapper(RetrievalHitRate(k=2), num_bootstraps=100, sampling_strategy=\"poisson\")"
   ]
  },
  {
   "cell_type": "code",
   "execution_count": 114,
   "metadata": {},
   "outputs": [],
   "source": [
    "indexes = tensor(\n",
    "    [\n",
    "        0,\n",
    "        0,\n",
    "        0,\n",
    "        1,\n",
    "        1,\n",
    "        1,\n",
    "        1,\n",
    "        2,\n",
    "        2,\n",
    "        2,\n",
    "        3,\n",
    "        3,\n",
    "        3,\n",
    "        3,\n",
    "        4,\n",
    "        4,\n",
    "        4,\n",
    "    ]\n",
    ")\n",
    "preds = tensor(\n",
    "    [\n",
    "        0.9,\n",
    "        0.8,\n",
    "        0.7,\n",
    "        0.9,\n",
    "        0.8,\n",
    "        0.7,\n",
    "        0.6,\n",
    "        0.9,\n",
    "        0.8,\n",
    "        0.7,\n",
    "        0.9,\n",
    "        0.8,\n",
    "        0.7,\n",
    "        0.6,\n",
    "        0.9,\n",
    "        0.8,\n",
    "        0.7,\n",
    "    ]\n",
    ")\n",
    "target = tensor(\n",
    "    [\n",
    "        False,\n",
    "        True,\n",
    "        True,\n",
    "        False,\n",
    "        False,\n",
    "        True,\n",
    "        False,\n",
    "        False,\n",
    "        False,\n",
    "        False,\n",
    "        True,\n",
    "        True,\n",
    "        False,\n",
    "        False,\n",
    "        False,\n",
    "        False,\n",
    "        True,\n",
    "    ]\n",
    ")"
   ]
  },
  {
   "cell_type": "code",
   "execution_count": 82,
   "metadata": {},
   "outputs": [
    {
     "data": {
      "text/plain": [
       "tensor(0.2000)"
      ]
     },
     "execution_count": 82,
     "metadata": {},
     "output_type": "execute_result"
    }
   ],
   "source": [
    "hr1(preds, target, indexes=indexes)"
   ]
  },
  {
   "cell_type": "code",
   "execution_count": 125,
   "metadata": {},
   "outputs": [
    {
     "data": {
      "text/plain": [
       "tensor(0.4000)"
      ]
     },
     "execution_count": 125,
     "metadata": {},
     "output_type": "execute_result"
    }
   ],
   "source": [
    "hr2(preds, target, indexes=indexes)"
   ]
  },
  {
   "cell_type": "code",
   "execution_count": 133,
   "metadata": {},
   "outputs": [
    {
     "data": {
      "text/plain": [
       "tensor(0.8000)"
      ]
     },
     "execution_count": 133,
     "metadata": {},
     "output_type": "execute_result"
    }
   ],
   "source": [
    "hr4(preds, target, indexes=indexes)"
   ]
  },
  {
   "cell_type": "code",
   "execution_count": 141,
   "metadata": {},
   "outputs": [
    {
     "data": {
      "text/plain": [
       "tensor(0.4333)"
      ]
     },
     "execution_count": 141,
     "metadata": {},
     "output_type": "execute_result"
    }
   ],
   "source": [
    "mrr(preds, target, indexes=indexes)"
   ]
  }
 ],
 "metadata": {
  "kernelspec": {
   "display_name": "jump_models",
   "language": "python",
   "name": "python3"
  },
  "language_info": {
   "codemirror_mode": {
    "name": "ipython",
    "version": 3
   },
   "file_extension": ".py",
   "mimetype": "text/x-python",
   "name": "python",
   "nbconvert_exporter": "python",
   "pygments_lexer": "ipython3",
   "version": "3.10.10"
  },
  "orig_nbformat": 4
 },
 "nbformat": 4,
 "nbformat_minor": 2
}
