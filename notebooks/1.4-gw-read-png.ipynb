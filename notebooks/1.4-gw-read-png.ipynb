{
 "cells": [
  {
   "cell_type": "code",
   "execution_count": 26,
   "metadata": {},
   "outputs": [],
   "source": [
    "import os\n",
    "from pathlib import Path\n",
    "\n",
    "import cv2\n",
    "import imageio.v3 as iio\n",
    "import numpy as np\n",
    "import skimage as sk\n",
    "from matplotlib import image\n",
    "from PIL import Image"
   ]
  },
  {
   "cell_type": "code",
   "execution_count": 15,
   "metadata": {},
   "outputs": [],
   "source": [
    "image_dir = Path(\"./data/micro_jump\")\n",
    "files = list(image_dir.glob(\"*.png\"))"
   ]
  },
  {
   "cell_type": "code",
   "execution_count": 17,
   "metadata": {},
   "outputs": [
    {
     "data": {
      "text/plain": [
       "[PosixPath('data/micro_jump/screen_1751_3230851_0.png'),\n",
       " PosixPath('data/micro_jump/screen_1751_3230851_1.png'),\n",
       " PosixPath('data/micro_jump/screen_1751_3230851_2.png'),\n",
       " PosixPath('data/micro_jump/screen_1751_3230851_3.png'),\n",
       " PosixPath('data/micro_jump/screen_1751_3191231_1.png'),\n",
       " PosixPath('data/micro_jump/screen_1751_3230851_4.png')]"
      ]
     },
     "execution_count": 17,
     "metadata": {},
     "output_type": "execute_result"
    }
   ],
   "source": [
    "files"
   ]
  },
  {
   "cell_type": "code",
   "execution_count": 68,
   "metadata": {},
   "outputs": [
    {
     "name": "stdout",
     "output_type": "stream",
     "text": [
      "45.8 ms ± 340 µs per loop (mean ± std. dev. of 7 runs, 10 loops each)\n"
     ]
    }
   ],
   "source": [
    "%%timeit\n",
    "array = np.array([cv2.imread(str(f), cv2.IMREAD_GRAYSCALE) for f in files])\n",
    "\n",
    "# array = np.zeros((len(files), 1080, 1080), dtype=np.uint8)\n",
    "# for i, f in enumerate(files):\n",
    "#     array[i] = cv2.imread(str(f), cv2.IMREAD_GRAYSCALE)"
   ]
  },
  {
   "cell_type": "code",
   "execution_count": 66,
   "metadata": {},
   "outputs": [
    {
     "data": {
      "text/plain": [
       "array([[[ 5,  1,  1, ...,  0,  0,  0],\n",
       "        [ 3,  2,  0, ...,  0,  0,  0],\n",
       "        [ 0,  0,  3, ...,  0,  0,  0],\n",
       "        ...,\n",
       "        [ 0,  2,  1, ..., 15, 19, 23],\n",
       "        [ 2,  1,  0, ...,  6,  9, 12],\n",
       "        [ 1,  1,  0, ...,  3,  4,  7]],\n",
       "\n",
       "       [[38, 22, 11, ...,  0,  0,  0],\n",
       "        [31, 17, 10, ...,  0,  0,  0],\n",
       "        [23, 15,  8, ...,  0,  0,  0],\n",
       "        ...,\n",
       "        [ 1,  1,  1, ..., 47, 44, 43],\n",
       "        [ 1,  1,  1, ..., 45, 47, 43],\n",
       "        [ 1,  0,  0, ..., 40, 46, 47]],\n",
       "\n",
       "       [[49, 35, 19, ...,  0,  0,  0],\n",
       "        [48, 29, 16, ...,  0,  0,  0],\n",
       "        [39, 24, 11, ...,  0,  0,  0],\n",
       "        ...,\n",
       "        [ 1,  1,  1, ..., 61, 62, 56],\n",
       "        [ 2,  1,  1, ..., 62, 66, 62],\n",
       "        [ 2,  1,  0, ..., 59, 58, 61]],\n",
       "\n",
       "       [[19, 19, 14, ...,  0,  0,  0],\n",
       "        [22, 18, 13, ...,  0,  0,  0],\n",
       "        [18, 15, 11, ...,  0,  0,  0],\n",
       "        ...,\n",
       "        [ 4,  4,  3, ..., 40, 37, 42],\n",
       "        [ 3,  3,  2, ..., 38, 39, 36],\n",
       "        [ 3,  2,  3, ..., 33, 36, 35]],\n",
       "\n",
       "       [[88, 90, 93, ...,  0,  0,  0],\n",
       "        [89, 94, 96, ...,  0,  0,  0],\n",
       "        [88, 88, 91, ...,  0,  0,  0],\n",
       "        ...,\n",
       "        [ 0,  0,  0, ...,  0,  0,  0],\n",
       "        [ 0,  0,  0, ...,  0,  0,  0],\n",
       "        [ 0,  0,  0, ...,  0,  0,  0]],\n",
       "\n",
       "       [[ 3,  1,  1, ...,  0,  0,  0],\n",
       "        [ 3,  1,  1, ...,  0,  0,  0],\n",
       "        [ 2,  1,  1, ...,  0,  0,  0],\n",
       "        ...,\n",
       "        [ 0,  0,  0, ...,  5,  4,  3],\n",
       "        [ 0,  0,  0, ...,  5,  5,  3],\n",
       "        [ 0,  0,  0, ...,  4,  4,  4]]], dtype=uint8)"
      ]
     },
     "execution_count": 66,
     "metadata": {},
     "output_type": "execute_result"
    }
   ],
   "source": [
    "array"
   ]
  },
  {
   "cell_type": "code",
   "execution_count": 48,
   "metadata": {},
   "outputs": [
    {
     "name": "stdout",
     "output_type": "stream",
     "text": [
      "52.6 ms ± 175 µs per loop (mean ± std. dev. of 7 runs, 10 loops each)\n"
     ]
    }
   ],
   "source": [
    "%%timeit\n",
    "array = []\n",
    "for f in files:\n",
    "    img = Image.open(f)\n",
    "    img_arr = np.array(img)\n",
    "    array.append(img_arr)\n",
    "array = np.stack(array)"
   ]
  },
  {
   "cell_type": "code",
   "execution_count": 42,
   "metadata": {},
   "outputs": [
    {
     "data": {
      "text/plain": [
       "array([[ 5,  1,  1, ...,  0,  0,  0],\n",
       "       [ 3,  2,  0, ...,  0,  0,  0],\n",
       "       [ 0,  0,  3, ...,  0,  0,  0],\n",
       "       ...,\n",
       "       [ 0,  2,  1, ..., 15, 19, 23],\n",
       "       [ 2,  1,  0, ...,  6,  9, 12],\n",
       "       [ 1,  1,  0, ...,  3,  4,  7]], dtype=uint8)"
      ]
     },
     "execution_count": 42,
     "metadata": {},
     "output_type": "execute_result"
    }
   ],
   "source": [
    "array[0]"
   ]
  },
  {
   "cell_type": "code",
   "execution_count": 37,
   "metadata": {},
   "outputs": [
    {
     "name": "stdout",
     "output_type": "stream",
     "text": [
      "54.6 ms ± 1.26 ms per loop (mean ± std. dev. of 7 runs, 10 loops each)\n"
     ]
    }
   ],
   "source": [
    "%%timeit\n",
    "array = []\n",
    "for f in files:\n",
    "    img = iio.imread(f)\n",
    "    array.append(img)"
   ]
  },
  {
   "cell_type": "code",
   "execution_count": 28,
   "metadata": {},
   "outputs": [
    {
     "data": {
      "text/plain": [
       "array([[ 5,  1,  1, ...,  0,  0,  0],\n",
       "       [ 3,  2,  0, ...,  0,  0,  0],\n",
       "       [ 0,  0,  3, ...,  0,  0,  0],\n",
       "       ...,\n",
       "       [ 0,  2,  1, ..., 15, 19, 23],\n",
       "       [ 2,  1,  0, ...,  6,  9, 12],\n",
       "       [ 1,  1,  0, ...,  3,  4,  7]], dtype=uint8)"
      ]
     },
     "execution_count": 28,
     "metadata": {},
     "output_type": "execute_result"
    }
   ],
   "source": [
    "array[0]"
   ]
  },
  {
   "cell_type": "code",
   "execution_count": 38,
   "metadata": {},
   "outputs": [
    {
     "name": "stdout",
     "output_type": "stream",
     "text": [
      "54.1 ms ± 245 µs per loop (mean ± std. dev. of 7 runs, 10 loops each)\n"
     ]
    }
   ],
   "source": [
    "%%timeit\n",
    "array = []\n",
    "for f in files:\n",
    "    img = sk.io.imread(f)\n",
    "    # img_arr = np.asarray(img)\n",
    "    array.append(img)"
   ]
  },
  {
   "cell_type": "code",
   "execution_count": 32,
   "metadata": {},
   "outputs": [
    {
     "data": {
      "text/plain": [
       "array([[ 5,  1,  1, ...,  0,  0,  0],\n",
       "       [ 3,  2,  0, ...,  0,  0,  0],\n",
       "       [ 0,  0,  3, ...,  0,  0,  0],\n",
       "       ...,\n",
       "       [ 0,  2,  1, ..., 15, 19, 23],\n",
       "       [ 2,  1,  0, ...,  6,  9, 12],\n",
       "       [ 1,  1,  0, ...,  3,  4,  7]], dtype=uint8)"
      ]
     },
     "execution_count": 32,
     "metadata": {},
     "output_type": "execute_result"
    }
   ],
   "source": [
    "array[0]"
   ]
  }
 ],
 "metadata": {
  "kernelspec": {
   "display_name": "jump_models",
   "language": "python",
   "name": "python3"
  },
  "language_info": {
   "codemirror_mode": {
    "name": "ipython",
    "version": 3
   },
   "file_extension": ".py",
   "mimetype": "text/x-python",
   "name": "python",
   "nbconvert_exporter": "python",
   "pygments_lexer": "ipython3",
   "version": "3.10.10"
  },
  "orig_nbformat": 4
 },
 "nbformat": 4,
 "nbformat_minor": 2
}
