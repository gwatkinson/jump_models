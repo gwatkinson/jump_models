{
 "cells": [
  {
   "cell_type": "code",
   "execution_count": 1,
   "metadata": {},
   "outputs": [],
   "source": [
    "%load_ext autoreload\n",
    "%autoreload 2"
   ]
  },
  {
   "cell_type": "code",
   "execution_count": 3,
   "metadata": {},
   "outputs": [],
   "source": [
    "import os\n",
    "import shutil\n",
    "from copy import deepcopy\n",
    "from pathlib import Path\n",
    "\n",
    "import molfeat\n",
    "import pandas as pd\n",
    "import torch\n",
    "import torch.nn as nn\n",
    "import torch.nn.functional as F\n",
    "from hydra import compose, initialize\n",
    "from hydra.core.global_hydra import GlobalHydra\n",
    "from hydra.utils import instantiate\n",
    "from lightning.pytorch.loggers import WandbLogger\n",
    "from omegaconf import DictConfig, OmegaConf, open_dict\n",
    "\n",
    "from src import utils\n",
    "from src.models.jump_cl import BasicJUMPModule\n",
    "from src.modules.collate_fn import default_collate\n",
    "from src.modules.losses.contrastive_losses import InfoNCE, NTXent, RegInfoNCE, RegNTXent\n",
    "from src.utils import instantiate_evaluator_list"
   ]
  },
  {
   "cell_type": "code",
   "execution_count": null,
   "metadata": {},
   "outputs": [],
   "source": [
    "for i in range(1, 4):\n",
    "    if not Path(f\"../cpjump{i}/jump/\").exists():\n",
    "        print(f\"Mounting cpjump{i}...\")\n",
    "        os.system(f\"sshfs bioclust:/projects/cpjump{i}/ ../cpjump{i}\")\n",
    "    else:\n",
    "        print(f\"cpjump{i} already mounted.\")"
   ]
  },
  {
   "cell_type": "markdown",
   "metadata": {},
   "source": [
    "## Load the config and instantiate the model, loggers and evaluators"
   ]
  },
  {
   "cell_type": "code",
   "execution_count": 6,
   "metadata": {},
   "outputs": [],
   "source": [
    "GlobalHydra.instance().clear()"
   ]
  },
  {
   "cell_type": "code",
   "execution_count": 7,
   "metadata": {},
   "outputs": [
    {
     "data": {
      "text/plain": [
       "hydra.initialize()"
      ]
     },
     "execution_count": 7,
     "metadata": {},
     "output_type": "execute_result"
    }
   ],
   "source": [
    "initialize(version_base=None, config_path=f\"../configs/model/criterion\")"
   ]
  },
  {
   "cell_type": "code",
   "execution_count": 8,
   "metadata": {},
   "outputs": [
    {
     "name": "stdout",
     "output_type": "stream",
     "text": [
      "_target_: src.modules.losses.base_losses.CombinationLoss\n",
      "norm: true\n",
      "weights:\n",
      "- 1\n",
      "- 0.25\n",
      "- 1\n",
      "losses:\n",
      "  NTXent:\n",
      "    _target_: src.modules.losses.contrastive_losses.NTXent\n",
      "    norm: true\n",
      "    temperature: 15\n",
      "    return_rank: true\n",
      "    temperature_requires_grad: false\n",
      "    temperature_min: 0\n",
      "    temperature_max: 100\n",
      "  regularization:\n",
      "    _target_: src.modules.losses.base_losses.RegularizationLoss\n",
      "    mse_reg: 1\n",
      "    l1_reg: 0.15\n",
      "    uniformity_reg: 0\n",
      "    variance_reg: 1\n",
      "    covariance_reg: 0.5\n",
      "  autoencoder:\n",
      "    _target_: src.modules.losses.autoencoder_losses.VariationalAutoEncoderLoss\n",
      "    emb_dim: 128\n",
      "    loss: cosine\n",
      "    detach_target: true\n",
      "    beta: 1\n",
      "\n"
     ]
    }
   ],
   "source": [
    "cfg = compose(\n",
    "    config_name=\"ntxent_vae.yaml\",\n",
    "    overrides=[\n",
    "        # \"evaluate=true\",\n",
    "        # \"eval=retrieval\",\n",
    "        # \"paths.projects_dir=..\",\n",
    "        # f\"paths.output_dir=../cpjump1/jump/logs/train/multiruns/{run}\",\n",
    "        # # \"experiment=fp_big\",\n",
    "        # \"data.batch_size=4\",\n",
    "        # # \"model/molecule_encoder=gin_masking.yaml\",\n",
    "        # \"trainer.devices=1\",\n",
    "        # # \"eval.moa_image_task.datamodule.data_root_dir=../\",\n",
    "    ],\n",
    ")\n",
    "print(OmegaConf.to_yaml(cfg))"
   ]
  },
  {
   "cell_type": "code",
   "execution_count": 10,
   "metadata": {},
   "outputs": [],
   "source": [
    "criterion = instantiate(cfg)"
   ]
  },
  {
   "cell_type": "code",
   "execution_count": 12,
   "metadata": {},
   "outputs": [
    {
     "data": {
      "text/plain": [
       "{'NTXent': NTXent(), 'regularization': RegularizationLoss(\n",
       "  (mse_loss): MSELoss()\n",
       "  (l1_loss): L1Loss()\n",
       "), 'autoencoder': VariationalAutoEncoderLoss(\n",
       "  (fc_mu): Linear(in_features=128, out_features=128, bias=True)\n",
       "  (fc_var): Linear(in_features=128, out_features=128, bias=True)\n",
       "  (decoder): Sequential(\n",
       "    (0): Linear(in_features=128, out_features=128, bias=True)\n",
       "    (1): BatchNorm1d(128, eps=1e-05, momentum=0.1, affine=True, track_running_stats=True)\n",
       "    (2): ReLU()\n",
       "    (3): Linear(in_features=128, out_features=128, bias=True)\n",
       "  )\n",
       ")}"
      ]
     },
     "execution_count": 12,
     "metadata": {},
     "output_type": "execute_result"
    }
   ],
   "source": [
    "criterion.losses"
   ]
  }
 ],
 "metadata": {
  "kernelspec": {
   "display_name": "jump_models",
   "language": "python",
   "name": "python3"
  },
  "language_info": {
   "codemirror_mode": {
    "name": "ipython",
    "version": 3
   },
   "file_extension": ".py",
   "mimetype": "text/x-python",
   "name": "python",
   "nbconvert_exporter": "python",
   "pygments_lexer": "ipython3",
   "version": "3.10.10"
  },
  "orig_nbformat": 4
 },
 "nbformat": 4,
 "nbformat_minor": 2
}
